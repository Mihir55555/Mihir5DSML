{
 "cells": [
  {
   "cell_type": "markdown",
   "id": "e56cbb29-d2cb-49ba-a47e-612239dee0b9",
   "metadata": {},
   "source": [
    "Define a node For linked list"
   ]
  },
  {
   "cell_type": "code",
   "execution_count": 19,
   "id": "800f14e6-61ea-4aa9-b402-74507d55af54",
   "metadata": {},
   "outputs": [],
   "source": [
    "class Node :\n",
    "    \n",
    "    def __init__(self,Data=None,Next=None):\n",
    "        self.Data = Data\n",
    "        self.Next = Next\n",
    "        \n",
    "    #Method to set the data value\n",
    "    \n",
    "    def setData(self,Data):\n",
    "        self.Data = Data\n",
    "    \n",
    "    #Method to get the data value\n",
    "    \n",
    "    def getData(self):\n",
    "        return self.Data\n",
    "    \n",
    "    #Method to set the next value\n",
    "    \n",
    "    def setNext(self,Next):\n",
    "        self.Next = Next\n",
    "   \n",
    "    #Method to get the next value\n",
    "    \n",
    "    def getNext(self):\n",
    "        return self.Next"
   ]
  },
  {
   "cell_type": "code",
   "execution_count": 20,
   "id": "968d1dab-9e00-4890-8d14-d852fc20ee26",
   "metadata": {},
   "outputs": [
    {
     "name": "stdout",
     "output_type": "stream",
     "text": [
      "1==>2==>3==>4==>"
     ]
    }
   ],
   "source": [
    "head =Node(1)\n",
    "node2=Node(2)\n",
    "node3=Node(3)\n",
    "node4=Node(4)\n",
    "# Create linkage\n",
    "head.setNext(node2)\n",
    "node2.setNext(node3)\n",
    "node3.setNext(node4)\n",
    "\n",
    "# Traverse the linked list\n",
    "def Traverse(head):\n",
    "    temp =head\n",
    "    while(temp):\n",
    "        print(temp.getData(),end=\"==>\")\n",
    "        temp=temp.getNext() \n",
    "        \n",
    "Traverse(head)"
   ]
  },
  {
   "cell_type": "code",
   "execution_count": 21,
   "id": "0cb137ee-7871-47ab-a19c-a46cefd7e1a2",
   "metadata": {},
   "outputs": [
    {
     "data": {
      "text/plain": [
       "4"
      ]
     },
     "execution_count": 21,
     "metadata": {},
     "output_type": "execute_result"
    }
   ],
   "source": [
    "def length(head):\n",
    "    temp =head \n",
    "    len_curr =0\n",
    "    while(temp):\n",
    "        len_curr +=1\n",
    "        temp =temp.getNext()\n",
    "    return len_curr\n",
    "\n",
    "length(head)   "
   ]
  },
  {
   "cell_type": "markdown",
   "id": "c6cb97d1-3440-413a-9ad3-3716a2ed92b5",
   "metadata": {},
   "source": [
    "1.Define a doubly linked list  [ Will be done in the class]"
   ]
  },
  {
   "cell_type": "code",
   "execution_count": 22,
   "id": "174e5197-f0fe-4b5b-8ed0-f857321c353a",
   "metadata": {},
   "outputs": [],
   "source": [
    "class DLNode :\n",
    "    def __init__(self ,data ,Next=None,Prev=None):\n",
    "        self.__data =data\n",
    "        self.__Next =Next\n",
    "        self.__Prev =Prev\n",
    "        \n",
    "    def setData(self,data):\n",
    "        self.__data =data\n",
    "    def getData(self):\n",
    "        return self.__data\n",
    "    \n",
    "    def setNext(self,Next):\n",
    "        self.__Next =Next\n",
    "    def getNext(self):\n",
    "        return self.__Next\n",
    "    \n",
    "    def setPrev(self,Prev):\n",
    "        self.__Prev =Prev\n",
    "    def getPrev(self):\n",
    "        return self.__Prev"
   ]
  },
  {
   "cell_type": "code",
   "execution_count": 23,
   "id": "62f8f9e7-e222-4254-9b9e-ef9d51185036",
   "metadata": {},
   "outputs": [],
   "source": [
    "# Create a linkage\n",
    "head =DLNode(1)\n",
    "node2=DLNode(2)\n",
    "node3=DLNode(3)\n",
    "node4=DLNode(4)\n",
    "\n",
    "head.setNext(node2)\n",
    "node2.setPrev(head)\n",
    "node2.setNext(node3)\n",
    "node3.setPrev(node2)\n",
    "node3.setNext(node4)\n",
    "node4.setPrev(node3)"
   ]
  },
  {
   "cell_type": "code",
   "execution_count": 24,
   "id": "31f654e6-f149-4fb0-a006-ed82067f6b44",
   "metadata": {},
   "outputs": [
    {
     "name": "stdout",
     "output_type": "stream",
     "text": [
      "1<==>2<==>3<==>4<==>"
     ]
    }
   ],
   "source": [
    "#Traverse the Doubly LL\n",
    "def DLtraverse(head):\n",
    "    temp =head\n",
    "    while(temp != None):\n",
    "        print(temp.getData(),end=\"<==>\")\n",
    "        temp =temp.getNext()\n",
    "        \n",
    "        \n",
    "##Driver code       \n",
    "DLtraverse(head)"
   ]
  },
  {
   "cell_type": "markdown",
   "id": "47a98db6-ce3c-4b77-a5c0-188ed1742f74",
   "metadata": {},
   "source": [
    "2. Write a function to reverse linked list in place\n",
    "\n"
   ]
  },
  {
   "cell_type": "code",
   "execution_count": 25,
   "id": "93be6cdf-beeb-4694-9868-a5638781d38c",
   "metadata": {},
   "outputs": [],
   "source": [
    "def Reverse_LL(head):\n",
    "    prev =None\n",
    "    curr =head\n",
    "    while(curr):\n",
    "        next_node =curr.getNext()\n",
    "        curr.setNext(prev)\n",
    "        prev=curr\n",
    "        curr =next_node\n",
    "    return prev"
   ]
  },
  {
   "cell_type": "code",
   "execution_count": 26,
   "id": "18821458-77fe-4805-9fd6-6114a962a0b3",
   "metadata": {},
   "outputs": [
    {
     "name": "stdout",
     "output_type": "stream",
     "text": [
      "4==>3==>2==>1==>"
     ]
    }
   ],
   "source": [
    "# Create a LL\n",
    "head =Node(1)\n",
    "node2=Node(2)\n",
    "node3=Node(3)\n",
    "node4=Node(4)\n",
    "\n",
    "## Create Linkage\n",
    "head.setNext(node2)\n",
    "node2.setNext(node3)\n",
    "node3.setNext(node4)\n",
    "\n",
    "##Traverse the LL\n",
    "# Traverse(head)\n",
    "\n",
    "## Reverse the link list\n",
    "Reverse = Reverse_LL(head)\n",
    "while(Reverse):\n",
    "    print(Reverse.getData(),end=\"==>\")\n",
    "    Reverse =Reverse.getNext()"
   ]
  },
  {
   "cell_type": "markdown",
   "id": "d7bf3317-5d04-41e0-be41-9f47f5f1c42d",
   "metadata": {},
   "source": [
    "3. Detect the cylce in linked list"
   ]
  },
  {
   "cell_type": "code",
   "execution_count": 27,
   "id": "d96a5a75-6bf2-4770-9102-66344cd2c096",
   "metadata": {},
   "outputs": [],
   "source": [
    "def isCyclePresent(head):\n",
    "    slow =head\n",
    "    fast =head\n",
    "    while(fast and fast.getNext()):\n",
    "        slow =slow.getNext()\n",
    "        fast =fast.getNext().getNext()\n",
    "        if(fast and slow.getData() == fast.getData()):\n",
    "            return True\n",
    "    return False"
   ]
  },
  {
   "cell_type": "code",
   "execution_count": 28,
   "id": "f4c4edb3-8b1f-4138-93f9-d611741ed7c8",
   "metadata": {},
   "outputs": [
    {
     "data": {
      "text/plain": [
       "True"
      ]
     },
     "execution_count": 28,
     "metadata": {},
     "output_type": "execute_result"
    }
   ],
   "source": [
    "# create a link\n",
    "head =Node(1)\n",
    "node2 =Node(2)\n",
    "node3 =Node(3)\n",
    "node4 =Node(4)\n",
    "node5 =Node(5)\n",
    "# Create linkage\n",
    "head.setNext(node2)\n",
    "node2.setNext(node3)\n",
    "node3.setNext(node4)\n",
    "node4.setNext(node3)\n",
    "\n",
    "## Diver code\n",
    "isCyclePresent(head)"
   ]
  },
  {
   "cell_type": "markdown",
   "id": "35cea34f-e0d6-4c0e-94b9-05bd590dd75d",
   "metadata": {},
   "source": [
    "## 4: Merge two sorted linked lists into one sorted linked list.\n",
    "\n",
    "1->3->5->6->null and 2->4->6->8->null should be merged to make\n",
    "\n",
    "1->2->3->4->5->6->7->8"
   ]
  },
  {
   "cell_type": "code",
   "execution_count": 29,
   "id": "840c2d66-baaa-4680-a4a9-c6d89ebbe924",
   "metadata": {},
   "outputs": [
    {
     "name": "stdout",
     "output_type": "stream",
     "text": [
      "1-->2-->3-->4-->5-->6-->7-->8-->"
     ]
    }
   ],
   "source": [
    "def merge_list(head1,head2):\n",
    "    dummy_head = Node()\n",
    "    tail = dummy_head\n",
    "    \n",
    "    while head1 and head2:\n",
    "        if head1.getData() <= head2.getData(): \n",
    "            tail.setNext(head1)\n",
    "            head1 = head1.getNext()\n",
    "            \n",
    "        else:\n",
    "            tail.setNext(head2)\n",
    "            head2 = head2.getNext()\n",
    "        tail = tail.getNext()\n",
    "            \n",
    "    tail.setNext(head1 or head2)\n",
    "    return dummy_head.getNext()\n",
    "\n",
    "# Linked List 1\n",
    "head1 = Node(1)\n",
    "node3 = Node(3)\n",
    "node5 = Node(5)\n",
    "node7 = Node(7)\n",
    "\n",
    "head1.setNext(node3)\n",
    "node3.setNext(node5)\n",
    "node5.setNext(node7)\n",
    "\n",
    "# Linked list 2\n",
    "head2 = Node(2)\n",
    "node4 = Node(4)\n",
    "node6 = Node(6)\n",
    "node8 = Node(8)\n",
    "\n",
    "head2.setNext(node4)\n",
    "node4.setNext(node6)\n",
    "node6.setNext(node8)\n",
    "\n",
    "merge_lists = merge_list(head1,head2)\n",
    "while merge_lists:\n",
    "    print(merge_lists.getData(),end='-->')\n",
    "    merge_lists = merge_lists.getNext()"
   ]
  },
  {
   "cell_type": "markdown",
   "id": "65d4fcaa-e9e1-4ee8-a7f3-ac811aae39d5",
   "metadata": {},
   "source": [
    "## 5.Write a function to remove nth node from the end in a linked list.\n",
    "\n",
    "Input: 1 -> 2 -> 3 -> 4 -> 5 -> 6 , removing 2nd node from end will return 1->2->3->4->6"
   ]
  },
  {
   "cell_type": "code",
   "execution_count": 30,
   "id": "ac28d5b8-f517-4f5e-8cf3-3ba5957a2c58",
   "metadata": {},
   "outputs": [
    {
     "name": "stdout",
     "output_type": "stream",
     "text": [
      "original linked list\n",
      "1-->2-->3-->4-->5-->6-->\n",
      "after removing nth node\n",
      "1-->2-->3-->4-->6-->"
     ]
    }
   ],
   "source": [
    "def remove(head,n):\n",
    "    # k is valid or not\n",
    "    if(n<0 or n>=length(head) or not head):\n",
    "        return head\n",
    "    \n",
    "    # removing first element\n",
    "    if(n==0):\n",
    "        head=head.getNext()\n",
    "    \n",
    "    # removing nyh position element\n",
    "    else:\n",
    "        i=0\n",
    "        temp = head\n",
    "        while(i<n-1):\n",
    "            temp = temp.getNext()\n",
    "            i+=1\n",
    "            \n",
    "        temp.setNext(temp.getNext().getNext())\n",
    "        \n",
    "    return head   \n",
    "\n",
    "head = Node(1)\n",
    "node2 = Node(2)\n",
    "node3 = Node(3)\n",
    "node4 = Node(4)\n",
    "node5 = Node(5)\n",
    "node6 = Node(6)\n",
    "\n",
    "head.setNext(node2)\n",
    "node2.setNext(node3)\n",
    "node3.setNext(node4)\n",
    "node4.setNext(node5)\n",
    "node5.setNext(node6)\n",
    "\n",
    "def traverse(head):\n",
    "    temp=head\n",
    "    while(temp):\n",
    "        print(temp.getData(), end=\"-->\")\n",
    "        temp = temp.getNext() #jump to the next node\n",
    "\n",
    "\n",
    "def length(head):\n",
    "    leng = 0\n",
    "    while(head):\n",
    "        leng +=1\n",
    "        head = head.getNext()\n",
    "    return leng\n",
    "\n",
    "length(head)\n",
    "\n",
    "print(\"original linked list\")\n",
    "traverse(head)\n",
    "print()\n",
    "remove_nth_node = remove(head,4)\n",
    "print(\"after removing nth node\")\n",
    "while remove_nth_node :\n",
    "    print(remove_nth_node.getData(),end=\"-->\")\n",
    "    remove_nth_node =remove_nth_node.getNext()"
   ]
  },
  {
   "cell_type": "markdown",
   "id": "915f9b1f-1e70-4ba2-968a-f11ed3daabe2",
   "metadata": {},
   "source": [
    "6.Remove Duplicate from sorted linked list\n",
    "\n",
    "1->2->3->3->4->4->4->5 should be changed to 1->2->3->4->5"
   ]
  },
  {
   "cell_type": "code",
   "execution_count": 31,
   "id": "4f521b57-349e-4959-8fc3-4d504f5f538e",
   "metadata": {},
   "outputs": [],
   "source": [
    "head =Node(1)\n",
    "node2 =Node(2)\n",
    "node3 =Node(3)\n",
    "node4 =Node(3)\n",
    "node5 =Node(4)\n",
    "node6 =Node(4)\n",
    "node7= Node(4)\n",
    "node8 =Node(5)\n",
    "# create a linkage\n",
    "head.setNext(node2)\n",
    "node2.setNext(node3)\n",
    "node3.setNext(node4)\n",
    "node4.setNext(node5)\n",
    "node5.setNext(node6)\n",
    "node6.setNext(node7)\n",
    "node7.setNext(node8)\n",
    "\n",
    "def RemoveDuplicate(head):\n",
    "    temp =head\n",
    "    while(temp != None and temp.getNext()!= None):\n",
    "        if(temp.getData() == temp.getNext().getData()):\n",
    "            temp.setNext(temp.getNext().getNext())\n",
    "        else:\n",
    "            temp =temp.getNext()\n",
    "        \n",
    "    return head"
   ]
  },
  {
   "cell_type": "code",
   "execution_count": 32,
   "id": "3384b864-4649-4fbe-987f-cf636c8d784a",
   "metadata": {},
   "outputs": [
    {
     "name": "stdout",
     "output_type": "stream",
     "text": [
      "1==>2==>3==>4==>5==>"
     ]
    }
   ],
   "source": [
    "Remove =RemoveDuplicate(head)\n",
    "while Remove :\n",
    "    print(Remove.getData(),end=\"==>\")\n",
    "    Remove =Remove.getNext()"
   ]
  },
  {
   "cell_type": "markdown",
   "id": "5c7375da-1537-47e4-a693-f1d67df9f971",
   "metadata": {},
   "source": [
    "7 .Find the intersection of two link list\n",
    "\n",
    "1->2->3->4->8->6->9 5->1->6->7 , intersection 1->6"
   ]
  },
  {
   "cell_type": "code",
   "execution_count": 33,
   "id": "75975afe-a6f1-4dc1-849b-15289c296e10",
   "metadata": {},
   "outputs": [
    {
     "name": "stdout",
     "output_type": "stream",
     "text": [
      "1==>2==>3==>4==>8==>6==>9==>None\n",
      "5==>1==>6==>7==>None\n"
     ]
    }
   ],
   "source": [
    "## Linked List-1\n",
    "\n",
    "head1 =Node(1)\n",
    "node2 =Node(2)\n",
    "node3 =Node(3)\n",
    "node4 =Node(4)\n",
    "node8 =Node(8)\n",
    "node6 =Node(6)\n",
    "node9 =Node(9)\n",
    "\n",
    "# Linked List -2\n",
    "head2 =Node(5)\n",
    "node1 =Node(1)\n",
    "node10 =Node(6)\n",
    "node7 =Node(7)\n",
    "\n",
    "# Create linkage of link list-1\n",
    "head1.setNext(node2)\n",
    "node2.setNext(node3)\n",
    "node3.setNext(node4)\n",
    "node4.setNext(node8)\n",
    "node8.setNext(node6)\n",
    "node6.setNext(node9)\n",
    "\n",
    "# Create linkage of link list-2\n",
    "head2.setNext(node1)\n",
    "node1.setNext(node10)\n",
    "node10.setNext(node7)\n",
    "print(Traverse(head1))\n",
    "\n",
    "print(Traverse(head2))"
   ]
  },
  {
   "cell_type": "code",
   "execution_count": 34,
   "id": "02564f73-8d25-4d9c-8ae5-72c7707c7feb",
   "metadata": {},
   "outputs": [
    {
     "name": "stdout",
     "output_type": "stream",
     "text": [
      "1==>6==>7==>"
     ]
    }
   ],
   "source": [
    "def Intersection_Points(head1 ,head2):\n",
    "    dummy_Node =Node()\n",
    "    tail =dummy_Node\n",
    "    while(head2 != None):\n",
    "        temp =head1\n",
    "        while(temp != None):\n",
    "            if(temp.getData() == head2.getData()):\n",
    "                tail.setNext(head2)\n",
    "                tail =tail.getNext()\n",
    "            temp =temp.getNext()\n",
    "        head2 =head2.getNext()       \n",
    "    return dummy_Node.getNext()\n",
    "\n",
    "\n",
    "inter =Intersection_Points(head1,head2)\n",
    "while(inter):\n",
    "    print(inter.getData(),end=\"==>\")\n",
    "    inter =inter.getNext()"
   ]
  },
  {
   "cell_type": "markdown",
   "id": "cf92547f-4037-4a24-91d3-15f8b37e4d20",
   "metadata": {},
   "source": [
    "8. Rotate a linked list by k positions to the right.\n",
    "\n",
    " 1->2->3->4->8->6->9 , after rotating for 2 times becomes , 3->4->8->6->9->1->2"
   ]
  },
  {
   "cell_type": "code",
   "execution_count": 35,
   "id": "01c85922-fb89-4382-912f-34e3a46ad86d",
   "metadata": {},
   "outputs": [
    {
     "name": "stdout",
     "output_type": "stream",
     "text": [
      "Original linked list:\n",
      "1 2 3 4 8 6 9 \n",
      "Linked list after rotating by 2:\n",
      "3 4 8 6 9 1 2 \n"
     ]
    }
   ],
   "source": [
    "class Node:\n",
    "    def __init__(self, data=None):\n",
    "        self.data = data\n",
    "        self.next = None\n",
    "\n",
    "class LinkedList:\n",
    "    def __init__(self):\n",
    "        self.head = None\n",
    "\n",
    "    def append(self, data):\n",
    "        new_node = Node(data)\n",
    "        if not self.head:\n",
    "            self.head = new_node\n",
    "            return\n",
    "        last_node = self.head\n",
    "        while last_node.next:\n",
    "            last_node = last_node.next\n",
    "        last_node.next = new_node\n",
    "\n",
    "    def rotate(self, k):\n",
    "        if not self.head or k == 0:\n",
    "            return\n",
    "        \n",
    "        current = self.head\n",
    "        count = 1\n",
    "        while count < k and current:\n",
    "            current = current.next\n",
    "            count += 1\n",
    "\n",
    "        if not current:\n",
    "            return\n",
    "        \n",
    "        kth_node = current\n",
    "\n",
    "        while current.next:\n",
    "            current = current.next\n",
    "\n",
    "        current.next = self.head\n",
    "        self.head = kth_node.next\n",
    "        kth_node.next = None\n",
    "\n",
    "    def print_list(self):\n",
    "        current = self.head\n",
    "        while current:\n",
    "            print(current.data, end=\" \")\n",
    "            current = current.next\n",
    "        print()\n",
    "\n",
    "# Example usage\n",
    "llist = LinkedList()\n",
    "llist.append(1)\n",
    "llist.append(2)\n",
    "llist.append(3)\n",
    "llist.append(4)\n",
    "llist.append(8)\n",
    "llist.append(6)\n",
    "llist.append(9)\n",
    "\n",
    "print(\"Original linked list:\")\n",
    "llist.print_list()\n",
    "\n",
    "# Rotate by 2\n",
    "llist.rotate(2)\n",
    "print(\"Linked list after rotating by 2:\")\n",
    "llist.print_list()"
   ]
  },
  {
   "cell_type": "markdown",
   "id": "4421f600-ee37-48a6-8f41-d84ea217588d",
   "metadata": {},
   "source": [
    "9. Add Two Numbers Represented by LinkedLists:\n",
    "\n",
    "Given two non-empty linked lists representing two non-negative integers, where the digits are stored in\n",
    "reverse order, add the two numCers and return it as a linked list."
   ]
  },
  {
   "cell_type": "code",
   "execution_count": 36,
   "id": "e374f218-a3f6-41d1-ba6d-178c5ff4e311",
   "metadata": {},
   "outputs": [],
   "source": [
    "class Node :\n",
    "    \n",
    "    def __init__(self,data=None,Next=None):\n",
    "        self.data =data\n",
    "        self.Next =Next\n",
    "        \n",
    "    def setData(self,data):\n",
    "        self.data =data\n",
    "        \n",
    "    def getData(self):\n",
    "        return self.data\n",
    "    \n",
    "    def setNext(self,Next):\n",
    "        self.Next =Next\n",
    "        \n",
    "    def getNext(self):\n",
    "        return self.Next"
   ]
  },
  {
   "cell_type": "code",
   "execution_count": 37,
   "id": "85552e33-64f7-48c4-ae36-6010562fcbd5",
   "metadata": {},
   "outputs": [
    {
     "name": "stdout",
     "output_type": "stream",
     "text": [
      "1 --> 2 --> 4 --> "
     ]
    }
   ],
   "source": [
    "head = Node(1)\n",
    "node2 =Node(2)\n",
    "node3 =Node(3)\n",
    "# Create linkage \n",
    "head.setNext(node2)\n",
    "node2.setNext(node3)\n",
    "\n",
    "def traverse(head):\n",
    "    temp =head\n",
    "    while(temp):\n",
    "        print(temp.getData(),end=\"==>\")\n",
    "        temp =temp.getNext()\n",
    "\n",
    "def length(head):\n",
    "    temp = head\n",
    "    countLength= 0\n",
    "    while(temp):\n",
    "        countLength +=1\n",
    "        temp =temp.getNext()\n",
    "    return countLength \n",
    "\n",
    "def NonNegative(head):\n",
    "    if(head ==None and head.getNext() == None):\n",
    "        return \n",
    "    \n",
    "    temp = head\n",
    "    i =1\n",
    "    while(i < length(head)):\n",
    "        temp =temp.getNext()\n",
    "        i +=1\n",
    "    \n",
    "    curVal = temp.getData()\n",
    "    temp.setData(curVal+1)\n",
    "    return head\n",
    "\n",
    "num = NonNegative(head)\n",
    "while(num):\n",
    "    print(num.getData(),end=\" --> \")\n",
    "    num =num.getNext()"
   ]
  },
  {
   "cell_type": "markdown",
   "id": "6753e8cf-0c16-471b-85d8-036b5efa9820",
   "metadata": {},
   "source": [
    "10 .clone a link list with next and randon pointer \n",
    "\n",
    "Given a linked list of size N where each node has two links: one pointer points to the next node and the second pointer points to any node in the list. The task is to create a clone of this linked list in O(N) time.\n",
    "\n",
    "Note: The pointer pointing to the next node is ‘next‘ pointer and the one pointing to an arCitrary node is called ‘arCit’ pointer as it can point to any arCitrary node in the linked list."
   ]
  },
  {
   "cell_type": "code",
   "execution_count": 38,
   "id": "b8507409-d2cd-49b0-adae-d21b7c4e290d",
   "metadata": {},
   "outputs": [
    {
     "name": "stdout",
     "output_type": "stream",
     "text": [
      "Linked List with next Pointer:\n",
      "1 -> 2 -> 3 -> 4 -> None\n",
      "Linked List that Pointing Random Pointer: \n",
      "Data: 1\n",
      "Random: 3\n",
      "--------\n",
      "Data: 2\n",
      "Random: 1\n",
      "--------\n",
      "Data: 3\n",
      "Random: 4\n",
      "--------\n",
      "Data: 4\n",
      "Random: 2\n",
      "--------\n"
     ]
    }
   ],
   "source": [
    "class Node:\n",
    "    def __init__(self, data):\n",
    "        self.data = data\n",
    "        self.next = None\n",
    "        self.random = None\n",
    "\n",
    "def clone_linked_list(head):\n",
    "    if not head:\n",
    "        return None\n",
    "    \n",
    "    # Step 1: Create new nodes and insert them after original nodes\n",
    "    current = head\n",
    "    while current:\n",
    "        new_node = Node(current.data)\n",
    "        new_node.next = current.next\n",
    "        current.next = new_node\n",
    "        current = new_node.next\n",
    "    \n",
    "    # Step 2: Set next pointers of newly created nodes\n",
    "    current = head\n",
    "    while current:\n",
    "        if current.next:\n",
    "            current.next.random = current.random.next if current.random else None\n",
    "        current = current.next.next\n",
    "    \n",
    "    # Step 3: Separate the cloned list from the original list\n",
    "    original_head = head\n",
    "    clone_head = head.next\n",
    "    clone_current = clone_head\n",
    "    \n",
    "    while original_head:\n",
    "        original_head.next = original_head.next.next\n",
    "        clone_current.next = clone_current.next.next if clone_current.next else None\n",
    "        \n",
    "        original_head = original_head.next\n",
    "        clone_current = clone_current.next\n",
    "    \n",
    "    return clone_head\n",
    "\n",
    "def printList(node):\n",
    "    while node:\n",
    "        print(node.data, end=\" -> \")\n",
    "        node = node.next\n",
    "    print(\"None\")\n",
    "\n",
    "\n",
    "# Create the original linked list\n",
    "head = Node(1)\n",
    "head.next = Node(2)\n",
    "head.next.next = Node(3)\n",
    "head.next.next.next = Node(4)\n",
    "\n",
    "# Set random pointers\n",
    "head.random = head.next.next  # 1 -> 3\n",
    "head.next.random = head  # 2 -> 1\n",
    "head.next.next.random = head.next.next.next  # 3 -> 4\n",
    "head.next.next.next.random = head.next  # 4 -> 2\n",
    "\n",
    "print('Linked List with next Pointer:')\n",
    "printList(head)\n",
    "\n",
    "# Clone the linked list\n",
    "cloned_head = clone_linked_list(head)\n",
    "print('Linked List that Pointing Random Pointer: ')\n",
    "\n",
    "# Print the cloned linked list\n",
    "while cloned_head:\n",
    "    print(\"Data:\", cloned_head.data)\n",
    "    print(\"Random:\", cloned_head.random.data if cloned_head.random else None)\n",
    "    print(\"--------\")\n",
    "    cloned_head = cloned_head.next"
   ]
  }
 ],
 "metadata": {
  "kernelspec": {
   "display_name": "Python 3 (ipykernel)",
   "language": "python",
   "name": "python3"
  },
  "language_info": {
   "codemirror_mode": {
    "name": "ipython",
    "version": 3
   },
   "file_extension": ".py",
   "mimetype": "text/x-python",
   "name": "python",
   "nbconvert_exporter": "python",
   "pygments_lexer": "ipython3",
   "version": "3.10.8"
  }
 },
 "nbformat": 4,
 "nbformat_minor": 5
}
