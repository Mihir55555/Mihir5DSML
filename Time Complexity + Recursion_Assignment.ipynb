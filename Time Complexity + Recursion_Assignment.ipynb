{
 "cells": [
  {
   "cell_type": "markdown",
   "id": "ab1d9ae2-992c-49ce-aad2-90e72273108f",
   "metadata": {},
   "source": [
    "Find time complexity of below code blocks :"
   ]
  },
  {
   "cell_type": "markdown",
   "id": "acb3d1d4-572f-4b83-9623-a3b447f96793",
   "metadata": {},
   "source": [
    "Problem 1 :"
   ]
  },
  {
   "cell_type": "code",
   "execution_count": 2,
   "id": "9778040d-0c9f-46bd-a119-0426f87cda6d",
   "metadata": {},
   "outputs": [],
   "source": [
    "def quicksort(arr):\n",
    "\n",
    "    if len(arr) <= 1:\n",
    "\n",
    "        return arr\n",
    "\n",
    "    pivot = arr[len(arr) // 2]\n",
    "\n",
    "    left = [x for x in arr if x < pivot]\n",
    "\n",
    "    middle = [x for x in arr if x == pivot]\n",
    "\n",
    "    right = [x for x in arr if x > pivot]\n",
    "\n",
    "    return quicksort(left) + middle + quicksort(right)"
   ]
  },
  {
   "cell_type": "markdown",
   "id": "812957b9-adb9-4454-ab8d-537ea00fdcbc",
   "metadata": {},
   "source": [
    "Ans :\n",
    "\n",
    "Time Complexity of these code is `O(nlog n)`\n",
    "\n",
    "Space complexity is `O(n)`"
   ]
  },
  {
   "cell_type": "markdown",
   "id": "2b8ce339-cf12-4d66-a132-b8c362af77f3",
   "metadata": {},
   "source": [
    "Problem 2 :"
   ]
  },
  {
   "cell_type": "code",
   "execution_count": 5,
   "id": "f15274ba-aa51-473b-a29b-3df55dbc831c",
   "metadata": {},
   "outputs": [],
   "source": [
    "def nested_loop_example(matrix):\n",
    "\n",
    "    rows, cols = len(matrix), len(matrix[0])\n",
    "\n",
    "    total = 0\n",
    "\n",
    "    for i in range(rows):\n",
    "\n",
    "        for j in range(cols):\n",
    "\n",
    "            total += matrix[i][j]\n",
    "\n",
    "    return total"
   ]
  },
  {
   "cell_type": "markdown",
   "id": "7754b78a-ba96-4400-a961-7ee8c514d847",
   "metadata": {},
   "source": [
    "Ans :\n",
    "\n",
    "Time Complexity is O(n**2)\n",
    "\n",
    "space complexity  is O(n)"
   ]
  },
  {
   "cell_type": "markdown",
   "id": "4dc74393-9d0a-4d34-8ec9-bae91fcc0a92",
   "metadata": {},
   "source": [
    "Problem 3 :"
   ]
  },
  {
   "cell_type": "code",
   "execution_count": 6,
   "id": "7d8ec2d2-f90a-4933-8b8d-abdb6061f126",
   "metadata": {},
   "outputs": [],
   "source": [
    "def example_function(arr):\n",
    "\n",
    "    result = 0\n",
    "\n",
    "    for element in arr:\n",
    "\n",
    "        result += element\n",
    "\n",
    "    return result"
   ]
  },
  {
   "cell_type": "markdown",
   "id": "101e6cf5-cc88-4090-a8e5-9d3b11338400",
   "metadata": {},
   "source": [
    "Ans :\n",
    "\n",
    "Time Complexity is O(n)\n",
    "\n",
    "space complexity is O(1)"
   ]
  },
  {
   "cell_type": "markdown",
   "id": "a6f2158f-772a-4d8f-94cf-9698f8009db4",
   "metadata": {},
   "source": [
    "Problem 4 :"
   ]
  },
  {
   "cell_type": "code",
   "execution_count": 9,
   "id": "de9fb728-c816-4eb3-a3a4-8e5c2a447805",
   "metadata": {},
   "outputs": [],
   "source": [
    "def longest_increasing_subsequence(nums):\n",
    "    n = len(nums)\n",
    "    lis = [1] * n\n",
    "    for i in range(1, n):\n",
    "        for j in range(0, i):\n",
    "            if nums[i] > nums[j] and lis[i] < lis[j] + 1:\n",
    "                lis[i] = lis[j] + 1\n",
    "    return max(lis)"
   ]
  },
  {
   "cell_type": "markdown",
   "id": "0f147077-502a-4d41-b7de-196c2b09254d",
   "metadata": {},
   "source": [
    "Ans :\n",
    "\n",
    "Time complexity is O(n)\n",
    "\n",
    "space Complexity is O(1)"
   ]
  },
  {
   "cell_type": "markdown",
   "id": "0a3942e0-03bb-4f3b-84e2-a45d2a5d8b3e",
   "metadata": {},
   "source": [
    "Problem 5 :"
   ]
  },
  {
   "cell_type": "code",
   "execution_count": 8,
   "id": "2abb6f6c-30d8-489b-8a4d-ec11beaf312a",
   "metadata": {},
   "outputs": [],
   "source": [
    "def mysterious_function(arr):\n",
    "\n",
    "    n = len(arr)\n",
    "\n",
    "    result = 0\n",
    "\n",
    "    for i in range(n):\n",
    "\n",
    "        for j in range(i, n):\n",
    "\n",
    "            result += arr[i] * arr[j]\n",
    "\n",
    "    return result"
   ]
  },
  {
   "cell_type": "markdown",
   "id": "6052f851-fcfc-4622-ba96-21ade21e8b3e",
   "metadata": {},
   "source": [
    "Ans :\n",
    "\n",
    "Time complexity is O(n**2)\n",
    "\n",
    "space complexity is O(1)"
   ]
  },
  {
   "cell_type": "markdown",
   "id": "c437cd54-d5b2-403a-81ba-1663df3a4e9d",
   "metadata": {},
   "source": [
    "Solve the following problems on recursion"
   ]
  },
  {
   "cell_type": "markdown",
   "id": "92cde36d-002e-4ccc-a24d-f180c421cf05",
   "metadata": {},
   "source": [
    "Problem 6 : Sum of Digit\n",
    "Write a recursive function to calculate the sum of digits of a given positive integer. sum_of_digits(123) -> 6"
   ]
  },
  {
   "cell_type": "code",
   "execution_count": 11,
   "id": "627d7c00-ef06-447b-8642-93d772a3870d",
   "metadata": {},
   "outputs": [
    {
     "name": "stdout",
     "output_type": "stream",
     "text": [
      "6\n"
     ]
    }
   ],
   "source": [
    "def sum_of_digits(num):\n",
    "    if (num==0):\n",
    "        return 0\n",
    "    n = num % 10\n",
    "    res =int(num/10)\n",
    "    return n + sum_of_digits(res)\n",
    "\n",
    "print(sum_of_digits(123))\n",
    "    "
   ]
  },
  {
   "cell_type": "markdown",
   "id": "b4a351e9-2d2b-47b1-abf7-afaf0c0fb0a3",
   "metadata": {},
   "source": [
    "Problem 7: Fibonacci Series\n",
    "Write a recursive function to generate the first n numbers of the Fibonacci series. fibonacci_series(6) -> [0, 1, 1, 2, 3, 5]"
   ]
  },
  {
   "cell_type": "code",
   "execution_count": 16,
   "id": "39efa2ae-5e7d-424c-a525-fbc908815770",
   "metadata": {},
   "outputs": [
    {
     "name": "stdout",
     "output_type": "stream",
     "text": [
      "0,1,1,2,3,5,"
     ]
    }
   ],
   "source": [
    "def Fibonacci(n):\n",
    "    if(n <= 0):\n",
    "        return 0\n",
    "    elif n ==1 :\n",
    "        return 1\n",
    "    return Fibonacci(n-2) + Fibonacci(n-1)\n",
    "\n",
    "for i in range(6):\n",
    "    print(Fibonacci(i),end=\",\")"
   ]
  },
  {
   "cell_type": "markdown",
   "id": "7caa0194-032c-4b3b-8cb5-ae23aba164eb",
   "metadata": {},
   "source": [
    "Problem 8 : Subset Sum\n",
    "Given a set of positive integers and a target sum, write a recursive function to determine if there exists a subset of the integers that adds up to the target sum.subset_sum([3, 34, 4, 12, 5, 2], 9) -> True"
   ]
  },
  {
   "cell_type": "code",
   "execution_count": 19,
   "id": "75c9d0f9-5cfe-499b-943a-c805233cf2d8",
   "metadata": {},
   "outputs": [
    {
     "name": "stdout",
     "output_type": "stream",
     "text": [
      "True\n"
     ]
    }
   ],
   "source": [
    "def Sub_set_Sum(num,target,n):\n",
    "    if target == 0:\n",
    "        return True\n",
    "    if n == 0 :\n",
    "        return False\n",
    "    if num[n-1] > target :\n",
    "        return Sub_set_Sum(num,target,n-1)\n",
    "    \n",
    "    return Sub_set_Sum(num,target,n-1) or Sub_set_Sum(num ,target - num[n-1] ,n-1)\n",
    "\n",
    "num = [3, 34, 4, 12, 5, 2]\n",
    "res = Sub_set_Sum(num,9,len(num)) \n",
    "print(res)"
   ]
  },
  {
   "cell_type": "markdown",
   "id": "370960bb-6b30-42ad-913d-2c7ebff77030",
   "metadata": {},
   "source": [
    "Problem 9: Word Break\n",
    "Given a non-empty string and a dictionary of words, write a recursive function to determine if the string can be segmented into a space-separated sequence of dictionary words.word_break( leetcode , [ leet , code ]) -> True"
   ]
  },
  {
   "cell_type": "code",
   "execution_count": 21,
   "id": "e23e7e6a-9e68-4667-bfb3-8221eb3ee800",
   "metadata": {},
   "outputs": [
    {
     "name": "stdout",
     "output_type": "stream",
     "text": [
      "True\n"
     ]
    }
   ],
   "source": [
    "def wordBreak(wordList,word):\n",
    "    if word == \"\":\n",
    "        return True\n",
    "    else :\n",
    "        wordLen = len(word)\n",
    "        for i in range(1, wordLen+1):\n",
    "            if word[:i] in wordList and wordBreak(wordList, word[i:]):\n",
    "                return True\n",
    "        return False\n",
    "    \n",
    "print(wordBreak([\"leet\",\"code\"], \"leetcode\"))"
   ]
  },
  {
   "cell_type": "markdown",
   "id": "b6cbe1b1-ddff-4c1f-9f27-a03d45bfa348",
   "metadata": {},
   "source": [
    "Problem 10 : N-Queens\n",
    "Implement a recursive function to solve the N Queens problem, where you have to place N queens on an N×N chessboard in such a way that no two queens threaten each other.\n",
    "\n",
    "n_queens(4) \n",
    "\n",
    "[[\".Q..\",\n",
    "\n",
    "\"...Q\",\n",
    "\n",
    "\"Q...\",\n",
    "\n",
    "\"..Q.\"],\n",
    "\n",
    "[\"..Q.\",\n",
    "\n",
    "\"Q...\",\n",
    "\n",
    "\"...Q\",\n",
    "\n",
    "\".Q..\"]]"
   ]
  },
  {
   "cell_type": "code",
   "execution_count": 22,
   "id": "3f43ea4a-3a37-4c77-b397-a9dc7e6ae0ab",
   "metadata": {},
   "outputs": [],
   "source": [
    "# N Queen Problem\n",
    "# Return True if it's safe to place queen on the board\n",
    "def isSafeToPlaceQueen(board , row , col , n):\n",
    "    # Check in the left side\n",
    "    for i in range(col):\n",
    "        if board[row][i]==1 :\n",
    "            return False\n",
    "\n",
    "    #Check in the upper left diagonal\n",
    "    for i, j in zip(range(row,-1,-1),range(col,-1,-1)):\n",
    "        if board[i][j] ==1:\n",
    "            return False\n",
    "\n",
    "    #Check in the lower left diagonal\n",
    "    for i,j in zip(range(row,n,1 ), range(col, -1,-1)):\n",
    "        if board[i][j]==1:\n",
    "            return False\n",
    "\n",
    "    return True\n",
    "\n",
    "\n",
    "def solveNQ(board,n):\n",
    "    if not solveNQUtil(board,0,n):\n",
    "        print(\"Solution doesn't exist\")\n",
    "        return\n",
    "\n",
    "    printBoard(board,n)\n",
    "\n",
    "# Should return True if we are able to place all the queens\n",
    "def solveNQUtil(board , col , n):\n",
    "    if(col >=n): #Base condition\n",
    "        return True  # Means we have bee able to put queens in all the columns\n",
    "\n",
    "  # Check for all the rows\n",
    "    for row in range(n) :\n",
    "        if isSafeToPlaceQueen(board,row,col, n) :\n",
    "            board[row][col]= 1 #Set the queen\n",
    "            #Recursively try for the next columns\n",
    "            if solveNQUtil(board,col+1,n):\n",
    "                return True\n",
    "      #Back Tracking\n",
    "        board[row][col]= 0 # Queen can't be set here\n",
    "\n",
    "    return False #Won't be able to place the queen\n",
    "\n",
    "\n",
    "def printBoard(board,n):\n",
    "    for i in range(n):\n",
    "        for j in range(n):\n",
    "            if board[i][j]==1 :\n",
    "                print(\"Q\",end=\" \")\n",
    "            else :\n",
    "                print(\".\",end=\" \")\n",
    "        print()"
   ]
  },
  {
   "cell_type": "code",
   "execution_count": 25,
   "id": "b8d3d7d3-298f-4579-8a67-e08e466493a7",
   "metadata": {},
   "outputs": [
    {
     "name": "stdout",
     "output_type": "stream",
     "text": [
      ". . Q . \n",
      "Q . . . \n",
      ". . . Q \n",
      ". Q . . \n"
     ]
    }
   ],
   "source": [
    "board = [[0,0,0,0],\n",
    "         [0,0,0,0],\n",
    "         [0,0,0,0],\n",
    "         [0,0,0,0]\n",
    "         ]\n",
    "solveNQ(board,4)"
   ]
  }
 ],
 "metadata": {
  "kernelspec": {
   "display_name": "Python 3 (ipykernel)",
   "language": "python",
   "name": "python3"
  },
  "language_info": {
   "codemirror_mode": {
    "name": "ipython",
    "version": 3
   },
   "file_extension": ".py",
   "mimetype": "text/x-python",
   "name": "python",
   "nbconvert_exporter": "python",
   "pygments_lexer": "ipython3",
   "version": "3.10.8"
  }
 },
 "nbformat": 4,
 "nbformat_minor": 5
}
