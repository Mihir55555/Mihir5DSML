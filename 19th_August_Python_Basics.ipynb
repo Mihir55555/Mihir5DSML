{
 "cells": [
  {
   "cell_type": "code",
   "execution_count": 1,
   "id": "0ff19004-411e-4631-b702-fc715259abf6",
   "metadata": {},
   "outputs": [
    {
     "data": {
      "text/plain": [
       "(14, 20)"
      ]
     },
     "execution_count": 1,
     "metadata": {},
     "output_type": "execute_result"
    }
   ],
   "source": [
    "#TOPIC: Python Basics Variable\n",
    "'''1.Declare two variables, `x` and `y`, and assign them integer values.\n",
    "Swap the values of these variables without using any temporary\n",
    "variable.'''\n",
    "\n",
    "x = 20\n",
    "y = 14\n",
    "x, y = y, x\n",
    "x,y"
   ]
  },
  {
   "cell_type": "code",
   "execution_count": 1,
   "id": "1f416e69-5547-40df-bb8a-275a7aeb7ef8",
   "metadata": {},
   "outputs": [
    {
     "name": "stdin",
     "output_type": "stream",
     "text": [
      "Enter the length:  12.5\n",
      "Enter the width:  25\n"
     ]
    },
    {
     "data": {
      "text/plain": [
       "312.5"
      ]
     },
     "execution_count": 1,
     "metadata": {},
     "output_type": "execute_result"
    }
   ],
   "source": [
    "#TOPIC: Python Basics Variable\n",
    "'''2.Create a program that calculates the area of a rectangle. Take the\n",
    "length and width as inputs from the user and store them in variables.\n",
    "Calculate and display the area.'''\n",
    "\n",
    "length = float(input(\"Enter the length: \"))\n",
    "width = float(input(\"Enter the width: \"))\n",
    "Area = length*width\n",
    "Area"
   ]
  },
  {
   "cell_type": "code",
   "execution_count": 2,
   "id": "53af4c3e-da95-42f7-8d0e-aa7322fedc06",
   "metadata": {},
   "outputs": [
    {
     "name": "stdin",
     "output_type": "stream",
     "text": [
      "Enter temperature in Celsius:  20\n"
     ]
    },
    {
     "data": {
      "text/plain": [
       "68.0"
      ]
     },
     "execution_count": 2,
     "metadata": {},
     "output_type": "execute_result"
    }
   ],
   "source": [
    "#TOPIC: Python Basics Variable\n",
    "'''3.Write a Python program that converts temperature from Celsius to\n",
    "Fahrenheit. Take the temperature in Celsius as input, store it in a\n",
    "variable, convert it to Fahrenheit, and display the result.'''\n",
    "Celsius = float(input(\"Enter temperature in Celsius: \"))\n",
    "Fahrenheit = Celsius*(9/5)+32\n",
    "Fahrenheit"
   ]
  },
  {
   "cell_type": "code",
   "execution_count": 3,
   "id": "769155e1-5755-4c2e-83b8-49f5fbe34f86",
   "metadata": {},
   "outputs": [
    {
     "name": "stdin",
     "output_type": "stream",
     "text": [
      "Enter a string:  This is my first lecture of Data Science pro course at pwskills\n"
     ]
    },
    {
     "data": {
      "text/plain": [
       "63"
      ]
     },
     "execution_count": 3,
     "metadata": {},
     "output_type": "execute_result"
    }
   ],
   "source": [
    "#TOPIC: String Based Questions\n",
    "'''1.Write a Python program that takes a string as input and prints the\n",
    "length of the string.'''\n",
    "\n",
    "s = input(\"Enter a string: \")\n",
    "len(s)"
   ]
  },
  {
   "cell_type": "code",
   "execution_count": 5,
   "id": "b52e5c3b-f3f1-401a-a486-1344efd27a4c",
   "metadata": {},
   "outputs": [],
   "source": [
    "#TOPIC: String Based Questions\n",
    "'''2.Create a program that takes a sentence from the user and counts the\n",
    "number of vowels (a, e, i, o, u) in the string.'''\n",
    "v = ['a', 'e', 'i', 'o', 'u']"
   ]
  },
  {
   "cell_type": "code",
   "execution_count": 8,
   "id": "7234e505-6628-43a2-b07a-142dc04b0470",
   "metadata": {},
   "outputs": [
    {
     "name": "stdin",
     "output_type": "stream",
     "text": [
      "enter string:  This is my first lecture of Data Science pro course\n"
     ]
    },
    {
     "name": "stdout",
     "output_type": "stream",
     "text": [
      "16\n"
     ]
    }
   ],
   "source": [
    "l1 = input(\"enter string: \")\n",
    "count = 0\n",
    "for i in l1:\n",
    "    if i in v:\n",
    "        count=count + 1\n",
    "        \n",
    "print(count)"
   ]
  },
  {
   "cell_type": "code",
   "execution_count": 10,
   "id": "0eba4824-4e18-4a2c-9010-8cf746c6722c",
   "metadata": {},
   "outputs": [
    {
     "data": {
      "text/plain": [
       "'sllikswP'"
      ]
     },
     "execution_count": 10,
     "metadata": {},
     "output_type": "execute_result"
    }
   ],
   "source": [
    "#TOPIC: String Based Questions\n",
    "'''3.Given a string, reverse the order of characters using string slicing and\n",
    "print the reversed string.'''\n",
    "String = \"Pwskills\"\n",
    "String[::-1]"
   ]
  },
  {
   "cell_type": "code",
   "execution_count": 13,
   "id": "38a8c273-5566-40d2-ab3e-bc59482c8f28",
   "metadata": {},
   "outputs": [
    {
     "name": "stdin",
     "output_type": "stream",
     "text": [
      "Enter String :  AABBAA\n"
     ]
    },
    {
     "name": "stdout",
     "output_type": "stream",
     "text": [
      "Reverse Order :   AABBAA\n",
      "This is a Palindrome String\n"
     ]
    }
   ],
   "source": [
    "#TOPIC: String Based Questions\n",
    "'''4.Write a program that takes a string as input and checks if it is a\n",
    "palindrome (reads the same forwards and backwards).'''\n",
    "\n",
    "# Example 1:\n",
    "\n",
    "\n",
    "L1 = input(\"Enter String : \")\n",
    "str1 = \"\"\n",
    "\n",
    "for i in L1:\n",
    "    str1 = i + str1  \n",
    "print(\"Reverse Order :  \", str1)\n",
    "\n",
    "if(L1 == str1):\n",
    "   print(\"This is a Palindrome String\")\n",
    "else:\n",
    "   print(\"This is not Palindrome String\")"
   ]
  },
  {
   "cell_type": "code",
   "execution_count": 14,
   "id": "54bf400d-585b-45ea-bea8-33b43ab38475",
   "metadata": {},
   "outputs": [
    {
     "name": "stdin",
     "output_type": "stream",
     "text": [
      "Enter String :  abcd\n"
     ]
    },
    {
     "name": "stdout",
     "output_type": "stream",
     "text": [
      "Reverse Order :   dcba\n",
      "This is not Palindrome String\n"
     ]
    }
   ],
   "source": [
    "# Example 2:\n",
    "\n",
    "L1 = input(\"Enter String : \")\n",
    "str1 = \"\"\n",
    "\n",
    "for i in L1:\n",
    "    str1 = i + str1  \n",
    "print(\"Reverse Order :  \", str1)\n",
    "\n",
    "if(L1 == str1):\n",
    "   print(\"This is a Palindrome String\")\n",
    "else:\n",
    "   print(\"This is not Palindrome String\")"
   ]
  },
  {
   "cell_type": "code",
   "execution_count": 22,
   "id": "d93b032e-d1bb-4a60-8eed-d83eaa3eb451",
   "metadata": {},
   "outputs": [
    {
     "name": "stdin",
     "output_type": "stream",
     "text": [
      "Enter String :  This is my pyth on    practical\n"
     ]
    },
    {
     "data": {
      "text/plain": [
       "'Thisismypythonpractical'"
      ]
     },
     "execution_count": 22,
     "metadata": {},
     "output_type": "execute_result"
    }
   ],
   "source": [
    "#TOPIC: String Based Questions\n",
    "'''5. Create a program that takes a string as input and removes all the\n",
    "spaces from it. Print the modified string without spaces.'''\n",
    "\n",
    "S1 = input(\"Enter String : \")\n",
    "S1.replace(\" \", \"\")\n"
   ]
  },
  {
   "cell_type": "code",
   "execution_count": null,
   "id": "cda3619f-951c-44e2-a781-cb335bee8a08",
   "metadata": {},
   "outputs": [],
   "source": []
  }
 ],
 "metadata": {
  "kernelspec": {
   "display_name": "Python 3 (ipykernel)",
   "language": "python",
   "name": "python3"
  },
  "language_info": {
   "codemirror_mode": {
    "name": "ipython",
    "version": 3
   },
   "file_extension": ".py",
   "mimetype": "text/x-python",
   "name": "python",
   "nbconvert_exporter": "python",
   "pygments_lexer": "ipython3",
   "version": "3.10.8"
  }
 },
 "nbformat": 4,
 "nbformat_minor": 5
}
