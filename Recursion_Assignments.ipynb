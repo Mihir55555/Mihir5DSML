{
 "cells": [
  {
   "cell_type": "code",
   "execution_count": null,
   "id": "1fb99082-0e51-4795-8799-ec79d3046766",
   "metadata": {},
   "outputs": [],
   "source": [
    "'''\n",
    "Q.1 Can you explain the logic and working of the Tower of Hanoi algorithm by writing a Java program?\n",
    "How does the recursion work, and how are the movements of disks between rods accomplished?\n",
    "\n",
    "The logic of the Tower of Hanoi algorithm is based on recursion, a technique where a function calls itself repeatedly to solve a problem. \n",
    "In this case, the function takes the number of disks, the source rod, the destination rod, and the auxiliary rod as parameters. \n",
    "The function then recursively moves the top (n-1) disks from the source rod to the auxiliary rod using the destination rod as a temporary storage. \n",
    "Next, it moves the remaining disk from the source rod to the destination rod. \n",
    "Finally, it recursively moves the (n-1) disks from the auxiliary rod to the destination rod using the source rod as a temporary storage.\n",
    "\n",
    "Tower of Hanoi algorithm explained\n",
    "\n",
    "Let’s try to solve a puzzle – Tower of Hanoi using recursion.\n",
    "\n",
    "We have 3 disks – 1,2, and 3 stacked in peg A.\n",
    "\n",
    "To move the stack to peg B you would have to expose disk 3 and to do that disk 1 and 2 have to be moved to peg C.\n",
    "\n",
    "So by ensuring that you do not break the rules, using the above subsets of 3 steps in the previous case, you would move disk 1 and 2 to peg C, leaving disk 3 exposed with no disk above it.\n",
    "\n",
    "Recursively move disk 3 from peg A to peg B.\n",
    "\n",
    "Then disk 1 from peg C to peg A. After which disk 2 can be moved above disk 3 at peg B.\n",
    "\n",
    "The puzzle is finally completed by moving disk 1 from peg A over disk 2 and 3 at peg B.\n",
    "\n",
    "'''"
   ]
  },
  {
   "cell_type": "code",
   "execution_count": 15,
   "id": "da8c5222-3c3e-4467-86d5-91455e3b1f72",
   "metadata": {},
   "outputs": [
    {
     "name": "stdout",
     "output_type": "stream",
     "text": [
      "5\n",
      "3\n"
     ]
    }
   ],
   "source": [
    "''' Q.2 Given two strings word1 and word2, return the minimum number of operations required to convert word1\n",
    "to word2.\n",
    "\n",
    "Example 1:\n",
    "Input: word1 = \"horse\", word2 = \"ros\"\n",
    "Output: 3\n",
    "Explanation:\n",
    "horse -> rorse (replace 'h' with 'r')\n",
    "rorse -> rose (remove 'r')\n",
    "rose -> ros (remove 'e')\n",
    "\n",
    "Example 2:\n",
    "Input: word1 = \"intention\", word2 = \"execution\"\n",
    "Output: 5\n",
    "Explanation:\n",
    "intention -> inention (remove 't')\n",
    "inention -> enention (replace 'i' with 'e')\n",
    "enention -> exention (replace 'n' with 'x')\n",
    "exention -> exection (replace 'n' with 'c')\n",
    "exection -> execution (insert 'u')\n",
    "\n",
    "'''\n",
    "\n",
    "# ANS:\n",
    "\n",
    "def mindistance(a,b):\n",
    "    m = len(a)\n",
    "    n = len(b)\n",
    "\n",
    "    dp = [[0] * (n + 1) for _ in range(m + 1)]\n",
    "    \n",
    "    for i in range(m+1):\n",
    "        dp[i][0] = i\n",
    "    for j in range(n+1):\n",
    "        dp[0][j] = j\n",
    "        \n",
    "    for i in range(1,m+1):\n",
    "        for j in range (1,n+1):\n",
    "            if a[i-1] == b[j-1]:\n",
    "                dp[i][j] = dp[i-1][j-1]\n",
    "            else:\n",
    "                dp[i][j] = min(dp[i-1][j],dp[i][j-1],dp[i-1][j-1]) + 1\n",
    "     \n",
    "    return dp[m][n]\n",
    "\n",
    "a = \"intention\"\n",
    "b = \"execution\"\n",
    "result1 = mindistance(a,b)\n",
    "print(result1)\n",
    "\n",
    "c = \"horse\"\n",
    "d = \"ros\"\n",
    "result2 = mindistance(c,d)\n",
    "print(result2)"
   ]
  },
  {
   "cell_type": "code",
   "execution_count": 21,
   "id": "c29cf697-d41a-4cb9-97e1-29583c25e183",
   "metadata": {},
   "outputs": [
    {
     "name": "stdout",
     "output_type": "stream",
     "text": [
      "22\n"
     ]
    }
   ],
   "source": [
    "'''Q. 3 Print the max value of the array [ 13, 1, -3, 22, 5].'''\n",
    "\n",
    "def Find_Max(n):\n",
    "\n",
    "    if n == []:\n",
    "        return 0\n",
    "    \n",
    "    max_num = n[0]\n",
    "    for i in range(1,len(n)):\n",
    "        if n[i] > max_num :\n",
    "            max_num = n[i]\n",
    "    return max_num\n",
    "    \n",
    "array =[13, 1, -3, 22, 5]\n",
    "result =Find_Max(array)\n",
    "print(result)"
   ]
  },
  {
   "cell_type": "code",
   "execution_count": 24,
   "id": "3700f4d5-d780-4154-9c0f-2f64c03816cb",
   "metadata": {},
   "outputs": [
    {
     "name": "stdout",
     "output_type": "stream",
     "text": [
      "120\n"
     ]
    }
   ],
   "source": [
    "'''Q.4 Find the sum of the values of the array [92, 23, 15, -20, 10].'''\n",
    "\n",
    "def Find_Sum(a,n):\n",
    "   \n",
    "    if n == 0 :\n",
    "        return 0\n",
    "    \n",
    "    else :\n",
    "        return Find_Sum(a,n-1) + a[n-1]\n",
    "\n",
    "a = [92, 23, 15, -20, 10]\n",
    "Total = Find_Sum(a,len(a))\n",
    "print(Total)"
   ]
  },
  {
   "cell_type": "code",
   "execution_count": 3,
   "id": "36065ba1-213e-4ebe-9e13-d7b67d359336",
   "metadata": {},
   "outputs": [
    {
     "name": "stdout",
     "output_type": "stream",
     "text": [
      "Yes\n",
      "No\n"
     ]
    }
   ],
   "source": [
    "'''Q.5 Given a number n. Print if it is an armstrong number or not.An armstrong number is a number if the sum\n",
    "of every digit in that number raised to the power of total digits in that number is equal to the number.\n",
    "\n",
    "Example : 153 = 1^3 + 5^3 + 3^3 = 1 + 125 + 27 = 153 hence 153 is an armstrong number. (Easy)\n",
    "\n",
    "Input1 : 153\n",
    "Output1 : Yes\n",
    "\n",
    "Input 2 : 134\n",
    "Output2 : No\n",
    "\n",
    "'''\n",
    "\n",
    "#ANS:\n",
    "\n",
    "def is_armstrong_number(n):\n",
    "    \n",
    "    num_digits = len(str(n))\n",
    "    \n",
    "    sum_of_digits = sum(int(digit) ** num_digits for digit in str(n))\n",
    "    \n",
    "    if sum_of_digits == n:\n",
    "        return \"Yes\"\n",
    "    else:\n",
    "        return \"No\"\n",
    "\n",
    "number1 = 153\n",
    "result1 = is_armstrong_number(number1)\n",
    "print(f \"is {number1} armstrong_number \"result1)\n",
    "\n",
    "number2 = 134\n",
    "result2 = is_armstrong_number(number2)\n",
    "print(result2)"
   ]
  },
  {
   "cell_type": "code",
   "execution_count": null,
   "id": "71eb40a5-42dd-414b-b325-72c22411131a",
   "metadata": {},
   "outputs": [],
   "source": []
  }
 ],
 "metadata": {
  "kernelspec": {
   "display_name": "Python 3 (ipykernel)",
   "language": "python",
   "name": "python3"
  },
  "language_info": {
   "codemirror_mode": {
    "name": "ipython",
    "version": 3
   },
   "file_extension": ".py",
   "mimetype": "text/x-python",
   "name": "python",
   "nbconvert_exporter": "python",
   "pygments_lexer": "ipython3",
   "version": "3.10.8"
  }
 },
 "nbformat": 4,
 "nbformat_minor": 5
}
