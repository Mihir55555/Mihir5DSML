{
 "cells": [
  {
   "cell_type": "markdown",
   "id": "e9100919-9dee-4633-8a55-313a6cc2fb51",
   "metadata": {},
   "source": [
    "1. What is a Python library? Why do we use Python libraries?\n",
    "\n",
    "ANS:\n",
    "\n",
    "Python library is a collection of functions and methods that allows you to perform lots of actions without writing your own code.\n",
    "\n",
    "Python libraries consist of pre-written code which allows developers to save time when writing their programs. With over 137,000 available libraries, Python can be used in a variety of fields from machine learning and data science to data visualization and image manipulation. \n",
    "\n",
    "A library is essentially made up of codes or python modules for carrying out specific tasks without having to create the same code every time while writing a program. This is made possible by Windows Dynamic Load Libraries (DLL). To use methods in a library, you need to link it with your own application before running it. Once executed by the loader, these functionalities will be extracted automatically, allowing interpretation as required. If you wish to gain a better understanding of Python libraries, consider pursuing a comprehensive "
   ]
  },
  {
   "cell_type": "raw",
   "id": "d12610f1-4999-4a59-b86e-d1c3f20bc850",
   "metadata": {},
   "source": [
    "2. What is the difference between Numpy array and List?\n",
    "\n",
    "Numpy Array                                                             \tPython List\n",
    "\n",
    "-->It is the core Library of python which is used for scientific computing.  -->The core library of python provides list.\n",
    "-->It can contain similar datatypes.\t                                     -->It Contains different types of datatypes.\n",
    "-->We need to Numpy Library to access Numpy Arrays.\t                         -->It is built-in function of python.\n",
    "-->It is Homogeneous.\t                                                     -->It is both homogeneous and heterogeneous.\n",
    "-->In this Element wise operation is possible.\t                             -->Element wise operation is not possible on the list.\n",
    "-->By using numpy.array() we can create N-Dimensional array.\t             -->It is by default 1-dimensional.In some cases, we can create an                                                                                         N-Dimensional list. But it is a long process.\n",
    "-->It requires smaller memory consumption as compared to Python List.\t     -->It requires more memory as compared to Numpy Array.\n",
    "-->In this each item is stored in a sequential manner.\t                     -->It stores item in random location of  the memory.\n",
    "-->It is faster as compared to list.\t                                     -->It is slow as compared to NumPy Array.\n",
    "-->It also have some optimism function .\t                                 -->It does not have some optimism function "
   ]
  },
  {
   "cell_type": "markdown",
   "id": "38e3bc72-d3dd-4b58-8cfa-41cc10b6fd05",
   "metadata": {},
   "source": [
    "3. Find the shape, size and dimension of the following array?\n",
    "[[1, 2, 3, 4]\n",
    "[5, 6, 7, 8],\n",
    "[9, 10, 11, 12]]"
   ]
  },
  {
   "cell_type": "code",
   "execution_count": 3,
   "id": "459c0371-d6ab-4e9c-acea-8738d6900d02",
   "metadata": {},
   "outputs": [],
   "source": [
    "arr = np.array([[1, 2, 3, 4],[5, 6, 7, 8], [9, 10, 11, 12]])"
   ]
  },
  {
   "cell_type": "code",
   "execution_count": 4,
   "id": "4d9b51ee-af1f-4964-b38c-fddeeaf4b3db",
   "metadata": {},
   "outputs": [
    {
     "data": {
      "text/plain": [
       "array([[ 1,  2,  3,  4],\n",
       "       [ 5,  6,  7,  8],\n",
       "       [ 9, 10, 11, 12]])"
      ]
     },
     "execution_count": 4,
     "metadata": {},
     "output_type": "execute_result"
    }
   ],
   "source": [
    "arr"
   ]
  },
  {
   "cell_type": "code",
   "execution_count": 5,
   "id": "ca87c363-0c6a-4510-a19b-49546a79b1a7",
   "metadata": {},
   "outputs": [
    {
     "data": {
      "text/plain": [
       "12"
      ]
     },
     "execution_count": 5,
     "metadata": {},
     "output_type": "execute_result"
    }
   ],
   "source": [
    "arr.size"
   ]
  },
  {
   "cell_type": "code",
   "execution_count": 6,
   "id": "aaf8bde9-36a5-426e-a261-3b6ed0249e0f",
   "metadata": {},
   "outputs": [
    {
     "data": {
      "text/plain": [
       "(3, 4)"
      ]
     },
     "execution_count": 6,
     "metadata": {},
     "output_type": "execute_result"
    }
   ],
   "source": [
    "arr.shape"
   ]
  },
  {
   "cell_type": "code",
   "execution_count": 7,
   "id": "a7ea6a5b-3c87-4045-9f85-fbd887eab4fa",
   "metadata": {},
   "outputs": [
    {
     "data": {
      "text/plain": [
       "2"
      ]
     },
     "execution_count": 7,
     "metadata": {},
     "output_type": "execute_result"
    }
   ],
   "source": [
    "arr.ndim"
   ]
  },
  {
   "cell_type": "markdown",
   "id": "7e306c3c-4e32-42d9-845f-b3b68042a3f4",
   "metadata": {},
   "source": [
    "4. Write python code to access the first row of the following array?\n",
    "[[1, 2, 3, 4]\n",
    "[5, 6, 7, 8],\n",
    "[9, 10, 11, 12]]"
   ]
  },
  {
   "cell_type": "code",
   "execution_count": 8,
   "id": "7c127eb3-759c-4bc6-9e43-e1b129bc0d13",
   "metadata": {},
   "outputs": [
    {
     "data": {
      "text/plain": [
       "array([[ 1,  2,  3,  4],\n",
       "       [ 5,  6,  7,  8],\n",
       "       [ 9, 10, 11, 12]])"
      ]
     },
     "execution_count": 8,
     "metadata": {},
     "output_type": "execute_result"
    }
   ],
   "source": [
    "arr"
   ]
  },
  {
   "cell_type": "code",
   "execution_count": 9,
   "id": "6a717385-7521-4738-b2e9-47f56be915b8",
   "metadata": {},
   "outputs": [
    {
     "data": {
      "text/plain": [
       "array([1, 2, 3, 4])"
      ]
     },
     "execution_count": 9,
     "metadata": {},
     "output_type": "execute_result"
    }
   ],
   "source": [
    "arr[0]"
   ]
  },
  {
   "cell_type": "markdown",
   "id": "fdc739b6-20b2-478a-a556-65f4efea74f4",
   "metadata": {},
   "source": [
    "5. How do you access the element at the third row and fourth column from the given numpy array?\n",
    "[[1, 2, 3, 4]\n",
    "[5, 6, 7, 8],\n",
    "[9, 10, 11, 12]]"
   ]
  },
  {
   "cell_type": "code",
   "execution_count": 15,
   "id": "e89e9162-713b-420b-b5be-249aad56b215",
   "metadata": {},
   "outputs": [
    {
     "data": {
      "text/plain": [
       "array([[ 1,  2,  3,  4],\n",
       "       [ 5,  6,  7,  8],\n",
       "       [ 9, 10, 11, 12]])"
      ]
     },
     "execution_count": 15,
     "metadata": {},
     "output_type": "execute_result"
    }
   ],
   "source": [
    "arr"
   ]
  },
  {
   "cell_type": "code",
   "execution_count": 16,
   "id": "7b954e41-17a3-4084-ae04-bd1433166698",
   "metadata": {},
   "outputs": [
    {
     "data": {
      "text/plain": [
       "12"
      ]
     },
     "execution_count": 16,
     "metadata": {},
     "output_type": "execute_result"
    }
   ],
   "source": [
    "arr[2,3]"
   ]
  },
  {
   "cell_type": "markdown",
   "id": "20a9fd4a-8949-416d-ac55-8a2965a28967",
   "metadata": {},
   "source": [
    "6. Write code to extract all odd-indexed elements from the given numpy array?\n",
    "[[1, 2, 3, 4]\n",
    "[5, 6, 7, 8],\n",
    "[9, 10, 11, 12]]"
   ]
  },
  {
   "cell_type": "code",
   "execution_count": 7,
   "id": "8dfa5f11-b5e2-4d37-ad9f-8d3a4eb7b97c",
   "metadata": {},
   "outputs": [
    {
     "name": "stdout",
     "output_type": "stream",
     "text": [
      "[[ 1  2  3  4]\n",
      " [ 5  6  7  8]\n",
      " [ 9 10 11 12]]\n",
      "odd column indexed element [[ 2  4]\n",
      " [ 6  8]\n",
      " [10 12]]\n",
      "odd row indexed element [[5 6 7 8]]\n",
      "odd row and column indexed element [[6 8]]\n"
     ]
    }
   ],
   "source": [
    "import numpy as np\n",
    "\n",
    "arr = np.array([[1, 2, 3, 4],[5, 6, 7, 8], [9, 10, 11, 12]])\n",
    "print(arr)\n",
    "\n",
    "odd_column_element = arr[:,1::2]\n",
    "print(\"odd column indexed element\",odd_column_element)\n",
    "\n",
    "odd_raw_element = arr[1::2,:]\n",
    "print(\"odd row indexed element\",odd_raw_element)\n",
    "\n",
    "odd_rowandcol_element = arr[1::2, 1::2]\n",
    "print(\"odd row and column indexed element\",odd_rowandcol_element)"
   ]
  },
  {
   "cell_type": "markdown",
   "id": "6b3fcc46-8a0d-4773-8866-76dc9e1a1f39",
   "metadata": {},
   "source": [
    "7. How can you generate a random 3x3 matrix with values between 0 and 1?"
   ]
  },
  {
   "cell_type": "code",
   "execution_count": 9,
   "id": "60170e04-5c21-4aeb-9c9e-56e1565165c2",
   "metadata": {},
   "outputs": [
    {
     "name": "stdout",
     "output_type": "stream",
     "text": [
      "[[0.33672604 0.22272414 0.39915141]\n",
      " [0.01360496 0.99989345 0.88065184]\n",
      " [0.79295561 0.80910737 0.38042246]]\n"
     ]
    }
   ],
   "source": [
    "import numpy as np\n",
    "\n",
    "result = np.random.rand(3,3)\n",
    "\n",
    "print(result)"
   ]
  },
  {
   "cell_type": "markdown",
   "id": "0d697dbd-5608-4fd2-8173-2e464c735e04",
   "metadata": {},
   "source": [
    "8. Describe the difference between np.random.rand and np.random.randn?"
   ]
  },
  {
   "cell_type": "markdown",
   "id": "b7cd63f3-a7b4-46a2-b82c-08338ff8c82c",
   "metadata": {},
   "source": [
    "numpy.random.rand() :\n",
    "\n",
    "The numpy.random.rand() function creates an array of specified shapes fills it with random values and generates random numbers with Numpy.\n",
    "\n",
    "numpy.random.randn() ;\n",
    "\n",
    "The numpy.random.randn() function creates an array of specified shape and fills it with random values as per standard normal distribution."
   ]
  },
  {
   "cell_type": "code",
   "execution_count": 13,
   "id": "1a0de36e-20b7-4f8f-af62-03d388a4fa3b",
   "metadata": {},
   "outputs": [
    {
     "name": "stdout",
     "output_type": "stream",
     "text": [
      "[[0.7221429  0.24142389 0.66179748]\n",
      " [0.30854517 0.33575622 0.43217583]\n",
      " [0.62023021 0.29525062 0.28856498]]\n",
      "\n",
      "[[ 0.59241762  1.11531895  0.66836531]\n",
      " [ 0.12780035 -1.47937705 -1.25731876]\n",
      " [ 0.1317237  -0.4422088  -0.42799958]]\n"
     ]
    }
   ],
   "source": [
    "import numpy as np\n",
    "\n",
    "# using np.random.rand method\n",
    "result1 = np.random.rand(3,3)\n",
    "print(result1)\n",
    "\n",
    "print()\n",
    "# using np.random.randn method\n",
    "\n",
    "result2 = np.random.randn(3,3)\n",
    "print(result2)"
   ]
  },
  {
   "cell_type": "markdown",
   "id": "c89a5ab7-fa75-4bb2-9afc-834e6a584573",
   "metadata": {},
   "source": [
    "9. Write code to increase the dimension of the following array?\n",
    "[[1, 2, 3, 4]\n",
    "[5, 6, 7, 8],\n",
    "[9, 10, 11, 12]]"
   ]
  },
  {
   "cell_type": "code",
   "execution_count": 14,
   "id": "48a812d2-d9ad-478f-88fd-0a492bc4e32d",
   "metadata": {},
   "outputs": [
    {
     "name": "stdout",
     "output_type": "stream",
     "text": [
      "[[[ 1  2  3  4]\n",
      "  [ 5  6  7  8]\n",
      "  [ 9 10 11 12]]]\n"
     ]
    }
   ],
   "source": [
    "import numpy as np\n",
    "\n",
    "arr1 = np.array([[1,2,3,4],[5,6,7,8], [9,10,11,12]])\n",
    "\n",
    "new_result = np.expand_dims(arr1, axis=0)\n",
    "\n",
    "print(new_result)"
   ]
  },
  {
   "cell_type": "markdown",
   "id": "afb6bf12-561b-48c1-a29d-258a9f656ed0",
   "metadata": {},
   "source": [
    "10. How to transpose the following array in NumPy?\n",
    "[[1, 2, 3, 4],\n",
    "[5, 6, 7, 8],\n",
    "[9, 10, 11, 12]]"
   ]
  },
  {
   "cell_type": "code",
   "execution_count": 16,
   "id": "3f854b22-6d65-454e-a227-b4b2d40fc1cc",
   "metadata": {},
   "outputs": [
    {
     "name": "stdout",
     "output_type": "stream",
     "text": [
      "[[ 1  5  9]\n",
      " [ 2  6 10]\n",
      " [ 3  7 11]\n",
      " [ 4  8 12]]\n"
     ]
    }
   ],
   "source": [
    "import numpy as np\n",
    "\n",
    "arr1 = np.array([[1,2,3,4],[5,6,7,8], [9,10,11,12]])\n",
    "\n",
    "transpose_array = arr1.T\n",
    "\n",
    "print(transpose_array)"
   ]
  },
  {
   "cell_type": "markdown",
   "id": "8415234d-471c-4a06-92fe-fe8dc11f5724",
   "metadata": {},
   "source": [
    "11. Consider the following matrix:\n",
    "\n",
    "Matrix A: [[1, 2, 3, 4], [5, 6, 7, 8],[9, 10, 11, 12]]\n",
    "\n",
    "Matrix B: [[1, 2, 3, 4], [5, 6, 7, 8],[9, 10, 11, 12]]\n",
    "\n",
    "Perform the following operation using Python1\n",
    "Index wise multiplication\n",
    "\n",
    "Matix multiplication\n",
    "\n",
    "Add both the matrics\n",
    "\n",
    "Subtact matix B from A\n",
    "\n",
    "Divide Matrix B by A"
   ]
  },
  {
   "cell_type": "code",
   "execution_count": 18,
   "id": "5d85fee3-8ed4-4e0c-95e3-d716c1ef5ab7",
   "metadata": {},
   "outputs": [
    {
     "name": "stdout",
     "output_type": "stream",
     "text": [
      "Array A is \n",
      "[[ 1  2  3  4]\n",
      " [ 5  6  7  8]\n",
      " [ 9 10 11 12]]\n",
      "\n",
      "Array B is \n",
      "[[ 1  2  3  4]\n",
      " [ 5  6  7  8]\n",
      " [ 9 10 11 12]]\n"
     ]
    }
   ],
   "source": [
    "import numpy as np\n",
    "\n",
    "array_A = np.array([[1,2,3,4], [5,6,7,8], [9,10,11,12]])\n",
    "\n",
    "array_B = np.array([[1,2,3,4], [5,6,7,8], [9,10,11,12]])\n",
    "\n",
    "print('Array A is ')\n",
    "print(array_A)\n",
    "print()\n",
    "print('Array B is ')\n",
    "print(array_B)"
   ]
  },
  {
   "cell_type": "markdown",
   "id": "dc51c817-534d-406e-8bc4-9865e9cce091",
   "metadata": {},
   "source": [
    "1. Index wise multiplication"
   ]
  },
  {
   "cell_type": "code",
   "execution_count": 20,
   "id": "3d98c35b-1f50-496f-b035-88b67ac9efae",
   "metadata": {},
   "outputs": [
    {
     "name": "stdout",
     "output_type": "stream",
     "text": [
      "Index wise multiplication:\n",
      "[[  1   4   9  16]\n",
      " [ 25  36  49  64]\n",
      " [ 81 100 121 144]]\n"
     ]
    }
   ],
   "source": [
    "mul_result = array_A * array_B\n",
    "\n",
    "print('Index wise multiplication:')\n",
    "print(mul_result)"
   ]
  },
  {
   "cell_type": "markdown",
   "id": "22c789dc-0470-464e-9783-f285a4b58b7f",
   "metadata": {},
   "source": [
    "2. Matix multiplication"
   ]
  },
  {
   "cell_type": "markdown",
   "id": "c23e62f8-962e-43ed-8c11-25d32071610b",
   "metadata": {},
   "source": [
    "Ans. Matrix multiplication is not possible between 3x4 and 3x4 arrays as number columns in one and number rows in second does not match.\n",
    "\n",
    "We can multiply using transpose of arr_B."
   ]
  },
  {
   "cell_type": "code",
   "execution_count": 26,
   "id": "4977e4ba-cc3f-447f-8b30-4a9f00564f5e",
   "metadata": {},
   "outputs": [
    {
     "name": "stdout",
     "output_type": "stream",
     "text": [
      "Matix multiplication:\n",
      "[[ 30  70 110]\n",
      " [ 70 174 278]\n",
      " [110 278 446]]\n"
     ]
    }
   ],
   "source": [
    "mult_result1 = array_A @ array_B.T\n",
    "\n",
    "print('Matix multiplication:')\n",
    "print(mult_result1)"
   ]
  },
  {
   "cell_type": "markdown",
   "id": "790e42da-8efa-439d-a6c3-bc9df35d4f62",
   "metadata": {},
   "source": [
    "3. Add both the matrics"
   ]
  },
  {
   "cell_type": "code",
   "execution_count": 27,
   "id": "82186e8f-e785-4cc7-a39c-029a29091247",
   "metadata": {},
   "outputs": [
    {
     "name": "stdout",
     "output_type": "stream",
     "text": [
      "Addition of matrix:\n",
      "[[ 2  4  6  8]\n",
      " [10 12 14 16]\n",
      " [18 20 22 24]]\n"
     ]
    }
   ],
   "source": [
    "add_result = array_A + array_B\n",
    "\n",
    "print('Addition of matrix:')\n",
    "print(add_result)"
   ]
  },
  {
   "cell_type": "markdown",
   "id": "3e5d6e2f-cd46-4b7e-9044-ee80a422e517",
   "metadata": {},
   "source": [
    "4. Subtact matix B from A"
   ]
  },
  {
   "cell_type": "code",
   "execution_count": 29,
   "id": "824452f8-4e03-4a3f-b898-97ff24c612e1",
   "metadata": {},
   "outputs": [
    {
     "name": "stdout",
     "output_type": "stream",
     "text": [
      "Subtraction of matrix:\n",
      "[[0 0 0 0]\n",
      " [0 0 0 0]\n",
      " [0 0 0 0]]\n"
     ]
    }
   ],
   "source": [
    "sub_result = array_A - array_B\n",
    "\n",
    "print('Subtraction of matrix:')\n",
    "print(sub_result)"
   ]
  },
  {
   "cell_type": "markdown",
   "id": "48c93786-55b6-49cc-b1ba-8c67cba57578",
   "metadata": {},
   "source": [
    "5. Divide Matrix B by A"
   ]
  },
  {
   "cell_type": "code",
   "execution_count": 30,
   "id": "8324fa9e-a519-4547-a0ee-aad95b3574b1",
   "metadata": {},
   "outputs": [
    {
     "name": "stdout",
     "output_type": "stream",
     "text": [
      "Division of matrix:\n",
      "[[1. 1. 1. 1.]\n",
      " [1. 1. 1. 1.]\n",
      " [1. 1. 1. 1.]]\n"
     ]
    }
   ],
   "source": [
    "div_result = array_A / array_B\n",
    "\n",
    "print('Division of matrix:')\n",
    "print(div_result)"
   ]
  },
  {
   "cell_type": "markdown",
   "id": "2a52f7d7-cbc7-418f-a0c3-d901ca07c97a",
   "metadata": {},
   "source": [
    "12. Which function in Numpy can be used to swap the byte order of an array?\n",
    "\n",
    "Ans. In NumPy, the function used to swap the byte order of an array is numpy.ndarray.byteswap. This function swaps the byte order of the elements of an array in-place.\n",
    "\n",
    "Below is an example:"
   ]
  },
  {
   "cell_type": "code",
   "execution_count": 36,
   "id": "629e602f-1105-4ea3-94ad-2ee7455ff44a",
   "metadata": {},
   "outputs": [
    {
     "name": "stdout",
     "output_type": "stream",
     "text": [
      "original array [1 2 3 4]\n",
      "\n",
      "Swapped array [16777216 33554432 50331648 67108864]\n"
     ]
    }
   ],
   "source": [
    "import numpy as np\n",
    "\n",
    "original_arr = np.array([1,2,3,4],dtype=np.int32)\n",
    "print(\"original array\",original_arr)\n",
    "print()\n",
    "\n",
    "swap_arry = original_arr.byteswap()\n",
    "print(\"Swapped array\",swap_arry)"
   ]
  },
  {
   "cell_type": "markdown",
   "id": "5fc51aea-6ae6-4b12-a546-64e3891b6036",
   "metadata": {},
   "source": [
    "13. What is the significance of the np.linalg.inv function?\n",
    "\n",
    "Ans. The np.linalg.inv function in NumPy is used to compute the (multiplicative) inverse of a square matrix.\n",
    "\n",
    "If A is a square matrix and B = np.linalg.inv(A), then A.dot(B) (or np.dot(A, B)) should be close to the identity matrix, and vice versa."
   ]
  },
  {
   "cell_type": "code",
   "execution_count": 40,
   "id": "79621bf6-d2ed-4f11-83fd-25e6f89c9825",
   "metadata": {},
   "outputs": [
    {
     "name": "stdout",
     "output_type": "stream",
     "text": [
      "Original Matrix:\n",
      "[[4 7]\n",
      " [2 6]]\n",
      "\n",
      "Inverse Matrix:\n",
      "[[ 0.6 -0.7]\n",
      " [-0.2  0.4]]\n",
      "\n",
      "Dot of Original and Inverse:\n",
      "[[ 1.00000000e+00 -1.11022302e-16]\n",
      " [ 1.11022302e-16  1.00000000e+00]]\n",
      "\n",
      "Check A * A_inv is close to the identity matrix: True\n"
     ]
    }
   ],
   "source": [
    "import numpy as np\n",
    "\n",
    "# 2x2 matrix\n",
    "A = np.array([[4, 7], [2, 6]])\n",
    "\n",
    "# inverse\n",
    "A_inv = np.linalg.inv(A)\n",
    "\n",
    "# Check the result A * A_inv (should be close to the identity matrix)\n",
    "identity_check = np.allclose(np.dot(A, A_inv), np.eye(2))\n",
    "\n",
    "print(\"Original Matrix:\")\n",
    "print(A)\n",
    "\n",
    "print(\"\\nInverse Matrix:\")\n",
    "print(A_inv)\n",
    "\n",
    "print(\"\\nDot of Original and Inverse:\")\n",
    "print(np.dot(A, A_inv))\n",
    "\n",
    "print(\"\\nCheck A * A_inv is close to the identity matrix:\", identity_check)"
   ]
  },
  {
   "cell_type": "markdown",
   "id": "ba1e2c82-e623-468b-bdb1-b68093e45f7f",
   "metadata": {},
   "source": [
    "14. What does the np.reshape function do, and how is it used?\n",
    "\n",
    "Ans. The np.reshape function in NumPy is used to change the shape of an array without changing its data. It returns a new array with the same data but a different shape.\n",
    "\n",
    "Below is example:"
   ]
  },
  {
   "cell_type": "code",
   "execution_count": 41,
   "id": "09362577-a0fb-4be3-915e-a162f7591fc5",
   "metadata": {},
   "outputs": [
    {
     "name": "stdout",
     "output_type": "stream",
     "text": [
      "Original Array:\n",
      "[ 0  1  2  3  4  5  6  7  8  9 10 11]\n",
      "\n",
      "Reshaped Array:\n",
      "[[ 0  1  2  3]\n",
      " [ 4  5  6  7]\n",
      " [ 8  9 10 11]]\n"
     ]
    }
   ],
   "source": [
    "import numpy as np\n",
    "\n",
    "original_array = np.arange(12)\n",
    "\n",
    "reshaped_array = np.reshape(original_array, (3, 4))\n",
    "\n",
    "print(\"Original Array:\")\n",
    "print(original_array)\n",
    "\n",
    "print(\"\\nReshaped Array:\")\n",
    "print(reshaped_array)"
   ]
  },
  {
   "cell_type": "markdown",
   "id": "0951a91f-bc39-45ea-9ce8-aa656c6d1093",
   "metadata": {},
   "source": [
    "15. What is broadcasting in Numpy?\n",
    "\n",
    "Ans. Broadcasting in NumPy is a feature that facilitates arithmetic operations between arrays with different shapes and sizes. It automatically adjusts the dimensions of smaller arrays, making them compatible for element-wise operations with larger arrays. The key rules involve comparing dimensions element-wise, padding dimensions with ones, and determining the maximum size for each dimension in the result shape. This allows for concise and efficient code when performing operations on arrays with varying shapes."
   ]
  },
  {
   "cell_type": "code",
   "execution_count": 42,
   "id": "e24c9960-7a65-4696-9999-6d719eea4836",
   "metadata": {},
   "outputs": [
    {
     "name": "stdout",
     "output_type": "stream",
     "text": [
      "Matrix A:\n",
      "[[1 2 3]\n",
      " [4 5 6]]\n",
      "\n",
      "Array B:\n",
      "[10 20 30]\n",
      "\n",
      "Result of A + B:\n",
      "[[11 22 33]\n",
      " [14 25 36]]\n"
     ]
    }
   ],
   "source": [
    "import numpy as np\n",
    "\n",
    "#2x3 matrix\n",
    "A = np.array([[1, 2, 3], [4, 5, 6]])\n",
    "\n",
    "# 1d array\n",
    "B = np.array([10, 20, 30])\n",
    "\n",
    "result = A + B\n",
    "\n",
    "print(\"Matrix A:\")\n",
    "print(A)\n",
    "\n",
    "print(\"\\nArray B:\")\n",
    "print(B)\n",
    "\n",
    "print(\"\\nResult of A + B:\")\n",
    "print(result)"
   ]
  },
  {
   "cell_type": "code",
   "execution_count": null,
   "id": "f5e77d65-0ffd-4895-ba05-dfa7c28d8377",
   "metadata": {},
   "outputs": [],
   "source": []
  }
 ],
 "metadata": {
  "kernelspec": {
   "display_name": "Python 3 (ipykernel)",
   "language": "python",
   "name": "python3"
  },
  "language_info": {
   "codemirror_mode": {
    "name": "ipython",
    "version": 3
   },
   "file_extension": ".py",
   "mimetype": "text/x-python",
   "name": "python",
   "nbconvert_exporter": "python",
   "pygments_lexer": "ipython3",
   "version": "3.10.8"
  }
 },
 "nbformat": 4,
 "nbformat_minor": 5
}
