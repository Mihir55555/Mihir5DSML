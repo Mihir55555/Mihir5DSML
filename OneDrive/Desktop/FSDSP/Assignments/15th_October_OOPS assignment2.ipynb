{
 "cells": [
  {
   "cell_type": "code",
   "execution_count": 1,
   "id": "345580a9-65aa-4329-8c04-fbff46398e33",
   "metadata": {},
   "outputs": [],
   "source": [
    "#Constructor:"
   ]
  },
  {
   "cell_type": "code",
   "execution_count": null,
   "id": "aaf53ea1-4e69-49d5-95cc-2e144b5ae56c",
   "metadata": {},
   "outputs": [],
   "source": [
    "'''1.What is a constructor in Python? Explain its purpose and usage.\n",
    "\n",
    "Ans:\n",
    "\n",
    "Constructor is used to creating and initializing object of instance of class. by using thise constructor we can pass argument as input to function.\n",
    "\n",
    "'''"
   ]
  },
  {
   "cell_type": "code",
   "execution_count": null,
   "id": "b955fb26-3480-49c6-bd7f-7b419ef1cdba",
   "metadata": {},
   "outputs": [],
   "source": [
    "'''2. Differentiate between a parameterless constructor and a parameterized constructor in Python.\n",
    "\n",
    "Ans:\n",
    "\n",
    "parameterless constructor : the parameterless constructor that cannot take place any aruguments.\n",
    "\n",
    "Parameterized constructor : the parameterized constructor that can take place one or more argument.it is used to create object with custom values.\n",
    "\n",
    "'''"
   ]
  },
  {
   "cell_type": "code",
   "execution_count": 85,
   "id": "0f381c12-a88c-489b-a9ea-e7d96f9f6e73",
   "metadata": {},
   "outputs": [
    {
     "name": "stdout",
     "output_type": "stream",
     "text": [
      "abcd\n"
     ]
    }
   ],
   "source": [
    "'''3. How do you define a constructor in a Python class? Provide an example.\n",
    "\n",
    "Ans:\n",
    "\n",
    "We can define constructor in python by using __init__ method. thise method is also called as dunder method. We have given example of constructor\n",
    "\n",
    "'''\n",
    "class person:\n",
    "    def __init__(self ,name):\n",
    "        self.name =name \n",
    "        \n",
    "obj_person = person(\"abcd\")\n",
    "print(obj_person.name)"
   ]
  },
  {
   "cell_type": "code",
   "execution_count": null,
   "id": "23899b59-66e5-44c2-a912-aab469109ba9",
   "metadata": {},
   "outputs": [],
   "source": [
    "'''4. Explain the `__init__` method in Python and its role in constructors.\n",
    "\n",
    "Ans:\n",
    "\n",
    "__init__ is a constructor in python which accept which accept number of arguments.it is used to creating and initializing object\n",
    "\n",
    "'''"
   ]
  },
  {
   "cell_type": "code",
   "execution_count": 7,
   "id": "026a033b-ece8-4987-b176-a70d6d51add7",
   "metadata": {},
   "outputs": [],
   "source": [
    "'''5. In a class named `Person`, create a constructor that initializes the `name` and `age` attributes. Provide an\n",
    "example of creating an object of this class.'''\n",
    "\n",
    "class person:\n",
    "    def __init__(self,name,age):\n",
    "        self.name = name\n",
    "        self.age = age"
   ]
  },
  {
   "cell_type": "code",
   "execution_count": 9,
   "id": "997645df-50a2-4fe5-be48-8d6d080dd01d",
   "metadata": {},
   "outputs": [],
   "source": [
    "obj = person(\"abcd\",27)"
   ]
  },
  {
   "cell_type": "code",
   "execution_count": 10,
   "id": "77742172-9b43-4ead-b262-70ba366a52cd",
   "metadata": {},
   "outputs": [
    {
     "data": {
      "text/plain": [
       "'abcd'"
      ]
     },
     "execution_count": 10,
     "metadata": {},
     "output_type": "execute_result"
    }
   ],
   "source": [
    "obj.name"
   ]
  },
  {
   "cell_type": "code",
   "execution_count": 11,
   "id": "7723b7a0-4cb0-4d34-98b7-8bdd626d679b",
   "metadata": {},
   "outputs": [
    {
     "data": {
      "text/plain": [
       "27"
      ]
     },
     "execution_count": 11,
     "metadata": {},
     "output_type": "execute_result"
    }
   ],
   "source": [
    "obj.age"
   ]
  },
  {
   "cell_type": "code",
   "execution_count": 82,
   "id": "7e49a408-1ae7-49ff-beec-6bd5184717c5",
   "metadata": {},
   "outputs": [],
   "source": [
    "'''6. How can you call a constructor explicitly in Python? Give an example.\n",
    "\n",
    "Ans:\n",
    "\n",
    "We can call constructor by using super function. here we provide example \n",
    "\n",
    "'''\n",
    "\n",
    "class parent:\n",
    "    \n",
    "    def __init__(self ,x):\n",
    "        self.x =x\n",
    "        \n",
    "class child(parent):\n",
    "    \n",
    "    def __init__(self ,x):\n",
    "        super().__init__(x)"
   ]
  },
  {
   "cell_type": "code",
   "execution_count": 83,
   "id": "b611225b-359a-4a55-a87b-157fc9494110",
   "metadata": {},
   "outputs": [],
   "source": [
    "p_obj =child(\"male\")"
   ]
  },
  {
   "cell_type": "code",
   "execution_count": 84,
   "id": "834d2266-454b-45af-a2f1-813ec0f06683",
   "metadata": {},
   "outputs": [
    {
     "data": {
      "text/plain": [
       "'male'"
      ]
     },
     "execution_count": 84,
     "metadata": {},
     "output_type": "execute_result"
    }
   ],
   "source": [
    "p_obj.x"
   ]
  },
  {
   "cell_type": "code",
   "execution_count": 78,
   "id": "e7277b52-b307-48f9-9259-eb59da70c8d5",
   "metadata": {},
   "outputs": [],
   "source": [
    "'''7. What is the significance of the `self` parameter in Python constructors? Explain with an example.\n",
    "\n",
    "Ans:\n",
    "\n",
    "self parameter is used to access the attribute and method from class or else self is use to give referance to the class\n",
    "\n",
    "'''\n",
    "\n",
    "class vehicle :\n",
    "    \n",
    "    def __init__(self):\n",
    "        self.age = 26\n",
    "        self.gender =\"male\""
   ]
  },
  {
   "cell_type": "code",
   "execution_count": 79,
   "id": "77273d67-a649-4cfc-88b8-2248856dfdac",
   "metadata": {},
   "outputs": [],
   "source": [
    "obj_vehicle =vehicle()"
   ]
  },
  {
   "cell_type": "code",
   "execution_count": 80,
   "id": "98f0e9d3-3f12-4cc1-ae8e-5bd0ed1422ed",
   "metadata": {},
   "outputs": [
    {
     "data": {
      "text/plain": [
       "26"
      ]
     },
     "execution_count": 80,
     "metadata": {},
     "output_type": "execute_result"
    }
   ],
   "source": [
    "obj_vehicle.age"
   ]
  },
  {
   "cell_type": "code",
   "execution_count": 81,
   "id": "0d98fb37-8120-4ca0-afa3-3e96737a6342",
   "metadata": {},
   "outputs": [
    {
     "data": {
      "text/plain": [
       "'male'"
      ]
     },
     "execution_count": 81,
     "metadata": {},
     "output_type": "execute_result"
    }
   ],
   "source": [
    "obj_vehicle.gender"
   ]
  },
  {
   "cell_type": "code",
   "execution_count": null,
   "id": "6214fd8d-d0fe-467d-9183-a05844b7e5af",
   "metadata": {},
   "outputs": [],
   "source": [
    "'''8. Discuss the concept of default constructors in Python. When are they used?\n",
    "\n",
    "Ans:\n",
    "\n",
    "default constructor :\n",
    "\n",
    "default constructor is simple constructor it has not accept any argument.deafault is used when we use to create an object with default values.\n",
    "\n",
    "'''"
   ]
  },
  {
   "cell_type": "code",
   "execution_count": 19,
   "id": "328f20dd-3aa9-4032-9169-49c5d70152b1",
   "metadata": {},
   "outputs": [],
   "source": [
    "'''9. Create a Python class called `Rectangle` with a constructor that initializes the `width` and `height`\n",
    "attributes. Provide a method to calculate the area of the rectangle.'''\n",
    "\n",
    "class Rectangle:\n",
    "    \n",
    "    def __init__(self,width,length):\n",
    "        self.width = width\n",
    "        self.length = length\n",
    "    \n",
    "    def calculate_area(self):\n",
    "        return self.width * self.length"
   ]
  },
  {
   "cell_type": "code",
   "execution_count": 26,
   "id": "eb75419a-9290-428f-985f-8ee1a0c3765e",
   "metadata": {},
   "outputs": [],
   "source": [
    "obj_Rectangle = Rectangle(12,16)"
   ]
  },
  {
   "cell_type": "code",
   "execution_count": 27,
   "id": "9e7dcc3f-bc2b-4897-91ee-1c78be543920",
   "metadata": {},
   "outputs": [
    {
     "data": {
      "text/plain": [
       "12"
      ]
     },
     "execution_count": 27,
     "metadata": {},
     "output_type": "execute_result"
    }
   ],
   "source": [
    "obj_Rectangle.width"
   ]
  },
  {
   "cell_type": "code",
   "execution_count": 28,
   "id": "95a05788-e0e4-4ee8-82f7-84fca7f4697d",
   "metadata": {},
   "outputs": [
    {
     "data": {
      "text/plain": [
       "16"
      ]
     },
     "execution_count": 28,
     "metadata": {},
     "output_type": "execute_result"
    }
   ],
   "source": [
    "obj_Rectangle.length"
   ]
  },
  {
   "cell_type": "code",
   "execution_count": 29,
   "id": "0600c4eb-794e-44cf-986a-2a7a0558c9e7",
   "metadata": {},
   "outputs": [
    {
     "data": {
      "text/plain": [
       "192"
      ]
     },
     "execution_count": 29,
     "metadata": {},
     "output_type": "execute_result"
    }
   ],
   "source": [
    "obj_Rectangle.calculate_area()"
   ]
  },
  {
   "cell_type": "code",
   "execution_count": 64,
   "id": "9693ad38-6a7e-42c6-b131-68f23a1be810",
   "metadata": {},
   "outputs": [],
   "source": [
    "'''10. How can you have multiple constructors in a Python class? Explain with an example.\n",
    "\n",
    "Ans:\n",
    "\n",
    "We can use multiple constructor by using @classmethod.thise is a powerful techniques which is allowed to used multiple consdtuctor\n",
    "\n",
    "'''\n",
    "\n",
    "class parent:\n",
    "    \n",
    "    def __init__(self ,name ,email):\n",
    "        self.name = name\n",
    "        self.email = email\n",
    "        \n",
    "    @classmethod    \n",
    "    def child(cls,name,email):\n",
    "        return cls(name ,email)\n",
    "    \n",
    "    def show_details(self):\n",
    "        return self.name ,self.email"
   ]
  },
  {
   "cell_type": "code",
   "execution_count": 65,
   "id": "4bbcc509-5217-47f3-99bc-a4b7b65d8005",
   "metadata": {},
   "outputs": [],
   "source": [
    "obj_child = parent.child(\"abcd\",\"ab1234cd@gmail.com\")"
   ]
  },
  {
   "cell_type": "code",
   "execution_count": 66,
   "id": "3b76702b-bc71-448e-9c37-9f1e32c90892",
   "metadata": {},
   "outputs": [
    {
     "data": {
      "text/plain": [
       "'abcd'"
      ]
     },
     "execution_count": 66,
     "metadata": {},
     "output_type": "execute_result"
    }
   ],
   "source": [
    "obj_child.name"
   ]
  },
  {
   "cell_type": "code",
   "execution_count": 67,
   "id": "9ec9beb6-9250-4f3f-804b-082b4dbf2dbd",
   "metadata": {},
   "outputs": [
    {
     "data": {
      "text/plain": [
       "'ab1234cd@gmail.com'"
      ]
     },
     "execution_count": 67,
     "metadata": {},
     "output_type": "execute_result"
    }
   ],
   "source": [
    "obj_child.email"
   ]
  },
  {
   "cell_type": "code",
   "execution_count": 68,
   "id": "46fba49d-fb1c-4873-94e9-65719acbb2b2",
   "metadata": {},
   "outputs": [
    {
     "data": {
      "text/plain": [
       "('abcd', 'ab1234cd@gmail.com')"
      ]
     },
     "execution_count": 68,
     "metadata": {},
     "output_type": "execute_result"
    }
   ],
   "source": [
    "obj_child.show_details()"
   ]
  },
  {
   "cell_type": "code",
   "execution_count": null,
   "id": "41e2af30-19be-4aae-af52-2e4a109d6a43",
   "metadata": {},
   "outputs": [],
   "source": [
    "'''11. What is method overloading, and how is it related to constructors in Python?\n",
    "\n",
    "Ans:\n",
    "\n",
    "If two method having same name we call the methods it is overloaded.f the constructor is written two times with different signatures, we call constructor overloading. \n",
    "\n",
    "'''"
   ]
  },
  {
   "cell_type": "code",
   "execution_count": 69,
   "id": "be5f095f-23a1-41eb-871f-67bdb3049b17",
   "metadata": {},
   "outputs": [],
   "source": [
    "'''12. Explain the use of the `super()` function in Python constructors. Provide an example.\n",
    "\n",
    "Ans:\n",
    "\n",
    "suppose if we can define parameter first constructor and same parameter we have define in second constructor the we do not need to define it again by using super function we can use it.\n",
    "\n",
    "'''\n",
    "\n",
    "class parent:\n",
    "    \n",
    "    def __init__(self ,x):\n",
    "        self.x =x\n",
    "        \n",
    "class child(parent):\n",
    "    \n",
    "    def __init__(self ,x):\n",
    "        super().__init__(x)"
   ]
  },
  {
   "cell_type": "code",
   "execution_count": 70,
   "id": "bfda51b8-99b5-4a51-a6e9-3e6e1c7b3485",
   "metadata": {},
   "outputs": [],
   "source": [
    "obj_a = parent(\"abcd\")"
   ]
  },
  {
   "cell_type": "code",
   "execution_count": 71,
   "id": "9d7f11e6-265f-49b5-81d6-7f5edbd675b5",
   "metadata": {},
   "outputs": [
    {
     "data": {
      "text/plain": [
       "'abcd'"
      ]
     },
     "execution_count": 71,
     "metadata": {},
     "output_type": "execute_result"
    }
   ],
   "source": [
    "obj_a.x"
   ]
  },
  {
   "cell_type": "code",
   "execution_count": 51,
   "id": "fb9e2ab6-4305-4f30-9e1a-ecd0b160181e",
   "metadata": {},
   "outputs": [],
   "source": [
    "'''13.Create a class called Book with a constructor that initializes the title, author, and published_year attributes. Provide a method to display book details.'''\n",
    "\n",
    "class book:\n",
    "    \n",
    "    def __init__(self,title,author,publish_year):\n",
    "        self.title = title\n",
    "        self.author = author\n",
    "        self.publish_year = publish_year\n",
    "        \n",
    "    def display_book_details(self):\n",
    "        return self.title,self.author,self.publish_year"
   ]
  },
  {
   "cell_type": "code",
   "execution_count": 52,
   "id": "288d97c1-2e6f-4c76-9a47-a9bb7e94613d",
   "metadata": {},
   "outputs": [],
   "source": [
    "obj_book =book(\"Trust\",\"abcd\",2010)"
   ]
  },
  {
   "cell_type": "code",
   "execution_count": 53,
   "id": "0c171611-08b8-4a9c-abe4-129e71493bdf",
   "metadata": {},
   "outputs": [
    {
     "data": {
      "text/plain": [
       "'Trust'"
      ]
     },
     "execution_count": 53,
     "metadata": {},
     "output_type": "execute_result"
    }
   ],
   "source": [
    "obj_book.title"
   ]
  },
  {
   "cell_type": "code",
   "execution_count": 54,
   "id": "fd777351-6bea-4e20-86d8-6c5751bcfc24",
   "metadata": {},
   "outputs": [
    {
     "data": {
      "text/plain": [
       "'abcd'"
      ]
     },
     "execution_count": 54,
     "metadata": {},
     "output_type": "execute_result"
    }
   ],
   "source": [
    "obj_book.author"
   ]
  },
  {
   "cell_type": "code",
   "execution_count": 56,
   "id": "65d0b2b5-7ea5-45ed-93db-b99090f1c08c",
   "metadata": {},
   "outputs": [
    {
     "data": {
      "text/plain": [
       "2010"
      ]
     },
     "execution_count": 56,
     "metadata": {},
     "output_type": "execute_result"
    }
   ],
   "source": [
    "obj_book.publish_year"
   ]
  },
  {
   "cell_type": "code",
   "execution_count": 57,
   "id": "8677ed4c-4984-4f40-9f57-d4f6a0bc1549",
   "metadata": {},
   "outputs": [
    {
     "data": {
      "text/plain": [
       "('Trust', 'abcd', 2010)"
      ]
     },
     "execution_count": 57,
     "metadata": {},
     "output_type": "execute_result"
    }
   ],
   "source": [
    "obj_book.display_book_details()"
   ]
  },
  {
   "cell_type": "code",
   "execution_count": null,
   "id": "ac74b865-5ea4-4a08-8b0f-e726a04c6f06",
   "metadata": {},
   "outputs": [],
   "source": [
    "'''14. Discuss the differences between constructors and regular methods in Python classes.\n",
    "\n",
    "Ans:\n",
    "\n",
    "A constructor is block of code that initialize newly created object.\n",
    "\n",
    "diff:\n",
    "\n",
    "The regualar method is collection of statement which return a values its upon exection.\n",
    "\n",
    "'''"
   ]
  },
  {
   "cell_type": "code",
   "execution_count": null,
   "id": "78ff0137-b0da-45c3-8798-5b3aa6381bf9",
   "metadata": {},
   "outputs": [],
   "source": [
    "'''15. Explain the role of the `self` parameter in instance variable initialization within a constructor.\n",
    "\n",
    "Ans:\n",
    "\n",
    "Self is an instance of class we can access the attribute and method from class. OR self parameter is given referance of paramter to class.\n",
    "\n",
    "'''"
   ]
  },
  {
   "cell_type": "code",
   "execution_count": 72,
   "id": "8f2647aa-220d-4ac8-a9a4-f83c510815d5",
   "metadata": {},
   "outputs": [],
   "source": [
    "'''16. How do you prevent a class from having multiple instances by using constructors in Python? Provide an\n",
    "example.\n",
    "\n",
    "Ans:\n",
    "\n",
    "To prevent a class from having multiple instances by using constructors in Python, you can use the Singleton pattern. The Singleton pattern is a design pattern that restricts the instantiation of a class to one object. This is useful when exactly one object is needed to coordinate actions across the system.\n",
    "\n",
    "'''\n",
    "\n",
    "class Singleton:\n",
    "    _instance = None\n",
    "\n",
    "    def __new__(cls, *args, **kwargs):\n",
    "        if cls._instance is None:\n",
    "            cls._instance = super().__new__(cls)\n",
    "        return cls._instance\n",
    "\n",
    "    def __init__(self):\n",
    "        pass\n",
    "\n",
    "    @staticmethod\n",
    "    def get_instance():\n",
    "        if Singleton._instance is None:\n",
    "            Singleton._instance = Singleton()\n",
    "        return Singleton._instance"
   ]
  },
  {
   "cell_type": "code",
   "execution_count": 73,
   "id": "357306ef-b6d7-479b-a6f4-825a2e68d9df",
   "metadata": {},
   "outputs": [
    {
     "name": "stdout",
     "output_type": "stream",
     "text": [
      "<__main__.Singleton object at 0x7f838c0bf0d0>\n"
     ]
    }
   ],
   "source": [
    "singleton_instance = Singleton.get_instance()\n",
    "print(singleton_instance)"
   ]
  },
  {
   "cell_type": "code",
   "execution_count": 74,
   "id": "ccf19c57-7afe-437f-9a6b-9c098ff247dd",
   "metadata": {},
   "outputs": [],
   "source": [
    "'''17. Create a Python class called `Student` with a constructor that takes a list of subjects as a parameter and\n",
    "initializes the `subjects` attribute. '''\n",
    "\n",
    "class student:\n",
    "    \n",
    "    def __init__(self ,list_of_subject):\n",
    "        self.list_of_subject = list(list_of_subject)\n",
    "        \n",
    "    def show_subject(self):\n",
    "        return self.list_of_subject"
   ]
  },
  {
   "cell_type": "code",
   "execution_count": 75,
   "id": "40232900-281e-4df5-9911-2f6b0014679e",
   "metadata": {},
   "outputs": [],
   "source": [
    "obj_student = student([\"data science\",\"ML\",\"AI\",\"full satck data science\",\"Big data\",\"cloud\"])"
   ]
  },
  {
   "cell_type": "code",
   "execution_count": 76,
   "id": "40629596-6923-43c0-ad21-93008096a8e5",
   "metadata": {},
   "outputs": [
    {
     "data": {
      "text/plain": [
       "['data science', 'ML', 'AI', 'full satck data science', 'Big data', 'cloud']"
      ]
     },
     "execution_count": 76,
     "metadata": {},
     "output_type": "execute_result"
    }
   ],
   "source": [
    "obj_student.list_of_subject"
   ]
  },
  {
   "cell_type": "code",
   "execution_count": 77,
   "id": "10046eca-6023-4c64-a84f-d4560f40b18f",
   "metadata": {},
   "outputs": [
    {
     "data": {
      "text/plain": [
       "['data science', 'ML', 'AI', 'full satck data science', 'Big data', 'cloud']"
      ]
     },
     "execution_count": 77,
     "metadata": {},
     "output_type": "execute_result"
    }
   ],
   "source": [
    "obj_student.show_subject()"
   ]
  },
  {
   "cell_type": "code",
   "execution_count": null,
   "id": "355466f3-d03a-44d6-8fa0-4575d2045a71",
   "metadata": {},
   "outputs": [],
   "source": [
    "'''18. What is the purpose of the `__del__` method in Python classes, and how does it relate to constructors?\n",
    "\n",
    "Ans:\n",
    "\n",
    "In Python, the __del__() method is referred to as a destructor method. It is called after an object's garbage collection occurs, which happens after all references to the item have been destroyed. Student table created. Destructor called, Student table deleted.\n",
    "\n",
    "'''"
   ]
  },
  {
   "cell_type": "code",
   "execution_count": 93,
   "id": "a9fdf1f5-bd59-44c2-a618-df79856a4a5d",
   "metadata": {},
   "outputs": [],
   "source": [
    "'''19. Explain the use of constructor chaining in Python. Provide a practical example.\n",
    "\n",
    "Ans:\n",
    "\n",
    "In Python, constructor chaining is convenient when we are dealing with inheritance. When an instance of a child class is initialized, the constructors of all the parent classes are first invoked and then, in the end, the constructor of the child class is invoked.\n",
    "\n",
    "'''\n",
    "\n",
    "class Human:\n",
    "    \n",
    "    def __init__(self):\n",
    "        print(\"This is human Constructor\")\n",
    "\n",
    "    def who(self):\n",
    "        print(\"I am Human\")\n",
    "\n",
    "\n",
    "class Man(Human):\n",
    "    \n",
    "    def __init__(self):\n",
    "        print(\"This is Man Constructor\")\n",
    "\n",
    "    def who(self):\n",
    "        print(\"I am Man\")\n",
    "\n",
    "\n",
    "class Woman(Man):\n",
    "    \n",
    "    def __init__(self):\n",
    "        print(\"This is Woman Constructor\")\n",
    "\n",
    "    def who(self):\n",
    "        print(\"I am Woman\")"
   ]
  },
  {
   "cell_type": "code",
   "execution_count": 94,
   "id": "5fb4a4de-83fc-46f3-9afb-f6c297d9ffe1",
   "metadata": {},
   "outputs": [
    {
     "name": "stdout",
     "output_type": "stream",
     "text": [
      "This is Woman Constructor\n"
     ]
    }
   ],
   "source": [
    "obj_women = Woman()"
   ]
  },
  {
   "cell_type": "code",
   "execution_count": 95,
   "id": "fca18072-cf1b-4e9b-a94a-d483ff4755f0",
   "metadata": {},
   "outputs": [
    {
     "data": {
      "text/plain": [
       "<bound method Woman.who of <__main__.Woman object at 0x7f838c0be740>>"
      ]
     },
     "execution_count": 95,
     "metadata": {},
     "output_type": "execute_result"
    }
   ],
   "source": [
    "obj_women.who"
   ]
  },
  {
   "cell_type": "code",
   "execution_count": 96,
   "id": "5147e6d0-9ebb-4bec-ba63-02f07502199a",
   "metadata": {},
   "outputs": [],
   "source": [
    "'''20. Create a Python class called `Car` with a default constructor that initializes the `make` and `model`\n",
    "attributes. Provide a method to display car information.'''\n",
    "\n",
    "class car:\n",
    "    \n",
    "    def __init__(self,make,model):\n",
    "        self.make = make\n",
    "        self.model = model\n",
    "        \n",
    "    def display_car_info(self):\n",
    "        return self.make,self.model"
   ]
  },
  {
   "cell_type": "code",
   "execution_count": 97,
   "id": "6b168307-faff-4e52-bbe1-df84fcaa6389",
   "metadata": {},
   "outputs": [],
   "source": [
    "obj_car = car(2023,\"TATA\")"
   ]
  },
  {
   "cell_type": "code",
   "execution_count": 100,
   "id": "331bd588-1c11-416b-b2f7-c4ba353202cb",
   "metadata": {},
   "outputs": [
    {
     "data": {
      "text/plain": [
       "2023"
      ]
     },
     "execution_count": 100,
     "metadata": {},
     "output_type": "execute_result"
    }
   ],
   "source": [
    "obj_car.make"
   ]
  },
  {
   "cell_type": "code",
   "execution_count": 101,
   "id": "0592f153-2a5a-4ced-9781-42d6c975ead6",
   "metadata": {},
   "outputs": [
    {
     "data": {
      "text/plain": [
       "'TATA'"
      ]
     },
     "execution_count": 101,
     "metadata": {},
     "output_type": "execute_result"
    }
   ],
   "source": [
    "obj_car.model"
   ]
  },
  {
   "cell_type": "code",
   "execution_count": 102,
   "id": "ed22b3a3-2a4c-4a12-b927-f1c069cca99e",
   "metadata": {},
   "outputs": [
    {
     "data": {
      "text/plain": [
       "(2023, 'TATA')"
      ]
     },
     "execution_count": 102,
     "metadata": {},
     "output_type": "execute_result"
    }
   ],
   "source": [
    "obj_car.display_car_info()"
   ]
  },
  {
   "cell_type": "code",
   "execution_count": 104,
   "id": "9975f600-68ef-49b8-ad94-8dc61b6e803a",
   "metadata": {},
   "outputs": [],
   "source": [
    "#Inheritance:"
   ]
  },
  {
   "cell_type": "code",
   "execution_count": null,
   "id": "2ef44f9e-4ad9-4449-b798-1b545c62d3b6",
   "metadata": {},
   "outputs": [],
   "source": [
    "'''1. What is inheritance in Python? Explain its significance in object-oriented programming.\n",
    "\n",
    "Ans:\n",
    "\n",
    "Inheritence is a piller of OOPs in python which one class is inherite to another clas with its attributes and methods.The class whose properties and methods are inherited is known as the Parent class. And the class that inherits the properties from the parent class is the Child class.\n",
    "\n",
    "'''"
   ]
  },
  {
   "cell_type": "code",
   "execution_count": null,
   "id": "f8798ff9-ac35-453f-91ca-1e8d72351265",
   "metadata": {},
   "outputs": [],
   "source": [
    "'''2. Differentiate between single inheritance and multiple inheritance in Python. Provide examples for each.\n",
    "\n",
    "Ans:\n",
    "\n",
    "Single Inheritasnce: In single inheritance derived class will inherite single base class .\n",
    "\n",
    "Multiple Inheritance:The class base class will be inherite to two or more classes.\n",
    "\n",
    "'''"
   ]
  },
  {
   "cell_type": "code",
   "execution_count": 1,
   "id": "206d4e2b-ef9d-47b0-9d12-e2e80f1c36de",
   "metadata": {},
   "outputs": [],
   "source": [
    "'''3. Create a Python class called `Vehicle` with attributes `color` and `speed`. Then, create a child class called\n",
    "`Car` that inherits from `Vehicle` and adds a `brand` attribute. Provide an example of creating a `Car` object.'''\n",
    "\n",
    "class Vehicle:\n",
    "    \n",
    "    def __init__(self,color,speed):\n",
    "        self.color = color\n",
    "        self.speed = speed\n",
    "        \n",
    "class Car(Vehicle):\n",
    "    \n",
    "    def car_brand(self,brand):\n",
    "        self.brand = brand\n",
    "        print(f\"This is car brand name is {self.brand}\")"
   ]
  },
  {
   "cell_type": "code",
   "execution_count": 4,
   "id": "f9c1dbb8-da6d-40ec-9e39-2f8a8ab07932",
   "metadata": {},
   "outputs": [],
   "source": [
    "obj_car = Car(\"blue\",500)"
   ]
  },
  {
   "cell_type": "code",
   "execution_count": 5,
   "id": "c44a1490-b426-4d13-a913-effe2f23f808",
   "metadata": {},
   "outputs": [
    {
     "data": {
      "text/plain": [
       "'blue'"
      ]
     },
     "execution_count": 5,
     "metadata": {},
     "output_type": "execute_result"
    }
   ],
   "source": [
    "obj_car.color"
   ]
  },
  {
   "cell_type": "code",
   "execution_count": 6,
   "id": "aeccadaf-c465-4641-a24b-491b15d5e1b9",
   "metadata": {},
   "outputs": [
    {
     "data": {
      "text/plain": [
       "500"
      ]
     },
     "execution_count": 6,
     "metadata": {},
     "output_type": "execute_result"
    }
   ],
   "source": [
    "obj_car.speed"
   ]
  },
  {
   "cell_type": "code",
   "execution_count": 7,
   "id": "453bf5b9-d6a7-4272-b49f-1bd5b2f4ce2d",
   "metadata": {},
   "outputs": [
    {
     "name": "stdout",
     "output_type": "stream",
     "text": [
      "This is car brand name is BMW\n"
     ]
    }
   ],
   "source": [
    "obj_car.car_brand(\"BMW\")"
   ]
  },
  {
   "cell_type": "code",
   "execution_count": 11,
   "id": "df2cf283-d537-48a1-b0ba-3ccce32fa804",
   "metadata": {},
   "outputs": [],
   "source": [
    "'''4. Explain the concept of method overriding in inheritance. Provide a practical example.\n",
    "\n",
    "Ans:\n",
    "\n",
    "Method overriding in Python allows you to use functions and methods with the same name or signature. This method cannot be done in the same class. And overriding can only be done when a child class is derived through inheritance. Runtime polymorphism is certainly exemplified through method overloading.\n",
    "\n",
    "'''\n",
    "\n",
    "#example\n",
    "\n",
    "class parent:\n",
    "    \n",
    "    def __init__(self):\n",
    "        self.value = \"parent class detail\"\n",
    "        \n",
    "    def show_method(self):\n",
    "        return self.value\n",
    "    \n",
    "class child(parent):\n",
    "    \n",
    "    def __init__(self):\n",
    "        self.value =\"child class detail\"\n",
    "        \n",
    "    def show_method(self):\n",
    "        return self.value"
   ]
  },
  {
   "cell_type": "code",
   "execution_count": 12,
   "id": "91e92cd7-e84a-4e1e-bbb0-e39a12c787aa",
   "metadata": {},
   "outputs": [],
   "source": [
    "obj_car = child()"
   ]
  },
  {
   "cell_type": "code",
   "execution_count": 14,
   "id": "fb566d20-b0fb-4b8d-b73b-2b474f14386b",
   "metadata": {},
   "outputs": [
    {
     "data": {
      "text/plain": [
       "'child class detail'"
      ]
     },
     "execution_count": 14,
     "metadata": {},
     "output_type": "execute_result"
    }
   ],
   "source": [
    "obj_car.show_method()"
   ]
  },
  {
   "cell_type": "code",
   "execution_count": 15,
   "id": "4d6ca8a1-14e0-4869-b8a9-bd096f501544",
   "metadata": {},
   "outputs": [],
   "source": [
    "obj_parent = parent()"
   ]
  },
  {
   "cell_type": "code",
   "execution_count": 16,
   "id": "c4db84d3-8de4-4427-8ab4-f0cf94910d93",
   "metadata": {},
   "outputs": [
    {
     "data": {
      "text/plain": [
       "'parent class detail'"
      ]
     },
     "execution_count": 16,
     "metadata": {},
     "output_type": "execute_result"
    }
   ],
   "source": [
    "obj_parent.show_method()"
   ]
  },
  {
   "cell_type": "code",
   "execution_count": 18,
   "id": "7b60e7e4-ad99-4ade-be6f-269328efa543",
   "metadata": {},
   "outputs": [],
   "source": [
    "'''5. How can you access the methods and attributes of a parent class from a child class in Python? Give an\n",
    "example.\n",
    "\n",
    "Ans:\n",
    "\n",
    "first we can create object of child class which will inherite to parent class. after creation of object all method from child and parent class it will be accessable.\n",
    "\n",
    "'''\n",
    "\n",
    "#example:\n",
    "\n",
    "class room:\n",
    "    \n",
    "    def __init__(self,total_fan,total_lights):\n",
    "        self.total_fan = total_fan\n",
    "        self.total_lights = total_lights\n",
    "        \n",
    "    def show_equipments(self):\n",
    "        print(self.total_fan ,self.total_lights)\n",
    "        \n",
    "class hall(room):\n",
    "    \n",
    "    def hall_details(self):\n",
    "        self.sofa =\"sofa\"\n",
    "        self.bed =\"bed\"\n",
    "        self.chair= \"chair\"\n",
    "        print(self.sofa , self.bed ,self.chair)"
   ]
  },
  {
   "cell_type": "code",
   "execution_count": 19,
   "id": "58229519-4d75-45cd-b810-d57502c202b8",
   "metadata": {},
   "outputs": [],
   "source": [
    "obj_hall = hall(5 ,10)"
   ]
  },
  {
   "cell_type": "code",
   "execution_count": 20,
   "id": "4f4ccef8-ef20-41b8-b39c-df769f2e0068",
   "metadata": {},
   "outputs": [
    {
     "name": "stdout",
     "output_type": "stream",
     "text": [
      "sofa bed chair\n"
     ]
    }
   ],
   "source": [
    "obj_hall.hall_details()"
   ]
  },
  {
   "cell_type": "code",
   "execution_count": 21,
   "id": "a486e6e2-3b3a-48f9-8645-945153c1084f",
   "metadata": {},
   "outputs": [
    {
     "name": "stdout",
     "output_type": "stream",
     "text": [
      "5 10\n"
     ]
    }
   ],
   "source": [
    "obj_hall.show_equipments()"
   ]
  },
  {
   "cell_type": "code",
   "execution_count": 22,
   "id": "b518bbec-ae07-405b-bcac-53128429873f",
   "metadata": {},
   "outputs": [
    {
     "data": {
      "text/plain": [
       "'chair'"
      ]
     },
     "execution_count": 22,
     "metadata": {},
     "output_type": "execute_result"
    }
   ],
   "source": [
    "obj_hall.chair"
   ]
  },
  {
   "cell_type": "code",
   "execution_count": 23,
   "id": "5c1212a5-f3e5-4757-893d-7e29955edd16",
   "metadata": {},
   "outputs": [
    {
     "data": {
      "text/plain": [
       "5"
      ]
     },
     "execution_count": 23,
     "metadata": {},
     "output_type": "execute_result"
    }
   ],
   "source": [
    "obj_hall.total_fan"
   ]
  },
  {
   "cell_type": "code",
   "execution_count": 24,
   "id": "16ceb79a-bfc6-497a-b518-7abcabb9154a",
   "metadata": {},
   "outputs": [
    {
     "data": {
      "text/plain": [
       "10"
      ]
     },
     "execution_count": 24,
     "metadata": {},
     "output_type": "execute_result"
    }
   ],
   "source": [
    "obj_hall.total_lights"
   ]
  },
  {
   "cell_type": "code",
   "execution_count": 30,
   "id": "81ddea03-9136-4d82-b74f-90b24e87df25",
   "metadata": {},
   "outputs": [],
   "source": [
    "'''6. Discuss the use of the `super()` function in Python inheritance. When and why is it used? Provide an\n",
    "example.\n",
    "\n",
    "Ans:\n",
    "\n",
    "In Python, the super() function is used to refer to the parent class or superclass. It allows you to call methods defined in the superclass from the subclass, enabling you to extend and customize the functionality inherited from the parent class.\n",
    "\n",
    "'''\n",
    "\n",
    "#example:\n",
    "\n",
    "class emp:\n",
    "    \n",
    "    def __init__(self ,emp_id,name):\n",
    "        self.emp_id =emp_id\n",
    "        self.name = name\n",
    "        \n",
    "    def show_emp_details(self):\n",
    "        return self.emp_id,self.name\n",
    "    \n",
    "class freelance(emp):\n",
    "    \n",
    "    def __init__(self,emp_id,name,email_id):\n",
    "        super().__init__(emp_id,name)\n",
    "        self.email_id = email_id"
   ]
  },
  {
   "cell_type": "code",
   "execution_count": 31,
   "id": "d541b9f4-5dce-44de-896a-1d935f14f710",
   "metadata": {},
   "outputs": [],
   "source": [
    "obj_freelance = freelance(123,\"abcd\",\"ab123cd@gmail.com\")"
   ]
  },
  {
   "cell_type": "code",
   "execution_count": 33,
   "id": "e94b40a2-7643-4ef4-8f92-b704e8141a00",
   "metadata": {},
   "outputs": [
    {
     "data": {
      "text/plain": [
       "(123, 'abcd')"
      ]
     },
     "execution_count": 33,
     "metadata": {},
     "output_type": "execute_result"
    }
   ],
   "source": [
    "obj_freelance.show_emp_details()"
   ]
  },
  {
   "cell_type": "code",
   "execution_count": 34,
   "id": "abf87acc-798d-4571-88f5-605d108ad61e",
   "metadata": {},
   "outputs": [
    {
     "data": {
      "text/plain": [
       "'ab123cd@gmail.com'"
      ]
     },
     "execution_count": 34,
     "metadata": {},
     "output_type": "execute_result"
    }
   ],
   "source": [
    "obj_freelance.email_id"
   ]
  },
  {
   "cell_type": "code",
   "execution_count": 1,
   "id": "6ec3ce30-af43-4346-98a5-20992acb7143",
   "metadata": {},
   "outputs": [],
   "source": [
    "'''7. Create a Python class called Animal with a method speak(). Then, create child classes Dog and Cat that inherit from Animal and override the speak() method. Provide an example of using these classes.'''\n",
    "\n",
    "class Animal :\n",
    "    \n",
    "    def speak(self):\n",
    "        return \"Animal is speaking\"\n",
    "    \n",
    "class dog(Animal):\n",
    "    \n",
    "    def speak(self):\n",
    "        print(\"Dog is speaking\")\n",
    "        \n",
    "class cat(dog,Animal):\n",
    "    \n",
    "    def speak(self):\n",
    "        print(\"Cat is speakin\")"
   ]
  },
  {
   "cell_type": "code",
   "execution_count": 2,
   "id": "3ceb18a4-f427-4892-8baa-4092e1e52080",
   "metadata": {},
   "outputs": [],
   "source": [
    "obj_cat = cat()"
   ]
  },
  {
   "cell_type": "code",
   "execution_count": 3,
   "id": "b0f20139-601d-454f-8cd6-ecf705fa54f8",
   "metadata": {},
   "outputs": [
    {
     "name": "stdout",
     "output_type": "stream",
     "text": [
      "Cat is speakin\n"
     ]
    }
   ],
   "source": [
    "obj_cat.speak()"
   ]
  },
  {
   "cell_type": "code",
   "execution_count": 4,
   "id": "7129c68e-6790-4b79-bc33-2a29397f0659",
   "metadata": {},
   "outputs": [],
   "source": [
    "obj_dog = dog()"
   ]
  },
  {
   "cell_type": "code",
   "execution_count": 5,
   "id": "c8d0265d-333d-428b-ad46-f33c81d67645",
   "metadata": {},
   "outputs": [
    {
     "name": "stdout",
     "output_type": "stream",
     "text": [
      "Dog is speaking\n"
     ]
    }
   ],
   "source": [
    "obj_dog.speak()"
   ]
  },
  {
   "cell_type": "code",
   "execution_count": 6,
   "id": "df880c32-7a07-4604-8b45-778282737e5e",
   "metadata": {},
   "outputs": [],
   "source": [
    "obj_animal = Animal()"
   ]
  },
  {
   "cell_type": "code",
   "execution_count": 7,
   "id": "1f80f7d1-72f1-4ea8-bc64-0d19a093d5bc",
   "metadata": {},
   "outputs": [
    {
     "data": {
      "text/plain": [
       "'Animal is speaking'"
      ]
     },
     "execution_count": 7,
     "metadata": {},
     "output_type": "execute_result"
    }
   ],
   "source": [
    "obj_animal.speak()"
   ]
  },
  {
   "cell_type": "code",
   "execution_count": null,
   "id": "9880e487-4982-4fad-a73d-ae7f009fe777",
   "metadata": {},
   "outputs": [],
   "source": [
    "'''8.Explain the role of the isinstance() function in Python and how it relates to inheritance?\n",
    "\n",
    "Ans:\n",
    "\n",
    "The isinstance() function in Python is a built-in function used for type checking. It verifies if an object is of a specified type, returning True if it is, and False otherwise. In this case, isinstance() returns True because x is an integer. Python has two built-in functions that work with inheritance: Use isinstance() to check an instance's type: isinstance(obj, int) will be True only if obj.__class__ is int or some class derived from int.\n",
    "\n",
    "'''"
   ]
  },
  {
   "cell_type": "code",
   "execution_count": null,
   "id": "3d19bbcb-c9df-4a1f-93dc-bd593a197eb0",
   "metadata": {},
   "outputs": [],
   "source": [
    "'''9. What is the purpose of the `issubclass()` function in Python? Provide an example.\n",
    "\n",
    "Ans:\n",
    "\n",
    "The Python issubclass() is a built-in function that is used to check whether a class is the subclass of another class in the program or not.\n",
    "\n",
    "'''\n"
   ]
  },
  {
   "cell_type": "code",
   "execution_count": null,
   "id": "6943effd-46c5-4644-94f0-83b3268c5802",
   "metadata": {},
   "outputs": [],
   "source": [
    "'''10. Discuss the concept of constructor inheritance in Python. How are constructors inherited in child classes?\n",
    "\n",
    "Ans:\n",
    "\n",
    "Constructor of subclasses always called to a constructor of parent class to initialize value for the attributes in the parent class, then it start assign value for its attributes.'''\n",
    "\n",
    "'''"
   ]
  },
  {
   "cell_type": "code",
   "execution_count": 47,
   "id": "0755b580-918c-4e4d-8de2-5202238cde92",
   "metadata": {},
   "outputs": [],
   "source": [
    "'''11. Create a Python class called `Shape` with a method `area()` that calculates the area of a shape. Then, create child classes `Circle` and `Rectangle` that inherit from `Shape` and implement the `area()` method\n",
    "accordingly. Provide an example.'''\n",
    "\n",
    "class shape() :\n",
    "    \n",
    "    def area(self):\n",
    "        return \"Calculte the area of shape\"\n",
    "\n",
    "class Circle(shape):\n",
    "    \n",
    "    def area_of_circle(self,radious):\n",
    "        area_circle = 3.14 * (radious ** 2)\n",
    "        return \"Area of circle:\",area_circle\n",
    "\n",
    "class rectangle(Circle):\n",
    "    \n",
    "    def area_of_rectangle(self ,length ,Widths):\n",
    "        area_rectangle = length * Widths\n",
    "        return \"Area of rectangle:\",area_rectangle"
   ]
  },
  {
   "cell_type": "code",
   "execution_count": 48,
   "id": "ffdb1133-55c7-47c4-a6f9-22fb39e1e028",
   "metadata": {},
   "outputs": [],
   "source": [
    "obj_rectangle =rectangle()"
   ]
  },
  {
   "cell_type": "code",
   "execution_count": 49,
   "id": "08329454-7974-4d94-b703-22a7aaa9375a",
   "metadata": {},
   "outputs": [
    {
     "data": {
      "text/plain": [
       "'Calculte the area of shape'"
      ]
     },
     "execution_count": 49,
     "metadata": {},
     "output_type": "execute_result"
    }
   ],
   "source": [
    "obj_rectangle.area()"
   ]
  },
  {
   "cell_type": "code",
   "execution_count": 50,
   "id": "4fd1c1c5-e1d0-43b8-94aa-d7c3c928ba7c",
   "metadata": {},
   "outputs": [
    {
     "data": {
      "text/plain": [
       "('Area of circle:', 50.24)"
      ]
     },
     "execution_count": 50,
     "metadata": {},
     "output_type": "execute_result"
    }
   ],
   "source": [
    "obj_rectangle.area_of_circle(4)"
   ]
  },
  {
   "cell_type": "code",
   "execution_count": 51,
   "id": "9f0bdbfc-d36f-446d-b965-6ce9e202c21f",
   "metadata": {},
   "outputs": [
    {
     "data": {
      "text/plain": [
       "('Area of rectangle:', 48)"
      ]
     },
     "execution_count": 51,
     "metadata": {},
     "output_type": "execute_result"
    }
   ],
   "source": [
    "obj_rectangle.area_of_rectangle(6,8)"
   ]
  },
  {
   "cell_type": "code",
   "execution_count": 52,
   "id": "033d1ee6-01ea-4eaf-bf07-fc5ac1dfb3e7",
   "metadata": {},
   "outputs": [
    {
     "name": "stdout",
     "output_type": "stream",
     "text": [
      "area: 80\n"
     ]
    }
   ],
   "source": [
    "'''12. Explain the use of abstract base classes (ABCs) in Python and how they relate to inheritance. Provide an\n",
    "example using the `abc` module.\n",
    "\n",
    "Ans:\n",
    "\n",
    "In Python, you can create an abstract class using the abc module. This module provides the infrastructure for defining abstract base classes (ABCs). In this example, we import the ABC and abstractmethod from the abc module. We then define an abstract class AbstractClassExample using the ABC as the base class.\n",
    "\n",
    "'''\n",
    "\n",
    "#Example\n",
    " \n",
    "import abc\n",
    "class Shape(metaclass=abc.ABCMeta):\n",
    "    \n",
    "    @abc.abstractmethod\n",
    "    def area(self):\n",
    "        pass\n",
    "\n",
    "class Rectangle(Shape):\n",
    "    def __init__(self,x,y):\n",
    "        self.x = x\n",
    "        self.y=y\n",
    "        \n",
    "    def area(self):\n",
    "        return self.x * self.y\n",
    "    \n",
    "r = Rectangle(5,16)\n",
    "print('area:',r.area())"
   ]
  },
  {
   "cell_type": "code",
   "execution_count": 53,
   "id": "966a0cf2-cb95-4c09-bc5a-d5c012dca222",
   "metadata": {},
   "outputs": [
    {
     "ename": "AttributeError",
     "evalue": "'Child' object has no attribute '__name'",
     "output_type": "error",
     "traceback": [
      "\u001b[0;31m---------------------------------------------------------------------------\u001b[0m",
      "\u001b[0;31mAttributeError\u001b[0m                            Traceback (most recent call last)",
      "Cell \u001b[0;32mIn[53], line 23\u001b[0m\n\u001b[1;32m     20\u001b[0m     \u001b[38;5;28;01mpass\u001b[39;00m\n\u001b[1;32m     22\u001b[0m obj_child \u001b[38;5;241m=\u001b[39m Child()\n\u001b[0;32m---> 23\u001b[0m \u001b[38;5;28mprint\u001b[39m(\u001b[43mobj_child\u001b[49m\u001b[38;5;241;43m.\u001b[39;49m\u001b[43m__name\u001b[49m)\n",
      "\u001b[0;31mAttributeError\u001b[0m: 'Child' object has no attribute '__name'"
     ]
    }
   ],
   "source": [
    "'''13. How can you prevent a child class from modifying certain attributes or methods inherited from a parent\n",
    "class in Python?\n",
    "\n",
    "Ans :\n",
    "\n",
    "Use double underscores ( __ ) before the attribute or method name. This will make the attribute or method private, and it will not be accessible to the child class.\n",
    "\n",
    "'''\n",
    "\n",
    "#Example:\n",
    "\n",
    "class Parent:\n",
    "    def __init__(self):\n",
    "        self.__name = \"Parent\"\n",
    "\n",
    "    def get_name(self):\n",
    "        return self.__name\n",
    "\n",
    "class Child(Parent):\n",
    "    pass\n",
    "\n",
    "obj_child = Child()\n",
    "print(obj_child.__name)"
   ]
  },
  {
   "cell_type": "code",
   "execution_count": 54,
   "id": "44ac3c29-045a-4f65-bd50-7f695266dd03",
   "metadata": {},
   "outputs": [],
   "source": [
    "'''14. Create a Python class called `Employee` with attributes `name` and `salary`. Then, create a child class\n",
    "`Manager` that inherits from `Employee` and adds an attribute `department`. Provide an example.'''\n",
    "\n",
    "class Employee:\n",
    "    \n",
    "    def __init__(self,name,salary):\n",
    "        self.name = name\n",
    "        self.salary = salary\n",
    "        \n",
    "class Manager(Employee) :\n",
    "    \n",
    "    def __init__(self,name,salary,department):\n",
    "        super().__init__(name ,salary)\n",
    "        self.department = department"
   ]
  },
  {
   "cell_type": "code",
   "execution_count": 60,
   "id": "9df4e300-bf3a-4963-b31f-745996084a8a",
   "metadata": {},
   "outputs": [],
   "source": [
    "obj_Manger = Manager(\"abcd\",35000,\"Software\")"
   ]
  },
  {
   "cell_type": "code",
   "execution_count": 61,
   "id": "0d6ded43-9212-488d-890f-753bed895071",
   "metadata": {},
   "outputs": [
    {
     "data": {
      "text/plain": [
       "'Software'"
      ]
     },
     "execution_count": 61,
     "metadata": {},
     "output_type": "execute_result"
    }
   ],
   "source": [
    "obj_Manger.department"
   ]
  },
  {
   "cell_type": "code",
   "execution_count": 62,
   "id": "adb853fc-50de-4459-a8f2-012a3599800e",
   "metadata": {},
   "outputs": [
    {
     "data": {
      "text/plain": [
       "'abcd'"
      ]
     },
     "execution_count": 62,
     "metadata": {},
     "output_type": "execute_result"
    }
   ],
   "source": [
    "obj_Manger.name"
   ]
  },
  {
   "cell_type": "code",
   "execution_count": 63,
   "id": "975f108e-27bf-433c-94f1-a16671a1cbf6",
   "metadata": {},
   "outputs": [
    {
     "data": {
      "text/plain": [
       "35000"
      ]
     },
     "execution_count": 63,
     "metadata": {},
     "output_type": "execute_result"
    }
   ],
   "source": [
    "obj_Manger.salary"
   ]
  },
  {
   "cell_type": "code",
   "execution_count": null,
   "id": "e6e179c1-d5d0-4ae5-b8d9-7e18ddada4ea",
   "metadata": {},
   "outputs": [],
   "source": [
    "'''15. Discuss the concept of method overloading in Python inheritance. How does it differ from method\n",
    "overriding?\n",
    "\n",
    "Ans:\n",
    "\n",
    "Overloading:Method overloading is the ability to define multiple methods with the same name but different parameters. This is a common feature in many programming languages\n",
    "\n",
    "Overriding:Method overriding is the ability to redefine a method in a subclass that was originally defined in a superclass. This is a supported feature in Python, and it is a key part of object-oriented programming.\n",
    "\n",
    "'''"
   ]
  },
  {
   "cell_type": "code",
   "execution_count": null,
   "id": "bd94d19a-7a86-4ee2-81ce-b6cc5c2c715a",
   "metadata": {},
   "outputs": [],
   "source": [
    "'''16. Explain the purpose of the `__init__()` method in Python inheritance and how it is utilized in child classes.\n",
    "\n",
    "Ans :\n",
    "\n",
    "The __init__() method in Python inheritance is used to initialize the attributes of a new object. It is called automatically whenever a new object is created.\n",
    "Utilized in child class :\n",
    "\n",
    "The __init__() method of a child class can call the __init__() method of its parent class to initialize the parent class's attributes. This can be done using the super() function.\n",
    "\n",
    "'''"
   ]
  },
  {
   "cell_type": "code",
   "execution_count": 65,
   "id": "e35fed06-21e5-4e03-9ca9-3d597627540d",
   "metadata": {},
   "outputs": [],
   "source": [
    "'''17. Create a Python class called `Bird` with a method `fly()`. Then, create child classes `Eagle` and `Sparrow` that inherit from `Bird` and implement the `fly()` method differently. Provide an example of using these\n",
    "classes.'''\n",
    "\n",
    "class Bird():\n",
    "    \n",
    "    def fly(self):\n",
    "        print(\"Fly class\")\n",
    "        \n",
    "class Eagle(Bird):\n",
    "    \n",
    "    def fly(self):\n",
    "        print(\"Eagle Fly class\")\n",
    "        \n",
    "class Sparrow(Bird):\n",
    "    \n",
    "    def fly(self):\n",
    "        print(\"Sparrow Fly class\")"
   ]
  },
  {
   "cell_type": "code",
   "execution_count": 67,
   "id": "45fb3720-d63e-4128-b7c5-47a1b7bfbc3b",
   "metadata": {},
   "outputs": [],
   "source": [
    "Obj_Sparrow = Sparrow()"
   ]
  },
  {
   "cell_type": "code",
   "execution_count": 68,
   "id": "42ea8958-7cc5-4881-86ec-a1e2a2e9beb9",
   "metadata": {},
   "outputs": [
    {
     "name": "stdout",
     "output_type": "stream",
     "text": [
      "Sparrow Fly class\n"
     ]
    }
   ],
   "source": [
    "Obj_Sparrow.fly()"
   ]
  },
  {
   "cell_type": "code",
   "execution_count": 70,
   "id": "8127d248-2edb-4eb3-903d-55babbce9226",
   "metadata": {},
   "outputs": [],
   "source": [
    "obj_Eagle = Eagle()"
   ]
  },
  {
   "cell_type": "code",
   "execution_count": 71,
   "id": "c12a0b93-b85e-429f-bb85-064aa40472b0",
   "metadata": {},
   "outputs": [
    {
     "name": "stdout",
     "output_type": "stream",
     "text": [
      "Eagle Fly class\n"
     ]
    }
   ],
   "source": [
    "obj_Eagle.fly()"
   ]
  },
  {
   "cell_type": "code",
   "execution_count": 72,
   "id": "2cf22ded-a0e3-4b94-ba9f-7265bfb11907",
   "metadata": {},
   "outputs": [],
   "source": [
    "obj_bird = Bird()"
   ]
  },
  {
   "cell_type": "code",
   "execution_count": 74,
   "id": "d066d819-933a-4084-9c72-230c4cbe24c8",
   "metadata": {},
   "outputs": [
    {
     "name": "stdout",
     "output_type": "stream",
     "text": [
      "Fly class\n"
     ]
    }
   ],
   "source": [
    "obj_bird.fly()"
   ]
  },
  {
   "cell_type": "code",
   "execution_count": null,
   "id": "de5ac722-086d-4b4a-8dc3-7f0b55d2c2b6",
   "metadata": {},
   "outputs": [],
   "source": [
    "'''18. What is the \"diamond problem\" in multiple inheritance, and how does Python address it?\n",
    "\n",
    "Ans:\n",
    "\n",
    "The diamond problem in multiple inheritance is a situation where a class inherits from two parent classes, and those parent classes have a method with the same name. When this happens, it is unclear which method the child class should inherit.\n",
    "\n",
    "Python addresses the diamond problem by using a method resolution order (MRO). The MRO is a list of classes that determines the order in which the Python interpreter searches for methods. The MRO is calculated based on the class hierarchy, and it ensures that the child class will always inherit the method from the closest parent class.\n",
    "\n",
    "'''"
   ]
  },
  {
   "cell_type": "code",
   "execution_count": null,
   "id": "e11f75f4-bb01-4897-aec6-7492577c2f29",
   "metadata": {},
   "outputs": [],
   "source": [
    "'''19. Discuss the concept of \"is-a\" and \"has-a\" relationships in inheritance, and provide examples of each.\n",
    "\n",
    "Ans:\n",
    "\n",
    "An IS-A relationship is inheritance. The classes which inherit are known as sub classes or child classes. On the other hand, HAS-A relationship is composition.\n",
    "\n",
    "In OOP, IS-A relationship is completely inheritance. This means, that the child class is a type of parent class.\n",
    "\n",
    "'''"
   ]
  },
  {
   "cell_type": "code",
   "execution_count": null,
   "id": "2e65a9e7-8f6e-485b-b82c-073d4dd12a7e",
   "metadata": {},
   "outputs": [],
   "source": [
    "#Example of is-a relationships"
   ]
  },
  {
   "cell_type": "code",
   "execution_count": 88,
   "id": "55024ae8-bd02-4f00-a41b-c1e100b11bf9",
   "metadata": {},
   "outputs": [],
   "source": [
    "class A:\n",
    "    \n",
    "    def __init__(self):\n",
    "        print('Class - A Constructor')\n",
    " \n",
    "    def m1(self):\n",
    "        print('M1 method of Class - A.')\n",
    " \n",
    "class B:\n",
    "    \n",
    "    def __init__(self):\n",
    "        print('Class - B Constructor.')\n",
    "\n",
    "    def m2(self):\n",
    "        obj = A()\n",
    "        obj.m1()\n",
    "        print('M2 method of Class - B.')"
   ]
  },
  {
   "cell_type": "code",
   "execution_count": 89,
   "id": "6064b3b2-3e5e-4655-94be-1e9a476a57c0",
   "metadata": {},
   "outputs": [
    {
     "name": "stdout",
     "output_type": "stream",
     "text": [
      "Class - B Constructor.\n"
     ]
    }
   ],
   "source": [
    "obj = B()"
   ]
  },
  {
   "cell_type": "code",
   "execution_count": 90,
   "id": "c607f9f5-70ba-4260-a49d-f8a566c8bb40",
   "metadata": {},
   "outputs": [
    {
     "name": "stdout",
     "output_type": "stream",
     "text": [
      "Class - A Constructor\n",
      "M1 method of Class - A.\n",
      "M2 method of Class - B.\n"
     ]
    }
   ],
   "source": [
    "obj.m2()"
   ]
  },
  {
   "cell_type": "code",
   "execution_count": 91,
   "id": "c45b98c3-b4bc-40e9-b033-6f9860a8f9b1",
   "metadata": {},
   "outputs": [],
   "source": [
    "#Example of has-a relationships"
   ]
  },
  {
   "cell_type": "code",
   "execution_count": 92,
   "id": "aa99f067-fb58-4f13-bccc-a88b61e04f5d",
   "metadata": {},
   "outputs": [],
   "source": [
    "class Employee:\n",
    "\n",
    "    def __init__(self,name,age):\n",
    "        self.name = name\n",
    "        self.age = age\n",
    "    \n",
    "    def emp_data(self):\n",
    "        print('Name of Employee:',self.name)\n",
    "        print('Age of Employee:',self.age)\n",
    " \n",
    "class Data:\n",
    "    \n",
    "    def __init__(self,address,salary,emp_obj):\n",
    "        self.address = address\n",
    "        self.salary = salary\n",
    "        self.emp_obj = emp_obj\n",
    " \n",
    "    def display(self):\n",
    "        self.emp_obj.emp_data()\n",
    "        print('Address of Employee:',self.address)\n",
    "        print('Salary of Employee:',self.salary)"
   ]
  },
  {
   "cell_type": "code",
   "execution_count": 93,
   "id": "63c02134-3794-40f3-92b0-8acb4c8c98d0",
   "metadata": {},
   "outputs": [],
   "source": [
    "emp = Employee('abcd', 25)"
   ]
  },
  {
   "cell_type": "code",
   "execution_count": 94,
   "id": "ec843d3d-2417-4abb-8ad9-d6bddc618755",
   "metadata": {},
   "outputs": [],
   "source": [
    "data = Data('Mumbai', 23000, emp)"
   ]
  },
  {
   "cell_type": "code",
   "execution_count": 87,
   "id": "ce5b7663-3e68-4127-a2fe-6a86e2a52730",
   "metadata": {},
   "outputs": [
    {
     "name": "stdout",
     "output_type": "stream",
     "text": [
      "Name of Employee: abcd\n",
      "Age of Employee: 25\n",
      "Address of Employee: Mumbai\n",
      "Salary of Employee: 23000\n"
     ]
    }
   ],
   "source": [
    "data.display()"
   ]
  },
  {
   "cell_type": "code",
   "execution_count": 97,
   "id": "cea1851a-96d1-444e-9556-74866ed62fa8",
   "metadata": {},
   "outputs": [],
   "source": [
    "'''20. Create a Python class hierarchy for a university system. Start with a base class `Person` and create child\n",
    "classes `Student` and `Professor`, each with their own attributes and methods. Provide an example of using\n",
    "these classes in a university context.'''\n",
    "\n",
    "class person :\n",
    "    \n",
    "    def __init__(self,name,age):\n",
    "        self.name = name\n",
    "        self.age = age\n",
    "        \n",
    "class student(person):\n",
    "    \n",
    "    def __init__(self,name,age,student_Id):\n",
    "        super().__init__(name,age)\n",
    "        self.student_Id = student_Id\n",
    "        \n",
    "    def take_exam(self):\n",
    "        print(\"Exam is going on\")\n",
    "        \n",
    "class professor(person):\n",
    "    \n",
    "    def __init__(self,name,age,department):\n",
    "        super().__init__(name,age)\n",
    "        self.department = department\n",
    "        \n",
    "    def teach_class(self):\n",
    "        print(\"professor will teaches in class\")"
   ]
  },
  {
   "cell_type": "code",
   "execution_count": 98,
   "id": "4b2b229f-b7af-4258-9171-8dac6f24cb8f",
   "metadata": {},
   "outputs": [],
   "source": [
    "obj_professor = professor(\"abcd\",30,\"CSE\")"
   ]
  },
  {
   "cell_type": "code",
   "execution_count": 99,
   "id": "88d82afc-eb77-423d-ad8e-4e83706c6894",
   "metadata": {},
   "outputs": [
    {
     "data": {
      "text/plain": [
       "30"
      ]
     },
     "execution_count": 99,
     "metadata": {},
     "output_type": "execute_result"
    }
   ],
   "source": [
    "obj_professor.age"
   ]
  },
  {
   "cell_type": "code",
   "execution_count": 100,
   "id": "02b7d41e-f946-4727-acc4-23906c86d212",
   "metadata": {},
   "outputs": [
    {
     "data": {
      "text/plain": [
       "'CSE'"
      ]
     },
     "execution_count": 100,
     "metadata": {},
     "output_type": "execute_result"
    }
   ],
   "source": [
    "obj_professor.department"
   ]
  },
  {
   "cell_type": "code",
   "execution_count": 101,
   "id": "0789b92b-4687-490a-8714-4ff72c340e30",
   "metadata": {},
   "outputs": [
    {
     "name": "stdout",
     "output_type": "stream",
     "text": [
      "professor will teaches in class\n"
     ]
    }
   ],
   "source": [
    "obj_professor.teach_class()"
   ]
  },
  {
   "cell_type": "code",
   "execution_count": 102,
   "id": "0e7c669e-7399-4d33-b574-d0c7e1ba773d",
   "metadata": {},
   "outputs": [],
   "source": [
    "obj_student =student(\"pqr\",22,51)"
   ]
  },
  {
   "cell_type": "code",
   "execution_count": 103,
   "id": "2927fa4e-95b5-4723-a90c-26fbd8b3808f",
   "metadata": {},
   "outputs": [
    {
     "name": "stdout",
     "output_type": "stream",
     "text": [
      "Exam is going on\n"
     ]
    }
   ],
   "source": [
    "obj_student.take_exam()"
   ]
  },
  {
   "cell_type": "code",
   "execution_count": 104,
   "id": "b2389a18-9116-44c1-bb12-6ae4866df413",
   "metadata": {},
   "outputs": [
    {
     "data": {
      "text/plain": [
       "51"
      ]
     },
     "execution_count": 104,
     "metadata": {},
     "output_type": "execute_result"
    }
   ],
   "source": [
    "obj_student.student_Id"
   ]
  },
  {
   "cell_type": "code",
   "execution_count": 105,
   "id": "ae02fbd8-d2db-4658-8ee0-1d721525d1e7",
   "metadata": {},
   "outputs": [],
   "source": [
    "#Encapsulation"
   ]
  },
  {
   "cell_type": "code",
   "execution_count": null,
   "id": "79b7383f-be02-451d-ab3a-634d490b19dd",
   "metadata": {},
   "outputs": [],
   "source": [
    "'''1. Explain the concept of encapsulation in Python. What is its role in object-oriented programming?\n",
    "\n",
    "Ans:\n",
    "\n",
    "Encapsulation is one of the key features of object-oriented programming. Encapsulation refers to the bundling of attributes and methods inside a single class. It prevents outer classes from accessing and changing attributes and methods of a class. This also helps to achieve data hiding.\n",
    "\n",
    "'''"
   ]
  },
  {
   "cell_type": "code",
   "execution_count": null,
   "id": "8d09e1d0-3701-4883-abe7-1ca6a7309eba",
   "metadata": {},
   "outputs": [],
   "source": [
    "'''2. Describe the key principles of encapsulation, including access control and data hiding.\n",
    "\n",
    "Ans:\n",
    "\n",
    "Encapsulation is a way to restrict the direct access to some components of an object, so users cannot access state values for all of the variables of a particular object. Encapsulation can be used to hide both data members and data functions or methods associated with an instantiated class or object.\n",
    "\n",
    "'''"
   ]
  },
  {
   "cell_type": "code",
   "execution_count": 106,
   "id": "309b9255-d01a-4cc3-be99-ee3f591911fd",
   "metadata": {},
   "outputs": [],
   "source": [
    "'''3. How can you achieve encapsulation in Python classes? Provide an example.\n",
    "\n",
    "Ans:\n",
    "\n",
    "Encapsulation is achieved by declaring a class's data members and methods as either private or protected. But in Python, we do not have keywords like public, private, and protected, as in the case of Java. Instead, we achieve this by using single and double underscores.\n",
    "\n",
    "'''\n",
    "\n",
    "#Example\n",
    "\n",
    "class bank_account :\n",
    "    \n",
    "    def __init__(self,account_no,balance):\n",
    "        self.account_no = account_no\n",
    "        self.__balance = balance\n",
    "    \n",
    "    def check_balance(self,password):\n",
    "        if password == \"abcd@1234\":\n",
    "            return \"Your current Balance :\",self.__balance \n",
    "        else:\n",
    "            return \"Wrong password\"    "
   ]
  },
  {
   "cell_type": "code",
   "execution_count": 111,
   "id": "5418d5f1-1bf7-4954-b538-1061769df910",
   "metadata": {},
   "outputs": [],
   "source": [
    "obj_bank_account =bank_account(3194452, 25000)"
   ]
  },
  {
   "cell_type": "code",
   "execution_count": 112,
   "id": "af85799f-abf3-460d-b0c0-bd96ca98052d",
   "metadata": {},
   "outputs": [
    {
     "data": {
      "text/plain": [
       "3194452"
      ]
     },
     "execution_count": 112,
     "metadata": {},
     "output_type": "execute_result"
    }
   ],
   "source": [
    "obj_bank_account.account_no"
   ]
  },
  {
   "cell_type": "code",
   "execution_count": 113,
   "id": "a8b30e70-3a1f-49dd-b0da-c113b638030b",
   "metadata": {},
   "outputs": [
    {
     "data": {
      "text/plain": [
       "('Your current Balance :', 25000)"
      ]
     },
     "execution_count": 113,
     "metadata": {},
     "output_type": "execute_result"
    }
   ],
   "source": [
    "obj_bank_account.check_balance(\"abcd@1234\")"
   ]
  },
  {
   "cell_type": "code",
   "execution_count": null,
   "id": "558224a8-dedc-41d8-b0c6-ac415e298b5c",
   "metadata": {},
   "outputs": [],
   "source": [
    "'''4. Discuss the difference between public, private, and protected access modifiers in Python.\n",
    "\n",
    "Ans:\n",
    "\n",
    "Pubilc :\n",
    "\n",
    "we can acesss public variable inside class as well as outside class. \n",
    "\n",
    "Private variable :\n",
    "\n",
    "private variable can ascess inside class it cannot acess outside class. we can write private variable beyond (__) double underscore.\n",
    "\n",
    "Protected variable :\n",
    "\n",
    "Protected variables and methods are accessible within the specific class environment and can also be accessed by the sub-classes. We can also say that it allows the resources of the parent class to be inherited by the child class.Any variables or methods prefixed with a single underscore (_) in a class are protected and can be accessed within the specific class environment. The protected variables/methods can be accessed inside the sub-classes of the parent class.\n",
    "\n",
    "'''"
   ]
  },
  {
   "cell_type": "code",
   "execution_count": 115,
   "id": "ab99dea8-9c55-4535-a7a6-c2f8879239d8",
   "metadata": {},
   "outputs": [],
   "source": [
    "'''5. Create a Python class called `Person` with a private attribute `__name`. Provide methods to get and set the\n",
    "name attribute.'''\n",
    "\n",
    "class person:\n",
    "    \n",
    "    def __init__(self,name):\n",
    "        self.__name = name\n",
    "    \n",
    "    def get_name(self):\n",
    "        return self.__name\n",
    "    \n",
    "    def set_name(self,setName):\n",
    "        self.__name = setName"
   ]
  },
  {
   "cell_type": "code",
   "execution_count": 117,
   "id": "cbc8bffc-75bc-42ce-ad33-5391c8816653",
   "metadata": {},
   "outputs": [],
   "source": [
    "obj_person = person(\"xyz\")"
   ]
  },
  {
   "cell_type": "code",
   "execution_count": 118,
   "id": "9fe15cee-a998-418c-b8f4-5278844c42ff",
   "metadata": {},
   "outputs": [
    {
     "data": {
      "text/plain": [
       "'xyz'"
      ]
     },
     "execution_count": 118,
     "metadata": {},
     "output_type": "execute_result"
    }
   ],
   "source": [
    "obj_person.get_name()"
   ]
  },
  {
   "cell_type": "code",
   "execution_count": 120,
   "id": "40093829-6369-410e-8496-01123b52c797",
   "metadata": {},
   "outputs": [],
   "source": [
    "obj_person.set_name(\"defg\")"
   ]
  },
  {
   "cell_type": "code",
   "execution_count": 121,
   "id": "0bc91d45-888a-4a9a-8689-727f52daf14f",
   "metadata": {},
   "outputs": [
    {
     "data": {
      "text/plain": [
       "'defg'"
      ]
     },
     "execution_count": 121,
     "metadata": {},
     "output_type": "execute_result"
    }
   ],
   "source": [
    "obj_person.get_name()"
   ]
  },
  {
   "cell_type": "code",
   "execution_count": 7,
   "id": "15acdb19-55d8-4d75-bcd7-7f89dfebd223",
   "metadata": {},
   "outputs": [],
   "source": [
    "'''6. Explain the purpose of getter and setter methods in encapsulation. Provide examples.\n",
    "\n",
    "Ans:\n",
    "\n",
    "Getter method:\n",
    "\n",
    "Getter method is used to get method name from class. we have used @property decorator for that.\n",
    "\n",
    "setter_method:\n",
    "\n",
    "setter method is used to maker changes in values of variable. we have used @getter_name.setter decorator for this.\n",
    "\n",
    "deleter method:\n",
    "\n",
    "deleter method is used to delete the method from class. we have used @function_name.deleter as decorator for this.\n",
    "\n",
    "'''\n",
    "\n",
    "#example\n",
    "\n",
    "class person :\n",
    "    \n",
    "    def __init__(self,name):\n",
    "        self.__name = name\n",
    "    \n",
    "    @property\n",
    "    def get_name(self):\n",
    "        return self.__name\n",
    "    \n",
    "    \n",
    "    def set_name(self,setName):\n",
    "            self.__name = setName"
   ]
  },
  {
   "cell_type": "code",
   "execution_count": 8,
   "id": "8cc59595-d54b-4bae-a78b-4c5e1a130172",
   "metadata": {},
   "outputs": [],
   "source": [
    "Obj_person = person(\"abcd\")"
   ]
  },
  {
   "cell_type": "code",
   "execution_count": 9,
   "id": "502c84a2-b77d-4cb3-885f-83812e90140f",
   "metadata": {},
   "outputs": [
    {
     "data": {
      "text/plain": [
       "'abcd'"
      ]
     },
     "execution_count": 9,
     "metadata": {},
     "output_type": "execute_result"
    }
   ],
   "source": [
    "Obj_person.get_name"
   ]
  },
  {
   "cell_type": "code",
   "execution_count": 10,
   "id": "21b98025-741d-4bbe-b93b-81de62e5e3b9",
   "metadata": {},
   "outputs": [],
   "source": [
    "Obj_person.set_name(\"xyz\")"
   ]
  },
  {
   "cell_type": "code",
   "execution_count": 11,
   "id": "d6ec9078-ed01-4ea7-8816-8a1b69ce9c44",
   "metadata": {},
   "outputs": [
    {
     "data": {
      "text/plain": [
       "'xyz'"
      ]
     },
     "execution_count": 11,
     "metadata": {},
     "output_type": "execute_result"
    }
   ],
   "source": [
    "Obj_person.get_name"
   ]
  },
  {
   "cell_type": "code",
   "execution_count": null,
   "id": "f295c262-56ff-4962-924c-3eaee2d935cf",
   "metadata": {},
   "outputs": [],
   "source": [
    "'''7. What is name mangling in Python, and how does it affect encapsulation?\n",
    "\n",
    "Ans:\n",
    "\n",
    "In Python, mangling is used for class attributes that one does not want subclasses to use which are designated as such by giving them a name with two or more leading underscores and no more than one trailing underscore.\n",
    "\n",
    "'''"
   ]
  },
  {
   "cell_type": "code",
   "execution_count": 12,
   "id": "be526471-487d-40df-8079-7d86686435ae",
   "metadata": {},
   "outputs": [],
   "source": [
    "'''8. Create a Python class called `BankAccount` with private attributes for the account balance (`__balance`) and account number (`__account_number`). Provide methods for depositing and withdrawing money.'''\n",
    "\n",
    "class BankAccount :\n",
    "    \n",
    "    def __init__(self,balance,account_number):\n",
    "        self.__balance = balance\n",
    "        self.__account_number = account_number\n",
    "        \n",
    "        \n",
    "    def deposite_money(self,deposite_amt):\n",
    "        self.__balance = self.__balance + deposite_amt\n",
    "        return \"You have deposited\",self.__balance\n",
    "    \n",
    "    def withdraw_money(self,withdraw_amt):\n",
    "        self.__balance = self.__balance - withdraw_amt\n",
    "        return \"You have Withdraw\",self.__balance\n",
    "    \n",
    "    def Available_Balance(self):\n",
    "        print(\"Your current balance is :\",self.__balance)"
   ]
  },
  {
   "cell_type": "code",
   "execution_count": 14,
   "id": "34f5997c-6997-4ff4-8147-efad99ce5115",
   "metadata": {},
   "outputs": [],
   "source": [
    "obj_bankAccount = BankAccount(30000,123456789)"
   ]
  },
  {
   "cell_type": "code",
   "execution_count": 15,
   "id": "5c686075-fdf1-42fe-8fbf-675a0ea20780",
   "metadata": {},
   "outputs": [
    {
     "data": {
      "text/plain": [
       "('You have deposited', 35000)"
      ]
     },
     "execution_count": 15,
     "metadata": {},
     "output_type": "execute_result"
    }
   ],
   "source": [
    "obj_bankAccount.deposite_money(5000)"
   ]
  },
  {
   "cell_type": "code",
   "execution_count": 16,
   "id": "72f8e9d8-76b4-4aa6-9572-0adaac3e8c79",
   "metadata": {},
   "outputs": [
    {
     "data": {
      "text/plain": [
       "35000"
      ]
     },
     "execution_count": 16,
     "metadata": {},
     "output_type": "execute_result"
    }
   ],
   "source": [
    "obj_bankAccount._BankAccount__balance"
   ]
  },
  {
   "cell_type": "code",
   "execution_count": 17,
   "id": "1ef198d3-f230-4a30-a704-716567bd1913",
   "metadata": {},
   "outputs": [
    {
     "data": {
      "text/plain": [
       "('You have Withdraw', 25000)"
      ]
     },
     "execution_count": 17,
     "metadata": {},
     "output_type": "execute_result"
    }
   ],
   "source": [
    "obj_bankAccount.withdraw_money(10000)"
   ]
  },
  {
   "cell_type": "code",
   "execution_count": 18,
   "id": "19fc03b3-5f27-4bf1-af00-d48900f3ee1b",
   "metadata": {},
   "outputs": [
    {
     "name": "stdout",
     "output_type": "stream",
     "text": [
      "Your current balance is : 25000\n"
     ]
    }
   ],
   "source": [
    "obj_bankAccount.Available_Balance()"
   ]
  },
  {
   "cell_type": "code",
   "execution_count": null,
   "id": "6e9c693a-539e-4e64-83d1-d128baebd009",
   "metadata": {},
   "outputs": [],
   "source": [
    "'''9. Discuss the advantages of encapsulation in terms of code maintainability and security.\n",
    "\n",
    "An :\n",
    "\n",
    "It helps in writing more robust, maintainable and secure code. \n",
    "Encapsulation promotes encapsulating data and behavior within classes, allowing controlled access to the data through methods and enforcing validation and business logic.\n",
    "\n",
    "'''"
   ]
  },
  {
   "cell_type": "code",
   "execution_count": null,
   "id": "66368a35-be5a-4b57-a525-ef8dda3c9d24",
   "metadata": {},
   "outputs": [],
   "source": [
    "'''10. How can you access private attributes in Python? Provide an example demonstrating the use of name\n",
    "mangling.\n",
    "\n",
    "Ans:\n",
    "\n",
    "The class variables can be accessed by adding _classname to it. The name mangling is closest to private not exactly private. The above class variable is accessed by adding the _classname to it. The class variable is accessed from outside the class with the name _Student__name\n",
    "\n",
    "Example :\n",
    "\n",
    "object_name._classname__variablename\n",
    "\n",
    "'''\n"
   ]
  },
  {
   "cell_type": "code",
   "execution_count": 19,
   "id": "86c1b6c3-78e6-47b8-b146-ae1364370032",
   "metadata": {},
   "outputs": [],
   "source": [
    "'''11. Create a Python class hierarchy for a school system, including classes for students, teachers, and courses,\n",
    "and implement encapsulation principles to protect sensitive information.'''\n",
    "\n",
    "class student:\n",
    "    \n",
    "    def __init__(self,name,surname,student_id):\n",
    "        self._name = name\n",
    "        self._surname = surname\n",
    "        self._student_id = student_id\n",
    "        \n",
    "    def show_student_details(self):\n",
    "        return self._name ,self._surname ,self._student_id\n",
    "    \n",
    "class teacher(student):\n",
    "    \n",
    "    def __init__(self,name,surname,student_id,employee_id):\n",
    "        super().__init__(name ,surname ,student_id)\n",
    "        self._employee_id = employee_id\n",
    "        \n",
    "    def show_employee_id(self):\n",
    "        return self._employee_id\n",
    "    \n",
    "class courses(teacher) :\n",
    "    \n",
    "    def Courses_Show(self):\n",
    "        return [\"DSA\",\"Big Data\",\"Data analytics\",\"Machine leaning\",\"AI\",\"DBMS\"]"
   ]
  },
  {
   "cell_type": "code",
   "execution_count": 20,
   "id": "bab25748-67bd-4f54-8f31-239dfc4e7bbc",
   "metadata": {},
   "outputs": [],
   "source": [
    "obj_course = courses(\"abcd\",\"xyz\",11,999)"
   ]
  },
  {
   "cell_type": "code",
   "execution_count": 21,
   "id": "5bcf7e2f-7c3e-4205-a167-d133c4abbefc",
   "metadata": {},
   "outputs": [
    {
     "data": {
      "text/plain": [
       "['DSA', 'Big Data', 'Data analytics', 'Machine leaning', 'AI', 'DBMS']"
      ]
     },
     "execution_count": 21,
     "metadata": {},
     "output_type": "execute_result"
    }
   ],
   "source": [
    "obj_course.Courses_Show()"
   ]
  },
  {
   "cell_type": "code",
   "execution_count": 22,
   "id": "f443eab8-43cb-4977-8ee4-2287e553b8af",
   "metadata": {},
   "outputs": [
    {
     "data": {
      "text/plain": [
       "999"
      ]
     },
     "execution_count": 22,
     "metadata": {},
     "output_type": "execute_result"
    }
   ],
   "source": [
    "obj_course.show_employee_id()"
   ]
  },
  {
   "cell_type": "code",
   "execution_count": 23,
   "id": "50ef7645-6d04-47d8-b253-72bd1e670307",
   "metadata": {},
   "outputs": [
    {
     "data": {
      "text/plain": [
       "('abcd', 'xyz', 11)"
      ]
     },
     "execution_count": 23,
     "metadata": {},
     "output_type": "execute_result"
    }
   ],
   "source": [
    "obj_course.show_student_details()"
   ]
  },
  {
   "cell_type": "code",
   "execution_count": null,
   "id": "f1b15d24-6f5d-4a39-9b15-710d37ef6316",
   "metadata": {},
   "outputs": [],
   "source": [
    "'''12. Explain the concept of property decorators in Python and how they relate to encapsulation.\n",
    "\n",
    "Ans:\n",
    "\n",
    "Property decorators in Python are used to define properties, which are special methods that can be used to get, set, and delete attributes of an object. Properties are defined using the @property decorator, and they can be used to implement encapsulation principles in Python.\n",
    "\n",
    "Encapsulation is the process of hiding the implementation details of an object from the outside world. This can be done by making the object's attributes private, and by providing public methods to access and modify those attributes.\n",
    "\n",
    "'''"
   ]
  },
  {
   "cell_type": "code",
   "execution_count": 24,
   "id": "af63234a-badd-4e00-b4b2-0dd081c9b787",
   "metadata": {},
   "outputs": [],
   "source": [
    "'''13. What is data hiding, and why is it important in encapsulation? Provide examples.\n",
    "\n",
    "Ans:\n",
    "\n",
    "Data hiding is a technique used in object-oriented programming to protect the internal data of a class from unauthorized access. It is implemented by making the class's data members private and providing public methods to access and modify them. \n",
    "This allows the programmer to control how the data is used and to prevent it from being corrupted or accidentally modified.\n",
    "\n",
    "Data hiding is important in encapsulation because it helps to:\n",
    "\n",
    "Protect sensitive data: By hiding the class's data members, we can prevent unauthorized users from accessing or modifying them. This is especially important for sensitive data such as student grades or teacher salaries.\n",
    "\n",
    "Prevent data corruption: By controlling how the data is accessed and modified, we can help to prevent it from being corrupted. For example, we can prevent users from setting a student's grade to a negative value.\n",
    "\n",
    "Improve maintainability: By hiding the class's internal implementation details, we make it easier to maintain the code. For example, we can change the way the data is stored without affecting the way the class is used.\n",
    "\n",
    "'''\n",
    "\n",
    "#Example:\n",
    "\n",
    "class BankAccount :\n",
    "    \n",
    "    def __init__(self,balance,account_number):\n",
    "        self.__balance = balance\n",
    "        self.__account_number = account_number\n",
    "        \n",
    "        \n",
    "    def deposite_money(self,deposite_amt):\n",
    "        self.__balance = self.__balance + deposite_amt\n",
    "        return \"You have deposited\",self.__balance\n",
    "    \n",
    "    def withdraw_money(self,withdraw_amt):\n",
    "        self.__balance = self.__balance - withdraw_amt\n",
    "        return \"You have Withdraw\",self.__balance\n",
    "    \n",
    "    def Available_Balance(self):\n",
    "        print(\"Your current balance is :\",self.__balance)"
   ]
  },
  {
   "cell_type": "code",
   "execution_count": 25,
   "id": "b0b6dc1b-16ab-44f3-9b87-fde1518a0aef",
   "metadata": {},
   "outputs": [],
   "source": [
    "obj_bank =BankAccount(5000 ,123456789)"
   ]
  },
  {
   "cell_type": "code",
   "execution_count": 27,
   "id": "d36edf74-b4da-4fb0-a036-7bf2c5702064",
   "metadata": {},
   "outputs": [],
   "source": [
    "'''14. Create a Python class called `Employee` with private attributes for salary (`__salary`) and employee ID (`__employee_id`). Provide a method to calculate yearly bonuses.'''\n",
    "\n",
    "class Employee:\n",
    "    \n",
    "    def __init__(self,salary,employee_id):\n",
    "        self.__salary = salary\n",
    "        self.__employee_id = employee_id\n",
    "        \n",
    "    def calculate_yearly_bonus(self):\n",
    "        print(\"Yearly bonus is :\",self.__salary / 2)"
   ]
  },
  {
   "cell_type": "code",
   "execution_count": 29,
   "id": "ae428b7b-ebf4-48a0-a983-76e5be95131d",
   "metadata": {},
   "outputs": [],
   "source": [
    "obj_employee =Employee(35000,12345)"
   ]
  },
  {
   "cell_type": "code",
   "execution_count": 30,
   "id": "24228724-5c4c-4af4-b84e-75888c326ac3",
   "metadata": {},
   "outputs": [
    {
     "name": "stdout",
     "output_type": "stream",
     "text": [
      "Yearly bonus is : 17500.0\n"
     ]
    }
   ],
   "source": [
    "obj_employee.calculate_yearly_bonus()"
   ]
  },
  {
   "cell_type": "code",
   "execution_count": null,
   "id": "61b93d46-1149-477c-8897-46069fd50a9b",
   "metadata": {},
   "outputs": [],
   "source": [
    "'''15. Discuss the use of accessors and mutators in encapsulation. How do they help maintain control over\n",
    "attribute access?\n",
    "\n",
    "Ans:\n",
    "\n",
    "Accessors and mutators are methods that are used to get and set the values of private attributes in a class. They are essential for encapsulation, which is a programming principle that allows us to hide the internal implementation of a class from other classes.\n",
    "\n",
    "Accessors and mutators are methods that are used to get and set the values of private attributes in a class. They are essential for encapsulation, which is a programming principle that allows us to hide the internal implementation of a class from other classes.\n",
    "\n",
    "Encapsulation has many benefits, including:\n",
    "\n",
    "Data protection: By making attributes private and only accessible through accessors and mutators, we can prevent other classes from accidentally or maliciously modifying our data. Modularity: Encapsulation allows us to design classes that are independent of each other. This makes our code more reusable and maintainable.\n",
    "\n",
    "Abstraction: Encapsulation allows us to hide the complexity of our code from other classes. This makes our code easier to understand and use. Accessors and mutators help us maintain control over attribute access in the following ways:\n",
    "\n",
    "They allow us to validate input: Before setting the value of an attribute, we can use the mutator method to validate the input to make sure that it is valid. For example, we could check that a grade is between 0 and 100 before setting it.\n",
    "\n",
    "They allow us to perform additional operations: Before or after getting or setting the value of an attribute, we can use the accessor or mutator method to perform additional operations. For example, we could log the access or modification of an attribute. They allow us to restrict access to certain attributes: We can choose to only provide an accessor or mutator method for certain attributes, making them read-only or write-only. This can be useful for protecting sensitive data or for preventing other classes from modifying the state of our object in an unexpected way.\n",
    "\n",
    "'''"
   ]
  },
  {
   "cell_type": "code",
   "execution_count": null,
   "id": "5199ed66-0ec2-4d3e-b211-bea5d15ee3f8",
   "metadata": {},
   "outputs": [],
   "source": [
    "'''16. What are the potential drawbacks or disadvantages of using encapsulation in Python?\n",
    "\n",
    "Ans :\n",
    "\n",
    "Disadvantages of Encapsulation:\n",
    "\n",
    "Increased code execution: Encapsulation results in an increase in the duration of the program execution. It is because more instructions are added to the code therefore they require more time to execute.\n",
    "\n",
    "'''"
   ]
  },
  {
   "cell_type": "code",
   "execution_count": 31,
   "id": "94760b18-e8c2-4008-90bd-1971bea423e7",
   "metadata": {},
   "outputs": [],
   "source": [
    "'''17. Create a Python class for a library system that encapsulates book information, including titles, authors,\n",
    "and availability status.'''\n",
    "\n",
    "class Book:\n",
    "\n",
    "    def __init__(self,title,author,availability_status):\n",
    "        self._title = title\n",
    "        self._author = author\n",
    "        self._availability_status = availability_status\n",
    "\n",
    "    @property\n",
    "    def title(self):\n",
    "        return self._title\n",
    "\n",
    "    @property\n",
    "    def author(self):\n",
    "        return self._author\n",
    "\n",
    "    @property\n",
    "    def availability_status(self):\n",
    "        return self._availability_status\n",
    "\n",
    "    @availability_status.setter\n",
    "    def availability_status(self,new_availability_status):\n",
    "        if new_availability_status not in [\"available\",\"checked out\"]:\n",
    "            raise ValueError(\"Availability status must be either 'available' or 'checked out'.\")\n",
    "        self._availability_status = new_availability_status\n",
    "\n",
    "    def check_out(self):\n",
    "        if self._availability_status == \"available\":\n",
    "            self._availability_status = \"checked out\"\n",
    "        else:\n",
    "            raise ValueError(\"Book is not available for checkout.\")\n",
    "\n",
    "    def return_book(self):\n",
    "        if self._availability_status == \"checked out\":\n",
    "            self._availability_status = \"available\"\n",
    "        else:\n",
    "            raise ValueError(\"Book is already available.\")"
   ]
  },
  {
   "cell_type": "code",
   "execution_count": 33,
   "id": "90f43b77-946d-4ba7-a2a9-6216a46b0157",
   "metadata": {},
   "outputs": [],
   "source": [
    "obj_book = Book(\"Self belief\", \"VK\", \"available\")"
   ]
  },
  {
   "cell_type": "code",
   "execution_count": 34,
   "id": "6d65489e-ce02-4416-b76a-e87a9b6e3443",
   "metadata": {},
   "outputs": [
    {
     "data": {
      "text/plain": [
       "'VK'"
      ]
     },
     "execution_count": 34,
     "metadata": {},
     "output_type": "execute_result"
    }
   ],
   "source": [
    "obj_book.author"
   ]
  },
  {
   "cell_type": "code",
   "execution_count": null,
   "id": "b3ad5cdc-12d5-495e-86e0-4bb71fad56eb",
   "metadata": {},
   "outputs": [],
   "source": [
    "'''18. Explain how encapsulation enhances code reusability and modularity in Python programs.\n",
    "\n",
    "Ans:\n",
    "\n",
    "By restricting direct access to an object's attributes, we avoid unintentional data manipulation and expose only necessary functionalities. \n",
    "Modularity and Reusability: By bundling related data and functionality into classes, we achieve modularity, making it simple to understand, refactor, and reuse code.\n",
    "\n",
    "'''"
   ]
  },
  {
   "cell_type": "code",
   "execution_count": null,
   "id": "c718715e-4fd6-4445-aec8-be3edb5c85ba",
   "metadata": {},
   "outputs": [],
   "source": [
    "'''19. Describe the concept of information hiding in encapsulation. Why is it essential in software development?\n",
    "\n",
    "Ans:\n",
    "\n",
    "Encapsulation means grouping software into units in such a way that it is easy to use with well-defined simple interfaces. \n",
    "Encapsulation and information hiding are related to each other, since both have a goal of making classes easier to use.\n",
    "\n",
    "'''"
   ]
  },
  {
   "cell_type": "code",
   "execution_count": 38,
   "id": "420b81a1-5756-4cdc-9b69-d25e74f3dd1c",
   "metadata": {},
   "outputs": [],
   "source": [
    "'''20. Create a Python class called `Customer` with private attributes for customer details like name,address,\n",
    "and contact information. Implement encapsulation to ensure data integrity and security.'''\n",
    "\n",
    "class customer:\n",
    "    \n",
    "    def __init__(self,cust_name,address,contact_info):\n",
    "        self.__cust_name = cust_name \n",
    "        self.__address = address\n",
    "        self.__contact_info = contact_info\n",
    "        \n",
    "    def customer_name(self):\n",
    "        return self.__cust_name\n",
    "    \n",
    "    def customer_address(self):\n",
    "        return self.__address\n",
    "    \n",
    "    def cust_contact_info(self):\n",
    "        return self.__contact_info"
   ]
  },
  {
   "cell_type": "code",
   "execution_count": 39,
   "id": "a1e5856b-2ca9-4497-82ee-a29ae8b82d44",
   "metadata": {},
   "outputs": [],
   "source": [
    "pw_obj_customer = customer(\"Pwskills\",\"Bengaluru\",1234567890)"
   ]
  },
  {
   "cell_type": "code",
   "execution_count": 40,
   "id": "c1e1bae2-4153-440f-995e-12c88efa2373",
   "metadata": {},
   "outputs": [
    {
     "data": {
      "text/plain": [
       "1234567890"
      ]
     },
     "execution_count": 40,
     "metadata": {},
     "output_type": "execute_result"
    }
   ],
   "source": [
    "pw_obj_customer.cust_contact_info()"
   ]
  },
  {
   "cell_type": "code",
   "execution_count": 41,
   "id": "6e1213d6-f1ce-44bc-bb9f-d1b131407c08",
   "metadata": {},
   "outputs": [
    {
     "data": {
      "text/plain": [
       "'Bengaluru'"
      ]
     },
     "execution_count": 41,
     "metadata": {},
     "output_type": "execute_result"
    }
   ],
   "source": [
    "pw_obj_customer.customer_address()"
   ]
  },
  {
   "cell_type": "code",
   "execution_count": 43,
   "id": "444dfcba-a78d-4849-bf7e-e1905ff4d0ef",
   "metadata": {},
   "outputs": [
    {
     "data": {
      "text/plain": [
       "'Pwskills'"
      ]
     },
     "execution_count": 43,
     "metadata": {},
     "output_type": "execute_result"
    }
   ],
   "source": [
    "pw_obj_customer.customer_name()"
   ]
  },
  {
   "cell_type": "code",
   "execution_count": 44,
   "id": "0e6dc6d7-277b-4d36-bdb2-49e1785cd9e6",
   "metadata": {},
   "outputs": [],
   "source": [
    "#Polymorphism:"
   ]
  },
  {
   "cell_type": "code",
   "execution_count": null,
   "id": "98d2d7cd-d2a4-4f6e-8144-83839686e933",
   "metadata": {},
   "outputs": [],
   "source": [
    "'''1. What is polymorphism in Python? Explain how it is related to object-oriented programming.\n",
    "\n",
    "Ans:\n",
    "\n",
    "In polymorphism the function behave like as per the data.Polymorphism is often used in Class methods, where we can have multiple classes with the same method name.\n",
    "\n",
    "'''"
   ]
  },
  {
   "cell_type": "code",
   "execution_count": null,
   "id": "7e3a5054-b588-4554-8578-8ff4a149490c",
   "metadata": {},
   "outputs": [],
   "source": [
    "'''2. Describe the difference between compile-time polymorphism and runtime polymorphism in Python.\n",
    "\n",
    "Ans :\n",
    "\n",
    "Compile-time polymorphism is a type of polymorphism where the compiler determines which method to call based on the type of arguments passed to the method. This is also known as method overloading.\n",
    "\n",
    "Runtime polymorphism is a type of polymorphism where the compiler does not know which method to call until runtime. This is also known as method overriding.\n",
    "\n",
    "'''"
   ]
  },
  {
   "cell_type": "code",
   "execution_count": 1,
   "id": "95989858-b55a-4255-aae2-11fd93cb68bc",
   "metadata": {},
   "outputs": [],
   "source": [
    "'''3. Create a Python class hierarchy for shapes (e.g., circle, square, triangle) and demonstrate polymorphism\n",
    "through a common method, such as `calculate_area()`.'''\n",
    "\n",
    "class shape:\n",
    "    \n",
    "    def __init__(self):\n",
    "        pass\n",
    "    \n",
    "    def calculate_area(self):\n",
    "        return \"calculate the area of shape\"\n",
    "    \n",
    "class circle(shape):\n",
    "    \n",
    "    def __init__(self ,radious):\n",
    "        super().__init__()\n",
    "        self.radious = radious\n",
    "        \n",
    "    def calculate_area(self):\n",
    "        return 3.14 * (self.radious**2)\n",
    "    \n",
    "class square(shape):\n",
    "    \n",
    "    def __init__(self ,side_length):\n",
    "        super().__init__()\n",
    "        self.side_length =side_length\n",
    "        \n",
    "    def calculate_area(self):\n",
    "        return self.side_length ** 2\n",
    "    \n",
    "class triangle(shape):\n",
    "    \n",
    "    def __init__(self ,base ,height):\n",
    "        super().__init__()\n",
    "        self.base =base\n",
    "        self.height =height\n",
    "        \n",
    "    def calculate_area(self):\n",
    "        return 0.5 * self.base * self.height"
   ]
  },
  {
   "cell_type": "code",
   "execution_count": 2,
   "id": "28d2f77a-71ab-44b1-953c-2d83571c016a",
   "metadata": {},
   "outputs": [],
   "source": [
    "obj_triangle =triangle(12,18)"
   ]
  },
  {
   "cell_type": "code",
   "execution_count": 3,
   "id": "4e8820c0-fe03-45b2-a8b2-7b70051bf5d3",
   "metadata": {},
   "outputs": [
    {
     "data": {
      "text/plain": [
       "108.0"
      ]
     },
     "execution_count": 3,
     "metadata": {},
     "output_type": "execute_result"
    }
   ],
   "source": [
    "obj_triangle.calculate_area()"
   ]
  },
  {
   "cell_type": "code",
   "execution_count": 4,
   "id": "ab017dcd-1e34-456b-97b4-cf589b6bdf9b",
   "metadata": {},
   "outputs": [],
   "source": [
    "obj_square = square(4)"
   ]
  },
  {
   "cell_type": "code",
   "execution_count": 5,
   "id": "30b1acd8-c58c-4040-8ac1-85cce9155178",
   "metadata": {},
   "outputs": [
    {
     "data": {
      "text/plain": [
       "16"
      ]
     },
     "execution_count": 5,
     "metadata": {},
     "output_type": "execute_result"
    }
   ],
   "source": [
    "obj_square.calculate_area()"
   ]
  },
  {
   "cell_type": "code",
   "execution_count": 6,
   "id": "2398b7f1-be5d-4240-a38d-d321114e9817",
   "metadata": {},
   "outputs": [],
   "source": [
    "obj_circle =circle(5)"
   ]
  },
  {
   "cell_type": "code",
   "execution_count": 7,
   "id": "ecff9771-b166-4d7b-82fb-7617d419340d",
   "metadata": {},
   "outputs": [
    {
     "data": {
      "text/plain": [
       "78.5"
      ]
     },
     "execution_count": 7,
     "metadata": {},
     "output_type": "execute_result"
    }
   ],
   "source": [
    "obj_circle.calculate_area()"
   ]
  },
  {
   "cell_type": "code",
   "execution_count": 8,
   "id": "1d499a3a-9456-4129-bbc0-841ea9f10cce",
   "metadata": {},
   "outputs": [],
   "source": [
    "obj_shape =shape()"
   ]
  },
  {
   "cell_type": "code",
   "execution_count": 9,
   "id": "449bf35f-710d-4a7b-927a-7eb6ce5c05d5",
   "metadata": {},
   "outputs": [
    {
     "data": {
      "text/plain": [
       "'calculate the area of shape'"
      ]
     },
     "execution_count": 9,
     "metadata": {},
     "output_type": "execute_result"
    }
   ],
   "source": [
    "obj_shape.calculate_area()"
   ]
  },
  {
   "cell_type": "code",
   "execution_count": 15,
   "id": "6b9d18eb-f344-4629-84c5-95a2d0683e0d",
   "metadata": {},
   "outputs": [],
   "source": [
    "'''4. Explain the concept of method overriding in polymorphism. Provide an example.\n",
    "\n",
    "Ans :\n",
    "\n",
    "Method Overriding is done when a child or a subclass has a method with the same name, parameters, and return type as the parent or the superclass; then that function overrides the function in the superclass.\n",
    "\n",
    "'''\n",
    "\n",
    "#Example:\n",
    "\n",
    "class data_science :\n",
    "    \n",
    "    def syllabus(self):\n",
    "        print(\"This is data science master syllabus\")\n",
    "        \n",
    "class web_development :\n",
    "    \n",
    "    def syllabus(self):\n",
    "        print(\"This is web development syllabus\")\n",
    "        \n",
    "def parcer(class_obj):\n",
    "    for i in class_obj:\n",
    "        i.syllabus()"
   ]
  },
  {
   "cell_type": "code",
   "execution_count": 16,
   "id": "a4af86a8-495d-4770-a3c9-413dff1c8eb9",
   "metadata": {},
   "outputs": [],
   "source": [
    "obj_dataScience = data_science()"
   ]
  },
  {
   "cell_type": "code",
   "execution_count": 17,
   "id": "2b504be9-a1ca-463b-bc9f-e5f9719578f9",
   "metadata": {},
   "outputs": [
    {
     "name": "stdout",
     "output_type": "stream",
     "text": [
      "This is data science master syllabus\n"
     ]
    }
   ],
   "source": [
    "obj_dataScience.syllabus()"
   ]
  },
  {
   "cell_type": "code",
   "execution_count": 18,
   "id": "d4707247-f964-4a16-a826-d86d83a33dcb",
   "metadata": {},
   "outputs": [],
   "source": [
    "obj_web_dev = web_development()"
   ]
  },
  {
   "cell_type": "code",
   "execution_count": 19,
   "id": "fd96fa90-cae0-489c-8a84-9e8111ea10b6",
   "metadata": {},
   "outputs": [
    {
     "name": "stdout",
     "output_type": "stream",
     "text": [
      "This is web development syllabus\n"
     ]
    }
   ],
   "source": [
    "obj_web_dev.syllabus()"
   ]
  },
  {
   "cell_type": "code",
   "execution_count": 20,
   "id": "b06a8328-dcaa-4cd2-bf3d-eed28bd58e1a",
   "metadata": {},
   "outputs": [],
   "source": [
    "class_obj = [obj_dataScience ,obj_web_dev]"
   ]
  },
  {
   "cell_type": "code",
   "execution_count": 21,
   "id": "d60ef10e-b650-4cd3-98b1-6a61b9094333",
   "metadata": {},
   "outputs": [
    {
     "name": "stdout",
     "output_type": "stream",
     "text": [
      "This is data science master syllabus\n",
      "This is web development syllabus\n"
     ]
    }
   ],
   "source": [
    "parcer(class_obj)"
   ]
  },
  {
   "cell_type": "code",
   "execution_count": 22,
   "id": "42c857ff-ed08-4e3a-9706-6041f289f58e",
   "metadata": {},
   "outputs": [],
   "source": [
    "'''5. How is polymorphism different from method overloading in Python? Provide examples for both.\n",
    "\n",
    "Ans:\n",
    "\n",
    "Method Overloading in Python is a type of Compile-time Polymorphism using which we can define two or more methods in the same class with the same name but with a different parameter list.\n",
    "\n",
    "'''\n",
    "\n",
    "#Example:\n",
    "\n",
    "class square:\n",
    "    \n",
    "    def __init__(self,length):\n",
    "        self.l = length\n",
    "        \n",
    "    def perimeter(self):\n",
    "        return 4 * (self.l)\n",
    "    \n",
    "    def area(self):\n",
    "        return self.l * self.l\n",
    "    \n",
    "    \n",
    "class Circle:\n",
    "    \n",
    "    def __init__(self, radius):\n",
    "        self.r = radius\n",
    "        \n",
    "    def perimeter(self):\n",
    "        return 2 * 3.14 * self.r\n",
    "    \n",
    "    def area(self):\n",
    "        return 3.14 * self.r ** 2"
   ]
  },
  {
   "cell_type": "code",
   "execution_count": 28,
   "id": "b7369c45-9e81-4ff1-b4d2-0274a1d799e5",
   "metadata": {},
   "outputs": [],
   "source": [
    "obj_radious_circle = Circle(10)"
   ]
  },
  {
   "cell_type": "code",
   "execution_count": 29,
   "id": "bf17b4f5-e8e5-48b3-a4ec-991e519db54f",
   "metadata": {},
   "outputs": [
    {
     "data": {
      "text/plain": [
       "314.0"
      ]
     },
     "execution_count": 29,
     "metadata": {},
     "output_type": "execute_result"
    }
   ],
   "source": [
    "obj_radious_circle.area()"
   ]
  },
  {
   "cell_type": "code",
   "execution_count": 30,
   "id": "f7d35860-5361-4a50-8620-70d711f98232",
   "metadata": {},
   "outputs": [
    {
     "data": {
      "text/plain": [
       "62.800000000000004"
      ]
     },
     "execution_count": 30,
     "metadata": {},
     "output_type": "execute_result"
    }
   ],
   "source": [
    "obj_radious_circle.perimeter()"
   ]
  },
  {
   "cell_type": "code",
   "execution_count": 31,
   "id": "a57638a9-971c-4941-8ab3-f4e7fe0696f2",
   "metadata": {},
   "outputs": [
    {
     "data": {
      "text/plain": [
       "10"
      ]
     },
     "execution_count": 31,
     "metadata": {},
     "output_type": "execute_result"
    }
   ],
   "source": [
    "obj_radious_circle.r"
   ]
  },
  {
   "cell_type": "code",
   "execution_count": 32,
   "id": "d405f9d4-543d-4c6c-b6c3-348ba8dee4df",
   "metadata": {},
   "outputs": [],
   "source": [
    "obj_square =square(3)"
   ]
  },
  {
   "cell_type": "code",
   "execution_count": 33,
   "id": "6fe2f141-028c-47c0-b333-dd4cd529dbfe",
   "metadata": {},
   "outputs": [
    {
     "data": {
      "text/plain": [
       "12"
      ]
     },
     "execution_count": 33,
     "metadata": {},
     "output_type": "execute_result"
    }
   ],
   "source": [
    "obj_square.perimeter()"
   ]
  },
  {
   "cell_type": "code",
   "execution_count": 34,
   "id": "e8316527-39e7-4efd-9a3e-b884823c8fd8",
   "metadata": {},
   "outputs": [
    {
     "data": {
      "text/plain": [
       "9"
      ]
     },
     "execution_count": 34,
     "metadata": {},
     "output_type": "execute_result"
    }
   ],
   "source": [
    "obj_square.area()"
   ]
  },
  {
   "cell_type": "code",
   "execution_count": 36,
   "id": "79a7ed51-a086-4eb2-aeeb-c76f80227e55",
   "metadata": {},
   "outputs": [],
   "source": [
    "'''6. Create a Python class called `Animal` with a method `speak()`. Then, create child classes like `Dog`, `Cat`, and `Bird`, each with their own `speak()` method. Demonstrate polymorphism by calling the `speak()` method\n",
    "on objects of different subclasses.'''\n",
    "\n",
    "class Animal :\n",
    "    \n",
    "    def speak(self):\n",
    "        print(\"Animal cannot speak \")\n",
    "        \n",
    "class Dog(Animal):\n",
    "    \n",
    "    def speak(self):\n",
    "        print(\"Dog Cannot speak\")\n",
    "        \n",
    "class Cat(Animal):\n",
    "    \n",
    "    def speak(self):\n",
    "        print(\"Cat have different voice\")\n",
    "        \n",
    "class Bird(Animal):\n",
    "    \n",
    "    def speak(self):\n",
    "        print(\"Bird cannot speak\")"
   ]
  },
  {
   "cell_type": "code",
   "execution_count": 37,
   "id": "781a2164-ac18-4951-bf76-fffecd776bb7",
   "metadata": {},
   "outputs": [],
   "source": [
    "obj_Bird =Bird()"
   ]
  },
  {
   "cell_type": "code",
   "execution_count": 38,
   "id": "7f8055ad-81a5-4025-81be-67b35f9eb6b7",
   "metadata": {},
   "outputs": [
    {
     "name": "stdout",
     "output_type": "stream",
     "text": [
      "Bird cannot speak\n"
     ]
    }
   ],
   "source": [
    "obj_Bird.speak()"
   ]
  },
  {
   "cell_type": "code",
   "execution_count": 39,
   "id": "f6db1e8c-efb1-4e9f-abeb-9dfa6f514b7e",
   "metadata": {},
   "outputs": [],
   "source": [
    "obj_cat =Cat()"
   ]
  },
  {
   "cell_type": "code",
   "execution_count": 40,
   "id": "89e33862-1b17-4048-a45f-e66bb0e335e2",
   "metadata": {},
   "outputs": [
    {
     "name": "stdout",
     "output_type": "stream",
     "text": [
      "Cat have different voice\n"
     ]
    }
   ],
   "source": [
    "obj_cat.speak()"
   ]
  },
  {
   "cell_type": "code",
   "execution_count": 41,
   "id": "8e524198-b244-4f2a-acf9-d4aa98cf0208",
   "metadata": {},
   "outputs": [],
   "source": [
    "obj_Dog =Dog()"
   ]
  },
  {
   "cell_type": "code",
   "execution_count": 42,
   "id": "477cff2c-d126-4174-8623-20dab80aea25",
   "metadata": {},
   "outputs": [
    {
     "name": "stdout",
     "output_type": "stream",
     "text": [
      "Dog Cannot speak\n"
     ]
    }
   ],
   "source": [
    "obj_Dog.speak()"
   ]
  },
  {
   "cell_type": "code",
   "execution_count": 43,
   "id": "be2d0d51-261c-4a93-95a3-5d5707b543cf",
   "metadata": {},
   "outputs": [],
   "source": [
    "'''7. Discuss the use of abstract methods and classes in achieving polymorphism in Python. Provide an example\n",
    "using the `abc` module.\n",
    "\n",
    "Ans :\n",
    "\n",
    "To use Python Abstract Base Classes (ABCs), one needs to import ABCMeta and abstractmethod from the abc module. For example,let us examine the class Shape and its subclasses Rectangle and Circle defined in the script shape . Each of the subclasses Rectangle and Circle needs methods for computing area and perimeter.\n",
    "\n",
    "'''\n",
    "\n",
    "#Example:\n",
    "\n",
    "from abc import ABC, abstractmethod\n",
    "\n",
    "class Animal(ABC):\n",
    "    \"\"\"Abstract class for animals.\"\"\"\n",
    "\n",
    "    @abstractmethod\n",
    "    def make_sound(self):\n",
    "        pass\n",
    "\n",
    "class Dog(Animal):\n",
    "    \n",
    "    def make_sound(self):\n",
    "        print(\"Woof!\")\n",
    "\n",
    "class Cat(Animal):\n",
    "    def make_sound(self):\n",
    "        print(\"Meow!\")"
   ]
  },
  {
   "cell_type": "code",
   "execution_count": 48,
   "id": "bd27f741-1a6e-400a-b838-b75d6027f467",
   "metadata": {},
   "outputs": [],
   "source": [
    "Obj_dog = Dog()"
   ]
  },
  {
   "cell_type": "code",
   "execution_count": 49,
   "id": "abccab0f-1086-40a8-99ca-c3fe1c8c241c",
   "metadata": {},
   "outputs": [
    {
     "name": "stdout",
     "output_type": "stream",
     "text": [
      "Woof!\n"
     ]
    }
   ],
   "source": [
    "Obj_dog.make_sound()"
   ]
  },
  {
   "cell_type": "code",
   "execution_count": 50,
   "id": "5f5fae4d-13e5-474f-a214-4fb20d8bcc7c",
   "metadata": {},
   "outputs": [],
   "source": [
    "Obj_cat = Cat()"
   ]
  },
  {
   "cell_type": "code",
   "execution_count": 51,
   "id": "d9b07ec8-d790-4228-89ba-4945e1358598",
   "metadata": {},
   "outputs": [
    {
     "name": "stdout",
     "output_type": "stream",
     "text": [
      "Meow!\n"
     ]
    }
   ],
   "source": [
    "Obj_cat.make_sound()"
   ]
  },
  {
   "cell_type": "code",
   "execution_count": 52,
   "id": "219d4986-9910-491e-bc7b-df45068532a5",
   "metadata": {},
   "outputs": [],
   "source": [
    "'''8. Create a Python class hierarchy for a vehicle system (e.g., car, bicycle, boat) and implement a polymorphic start() method that prints a message specific to each vehicle type.'''\n",
    "\n",
    "class Vehicle:\n",
    "\n",
    "    def __init__(self,name):\n",
    "        self.name = name\n",
    "\n",
    "    def start(self):\n",
    "        print(\"class vehicle\")\n",
    "\n",
    "class Car(Vehicle):\n",
    "\n",
    "    def start(self):\n",
    "        print(\"Types of cars\")\n",
    "\n",
    "class Bicycle(Vehicle):\n",
    "    \n",
    "    def start(self):\n",
    "        print(\"Types of bicycle\")\n",
    "\n",
    "class Boat(Vehicle):\n",
    "\n",
    "    def start(self):\n",
    "        print(\"Types of boats\")\n"
   ]
  },
  {
   "cell_type": "code",
   "execution_count": 53,
   "id": "d45b2369-412c-4829-afd9-ec6b6e0cd6c4",
   "metadata": {},
   "outputs": [],
   "source": [
    "car = Car(\"Tata\")\n",
    "bicycle = Bicycle(\"fires\")\n",
    "boat = Boat(\"Sea Ray\")"
   ]
  },
  {
   "cell_type": "code",
   "execution_count": 54,
   "id": "2e845ef1-e04e-448a-9cb6-02746dda7dbe",
   "metadata": {},
   "outputs": [
    {
     "name": "stdout",
     "output_type": "stream",
     "text": [
      "Types of cars\n"
     ]
    }
   ],
   "source": [
    "car.start()"
   ]
  },
  {
   "cell_type": "code",
   "execution_count": 55,
   "id": "2a73c008-aac8-49e4-a6f2-6800a4adcf73",
   "metadata": {},
   "outputs": [
    {
     "data": {
      "text/plain": [
       "'Tata'"
      ]
     },
     "execution_count": 55,
     "metadata": {},
     "output_type": "execute_result"
    }
   ],
   "source": [
    "car.name"
   ]
  },
  {
   "cell_type": "code",
   "execution_count": 56,
   "id": "f501da67-8540-496f-ace6-2790f7bf907d",
   "metadata": {},
   "outputs": [
    {
     "name": "stdout",
     "output_type": "stream",
     "text": [
      "Types of bicycle\n"
     ]
    }
   ],
   "source": [
    "bicycle.start()"
   ]
  },
  {
   "cell_type": "code",
   "execution_count": 57,
   "id": "cc26ebde-c4f0-42ad-a4d7-a320203276f3",
   "metadata": {},
   "outputs": [
    {
     "data": {
      "text/plain": [
       "'fires'"
      ]
     },
     "execution_count": 57,
     "metadata": {},
     "output_type": "execute_result"
    }
   ],
   "source": [
    "bicycle.name"
   ]
  },
  {
   "cell_type": "code",
   "execution_count": 58,
   "id": "f42d4167-23c4-4650-b4d7-d8e43ecbe700",
   "metadata": {},
   "outputs": [
    {
     "name": "stdout",
     "output_type": "stream",
     "text": [
      "Types of boats\n"
     ]
    }
   ],
   "source": [
    "boat.start()"
   ]
  },
  {
   "cell_type": "code",
   "execution_count": 59,
   "id": "edec32d4-c2f9-4ab0-be6b-0db5210cef33",
   "metadata": {},
   "outputs": [
    {
     "data": {
      "text/plain": [
       "'Sea Ray'"
      ]
     },
     "execution_count": 59,
     "metadata": {},
     "output_type": "execute_result"
    }
   ],
   "source": [
    "boat.name"
   ]
  },
  {
   "cell_type": "code",
   "execution_count": null,
   "id": "e72fb61e-dabf-4585-a4eb-29c9e90454f0",
   "metadata": {},
   "outputs": [],
   "source": [
    "'''9. Explain the significance of the `isinstance()` and `issubclass()` functions in Python polymorphism.\n",
    "\n",
    "Ans:\n",
    "\n",
    "The function isinstance () checks whether the object that is passed in its parameters is the subclass of the classinfo mentioned within the parameters. On the other hand, the Python issubclass () function only checks whether a class is a subclass of a supposed parent class.\n",
    "\n",
    "'''"
   ]
  },
  {
   "cell_type": "code",
   "execution_count": 2,
   "id": "47b405d3-1f41-480c-8fcd-04e49545a5e6",
   "metadata": {},
   "outputs": [],
   "source": [
    "'''10. What is the role of the `@abstractmethod` decorator in achieving polymorphism in Python? Provide an\n",
    "example.\n",
    "\n",
    "Ans:\n",
    "\n",
    "The @abstractmethod decorator in Python is used to declare abstract methods. An abstract method is a method that has a declaration but does not have an implementation. Subclasses of a class that contains abstract methods must implement all of the abstract methods in order to be instantiated.\n",
    "\n",
    "The @abstractmethod decorator helps to achieve polymorphism in Python by allowing us to define a common interface for a group of related classes. This allows us to write code that can work with different types of objects without having to know the specific details of each type.\n",
    "\n",
    "'''\n",
    "\n",
    "#Example:\n",
    "\n",
    "from abc import ABC, abstractmethod\n",
    "\n",
    "class Animal(ABC):\n",
    "    \"\"\"Abstract class for animals.\"\"\"\n",
    "\n",
    "    @abstractmethod\n",
    "    def make_sound(self):\n",
    "        pass\n",
    "\n",
    "class Dog(Animal):\n",
    "    \n",
    "    def make_sound(self):\n",
    "        print(\"Woof!\")\n",
    "\n",
    "class Cat(Animal):\n",
    "    def make_sound(self):\n",
    "        print(\"Meow!\")"
   ]
  },
  {
   "cell_type": "code",
   "execution_count": 4,
   "id": "459f6223-b277-4273-a4b5-c1299362ace4",
   "metadata": {},
   "outputs": [],
   "source": [
    "obj_cat = Cat()"
   ]
  },
  {
   "cell_type": "code",
   "execution_count": 5,
   "id": "69c82d05-ac42-4623-91e9-610f47f6e3d4",
   "metadata": {},
   "outputs": [
    {
     "name": "stdout",
     "output_type": "stream",
     "text": [
      "Meow!\n"
     ]
    }
   ],
   "source": [
    "obj_cat.make_sound()"
   ]
  },
  {
   "cell_type": "code",
   "execution_count": 6,
   "id": "39c0c314-f521-4f87-a842-620da00f5df2",
   "metadata": {},
   "outputs": [],
   "source": [
    "obj_dog = Dog()"
   ]
  },
  {
   "cell_type": "code",
   "execution_count": 7,
   "id": "a707289a-e557-4857-8a99-aa26c1b5149c",
   "metadata": {},
   "outputs": [
    {
     "name": "stdout",
     "output_type": "stream",
     "text": [
      "Woof!\n"
     ]
    }
   ],
   "source": [
    "obj_dog.make_sound()"
   ]
  },
  {
   "cell_type": "code",
   "execution_count": 8,
   "id": "c45076a8-067a-4657-a5a5-c060ce3f8110",
   "metadata": {},
   "outputs": [],
   "source": [
    "'''11. Create a Python class called `Shape` with a polymorphic method `area()` that calculates the area of different shapes (e.g., circle, rectangle, triangle).'''\n",
    "\n",
    "class shape :\n",
    "    \n",
    "    def __init__(self):\n",
    "        pass\n",
    "    \n",
    "    def calculate_area(self):\n",
    "        return \"calculate the area of shape\"\n",
    "    \n",
    "class circle(shape):\n",
    "    \n",
    "    def __init__(self ,radious):\n",
    "        super().__init__()\n",
    "        self.radious =radious\n",
    "        \n",
    "    def calculate_area(self):\n",
    "        return 3.14 * (self.radious**2)\n",
    "    \n",
    "class Rectangle(shape):\n",
    "    \n",
    "    def __init__(self ,length ,width):\n",
    "        super().__init__()\n",
    "        self.length =length\n",
    "        self.width =width\n",
    "        \n",
    "    def calculate_area(self):\n",
    "        return self.length * self.width\n",
    "    \n",
    "class triangle(shape):\n",
    "    \n",
    "    def __init__(self ,base ,height):\n",
    "        super().__init__()\n",
    "        self.base =base\n",
    "        self.height =height\n",
    "        \n",
    "    def calculate_area(self):\n",
    "        return 0.5 * self.base * self.height"
   ]
  },
  {
   "cell_type": "code",
   "execution_count": 9,
   "id": "1e299f7b-ca45-4d18-ab5e-001b532515f4",
   "metadata": {},
   "outputs": [],
   "source": [
    "obj_triangle =triangle(5,16)"
   ]
  },
  {
   "cell_type": "code",
   "execution_count": 10,
   "id": "2964ecce-e888-4f80-a5c3-df5eaef8d1cc",
   "metadata": {},
   "outputs": [
    {
     "data": {
      "text/plain": [
       "40.0"
      ]
     },
     "execution_count": 10,
     "metadata": {},
     "output_type": "execute_result"
    }
   ],
   "source": [
    "obj_triangle.calculate_area()"
   ]
  },
  {
   "cell_type": "code",
   "execution_count": 11,
   "id": "f10c018c-fcc9-497f-9ab4-c20dff7ad682",
   "metadata": {},
   "outputs": [],
   "source": [
    "obj_rectangle =Rectangle(10,20)"
   ]
  },
  {
   "cell_type": "code",
   "execution_count": 12,
   "id": "b9410208-d8e8-4be2-a7ca-6bc7c7a96335",
   "metadata": {},
   "outputs": [
    {
     "data": {
      "text/plain": [
       "200"
      ]
     },
     "execution_count": 12,
     "metadata": {},
     "output_type": "execute_result"
    }
   ],
   "source": [
    "obj_rectangle.calculate_area()"
   ]
  },
  {
   "cell_type": "code",
   "execution_count": 13,
   "id": "86a7506f-a16b-46ee-acf1-234e07aebc10",
   "metadata": {},
   "outputs": [],
   "source": [
    "obj_circle =circle(21)"
   ]
  },
  {
   "cell_type": "code",
   "execution_count": 14,
   "id": "36e2e445-8079-4b11-b505-247487329582",
   "metadata": {},
   "outputs": [
    {
     "data": {
      "text/plain": [
       "1384.74"
      ]
     },
     "execution_count": 14,
     "metadata": {},
     "output_type": "execute_result"
    }
   ],
   "source": [
    "obj_circle.calculate_area()"
   ]
  },
  {
   "cell_type": "code",
   "execution_count": null,
   "id": "ca5c4ff0-7fec-4959-9ffc-128cf0687357",
   "metadata": {},
   "outputs": [],
   "source": [
    "'''12. Discuss the benefits of polymorphism in terms of code reusability and flexibility in Python programs.\n",
    "\n",
    "Ans:\n",
    "\n",
    "Code Reusability: Polymorphism allows you to reuse the code written for the base class, reducing redundancy and promoting cleaner, more concise code.\n",
    "\n",
    "Flexibility and Extensibility: With polymorphism, you can add new derived classes without modifying existing code.\n",
    "\n",
    "'''"
   ]
  },
  {
   "cell_type": "code",
   "execution_count": null,
   "id": "94b6aabd-d7a0-4d2d-9784-02ab4b30a9b7",
   "metadata": {},
   "outputs": [],
   "source": [
    "'''13. Explain the use of the `super()` function in Python polymorphism. How does it help call methods of parent\n",
    "classes?\n",
    "\n",
    "Ans:\n",
    "\n",
    "In Python, the super() function is used to refer to the parent class or superclass. It allows you to call methods defined in the superclass from the subclass, enabling you to extend and customize the functionality inherited from the parent class.\n",
    "\n",
    "'''"
   ]
  },
  {
   "cell_type": "code",
   "execution_count": 15,
   "id": "6f1307dd-db5f-4c3a-8a62-b68fecb2ebac",
   "metadata": {},
   "outputs": [],
   "source": [
    "'''14. Create a Python class hierarchy for a banking system with various account types (e.g., savings, checking, credit card) and demonstrate polymorphism by implementing a common `withdraw()` method.'''\n",
    "\n",
    "class banking :\n",
    "    \n",
    "    def withdraw(self):\n",
    "        print(\"Withdraw money \")\n",
    "        \n",
    "        \n",
    "class saving(banking):\n",
    "    \n",
    "    def withdraw(self):\n",
    "        print(\"This is saving account \")\n",
    "        \n",
    "class checking(banking):\n",
    "    \n",
    "    def withdraw(self):\n",
    "        print(\"This will use for balance checking\")\n",
    "        \n",
    "class credit_card(banking):\n",
    "    \n",
    "    def withdraw(self):\n",
    "        print(\"This is credit card purpose\")"
   ]
  },
  {
   "cell_type": "code",
   "execution_count": 18,
   "id": "3dae4f0c-2bdf-45e1-b7b0-833f1bf0e280",
   "metadata": {},
   "outputs": [],
   "source": [
    "obj_creditcard = credit_card()"
   ]
  },
  {
   "cell_type": "code",
   "execution_count": 19,
   "id": "1569824f-8c65-4e81-ab98-89bc1e5b29b5",
   "metadata": {},
   "outputs": [
    {
     "name": "stdout",
     "output_type": "stream",
     "text": [
      "This is credit card purpose\n"
     ]
    }
   ],
   "source": [
    "obj_creditcard.withdraw()"
   ]
  },
  {
   "cell_type": "code",
   "execution_count": 20,
   "id": "81f3493c-46d3-422f-a1bc-632f75c04b2f",
   "metadata": {},
   "outputs": [],
   "source": [
    "obj_checking = checking()"
   ]
  },
  {
   "cell_type": "code",
   "execution_count": 21,
   "id": "2aeae24f-9129-46f8-91e1-b97564490c9b",
   "metadata": {},
   "outputs": [
    {
     "name": "stdout",
     "output_type": "stream",
     "text": [
      "This will use for balance checking\n"
     ]
    }
   ],
   "source": [
    "obj_checking.withdraw()"
   ]
  },
  {
   "cell_type": "code",
   "execution_count": 22,
   "id": "0028b3d0-5f2a-4a3a-99c2-ae514ea9ddf3",
   "metadata": {},
   "outputs": [],
   "source": [
    "obj_saqving = saving()"
   ]
  },
  {
   "cell_type": "code",
   "execution_count": 24,
   "id": "e9c78350-7f48-4a47-86a9-b2a75919a940",
   "metadata": {},
   "outputs": [
    {
     "name": "stdout",
     "output_type": "stream",
     "text": [
      "This is saving account \n"
     ]
    }
   ],
   "source": [
    "obj_saqving.withdraw()"
   ]
  },
  {
   "cell_type": "code",
   "execution_count": 25,
   "id": "44e4299b-bb3a-4640-a090-79b6e03326cb",
   "metadata": {},
   "outputs": [],
   "source": [
    "obj_banking = banking()"
   ]
  },
  {
   "cell_type": "code",
   "execution_count": 26,
   "id": "34b29e01-46ba-443b-914a-d5087a2381a5",
   "metadata": {},
   "outputs": [
    {
     "name": "stdout",
     "output_type": "stream",
     "text": [
      "Withdraw money \n"
     ]
    }
   ],
   "source": [
    "obj_banking.withdraw()"
   ]
  },
  {
   "cell_type": "code",
   "execution_count": null,
   "id": "d3ec72fd-45a8-48fd-b1b8-d773be39d83b",
   "metadata": {},
   "outputs": [],
   "source": [
    "'''15. Describe the concept of operator overloading in Python and how it relates to polymorphism. Provide\n",
    "examples using operators like `+` and `*`.\n",
    "\n",
    "Ans:\n",
    "\n",
    "Operator Overloading means giving extended meaning beyond their predefined operational meaning. For example operator + is used to add two integers as well as join two strings and merge two lists. It is achievable because ‘+’ operator is overloaded by int class and str class. You might have noticed that the same built-in operator or function shows different behavior for objects of different classes, this is called Operator Overloading. \n",
    "\n",
    "'''"
   ]
  },
  {
   "cell_type": "code",
   "execution_count": null,
   "id": "6bd7b418-4b83-432e-af74-43b880f2982c",
   "metadata": {},
   "outputs": [],
   "source": [
    "'''16. What is dynamic polymorphism, and how is it achieved in Python?\n",
    "\n",
    "Ans:\n",
    "\n",
    "In Python, Polymorphism lets us define methods in the child class that have the same name as the methods in the parent class. In inheritance, the child class inherits the methods from the parent class. However, it is possible to modify a method in a child class that it has inherited from the parent class.\n",
    "\n",
    "'''"
   ]
  },
  {
   "cell_type": "code",
   "execution_count": 28,
   "id": "b0953992-dc33-4041-9d57-109e336d3b4a",
   "metadata": {},
   "outputs": [],
   "source": [
    "'''17. Create a Python class hierarchy for employees in a company (e.g., manager, developer, designer) and implement polymorphism through a common `calculate_salary()` method.'''\n",
    "\n",
    "class employee :\n",
    "    \n",
    "    def __init__(self,salary):\n",
    "        self.salary = salary \n",
    "        \n",
    "    def calculate_salary(self):\n",
    "        return \"calculated salary\"\n",
    "    \n",
    "class manager(employee) :\n",
    "    \n",
    "    def calculate_salary(self):\n",
    "        print(\"Manager salary is :\",self.salary)\n",
    "        \n",
    "class developer(employee):\n",
    "    \n",
    "    def calculate_salary(self):\n",
    "        print(\"developer salary is :\",self.salary)\n",
    "        \n",
    "class designer(employee):\n",
    "    \n",
    "    def calculate_salary(self):\n",
    "        print(\"designer salary is :\",self.salary)"
   ]
  },
  {
   "cell_type": "code",
   "execution_count": 29,
   "id": "c83bfd32-56c0-41bc-bd7c-0f89bb57ba6f",
   "metadata": {},
   "outputs": [],
   "source": [
    "obj_designer = designer(30000)"
   ]
  },
  {
   "cell_type": "code",
   "execution_count": 30,
   "id": "429445b6-f4ce-42e9-98ab-8c00b55e0544",
   "metadata": {},
   "outputs": [
    {
     "name": "stdout",
     "output_type": "stream",
     "text": [
      "designer salary is : 30000\n"
     ]
    }
   ],
   "source": [
    "obj_designer.calculate_salary()"
   ]
  },
  {
   "cell_type": "code",
   "execution_count": 32,
   "id": "7742eb63-358f-4f46-9908-c900b4fd5d30",
   "metadata": {},
   "outputs": [],
   "source": [
    "obj_developer = developer(60000)"
   ]
  },
  {
   "cell_type": "code",
   "execution_count": 33,
   "id": "b93d879b-e76f-45c8-8c3f-2dadaf33f41a",
   "metadata": {},
   "outputs": [
    {
     "name": "stdout",
     "output_type": "stream",
     "text": [
      "developer salary is : 60000\n"
     ]
    }
   ],
   "source": [
    "obj_developer.calculate_salary()"
   ]
  },
  {
   "cell_type": "code",
   "execution_count": 35,
   "id": "f4bec0ed-33c9-4608-b698-befc94d843a3",
   "metadata": {},
   "outputs": [],
   "source": [
    "obj_manager = manager(1200000)"
   ]
  },
  {
   "cell_type": "code",
   "execution_count": 36,
   "id": "fd2f1e66-380b-4132-8839-81930298f5fb",
   "metadata": {},
   "outputs": [
    {
     "name": "stdout",
     "output_type": "stream",
     "text": [
      "Manager salary is : 1200000\n"
     ]
    }
   ],
   "source": [
    "obj_manager.calculate_salary()"
   ]
  },
  {
   "cell_type": "code",
   "execution_count": null,
   "id": "c937809d-eff8-453b-8ced-5fff25a4e2c1",
   "metadata": {},
   "outputs": [],
   "source": [
    "'''18. Discuss the concept of function pointers and how they can be used to achieve polymorphism in Python.\n",
    "\n",
    "Ans:\n",
    "\n",
    "olymorphism can be used to allow common behavior with different types, and to let the system choose which function to call based on type and parameter signatures. Function pointers are indicated when a common function such as a sort or a search is to be performed on different criteria.\n",
    "\n",
    "'''"
   ]
  },
  {
   "cell_type": "code",
   "execution_count": null,
   "id": "b641410b-f2ee-4c68-a8bc-ee9cc854ae21",
   "metadata": {},
   "outputs": [],
   "source": [
    "'''19. Explain the role of interfaces and abstract classes in polymorphism, drawing comparisons between them.\n",
    "\n",
    "Ans :\n",
    "\n",
    "With abstract classes, you basically define the class as abstract and the methods you want to enforce as abstract without actually putting any code inside those methods. Then you create a child class extending the parent abstract class and implement the abstract methods in that child class.\n",
    "\n",
    "'''"
   ]
  },
  {
   "cell_type": "code",
   "execution_count": 39,
   "id": "42c2cb6f-2140-481b-a415-2f6df543456b",
   "metadata": {},
   "outputs": [],
   "source": [
    "'''20. Create a Python class for a zoo simulation, demonstrating polymorphism with different animal types (e.g., mammals, birds, reptiles) and their behavior (e.g., eating, sleeping, making sounds).'''\n",
    "\n",
    "class Animal:\n",
    "    \"\"\"Base class for all animals\"\"\"\n",
    "\n",
    "    def __init__(self,name,animal_type):\n",
    "        self.name = name\n",
    "        self.animal_type = animal_type\n",
    "\n",
    "class Mammals(Animal):\n",
    "    \"\"\"Class for mammals\"\"\"\n",
    "\n",
    "    def eat(self):\n",
    "        print(f\"{self.name} the mammal is eating.\")\n",
    "\n",
    "    def sleep(self):\n",
    "        print(f\"{self.name} the mammal is sleeping.\")\n",
    "\n",
    "    def make_sound(self):\n",
    "        print(f\"{self.name} the mammal is making a sound.\")\n",
    "\n",
    "class Birds(Animal):\n",
    "    \"\"\"Class for birds\"\"\"\n",
    "\n",
    "    def eat(self):\n",
    "        print(f\"{self.name} the bird is eating.\")\n",
    "\n",
    "    def sleep(self):\n",
    "        print(f\"{self.name} the bird is sleeping.\")\n",
    "\n",
    "    def make_sound(self):\n",
    "        print(f\"{self.name} the bird is making a sound.\")\n",
    "\n",
    "class Reptiles(Animal):\n",
    "    \"\"\"Class for reptiles in the zoo simulation.\"\"\"\n",
    "\n",
    "    def eat(self):\n",
    "        print(f\"{self.name} the reptile is eating.\")\n",
    "\n",
    "    def sleep(self):\n",
    "        print(f\"{self.name} the reptile is sleeping.\")\n",
    "\n",
    "    def make_sound(self):\n",
    "        print(f\"{self.name} the reptile is making a sound.\")"
   ]
  },
  {
   "cell_type": "code",
   "execution_count": 40,
   "id": "3c82572b-d3fa-4041-97e3-15179080a659",
   "metadata": {},
   "outputs": [],
   "source": [
    "lion = Mammals(\"Leo\", \"Lion\")\n",
    "eagle = Birds(\"Soaring\", \"Eagle\")\n",
    "snake = Reptiles(\"Slinky\", \"Snake\")"
   ]
  },
  {
   "cell_type": "code",
   "execution_count": 41,
   "id": "6223c806-01df-4e97-8597-5704aacd255b",
   "metadata": {},
   "outputs": [
    {
     "name": "stdout",
     "output_type": "stream",
     "text": [
      "Leo the mammal is making a sound.\n"
     ]
    }
   ],
   "source": [
    "lion.make_sound()"
   ]
  },
  {
   "cell_type": "code",
   "execution_count": 42,
   "id": "a82e753f-bedf-4eb5-8552-102a570811fc",
   "metadata": {},
   "outputs": [
    {
     "name": "stdout",
     "output_type": "stream",
     "text": [
      "Soaring the bird is making a sound.\n"
     ]
    }
   ],
   "source": [
    "eagle.make_sound()"
   ]
  },
  {
   "cell_type": "code",
   "execution_count": 43,
   "id": "c37667e1-1e63-4a40-9295-d4789a9344cf",
   "metadata": {},
   "outputs": [
    {
     "name": "stdout",
     "output_type": "stream",
     "text": [
      "Slinky the reptile is making a sound.\n"
     ]
    }
   ],
   "source": [
    "snake.make_sound()"
   ]
  },
  {
   "cell_type": "code",
   "execution_count": 44,
   "id": "de939930-d518-4b3c-ba5f-e3c3bd9960bf",
   "metadata": {},
   "outputs": [],
   "source": [
    "#Abstraction:"
   ]
  },
  {
   "cell_type": "code",
   "execution_count": null,
   "id": "47f652dd-8a1f-435c-a3b0-83efe6f985d1",
   "metadata": {},
   "outputs": [],
   "source": [
    "'''1. What is abstraction in Python, and how does it relate to object-oriented programming?\n",
    "\n",
    "Ans :\n",
    "\n",
    "Abstraction in python is defined as a process of handling complexity by hiding unnecessary information from the user. This is one of the core concepts of object-oriented programming (OOP) languages.\n",
    "\n",
    "'''"
   ]
  },
  {
   "cell_type": "code",
   "execution_count": null,
   "id": "84b232d3-ed6e-4742-a612-b8358823fc3c",
   "metadata": {},
   "outputs": [],
   "source": [
    "'''2. Describe the benefits of abstraction in terms of code organization and complexity reduction.\n",
    "\n",
    "Ans :\n",
    "\n",
    "Abstraction is a powerful programming technique that allows us to simplify complex systems by hiding unnecessary details. It has many benefits, including:\n",
    "\n",
    "Improved code organization: Abstraction allows us to group related code together into modules or classes, which makes the code easier to read, understand, and maintain.\n",
    "\n",
    "Reduced complexity: By hiding unnecessary details, abstraction makes the code less complex and easier to reason about.\n",
    "\n",
    "Increased reusability: Abstracted code can be reused in different contexts without having to modify the underlying implementation.\n",
    "\n",
    "Improved maintainability: Abstracted code is easier to maintain because changes can be made to the underlying implementation without affecting the rest of the code.\n",
    "\n",
    "'''"
   ]
  },
  {
   "cell_type": "code",
   "execution_count": 45,
   "id": "c87db7b8-5918-426e-ba2a-6f054b49ee4d",
   "metadata": {},
   "outputs": [],
   "source": [
    "'''3. Create a Python class called `Shape` with an abstract method `calculate_area()`. Then, create child classes (e.g., `Circle`, `Rectangle`) that implement the `calculate_area()` method. Provide an example of\n",
    "using these classes.'''\n",
    "\n",
    "from abc import ABC ,abstractmethod \n",
    "\n",
    "class shape :\n",
    "    \n",
    "    @abstractmethod\n",
    "    def calculate_area(self):\n",
    "        print(\"Calculate area of shape\")\n",
    "        \n",
    "class circle(shape):\n",
    "    \n",
    "    @abstractmethod\n",
    "    def calculate_area(self ,redious):\n",
    "        return redious**2\n",
    "    \n",
    "class rectangle(shape):\n",
    "    \n",
    "    @abstractmethod\n",
    "    def calculate_area(self ,length , width):\n",
    "        return 0.5 * length * width"
   ]
  },
  {
   "cell_type": "code",
   "execution_count": 47,
   "id": "42786216-f683-448e-9645-39f4af5fb719",
   "metadata": {},
   "outputs": [],
   "source": [
    "obj_rectangle = rectangle()"
   ]
  },
  {
   "cell_type": "code",
   "execution_count": 48,
   "id": "8e2ceace-3b31-4c60-aa3e-e0760933495b",
   "metadata": {},
   "outputs": [
    {
     "data": {
      "text/plain": [
       "100.0"
      ]
     },
     "execution_count": 48,
     "metadata": {},
     "output_type": "execute_result"
    }
   ],
   "source": [
    "obj_rectangle.calculate_area(10,20)"
   ]
  },
  {
   "cell_type": "code",
   "execution_count": 49,
   "id": "b5e7c34e-f521-4bc4-aadb-9eca211a3d75",
   "metadata": {},
   "outputs": [],
   "source": [
    "obj_circle = circle()"
   ]
  },
  {
   "cell_type": "code",
   "execution_count": 52,
   "id": "8f2f57dd-13eb-429b-9f00-5737593dd544",
   "metadata": {},
   "outputs": [
    {
     "data": {
      "text/plain": [
       "100"
      ]
     },
     "execution_count": 52,
     "metadata": {},
     "output_type": "execute_result"
    }
   ],
   "source": [
    "obj_circle.calculate_area(10)"
   ]
  },
  {
   "cell_type": "code",
   "execution_count": 53,
   "id": "7d9bd801-e373-4b98-a58f-7381bd1bae3c",
   "metadata": {},
   "outputs": [],
   "source": [
    "'''4. Explain the concept of abstract classes in Python and how they are defined using the `abc` module. Provide\n",
    "an example.\n",
    "\n",
    "Ans:\n",
    "\n",
    "An abstract class can be considered a blueprint for other classes. It allows you to create a set of methods that must be created within any child classes built from the abstract class. A class that contains one or more abstract methods is called an abstract class.\n",
    "\n",
    "'''\n",
    "\n",
    "#Example:\n",
    "\n",
    "from abc import ABC,abstractmethod\n",
    "class pwskills:\n",
    "    \n",
    "    @abstractmethod\n",
    "    def databaseconnect(self):\n",
    "        pass\n",
    "    @abstractmethod\n",
    "    def checkenrollment(self,user_mail):\n",
    "        pass\n",
    "    @abstractmethod\n",
    "    def check_completed_lecture(self,userId ,classID):\n",
    "        pass\n",
    "\n",
    "class student_details(pwskills):\n",
    "    \n",
    "    def databaseconnect(self):\n",
    "        print(\"Database connection is sucessfull\")\n",
    "        \n",
    "    def checkenrollment(self,user_mail):\n",
    "        return \"These user is enrolled\"\n",
    "    \n",
    "    def check_completed_lecture(self,userID,classID):\n",
    "        return \"These user has completed lecture \""
   ]
  },
  {
   "cell_type": "code",
   "execution_count": 54,
   "id": "4aca9e53-415e-4651-8789-4012970b9ab9",
   "metadata": {},
   "outputs": [],
   "source": [
    "obj_student = student_details()"
   ]
  },
  {
   "cell_type": "code",
   "execution_count": 56,
   "id": "ec289af6-41a0-4b2b-afa4-cbc1dcc482da",
   "metadata": {},
   "outputs": [
    {
     "data": {
      "text/plain": [
       "'These user has completed lecture '"
      ]
     },
     "execution_count": 56,
     "metadata": {},
     "output_type": "execute_result"
    }
   ],
   "source": [
    "obj_student.check_completed_lecture(\"mno\",10)"
   ]
  },
  {
   "cell_type": "code",
   "execution_count": 57,
   "id": "f0651ddd-63b5-4975-82ca-1a4a472f83bf",
   "metadata": {},
   "outputs": [
    {
     "data": {
      "text/plain": [
       "'These user is enrolled'"
      ]
     },
     "execution_count": 57,
     "metadata": {},
     "output_type": "execute_result"
    }
   ],
   "source": [
    "obj_student.checkenrollment(\"abcd123ed@gmail.com\")"
   ]
  },
  {
   "cell_type": "code",
   "execution_count": 58,
   "id": "253c72cd-0f81-41bc-b17c-b6a76740ae38",
   "metadata": {},
   "outputs": [
    {
     "name": "stdout",
     "output_type": "stream",
     "text": [
      "Database connection is sucessfull\n"
     ]
    }
   ],
   "source": [
    "obj_student.databaseconnect()"
   ]
  },
  {
   "cell_type": "code",
   "execution_count": null,
   "id": "3c4d47b4-2ddc-4453-bf78-9586ec26f37e",
   "metadata": {},
   "outputs": [],
   "source": [
    "'''5. How do abstract classes differ from regular classes in Python? Discuss their use cases.\n",
    "\n",
    "Ans :\n",
    "\n",
    "An abstract class can be considered a blueprint for other classes. It allows you to create a set of methods that must be created within any child classes built from the abstract class. A class that contains one or more abstract methods is called an abstract class\n",
    "\n",
    "Usecases :\n",
    "\n",
    "An abstract class is mostly used to provide a base for subclasses to extend and implement the abstract methods and override or use the implemented methods in abstract class.\n",
    "\n",
    "'''"
   ]
  },
  {
   "cell_type": "code",
   "execution_count": 64,
   "id": "f10e1ac3-3313-4539-84b2-6dc0af182f98",
   "metadata": {},
   "outputs": [],
   "source": [
    "'''6. Create a Python class for a bank account and demonstrate abstraction by hiding the account balance and\n",
    "providing methods to deposit and withdraw funds.'''\n",
    "\n",
    "from abc import ABC ,abstractmethod\n",
    "class bankaccount :\n",
    "    \n",
    "    def __init__(self,balance):\n",
    "        self.__balance = balance\n",
    "        \n",
    "    def deposite_money(self,amount):\n",
    "        self.__balance =self.__balance + amount\n",
    "        print(\"You have deposited amount :\",amount)\n",
    "        \n",
    "    def withdraw_amount(self,withdrw_amt):\n",
    "        self.__balance =self.__balance - withdrw_amt\n",
    "        print(\"You have withdraw :\",withdrw_amt)"
   ]
  },
  {
   "cell_type": "code",
   "execution_count": 65,
   "id": "dde2c10c-2b70-4a4b-b5ec-b6f135be6a68",
   "metadata": {},
   "outputs": [],
   "source": [
    "obj_bank = bankaccount(20000)"
   ]
  },
  {
   "cell_type": "code",
   "execution_count": 66,
   "id": "8c2a8ec6-4d79-4fc8-a43b-9b01e44f115e",
   "metadata": {},
   "outputs": [
    {
     "name": "stdout",
     "output_type": "stream",
     "text": [
      "You have deposited amount : 5000\n"
     ]
    }
   ],
   "source": [
    "obj_bank.deposite_money(5000)"
   ]
  },
  {
   "cell_type": "code",
   "execution_count": 67,
   "id": "77703359-151d-4657-ba57-08b282c64020",
   "metadata": {},
   "outputs": [
    {
     "name": "stdout",
     "output_type": "stream",
     "text": [
      "You have withdraw : 2500\n"
     ]
    }
   ],
   "source": [
    "obj_bank.withdraw_amount(2500)"
   ]
  },
  {
   "cell_type": "code",
   "execution_count": null,
   "id": "3764399e-16c3-4717-8ef5-fbbb3271e14c",
   "metadata": {},
   "outputs": [],
   "source": [
    "'''7. Discuss the concept of interface classes in Python and their role in achieving abstraction.\n",
    "\n",
    "Ans :\n",
    "\n",
    "Interface classes in Python are a way to define a set of methods that must be implemented by any class that claims to implement the interface. Interface classes are not concrete, meaning that they cannot be instantiated directly. Instead, they are used as a blueprint for other classes to follow.\n",
    "\n",
    "Interface classes can help to achieve abstraction in the following ways:\n",
    "\n",
    "They provide a common interface for different implementations of the same functionality. This makes it easier to switch between different implementations without having to modify the client code.\n",
    "They allow us to focus on the \"what\" of an object, rather than the \"how\". This makes the code more readable and maintainable.\n",
    "They can help to reduce coupling between different parts of the system. This makes the system more robust and less likely to fail if one part changes.\n",
    "\n",
    "'''"
   ]
  },
  {
   "cell_type": "code",
   "execution_count": 68,
   "id": "6b571e39-75be-4286-8749-1b69fa47b95c",
   "metadata": {},
   "outputs": [],
   "source": [
    "'''8. Create a Python class hierarchy for animals and implement abstraction by defining common methods (e.g., eat(), sleep()) in an abstract base class.'''\n",
    "\n",
    "from abc import ABC ,abstractmethod\n",
    "class animal :\n",
    "    \n",
    "    @abstractmethod\n",
    "    def eat(self):\n",
    "        return \"This is eat method\"\n",
    "    \n",
    "    @abstractmethod\n",
    "    def sleep(self):\n",
    "        return \"This is sleep method\"\n",
    "    \n",
    "class Dog(animal):\n",
    "    \n",
    "    def eat(self):\n",
    "        print(\"Dog will eat\")\n",
    "        \n",
    "    def sleep(self):\n",
    "        print(\"Dog will sleep\")\n",
    "        \n",
    "class cat(animal):\n",
    "    \n",
    "    def eat(self):\n",
    "        print(\"Cat will eat\")\n",
    "        \n",
    "    def sleep(self):\n",
    "        print(\"Cat will sleep\")"
   ]
  },
  {
   "cell_type": "code",
   "execution_count": 69,
   "id": "7c901333-d048-4791-9b9b-e2bf688c9d2f",
   "metadata": {},
   "outputs": [],
   "source": [
    "obj_cat = cat()"
   ]
  },
  {
   "cell_type": "code",
   "execution_count": 70,
   "id": "928cb33c-cdb7-43a4-a885-602a7121ef24",
   "metadata": {},
   "outputs": [
    {
     "name": "stdout",
     "output_type": "stream",
     "text": [
      "Cat will eat\n"
     ]
    }
   ],
   "source": [
    "obj_cat.eat()"
   ]
  },
  {
   "cell_type": "code",
   "execution_count": 71,
   "id": "7a93bc91-5cbc-4500-93d3-5fb4f9f40405",
   "metadata": {},
   "outputs": [
    {
     "name": "stdout",
     "output_type": "stream",
     "text": [
      "Cat will sleep\n"
     ]
    }
   ],
   "source": [
    "obj_cat.sleep()"
   ]
  },
  {
   "cell_type": "code",
   "execution_count": 72,
   "id": "1f65f1f7-1c6d-4a93-a1fe-dcdcadf1ccb5",
   "metadata": {},
   "outputs": [],
   "source": [
    "obj_dog =Dog()"
   ]
  },
  {
   "cell_type": "code",
   "execution_count": 73,
   "id": "bfee76f6-1135-42b6-9423-e736230880c8",
   "metadata": {},
   "outputs": [
    {
     "name": "stdout",
     "output_type": "stream",
     "text": [
      "Dog will eat\n"
     ]
    }
   ],
   "source": [
    "obj_dog.eat()"
   ]
  },
  {
   "cell_type": "code",
   "execution_count": 74,
   "id": "eb525e45-d0d5-4659-a6ab-50af18895d4e",
   "metadata": {},
   "outputs": [
    {
     "name": "stdout",
     "output_type": "stream",
     "text": [
      "Dog will sleep\n"
     ]
    }
   ],
   "source": [
    "obj_dog.sleep()"
   ]
  },
  {
   "cell_type": "code",
   "execution_count": 77,
   "id": "953e6a37-ade7-48ee-825d-c018883d7a0d",
   "metadata": {},
   "outputs": [],
   "source": [
    "'''9. Explain the significance of encapsulation in achieving abstraction. Provide examples\n",
    "\n",
    "Ans:\n",
    "\n",
    "Encapsulation involves bundling data members (attributes) and methods (functions) into a single unit (class). Abstraction focuses on defining the essential methods and properties of a class without specifying their implementation.\n",
    "\n",
    "'''\n",
    "\n",
    "#Example:\n",
    "\n",
    "class BankAccount:\n",
    "    \n",
    "    def __init__(self,name,account_number,balance):\n",
    "        self._name = name\n",
    "        self._account_number = account_number\n",
    "        self.__balance = balance\n",
    "        \n",
    "        \n",
    "    def check_banlance(self):\n",
    "        return self.__balance\n",
    "    \n",
    "    def show_accountNo(self):\n",
    "        return self._account_number"
   ]
  },
  {
   "cell_type": "code",
   "execution_count": 78,
   "id": "b8612155-39f1-4963-9bf8-3d24654df65d",
   "metadata": {},
   "outputs": [],
   "source": [
    "obj_bank_account = BankAccount(\"abcd\",654668713,105600)"
   ]
  },
  {
   "cell_type": "code",
   "execution_count": 79,
   "id": "5706945b-d000-46fc-a6b3-606d759d4ab0",
   "metadata": {},
   "outputs": [
    {
     "data": {
      "text/plain": [
       "654668713"
      ]
     },
     "execution_count": 79,
     "metadata": {},
     "output_type": "execute_result"
    }
   ],
   "source": [
    "obj_bank_account.show_accountNo()"
   ]
  },
  {
   "cell_type": "code",
   "execution_count": 80,
   "id": "8bd840a6-7fe5-4850-8001-85ecb95b1350",
   "metadata": {},
   "outputs": [
    {
     "data": {
      "text/plain": [
       "105600"
      ]
     },
     "execution_count": 80,
     "metadata": {},
     "output_type": "execute_result"
    }
   ],
   "source": [
    "obj_bank_account.check_banlance()"
   ]
  },
  {
   "cell_type": "code",
   "execution_count": null,
   "id": "134432c3-f794-4b2f-b533-9a7aeaf69500",
   "metadata": {},
   "outputs": [],
   "source": [
    "'''10. What is the purpose of abstract methods, and how do they enforce abstraction in Python classes?\n",
    "\n",
    "Ans:\n",
    "\n",
    "Abstract methods force the child classes to give the implementation of these methods in them and thus help us achieve abstraction as each subclass can give its own implementation. A class containing one or more than one abstract method is called an abstract class.\n",
    "\n",
    "'''"
   ]
  },
  {
   "cell_type": "code",
   "execution_count": 2,
   "id": "fd593142-6583-44e2-9bbe-797f3440b8db",
   "metadata": {},
   "outputs": [],
   "source": [
    "'''11.Create a Python class for a vehicle system and demonstrate abstraction by defining common methods (e.g., start(), stop()) in an abstract base class.'''\n",
    "\n",
    "from abc import ABC,abstractmethod\n",
    "class vehicle:\n",
    "    \n",
    "    def __init__(self,make,model,year):\n",
    "        self.make = make\n",
    "        self.model = model\n",
    "        self.year = year\n",
    "        \n",
    "    @abstractmethod    \n",
    "    def start(self):\n",
    "        print(\"start method\")\n",
    "        \n",
    "    @abstractmethod    \n",
    "    def stop(self):\n",
    "        print(\"stop method\")\n",
    "        \n",
    "class car(vehicle):\n",
    "    \n",
    "    def start(self):\n",
    "        print(\"starting the car\")\n",
    "        \n",
    "    def stop(self):\n",
    "        print(\"stop the car\")\n",
    "        \n",
    "class truck(vehicle):\n",
    "    \n",
    "    def start(self):\n",
    "        print(\"starting the truck\")\n",
    "        \n",
    "    def stop(self):\n",
    "        print(\"Stop the truck\")"
   ]
  },
  {
   "cell_type": "code",
   "execution_count": 3,
   "id": "28bd7eec-aab5-424a-b95c-7ba195994052",
   "metadata": {},
   "outputs": [],
   "source": [
    "obj_car = car(\"TATA\",\"safari\",2022)"
   ]
  },
  {
   "cell_type": "code",
   "execution_count": 5,
   "id": "bbed575b-a50f-45dd-beec-d8b5b0a576c3",
   "metadata": {},
   "outputs": [
    {
     "name": "stdout",
     "output_type": "stream",
     "text": [
      "starting the car\n"
     ]
    }
   ],
   "source": [
    "obj_car.start()"
   ]
  },
  {
   "cell_type": "code",
   "execution_count": 6,
   "id": "dd61657c-46c2-4cc8-952d-cf8f304adb52",
   "metadata": {},
   "outputs": [
    {
     "name": "stdout",
     "output_type": "stream",
     "text": [
      "stop the car\n"
     ]
    }
   ],
   "source": [
    "obj_car.stop()"
   ]
  },
  {
   "cell_type": "code",
   "execution_count": 8,
   "id": "5d13bf17-d56c-4c51-8077-25fa7c1ee5b8",
   "metadata": {},
   "outputs": [],
   "source": [
    "obj_truck = truck(\"TATA\",\"Eicer\",2015)"
   ]
  },
  {
   "cell_type": "code",
   "execution_count": 9,
   "id": "de538c68-8476-4d0e-a4b4-f4ae09e0ee90",
   "metadata": {},
   "outputs": [
    {
     "name": "stdout",
     "output_type": "stream",
     "text": [
      "starting the truck\n"
     ]
    }
   ],
   "source": [
    "obj_truck.start()"
   ]
  },
  {
   "cell_type": "code",
   "execution_count": 10,
   "id": "0411c1a3-0b78-43a4-818c-eafe782ca928",
   "metadata": {},
   "outputs": [
    {
     "name": "stdout",
     "output_type": "stream",
     "text": [
      "Stop the truck\n"
     ]
    }
   ],
   "source": [
    "obj_truck.stop()"
   ]
  },
  {
   "cell_type": "code",
   "execution_count": null,
   "id": "ac8abdb7-6d75-4237-bcbe-538eb8cb823f",
   "metadata": {},
   "outputs": [],
   "source": [
    "'''12. Describe the use of abstract properties in Python and how they can be employed in abstract classes.\n",
    "\n",
    "Ans:\n",
    "\n",
    "The methods and properties defined (but not implemented) in an abstract class are called abstract methods and abstract properties. All abstract methods and properties need to be implemented in a child class in order to be able to create objects from it.\n",
    "\n",
    "'''"
   ]
  },
  {
   "cell_type": "code",
   "execution_count": 22,
   "id": "e3622b09-0a0d-44dc-965d-09ef2d8033dc",
   "metadata": {},
   "outputs": [],
   "source": [
    "'''13. Create a Python class hierarchy for employees in a company (e.g., manager, developer, designer) and implement abstraction by defining a common `get_salary()` method.'''\n",
    "\n",
    "from abc import ABC ,abstractmethod\n",
    "class employee:\n",
    "    \n",
    "    @abstractmethod\n",
    "    def get_salary(self):\n",
    "        print(\"Got the salary \")\n",
    "        \n",
    "class manager(employee):\n",
    "    \n",
    "    def get_salary(self):\n",
    "        print(\"manager salary is credited\")\n",
    "        \n",
    "class developer(employee):\n",
    "    \n",
    "    def get_salary(self):\n",
    "        print(\"developer salary is credited\")\n",
    "        \n",
    "class designer(employee):\n",
    "    \n",
    "    def get_salary(self):\n",
    "        print(\"designer salary is credited\")"
   ]
  },
  {
   "cell_type": "code",
   "execution_count": 23,
   "id": "1ac2cd59-e690-4332-b10d-3f5636537cf8",
   "metadata": {},
   "outputs": [],
   "source": [
    "obj_manager = manager()"
   ]
  },
  {
   "cell_type": "code",
   "execution_count": 24,
   "id": "2645a015-2b61-48bf-b0ea-28e75e2405c0",
   "metadata": {},
   "outputs": [
    {
     "name": "stdout",
     "output_type": "stream",
     "text": [
      "manager salary is credited\n"
     ]
    }
   ],
   "source": [
    "obj_manager.get_salary()"
   ]
  },
  {
   "cell_type": "code",
   "execution_count": 25,
   "id": "5e9f9c96-06c1-4b4b-98ae-0fcbad58e76f",
   "metadata": {},
   "outputs": [],
   "source": [
    "obj_developer = developer()"
   ]
  },
  {
   "cell_type": "code",
   "execution_count": 26,
   "id": "6947e100-3a3e-4d5a-94a8-bb7f5a6b6dc6",
   "metadata": {},
   "outputs": [
    {
     "name": "stdout",
     "output_type": "stream",
     "text": [
      "developer salary is credited\n"
     ]
    }
   ],
   "source": [
    "obj_developer.get_salary()"
   ]
  },
  {
   "cell_type": "code",
   "execution_count": 27,
   "id": "20de0833-94ef-47b8-bac9-0c1697ad404c",
   "metadata": {},
   "outputs": [],
   "source": [
    "obj_designer = designer()"
   ]
  },
  {
   "cell_type": "code",
   "execution_count": 28,
   "id": "c2b7a394-10a4-40c7-9297-9453c822af2b",
   "metadata": {},
   "outputs": [
    {
     "name": "stdout",
     "output_type": "stream",
     "text": [
      "designer salary is credited\n"
     ]
    }
   ],
   "source": [
    "obj_designer.get_salary()"
   ]
  },
  {
   "cell_type": "code",
   "execution_count": null,
   "id": "b86762f6-8971-421d-8536-d5e98f04e0e6",
   "metadata": {},
   "outputs": [],
   "source": [
    "'''14. Discuss the differences between abstract classes and concrete classes in Python, including their\n",
    "instantiation.\n",
    "\n",
    "Ans:\n",
    "\n",
    "Abstract classes in Python are classes that cannot be instantiated directly, but must be inherited from by concrete classes. They are used to define a blueprint for concrete classes,\n",
    "\n",
    "concreate classes:\n",
    "\n",
    "Concrete classes are classes that can be instantiated directly. They are the classes that actually implement the functionality of our program.\n",
    "\n",
    "'''\n"
   ]
  },
  {
   "cell_type": "code",
   "execution_count": null,
   "id": "119d3faf-ef1b-4ed9-b6f1-ec17d767f800",
   "metadata": {},
   "outputs": [],
   "source": [
    "'''15. Explain the concept of abstract data types (ADTs) and their role in achieving abstraction in Python.\n",
    "\n",
    "Ans:\n",
    "\n",
    "Abstract data types (ADTs) are a way of encapsulating data and operations on that data into a single unit. Some of the key features of ADTs include: Abstraction: The user does not need to know the implementation of the data structure only essentials are provided.\n",
    "\n",
    "'''"
   ]
  },
  {
   "cell_type": "code",
   "execution_count": 29,
   "id": "e93e2ad4-374a-46f1-b747-56d2138c7a1b",
   "metadata": {},
   "outputs": [],
   "source": [
    "'''16. Create a Python class for a computer system, demonstrating abstraction by defining common methods (e.g., `power_on()`, `shutdown()`) in an abstract base class.'''\n",
    "\n",
    "from abc import ABC ,abstractmethod\n",
    "class computer_system:\n",
    "    \n",
    "    @abstractmethod\n",
    "    def power_on(self):\n",
    "        print(\"Power on the system\")\n",
    "    \n",
    "    @abstractmethod\n",
    "    def shutdown(self):\n",
    "        print(\"shutdown the system\")\n",
    "        \n",
    "        \n",
    "class desktop_computer(computer_system):\n",
    "    \n",
    "    def power_on(self):\n",
    "        print(\"power on desktop\")\n",
    "        \n",
    "    def shutdown(self):\n",
    "        print(\"shut down the desktop\")\n",
    "        \n",
    "        \n",
    "class laptop(computer_system):\n",
    "    \n",
    "    def power_on(self):\n",
    "        print(\"power on the laptop\")\n",
    "        \n",
    "    def shutdown(self):\n",
    "        print(\"shut the the laptop\")"
   ]
  },
  {
   "cell_type": "code",
   "execution_count": 31,
   "id": "ea8e3bf1-dc38-4e5c-b16a-a84c49e641c6",
   "metadata": {},
   "outputs": [],
   "source": [
    "obj_laptop =laptop()"
   ]
  },
  {
   "cell_type": "code",
   "execution_count": 32,
   "id": "7a91d5db-b4be-40b1-8877-ff6fb3d25b5d",
   "metadata": {},
   "outputs": [
    {
     "name": "stdout",
     "output_type": "stream",
     "text": [
      "power on the laptop\n"
     ]
    }
   ],
   "source": [
    "obj_laptop.power_on()"
   ]
  },
  {
   "cell_type": "code",
   "execution_count": 33,
   "id": "8cc8647d-08bf-456b-99d1-a2c29640a8ef",
   "metadata": {},
   "outputs": [],
   "source": [
    "obj_desktop =desktop_computer()"
   ]
  },
  {
   "cell_type": "code",
   "execution_count": 34,
   "id": "d0402710-a0fd-4c6e-8504-1be1f91fc19c",
   "metadata": {},
   "outputs": [
    {
     "name": "stdout",
     "output_type": "stream",
     "text": [
      "power on desktop\n"
     ]
    }
   ],
   "source": [
    "obj_desktop.power_on()"
   ]
  },
  {
   "cell_type": "code",
   "execution_count": 35,
   "id": "b13e7c0a-d48e-4df2-a84c-e57edd0c0c30",
   "metadata": {},
   "outputs": [
    {
     "name": "stdout",
     "output_type": "stream",
     "text": [
      "shut down the desktop\n"
     ]
    }
   ],
   "source": [
    "obj_desktop.shutdown()"
   ]
  },
  {
   "cell_type": "code",
   "execution_count": null,
   "id": "5d3d6dd5-5f33-40f3-a371-d25380fe71ee",
   "metadata": {},
   "outputs": [],
   "source": [
    "'''17. Discuss the benefits of using abstraction in large-scale software development projects.\n",
    "\n",
    "Ans:\n",
    "\n",
    "Data abstraction may reduce the effort required to make changes and updates to the code by isolating the implementation details of a data structure. There is less chance of errors or other problems when making changes to the implementation of the data structure rather than the code that utilises it.\n",
    "\n",
    "'''"
   ]
  },
  {
   "cell_type": "code",
   "execution_count": null,
   "id": "3649d111-a253-4e89-bf5e-f9b96cc7de89",
   "metadata": {},
   "outputs": [],
   "source": [
    "'''18. Explain how abstraction enhances code reusability and modularity in Python programs.\n",
    "\n",
    "Ans:\n",
    "\n",
    "Abstraction focuses on bundling data and methods within an object to improve control and modularity. Abstraction simplifies complex systems by breaking them into smaller components, improving maintainability, debugging, testing, collaboration, and integration of new features.\n",
    "\n",
    "\n",
    "'''"
   ]
  },
  {
   "cell_type": "code",
   "execution_count": 36,
   "id": "84505d8c-6bec-439a-96c0-4819e3e00602",
   "metadata": {},
   "outputs": [],
   "source": [
    "'''19. Create a Python class for a library system, implementing abstraction by defining common methods (e.g., `add_book()`, `borrow_book()`) in an abstract base class.'''\n",
    "\n",
    "from abc import ABC ,abstractmethod\n",
    "class library_system:\n",
    "    \n",
    "    @abstractmethod\n",
    "    def add_book(self):\n",
    "        pass\n",
    "    \n",
    "    @abstractmethod\n",
    "    def borrow_book(self):\n",
    "        pass\n",
    "    \n",
    "class library(library_system):\n",
    "    \n",
    "    def add_book(self ,library_add_book):\n",
    "        print(\"book is added in library :\",library_add_book)\n",
    "        \n",
    "    def borrow_book(self):\n",
    "        print(\"book is borrow from library\")"
   ]
  },
  {
   "cell_type": "code",
   "execution_count": 38,
   "id": "e1122b68-24e9-4974-a58c-62891aff5012",
   "metadata": {},
   "outputs": [],
   "source": [
    "obj_library = library()"
   ]
  },
  {
   "cell_type": "code",
   "execution_count": 39,
   "id": "77b748eb-45c3-432c-ad88-14aad607b993",
   "metadata": {},
   "outputs": [
    {
     "name": "stdout",
     "output_type": "stream",
     "text": [
      "book is added in library : OOPS\n"
     ]
    }
   ],
   "source": [
    "obj_library.add_book(\"OOPS\")"
   ]
  },
  {
   "cell_type": "code",
   "execution_count": 40,
   "id": "e46363b4-dcdc-441f-84a6-e6cbbb8a64a6",
   "metadata": {},
   "outputs": [
    {
     "name": "stdout",
     "output_type": "stream",
     "text": [
      "book is borrow from library\n"
     ]
    }
   ],
   "source": [
    "obj_library.borrow_book()"
   ]
  },
  {
   "cell_type": "code",
   "execution_count": null,
   "id": "bea542d1-450f-4460-ac7e-acb2319322c3",
   "metadata": {},
   "outputs": [],
   "source": [
    "'''20. Describe the concept of method abstraction in Python and how it relates to polymorphism.\n",
    "\n",
    "Ans:\n",
    "\n",
    "Method abstraction in Python is the process of hiding the implementation details of a method from the user. This allows the user to focus on what the method does, rather than how it does it. Method abstraction can be achieved by using private methods and public methods. Private methods are only accessible within the class in which they are defined, while public methods are accessible to other classes.`\n",
    "\n",
    "Polymorphism in Python is the ability of objects of different types to respond to the same method call in different ways. This is achieved by using inheritance and overriding. Inheritance allows a class to inherit the methods and attributes of another class. Overriding allows a class to redefine a method that it has inherited from a parent class\n",
    "\n",
    "relations :\n",
    "\n",
    "Method abstraction and polymorphism are related in that they both allow us to write more flexible and reusable code. By abstracting away the implementation details of methods, we can make our code easier to understand and maintain. By using polymorphism, we can write code that is more generic and can be used with different types of objects.\n",
    "\n",
    "'''"
   ]
  },
  {
   "cell_type": "code",
   "execution_count": 41,
   "id": "b253db14-8bea-46b7-a8c2-5ac84f59b3da",
   "metadata": {},
   "outputs": [],
   "source": [
    "#Composition:"
   ]
  },
  {
   "cell_type": "code",
   "execution_count": null,
   "id": "059c6574-9663-48ee-903e-4dfa31ff8d85",
   "metadata": {},
   "outputs": [],
   "source": [
    "'''1. Explain the concept of composition in Python and how it is used to build complex objects from simpler ones.\n",
    "\n",
    "Ans:\n",
    "\n",
    "Composition is a concept that models a has a relationship. It enables creating complex types by combining objects of other types. This means that a class Composite can contain an object of another class Component . This relationship means that a Composite has a Component.\n",
    "\n",
    "'''"
   ]
  },
  {
   "cell_type": "code",
   "execution_count": null,
   "id": "89b7d029-09bb-48a9-8fc0-01c82b56c5a4",
   "metadata": {},
   "outputs": [],
   "source": [
    "'''2. Describe the difference between composition and inheritance in object-oriented programming.\n",
    "\n",
    "Ans:\n",
    "\n",
    "In inheritance, the child class is dependent upon parent class.Where as in composition, both child class and parent class are independent.\n",
    "\n",
    "'''"
   ]
  },
  {
   "cell_type": "code",
   "execution_count": 42,
   "id": "3f0d408f-8397-48b4-b52d-91b3584c61e2",
   "metadata": {},
   "outputs": [],
   "source": [
    "'''3. Create a Python class called Author with attributes for name and birthdate. Then, create a Book class that contains an instance of Author as a composition. Provide an example of creating a Book object.'''\n",
    "\n",
    "class Author:\n",
    "    \n",
    "    def __init__(self,name,birthdate):\n",
    "        self.name = name \n",
    "        self.birthdate = birthdate\n",
    "        \n",
    "class Book:\n",
    "    \n",
    "    def __init__(self,obj_Author):\n",
    "        self.obj_Author = obj_Author"
   ]
  },
  {
   "cell_type": "code",
   "execution_count": 44,
   "id": "ea4ad281-ceaa-4b21-8083-3825490399d1",
   "metadata": {},
   "outputs": [],
   "source": [
    "obj_Author = Author(\"abcdef\",\"02361912\")"
   ]
  },
  {
   "cell_type": "code",
   "execution_count": 45,
   "id": "d5627671-dd1b-466a-a857-3f633ad37074",
   "metadata": {},
   "outputs": [],
   "source": [
    "obj_book = Book(obj_Author)"
   ]
  },
  {
   "cell_type": "code",
   "execution_count": 46,
   "id": "58dabd67-0ca8-4548-b3a4-03cae0d4e455",
   "metadata": {},
   "outputs": [
    {
     "data": {
      "text/plain": [
       "'02361912'"
      ]
     },
     "execution_count": 46,
     "metadata": {},
     "output_type": "execute_result"
    }
   ],
   "source": [
    "obj_book.obj_Author.birthdate"
   ]
  },
  {
   "cell_type": "code",
   "execution_count": 47,
   "id": "3b4bd0f7-11d0-4c9b-a2a9-654d822b68fa",
   "metadata": {},
   "outputs": [
    {
     "data": {
      "text/plain": [
       "'abcdef'"
      ]
     },
     "execution_count": 47,
     "metadata": {},
     "output_type": "execute_result"
    }
   ],
   "source": [
    "obj_book.obj_Author.name"
   ]
  },
  {
   "cell_type": "code",
   "execution_count": null,
   "id": "921b5ab4-3e43-4d49-a4c2-2bb5972dc127",
   "metadata": {},
   "outputs": [],
   "source": [
    "'''4. Discuss the benefits of using composition over inheritance in Python, especially in terms of code flexibility and reusability\n",
    "\n",
    "Ans:\n",
    "\n",
    "Composition enables you to reuse code by adding objects to other objects, as opposed to inheriting the interface and implementation of other classes. Both Horse and Dog classes can leverage the functionality of Tail through composition without deriving one class from the other.\n",
    "\n",
    "'''"
   ]
  },
  {
   "cell_type": "code",
   "execution_count": 50,
   "id": "08a7b834-bd87-4040-b1d7-35a7bc9a9fdf",
   "metadata": {},
   "outputs": [],
   "source": [
    "'''5. How can you implement composition in Python classes? Provide examples of using composition to create complex objects.\n",
    "\n",
    "Ans:\n",
    "\n",
    "Through the compositions, we actually state the relationship between the two classes. And in this way, the code can be reused. This has a common similarity with the concept of inheritance. As a result, we obtain more complex structures by combining objects.\n",
    "\n",
    "'''\n",
    "\n",
    "#Example:\n",
    "\n",
    "class pwskills :\n",
    "    \n",
    "    def datascience(self):\n",
    "        print(\"Data science class\")\n",
    "        \n",
    "class web_dev :\n",
    "    def __init__(self,syllabus,mentor):\n",
    "        self.syllabus = syllabus\n",
    "        self.mentor = pwskills()"
   ]
  },
  {
   "cell_type": "code",
   "execution_count": 51,
   "id": "ded5d397-d7f4-4abf-91b5-4821eddf543f",
   "metadata": {},
   "outputs": [],
   "source": [
    "obj_web = web_dev(\"Python\",\"sudhanshu kumar\")"
   ]
  },
  {
   "cell_type": "code",
   "execution_count": 52,
   "id": "37bbc8f2-2d53-4992-8f44-e3708e76213e",
   "metadata": {},
   "outputs": [
    {
     "name": "stdout",
     "output_type": "stream",
     "text": [
      "Data science class\n"
     ]
    }
   ],
   "source": [
    "obj_web.mentor.datascience()"
   ]
  },
  {
   "cell_type": "code",
   "execution_count": 53,
   "id": "890f0998-07aa-4ccc-8297-647237cf84d4",
   "metadata": {},
   "outputs": [
    {
     "data": {
      "text/plain": [
       "'Python'"
      ]
     },
     "execution_count": 53,
     "metadata": {},
     "output_type": "execute_result"
    }
   ],
   "source": [
    "obj_web.syllabus"
   ]
  },
  {
   "cell_type": "code",
   "execution_count": 54,
   "id": "afe19497-09d8-43f0-be30-be4b45114721",
   "metadata": {},
   "outputs": [
    {
     "name": "stdout",
     "output_type": "stream",
     "text": [
      "Playing song: abcd by efg\n",
      "Playing song: on my way by pqr\n",
      "Playing song: gdjhSGD by OHHHHH\n",
      "Playing song: gdjhSGD by OHHHHH\n"
     ]
    }
   ],
   "source": [
    "'''6. Create a Python class hierarchy for a music player system, using composition to represent playlists and songs.'''\n",
    "\n",
    "class Song:\n",
    "    \n",
    "    def __init__(self,title,artist,album,length):\n",
    "        self.title = title\n",
    "        self.artist = artist\n",
    "        self.album = album\n",
    "        self.length = length\n",
    "\n",
    "    def play(self):\n",
    "        print(f\"Playing song: {self.title} by {self.artist}\")\n",
    "\n",
    "class Playlist:\n",
    "    \n",
    "    def __init__(self, name):\n",
    "        self.name = name\n",
    "        self.songs = []\n",
    "\n",
    "    def add_song(self, song):\n",
    "        self.songs.append(song)\n",
    "\n",
    "    def play(self):\n",
    "        for song in self.songs:\n",
    "            song.play()\n",
    "\n",
    "class MusicPlayer:\n",
    "    \n",
    "    def __init__(self):\n",
    "        self.current_playlist = None\n",
    "\n",
    "    def play_playlist(self,playlist):\n",
    "        self.current_playlist = playlist\n",
    "        playlist.play()\n",
    "\n",
    "    def play_song(self, song):\n",
    "        song.play()\n",
    "\n",
    "# Example usage:\n",
    "\n",
    "song1 = Song(\"abcd\", \"efg\", \"The moon\", \"5:00\")\n",
    "song2 = Song(\"on my way\", \"pqr\", \"veer\", \"2:25\")\n",
    "song3 = Song(\"gdjhSGD\", \"OHHHHH\", \"MNO\", \"5:15\")\n",
    "\n",
    "playlist1 = Playlist(\"My Favorite Songs\")\n",
    "playlist1.add_song(song1)\n",
    "playlist1.add_song(song2)\n",
    "playlist1.add_song(song3)\n",
    "\n",
    "music_player = MusicPlayer()\n",
    "\n",
    "# Play the playlist\n",
    "music_player.play_playlist(playlist1)\n",
    "\n",
    "# Play a specific song\n",
    "music_player.play_song(song3)"
   ]
  },
  {
   "cell_type": "code",
   "execution_count": null,
   "id": "0f1847a6-0207-4442-82db-0c12e2156882",
   "metadata": {},
   "outputs": [],
   "source": [
    "'''7. Explain the concept of \"has-a\" relationships in composition and how it helps design software systems\n",
    "\n",
    "Ans:\n",
    "\n",
    "It is one of the fundamental concepts of Object-Oriented Programming. In this concept, we will describe a class that references to one or more objects of other classes as an Instance variable. Here, by using the class name or by creating the object we can access the members of one class inside another class. It enables creating complex types by combining objects of different classes. It means that a class Composite can contain an object of another class Component. This type of relationship is known as Has-A Relation.\n",
    "\n",
    "'''"
   ]
  },
  {
   "cell_type": "code",
   "execution_count": 61,
   "id": "c84cc4b1-c3c3-4409-ba21-e263f26e221b",
   "metadata": {},
   "outputs": [
    {
     "data": {
      "text/plain": [
       "'6GHZ'"
      ]
     },
     "execution_count": 61,
     "metadata": {},
     "output_type": "execute_result"
    }
   ],
   "source": [
    "'''8. Create a Python class for a computer system, using composition to represent components like CPU, RAM, and storage devices.'''\n",
    "\n",
    "class computer_system:\n",
    "    \n",
    "    def __init__(self,cpu,ram,storage_device):\n",
    "        self.cpu = cpu\n",
    "        self.ram = ram \n",
    "        self.storage_device = storage_device\n",
    "        \n",
    "class CPU:\n",
    "    \n",
    "    def __init__(self,name,speed):\n",
    "        self.name = name\n",
    "        self.speed = speed\n",
    "        \n",
    "class RAM:\n",
    "    \n",
    "    def __init__(self,size,speed):\n",
    "        self.size =size\n",
    "        self.speed =speed\n",
    "        \n",
    "class storage_devices:\n",
    "    \n",
    "    def __init__(self,st_type,size,speed):\n",
    "        self.st_type = st_type\n",
    "        self.size = size\n",
    "        self.speed = speed\n",
    "        \n",
    "obj_cpu = CPU(\"Intel I8\",\"6GHZ\")\n",
    "obj_ram = RAM(\"16GB\",2000)\n",
    "obj_storage_devices = storage_devices(\"SSD\",\"1TB\",1500)\n",
    "computer_sytem = computer_system(obj_cpu,obj_ram,obj_storage_devices)\n",
    "computer_sytem.cpu.speed"
   ]
  },
  {
   "cell_type": "code",
   "execution_count": null,
   "id": "7a791c06-70ce-4e99-9d61-bff061f2da3a",
   "metadata": {},
   "outputs": [],
   "source": [
    "'''9. Describe the concept of \"delegation\" in composition and how it simplifies the design of complex systems\n",
    "\n",
    "Ans:\n",
    "\n",
    "Object Delegation means using the object of another class as a class member of another class. It is known as object delegation. Delegation can be an alternative to inheritance, but in an inheritance, there is an i-s a relationship, but in the delegation, there is no inheritance relationship between the classes.\n",
    "\n",
    "'''\n"
   ]
  },
  {
   "cell_type": "code",
   "execution_count": 63,
   "id": "60b6bca5-af84-4178-b4fd-40148dd0f7dc",
   "metadata": {},
   "outputs": [],
   "source": [
    "'''10. Create a Python class for a car, using composition to represent components like the engine, wheels, and transmission.'''\n",
    "\n",
    "class car:\n",
    "    \n",
    "    def __init__(self,engine,wheels,transmission):\n",
    "        self.engine =engine \n",
    "        self.wheels =wheels\n",
    "        self.transmission =transmission\n",
    "        \n",
    "class Engine:\n",
    "    \n",
    "    def __init__(self ,Engine_CC):\n",
    "        self.Engine_CC = Engine_CC\n",
    "        \n",
    "class wheels:\n",
    "    \n",
    "    def __init__(self ,no_of_wheel):\n",
    "        self.no_of_wheel = no_of_wheel\n",
    "        \n",
    "class transmission:\n",
    "    \n",
    "    def __init__(self,type_of_transmission):\n",
    "        self.type_of_transmission = type_of_transmission"
   ]
  },
  {
   "cell_type": "code",
   "execution_count": 65,
   "id": "6f518f1d-1668-4fd1-a9c3-0bbe034da64a",
   "metadata": {},
   "outputs": [],
   "source": [
    "obj_engine = Engine(325)"
   ]
  },
  {
   "cell_type": "code",
   "execution_count": 67,
   "id": "8a6a72de-1ca1-4db5-918e-65a45f3ed798",
   "metadata": {},
   "outputs": [],
   "source": [
    "obj_wheels = wheels(4)"
   ]
  },
  {
   "cell_type": "code",
   "execution_count": 68,
   "id": "8311dd55-d9af-4685-8318-da22835dc841",
   "metadata": {},
   "outputs": [],
   "source": [
    "obj_transmission = transmission(\"abcd\")"
   ]
  },
  {
   "cell_type": "code",
   "execution_count": 69,
   "id": "14a77c95-eaca-4d6e-b051-78b0d7869b95",
   "metadata": {},
   "outputs": [],
   "source": [
    "car_system = car(obj_engine,obj_wheels,obj_transmission)"
   ]
  },
  {
   "cell_type": "code",
   "execution_count": 70,
   "id": "0e5d1f7b-e44f-46ad-8785-a6fd52e8242d",
   "metadata": {},
   "outputs": [
    {
     "data": {
      "text/plain": [
       "325"
      ]
     },
     "execution_count": 70,
     "metadata": {},
     "output_type": "execute_result"
    }
   ],
   "source": [
    "car_system.engine.Engine_CC"
   ]
  },
  {
   "cell_type": "code",
   "execution_count": 71,
   "id": "bd27fb38-3648-4c1b-9276-6dae8062f45f",
   "metadata": {},
   "outputs": [
    {
     "data": {
      "text/plain": [
       "'abcd'"
      ]
     },
     "execution_count": 71,
     "metadata": {},
     "output_type": "execute_result"
    }
   ],
   "source": [
    "car_system.transmission.type_of_transmission"
   ]
  },
  {
   "cell_type": "code",
   "execution_count": 72,
   "id": "fbf920f5-35e2-4c4c-b500-ee371006f3b2",
   "metadata": {},
   "outputs": [
    {
     "data": {
      "text/plain": [
       "4"
      ]
     },
     "execution_count": 72,
     "metadata": {},
     "output_type": "execute_result"
    }
   ],
   "source": [
    "car_system.wheels.no_of_wheel"
   ]
  },
  {
   "cell_type": "code",
   "execution_count": null,
   "id": "0cad9246-7e61-4b3e-bddd-56f249db47de",
   "metadata": {},
   "outputs": [],
   "source": [
    "'''11. How can you encapsulate and hide the details of composed objects in Python classes to maintain abstraction\n",
    "\n",
    "Ans:\n",
    "\n",
    "Encapsulation: combining all the attributes and the methods that the class needs under one umbrella (class itself) makes your code easy to maintain. Abstraction: hiding away the implementation details from the external user which makes your code easy to be shared with other developers.\n",
    "\n",
    "'''"
   ]
  },
  {
   "cell_type": "code",
   "execution_count": 73,
   "id": "564f4431-7257-4ee4-9ecb-83bfe391986a",
   "metadata": {},
   "outputs": [],
   "source": [
    "'''12. Create a Python class for a university course, using composition to represent students, instructors, and course materials.'''\n",
    "\n",
    "class university :\n",
    "    \n",
    "    def __init__(self,student,instructors,course_material):\n",
    "        self.student = student\n",
    "        self.instructors = instructors\n",
    "        self.course = course_material\n",
    "        \n",
    "class Student :\n",
    "    \n",
    "    def student_details(self):\n",
    "        return \"Student details\"\n",
    "    \n",
    "class Instructor :\n",
    "    \n",
    "    def instructor_class(self):\n",
    "        return \"instructor will give instruction\"\n",
    "\n",
    "class course_material():\n",
    "    \n",
    "    def matreail(self):\n",
    "        return \"Available course material\""
   ]
  },
  {
   "cell_type": "code",
   "execution_count": 74,
   "id": "ae4ce82e-8e89-4064-ab9f-fc215eebac12",
   "metadata": {},
   "outputs": [],
   "source": [
    "obj_student = Student()\n",
    "obj_instructor = Instructor()\n",
    "obj_course = course_material()\n",
    "university_system = university(obj_student ,obj_instructor ,obj_course)"
   ]
  },
  {
   "cell_type": "code",
   "execution_count": 75,
   "id": "3410e5c1-e8c1-4024-b8b4-d3eb15877f1f",
   "metadata": {},
   "outputs": [
    {
     "data": {
      "text/plain": [
       "'Available course material'"
      ]
     },
     "execution_count": 75,
     "metadata": {},
     "output_type": "execute_result"
    }
   ],
   "source": [
    "university_system.course.matreail()"
   ]
  },
  {
   "cell_type": "code",
   "execution_count": 76,
   "id": "14c16ee5-33ad-48a4-aeb9-d26d7565e5fa",
   "metadata": {},
   "outputs": [
    {
     "data": {
      "text/plain": [
       "'instructor will give instruction'"
      ]
     },
     "execution_count": 76,
     "metadata": {},
     "output_type": "execute_result"
    }
   ],
   "source": [
    "university_system.instructors.instructor_class()"
   ]
  },
  {
   "cell_type": "code",
   "execution_count": 77,
   "id": "262082e6-cfda-40e1-b5bb-170def027b8b",
   "metadata": {},
   "outputs": [
    {
     "data": {
      "text/plain": [
       "'Student details'"
      ]
     },
     "execution_count": 77,
     "metadata": {},
     "output_type": "execute_result"
    }
   ],
   "source": [
    "university_system.student.student_details()"
   ]
  },
  {
   "cell_type": "code",
   "execution_count": null,
   "id": "0c7fcc6d-0117-4eac-93e6-d678ef29c728",
   "metadata": {},
   "outputs": [],
   "source": [
    "'''13. Discuss the challenges and drawbacks of composition, such as increased complexity and potential for tight coupling between objects\n",
    "Ans :\n",
    "\n",
    "Strategies for mitigating the challenges and drawbacks of composition\n",
    "\n",
    "There are a number of strategies that can be used to mitigate the challenges and drawbacks of composition. These include:\n",
    "\n",
    "Use abstraction and encapsulation: Abstraction and encapsulation can be used to hide the internal details of objects and make them easier to understand and use. Use dependency injection: Dependency injection is a technique that can be used to reduce tight coupling between objects. It involves passing dependencies between objects at runtime, rather than hard-coding them. Use design patterns: There are a number of design patterns that can be used to implement composition in a way that reduces complexity and tight coupling. For example, the Facade pattern can be used to provide a single interface to a complex system of interacting objects.\n",
    "\n",
    "'''"
   ]
  },
  {
   "cell_type": "code",
   "execution_count": 78,
   "id": "126794d2-3afd-4762-b9e2-6defc01c41de",
   "metadata": {},
   "outputs": [],
   "source": [
    "'''14. Create a Python class hierarchy for a restaurant system, using composition to represent menus, dishes, and ingredients.'''\n",
    "\n",
    "class restaurant_system:\n",
    "    \n",
    "    def __init__(self,menus,dishes,ingredients):\n",
    "        self.menus = menus\n",
    "        self.dishes = dishes\n",
    "        self.ingredients = ingredients\n",
    "        \n",
    "class Menus:\n",
    "    \n",
    "    def __init__(self,thali):\n",
    "        self.thali = thali\n",
    "        \n",
    "class Dishes:\n",
    "    \n",
    "    def __init__(self,special_dish):\n",
    "        self.special_dish = special_dish\n",
    "        \n",
    "class Ingredients :\n",
    "    \n",
    "    def __init__(self,drinks):\n",
    "        self.drinks = drinks"
   ]
  },
  {
   "cell_type": "code",
   "execution_count": 88,
   "id": "5ca1de2c-458b-4516-9728-77c84e91e988",
   "metadata": {},
   "outputs": [],
   "source": [
    "obj_menus = Menus(\"Veg thali\")\n",
    "obj_dish = Dishes(\"Special Paneer dish\")\n",
    "obj_ingredient = Ingredients(\"cold drink\")\n",
    "Rest =restaurant_system(obj_menus,obj_dish,obj_ingredient)"
   ]
  },
  {
   "cell_type": "code",
   "execution_count": 89,
   "id": "a0d8ed33-60d5-4746-bdf8-de7c07ae2c74",
   "metadata": {},
   "outputs": [
    {
     "data": {
      "text/plain": [
       "'Special Paneer dish'"
      ]
     },
     "execution_count": 89,
     "metadata": {},
     "output_type": "execute_result"
    }
   ],
   "source": [
    "Rest.dishes.special_dish"
   ]
  },
  {
   "cell_type": "code",
   "execution_count": 91,
   "id": "a544c681-1b09-4c78-92d7-ff36cdb85b5f",
   "metadata": {},
   "outputs": [
    {
     "data": {
      "text/plain": [
       "'cold drink'"
      ]
     },
     "execution_count": 91,
     "metadata": {},
     "output_type": "execute_result"
    }
   ],
   "source": [
    "Rest.ingredients.drinks"
   ]
  },
  {
   "cell_type": "code",
   "execution_count": 92,
   "id": "30bd1447-a24d-4990-9da5-bfdbcf69609d",
   "metadata": {},
   "outputs": [
    {
     "data": {
      "text/plain": [
       "'Veg thali'"
      ]
     },
     "execution_count": 92,
     "metadata": {},
     "output_type": "execute_result"
    }
   ],
   "source": [
    "Resto.menus.thali"
   ]
  },
  {
   "cell_type": "code",
   "execution_count": null,
   "id": "f2e2595f-7cdb-4133-acb2-bacb5ce52a65",
   "metadata": {},
   "outputs": [],
   "source": [
    "'''15.Explain how composition enhances code maintainability and modularity in Python programs\n",
    "\n",
    "Ans:\n",
    "\n",
    "Composition is a software design principle that involves building complex objects by combining simpler objects. It is a powerful technique that can be used to enhance the maintainability and modularity of Python programs.\n",
    "\n",
    "Maintainability\n",
    "\n",
    "Composition makes code more maintainable because it allows developers to isolate changes and prevent them from cascading through the codebase. When code is composed of smaller, independent objects, it is easier to understand and troubleshoot. For example, if a developer needs to change the behavior of a particular object, they can do so without affecting the other objects in the system.\n",
    "\n",
    "Modularity\n",
    "\n",
    "Composition also promotes modularity, which is the practice of breaking down a system into smaller, self-contained modules. Modular code is easier to develop, test, and maintain. With composition, developers can create reusable modules that can be combined to create more complex functionality. For example, a developer could create a module for sending emails and then reuse that module in different parts of the system.\n",
    "\n",
    "'''"
   ]
  },
  {
   "cell_type": "code",
   "execution_count": 95,
   "id": "956ac689-6e77-430b-884f-187fe7c6bcc8",
   "metadata": {},
   "outputs": [],
   "source": [
    "'''16. Create a Python class for a computer game character, using composition to represent attributes like weapons, armor, and inventory.'''\n",
    "\n",
    "class game_charactor:\n",
    "    \n",
    "    def __init__(self,weapons,armour,inventery):\n",
    "        \n",
    "        self.weapons = weapons\n",
    "        self.armour = armour\n",
    "        self.inventery = inventery\n",
    "        \n",
    "class Weapons:\n",
    "    \n",
    "    def __init__(self,weapons_use):\n",
    "        self.weapons_use = weapons_use\n",
    "        \n",
    "class Armour:\n",
    "    \n",
    "    def __init__(self,armour_use):\n",
    "        self.armour_use =armour_use\n",
    "        \n",
    "class Inventery:\n",
    "    \n",
    "    def __init__(self,inventery_used):\n",
    "        self.inventery_used = inventery_used"
   ]
  },
  {
   "cell_type": "code",
   "execution_count": 96,
   "id": "83dac6dd-fe3c-4928-a698-fc11ffe6a78b",
   "metadata": {},
   "outputs": [],
   "source": [
    "obj_weapons = Weapons(\"Gun\")\n",
    "obj_armours = Armour(\"Swords\")\n",
    "obj_inventery = Inventery(\"Health kit\")\n",
    "obj_game_char = game_charactor(obj_weapons,obj_armours,obj_inventery)"
   ]
  },
  {
   "cell_type": "code",
   "execution_count": 97,
   "id": "66c85d4f-a7d4-46ac-857a-b868cde63bc6",
   "metadata": {},
   "outputs": [
    {
     "data": {
      "text/plain": [
       "'Swords'"
      ]
     },
     "execution_count": 97,
     "metadata": {},
     "output_type": "execute_result"
    }
   ],
   "source": [
    "obj_game_char.armour.armour_use"
   ]
  },
  {
   "cell_type": "code",
   "execution_count": 98,
   "id": "340023f4-9508-4bf3-9e4b-9e7d29ad95e2",
   "metadata": {},
   "outputs": [
    {
     "data": {
      "text/plain": [
       "'Health kit'"
      ]
     },
     "execution_count": 98,
     "metadata": {},
     "output_type": "execute_result"
    }
   ],
   "source": [
    "obj_game_char.inventery.inventery_used"
   ]
  },
  {
   "cell_type": "code",
   "execution_count": 99,
   "id": "6cdb9edb-9604-4e68-acf0-c329e22b6882",
   "metadata": {},
   "outputs": [
    {
     "data": {
      "text/plain": [
       "'Gun'"
      ]
     },
     "execution_count": 99,
     "metadata": {},
     "output_type": "execute_result"
    }
   ],
   "source": [
    "obj_game_char.weapons.weapons_use"
   ]
  },
  {
   "cell_type": "code",
   "execution_count": null,
   "id": "ed0d05d9-9061-4287-8431-9ce73ed5243e",
   "metadata": {},
   "outputs": [],
   "source": [
    "'''17. Describe the concept of \"aggregation\" in composition and how it differs from simple composition\n",
    "\n",
    "Ans:\n",
    "\n",
    "Differences between aggregation and composition:\n",
    "\n",
    "In aggregation, the child class can exist independently of the parent class. In composition, the child class cannot exist independently of the parent class. When the parent class is destroyed, all of its child objects are destroyed in composition. In aggregation, this is not necessarily the case. Aggregation is a weaker type of association than composition.\n",
    "\n",
    "'''"
   ]
  },
  {
   "cell_type": "code",
   "execution_count": 100,
   "id": "6ccc057f-7ae6-47fb-b24f-32895238b269",
   "metadata": {},
   "outputs": [],
   "source": [
    "'''18. Create a Python class for a house, using composition to represent rooms, furniture, and appliances.'''\n",
    "\n",
    "class house:\n",
    "    \n",
    "    def __init__(self):\n",
    "        self.room = Room()\n",
    "        self.furniture = Furniture()\n",
    "        self.appliance = Appliance()\n",
    "        \n",
    "class Room:\n",
    "    \n",
    "    def rooms_deco(self):\n",
    "        print(\"Room class\")\n",
    "        \n",
    "class Furniture:\n",
    "    \n",
    "    def furniture_deco(self):\n",
    "        print(\"furniture is available in room\")\n",
    "\n",
    "class Appliance:\n",
    "    \n",
    "    def appliances_deco(self):\n",
    "        print(\"Appliance is in room\")"
   ]
  },
  {
   "cell_type": "code",
   "execution_count": 101,
   "id": "ccf8f86e-ad2f-47aa-a641-67ca04346756",
   "metadata": {},
   "outputs": [
    {
     "name": "stdout",
     "output_type": "stream",
     "text": [
      "Appliance is in room\n"
     ]
    }
   ],
   "source": [
    "obj_house =house()\n",
    "obj_house.appliance.appliances_deco()"
   ]
  },
  {
   "cell_type": "code",
   "execution_count": 102,
   "id": "5b3d3eef-0885-4d96-9bd7-ae9dbde41fec",
   "metadata": {},
   "outputs": [
    {
     "name": "stdout",
     "output_type": "stream",
     "text": [
      "furniture is available in room\n"
     ]
    }
   ],
   "source": [
    "obj_house.furniture.furniture_deco()"
   ]
  },
  {
   "cell_type": "code",
   "execution_count": 103,
   "id": "f1602914-53f4-4a9e-91b8-31949e8a68d5",
   "metadata": {},
   "outputs": [
    {
     "name": "stdout",
     "output_type": "stream",
     "text": [
      "Room class\n"
     ]
    }
   ],
   "source": [
    "obj_house.room.rooms_deco()"
   ]
  },
  {
   "cell_type": "code",
   "execution_count": null,
   "id": "86778522-1a12-4eb4-8eaf-7abc77cdff37",
   "metadata": {},
   "outputs": [],
   "source": [
    "'''19. How can you achieve flexibility in composed objects by allowing them to be replaced or modified dynamically at runtime?\n",
    "\n",
    "Ans:\n",
    "\n",
    "Use interfaces and abstract classes. Interfaces and abstract classes define the contracts that composed objects must fulfill. This allows you to swap out concrete implementations of composed objects without having to change the code that uses them.\n",
    "Use dependency injection. Dependency injection is a design pattern that allows you to pass dependencies to objects at runtime. This makes it easy to replace or modify composed objects at runtime.\n",
    "Use reflection. Reflection allows you to inspect and modify the structure of objects at runtime. This can be useful for replacing or modifying composed objects in a dynamic way.\n",
    "\n",
    "'''"
   ]
  },
  {
   "cell_type": "code",
   "execution_count": 105,
   "id": "74136afe-ae44-4b27-b773-0780782ad53e",
   "metadata": {},
   "outputs": [],
   "source": [
    "'''20. Create a Python class for a social media application, using composition to represent users, posts, and comments.'''\n",
    "\n",
    "class social_media :\n",
    "    \n",
    "    def __init__(self,user,post,comments):\n",
    "        self.user = user\n",
    "        self.post = post\n",
    "        self.comments = comments\n",
    "        \n",
    "class User:\n",
    "    \n",
    "    def __init__(self,no_of_user):\n",
    "        self.no_of_user = no_of_user\n",
    "        \n",
    "class Post:\n",
    "    \n",
    "    def __init__(self,no_of_post):\n",
    "        self.no_of_post =no_of_post\n",
    "        \n",
    "class Comments:\n",
    "    \n",
    "    def __init__(self,no_of_comment):\n",
    "        self.no_of_comment = no_of_comment"
   ]
  },
  {
   "cell_type": "code",
   "execution_count": 106,
   "id": "40703d59-f730-4dd1-a87a-cfd6db86fc47",
   "metadata": {},
   "outputs": [],
   "source": [
    "obj_user = User(500)\n",
    "obj_post = Post(2100)\n",
    "obj_comments = Comments(7500)"
   ]
  },
  {
   "cell_type": "code",
   "execution_count": 107,
   "id": "72724919-12d1-4616-8eb0-2053f13b73ba",
   "metadata": {},
   "outputs": [],
   "source": [
    "obj_social_media =social_media(obj_user,obj_post,obj_comments)"
   ]
  },
  {
   "cell_type": "code",
   "execution_count": 108,
   "id": "3df67ecb-9915-47d9-b75a-c50ac74349a7",
   "metadata": {},
   "outputs": [
    {
     "data": {
      "text/plain": [
       "7500"
      ]
     },
     "execution_count": 108,
     "metadata": {},
     "output_type": "execute_result"
    }
   ],
   "source": [
    "obj_social_media.comments.no_of_comment"
   ]
  },
  {
   "cell_type": "code",
   "execution_count": 109,
   "id": "2e14320d-e87c-4b0b-ba9d-921417b96346",
   "metadata": {},
   "outputs": [
    {
     "data": {
      "text/plain": [
       "2100"
      ]
     },
     "execution_count": 109,
     "metadata": {},
     "output_type": "execute_result"
    }
   ],
   "source": [
    "obj_social_media.post.no_of_post"
   ]
  },
  {
   "cell_type": "code",
   "execution_count": 110,
   "id": "46659640-e63e-429c-a0db-2951d138a9af",
   "metadata": {},
   "outputs": [
    {
     "data": {
      "text/plain": [
       "500"
      ]
     },
     "execution_count": 110,
     "metadata": {},
     "output_type": "execute_result"
    }
   ],
   "source": [
    "obj_social_media.user.no_of_user"
   ]
  }
 ],
 "metadata": {
  "kernelspec": {
   "display_name": "Python 3 (ipykernel)",
   "language": "python",
   "name": "python3"
  },
  "language_info": {
   "codemirror_mode": {
    "name": "ipython",
    "version": 3
   },
   "file_extension": ".py",
   "mimetype": "text/x-python",
   "name": "python",
   "nbconvert_exporter": "python",
   "pygments_lexer": "ipython3",
   "version": "3.10.8"
  }
 },
 "nbformat": 4,
 "nbformat_minor": 5
}
