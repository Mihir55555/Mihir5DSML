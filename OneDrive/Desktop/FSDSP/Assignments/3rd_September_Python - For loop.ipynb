{
 "cells": [
  {
   "cell_type": "code",
   "execution_count": 1,
   "id": "0c04ebf5-8bdb-4d0c-8430-ef424f5a534e",
   "metadata": {},
   "outputs": [
    {
     "name": "stdout",
     "output_type": "stream",
     "text": [
      "1\n",
      "2\n",
      "3\n",
      "4\n",
      "5\n",
      "6\n",
      "7\n",
      "8\n",
      "9\n",
      "10\n"
     ]
    }
   ],
   "source": [
    "# Basic Level:\n",
    "\n",
    "'''1. Write a Python program to print the numbers from 1 to 10 using a `for` loop.'''\n",
    "\n",
    "for i in range(1,11):\n",
    "    print(i)"
   ]
  },
  {
   "cell_type": "code",
   "execution_count": 3,
   "id": "18bc058e-6354-4c34-aa74-e510907e668b",
   "metadata": {},
   "outputs": [
    {
     "name": "stdout",
     "output_type": "stream",
     "text": [
      "21\n"
     ]
    }
   ],
   "source": [
    "'''2. Create a program that calculates the sum of all numbers in a list using a `for` loop.'''\n",
    "\n",
    "list1 = [1,2,3,4,5,6]\n",
    "\n",
    "sum = 0\n",
    "for i in list1:\n",
    "    sum = sum + i\n",
    "print(sum)"
   ]
  },
  {
   "cell_type": "code",
   "execution_count": 12,
   "id": "0b7f9eb2-1963-4d1b-b325-022b36e0ded5",
   "metadata": {},
   "outputs": [
    {
     "name": "stdout",
     "output_type": "stream",
     "text": [
      "!dlrow olleh\n"
     ]
    }
   ],
   "source": [
    "'''3. Write a program to print the characters of a string in reverse order using a `for` loop.'''\n",
    "\n",
    "string = \"hello world!\"\n",
    "new_string = \"\"\n",
    "for i in string:\n",
    "    new_string = i + new_string \n",
    "print(new_string)"
   ]
  },
  {
   "cell_type": "code",
   "execution_count": 15,
   "id": "781a5d90-502d-40cb-a692-8957e65d0f01",
   "metadata": {},
   "outputs": [
    {
     "name": "stdout",
     "output_type": "stream",
     "text": [
      "120\n"
     ]
    }
   ],
   "source": [
    "'''4. Develop a program that finds the factorial of a given number using a `for` loop.'''\n",
    "n = 5\n",
    "factorial = 1\n",
    "for i in range(n):\n",
    "    factorial = n * factorial\n",
    "    n = n - 1\n",
    "print(factorial)"
   ]
  },
  {
   "cell_type": "code",
   "execution_count": 31,
   "id": "133e776b-bec8-41c1-9143-f96ea146f41f",
   "metadata": {},
   "outputs": [
    {
     "name": "stdout",
     "output_type": "stream",
     "text": [
      "5 * 1 = 5\n",
      "5 * 2 = 10\n",
      "5 * 3 = 15\n",
      "5 * 4 = 20\n",
      "5 * 5 = 25\n",
      "5 * 6 = 30\n",
      "5 * 7 = 35\n",
      "5 * 8 = 40\n",
      "5 * 9 = 45\n",
      "5 * 10 = 50\n"
     ]
    }
   ],
   "source": [
    "'''5. Create a program to print the multiplication table of a given number using a `for` loop.'''\n",
    "n = 5\n",
    "i = 1\n",
    "for i in range(1,11):\n",
    "    result = n * i\n",
    "    print(n,\"*\",i,\"=\",result)"
   ]
  },
  {
   "cell_type": "code",
   "execution_count": 41,
   "id": "ba7c77ad-201f-49c1-8588-54d6fb137160",
   "metadata": {},
   "outputs": [
    {
     "name": "stdout",
     "output_type": "stream",
     "text": [
      "Total even numbers: 5\n",
      "Total odd numbers: 4\n"
     ]
    }
   ],
   "source": [
    "'''6. Write a program that counts the number of even and odd numbers in a list using a `for` loop.'''\n",
    "\n",
    "l1 = [12,23,34,46,53,68,75,88,91]\n",
    "\n",
    "even_count = 0\n",
    "odd_count = 0\n",
    "\n",
    "for i in l1:\n",
    "    if i % 2 == 0:\n",
    "        even_count = even_count + 1\n",
    "    else: \n",
    "        odd_count = odd_count + 1\n",
    "        \n",
    "print(\"Total even numbers:\", even_count)\n",
    "print(\"Total odd numbers:\", odd_count)"
   ]
  },
  {
   "cell_type": "code",
   "execution_count": 42,
   "id": "b05430a4-a7b1-495f-85ea-5babdf5bc032",
   "metadata": {},
   "outputs": [
    {
     "name": "stdout",
     "output_type": "stream",
     "text": [
      "[1, 4, 9, 16, 25]\n"
     ]
    }
   ],
   "source": [
    "'''7. Develop a program that prints the squares of numbers from 1 to 5 using a `for` loop.'''\n",
    "\n",
    "l1 = [i ** 2 for i in range(1,6)]\n",
    "print(l1)"
   ]
  },
  {
   "cell_type": "code",
   "execution_count": 44,
   "id": "31eaadcc-7762-499d-87e8-103bde500a11",
   "metadata": {},
   "outputs": [
    {
     "name": "stdout",
     "output_type": "stream",
     "text": [
      "11\n"
     ]
    }
   ],
   "source": [
    "'''8. Create a program to find the length of a string without using the `len()` function.'''\n",
    "\n",
    "s1 = \"Hello india\"\n",
    "count = 0\n",
    "for i in s1:\n",
    "    count = count + 1\n",
    "print(count)"
   ]
  },
  {
   "cell_type": "code",
   "execution_count": 47,
   "id": "be92aa9b-d8d2-48b3-b71f-1f10cf99f0c9",
   "metadata": {},
   "outputs": [
    {
     "name": "stdout",
     "output_type": "stream",
     "text": [
      "3.0\n"
     ]
    }
   ],
   "source": [
    "'''9. Write a program that calculates the average of a list of numbers using a `for` loop.'''\n",
    "\n",
    "l1 = [1,2,3,4,5]\n",
    "n = len(l1)\n",
    "\n",
    "sum = 0\n",
    "\n",
    "for i in l1:\n",
    "    sum = sum + i/n\n",
    "    \n",
    "print(sum)"
   ]
  },
  {
   "cell_type": "code",
   "execution_count": 48,
   "id": "2640db45-c2fc-461c-b367-fd8ace341d49",
   "metadata": {},
   "outputs": [
    {
     "name": "stdout",
     "output_type": "stream",
     "text": [
      "0\n",
      "1\n",
      "1\n",
      "2\n",
      "3\n",
      "5\n",
      "8\n",
      "13\n",
      "21\n",
      "34\n"
     ]
    }
   ],
   "source": [
    "'''10. Develop a program that prints the first `n` Fibonacci numbers using a `for` loop.'''\n",
    "\n",
    "a,b = 0,1\n",
    "for i in range(1,11):\n",
    "    print(a)\n",
    "    c = a+b\n",
    "    a = b\n",
    "    b = c"
   ]
  },
  {
   "cell_type": "code",
   "execution_count": 49,
   "id": "565a2b44-6f40-4362-bbf0-7b00c2284bfa",
   "metadata": {},
   "outputs": [],
   "source": [
    "# Intermediate Level:"
   ]
  },
  {
   "cell_type": "code",
   "execution_count": 13,
   "id": "1ce386d7-18e5-45f5-9fba-541bdfe3adc4",
   "metadata": {},
   "outputs": [
    {
     "name": "stdout",
     "output_type": "stream",
     "text": [
      "Yes, list contains duplicates\n"
     ]
    }
   ],
   "source": [
    "'''11. Write a program to check if a given list contains any duplicates using a `for` loop.'''\n",
    "\n",
    "def checkIfDuplicates(l1):\n",
    "    for i in l1:\n",
    "        if l1.count(i) > 1:\n",
    "            return True\n",
    "    return False\n",
    "l1 = [1,2,3,4,1,5,2]\n",
    "\n",
    "result = checkIfDuplicates(l1)\n",
    "if result:\n",
    "    print('Yes, list contains duplicates')\n",
    "else:\n",
    "    print('No duplicates found in list')"
   ]
  },
  {
   "cell_type": "code",
   "execution_count": 17,
   "id": "8000437c-95e6-43c1-82c4-7e98602a9b15",
   "metadata": {},
   "outputs": [
    {
     "name": "stdout",
     "output_type": "stream",
     "text": [
      "[2, 3, 5, 7, 11, 13, 17, 19, 23]\n"
     ]
    }
   ],
   "source": [
    "'''12. Create a program that prints the prime numbers in a given range using a `for` loop.'''\n",
    "\n",
    "prime = []\n",
    "for i in range(2,25):\n",
    "    isprime = True\n",
    "    for j in range(2,i):\n",
    "        if i % j == 0:\n",
    "            isprime = False\n",
    "    if isprime:\n",
    "        prime.append(i)\n",
    "print(prime)"
   ]
  },
  {
   "cell_type": "code",
   "execution_count": 18,
   "id": "d75bdb24-e2f8-4765-82e5-2f18a9bb3cf3",
   "metadata": {},
   "outputs": [
    {
     "name": "stdout",
     "output_type": "stream",
     "text": [
      "5\n"
     ]
    }
   ],
   "source": [
    "'''13. Develop a program that counts the number of vowels in a string using a `for` loop.'''\n",
    "\n",
    "v = ['a', 'e', 'i', 'o', 'u','A', 'E', 'I', 'O', 'U']\n",
    "\n",
    "l1 = \"Hello India\"\n",
    "count = 0\n",
    "for i in l1:\n",
    "    if i in v:\n",
    "        count=count + 1\n",
    "        \n",
    "print(count)"
   ]
  },
  {
   "cell_type": "code",
   "execution_count": 4,
   "id": "690af29e-d1ce-41df-a1d4-7537e2f4a366",
   "metadata": {},
   "outputs": [
    {
     "name": "stdout",
     "output_type": "stream",
     "text": [
      "Maximum element: 7\n"
     ]
    }
   ],
   "source": [
    "'''14. Write a program to find the maximum element in a 2D list using a nested `for` loop.'''\n",
    "\n",
    "l1 = [[1,2,3],[2,7,4],[1,5,6]]\n",
    "largest =float('-inf')\n",
    "for i in l1:\n",
    "    for j in i:\n",
    "        if j>largest:\n",
    "            largest = j\n",
    "\n",
    "print(\"Maximum element:\",largest)"
   ]
  },
  {
   "cell_type": "code",
   "execution_count": 4,
   "id": "18b41260-7379-42b4-9cec-aaac39125e44",
   "metadata": {},
   "outputs": [
    {
     "name": "stdout",
     "output_type": "stream",
     "text": [
      "Original list: [2, 3, 4, 2, 5, 6, 2, 7, 8, 2]\n",
      "new list: [3, 4, 5, 6, 7, 8]\n"
     ]
    }
   ],
   "source": [
    "'''15. Create a program that removes all occurrences of a specific element from a list using a `for` loop.'''\n",
    "\n",
    "l1 = [2,3,4,2,5,6,2,7,8,2]\n",
    "n = 2\n",
    "\n",
    "print(\"Original list:\",l1)\n",
    "for i in l1:\n",
    "    if i == n:\n",
    "        l1.remove(i)\n",
    "print(\"new list:\",l1)       "
   ]
  },
  {
   "cell_type": "code",
   "execution_count": 21,
   "id": "2f92d695-e945-4bbf-a511-445ebf730469",
   "metadata": {},
   "outputs": [
    {
     "name": "stdout",
     "output_type": "stream",
     "text": [
      "Multiplication table of 1\n",
      "1 * 1 = 1\n",
      "1 * 2 = 2\n",
      "1 * 3 = 3\n",
      "1 * 4 = 4\n",
      "1 * 5 = 5\n",
      "1 * 6 = 6\n",
      "1 * 7 = 7\n",
      "1 * 8 = 8\n",
      "1 * 9 = 9\n",
      "1 * 10 = 10\n",
      "Multiplication table of 2\n",
      "2 * 1 = 2\n",
      "2 * 2 = 4\n",
      "2 * 3 = 6\n",
      "2 * 4 = 8\n",
      "2 * 5 = 10\n",
      "2 * 6 = 12\n",
      "2 * 7 = 14\n",
      "2 * 8 = 16\n",
      "2 * 9 = 18\n",
      "2 * 10 = 20\n",
      "Multiplication table of 3\n",
      "3 * 1 = 3\n",
      "3 * 2 = 6\n",
      "3 * 3 = 9\n",
      "3 * 4 = 12\n",
      "3 * 5 = 15\n",
      "3 * 6 = 18\n",
      "3 * 7 = 21\n",
      "3 * 8 = 24\n",
      "3 * 9 = 27\n",
      "3 * 10 = 30\n",
      "Multiplication table of 4\n",
      "4 * 1 = 4\n",
      "4 * 2 = 8\n",
      "4 * 3 = 12\n",
      "4 * 4 = 16\n",
      "4 * 5 = 20\n",
      "4 * 6 = 24\n",
      "4 * 7 = 28\n",
      "4 * 8 = 32\n",
      "4 * 9 = 36\n",
      "4 * 10 = 40\n",
      "Multiplication table of 5\n",
      "5 * 1 = 5\n",
      "5 * 2 = 10\n",
      "5 * 3 = 15\n",
      "5 * 4 = 20\n",
      "5 * 5 = 25\n",
      "5 * 6 = 30\n",
      "5 * 7 = 35\n",
      "5 * 8 = 40\n",
      "5 * 9 = 45\n",
      "5 * 10 = 50\n"
     ]
    }
   ],
   "source": [
    "'''16. Develop a program that generates a multiplication table for numbers from 1 to 5 using a nested `for` loop.'''\n",
    "\n",
    "for i in range(1,6):\n",
    "    print(\"Multiplication table of\",i)\n",
    "    for j in range(1,11):\n",
    "        print(i ,'*', j , '=' , i * j)"
   ]
  },
  {
   "cell_type": "code",
   "execution_count": 9,
   "id": "2151908a-0883-4dc4-9ab5-0b3ecd933332",
   "metadata": {},
   "outputs": [
    {
     "name": "stdout",
     "output_type": "stream",
     "text": [
      "[20.0, 21.11111111111111, 22.77777777777778, 36.66666666666667]\n"
     ]
    }
   ],
   "source": [
    "'''17. Write a program that converts a list of Fahrenheit temperatures to Celsius using a `for` loop.'''\n",
    "\n",
    "l1 = [68,70,73,98]\n",
    "l2 = []\n",
    "for i in l1:\n",
    "    Celsius = (5/9)*(i - 32)\n",
    "    l2.append(Celsius)\n",
    "print(l2)"
   ]
  },
  {
   "cell_type": "code",
   "execution_count": 19,
   "id": "ba568d2d-f285-4546-82bf-739bb2388593",
   "metadata": {},
   "outputs": [
    {
     "name": "stdout",
     "output_type": "stream",
     "text": [
      "[4, 5, 6]\n"
     ]
    }
   ],
   "source": [
    "'''18. Create a program to print the common elements from two lists using a `for` loop.'''\n",
    "\n",
    "l1 = [1,2,3,4,5,6]\n",
    "l2 = [4,5,6,7,8]\n",
    "\n",
    "def common(l1,l2): \n",
    "    c = [i for i in l1 if i in l2]\n",
    "    return c\n",
    "        \n",
    "result = common(l1,l2)\n",
    "print(result)"
   ]
  },
  {
   "cell_type": "code",
   "execution_count": 21,
   "id": "8790e6e2-6a9d-429e-96cd-ef353e360572",
   "metadata": {},
   "outputs": [
    {
     "name": "stdout",
     "output_type": "stream",
     "text": [
      "*\n",
      "**\n",
      "***\n",
      "****\n",
      "*****\n",
      "******\n"
     ]
    }
   ],
   "source": [
    "'''19. Develop a program that prints the pattern of right-angled triangles using a `for` loop. Use ‘*’ to draw the\n",
    "pattern.'''\n",
    "\n",
    "for i in range(6):\n",
    "    for j in range(i+1):\n",
    "        print(\"*\",end='')\n",
    "    print(\"\")"
   ]
  },
  {
   "cell_type": "code",
   "execution_count": 23,
   "id": "e51e269b-6000-4b71-8f80-5f8375cb7740",
   "metadata": {},
   "outputs": [
    {
     "name": "stdout",
     "output_type": "stream",
     "text": [
      "GCD of 100 and 150 is: 50\n"
     ]
    }
   ],
   "source": [
    "'''20. Write a program to find the greatest common divisor (GCD) of two numbers using a `for` loop.'''\n",
    "\n",
    "x = 150\n",
    "y = 100\n",
    "if x > y:\n",
    "    x, y = y, x\n",
    "for i in range(1,x+1):\n",
    "    if x%i == 0 and y%i == 0:\n",
    "        gcd = i\n",
    "\n",
    "print(\"GCD of\", x, \"and\", y, \"is:\", gcd)"
   ]
  },
  {
   "cell_type": "code",
   "execution_count": null,
   "id": "7ae2a333-b5f9-49dc-86ac-86402fe89274",
   "metadata": {},
   "outputs": [],
   "source": [
    "#Advanced Level:"
   ]
  },
  {
   "cell_type": "code",
   "execution_count": 1,
   "id": "4530e1b0-8bdc-4964-a22c-3fee3f6d4595",
   "metadata": {},
   "outputs": [
    {
     "name": "stdout",
     "output_type": "stream",
     "text": [
      "Original List :  [223, 323, 41, 50, 672]\n",
      "Sum List :  [7, 8, 5, 5, 15]\n"
     ]
    }
   ],
   "source": [
    "'''21. Create a program that calculates the sum of the digits of numbers in a list using a list comprehension.'''\n",
    "\n",
    "myList = [223, 323, 41, 50, 672]\n",
    "\n",
    "SumList = list(map(lambda ele: sum(int(sub) for sub in str(ele)), myList))\n",
    "\n",
    "print(\"Original List : \", myList)\n",
    "print(\"Sum List : \", SumList)"
   ]
  },
  {
   "cell_type": "code",
   "execution_count": 21,
   "id": "9294c303-b412-4f3e-ab59-74e7b5d43f99",
   "metadata": {},
   "outputs": [
    {
     "name": "stdout",
     "output_type": "stream",
     "text": [
      "[1, 2, 3, 4, 6, 8, 12, 24]\n"
     ]
    }
   ],
   "source": [
    "'''22. Write a program to find the prime factors of a given number using a `for` loop and list comprehension.'''\n",
    "\n",
    "n = 24\n",
    "factor = [i for i in range(1, n+1) if n % i == 0]\n",
    "print(factor)"
   ]
  },
  {
   "cell_type": "code",
   "execution_count": 34,
   "id": "f622b21a-8787-40e6-bd06-fbcfec8b612f",
   "metadata": {},
   "outputs": [
    {
     "name": "stdout",
     "output_type": "stream",
     "text": [
      "[1, 2, 3, 4, 5]\n"
     ]
    }
   ],
   "source": [
    "'''23. Develop a program that extracts unique elements from a list and stores them in a new list using a list\n",
    "comprehension.'''\n",
    "\n",
    "l = [1,2,3,3,3,3,4,5]\n",
    "l1 = []\n",
    "unique_list = [l1.append(i) for i in l if i not in l1]\n",
    "print(l1) \n"
   ]
  },
  {
   "cell_type": "code",
   "execution_count": 37,
   "id": "49f5f298-e0b0-4d68-9790-03f960bcdda5",
   "metadata": {},
   "outputs": [
    {
     "name": "stdout",
     "output_type": "stream",
     "text": [
      "[1, 2, 3, 4, 5, 6, 7, 8, 9, 11, 22, 33, 44, 55, 66, 77, 88, 99, 101, 111, 121, 131, 141, 151, 161, 171, 181, 191, 202, 212, 222, 232, 242, 252, 262, 272, 282, 292, 303, 313, 323, 333, 343, 353, 363, 373, 383, 393, 404, 414, 424, 434, 444, 454, 464, 474, 484, 494]\n"
     ]
    }
   ],
   "source": [
    "'''24. Create a program that generates a list of all palindromic numbers up to a specified limit using a list\n",
    "comprehension.'''\n",
    "\n",
    "palindromic_num = [x for x in range(1, 500) if str(x) == str(x)[::-1]]\n",
    "print(palindromic_num)"
   ]
  },
  {
   "cell_type": "code",
   "execution_count": 38,
   "id": "7a218caa-75fc-427d-a913-de1ee7c32598",
   "metadata": {},
   "outputs": [
    {
     "name": "stdout",
     "output_type": "stream",
     "text": [
      "[1, 2, 3, 4, 5, 6, 7]\n"
     ]
    }
   ],
   "source": [
    "'''25. Write a program to flatten a nested list using list comprehension.'''\n",
    "\n",
    "my_list = [[1], [2, 3], [4, 5, 6, 7]]\n",
    "\n",
    "flat_list = [num for sublist in my_list for num in sublist]\n",
    "print(flat_list)"
   ]
  },
  {
   "cell_type": "code",
   "execution_count": 3,
   "id": "ea2ad224-19ca-46bb-b67d-aba9de4f2d64",
   "metadata": {},
   "outputs": [
    {
     "name": "stdout",
     "output_type": "stream",
     "text": [
      "30\n",
      "25\n"
     ]
    }
   ],
   "source": [
    "'''26. Develop a program that computes the sum of even and odd numbers in a list separately using list\n",
    "comprehension.'''\n",
    "\n",
    "my_list = [1, 2, 3, 4, 5, 6, 7, 8, 9, 10]\n",
    "even_sum = sum([num for num in my_list if num % 2 == 0])\n",
    "odd_sum = sum([num for num in my_list if num % 2 != 0])\n",
    "print(even_sum)\n",
    "print(odd_sum)"
   ]
  },
  {
   "cell_type": "code",
   "execution_count": 5,
   "id": "d7dc7d75-f70f-40d9-b712-74067a5df0b5",
   "metadata": {},
   "outputs": [
    {
     "name": "stdout",
     "output_type": "stream",
     "text": [
      "165\n"
     ]
    }
   ],
   "source": [
    "'''27. Create a program that generates a list of squares of odd numbers between 1 and 10 using list\n",
    "comprehension.'''\n",
    "\n",
    "my_list = [1, 2, 3, 4, 5, 6, 7, 8, 9, 10]\n",
    "odd_sum = sum([num**2 for num in my_list if num % 2 != 0])\n",
    "print(odd_sum)"
   ]
  },
  {
   "cell_type": "code",
   "execution_count": 6,
   "id": "8e04d56f-0f38-498b-b2c1-2730ab9a7f52",
   "metadata": {},
   "outputs": [
    {
     "name": "stdout",
     "output_type": "stream",
     "text": [
      "Keys List: ['Name', 'Age', 'Gender', 'Country']\n",
      "Values List: ['Scarlett', 28, 'Female', 'United States']\n",
      "Dictionary: {'Name': 'Scarlett', 'Age': 28, 'Gender': 'Female', 'Country': 'United States'}\n"
     ]
    }
   ],
   "source": [
    "'''28. Write a program that combines two lists into a dictionary using list comprehension.'''\n",
    "\n",
    "keys_list = ['Name', 'Age', 'Gender', 'Country']\n",
    "values_list = ['Scarlett', 28, 'Female', 'United States']\n",
    "\n",
    "info_dict = {keys_list[i]: values_list[i] for i in range(len(keys_list))}\n",
    "    \n",
    "print('Keys List:', keys_list)\n",
    "print('Values List:', values_list)\n",
    "\n",
    "print('Dictionary:', info_dict)"
   ]
  },
  {
   "cell_type": "code",
   "execution_count": 7,
   "id": "6cedc909-416b-4b9a-97e4-41530a0a6e19",
   "metadata": {},
   "outputs": [
    {
     "name": "stdout",
     "output_type": "stream",
     "text": [
      "['e', 'o', 'I', 'i', 'a']\n"
     ]
    }
   ],
   "source": [
    "'''29. Develop a program that extracts the vowels from a string and stores them in a list using list comprehension.'''\n",
    "\n",
    "v = ['a', 'e', 'i', 'o', 'u','A', 'E', 'I', 'O', 'U']\n",
    "l1 = \"Hello India\"\n",
    "new_list = [i for i in l1 if i in v]\n",
    "print(new_list)"
   ]
  },
  {
   "cell_type": "code",
   "execution_count": 11,
   "id": "eaa8f79f-9ea9-43c7-81ef-ffa31a9699c4",
   "metadata": {},
   "outputs": [
    {
     "name": "stdout",
     "output_type": "stream",
     "text": [
      "['123', '456', '789', '456']\n"
     ]
    }
   ],
   "source": [
    "'''30. Create a program that removes all non-numeric characters from a list of strings using list comprehension.'''\n",
    "\n",
    "string_list = [\"abc123\", \"456def\", \"789xyz\", \"abc456xyz\"]\n",
    "\n",
    "numeric_strings = [''.join(filter(str.isdigit, string)) for string in string_list]\n",
    "\n",
    "print(numeric_strings)\n"
   ]
  },
  {
   "cell_type": "code",
   "execution_count": null,
   "id": "93ece3a3-747e-4232-a7c1-8dc8362ba7ab",
   "metadata": {},
   "outputs": [],
   "source": [
    "#Challenge Level:"
   ]
  },
  {
   "cell_type": "code",
   "execution_count": 21,
   "id": "d32ed3c1-1590-4710-b303-890938b70593",
   "metadata": {},
   "outputs": [
    {
     "name": "stdout",
     "output_type": "stream",
     "text": [
      "[2, 3, 5, 7, 11, 13, 17, 19, 23, 29, 31, 37, 41, 43, 47, 53, 59, 61, 67, 71, 73, 79, 83, 89, 97]\n"
     ]
    }
   ],
   "source": [
    "'''31. Write a program to generate a list of prime numbers using the Sieve of Eratosthenes algorithm and list\n",
    "comprehension.'''\n",
    "\n",
    "n = 100\n",
    "prime_list = [x for x in range(2, n + 1) if all(x % i != 0 for i in range(2, int(x**0.5) + 1))]\n",
    "print(prime_list)"
   ]
  },
  {
   "cell_type": "code",
   "execution_count": 3,
   "id": "71bb3f48-0ff0-40ca-a700-342499476da3",
   "metadata": {},
   "outputs": [
    {
     "name": "stdin",
     "output_type": "stream",
     "text": [
      "Enter the value of n:  15\n"
     ]
    },
    {
     "name": "stdout",
     "output_type": "stream",
     "text": [
      "[(3, 4, 5), (5, 12, 13), (6, 8, 10), (9, 12, 15)]\n"
     ]
    }
   ],
   "source": [
    "'''32. Create a program that generates a list of all Pythagorean triplets up to a specified limit using list\n",
    "comprehension.'''\n",
    "\n",
    "n = int(input('Enter the value of n: '))\n",
    "print([(a, b, c) for a in range(1, n + 1) for b in range(a, n + 1)\n",
    "       for c in range(b, n + 1) if a**2 + b**2 == c**2 and c <= n])"
   ]
  },
  {
   "cell_type": "code",
   "execution_count": 4,
   "id": "72ba8959-baf6-4c0b-b08c-737ce97a307c",
   "metadata": {},
   "outputs": [
    {
     "name": "stdout",
     "output_type": "stream",
     "text": [
      "All possible permutations are :  [[1, 6, 8], [1, 6, 10], [1, 6, 5], [1, 7, 8], [1, 7, 10], [1, 7, 5], [1, 9, 8], [1, 9, 10], [1, 9, 5], [3, 6, 8], [3, 6, 10], [3, 6, 5], [3, 7, 8], [3, 7, 10], [3, 7, 5], [3, 9, 8], [3, 9, 10], [3, 9, 5], [4, 6, 8], [4, 6, 10], [4, 6, 5], [4, 7, 8], [4, 7, 10], [4, 7, 5], [4, 9, 8], [4, 9, 10], [4, 9, 5]]\n"
     ]
    }
   ],
   "source": [
    "'''33. Develop a program that generates a list of all possible combinations of two lists using list comprehension.'''\n",
    "\n",
    "list1 = [1, 3, 4]\n",
    "list2 = [6, 7, 9]\n",
    "list3 = [8, 10, 5]\n",
    "\n",
    "combination_list = [[i, j, k] for i in list1 for j in list2 for k in list3]\n",
    "\n",
    "print (\"All possible permutations are : \" , combination_list)"
   ]
  },
  {
   "cell_type": "code",
   "execution_count": 5,
   "id": "e21685ba-4296-4ce4-82e1-099eed57dccb",
   "metadata": {},
   "outputs": [
    {
     "name": "stdout",
     "output_type": "stream",
     "text": [
      "Original list: [1, 2, 2, 3, 4, 4, 5, 5, 5, 6]\n",
      "Mean: 3.7\n",
      "Median: 4.0\n",
      "Mode: [5]\n"
     ]
    }
   ],
   "source": [
    "'''34. Write a program that calculates the mean, median, and mode of a list of numbers using list\n",
    "comprehension.'''\n",
    "\n",
    "from statistics import mean, median, mode\n",
    "from collections import Counter\n",
    "\n",
    "numbers = [1, 2, 2, 3, 4, 4, 5, 5, 5, 6]\n",
    "\n",
    "mean_value = mean(numbers)\n",
    "\n",
    "median_value = median(numbers)\n",
    "\n",
    "number_counts = Counter(numbers)\n",
    "mode_values = [number for number, count in number_counts.items() if count == max(number_counts.values())]\n",
    "\n",
    "print(\"Original list:\", numbers)\n",
    "print(\"Mean:\", mean_value)\n",
    "print(\"Median:\", median_value)\n",
    "print(\"Mode:\", mode_values)\n"
   ]
  },
  {
   "cell_type": "code",
   "execution_count": 24,
   "id": "637aeea5-43a2-4e7d-9f75-ac943f850e56",
   "metadata": {},
   "outputs": [
    {
     "name": "stdin",
     "output_type": "stream",
     "text": [
      "Enter the number of rows for Pascal's triangle:  6\n"
     ]
    },
    {
     "name": "stdout",
     "output_type": "stream",
     "text": [
      "      1      \n",
      "     1 1     \n",
      "    1 2 1    \n",
      "   1 3 3 1   \n",
      "  1 4 6 4 1  \n",
      "1 5 10 10 5 1\n"
     ]
    }
   ],
   "source": [
    "'''35. Create a program that generates Pascal's triangle up to a specified number of rows using list\n",
    "comprehension.'''\n",
    "\n",
    "from math import factorial\n",
    "\n",
    "def generate_pascals_triangle(num_rows):\n",
    "    pascals_triangle = [[factorial(i)//(factorial(j)*factorial(i-j)) for j in range(i+1)] for i in range(num_rows)]\n",
    "    return pascals_triangle\n",
    "\n",
    "def print_pascals_triangle(triangle):\n",
    "    max_width = len(' '.join(map(str, triangle[-1])))\n",
    "    for row in triangle:\n",
    "        row_str = ' '.join(map(str, row))\n",
    "        print(row_str.center(max_width))\n",
    "\n",
    "num_rows = int(input(\"Enter the number of rows for Pascal's triangle: \"))\n",
    "\n",
    "pascals_triangle = generate_pascals_triangle(num_rows)\n",
    "print_pascals_triangle(pascals_triangle)"
   ]
  },
  {
   "cell_type": "code",
   "execution_count": 35,
   "id": "1d7f5c4e-2921-40e5-a002-9635580c4466",
   "metadata": {},
   "outputs": [
    {
     "name": "stdout",
     "output_type": "stream",
     "text": [
      "The sum of digits for 1! is 1\n",
      "The sum of digits for 2! is 2\n",
      "The sum of digits for 3! is 6\n",
      "The sum of digits for 4! is 6\n",
      "The sum of digits for 5! is 3\n"
     ]
    }
   ],
   "source": [
    "'''36. Develop a program that calculates the sum of the digits of a factorial of numbers from 1 to 5 using list\n",
    "comprehension.'''\n",
    "\n",
    "numbers = [1, 2, 3, 4, 5]\n",
    "\n",
    "sums_of_digits = [sum(int(digit) for digit in str(factorial(num))) for num in numbers]\n",
    "\n",
    "for num, digit_sum in zip(numbers, sums_of_digits):\n",
    "    print(f\"The sum of digits for {num}! is {digit_sum}\")"
   ]
  },
  {
   "cell_type": "code",
   "execution_count": 46,
   "id": "339862ee-c0e4-45f7-b540-dfb64b8488c8",
   "metadata": {},
   "outputs": [
    {
     "name": "stdin",
     "output_type": "stream",
     "text": [
      "Enter a sentence:  This is pwskill full stack data science pro course.\n"
     ]
    },
    {
     "name": "stdout",
     "output_type": "stream",
     "text": [
      "The longest word in the sentence is: pwskill\n"
     ]
    }
   ],
   "source": [
    "'''37. Write a program that finds the longest word in a sentence using list comprehension.'''\n",
    "\n",
    "sentence = input(\"Enter a sentence: \")\n",
    "\n",
    "words = sentence.split()\n",
    "\n",
    "longest_word = max([(word, len(word)) for word in words], key=lambda x: x[1], default=(\"\",\"\"))[0]\n",
    "\n",
    "print(\"The longest word in the sentence is:\", longest_word)"
   ]
  },
  {
   "cell_type": "code",
   "execution_count": 41,
   "id": "79ad17cc-13db-4514-8eed-c79ec78db700",
   "metadata": {},
   "outputs": [
    {
     "name": "stdout",
     "output_type": "stream",
     "text": [
      "['guava', 'pineapple', 'mandarin orange']\n"
     ]
    }
   ],
   "source": [
    "'''38. Create a program that filters a list of strings to include only those with more than three vowels using list\n",
    "comprehension.'''\n",
    "\n",
    "import re\n",
    "\n",
    "fruits = [\"mango\", \"kiwi\", \"strawberry\", \"guava\", \"pineapple\", \"mandarin orange\"]\n",
    "results = [i for i in fruits if len(re.sub(r\"[^aeiouAEIOU]\", \"\", i)) > 2]\n",
    "print(results)"
   ]
  },
  {
   "cell_type": "code",
   "execution_count": 45,
   "id": "70b5b9fb-a3bd-4d1d-a6a2-bf41f555e8f3",
   "metadata": {},
   "outputs": [
    {
     "name": "stdout",
     "output_type": "stream",
     "text": [
      "Sum List :  [1, 2, 3, 4, 5, 6, 7, 8, 9, 1, 2, 3, 4, 5, 6, 7, 8, 9, 10, 2, 3, 4, 5, 6, 7, 8, 9, 10, 11, 3, 4, 5, 6, 7, 8, 9, 10, 11, 12, 4, 5, 6, 7, 8, 9, 10, 11, 12, 13, 5, 6, 7, 8, 9, 10, 11, 12, 13, 14, 6, 7, 8, 9, 10, 11, 12, 13, 14, 15, 7, 8, 9, 10, 11, 12, 13, 14, 15, 16, 8, 9, 10, 11, 12, 13, 14, 15, 16, 17, 9, 10, 11, 12, 13, 14, 15, 16, 17, 18, 1, 2, 3, 4, 5, 6, 7, 8, 9, 10, 2, 3, 4, 5, 6, 7, 8, 9, 10, 11, 3, 4, 5, 6, 7, 8, 9, 10, 11, 12, 4, 5, 6, 7, 8, 9, 10, 11, 12, 13, 5, 6, 7, 8, 9, 10, 11, 12, 13, 14, 6, 7, 8, 9, 10, 11, 12, 13, 14, 15, 7, 8, 9, 10, 11, 12, 13, 14, 15, 16, 8, 9, 10, 11, 12, 13, 14, 15, 16, 17, 9, 10, 11, 12, 13, 14, 15, 16, 17, 18, 10, 11, 12, 13, 14, 15, 16, 17, 18, 19, 2, 3, 4, 5, 6, 7, 8, 9, 10, 11, 3, 4, 5, 6, 7, 8, 9, 10, 11, 12, 4, 5, 6, 7, 8, 9, 10, 11, 12, 13, 5, 6, 7, 8, 9, 10, 11, 12, 13, 14, 6, 7, 8, 9, 10, 11, 12, 13, 14, 15, 7, 8, 9, 10, 11, 12, 13, 14, 15, 16, 8, 9, 10, 11, 12, 13, 14, 15, 16, 17, 9, 10, 11, 12, 13, 14, 15, 16, 17, 18, 10, 11, 12, 13, 14, 15, 16, 17, 18, 19, 11, 12, 13, 14, 15, 16, 17, 18, 19, 20, 3, 4, 5, 6, 7, 8, 9, 10, 11, 12, 4, 5, 6, 7, 8, 9, 10, 11, 12, 13, 5, 6, 7, 8, 9, 10, 11, 12, 13, 14, 6, 7, 8, 9, 10, 11, 12, 13, 14, 15, 7, 8, 9, 10, 11, 12, 13, 14, 15, 16, 8, 9, 10, 11, 12, 13, 14, 15, 16, 17, 9, 10, 11, 12, 13, 14, 15, 16, 17, 18, 10, 11, 12, 13, 14, 15, 16, 17, 18, 19, 11, 12, 13, 14, 15, 16, 17, 18, 19, 20, 12, 13, 14, 15, 16, 17, 18, 19, 20, 21, 4, 5, 6, 7, 8, 9, 10, 11, 12, 13, 5, 6, 7, 8, 9, 10, 11, 12, 13, 14, 6, 7, 8, 9, 10, 11, 12, 13, 14, 15, 7, 8, 9, 10, 11, 12, 13, 14, 15, 16, 8, 9, 10, 11, 12, 13, 14, 15, 16, 17, 9, 10, 11, 12, 13, 14, 15, 16, 17, 18, 10, 11, 12, 13, 14, 15, 16, 17, 18, 19, 11, 12, 13, 14, 15, 16, 17, 18, 19, 20, 12, 13, 14, 15, 16, 17, 18, 19, 20, 21, 13, 14, 15, 16, 17, 18, 19, 20, 21, 22, 5, 6, 7, 8, 9, 10, 11, 12, 13, 14, 6, 7, 8, 9, 10, 11, 12, 13, 14, 15, 7, 8, 9, 10, 11, 12, 13, 14, 15, 16, 8, 9, 10, 11, 12, 13, 14, 15, 16, 17, 9, 10, 11, 12, 13, 14, 15, 16, 17, 18, 10, 11, 12, 13, 14, 15, 16, 17, 18, 19, 11, 12, 13, 14, 15, 16, 17, 18, 19, 20, 12, 13, 14, 15, 16, 17, 18, 19, 20, 21, 13, 14, 15, 16, 17, 18, 19, 20, 21, 22, 14, 15, 16, 17, 18, 19, 20, 21, 22, 23, 6, 7, 8, 9, 10, 11, 12, 13, 14, 15, 7, 8, 9, 10, 11, 12, 13, 14, 15, 16, 8, 9, 10, 11, 12, 13, 14, 15, 16, 17, 9, 10, 11, 12, 13, 14, 15, 16, 17, 18, 10, 11, 12, 13, 14, 15, 16, 17, 18, 19, 11, 12, 13, 14, 15, 16, 17, 18, 19, 20, 12, 13, 14, 15, 16, 17, 18, 19, 20, 21, 13, 14, 15, 16, 17, 18, 19, 20, 21, 22, 14, 15, 16, 17, 18, 19, 20, 21, 22, 23, 15, 16, 17, 18, 19, 20, 21, 22, 23, 24, 7, 8, 9, 10, 11, 12, 13, 14, 15, 16, 8, 9, 10, 11, 12, 13, 14, 15, 16, 17, 9, 10, 11, 12, 13, 14, 15, 16, 17, 18, 10, 11, 12, 13, 14, 15, 16, 17, 18, 19, 11, 12, 13, 14, 15, 16, 17, 18, 19, 20, 12, 13, 14, 15, 16, 17, 18, 19, 20, 21, 13, 14, 15, 16, 17, 18, 19, 20, 21, 22, 14, 15, 16, 17, 18, 19, 20, 21, 22, 23, 15, 16, 17, 18, 19, 20, 21, 22, 23, 24, 16, 17, 18, 19, 20, 21, 22, 23, 24, 25, 8, 9, 10, 11, 12, 13, 14, 15, 16, 17, 9, 10, 11, 12, 13, 14, 15, 16, 17, 18, 10, 11, 12, 13, 14, 15, 16, 17, 18, 19, 11, 12, 13, 14, 15, 16, 17, 18, 19, 20, 12, 13, 14, 15, 16, 17, 18, 19, 20, 21, 13, 14, 15, 16, 17, 18, 19, 20, 21, 22, 14, 15, 16, 17, 18, 19, 20, 21, 22, 23, 15, 16, 17, 18, 19, 20, 21, 22, 23, 24, 16, 17, 18, 19, 20, 21, 22, 23, 24, 25, 17, 18, 19, 20, 21, 22, 23, 24, 25, 26, 9, 10, 11, 12, 13, 14, 15, 16, 17, 18, 10, 11, 12, 13, 14, 15, 16, 17, 18, 19, 11, 12, 13, 14, 15, 16, 17, 18, 19, 20, 12, 13, 14, 15, 16, 17, 18, 19, 20, 21, 13, 14, 15, 16, 17, 18, 19, 20, 21, 22, 14, 15, 16, 17, 18, 19, 20, 21, 22, 23, 15, 16, 17, 18, 19, 20, 21, 22, 23, 24, 16, 17, 18, 19, 20, 21, 22, 23, 24, 25, 17, 18, 19, 20, 21, 22, 23, 24, 25, 26, 18, 19, 20, 21, 22, 23, 24, 25, 26, 27, 1]\n"
     ]
    }
   ],
   "source": [
    "'''39. Develop a program that calculates the sum of the digits of numbers from 1 to 1000 using list\n",
    "comprehension.'''\n",
    "\n",
    "SumList = list(map(lambda ele: sum(int(sub) for sub in str(ele)), range(1,1001)))\n",
    "\n",
    "print(\"Sum List : \", SumList)"
   ]
  },
  {
   "cell_type": "code",
   "execution_count": 43,
   "id": "d385ba56-6170-473e-a4fb-fdf5bdb28f26",
   "metadata": {},
   "outputs": [
    {
     "name": "stdout",
     "output_type": "stream",
     "text": [
      "Prime Palindromic Numbers: [11, 101, 131, 151, 181, 191, 313, 353, 373, 383, 727, 757, 787, 797, 919, 929]\n"
     ]
    }
   ],
   "source": [
    "'''40. Write a program that generates a list of prime palindromic numbers using list comprehension.'''\n",
    "\n",
    "def is_prime(num):\n",
    "    if num < 2:\n",
    "        return False\n",
    "    for i in range(2, int(num**0.5) + 1):\n",
    "        if num % i == 0:\n",
    "            return False\n",
    "    return True\n",
    "\n",
    "def is_palindrome(num):\n",
    "    return str(num) == str(num)[::-1]\n",
    "\n",
    "prime_palindromes = [num for num in range(10,1000) if is_prime(num) and is_palindrome(num)]\n",
    "\n",
    "print(\"Prime Palindromic Numbers:\", prime_palindromes)"
   ]
  },
  {
   "cell_type": "code",
   "execution_count": null,
   "id": "6568ea4c-18d6-4e3f-87a7-b93ea47605da",
   "metadata": {},
   "outputs": [],
   "source": []
  }
 ],
 "metadata": {
  "kernelspec": {
   "display_name": "Python 3 (ipykernel)",
   "language": "python",
   "name": "python3"
  },
  "language_info": {
   "codemirror_mode": {
    "name": "ipython",
    "version": 3
   },
   "file_extension": ".py",
   "mimetype": "text/x-python",
   "name": "python",
   "nbconvert_exporter": "python",
   "pygments_lexer": "ipython3",
   "version": "3.10.8"
  }
 },
 "nbformat": 4,
 "nbformat_minor": 5
}
