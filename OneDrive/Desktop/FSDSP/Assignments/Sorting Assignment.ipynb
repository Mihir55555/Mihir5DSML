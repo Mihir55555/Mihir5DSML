{
 "cells": [
  {
   "cell_type": "code",
   "execution_count": 1,
   "id": "d612661b-c607-4c0b-9d1e-a7ae9149c652",
   "metadata": {},
   "outputs": [
    {
     "name": "stdout",
     "output_type": "stream",
     "text": [
      "2\n"
     ]
    }
   ],
   "source": [
    "# Problem 1.Given an array of n numbers, give an algorithm which gives the element appearing maximum number of times?\n",
    "\n",
    "def most_appear_element(arr,n):\n",
    "    max_count = 0\n",
    "    most_appear_element_count = 0\n",
    "    for i in range(0,n):\n",
    "        count = 0\n",
    "        for j in range(0,n):\n",
    "            if arr[i] == arr[j]:\n",
    "                count += 1 \n",
    "        if(count > max_count):\n",
    "            max_count = count\n",
    "            most_appear_element_count = arr[i]\n",
    "    return most_appear_element_count\n",
    "\n",
    "arr = [1,2,3,1,2,2,3,2,1,2] \n",
    "n = len(arr) \n",
    "print(most_appear_element(arr, n))"
   ]
  },
  {
   "cell_type": "code",
   "execution_count": 7,
   "id": "db3c0797-a6e9-4093-975c-f0775ff89526",
   "metadata": {},
   "outputs": [
    {
     "name": "stdout",
     "output_type": "stream",
     "text": [
      "5\n"
     ]
    }
   ],
   "source": [
    "''' Problem 2 : We are given a list of n-1 integers and these integers are in the range of 1 to n . There are no duplicates in the list. One of the integers is missing in the list. Give an algorithm to find that element\n",
    "Ex:[1,2,4,6,3,7,8] 5 is the missing num.''' \n",
    "\n",
    "def find_missing_number(arr):\n",
    "    n = len(arr)+1\n",
    "    Expected_total = n*(n+1)//2\n",
    "    \n",
    "    Actual_total = 0\n",
    "    for i in range(len(arr)):\n",
    "        Actual_total = Actual_total + arr[i]\n",
    "        \n",
    "    missing_number = Expected_total - Actual_total \n",
    "    return missing_number\n",
    "\n",
    "arr = [1,2,4,6,3,7,8]\n",
    "print(find_missing_number(arr))"
   ]
  },
  {
   "cell_type": "code",
   "execution_count": 1,
   "id": "aa3ca97d-5b7a-4761-af7b-cb5a2a1b8aa3",
   "metadata": {},
   "outputs": [
    {
     "name": "stdout",
     "output_type": "stream",
     "text": [
      "3\n"
     ]
    }
   ],
   "source": [
    "'''Problem 3 : Given an array of n positive numbers. All numbers occurs even number of times except 1 which\n",
    "occurs odd number of times. Find that number in O(n) time and O(1) space. Ex: [1,2,3,2,3,1,3]. 3 is repeats odd\n",
    "times.'''\n",
    "\n",
    "def FindOddOccurance(arr):\n",
    "    Xor = 0\n",
    "    for i in range(len(arr)):\n",
    "        Xor ^= arr[i]\n",
    "    return Xor\n",
    "arr =[1,2,3,2,3,1,3]\n",
    "print(FindOddOccurance(arr))"
   ]
  },
  {
   "cell_type": "code",
   "execution_count": 15,
   "id": "2ed17857-c7d3-4d40-a872-8c36f9b9085a",
   "metadata": {},
   "outputs": [
    {
     "name": "stdout",
     "output_type": "stream",
     "text": [
      "True\n"
     ]
    }
   ],
   "source": [
    "'''Problem 4 : Given an array of n elements. Find two elements in the array such that their sum is equal to given\n",
    "element K.'''\n",
    "\n",
    "def closet_sum_of_element(arr,k):\n",
    "    n = len(arr)\n",
    "    for i in range(0,n-1):\n",
    "        for j in range(i+1,n):\n",
    "            if (arr[i] + arr[j]== k):\n",
    "                return True\n",
    "    return False\n",
    "\n",
    "arr = [1,2,10,7,5]\n",
    "k = 7\n",
    "print(closet_sum_of_element(arr,k))"
   ]
  },
  {
   "cell_type": "code",
   "execution_count": 33,
   "id": "8c2094fd-db48-484b-8262-a14773f614a7",
   "metadata": {},
   "outputs": [
    {
     "name": "stdout",
     "output_type": "stream",
     "text": [
      "The two elements whose closest to 0 are -80 and 85\n"
     ]
    }
   ],
   "source": [
    "'''Problem 5 : Given an array of both positive and negative numbers, find two numbers such that their sum is closest to 0. Ex: [ 1 ,60 ,-10, 70, -80,85]. Ans : -80,85.'''\n",
    "\n",
    "def closest_pair(arr):\n",
    "    n = len(arr)\n",
    "    left,right = 0,1\n",
    "    min_sum = arr[0]+arr[1]\n",
    "    for i in range (0,n-1):\n",
    "        for j in range (i+1,n):\n",
    "            sum = arr[i] + arr[j]                 \n",
    "            if abs(min_sum) > abs(sum):         \n",
    "                min_sum = sum\n",
    "                left,right = i,j\n",
    "    print(\"The two elements whose closest to 0 are\",arr[left],\"and\",arr[right])\n",
    "\n",
    "arr =[1,60,-10,70,-80,85]\n",
    "closest_pair(arr)"
   ]
  },
  {
   "cell_type": "code",
   "execution_count": 42,
   "id": "62a0b0a7-f590-4377-97e0-71396e9885b5",
   "metadata": {},
   "outputs": [
    {
     "name": "stdout",
     "output_type": "stream",
     "text": [
      "(20, 20, 60)\n"
     ]
    }
   ],
   "source": [
    "'''Problem 6 : Given an array of n elements . Find three elements such that their sum is equal to the given\n",
    "number.'''\n",
    "\n",
    "def sum_of_element(arr,num):\n",
    "    n = len(arr)\n",
    "    for i in range(n):\n",
    "        for j in range(0,n-1):\n",
    "            for k in range(i+1,n):\n",
    "                if (arr[i] + arr[j] + arr[k] == num):\n",
    "                    return arr[i],arr[j],arr[k]\n",
    "    return False\n",
    "\n",
    "arr =[10,20,20,10,60,40]\n",
    "print(sum_of_element(arr,100))"
   ]
  },
  {
   "cell_type": "code",
   "execution_count": 45,
   "id": "84350d60-9c64-4c1d-9fea-e91676c6a588",
   "metadata": {},
   "outputs": [
    {
     "data": {
      "text/plain": [
       "(3, 4, 5)"
      ]
     },
     "execution_count": 45,
     "metadata": {},
     "output_type": "execute_result"
    }
   ],
   "source": [
    "'''Problem 7 : Given an array of n elements . Find three elements i, j, k in the array such that i * i + j * j = k*k.'''\n",
    "\n",
    "def sum_three_element(arr):\n",
    "    for i in range(len(arr)):\n",
    "        for j in range(i+1 ,len(arr)):\n",
    "            for k in range(j+1 ,len(arr)):\n",
    "                if arr[i]*arr[i] + arr[j] *arr[j] == arr[k] * arr[k]:\n",
    "                    return arr[i],arr[j],arr[k]\n",
    "    return False\n",
    "\n",
    "arr =[1,3,2,4,10,5]\n",
    "sum_three_element(arr)"
   ]
  },
  {
   "cell_type": "code",
   "execution_count": 52,
   "id": "c25a0172-8501-4533-bb43-6ff048e43bd1",
   "metadata": {},
   "outputs": [
    {
     "name": "stdout",
     "output_type": "stream",
     "text": [
      "2\n"
     ]
    }
   ],
   "source": [
    "'''Problem 8 : An element is a majority if it appears more than n/2 times. Give an algorithm takes an array of n\n",
    "element as argument and identifies a majority (if it exists).'''\n",
    "\n",
    "def majority(arr):\n",
    "    n = len(arr)\n",
    "    max_count =0\n",
    "    index = -1\n",
    "    for i in range(n):\n",
    "        count = 1\n",
    "        for j in range(i+1,n):\n",
    "            if arr[i] == arr[j]:\n",
    "                count +=1\n",
    "        if count > max_count:\n",
    "            max_count =count\n",
    "            index = i\n",
    "            \n",
    "    if max_count > n//2:\n",
    "        print(arr[index])\n",
    "            \n",
    "    else:\n",
    "        print(\"No majority Elements found\")\n",
    "        \n",
    "arr = [1,2,3,2,2,2,3,2,1,2]\n",
    "majority(arr)"
   ]
  },
  {
   "cell_type": "code",
   "execution_count": 11,
   "id": "e693732a-1d09-4424-940e-e15848b1536d",
   "metadata": {},
   "outputs": [
    {
     "name": "stdout",
     "output_type": "stream",
     "text": [
      "Row with the most 0's: 3\n"
     ]
    }
   ],
   "source": [
    "'''Problem 9 : Given n × n matrix, and in each row all 1’s are followed by 0’s. Find the row with the maximum\n",
    "number of 0’s.'''\n",
    "\n",
    "def max_rows_with_zeros(matrix):\n",
    "    max_count = 0\n",
    "    most_rows_with_zeros= 0\n",
    "    for i,row in enumerate(matrix):\n",
    "        current_count = 0\n",
    "        for element in row:\n",
    "            if(element==0):\n",
    "                current_count += 1\n",
    "            else:\n",
    "                current_count = 0\n",
    "        if current_count > max_count:\n",
    "            max_count = current_count\n",
    "            most_rows_with_zeros = i\n",
    "    return most_rows_with_zeros\n",
    "\n",
    "matrix = [[1, 1, 1, 0], # row number = 0\n",
    "          [1, 1, 0, 0], # row number = 1\n",
    "          [1, 1, 1, 0], # row number = 2\n",
    "          [0, 0, 0, 0]] # row number = 3\n",
    "\n",
    "result = max_rows_with_zeros(matrix)\n",
    "print(f\"Row with the most 0's: {result}\")"
   ]
  },
  {
   "cell_type": "code",
   "execution_count": 12,
   "id": "7aa60ad0-6c4d-499e-9f73-3e6b8eb148ec",
   "metadata": {},
   "outputs": [
    {
     "data": {
      "text/plain": [
       "[0, 0, 0, 0, 0, 1, 1, 1, 1, 1, 2, 2]"
      ]
     },
     "execution_count": 12,
     "metadata": {},
     "output_type": "execute_result"
    }
   ],
   "source": [
    "'''Problem 10 : Sort an array of 0’s, 1’s and 2’s [or R’s, G’s and B’s]: Given an array A[] consisting of 0’s, 1’s and\n",
    "2’s, give an algorithm for sorting A[].The algorithm should put all 0’s first, then all 1’s and finally all 2’s at the\n",
    "end. Example Input = {0,1,1,0,1,2,1,2,0,0,0,1}, Output = {0,0,0,0,0,1,1,1,1,1,2,2}'''\n",
    "\n",
    "def sort_array_list(arr):\n",
    "    n = len(arr)\n",
    "    left = 0\n",
    "    right = n-1\n",
    " \n",
    "    i = 0\n",
    "    while i < n and i <= right:\n",
    "        # for element is 0\n",
    "        if arr[i] == 0:\n",
    "            arr[left],arr[i] = arr[i],arr[left]\n",
    "            left += 1\n",
    "            i += 1\n",
    "        # for element is 2\n",
    "        elif arr[i] == 2:\n",
    "            arr[i],arr[right] = arr[right],arr[i]\n",
    "            right -= 1\n",
    "        # for element is 1\n",
    "        else:\n",
    "            i += 1\n",
    "    return arr\n",
    "\n",
    "arr = [0,1,1,0,1,2,1,2,0,0,0,1]\n",
    "sort_array_list(arr)"
   ]
  }
 ],
 "metadata": {
  "kernelspec": {
   "display_name": "Python 3 (ipykernel)",
   "language": "python",
   "name": "python3"
  },
  "language_info": {
   "codemirror_mode": {
    "name": "ipython",
    "version": 3
   },
   "file_extension": ".py",
   "mimetype": "text/x-python",
   "name": "python",
   "nbconvert_exporter": "python",
   "pygments_lexer": "ipython3",
   "version": "3.10.8"
  }
 },
 "nbformat": 4,
 "nbformat_minor": 5
}
