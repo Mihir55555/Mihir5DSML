{
 "cells": [
  {
   "cell_type": "code",
   "execution_count": 25,
   "id": "38ac2c13-b025-4c69-a36d-1bf5093a0c6d",
   "metadata": {},
   "outputs": [
    {
     "data": {
      "text/plain": [
       "'gfedcbA'"
      ]
     },
     "execution_count": 25,
     "metadata": {},
     "output_type": "execute_result"
    }
   ],
   "source": [
    "# String Based\n",
    "\n",
    "'''1. Write a program to reverse a string.'''\n",
    "\n",
    "S1 = \"Abcdefg\"\n",
    "\n",
    "S1[::-1]"
   ]
  },
  {
   "cell_type": "code",
   "execution_count": 3,
   "id": "1c669819-69fa-465a-a8cb-7f9ceb39b0e1",
   "metadata": {},
   "outputs": [
    {
     "name": "stdin",
     "output_type": "stream",
     "text": [
      "Enter String :  AABBAA\n"
     ]
    },
    {
     "name": "stdout",
     "output_type": "stream",
     "text": [
      "Reverse Order :   AABBAA\n",
      "This is a Palindrome String\n"
     ]
    }
   ],
   "source": [
    "'''2. Check if a string is a palindrome.'''\n",
    "\n",
    "L1 = input(\"Enter String : \")\n",
    "str1 = \"\"\n",
    "\n",
    "for i in L1:\n",
    "    str1 = i + str1  \n",
    "print(\"Reverse Order :  \", str1)\n",
    "\n",
    "if(L1 == str1):\n",
    "   print(\"This is a Palindrome String\")\n",
    "else:\n",
    "   print(\"This is not Palindrome String\")"
   ]
  },
  {
   "cell_type": "code",
   "execution_count": 4,
   "id": "9e74b7c0-6ece-47ab-aca8-4c8f628791cb",
   "metadata": {},
   "outputs": [
    {
     "name": "stdin",
     "output_type": "stream",
     "text": [
      "Enter String :  pwskill\n"
     ]
    },
    {
     "data": {
      "text/plain": [
       "'PWSKILL'"
      ]
     },
     "execution_count": 4,
     "metadata": {},
     "output_type": "execute_result"
    }
   ],
   "source": [
    "'''3. Convert a string to uppercase.'''\n",
    "\n",
    "L1 = input(\"Enter String : \")\n",
    "str1 = \"\"\n",
    "L1.upper()"
   ]
  },
  {
   "cell_type": "code",
   "execution_count": 5,
   "id": "519e9e7e-cbdd-4ef0-8e11-1221f950e9a1",
   "metadata": {},
   "outputs": [
    {
     "name": "stdin",
     "output_type": "stream",
     "text": [
      "Enter String :  PWSKILL\n"
     ]
    },
    {
     "data": {
      "text/plain": [
       "'pwskill'"
      ]
     },
     "execution_count": 5,
     "metadata": {},
     "output_type": "execute_result"
    }
   ],
   "source": [
    "'''4. Convert a string to lowercase.'''\n",
    "\n",
    "L2 = input(\"Enter String : \")\n",
    "L2.lower()"
   ]
  },
  {
   "cell_type": "code",
   "execution_count": 6,
   "id": "779397c5-7e22-4076-9d66-818e5df78c71",
   "metadata": {},
   "outputs": [
    {
     "name": "stdin",
     "output_type": "stream",
     "text": [
      "enter string:  The pwskill is good course.\n"
     ]
    },
    {
     "name": "stdout",
     "output_type": "stream",
     "text": [
      "8\n"
     ]
    }
   ],
   "source": [
    "'''5. Count the number of vowels in a string.'''\n",
    "\n",
    "v = ['a', 'e', 'i', 'o', 'u']\n",
    "\n",
    "l1 = input(\"enter string: \")\n",
    "count = 0\n",
    "for i in l1:\n",
    "    if i in v:\n",
    "        count=count + 1\n",
    "        \n",
    "print(count)"
   ]
  },
  {
   "cell_type": "code",
   "execution_count": 7,
   "id": "06399a70-8b03-4576-8f20-203847e55fce",
   "metadata": {},
   "outputs": [
    {
     "name": "stdin",
     "output_type": "stream",
     "text": [
      "enter string:  The pwskill is good course.\n"
     ]
    },
    {
     "name": "stdout",
     "output_type": "stream",
     "text": [
      "14\n"
     ]
    }
   ],
   "source": [
    "'''6. Count the number of consonants in a string.'''\n",
    "\n",
    "v = ['a', 'e', 'i', 'o', 'u', 'A' , 'E', 'I', 'O', 'U']\n",
    "\n",
    "l1 = input(\"enter string: \")\n",
    "v_count = 0\n",
    "c_count = 0\n",
    "for i in l1:\n",
    "    if i in v:\n",
    "        v_count = v_count + 1\n",
    "    elif((i>='a' and i<='z') or (i>='A' and i<='Z')):\n",
    "            c_count = c_count + 1\n",
    "print(c_count)"
   ]
  },
  {
   "cell_type": "code",
   "execution_count": 8,
   "id": "a6cf8b72-ba5a-4949-8560-bfe1ecacedb4",
   "metadata": {},
   "outputs": [
    {
     "name": "stdin",
     "output_type": "stream",
     "text": [
      "Enter String :  The    pws  kill   is good co urse.\n"
     ]
    },
    {
     "data": {
      "text/plain": [
       "'Thepwskillisgoodcourse.'"
      ]
     },
     "execution_count": 8,
     "metadata": {},
     "output_type": "execute_result"
    }
   ],
   "source": [
    "'''7. Remove all whitespaces from a string.'''\n",
    "\n",
    "S1 = input(\"Enter String : \")\n",
    "S1.replace(\" \", \"\")"
   ]
  },
  {
   "cell_type": "code",
   "execution_count": 9,
   "id": "90da16e5-d2fb-4e68-8ee6-8571b535fd30",
   "metadata": {},
   "outputs": [
    {
     "name": "stdout",
     "output_type": "stream",
     "text": [
      "5\n"
     ]
    }
   ],
   "source": [
    "'''8. Find the length of a string without using the `len()` function.'''\n",
    "\n",
    "s1 = \"Hello\"\n",
    "count = 0\n",
    "for i in s1:\n",
    "    count=count + 1\n",
    "print(count)"
   ]
  },
  {
   "cell_type": "code",
   "execution_count": 10,
   "id": "6efca450-fd76-4f43-bcec-7e54b0afcdc2",
   "metadata": {},
   "outputs": [
    {
     "name": "stdout",
     "output_type": "stream",
     "text": [
      "yes\n"
     ]
    }
   ],
   "source": [
    "'''9. Check if a string contains a specific word.'''\n",
    "\n",
    "s1 = \"This is my first lecture of Data Science pro course\"\n",
    "word = \"Data\"\n",
    "if word in s1:\n",
    "    print('yes')"
   ]
  },
  {
   "cell_type": "code",
   "execution_count": 11,
   "id": "0acdde07-77bd-4214-bcfb-4fdd41c4d64b",
   "metadata": {},
   "outputs": [
    {
     "data": {
      "text/plain": [
       "'This is my second lecture of Data Science pro course'"
      ]
     },
     "execution_count": 11,
     "metadata": {},
     "output_type": "execute_result"
    }
   ],
   "source": [
    "'''10. Replace a word in a string with another word.'''\n",
    "\n",
    "s1 = \"This is my first lecture of Data Science pro course\"\n",
    "s1.replace(\"first\",\"second\")"
   ]
  },
  {
   "cell_type": "code",
   "execution_count": 12,
   "id": "92a99025-0168-49b1-85f6-d34f260a82ff",
   "metadata": {},
   "outputs": [
    {
     "data": {
      "text/plain": [
       "3"
      ]
     },
     "execution_count": 12,
     "metadata": {},
     "output_type": "execute_result"
    }
   ],
   "source": [
    "'''11. Count the occurrences of a word in a string.'''\n",
    "\n",
    "s1 = \"This is my first lecture of Data Science pro course and it is good.\"\n",
    "s1.count(\"is\")"
   ]
  },
  {
   "cell_type": "code",
   "execution_count": 13,
   "id": "b436b740-2fe5-432f-84da-17ee587453d5",
   "metadata": {},
   "outputs": [
    {
     "data": {
      "text/plain": [
       "2"
      ]
     },
     "execution_count": 13,
     "metadata": {},
     "output_type": "execute_result"
    }
   ],
   "source": [
    "'''12. Find the first occurrence of a word in a string.'''\n",
    "\n",
    "s1 = \"This is my first lecture of Data Science pro course and it is good.\"\n",
    "s1.find(\"is\")"
   ]
  },
  {
   "cell_type": "code",
   "execution_count": 14,
   "id": "36ede39f-2e51-4af8-8625-50df0faa707b",
   "metadata": {},
   "outputs": [
    {
     "data": {
      "text/plain": [
       "59"
      ]
     },
     "execution_count": 14,
     "metadata": {},
     "output_type": "execute_result"
    }
   ],
   "source": [
    "'''13. Find the last occurrence of a word in a string.'''\n",
    "\n",
    "s1 = \"This is my first lecture of Data Science pro course and it is good.\"\n",
    "s1.rfind(\"is\")"
   ]
  },
  {
   "cell_type": "code",
   "execution_count": 15,
   "id": "125136fe-0740-46c7-9278-6de92138196a",
   "metadata": {},
   "outputs": [
    {
     "data": {
      "text/plain": [
       "['This',\n",
       " 'is',\n",
       " 'my',\n",
       " 'first',\n",
       " 'lecture',\n",
       " 'of',\n",
       " 'Data',\n",
       " 'Science',\n",
       " 'pro',\n",
       " 'course',\n",
       " 'and',\n",
       " 'it',\n",
       " 'is',\n",
       " 'good.']"
      ]
     },
     "execution_count": 15,
     "metadata": {},
     "output_type": "execute_result"
    }
   ],
   "source": [
    "'''14. Split a string into a list of words.'''\n",
    "\n",
    "s1 = 'This is my first lecture of Data Science pro course and it is good.'\n",
    "s1.split()"
   ]
  },
  {
   "cell_type": "code",
   "execution_count": 16,
   "id": "323c7bd0-182e-4982-a3c0-d8c8ba71f95e",
   "metadata": {},
   "outputs": [
    {
     "data": {
      "text/plain": [
       "'This is my first lecture of Data Science pro course'"
      ]
     },
     "execution_count": 16,
     "metadata": {},
     "output_type": "execute_result"
    }
   ],
   "source": [
    "'''15. Join a list of words into a string.'''\n",
    "\n",
    "s1 = [\"This\",\"is\",\"my\",\"first\",\"lecture\",\"of\",\"Data\",\"Science\",\"pro\",\"course\"]\n",
    "\" \".join(s1)"
   ]
  },
  {
   "cell_type": "code",
   "execution_count": 17,
   "id": "c4dad331-2685-449d-83f9-175415bc1825",
   "metadata": {},
   "outputs": [
    {
     "data": {
      "text/plain": [
       "'This_is_my_first_lecture_of_Data_Science_pro_course_and_it_is_good.'"
      ]
     },
     "execution_count": 17,
     "metadata": {},
     "output_type": "execute_result"
    }
   ],
   "source": [
    "'''16. Convert a string where words are separated by spaces to one where words\n",
    "are separated by underscores.'''\n",
    "\n",
    "s1 = 'This is my first lecture of Data Science pro course and it is good.'\n",
    "s2 = s1.split()\n",
    "s3 = \"_\".join(s2)\n",
    "s3"
   ]
  },
  {
   "cell_type": "code",
   "execution_count": 18,
   "id": "f95feefa-9f58-4711-b1d7-904b27a2db1e",
   "metadata": {},
   "outputs": [
    {
     "data": {
      "text/plain": [
       "True"
      ]
     },
     "execution_count": 18,
     "metadata": {},
     "output_type": "execute_result"
    }
   ],
   "source": [
    "'''17. Check if a string starts with a specific word or phrase.'''\n",
    "\n",
    "s1 = 'This is my first lecture of Data Science pro course and it is good.'\n",
    "s1.startswith(\"This\")"
   ]
  },
  {
   "cell_type": "code",
   "execution_count": 19,
   "id": "11f26662-45eb-4343-bc9c-242e7a6e3f6f",
   "metadata": {},
   "outputs": [
    {
     "data": {
      "text/plain": [
       "False"
      ]
     },
     "execution_count": 19,
     "metadata": {},
     "output_type": "execute_result"
    }
   ],
   "source": [
    "'''18. Check if a string ends with a specific word or phrase.'''\n",
    "\n",
    "# Example 1\n",
    "s1 = 'This is my first lecture of Data Science pro course and it is good.'\n",
    "s1.endswith(\"This\")"
   ]
  },
  {
   "cell_type": "code",
   "execution_count": 20,
   "id": "d4b8f5f2-96dd-465c-a34f-eefad4a81fd5",
   "metadata": {},
   "outputs": [
    {
     "data": {
      "text/plain": [
       "True"
      ]
     },
     "execution_count": 20,
     "metadata": {},
     "output_type": "execute_result"
    }
   ],
   "source": [
    "# Example 2\n",
    "\n",
    "s2 = 'Hello india, How are you?'\n",
    "s2.endswith(\"?\")"
   ]
  },
  {
   "cell_type": "code",
   "execution_count": 21,
   "id": "31d77c1b-e7c9-449d-a0e7-ee62618886e6",
   "metadata": {},
   "outputs": [
    {
     "data": {
      "text/plain": [
       "' Hello World '"
      ]
     },
     "execution_count": 21,
     "metadata": {},
     "output_type": "execute_result"
    }
   ],
   "source": [
    "'''19. Convert a string to title case (e.g., \"hello world\" to \"Hello World\").'''\n",
    "\n",
    "S1 = \" hello world \"\n",
    "S1.title()"
   ]
  },
  {
   "cell_type": "code",
   "execution_count": 22,
   "id": "4b71f487-79bf-4e50-afe9-74e2723e7e11",
   "metadata": {},
   "outputs": [
    {
     "name": "stdout",
     "output_type": "stream",
     "text": [
      "lecture\n"
     ]
    }
   ],
   "source": [
    "'''20.Find the longest word in a string.'''\n",
    "\n",
    "s1 = 'This is my first lecture of Data Science pro course and it is good.'\n",
    "longest = max(s1.split() , key = len )\n",
    "print(longest)"
   ]
  },
  {
   "cell_type": "code",
   "execution_count": 23,
   "id": "4db43e72-bc1c-4a3c-ba84-27a27ed56fad",
   "metadata": {},
   "outputs": [
    {
     "name": "stdout",
     "output_type": "stream",
     "text": [
      "is\n"
     ]
    }
   ],
   "source": [
    "'''21. Find the shortest word in a string.'''\n",
    "\n",
    "s1 = 'This is my first lecture of Data Science pro course and it is good.'\n",
    "shortest = min(s1.split() , key = len )\n",
    "print(shortest)"
   ]
  },
  {
   "cell_type": "code",
   "execution_count": 24,
   "id": "a3e565ef-4e92-4264-9b73-338bf765e6af",
   "metadata": {},
   "outputs": [
    {
     "name": "stdout",
     "output_type": "stream",
     "text": [
      "good. is it and course pro Science Data of lecture first my is This\n"
     ]
    }
   ],
   "source": [
    "'''22.Reverse the order of words in a string.'''\n",
    "\n",
    "s1 = 'This is my first lecture of Data Science pro course and it is good.'\n",
    "s2 = s1.split()\n",
    "s2.reverse()\n",
    "print(\" \".join(s2))"
   ]
  },
  {
   "cell_type": "code",
   "execution_count": 25,
   "id": "37df64a1-a933-4ecd-ba1d-f54cf6cb27a3",
   "metadata": {},
   "outputs": [
    {
     "data": {
      "text/plain": [
       "True"
      ]
     },
     "execution_count": 25,
     "metadata": {},
     "output_type": "execute_result"
    }
   ],
   "source": [
    "'''23.Check if a string is alphanumeric.'''\n",
    "\n",
    "s1 = 'Hello12'\n",
    "s1.isalnum()"
   ]
  },
  {
   "cell_type": "code",
   "execution_count": 26,
   "id": "baccc09b-eb5e-48a7-9952-6294eb3d0a0e",
   "metadata": {},
   "outputs": [
    {
     "name": "stdout",
     "output_type": "stream",
     "text": [
      "18"
     ]
    }
   ],
   "source": [
    "'''24.Extract all digits from a string.'''\n",
    "\n",
    "s1 = 'i am 18 year old'\n",
    "for i in s1:\n",
    "    if i.isdigit():\n",
    "        print(i,end = \"\")"
   ]
  },
  {
   "cell_type": "code",
   "execution_count": 27,
   "id": "bd67c988-de06-4b1c-8071-ce53bdf1a6ec",
   "metadata": {},
   "outputs": [
    {
     "name": "stdout",
     "output_type": "stream",
     "text": [
      "iamyearold"
     ]
    }
   ],
   "source": [
    "'''25. Extract all alphabets from a string.'''\n",
    "\n",
    "s1 = 'i am 18 year old'\n",
    "for i in s1:\n",
    "    if i.isalpha():\n",
    "        print(i,end = \"\")"
   ]
  },
  {
   "cell_type": "code",
   "execution_count": 28,
   "id": "195fa9bd-da6f-4445-8e4a-c72d83be4507",
   "metadata": {},
   "outputs": [
    {
     "name": "stdout",
     "output_type": "stream",
     "text": [
      "8\n"
     ]
    }
   ],
   "source": [
    "'''26. Count the number of uppercase letters in a string.'''\n",
    "\n",
    "s1 = 'This Is My first Lecture of Data Science Pro course and It is good.'\n",
    "upper = 0\n",
    "for i in s1:\n",
    "    if i.isupper():\n",
    "        upper = upper + 1\n",
    "print(upper)"
   ]
  },
  {
   "cell_type": "code",
   "execution_count": 29,
   "id": "9c675532-726f-4a01-9420-11ff8bdae961",
   "metadata": {},
   "outputs": [
    {
     "name": "stdout",
     "output_type": "stream",
     "text": [
      "45\n"
     ]
    }
   ],
   "source": [
    "'''27. Count the number of lowercase letters in a string.'''\n",
    "\n",
    "s1 = 'This Is My first Lecture of Data Science Pro course and It is good.'\n",
    "lower = 0\n",
    "for i in s1:\n",
    "    if i.islower():\n",
    "        lower = lower + 1\n",
    "print(lower)"
   ]
  },
  {
   "cell_type": "code",
   "execution_count": 30,
   "id": "f5bb17be-2863-4719-9765-97d47d9e3202",
   "metadata": {},
   "outputs": [
    {
     "data": {
      "text/plain": [
       "'tHIS iS mY FIRST lECTURE OF dATA sCIENCE pRO COURSE AND iT IS GOOD.'"
      ]
     },
     "execution_count": 30,
     "metadata": {},
     "output_type": "execute_result"
    }
   ],
   "source": [
    "'''28.Swap the case of each character in a string.'''\n",
    "\n",
    "s1 = 'This Is My first Lecture of Data Science Pro course and It is good.'\n",
    "s1.swapcase()"
   ]
  },
  {
   "cell_type": "code",
   "execution_count": 31,
   "id": "d0d5191e-3263-4196-bfad-4a895d808a89",
   "metadata": {},
   "outputs": [
    {
     "name": "stdout",
     "output_type": "stream",
     "text": [
      "This Is My first Lecture of Data Science course and It is good.\n"
     ]
    }
   ],
   "source": [
    "'''29.Remove a specific word from a string.'''\n",
    "\n",
    "s1 = 'This Is My first Lecture of Data Science Pro course and It is good.'\n",
    "s2 = s1.split()\n",
    "s2.remove('Pro')\n",
    "print(\" \".join(s2))"
   ]
  },
  {
   "cell_type": "code",
   "execution_count": 32,
   "id": "67533c41-68e9-4426-b0b7-40659d5e936d",
   "metadata": {},
   "outputs": [
    {
     "name": "stdin",
     "output_type": "stream",
     "text": [
      "Enter your 1st email address: pwskill@gmail.com\n",
      "Enter your 2nd email address: pw@com\n"
     ]
    },
    {
     "name": "stdout",
     "output_type": "stream",
     "text": [
      "True\n",
      "False\n"
     ]
    }
   ],
   "source": [
    "'''30. Check if a string is a valid email address.'''\n",
    "\n",
    "import re\n",
    "def is_valid_email(email):\n",
    "    pattern = r'^[\\w\\.-]+@[\\w\\.-]+\\.\\w+$' \n",
    "    if re.match(pattern, email):\n",
    "        return True\n",
    "    else:\n",
    "        return False\n",
    "\n",
    "email1 = input(\"Enter your 1st email address:\")\n",
    "email2 = input(\"Enter your 2nd email address:\")\n",
    "result1 = is_valid_email(email1)\n",
    "result2 = is_valid_email(email2)\n",
    "print(result1)\n",
    "print(result2)"
   ]
  },
  {
   "cell_type": "code",
   "execution_count": 33,
   "id": "613fdfb1-dbcb-48b8-a357-dcd78f24e577",
   "metadata": {},
   "outputs": [
    {
     "name": "stdin",
     "output_type": "stream",
     "text": [
      "Enter your email address: pwskill@gmail.com\n"
     ]
    },
    {
     "name": "stdout",
     "output_type": "stream",
     "text": [
      "pwskill\n"
     ]
    }
   ],
   "source": [
    "'''31. Extract the username from an email address string.'''\n",
    "\n",
    "email = input(\"Enter your email address:\")\n",
    "username = email.split('@')[0]\n",
    "print(username)"
   ]
  },
  {
   "cell_type": "code",
   "execution_count": 34,
   "id": "be726852-0fca-449e-8f5a-6a928121283b",
   "metadata": {},
   "outputs": [
    {
     "name": "stdin",
     "output_type": "stream",
     "text": [
      "Enter your email address: pwskill@gmail.com\n"
     ]
    },
    {
     "name": "stdout",
     "output_type": "stream",
     "text": [
      "gmail.com\n"
     ]
    }
   ],
   "source": [
    "'''32. Extract the domain name from an email address string.'''\n",
    "\n",
    "email = input(\"Enter your email address:\")\n",
    "domainname = email.split('@')[1]\n",
    "print(domainname)"
   ]
  },
  {
   "cell_type": "code",
   "execution_count": 35,
   "id": "e3696a9e-49a0-4905-b86a-65d105beb730",
   "metadata": {},
   "outputs": [
    {
     "name": "stdin",
     "output_type": "stream",
     "text": [
      "Enter string: The    pwskill is   good    course.\n"
     ]
    },
    {
     "name": "stdout",
     "output_type": "stream",
     "text": [
      "The pwskill is good course.\n"
     ]
    }
   ],
   "source": [
    "'''33. Replace multiple spaces in a string with a single space.'''\n",
    "\n",
    "s1 = input(\"Enter string:\")\n",
    "s2 = s1.split()\n",
    "print(\" \".join(s2))"
   ]
  },
  {
   "cell_type": "code",
   "execution_count": 75,
   "id": "bc501949-15f4-42d0-a787-fe6e1c8c2d56",
   "metadata": {},
   "outputs": [
    {
     "name": "stdin",
     "output_type": "stream",
     "text": [
      "Enter your urls for validation: https://lab.pwskills.com/my-labs\n",
      "Enter your urls for validation: lab.pwskills/my-l\n"
     ]
    },
    {
     "name": "stdout",
     "output_type": "stream",
     "text": [
      "True\n",
      "False\n"
     ]
    }
   ],
   "source": [
    "'''34. Check if a string is a valid URL.'''\n",
    "\n",
    "import re\n",
    "def is_valid_url(url):\n",
    "    pattern = r\"(?i)\\b((?:https?://|www\\d{0,3}[.]|[a-z0-9.\\-]+[.][a-z]{2,4}/)(?:[^\\s()<>]+|\\(([^\\s()<>]+|(\\([^\\s()<>]+\\)))*\\))+(?:\\(([^\\s()<>]+|(\\([^\\s()<>]+\\)))*\\)|[^\\s`!()\\[\\]{};:'\\\".,<>?«»“”‘’]))\" \n",
    "    if re.match(pattern, url):\n",
    "        return True\n",
    "    else:\n",
    "        return False\n",
    "\n",
    "url1 = input(\"Enter your urls for validation:\")\n",
    "url2 = input(\"Enter your urls for validation:\")\n",
    "result1 = is_valid_url(url1)\n",
    "result2 = is_valid_url(url2)\n",
    "print(result1)\n",
    "print(result2)"
   ]
  },
  {
   "cell_type": "code",
   "execution_count": 37,
   "id": "cb7c0c75-565f-46a7-9b15-8236cbee0169",
   "metadata": {},
   "outputs": [
    {
     "name": "stdin",
     "output_type": "stream",
     "text": [
      "Enter your url: https://lab.pwskills.com/my-labs\n"
     ]
    },
    {
     "name": "stdout",
     "output_type": "stream",
     "text": [
      "https\n"
     ]
    }
   ],
   "source": [
    "'''35. Extract the protocol (http or https) from a URL string.'''\n",
    "\n",
    "url = input(\"Enter your url:\")\n",
    "protocol = url.split('://')[0]\n",
    "print(protocol)"
   ]
  },
  {
   "cell_type": "code",
   "execution_count": 38,
   "id": "490c5080-216c-4d5d-917e-714a9f511811",
   "metadata": {},
   "outputs": [
    {
     "name": "stdin",
     "output_type": "stream",
     "text": [
      "Enter string: The pwskill is good course.\n"
     ]
    },
    {
     "name": "stdout",
     "output_type": "stream",
     "text": [
      "{'T': 1, 'h': 1, 'e': 2, ' ': 4, 'p': 1, 'w': 1, 's': 3, 'k': 1, 'i': 2, 'l': 2, 'g': 1, 'o': 3, 'd': 1, 'c': 1, 'u': 1, 'r': 1, '.': 1}\n"
     ]
    }
   ],
   "source": [
    "'''36. Find the frequency of each character in a string.'''\n",
    "\n",
    "string = input(\"Enter string:\")\n",
    "\n",
    "frequency = {}\n",
    "for i in string:\n",
    "    if i in frequency:\n",
    "        frequency[i] += 1\n",
    "    else:\n",
    "        frequency[i] = 1\n",
    "print(str(frequency))"
   ]
  },
  {
   "cell_type": "code",
   "execution_count": 39,
   "id": "327db553-afbe-487f-bc4f-bbb4145274ea",
   "metadata": {},
   "outputs": [
    {
     "name": "stdin",
     "output_type": "stream",
     "text": [
      "Enter string: The pwskill, is good's course!!!.\n"
     ]
    },
    {
     "name": "stdout",
     "output_type": "stream",
     "text": [
      "The pwskill is goods course\n"
     ]
    }
   ],
   "source": [
    "'''37. Remove all punctuation from a string.'''\n",
    "\n",
    "import string\n",
    "\n",
    "def remove_punctuation(input_string):\n",
    "    no_punct = \"\"\n",
    "    for char in input_string:\n",
    "        if char not in string.punctuation:\n",
    "            no_punct += char\n",
    "    return no_punct\n",
    "\n",
    "string1 = input(\"Enter string:\")\n",
    "print(remove_punctuation(string1))"
   ]
  },
  {
   "cell_type": "code",
   "execution_count": 40,
   "id": "a8184ce7-41af-4ef2-b280-3c3e2586a059",
   "metadata": {},
   "outputs": [
    {
     "name": "stdin",
     "output_type": "stream",
     "text": [
      "Enter string1: pwskill123\n",
      "Enter string2: 345\n"
     ]
    },
    {
     "name": "stdout",
     "output_type": "stream",
     "text": [
      "Contains only digits False\n",
      "Contains only digits True\n"
     ]
    }
   ],
   "source": [
    "'''38. Check if a string contains only digits.'''\n",
    "    \n",
    "def string_digit(string):\n",
    "    \n",
    "    return string.isdigit()\n",
    "\n",
    "string1 = input(\"Enter string1:\")\n",
    "string2 = input(\"Enter string2:\")\n",
    "result1 = string_digit(string1)\n",
    "result2 = string_digit(string2)\n",
    "print(\"Contains only digits\",result1)\n",
    "print(\"Contains only digits\",result2)"
   ]
  },
  {
   "cell_type": "code",
   "execution_count": 41,
   "id": "a76db16c-c72f-4c28-89cf-1f28c56ea096",
   "metadata": {},
   "outputs": [
    {
     "name": "stdin",
     "output_type": "stream",
     "text": [
      "Enter string1: pwskill\n",
      "Enter string2: pw123\n",
      "Enter string3: 23\n"
     ]
    },
    {
     "name": "stdout",
     "output_type": "stream",
     "text": [
      "The string contains only alphabets! True\n",
      "The string contains only alphabets! False\n",
      "The string contains only alphabets! False\n"
     ]
    }
   ],
   "source": [
    "'''39. Check if a string contains only alphabets.'''\n",
    "\n",
    "    \n",
    "def string_alpha(string):\n",
    "    \n",
    "    return string.isalpha()\n",
    "\n",
    "string1 = input(\"Enter string1:\")\n",
    "string2 = input(\"Enter string2:\")\n",
    "string3 = input(\"Enter string3:\")\n",
    "result1 = string_alpha(string1)\n",
    "result2 = string_alpha(string2)\n",
    "result3 = string_alpha(string3)\n",
    "print(\"The string contains only alphabets!\",result1)\n",
    "print(\"The string contains only alphabets!\",result2)\n",
    "print(\"The string contains only alphabets!\",result3)"
   ]
  },
  {
   "cell_type": "code",
   "execution_count": 42,
   "id": "dd3555e3-2ecd-4667-a4b0-c335d5209c6f",
   "metadata": {},
   "outputs": [
    {
     "name": "stdin",
     "output_type": "stream",
     "text": [
      "Enter string: The pwskill is good course.\n"
     ]
    },
    {
     "name": "stdout",
     "output_type": "stream",
     "text": [
      "['T', 'h', 'e', ' ', 'p', 'w', 's', 'k', 'i', 'l', 'l', ' ', 'i', 's', ' ', 'g', 'o', 'o', 'd', ' ', 'c', 'o', 'u', 'r', 's', 'e', '.']\n"
     ]
    }
   ],
   "source": [
    "'''40. Convert a string to a list of characters.'''\n",
    "\n",
    "string = input(\"Enter string:\")\n",
    "list = []\n",
    " \n",
    "for i in string:\n",
    "    list.append(i)\n",
    "print(list)"
   ]
  },
  {
   "cell_type": "code",
   "execution_count": 43,
   "id": "691fab6d-57e9-4201-9296-c503d87365cc",
   "metadata": {},
   "outputs": [
    {
     "name": "stdout",
     "output_type": "stream",
     "text": [
      "'hello' and 'india' are anagrams: False\n",
      "'state' and 'taste' are anagrams: True\n"
     ]
    }
   ],
   "source": [
    "'''41.Check if two strings are anagrams.'''\n",
    "\n",
    "def anagrams(str1, str2):\n",
    "    str1 = str1.lower()\n",
    "    str2 = str2.lower()\n",
    "    return sorted(str1) == sorted(str2)\n",
    "\n",
    "string1 = \"hello\"\n",
    "string2 = \"india\"\n",
    "string3 = \"state\"\n",
    "string4 = \"taste\"\n",
    "\n",
    "result1 = anagrams(string1, string2)\n",
    "result2 = anagrams(string3, string4)\n",
    "\n",
    "print(f\"'{string1}' and '{string2}' are anagrams:\",result1)\n",
    "print(f\"'{string3}' and '{string4}' are anagrams:\",result2)"
   ]
  },
  {
   "cell_type": "code",
   "execution_count": 44,
   "id": "4f7e97b6-2da3-4c0e-af41-9bf95598bccc",
   "metadata": {},
   "outputs": [
    {
     "name": "stdin",
     "output_type": "stream",
     "text": [
      "Enter text: Hello\n",
      "Enter number for shift: 3\n"
     ]
    },
    {
     "name": "stdout",
     "output_type": "stream",
     "text": [
      "Cipher: Khoor\n"
     ]
    }
   ],
   "source": [
    "'''42.Encode a string using a Caesar cipher.'''\n",
    "\n",
    "def encrypt(text,s):\n",
    "    result = \"\"\n",
    "    for i in range(len(text)):\n",
    "        char = text[i]\n",
    "        if (char.isupper()):\n",
    "            result += chr((ord(char) + s - 65) % 26 + 65)\n",
    "        else:\n",
    "            result += chr((ord(char) + s - 97) % 26 + 97)\n",
    "    return result\n",
    "text = input(\"Enter text:\")\n",
    "s = int(input(\"Enter number for shift:\"))\n",
    "print (\"Cipher: \" + encrypt(text,s))                                "
   ]
  },
  {
   "cell_type": "code",
   "execution_count": 45,
   "id": "ee0739ce-1a6d-4cd2-8b5f-a50b73d73de6",
   "metadata": {},
   "outputs": [
    {
     "name": "stdin",
     "output_type": "stream",
     "text": [
      "Enter text: Khoor\n",
      "Enter number for shift: 3\n"
     ]
    },
    {
     "name": "stdout",
     "output_type": "stream",
     "text": [
      "Cipher: Hello\n"
     ]
    }
   ],
   "source": [
    "'''44. Find the most frequent word in a string.'''\n",
    "\n",
    "def decrypt(text,s):\n",
    "    result = \"\"\n",
    "    for i in range(len(text)):\n",
    "        char = text[i]\n",
    "        if (char.isupper()):\n",
    "            result += chr((ord(char) - s - 65) % 26 + 65)\n",
    "        else:\n",
    "            result += chr((ord(char) - s - 97) % 26 + 97)\n",
    "    return result\n",
    "text = input(\"Enter text:\")\n",
    "s = int(input(\"Enter number for shift:\"))\n",
    "print (\"Cipher: \" + decrypt(text,s))"
   ]
  },
  {
   "cell_type": "code",
   "execution_count": 46,
   "id": "8acbfcf4-9b13-43de-8de6-43db66d274ab",
   "metadata": {},
   "outputs": [
    {
     "name": "stdin",
     "output_type": "stream",
     "text": [
      "Enter string: Hello world Hello india and hello evryone\n"
     ]
    },
    {
     "name": "stdout",
     "output_type": "stream",
     "text": [
      "Hello\n"
     ]
    }
   ],
   "source": [
    "'''44. Find the most frequent word in a string.'''\n",
    "\n",
    "import re\n",
    "from collections import Counter\n",
    "string = input(\"Enter string:\")\n",
    "words = string.split()\n",
    "counter = Counter(words)\n",
    "max_word = counter.most_common(1)[0][0]\n",
    "\n",
    "print(max_word)"
   ]
  },
  {
   "cell_type": "code",
   "execution_count": 47,
   "id": "85da6f5d-77ba-4903-8aea-c4eb0af69603",
   "metadata": {},
   "outputs": [
    {
     "name": "stdin",
     "output_type": "stream",
     "text": [
      "Enter string: Hello world! how are you?\n"
     ]
    },
    {
     "name": "stdout",
     "output_type": "stream",
     "text": [
      "{'hello', 'world', 'you', 'how', 'are'}\n"
     ]
    }
   ],
   "source": [
    "'''45.Find all unique words in string.'''\n",
    "\n",
    "import re\n",
    "def unique_words(string):\n",
    "    clean_string = re.sub(r'[^\\w\\s]', '',string).lower()\n",
    "    words = set(clean_string.split())\n",
    "    return(words)\n",
    "\n",
    "string = input(\"Enter string:\")\n",
    "unique_word = unique_words(string)\n",
    "print(unique_word)"
   ]
  },
  {
   "cell_type": "code",
   "execution_count": 48,
   "id": "ceba706e-9bea-4d54-96ee-34f9f0c2100a",
   "metadata": {},
   "outputs": [
    {
     "name": "stdin",
     "output_type": "stream",
     "text": [
      "Enter words1: hello\n",
      "Enter words2: banana\n",
      "Enter words3: syllables\n"
     ]
    },
    {
     "name": "stdout",
     "output_type": "stream",
     "text": [
      "'hello' has 2 syllables:\n",
      "'banana' has 3 syllables:\n",
      "'syllables' has 2 syllables:\n"
     ]
    }
   ],
   "source": [
    "'''46.Count the number of syllables in a string.'''\n",
    "\n",
    "import re\n",
    "def count_syllables(words):\n",
    "    vowel= re.findall(r'[aeiou]+', words, re.IGNORECASE)\n",
    "    return len(vowel)\n",
    "\n",
    "words1 = input(\"Enter words1:\")\n",
    "words2 = input(\"Enter words2:\")\n",
    "words3 = input(\"Enter words3:\")\n",
    "\n",
    "syllables1 = count_syllables(words1)\n",
    "syllables2 = count_syllables(words2)\n",
    "syllables3 = count_syllables(words3)\n",
    "\n",
    "print(f\"'{words1}' has {syllables1} syllables:\")\n",
    "print(f\"'{words2}' has {syllables2} syllables:\")\n",
    "print(f\"'{words3}' has {syllables3} syllables:\")"
   ]
  },
  {
   "cell_type": "code",
   "execution_count": 49,
   "id": "5a2d1ca4-1f5e-4e97-8835-67995a7ce2f8",
   "metadata": {},
   "outputs": [
    {
     "name": "stdin",
     "output_type": "stream",
     "text": [
      "Enter your string1: pwskill@gamil.com\n",
      "Enter your string2: pwskill123\n"
     ]
    },
    {
     "name": "stdout",
     "output_type": "stream",
     "text": [
      "True\n",
      "False\n"
     ]
    }
   ],
   "source": [
    "'''47.Check if a stirng contains special any characters.'''\n",
    "\n",
    "import re\n",
    "def special_char(string):\n",
    "    pattern = re.compile(r'[!@#$%^&*()_+{}\\[\\]:;<>,.?~\\\\/]') \n",
    "    match = pattern.search(string)\n",
    "    return bool(match)\n",
    "\n",
    "string1 = input(\"Enter your string1:\")\n",
    "string2 = input(\"Enter your string2:\")\n",
    "result1 = special_char(string1)\n",
    "result2 = special_char(string2)\n",
    "print(result1)\n",
    "print(result2)"
   ]
  },
  {
   "cell_type": "code",
   "execution_count": 50,
   "id": "a527086c-9d43-40c4-9abe-27b5192dd8e7",
   "metadata": {},
   "outputs": [
    {
     "name": "stdin",
     "output_type": "stream",
     "text": [
      "Enter your string: The pwskill is good course.\n"
     ]
    },
    {
     "name": "stdout",
     "output_type": "stream",
     "text": [
      "Modified string: The pwskill is course.\n",
      "removed word: good\n"
     ]
    }
   ],
   "source": [
    "'''48.Remove the nth word from a string.'''\n",
    "\n",
    "def remove_nth_word(string, n):\n",
    "    words=string.split()\n",
    "    if n>=1 and n<=len(words):\n",
    "        removed_word=words.pop(n-1)\n",
    "        \n",
    "        modified_string=' '.join(words)\n",
    "        \n",
    "        return modified_string, removed_word\n",
    "    else:\n",
    "        return None, None\n",
    "string = input(\"Enter your string:\")\n",
    "n = 4\n",
    "\n",
    "modified_string, removed_word = remove_nth_word(string, n)\n",
    "if modified_string is not None:\n",
    "        print(\"Modified string:\", modified_string)\n",
    "        print(\"removed word:\", removed_word)\n",
    "else:\n",
    "        print(\"invalid number:\")"
   ]
  },
  {
   "cell_type": "code",
   "execution_count": 74,
   "id": "23a768d0-0338-44f3-83f1-2ac00d542c09",
   "metadata": {},
   "outputs": [
    {
     "name": "stdin",
     "output_type": "stream",
     "text": [
      "Enter your string: The pwskill is course.\n",
      "Enter word to insert: good\n"
     ]
    },
    {
     "name": "stdout",
     "output_type": "stream",
     "text": [
      "Modified string: The pwskill is good course.\n"
     ]
    }
   ],
   "source": [
    "'''49.Insert a word at nth position in string.'''\n",
    "\n",
    "def insert_nth_word(string, insertword, n):\n",
    "    words=string.split()\n",
    "    if n>=1 and n<=len(words):\n",
    "        words.insert(n-1, insertword)\n",
    "        \n",
    "        modified_string=' '.join(words)\n",
    "        \n",
    "        return modified_string\n",
    "    else:\n",
    "        return None, None\n",
    "string = input(\"Enter your string:\")\n",
    "insertword = input(\"Enter word to insert:\")\n",
    "n = 4\n",
    "\n",
    "modified_string = insert_nth_word(string, insertword, n)\n",
    "if modified_string is not None:\n",
    "    print(\"Modified string:\", modified_string)\n",
    "else:\n",
    "    print(\"invalid number:\")"
   ]
  },
  {
   "cell_type": "code",
   "execution_count": 52,
   "id": "f8021333-809d-4fab-ac45-2c9fef6e718d",
   "metadata": {},
   "outputs": [
    {
     "name": "stdout",
     "output_type": "stream",
     "text": [
      "['Rank', 'Name', 'Marks']\n",
      "['1', 'ABC', '98']\n",
      "['2', 'PQR', '96']\n",
      "['3', 'XYZ', '92']\n"
     ]
    }
   ],
   "source": [
    "'''convert a CSV string to a list of lists.'''\n",
    "\n",
    "def csv_str_to_list(csv_string):\n",
    "    \n",
    "    string = csv_string.split('\\n')\n",
    "    \n",
    "    result = [ ]\n",
    "    \n",
    "    for i in string:\n",
    "        \n",
    "        words=i.split(',')\n",
    "        \n",
    "        result.append(words)\n",
    "        \n",
    "    return result\n",
    "\n",
    "csv_string = \"Rank,Name,Marks\\n1,ABC,98\\n2,PQR,96\\n3,XYZ,92\"\n",
    "\n",
    "list_of_lists = csv_str_to_list(csv_string)\n",
    "\n",
    "for j in list_of_lists:\n",
    "    \n",
    "    print(j)"
   ]
  },
  {
   "cell_type": "code",
   "execution_count": 53,
   "id": "be769630-5d13-4238-92f1-5da969d74768",
   "metadata": {},
   "outputs": [
    {
     "data": {
      "text/plain": [
       "'List Based Practice Problem'"
      ]
     },
     "execution_count": 53,
     "metadata": {},
     "output_type": "execute_result"
    }
   ],
   "source": [
    "'''List Based Practice Problem'''"
   ]
  },
  {
   "cell_type": "code",
   "execution_count": 54,
   "id": "d9970344-ed97-4358-8b55-873361f890fb",
   "metadata": {},
   "outputs": [
    {
     "name": "stdout",
     "output_type": "stream",
     "text": [
      "[1, 2, 3, 4, 5, 6, 7, 8, 9, 10]\n"
     ]
    }
   ],
   "source": [
    "'''1. Create a list with integers from 1 to 10.'''\n",
    "\n",
    "list = [ i for i in range(1,11)]\n",
    "print(list)"
   ]
  },
  {
   "cell_type": "code",
   "execution_count": 55,
   "id": "659790c8-7f51-4a1f-b99e-afd2a8384877",
   "metadata": {},
   "outputs": [
    {
     "name": "stdout",
     "output_type": "stream",
     "text": [
      "5\n"
     ]
    }
   ],
   "source": [
    "'''2. Find the length of a list without using the `len()` function.'''\n",
    "\n",
    "def list_len(list):\n",
    "    count=0\n",
    "    for i in list:\n",
    "        count += 1\n",
    "    return count\n",
    "    \n",
    "list1 = [5,12,35,56,34]\n",
    "length = list_len(list1)\n",
    "print(length)"
   ]
  },
  {
   "cell_type": "code",
   "execution_count": 56,
   "id": "0dcdf3d5-3fa0-4d78-9bd1-e8d89abce982",
   "metadata": {},
   "outputs": [
    {
     "data": {
      "text/plain": [
       "[10, 20, 30, 40, 50]"
      ]
     },
     "execution_count": 56,
     "metadata": {},
     "output_type": "execute_result"
    }
   ],
   "source": [
    "'''3. Append an element to the end of a list.'''\n",
    "\n",
    "list = [10,20,30,40]\n",
    "list.append(50)\n",
    "list"
   ]
  },
  {
   "cell_type": "code",
   "execution_count": 57,
   "id": "27ac0dcb-3fc3-46b9-8c39-260d98068dc3",
   "metadata": {},
   "outputs": [
    {
     "data": {
      "text/plain": [
       "[10, 20, 30, 40, 50, 'Abc', 60, 70]"
      ]
     },
     "execution_count": 57,
     "metadata": {},
     "output_type": "execute_result"
    }
   ],
   "source": [
    "'''4. Insert an element at a specific index in a list.'''\n",
    "\n",
    "list = [10,20,30,50,\"Abc\",60,70]\n",
    "list.insert(3,40)\n",
    "list"
   ]
  },
  {
   "cell_type": "code",
   "execution_count": 58,
   "id": "35467642-6129-4b1d-bf2f-0184ed229fa6",
   "metadata": {},
   "outputs": [
    {
     "data": {
      "text/plain": [
       "[10, 20, 30, 50, 60, 70]"
      ]
     },
     "execution_count": 58,
     "metadata": {},
     "output_type": "execute_result"
    }
   ],
   "source": [
    "'''5. Remove an element from a list by its value.'''\n",
    "\n",
    "list = [10,20,30,50,\"Abc\",60,70]\n",
    "list.remove(\"Abc\")\n",
    "list"
   ]
  },
  {
   "cell_type": "code",
   "execution_count": 59,
   "id": "404b5d36-1fc6-43b3-be39-667f6579bd4b",
   "metadata": {},
   "outputs": [
    {
     "data": {
      "text/plain": [
       "[10, 20, 30, 50, 'Abc', 70]"
      ]
     },
     "execution_count": 59,
     "metadata": {},
     "output_type": "execute_result"
    }
   ],
   "source": [
    "'''6. Remove an element from a list by its index.'''\n",
    "\n",
    "list = [10,20,30,50,\"Abc\",60,70]\n",
    "list.pop(5)\n",
    "list"
   ]
  },
  {
   "cell_type": "code",
   "execution_count": 60,
   "id": "26319aae-a763-48b2-a335-29cf2096f582",
   "metadata": {},
   "outputs": [
    {
     "name": "stdout",
     "output_type": "stream",
     "text": [
      "Yes\n"
     ]
    }
   ],
   "source": [
    "'''7. Check if an element exists in a list.'''\n",
    "\n",
    "list = [10,20,30,40,50,60]  \n",
    "i = 20\n",
    "if i in list:\n",
    "    print(\"Yes\")\n",
    "else:\n",
    "    print(\"No\")"
   ]
  },
  {
   "cell_type": "code",
   "execution_count": 61,
   "id": "c6f86d64-dd01-4906-919c-551056b1a772",
   "metadata": {},
   "outputs": [
    {
     "name": "stdout",
     "output_type": "stream",
     "text": [
      "20 is at index of 1\n"
     ]
    }
   ],
   "source": [
    "'''8. Find the index of the first occurrence of an element in a list.'''\n",
    "\n",
    "list = [10,20,30,40,20,50,60]\n",
    "\n",
    "i = 20\n",
    "if i in list:\n",
    "    index = list.index(i)\n",
    "    print(f\"{i} is at index of {index}\")\n",
    "else:\n",
    "    print(\"Number is not in list\")"
   ]
  },
  {
   "cell_type": "code",
   "execution_count": 62,
   "id": "7c310b26-6a4f-4e2e-a9c2-6a9167b034aa",
   "metadata": {},
   "outputs": [
    {
     "name": "stdout",
     "output_type": "stream",
     "text": [
      "30 is occurrence in list 3 time\n"
     ]
    }
   ],
   "source": [
    "'''9. Count the occurrences of an element in a list.'''\n",
    "\n",
    "list = [10,20,30,40,30,50,20,60,30,70]\n",
    "\n",
    "num = 30\n",
    "count = list.count(30)\n",
    "print(f\"{num} is occurrence in list {count} time\")"
   ]
  },
  {
   "cell_type": "code",
   "execution_count": 63,
   "id": "098b380a-8abf-46ab-b27b-df123aadb9de",
   "metadata": {},
   "outputs": [
    {
     "name": "stdout",
     "output_type": "stream",
     "text": [
      "[70, 60, 50, 40, 30, 20, 10]\n"
     ]
    }
   ],
   "source": [
    "'''10. Reverse the order of elements in a list.'''\n",
    "\n",
    "list = [10,20,30,40,50,60,70]\n",
    "\n",
    "list.reverse()\n",
    "print(list)"
   ]
  },
  {
   "cell_type": "code",
   "execution_count": 64,
   "id": "ecca763c-9dfd-494a-a8fd-33e47fbd10ba",
   "metadata": {},
   "outputs": [
    {
     "name": "stdout",
     "output_type": "stream",
     "text": [
      "[10, 20, 30, 40, 50, 60, 70]\n"
     ]
    }
   ],
   "source": [
    "'''11. Sort a list in ascending order.'''\n",
    "\n",
    "list = [40,10,50,30,70,60,20]\n",
    "list.sort()\n",
    "print(list)\n"
   ]
  },
  {
   "cell_type": "code",
   "execution_count": 65,
   "id": "df25222e-0c68-43df-b54e-a2358007554b",
   "metadata": {},
   "outputs": [
    {
     "name": "stdout",
     "output_type": "stream",
     "text": [
      "[70, 60, 50, 40, 30, 20, 10]\n"
     ]
    }
   ],
   "source": [
    "'''12. Sort a list in descending order.'''\n",
    "\n",
    "list = [40,10,50,30,70,60,20]\n",
    "list.sort(reverse=True)\n",
    "print(list)"
   ]
  },
  {
   "cell_type": "code",
   "execution_count": 66,
   "id": "9c9a03ee-d531-4337-893b-d4f9110519b1",
   "metadata": {},
   "outputs": [
    {
     "name": "stdout",
     "output_type": "stream",
     "text": [
      "[2, 4, 6, 8, 10, 12, 14, 16, 18, 20]\n"
     ]
    }
   ],
   "source": [
    "'''13. Create a list of even numbers from 1 to 20.'''\n",
    "\n",
    "list = [ i for i in range(2,21,2)]\n",
    "print(list)"
   ]
  },
  {
   "cell_type": "code",
   "execution_count": 67,
   "id": "3f6419ba-61ef-4943-9531-f11bf7e9b095",
   "metadata": {},
   "outputs": [
    {
     "name": "stdout",
     "output_type": "stream",
     "text": [
      "[1, 3, 5, 7, 9, 11, 13, 15, 17, 19]\n"
     ]
    }
   ],
   "source": [
    "'''14. Create a list of odd numbers from 1 to 20.'''\n",
    "\n",
    "list = [ i for i in range(1,20,2)]\n",
    "print(list)"
   ]
  },
  {
   "cell_type": "code",
   "execution_count": 68,
   "id": "d3673716-db91-40ad-b9c6-d63f8cd464c7",
   "metadata": {},
   "outputs": [
    {
     "name": "stdout",
     "output_type": "stream",
     "text": [
      "36\n"
     ]
    }
   ],
   "source": [
    "'''15. Find the sum of all elements in a list.'''\n",
    "\n",
    "list = [1,2,3,4,5,6,7,8]\n",
    "sum = 0\n",
    "for i in list:\n",
    "    sum = sum+i \n",
    "print(sum)"
   ]
  },
  {
   "cell_type": "code",
   "execution_count": 69,
   "id": "086d1289-b307-43cb-839a-9681e158d611",
   "metadata": {},
   "outputs": [
    {
     "data": {
      "text/plain": [
       "70"
      ]
     },
     "execution_count": 69,
     "metadata": {},
     "output_type": "execute_result"
    }
   ],
   "source": [
    "'''16. Find the maximum value in a list.'''\n",
    "\n",
    "list = [40,10,50,30,70,60,20]\n",
    "max(list)\n"
   ]
  },
  {
   "cell_type": "code",
   "execution_count": 70,
   "id": "70c19603-df0f-431f-a5e1-f5b7e29493c5",
   "metadata": {},
   "outputs": [
    {
     "data": {
      "text/plain": [
       "10"
      ]
     },
     "execution_count": 70,
     "metadata": {},
     "output_type": "execute_result"
    }
   ],
   "source": [
    "'''17. Find the minimum value in a list.'''\n",
    "\n",
    "list = [40,10,50,30,70,60,20]\n",
    "min(list)"
   ]
  },
  {
   "cell_type": "code",
   "execution_count": 71,
   "id": "8ddf36ae-e1fc-406a-b790-3ea92409ccaa",
   "metadata": {},
   "outputs": [
    {
     "name": "stdout",
     "output_type": "stream",
     "text": [
      "[1, 4, 9, 16, 25, 36, 49, 64, 81, 100]\n"
     ]
    }
   ],
   "source": [
    "'''18. Create a list of squares of numbers from 1 to 10.'''\n",
    "\n",
    "square = []\n",
    "for i in range(1,11):\n",
    "    square.append(i**2)\n",
    "print(square)"
   ]
  },
  {
   "cell_type": "code",
   "execution_count": 72,
   "id": "2dcae323-47ef-427d-ab11-b8485166adb3",
   "metadata": {},
   "outputs": [
    {
     "name": "stdout",
     "output_type": "stream",
     "text": [
      "[23, 72, 32, 65, 81, 42, 38, 54, 1, 39, 97, 62, 87, 25, 31, 49, 90, 36, 13, 21, 27, 80, 38, 64, 72, 44, 30, 21, 44, 64, 9, 42, 8, 29, 57, 20, 4, 36, 91, 45, 32, 1, 5, 52, 36, 39, 16, 63, 100, 31, 8, 54, 31, 58, 86, 36, 58, 51, 51, 96, 49, 9, 95, 86, 26, 72, 16, 26, 43, 26, 55, 77, 23, 10, 71, 34, 86, 10, 18, 90, 78, 66, 10, 38, 93, 44, 92, 91, 65, 70, 31, 48, 20, 72, 85, 58, 27, 38, 9, 64, 69, 73, 27, 22, 67, 52, 66, 37, 94, 20, 72, 25, 23, 7, 19, 39, 46, 9, 38, 21, 42, 9, 92, 88, 93, 89, 10, 78, 9, 99, 66, 99, 11, 54, 70, 15, 14, 57, 11, 65, 70, 87, 63, 18, 27, 13, 2, 29, 12, 49, 32, 43, 26, 43, 54, 34, 24, 10, 79, 9, 34, 60, 26, 74, 59, 6, 25, 99, 75, 23, 4, 98, 48, 44, 24, 64, 3, 40, 45, 44, 25, 71, 27, 24, 13, 6, 59, 30, 10, 72, 38, 95, 62, 54, 30, 71, 20, 38, 18, 71]\n"
     ]
    }
   ],
   "source": [
    "'''19. Create a list of random numbers.'''\n",
    "\n",
    "import random\n",
    "\n",
    "n=200\n",
    "random_list = []\n",
    "for i in range(n):\n",
    "    random_list.append(random.randint(1,100))\n",
    "print(random_list)"
   ]
  },
  {
   "cell_type": "code",
   "execution_count": 6,
   "id": "d30c17f9-980e-4bcb-924d-d7e0f165f3c7",
   "metadata": {},
   "outputs": [
    {
     "name": "stdout",
     "output_type": "stream",
     "text": [
      "[70, 40, 10, 50, 20, 60, 30]\n"
     ]
    }
   ],
   "source": [
    "'''20. Remove duplicates from a list.'''\n",
    "\n",
    "my_list = [10, 20, 30, 30, 40, 50, 60, 70]\n",
    "\n",
    "unique_set = list(set(my_list))\n",
    "\n",
    "print(unique_set)"
   ]
  },
  {
   "cell_type": "code",
   "execution_count": 7,
   "id": "380562d9-1a92-48d3-8613-0fbc6142adf3",
   "metadata": {},
   "outputs": [
    {
     "name": "stdout",
     "output_type": "stream",
     "text": [
      "[4, 5]\n"
     ]
    }
   ],
   "source": [
    "'''21. Find the common elements between two lists.'''\n",
    "\n",
    "def common(a,b):\n",
    "    a = set(a)\n",
    "    b = set(b)\n",
    "    if (a & b):\n",
    "        print(list(a & b))\n",
    "    else:\n",
    "        print(\"No common numbers\")\n",
    "\n",
    "a = [1,2,3,4,5]\n",
    "b = [4,5,6,7,8]\n",
    "\n",
    "common(a,b)"
   ]
  },
  {
   "cell_type": "code",
   "execution_count": 8,
   "id": "e29d9714-04ec-49ba-858d-d9d6cf9fbf8c",
   "metadata": {},
   "outputs": [
    {
     "name": "stdout",
     "output_type": "stream",
     "text": [
      "[1, 2, 3, 4, 5]\n"
     ]
    }
   ],
   "source": [
    "'''22. Find the difference between two lists.'''\n",
    "\n",
    "list1 = [1,2,3,4,5]\n",
    "list2 = [6,7,8,9]\n",
    "\n",
    "difference = list(set(list1).difference(list2))\n",
    "print(difference)"
   ]
  },
  {
   "cell_type": "code",
   "execution_count": 79,
   "id": "71102a86-cc1c-40cf-b78a-264d11e95498",
   "metadata": {},
   "outputs": [
    {
     "name": "stdout",
     "output_type": "stream",
     "text": [
      "[1, 2, 3, 4, 5, 6, 7, 8, 9]\n"
     ]
    }
   ],
   "source": [
    "'''23. Merge two lists.'''\n",
    "\n",
    "list1 = [1,2,3,4,5]\n",
    "list2 = [6,7,8,9]\n",
    "\n",
    "list3 = list1 + list2\n",
    "print(list3)"
   ]
  },
  {
   "cell_type": "code",
   "execution_count": 80,
   "id": "719ba880-aa3e-473a-bf0c-3ffa50de1247",
   "metadata": {},
   "outputs": [
    {
     "name": "stdout",
     "output_type": "stream",
     "text": [
      "[2, 4, 6, 8, 10]\n"
     ]
    }
   ],
   "source": [
    "'''24.Multiply all elements in a list by 2.'''\n",
    "\n",
    "list = [1,2,3,4,5]\n",
    "list2 = []\n",
    "for i in list:\n",
    "    list2.append(i * 2) \n",
    "print(list2)"
   ]
  },
  {
   "cell_type": "code",
   "execution_count": 81,
   "id": "8ddfb31c-a047-4c3b-aade-a22228a5c452",
   "metadata": {},
   "outputs": [
    {
     "name": "stdout",
     "output_type": "stream",
     "text": [
      "Even numbers list: [2, 4, 6, 8, 10]\n"
     ]
    }
   ],
   "source": [
    "'''25. Filter out all even numbers from a list.'''\n",
    "\n",
    "list = [1,2,3,4,5,6,7,8,9,10]\n",
    "list2 = []\n",
    "for i in list:\n",
    "    if i%2==0: \n",
    "        list2.append(i)\n",
    "print(\"Even numbers list:\", list2)"
   ]
  },
  {
   "cell_type": "code",
   "execution_count": 82,
   "id": "2ddba569-7f58-4a56-905d-83a84860ef15",
   "metadata": {},
   "outputs": [
    {
     "name": "stdout",
     "output_type": "stream",
     "text": [
      "[10, 20, 30, 40]\n"
     ]
    }
   ],
   "source": [
    "'''26. Convert a list of strings to a list of integers.'''\n",
    "\n",
    "string_list = [\"10\",\"20\",\"30\",\"40\"]\n",
    "\n",
    "integer_list = [int(i)for i in string_list]\n",
    "    \n",
    "print(integer_list)"
   ]
  },
  {
   "cell_type": "code",
   "execution_count": 83,
   "id": "73b1453f-83d9-4ee4-9809-12fa8862d765",
   "metadata": {},
   "outputs": [
    {
     "name": "stdout",
     "output_type": "stream",
     "text": [
      "['10', '20', '30', '40']\n"
     ]
    }
   ],
   "source": [
    "'''27. Convert a list of integers to a list of strings.'''\n",
    "\n",
    "integer_list = [10, 20, 30, 40]\n",
    "\n",
    "string_list = [str(i)for i in integer_list]\n",
    "    \n",
    "print(string_list)"
   ]
  },
  {
   "cell_type": "code",
   "execution_count": 84,
   "id": "27f946d8-d995-41c8-99c6-0fbce796fc28",
   "metadata": {},
   "outputs": [
    {
     "name": "stdout",
     "output_type": "stream",
     "text": [
      "[1, 2, 3, 4, 5, 6, 7]\n"
     ]
    }
   ],
   "source": [
    "'''28. Flatten a nested list.'''\n",
    "\n",
    "my_list = [[1],[2,3],[4,5,6,7]]\n",
    "\n",
    "new_list = []\n",
    "for i in my_list:\n",
    "    for j in i:\n",
    "            new_list.append(j)\n",
    "print(new_list)"
   ]
  },
  {
   "cell_type": "code",
   "execution_count": 85,
   "id": "988c69c6-889c-4b83-8a80-e2e591b94fb5",
   "metadata": {},
   "outputs": [
    {
     "name": "stdin",
     "output_type": "stream",
     "text": [
      "Enter number 10\n"
     ]
    },
    {
     "name": "stdout",
     "output_type": "stream",
     "text": [
      "[0, 1, 1, 2, 3, 5, 8, 13, 21, 34]\n"
     ]
    }
   ],
   "source": [
    "'''29. Create a list of the first 10 Fibonacci numbers.'''\n",
    "\n",
    "a,b = 0,1\n",
    "n = int(input(\"Enter number\"))\n",
    "list = []\n",
    "counter = 0\n",
    "while counter < n :\n",
    "    list.append(a)\n",
    "    c = a+b\n",
    "    a = b\n",
    "    b = c\n",
    "    counter = counter + 1\n",
    "print(list)"
   ]
  },
  {
   "cell_type": "code",
   "execution_count": 86,
   "id": "c96a6aae-39e3-4877-9ccb-2501465201eb",
   "metadata": {},
   "outputs": [
    {
     "name": "stdout",
     "output_type": "stream",
     "text": [
      "list is sorted\n"
     ]
    }
   ],
   "source": [
    "'''30. Check if a list is sorted.'''\n",
    "def sorted(list):\n",
    "    for i in range(1, len(list)):\n",
    "        if list[i] < list[i-1]:\n",
    "            return False\n",
    "    return True\n",
    "\n",
    "list = [0, 1, 2, 3, 5, 8, 13, 21, 34]\n",
    "if sorted(list):\n",
    "    print(\"list is sorted\")\n",
    "else:\n",
    "    print(\"list is not sorted\")"
   ]
  },
  {
   "cell_type": "code",
   "execution_count": 87,
   "id": "27ed5494-4018-4039-a9eb-7c77eee79448",
   "metadata": {},
   "outputs": [
    {
     "name": "stdout",
     "output_type": "stream",
     "text": [
      "[30, 40, 50, 60, 10, 20]\n"
     ]
    }
   ],
   "source": [
    "'''31. Rotate a list to the left by `n` positions.'''\n",
    "\n",
    "def rotate_left(list,n):\n",
    "    n = n % len(list)\n",
    "    \n",
    "    rotated = list[n:] + list[:n]\n",
    "    return rotated\n",
    "\n",
    "list = [10,20,30,40,50,60]\n",
    "n = 2\n",
    "\n",
    "new_list = rotate_left(list,n)\n",
    "print(new_list)"
   ]
  },
  {
   "cell_type": "code",
   "execution_count": 88,
   "id": "abea6bc8-ad12-4eb1-8079-a4ee95e6a97c",
   "metadata": {},
   "outputs": [
    {
     "name": "stdout",
     "output_type": "stream",
     "text": [
      "[50, 60, 10, 20, 30, 40]\n"
     ]
    }
   ],
   "source": [
    "'''31. Rotate a list to the right by `n` positions.'''\n",
    "\n",
    "def rotate_right(list,n):\n",
    "    n = n % len(list)\n",
    "    \n",
    "    rotated = list[-n:] + list[:-n]\n",
    "    return rotated\n",
    "\n",
    "list = [10,20,30,40,50,60]\n",
    "n = 2\n",
    "\n",
    "new_list = rotate_right(list,n)\n",
    "print(new_list)\n"
   ]
  },
  {
   "cell_type": "code",
   "execution_count": 89,
   "id": "56cd115f-b82c-4396-b793-350b4a54476c",
   "metadata": {},
   "outputs": [
    {
     "name": "stdout",
     "output_type": "stream",
     "text": [
      "[2, 3, 5, 7, 11, 13, 17, 19, 23, 29, 31, 37, 41, 43, 47]\n"
     ]
    }
   ],
   "source": [
    "'''33. Create a list of prime numbers up to 50.'''\n",
    "\n",
    "prime = []\n",
    "for i in range(2,50):\n",
    "    isprime = True\n",
    "    for j in range(2,i):\n",
    "        if i % j == 0:\n",
    "            isprime = False\n",
    "    if isprime:\n",
    "        prime.append(i)\n",
    "print(prime)"
   ]
  },
  {
   "cell_type": "code",
   "execution_count": 90,
   "id": "5596ea58-a6a0-4c66-9ef4-ffe16240e01e",
   "metadata": {},
   "outputs": [
    {
     "name": "stdout",
     "output_type": "stream",
     "text": [
      "[1, 2, 3, 4, 5]\n",
      "[6, 7, 8, 9, 10]\n",
      "[11, 12, 13, 14, 15]\n"
     ]
    }
   ],
   "source": [
    "'''34. Split a list into chunks of size `n`.'''\n",
    "\n",
    "list = [1,2,3,4,5,6,7,8,9,10,11,12,13,14,15]\n",
    "\n",
    "start = 0\n",
    "end = len(list)\n",
    "stop = 5\n",
    "for i in range(start,end,stop):\n",
    "    x = i\n",
    "    print(list[x:x+stop])"
   ]
  },
  {
   "cell_type": "code",
   "execution_count": 91,
   "id": "75248b20-8de7-4b3a-99e3-f941ef00408f",
   "metadata": {},
   "outputs": [
    {
     "name": "stdout",
     "output_type": "stream",
     "text": [
      "second largest number is: 25\n"
     ]
    }
   ],
   "source": [
    "'''35. Find the second largest number in a list.'''\n",
    "\n",
    "my_list = [10, 5, 20, 15, 30, 25]\n",
    "\n",
    "my_list.sort()\n",
    "\n",
    "print(\"second largest number is:\",my_list[-2])\n"
   ]
  },
  {
   "cell_type": "code",
   "execution_count": 92,
   "id": "5d26e2ff-2de7-44e2-a8c6-8031f7595136",
   "metadata": {},
   "outputs": [
    {
     "name": "stdout",
     "output_type": "stream",
     "text": [
      "[1, 4, 9, 16, 25]\n"
     ]
    }
   ],
   "source": [
    "'''36. Replace every element in a list with its square.'''\n",
    "\n",
    "my_list = [1,2,3,4,5]\n",
    "my_list = [ i ** 2 for i in my_list]\n",
    "print(my_list)"
   ]
  },
  {
   "cell_type": "code",
   "execution_count": 93,
   "id": "d2406aed-db61-4e20-ae1e-ecf692eb6e07",
   "metadata": {},
   "outputs": [
    {
     "name": "stdout",
     "output_type": "stream",
     "text": [
      "{'ABC': 0, 'PQR': 1, 'XYZ': 2, 'MNO': 3}\n"
     ]
    }
   ],
   "source": [
    "'''37. Convert a list to a dictionary where list elements become keys and their\n",
    "indices become values.'''\n",
    "\n",
    "my_list = ['ABC','PQR','XYZ','MNO']\n",
    "\n",
    "my_dict = {element: index for index, element in enumerate(my_list)}\n",
    "\n",
    "print(my_dict)"
   ]
  },
  {
   "cell_type": "code",
   "execution_count": 94,
   "id": "4e505c6d-5365-4c23-886f-d68ce0d7c8d4",
   "metadata": {},
   "outputs": [
    {
     "name": "stdout",
     "output_type": "stream",
     "text": [
      "[7, 9, 1, 5, 10, 4, 6, 8, 3, 2]\n"
     ]
    }
   ],
   "source": [
    "'''38. Shuffle the elements of a list randomly.'''\n",
    "\n",
    "import random\n",
    "\n",
    "list1 = [1,2,3,4,5,6,7,8,9,10]\n",
    "\n",
    "random.shuffle(list1)\n",
    "\n",
    "print(list1)"
   ]
  },
  {
   "cell_type": "code",
   "execution_count": 96,
   "id": "0a40928c-6dca-4fb0-8fac-88fac49f9cc4",
   "metadata": {},
   "outputs": [
    {
     "name": "stdin",
     "output_type": "stream",
     "text": [
      "Enter number: 10\n"
     ]
    },
    {
     "name": "stdout",
     "output_type": "stream",
     "text": [
      "3628800\n"
     ]
    }
   ],
   "source": [
    "'''39. Create a list of the first 10 factorial numbers.'''\n",
    "n = int(input(\"Enter number:\"))\n",
    "factorial = 1\n",
    "while n > 0:\n",
    "    factorial = factorial * n\n",
    "    n = n-1\n",
    "print(factorial)  "
   ]
  },
  {
   "cell_type": "code",
   "execution_count": 97,
   "id": "5f699d80-070d-4328-9056-9accfd2d944e",
   "metadata": {},
   "outputs": [
    {
     "name": "stdout",
     "output_type": "stream",
     "text": [
      "The lists have at least one element in common.\n"
     ]
    }
   ],
   "source": [
    "'''40. Check if two lists have at least one element in common.'''\n",
    "\n",
    "def common(list1,list2):\n",
    "    for i in list1:\n",
    "        if i in list2:\n",
    "            return True\n",
    "    return False\n",
    "list1 = [1,2,3,4,5]\n",
    "list2 = [5,6,7,8,9]\n",
    "\n",
    "if common(list1,list2):\n",
    "    print(\"The lists have at least one element in common.\")\n",
    "else:\n",
    "    print(\"The lists do not have any common element.\")"
   ]
  },
  {
   "cell_type": "code",
   "execution_count": 98,
   "id": "1307b51a-967e-42ab-8bc0-450358978b17",
   "metadata": {},
   "outputs": [
    {
     "name": "stdout",
     "output_type": "stream",
     "text": [
      "[]\n"
     ]
    }
   ],
   "source": [
    "'''41. Remove all elements from a list.'''\n",
    "\n",
    "list1 = [1,2,3,4,5]\n",
    "\n",
    "list1.clear()\n",
    "\n",
    "print(list1)"
   ]
  },
  {
   "cell_type": "code",
   "execution_count": 99,
   "id": "3700d73e-d51f-4d8b-a7f7-afdf8c02fd63",
   "metadata": {},
   "outputs": [
    {
     "name": "stdout",
     "output_type": "stream",
     "text": [
      "[1, 0, 5, 0, 23, 0, 7, 21]\n"
     ]
    }
   ],
   "source": [
    "'''42. Replace negative numbers in a list with 0.'''\n",
    "\n",
    "my_list = [1,-2,5,-7,23,-56,7,21]\n",
    "for i in range(len(my_list)):\n",
    "    if my_list[i] < 0:\n",
    "        my_list[i] = 0\n",
    "print(my_list)"
   ]
  },
  {
   "cell_type": "code",
   "execution_count": 100,
   "id": "00e00387-6bb9-47dc-aa25-a4095bee5894",
   "metadata": {},
   "outputs": [
    {
     "data": {
      "text/plain": [
       "['Convert', 'a', 'string', 'into', 'a', 'list', 'of', 'words']"
      ]
     },
     "execution_count": 100,
     "metadata": {},
     "output_type": "execute_result"
    }
   ],
   "source": [
    "'''43. Convert a string into a list of words.'''\n",
    "\n",
    "string = \"Convert a string into a list of words\"\n",
    "string.split()"
   ]
  },
  {
   "cell_type": "code",
   "execution_count": 101,
   "id": "b0157560-b4ee-42d4-8068-d2a4c4b457d3",
   "metadata": {},
   "outputs": [
    {
     "name": "stdout",
     "output_type": "stream",
     "text": [
      "Convert a string into a list of words\n"
     ]
    }
   ],
   "source": [
    "'''44. Convert a list of words into a string.'''\n",
    "\n",
    "list1 = ['Convert', 'a', 'string', 'into', 'a', 'list', 'of', 'words']\n",
    "\n",
    "list2 = ' '.join(list1)\n",
    "print(list2)"
   ]
  },
  {
   "cell_type": "code",
   "execution_count": 102,
   "id": "85577491-9174-4bbd-9163-07e468e29c16",
   "metadata": {},
   "outputs": [
    {
     "name": "stdout",
     "output_type": "stream",
     "text": [
      "[1, 2, 4, 8, 16]\n"
     ]
    }
   ],
   "source": [
    "'''45. Create a list of the first `n` powers of 2.'''\n",
    "\n",
    "n = 5\n",
    "power_list = [ 2 ** i for i in range(n)]\n",
    "print(power_list)"
   ]
  },
  {
   "cell_type": "code",
   "execution_count": 103,
   "id": "1e3eb644-ca38-4d0b-84a1-29d375b942ae",
   "metadata": {},
   "outputs": [
    {
     "name": "stdout",
     "output_type": "stream",
     "text": [
      "stringss\n"
     ]
    }
   ],
   "source": [
    "'''46. Find the longest string in a list of strings.'''\n",
    "\n",
    "list1 = [\"find\",\"the\",\"longest\",\"list\",\"of\",\"stringss\",\"are\"]\n",
    "\n",
    "longest_string = \"\"\n",
    "for i in list1:\n",
    "    if len(i) > len(longest_string):\n",
    "        longest_string = i\n",
    "print(longest_string)        "
   ]
  },
  {
   "cell_type": "code",
   "execution_count": 104,
   "id": "b1b836fc-7c4a-441a-8279-5e6ccac6f204",
   "metadata": {},
   "outputs": [
    {
     "name": "stdout",
     "output_type": "stream",
     "text": [
      "are\n"
     ]
    }
   ],
   "source": [
    "'''47. Find the shortest string in a list of strings.'''\n",
    "\n",
    "list2 = [\"find\",\"Banana\",\"Apple\",\"date\",\"cherry\",\"are\"]\n",
    "\n",
    "shortest_string = list2[0]\n",
    "\n",
    "for i in list2:\n",
    "    if len(i) < len(shortest_string):\n",
    "        shortest_string = i\n",
    "print(shortest_string)      "
   ]
  },
  {
   "cell_type": "code",
   "execution_count": 105,
   "id": "066e288e-c0d1-4eaf-8f29-6e0d77b383ad",
   "metadata": {},
   "outputs": [
    {
     "name": "stdout",
     "output_type": "stream",
     "text": [
      "[1, 3, 6, 10, 15]\n"
     ]
    }
   ],
   "source": [
    "'''48. Create a list of the first `n` triangular numbers.'''\n",
    "\n",
    "def triagular_num(n):\n",
    "    return[i * (i+1) // 2 for i in range(1,n+1)]\n",
    "\n",
    "n = 5\n",
    "\n",
    "triagular_list = triagular_num(n)\n",
    "print(triagular_list)"
   ]
  },
  {
   "cell_type": "code",
   "execution_count": 106,
   "id": "28c0a375-5328-45b3-897a-0af8c10a58e3",
   "metadata": {},
   "outputs": [
    {
     "name": "stdout",
     "output_type": "stream",
     "text": [
      "Main list contains the subsequence.\n"
     ]
    }
   ],
   "source": [
    "'''49. Check if a list contains another list as a subsequence.'''\n",
    "\n",
    "def sub_sequence(subsequence_list,main_list): \n",
    "    subseq_index = 0\n",
    "    for element in main_list:\n",
    "        if element == subsequence_list[subseq_index]:\n",
    "            subseq_index += 1\n",
    "            if subseq_index == len(subsequence_list):\n",
    "                return True\n",
    "    return False\n",
    "    \n",
    "main_list = [1,2,3,4,5,6,7,8]\n",
    "subsequence_list = [1,6,7]\n",
    "\n",
    "if sub_sequence(subsequence_list,main_list):\n",
    "    print(\"Main list contains the subsequence.\")\n",
    "else:\n",
    "    print(\"Main list not contains the subsequence.\")"
   ]
  },
  {
   "cell_type": "code",
   "execution_count": 107,
   "id": "9646cb4f-cdb9-47f3-857f-cc36080d727a",
   "metadata": {},
   "outputs": [
    {
     "name": "stdout",
     "output_type": "stream",
     "text": [
      "[1, 6, 3, 4, 5, 2]\n"
     ]
    }
   ],
   "source": [
    "'''50. Swap two elements in a list by their indices.'''\n",
    "\n",
    "list1 = [1,2,3,4,5,6]\n",
    "\n",
    "index1 = 1\n",
    "index2 = 5\n",
    "\n",
    "temp = list1[index1]\n",
    "list1[index1] = list1[index2]\n",
    "list1[index2] = temp\n",
    "\n",
    "print(list1)"
   ]
  },
  {
   "cell_type": "code",
   "execution_count": 108,
   "id": "ba85b376-9170-426d-b4c8-17be93baeeb9",
   "metadata": {},
   "outputs": [
    {
     "name": "stdout",
     "output_type": "stream",
     "text": [
      "<class 'tuple'>\n",
      "(1, 2, 3, 4, 5)\n"
     ]
    }
   ],
   "source": [
    "'''Tuple Based Practice Problem :'''\n",
    "\n",
    "'''1. Create a tuple with integers from 1 to 5.'''\n",
    "\n",
    "t1 = (1,2,3,4,5)\n",
    "print(type(t1))\n",
    "print(t1)"
   ]
  },
  {
   "cell_type": "code",
   "execution_count": 109,
   "id": "d24fd7f3-90a0-47f7-8188-d998d4bf76f5",
   "metadata": {},
   "outputs": [
    {
     "name": "stdout",
     "output_type": "stream",
     "text": [
      "3\n"
     ]
    }
   ],
   "source": [
    "'''2. Access the third element of a tuple.'''\n",
    "\n",
    "t1 = (1,2,3,4,5)\n",
    "\n",
    "third_element = t1[2]\n",
    "print(third_element)"
   ]
  },
  {
   "cell_type": "code",
   "execution_count": 110,
   "id": "e80c2787-9c09-4b23-b43e-5c11e6be8645",
   "metadata": {},
   "outputs": [
    {
     "name": "stdout",
     "output_type": "stream",
     "text": [
      "9\n"
     ]
    }
   ],
   "source": [
    "'''3. Find the length of a tuple without using the `len()` function.'''\n",
    "\n",
    "t1 = (1,2,3,4,5,6,45,32,12)\n",
    "count = 0\n",
    "\n",
    "for i in t1:\n",
    "    count = count+1\n",
    "print(count)\n"
   ]
  },
  {
   "cell_type": "code",
   "execution_count": 111,
   "id": "73203886-4461-406c-9583-34d703b8f310",
   "metadata": {},
   "outputs": [
    {
     "name": "stdout",
     "output_type": "stream",
     "text": [
      "The elemnet 5 occurrences 4 times in tuple.\n"
     ]
    }
   ],
   "source": [
    "'''4. Count the occurrences of an element in a tuple.'''\n",
    "\n",
    "t1 = (1,2,3,4,5,6,5,7,8,5,9,6,10,5,11,12)\n",
    "element = 5\n",
    "count = 0\n",
    "for i in t1:\n",
    "    if i == element:\n",
    "        count = count+1\n",
    "print(f\"The elemnet {element} occurrences {count} times in tuple.\")\n",
    "    "
   ]
  },
  {
   "cell_type": "code",
   "execution_count": 112,
   "id": "3c4c63d6-51ad-4d1d-99fa-1d105dcffb1b",
   "metadata": {},
   "outputs": [
    {
     "data": {
      "text/plain": [
       "4"
      ]
     },
     "execution_count": 112,
     "metadata": {},
     "output_type": "execute_result"
    }
   ],
   "source": [
    "'''5. Find the index of the first occurrence of an element in a tuple.'''\n",
    "\n",
    "t1 = (1,2,3,4,5,6,5,7,8,5,9,6,10,5,11,12)\n",
    "t1.index(5)"
   ]
  },
  {
   "cell_type": "code",
   "execution_count": 113,
   "id": "10fd0a1a-f65b-41d6-b9f1-6c1e9238efca",
   "metadata": {},
   "outputs": [
    {
     "name": "stdout",
     "output_type": "stream",
     "text": [
      "The elemnet 5 exist in tuple.\n"
     ]
    }
   ],
   "source": [
    "'''6. Check if an element exists in a tuple.'''\n",
    "\n",
    "t1 = (1,2,3,4,5,6,7,8,9)\n",
    "element = 5\n",
    "if element in t1:\n",
    "    print(f\"The elemnet {element} exist in tuple.\")\n",
    "else:\n",
    "    print(f\"The elemnet {element} does not exist in tuple.\")"
   ]
  },
  {
   "cell_type": "code",
   "execution_count": 9,
   "id": "29ba3bbe-4676-4d36-bead-8d0a843b06d1",
   "metadata": {},
   "outputs": [
    {
     "name": "stdout",
     "output_type": "stream",
     "text": [
      "[1, 2, 3, 4, 5, 6, 7, 8, 9]\n"
     ]
    }
   ],
   "source": [
    "'''7. Convert a tuple to a list.'''\n",
    "\n",
    "t1 = (1,2,3,4,5,6,7,8,9)\n",
    "l1 = list(t1) \n",
    "print(l1)"
   ]
  },
  {
   "cell_type": "code",
   "execution_count": 115,
   "id": "02d76f3e-fab7-438c-a753-472162c105db",
   "metadata": {},
   "outputs": [
    {
     "name": "stdout",
     "output_type": "stream",
     "text": [
      "(1, 2, 3, 4, 5)\n"
     ]
    }
   ],
   "source": [
    "'''8. Convert a list to a tuple.'''\n",
    "\n",
    "my_list = [1, 2, 3, 4, 5]\n",
    "my_tuple =tuple(my_list)\n",
    "print(my_tuple)"
   ]
  },
  {
   "cell_type": "code",
   "execution_count": 116,
   "id": "d83031a1-7be1-4907-86fc-3fb87da07cb7",
   "metadata": {},
   "outputs": [
    {
     "name": "stdout",
     "output_type": "stream",
     "text": [
      "var1: 1\n",
      "var2: 2\n",
      "var3: 3\n"
     ]
    }
   ],
   "source": [
    "'''9. Unpack the elements of a tuple into variables.'''\n",
    "\n",
    "t1 = (1,2,3)\n",
    "\n",
    "var1,var2,var3 = t1\n",
    "\n",
    "print(\"var1:\", var1)\n",
    "print(\"var2:\", var2)\n",
    "print(\"var3:\", var3)"
   ]
  },
  {
   "cell_type": "code",
   "execution_count": 117,
   "id": "22f60c90-ce9e-4534-90a0-9b9122a8aeb5",
   "metadata": {},
   "outputs": [
    {
     "name": "stdout",
     "output_type": "stream",
     "text": [
      "(2, 4, 6, 8, 10)\n"
     ]
    }
   ],
   "source": [
    "'''10. Create a tuple of even numbers from 1 to 10.'''\n",
    "\n",
    "l1 = [i for i in range(2,11,2)]\n",
    "t1 = tuple(l1)\n",
    "print(t1)"
   ]
  },
  {
   "cell_type": "code",
   "execution_count": 118,
   "id": "adafbd83-c388-4d21-a2e1-e4612b131290",
   "metadata": {},
   "outputs": [
    {
     "name": "stdout",
     "output_type": "stream",
     "text": [
      "(1, 3, 5, 7, 9)\n"
     ]
    }
   ],
   "source": [
    "'''11. Create a tuple of odd numbers from 1 to 10.'''\n",
    "\n",
    "l1 = [i for i in range(10) if i%2 == 1]\n",
    "t1 = tuple(l1)\n",
    "print(t1)"
   ]
  },
  {
   "cell_type": "code",
   "execution_count": 119,
   "id": "ce36eadf-7908-4d8e-8578-df68e5e9f831",
   "metadata": {},
   "outputs": [
    {
     "name": "stdout",
     "output_type": "stream",
     "text": [
      "(1, 2, 3, 4, 5, 6, 7, 8, 9)\n"
     ]
    }
   ],
   "source": [
    "'''12. Concatenate two tuples.'''\n",
    "\n",
    "t1 = (1,2,3,4,5)\n",
    "t2 = (6,7,8,9)\n",
    "\n",
    "t3 = t1+t2\n",
    "print(t3)"
   ]
  },
  {
   "cell_type": "code",
   "execution_count": 120,
   "id": "5fc50861-4172-45d7-839f-4379bd25316f",
   "metadata": {},
   "outputs": [
    {
     "name": "stdout",
     "output_type": "stream",
     "text": [
      "(1, 2, 3, 4, 5, 1, 2, 3, 4, 5, 1, 2, 3, 4, 5)\n"
     ]
    }
   ],
   "source": [
    "'''13. Repeat a tuple three times.'''\n",
    "\n",
    "t1 = (1,2,3,4,5)\n",
    "\n",
    "t2 = t1 * 3 \n",
    "print(t2)"
   ]
  },
  {
   "cell_type": "code",
   "execution_count": 121,
   "id": "2ab68325-c836-4106-8247-31021587ba93",
   "metadata": {},
   "outputs": [
    {
     "name": "stdout",
     "output_type": "stream",
     "text": [
      "Tuple t1 is empty.\n",
      "Tuple t2 is not empty.\n"
     ]
    }
   ],
   "source": [
    "'''14. Check if a tuple is empty.'''\n",
    "\n",
    "t1 = ()\n",
    "t2 = (6,7,8,9)\n",
    "\n",
    "if not t1:\n",
    "    print(\"Tuple t1 is empty.\")\n",
    "else:\n",
    "    print(\"Tuple t1 is not empty.\")\n",
    "\n",
    "if not t2:\n",
    "    print(\"Tuple t2 is empty.\")\n",
    "else:\n",
    "    print(\"Tuple t2 is not empty.\")\n",
    "    "
   ]
  },
  {
   "cell_type": "code",
   "execution_count": 122,
   "id": "a37e9190-6acc-4d14-b69c-28c49e798476",
   "metadata": {},
   "outputs": [
    {
     "name": "stdout",
     "output_type": "stream",
     "text": [
      "((1, 2, 3, 4, 5), ('ABC', 'PQR'), (True, False))\n"
     ]
    }
   ],
   "source": [
    "'''15. Create a nested tuple.'''\n",
    "\n",
    "t1 = ((1,2,3,4,5),(\"ABC\",\"PQR\"),(True,False))\n",
    "print(t1)"
   ]
  },
  {
   "cell_type": "code",
   "execution_count": 123,
   "id": "403e19bb-63d1-441f-9810-82734d0c2271",
   "metadata": {},
   "outputs": [
    {
     "name": "stdout",
     "output_type": "stream",
     "text": [
      "(1, 2, 3, 4, 5)\n"
     ]
    }
   ],
   "source": [
    "'''16. Access the first element of a nested tuple.'''\n",
    "\n",
    "t1 = ((1,2,3,4,5),(\"ABC\",\"PQR\"),(True,False))\n",
    "t2 = t1[0]\n",
    "print(t2)"
   ]
  },
  {
   "cell_type": "code",
   "execution_count": 124,
   "id": "5578597c-3c54-4637-a537-8c18872575b1",
   "metadata": {},
   "outputs": [
    {
     "name": "stdout",
     "output_type": "stream",
     "text": [
      "(1,)\n"
     ]
    }
   ],
   "source": [
    "'''17. Create a tuple with a single element.'''\n",
    "\n",
    "t1 = (1,)\n",
    "print(t1)"
   ]
  },
  {
   "cell_type": "code",
   "execution_count": 125,
   "id": "dd09987a-a7b3-4fe8-8a99-f6d02e250c8d",
   "metadata": {},
   "outputs": [
    {
     "name": "stdout",
     "output_type": "stream",
     "text": [
      "False\n",
      "True\n",
      "True\n",
      "True\n",
      "False\n",
      "False\n"
     ]
    }
   ],
   "source": [
    "'''18. Compare two tuples.'''\n",
    "\n",
    "t1 = (1,2,3,4,5)\n",
    "t2 = (5,6,7,8,9)\n",
    "\n",
    "print(t1 == t2)\n",
    "print(t1 != t2)\n",
    "print(t1 < t2)\n",
    "print(t1 <= t2)\n",
    "print(t1 > t2)\n",
    "print(t1 >= t2)"
   ]
  },
  {
   "cell_type": "code",
   "execution_count": 126,
   "id": "907b84de-0fb3-4d20-bcf8-0e41c1fa4ac2",
   "metadata": {},
   "outputs": [
    {
     "ename": "NameError",
     "evalue": "name 't1' is not defined",
     "output_type": "error",
     "traceback": [
      "\u001b[0;31m---------------------------------------------------------------------------\u001b[0m",
      "\u001b[0;31mNameError\u001b[0m                                 Traceback (most recent call last)",
      "Cell \u001b[0;32mIn[126], line 6\u001b[0m\n\u001b[1;32m      3\u001b[0m t1 \u001b[38;5;241m=\u001b[39m (\u001b[38;5;241m1\u001b[39m,\u001b[38;5;241m2\u001b[39m,\u001b[38;5;241m3\u001b[39m,\u001b[38;5;241m4\u001b[39m)\n\u001b[1;32m      4\u001b[0m \u001b[38;5;28;01mdel\u001b[39;00m t1\n\u001b[0;32m----> 6\u001b[0m \u001b[38;5;28mprint\u001b[39m(\u001b[43mt1\u001b[49m) \u001b[38;5;66;03m# --> this will raise error because tuple no longer exists.\u001b[39;00m\n",
      "\u001b[0;31mNameError\u001b[0m: name 't1' is not defined"
     ]
    }
   ],
   "source": [
    "'''19. Delete a tuple.'''\n",
    "\n",
    "t1 = (1,2,3,4)\n",
    "del t1\n",
    "\n",
    "print(t1) # --> this will raise error because tuple no longer exists."
   ]
  },
  {
   "cell_type": "code",
   "execution_count": 127,
   "id": "85e11490-ddb0-4dfc-be2c-4bec5bd32342",
   "metadata": {},
   "outputs": [
    {
     "name": "stdout",
     "output_type": "stream",
     "text": [
      "(4, 5)\n"
     ]
    }
   ],
   "source": [
    "'''20. Slice a tuple.'''\n",
    "\n",
    "t1 = (1,2,3,4,5,6,7,8,9)\n",
    "\n",
    "t2 = t1[3:5]\n",
    "\n",
    "print(t2)"
   ]
  },
  {
   "cell_type": "code",
   "execution_count": 128,
   "id": "79419f7b-e645-4451-b1d2-0b64e0849e3b",
   "metadata": {},
   "outputs": [
    {
     "name": "stdout",
     "output_type": "stream",
     "text": [
      "70\n"
     ]
    }
   ],
   "source": [
    "'''21. Find the maximum value in a tuple.'''\n",
    "\n",
    "t1 = (60,30,70,10,40,50)\n",
    "max_value = max(t1)\n",
    "print(max_value)"
   ]
  },
  {
   "cell_type": "code",
   "execution_count": 129,
   "id": "c829c79f-148b-42bd-be20-4afc96f756bb",
   "metadata": {},
   "outputs": [
    {
     "name": "stdout",
     "output_type": "stream",
     "text": [
      "10\n"
     ]
    }
   ],
   "source": [
    "'''22. Find the minimum value in a tuple.'''\n",
    "\n",
    "t1 = (60,30,70,10,40,50)\n",
    "min_value = min(t1)\n",
    "print(min_value)"
   ]
  },
  {
   "cell_type": "code",
   "execution_count": 130,
   "id": "b9aed316-5c4f-461f-83ab-f23de5e508c8",
   "metadata": {},
   "outputs": [
    {
     "name": "stdout",
     "output_type": "stream",
     "text": [
      "('M', 'y', ' ', 'n', 'a', 'm', 'e', ' ', 'i', 's', ' ', 'A', 'B', 'C', '.')\n"
     ]
    }
   ],
   "source": [
    "'''23. Convert a string to a tuple of characters.'''\n",
    "\n",
    "string = \"My name is ABC.\"\n",
    "t2 = tuple(string)\n",
    "print(t2)"
   ]
  },
  {
   "cell_type": "code",
   "execution_count": 131,
   "id": "d13c1656-3118-442e-92e4-0b7e5041a04b",
   "metadata": {},
   "outputs": [
    {
     "name": "stdout",
     "output_type": "stream",
     "text": [
      "My name is ABC.\n"
     ]
    }
   ],
   "source": [
    "'''24. Convert a tuple of characters to a string.'''\n",
    "\n",
    "t1 = ('M', 'y', ' ', 'n', 'a', 'm', 'e', ' ', 'i', 's', ' ', 'A', 'B', 'C','.')\n",
    "string = ''.join(t1)\n",
    "print(string)"
   ]
  },
  {
   "cell_type": "code",
   "execution_count": 132,
   "id": "2fca948d-eec0-4770-9d3b-40d28a14e23c",
   "metadata": {},
   "outputs": [
    {
     "name": "stdout",
     "output_type": "stream",
     "text": [
      "(1, 'HII', 2.3, True)\n"
     ]
    }
   ],
   "source": [
    "'''25. Create a tuple from multiple data types.'''\n",
    "\n",
    "t1 = (1,\"HII\",2.3,True)\n",
    "print(t1)"
   ]
  },
  {
   "cell_type": "code",
   "execution_count": 133,
   "id": "d472214f-8514-4260-8368-6a8f52716d7c",
   "metadata": {},
   "outputs": [
    {
     "name": "stdout",
     "output_type": "stream",
     "text": [
      "False\n",
      "True\n"
     ]
    }
   ],
   "source": [
    "'''26. Check if two tuples are identical.'''\n",
    "\n",
    "t1 = (4,5,6)\n",
    "t2 = (7,8,9)\n",
    "t3 = (4,5,6)\n",
    "\n",
    "identical1 = t1 == t2\n",
    "identical2 = t1 == t3\n",
    "\n",
    "print(identical1)\n",
    "print(identical2)\n"
   ]
  },
  {
   "cell_type": "code",
   "execution_count": 10,
   "id": "6d47b6b3-046d-4498-848a-aa732c6fdd96",
   "metadata": {},
   "outputs": [
    {
     "name": "stdout",
     "output_type": "stream",
     "text": [
      "(1, 2, 3, 4, 5, 8, 10)\n"
     ]
    }
   ],
   "source": [
    "'''27. Sort the elements of a tuple.'''\n",
    "\n",
    "t1 = (5,2,8,3,10,1,4)\n",
    "\n",
    "t2 = tuple(sorted(t1))\n",
    "print(t2)"
   ]
  },
  {
   "cell_type": "code",
   "execution_count": 135,
   "id": "2dbcaa43-7d49-477c-96f5-6bdf076f51db",
   "metadata": {},
   "outputs": [
    {
     "name": "stdout",
     "output_type": "stream",
     "text": [
      "('1', '2', '3', '4', '5')\n"
     ]
    }
   ],
   "source": [
    "'''28. Convert a tuple of integers to a tuple of strings.'''\n",
    "\n",
    "t1 = (1,2,3,4,5)\n",
    "t2 = tuple(str(i) for i in t1)\n",
    "print(t2)"
   ]
  },
  {
   "cell_type": "code",
   "execution_count": 136,
   "id": "4cb05581-51fb-4f8a-8c19-1684f6221ea6",
   "metadata": {},
   "outputs": [
    {
     "name": "stdout",
     "output_type": "stream",
     "text": [
      "(1, 2, 3, 4, 5)\n"
     ]
    }
   ],
   "source": [
    "'''29. Convert a tuple of strings to a tuple of integers.'''\n",
    "\n",
    "t1 = ('1', '2', '3', '4', '5')\n",
    "t2 = tuple(int(i) for i in t1)\n",
    "print(t2)"
   ]
  },
  {
   "cell_type": "code",
   "execution_count": 137,
   "id": "7dc1dc67-f0bf-46d3-8b1e-372dde59a77a",
   "metadata": {},
   "outputs": [
    {
     "name": "stdout",
     "output_type": "stream",
     "text": [
      "(1, 2, 3, 4, 5, 6, 7, 8, 9)\n"
     ]
    }
   ],
   "source": [
    "'''30. Merge two tuples.'''\n",
    "\n",
    "t1 = (1,2,3,4,5)\n",
    "t2 = (6,7,8,9)\n",
    "\n",
    "t3 = t1+t2\n",
    "print(t3)"
   ]
  },
  {
   "cell_type": "code",
   "execution_count": 138,
   "id": "069f81f8-473a-43d0-b7a4-619532de22c2",
   "metadata": {},
   "outputs": [
    {
     "name": "stdout",
     "output_type": "stream",
     "text": [
      "(1, 2, 3, 4, 5, 6, 7, 8, 9, 10)\n"
     ]
    }
   ],
   "source": [
    "'''31. Flatten a nested tuple.'''\n",
    "\n",
    "def flatten(nested_tuple):\n",
    "    flattened = []\n",
    "    for i in nested_tuple:\n",
    "        if isinstance(i,tuple):\n",
    "            flattened.extend(flatten(i))\n",
    "        else:\n",
    "            flattened.append(i)\n",
    "    return flattened\n",
    "\n",
    "nested_tuple = ((1,2,3),(4,5,6,7),(8),(9,10))\n",
    "t2 = tuple(flatten(nested_tuple))\n",
    "print(t2)"
   ]
  },
  {
   "cell_type": "code",
   "execution_count": 139,
   "id": "f04a7c47-507c-4007-9924-0aa0c20098b9",
   "metadata": {},
   "outputs": [
    {
     "name": "stdout",
     "output_type": "stream",
     "text": [
      "(2, 3, 5, 7, 11)\n"
     ]
    }
   ],
   "source": [
    "'''32. Create a tuple of the first 5 prime numbers.'''\n",
    "\n",
    "def prime(n):\n",
    "    if n <= 1:\n",
    "        return False\n",
    "    for i in range(2,int(n ** 0.5)+1):\n",
    "        if n % i == 0:\n",
    "            return False\n",
    "    return True\n",
    "\n",
    "prime_list = [n for n in range(2,100) if prime(n)][:5]\n",
    "prime_tuple = tuple(prime_list)\n",
    "print(prime_tuple)"
   ]
  },
  {
   "cell_type": "code",
   "execution_count": 140,
   "id": "1cec61f9-e7d6-4d5d-bec6-4dac6f74c689",
   "metadata": {},
   "outputs": [
    {
     "name": "stdout",
     "output_type": "stream",
     "text": [
      "t1 is palindrome: True\n",
      "t2 is not palindrome: False\n"
     ]
    }
   ],
   "source": [
    "'''33. Check if a tuple is a palindrome.'''\n",
    "\n",
    "def palindrome(t):\n",
    "    return t == t[::-1]\n",
    "\n",
    "palindrome_tup1 = (1,2,3,2,1)\n",
    "palindrome_tup2 = (1,2,3,4,5)\n",
    "\n",
    "t1 = palindrome(palindrome_tup1)\n",
    "t2 = palindrome(palindrome_tup2)\n",
    "\n",
    "print(\"t1 is palindrome:\",t1)\n",
    "print(\"t2 is not palindrome:\",t2)"
   ]
  },
  {
   "cell_type": "code",
   "execution_count": 141,
   "id": "a0f574e0-3027-4da3-853c-006eb3d1bdb1",
   "metadata": {},
   "outputs": [
    {
     "name": "stdout",
     "output_type": "stream",
     "text": [
      "(1, 4, 9, 16, 25)\n"
     ]
    }
   ],
   "source": [
    "'''34. Create a tuple of squares of numbers from 1 to 5.'''\n",
    "\n",
    "t1 = tuple(i ** 2 for i in range(1,6))\n",
    "print(t1)"
   ]
  },
  {
   "cell_type": "code",
   "execution_count": 142,
   "id": "8c84e60b-d475-4c8a-8694-a9fb1e8a35da",
   "metadata": {},
   "outputs": [
    {
     "name": "stdout",
     "output_type": "stream",
     "text": [
      "(1, 3, 5, 7, 9)\n"
     ]
    }
   ],
   "source": [
    "'''35. Filter out all even numbers from a tuple.'''\n",
    "\n",
    "t1 = (1,2,3,4,5,6,7,8,9,10)\n",
    "t2 = tuple(i for i in t1 if i % 2 == 1)\n",
    "print(t2)"
   ]
  },
  {
   "cell_type": "code",
   "execution_count": 143,
   "id": "3242ba46-5e9f-413d-84de-f67a81fb89d6",
   "metadata": {},
   "outputs": [
    {
     "name": "stdout",
     "output_type": "stream",
     "text": [
      "(2, 4, 6, 8, 10, 12, 14, 16, 18, 20)\n"
     ]
    }
   ],
   "source": [
    "'''36. Multiply all elements in a tuple by 2.'''\n",
    "\n",
    "t1 = (1,2,3,4,5,6,7,8,9,10)\n",
    "t2 = tuple(i * 2 for i in t1)\n",
    "print(t2)"
   ]
  },
  {
   "cell_type": "code",
   "execution_count": 144,
   "id": "407b6eac-908d-46b7-bdaf-8e48c9154727",
   "metadata": {},
   "outputs": [
    {
     "name": "stdout",
     "output_type": "stream",
     "text": [
      "(54, 33, 23, 61, 78, 61, 41, 83, 64, 22)\n"
     ]
    }
   ],
   "source": [
    "'''37. Create a tuple of random numbers.'''\n",
    "\n",
    "import random\n",
    "\n",
    "random_t1 = tuple(random.randint(1,100) for _ in range(10))\n",
    "print(random_t1)"
   ]
  },
  {
   "cell_type": "code",
   "execution_count": 145,
   "id": "1617e9fa-f002-4a99-8259-98b835e3e0c7",
   "metadata": {},
   "outputs": [
    {
     "name": "stdout",
     "output_type": "stream",
     "text": [
      "is_sorted1 is sorted. True\n",
      "is_sorted2 is not sorted. False\n"
     ]
    }
   ],
   "source": [
    "'''38. Check if a tuple is sorted.'''\n",
    "\n",
    "def is_sorted(tup):\n",
    "    for i in range(len(tup)-1):\n",
    "        if tup[i] > tup[i+1]:\n",
    "            return False\n",
    "    return True\n",
    "\n",
    "t1 = (1,2,3,4,5)\n",
    "t2 = (5,3,1,4,2)\n",
    "\n",
    "is_sorted1 = is_sorted(t1)\n",
    "is_sorted2 = is_sorted(t2)\n",
    "\n",
    "print(\"is_sorted1 is sorted.\",is_sorted1)\n",
    "print(\"is_sorted2 is not sorted.\",is_sorted2)"
   ]
  },
  {
   "cell_type": "code",
   "execution_count": 146,
   "id": "f6bc8ea5-b47b-4fad-9310-0bb6f71eb2d7",
   "metadata": {},
   "outputs": [
    {
     "name": "stdout",
     "output_type": "stream",
     "text": [
      "(3, 4, 5, 1, 2)\n"
     ]
    }
   ],
   "source": [
    "'''39. Rotate a tuple to the left by `n` positions.'''\n",
    "\n",
    "def rotate_left(tup,n):\n",
    "    n = n % len(tup)\n",
    "    \n",
    "    rotated = tup[n:] + tup[:n]\n",
    "    return rotated\n",
    "\n",
    "tuple = (1,2,3,4,5)\n",
    "n = 2\n",
    "\n",
    "new_tup = rotate_left(tuple,n)\n",
    "print(new_tup)"
   ]
  },
  {
   "cell_type": "code",
   "execution_count": 147,
   "id": "3a8efbf4-0971-4c6d-b97c-39d662cd0659",
   "metadata": {},
   "outputs": [
    {
     "name": "stdout",
     "output_type": "stream",
     "text": [
      "(4, 5, 1, 2, 3)\n"
     ]
    }
   ],
   "source": [
    "'''40. Rotate a tuple to the right by `n` positions.'''\n",
    "\n",
    "def rotate_right(tup,n):\n",
    "    n = n % len(tup)\n",
    "    \n",
    "    rotated = tup[-n:] + tup[:-n]\n",
    "    return rotated\n",
    "\n",
    "tuple = (1,2,3,4,5)\n",
    "n = 2\n",
    "\n",
    "new_tup = rotate_right(tuple,n)\n",
    "print(new_tup)"
   ]
  },
  {
   "cell_type": "code",
   "execution_count": 11,
   "id": "099b85e8-8c12-4c69-8511-ec46878c5ad6",
   "metadata": {},
   "outputs": [
    {
     "name": "stdin",
     "output_type": "stream",
     "text": [
      "Enter number 5\n"
     ]
    },
    {
     "name": "stdout",
     "output_type": "stream",
     "text": [
      "(0, 1, 1, 2, 3)\n"
     ]
    }
   ],
   "source": [
    "'''41. Create a tuple of the first 5 Fibonacci numbers.'''\n",
    "\n",
    "a,b = 0,1\n",
    "n = int(input(\"Enter number\"))\n",
    "list = []\n",
    "counter = 0\n",
    "while counter < n :\n",
    "    list.append(a)\n",
    "    c = a+b\n",
    "    a = b\n",
    "    b = c\n",
    "    counter = counter + 1\n",
    "t1 = tuple(list)\n",
    "print(t1)"
   ]
  },
  {
   "cell_type": "code",
   "execution_count": 13,
   "id": "7113e117-8cb8-4029-aa12-34f6790e7523",
   "metadata": {},
   "outputs": [
    {
     "name": "stdin",
     "output_type": "stream",
     "text": [
      "Enter tuples 1,2,3,4,pwskill\n"
     ]
    },
    {
     "name": "stdout",
     "output_type": "stream",
     "text": [
      "('1', '2', '3', '4', 'pwskill')\n"
     ]
    }
   ],
   "source": [
    "'''42. Create a tuple from user input.'''\n",
    "\n",
    "string = input(\"Enter tuples\")\n",
    "\n",
    "l1 = string.split(',')\n",
    "\n",
    "T1 = tuple(l1)\n",
    "\n",
    "print(T1)"
   ]
  },
  {
   "cell_type": "code",
   "execution_count": 1,
   "id": "4a0f6b7c-00ac-4776-92b4-4007b7d52d84",
   "metadata": {},
   "outputs": [
    {
     "name": "stdout",
     "output_type": "stream",
     "text": [
      "[1, 2, 5, 4, 3, 6]\n"
     ]
    }
   ],
   "source": [
    "'''43. Swap two elements in a tuple.'''\n",
    "\n",
    "T1 = (1,2,3,4,5,6)\n",
    "\n",
    "l1 = list(T1)\n",
    "\n",
    "l1[2], l1[4] = l1[4], l1[2]\n",
    "\n",
    "new_t = tuple(l1)\n",
    "\n",
    "print(l1)"
   ]
  },
  {
   "cell_type": "code",
   "execution_count": 23,
   "id": "4b7bddca-765d-465c-aef0-8be2d36ee5b6",
   "metadata": {},
   "outputs": [
    {
     "name": "stdout",
     "output_type": "stream",
     "text": [
      "(3, 9, 2, 1, 8, 7, 6, 5, 4)\n"
     ]
    }
   ],
   "source": [
    "'''44. Reverse the elements of a tuple.'''\n",
    "\n",
    "T1 = (4,5,6,7,8,1,2,9,3)\n",
    "\n",
    "reverse_T1 = T1[::-1]\n",
    "\n",
    "print(reverse_T1)"
   ]
  },
  {
   "cell_type": "code",
   "execution_count": 16,
   "id": "31eab8cc-3c3f-4255-8c59-68bfe24d6262",
   "metadata": {},
   "outputs": [
    {
     "name": "stdout",
     "output_type": "stream",
     "text": [
      "(1, 2, 4, 8, 16)\n"
     ]
    }
   ],
   "source": [
    "'''45. Create a tuple of the first `n` powers of 2.'''\n",
    "\n",
    "t1 = tuple(2 ** i for i in range(5))\n",
    "\n",
    "print(t1)"
   ]
  },
  {
   "cell_type": "code",
   "execution_count": 153,
   "id": "402c10c5-5953-4b42-8753-197c66347b4d",
   "metadata": {},
   "outputs": [
    {
     "name": "stdout",
     "output_type": "stream",
     "text": [
      "Cricket\n"
     ]
    }
   ],
   "source": [
    "'''46. Find the longest string in a tuple of strings.'''\n",
    "\n",
    "t1 = (\"Cricket\",\"Bat\",\"Stump\",\"Four\",\"Six\",\"Batsman\",\"Ball\")\n",
    "\n",
    "longest_t1 = max(t1 , key=len)\n",
    "\n",
    "print(longest_t1)"
   ]
  },
  {
   "cell_type": "code",
   "execution_count": 154,
   "id": "cf1d44cc-3957-49ae-8f5a-88561d755db2",
   "metadata": {},
   "outputs": [
    {
     "name": "stdout",
     "output_type": "stream",
     "text": [
      "AB\n"
     ]
    }
   ],
   "source": [
    "'''47. Find the shortest string in a tuple of strings.'''\n",
    "\n",
    "t1 = (\"Cricket\",\"Bat\",\"Stump\",\"Four\",\"Six\",\"Batsman\",\"AB\")\n",
    "\n",
    "shortest_t1 = min(t1, key = len)\n",
    "\n",
    "print(shortest_t1)"
   ]
  },
  {
   "cell_type": "code",
   "execution_count": 18,
   "id": "1f8d0b6c-7dd0-4c3e-959d-94f32d3db039",
   "metadata": {},
   "outputs": [
    {
     "name": "stdout",
     "output_type": "stream",
     "text": [
      "(1, 3, 6, 10, 15)\n"
     ]
    }
   ],
   "source": [
    "'''48. Create a tuple of the first `n` triangular numbers.'''\n",
    "\n",
    "n = 5\n",
    "\n",
    "t = tuple((i*(i+1)) // 2 for i in range(1,n+1))\n",
    "\n",
    "print(t)"
   ]
  },
  {
   "cell_type": "code",
   "execution_count": 156,
   "id": "954b743e-6312-4f37-9d82-a9180f9f8d0f",
   "metadata": {},
   "outputs": [
    {
     "name": "stdout",
     "output_type": "stream",
     "text": [
      "True\n"
     ]
    }
   ],
   "source": [
    "'''49. Check if a tuple contains another tuple as a subsequence.'''\n",
    "\n",
    "def sub_sequence(main_tuple,sub_tuple): \n",
    "    sub_length = len(sub_tuple)\n",
    "    for i in range(len(main_tuple) - sub_length + 1):\n",
    "        if main_tuple[i:i+sub_length] == sub_tuple:\n",
    "            return True\n",
    "    return False\n",
    "    \n",
    "main_tuple = (1,2,3,4,5,6,7,8)\n",
    "\n",
    "sub_tuple = (6,7,8)\n",
    "\n",
    "subseq = sub_sequence(main_tuple,sub_tuple)\n",
    "print(subseq)"
   ]
  },
  {
   "cell_type": "code",
   "execution_count": 19,
   "id": "08ec757c-449b-40d1-b33c-df3f4372a319",
   "metadata": {},
   "outputs": [
    {
     "name": "stdout",
     "output_type": "stream",
     "text": [
      "(0, 1, 0, 1, 0, 1, 0, 1, 0, 1)\n"
     ]
    }
   ],
   "source": [
    "'''50. Create a tuple of alternating 1s and 0s of length `n`.'''\n",
    "\n",
    "n = 10\n",
    "\n",
    "t = tuple(i % 2 for i in range(n))\n",
    "\n",
    "print(t)"
   ]
  },
  {
   "cell_type": "code",
   "execution_count": 158,
   "id": "202d8348-ab0c-413a-bc2c-4eb1e2006f1f",
   "metadata": {},
   "outputs": [
    {
     "name": "stdout",
     "output_type": "stream",
     "text": [
      "{1, 2, 3, 4, 5}\n"
     ]
    }
   ],
   "source": [
    "'''Set Based Practice Problem :'''\n",
    "\n",
    "'''1. Create a set with integers from 1 to 5.'''\n",
    "\n",
    "S1 = set()\n",
    "\n",
    "S1.add(1)\n",
    "S1.add(2)\n",
    "S1.add(3)\n",
    "S1.add(4)\n",
    "S1.add(5)\n",
    "\n",
    "print(S1)"
   ]
  },
  {
   "cell_type": "code",
   "execution_count": 159,
   "id": "2f4c18ef-1d7c-42d9-9b44-27a6f2978181",
   "metadata": {},
   "outputs": [
    {
     "name": "stdout",
     "output_type": "stream",
     "text": [
      "{1, 2, 3, 4, 5, 6}\n"
     ]
    }
   ],
   "source": [
    "'''2. Add an element to a set.'''\n",
    "\n",
    "S1 = {1,2,3,4,5}\n",
    "\n",
    "S1.add(6)\n",
    "\n",
    "print(S1)"
   ]
  },
  {
   "cell_type": "code",
   "execution_count": 160,
   "id": "90b644bd-f519-4ad8-80fa-887da15b6730",
   "metadata": {},
   "outputs": [
    {
     "name": "stdout",
     "output_type": "stream",
     "text": [
      "{1, 2, 4, 5}\n"
     ]
    }
   ],
   "source": [
    "''''3. Remove an element from a set.'''\n",
    "\n",
    "S1 = {1,2,3,4,5}\n",
    "\n",
    "S1.remove(3)\n",
    "\n",
    "print(S1)"
   ]
  },
  {
   "cell_type": "code",
   "execution_count": 161,
   "id": "82cc9028-b756-4e0a-8a7f-eadfa4d6ca3f",
   "metadata": {},
   "outputs": [
    {
     "name": "stdout",
     "output_type": "stream",
     "text": [
      "NO\n"
     ]
    }
   ],
   "source": [
    "'''4. Check if an element exists in a set.'''\n",
    "\n",
    "S1 = {1,2,3,4,5}\n",
    "\n",
    "i = 6\n",
    "\n",
    "if i in S1:\n",
    "    print(\"Yes\")\n",
    "else:\n",
    "    print(\"NO\")"
   ]
  },
  {
   "cell_type": "code",
   "execution_count": 162,
   "id": "e0dabf17-5557-4a26-8057-4296aaeded58",
   "metadata": {},
   "outputs": [
    {
     "name": "stdout",
     "output_type": "stream",
     "text": [
      "length: 5\n"
     ]
    }
   ],
   "source": [
    "'''5. Find the length of a set without using the `len()` function.'''\n",
    "\n",
    "S1 = {1,2,3,4,5}\n",
    "\n",
    "count = 0\n",
    "\n",
    "for i in S1:\n",
    "    count = count+1\n",
    "    \n",
    "print(\"length:\",count)"
   ]
  },
  {
   "cell_type": "code",
   "execution_count": 163,
   "id": "64f2b792-58f8-4361-beac-c9462383059e",
   "metadata": {},
   "outputs": [
    {
     "name": "stdout",
     "output_type": "stream",
     "text": [
      "set()\n"
     ]
    }
   ],
   "source": [
    "'''6. Clear all elements from a set.'''\n",
    "\n",
    "S1 = {1,2,3,4,5}\n",
    "\n",
    "S1.clear()\n",
    "\n",
    "print(S1)"
   ]
  },
  {
   "cell_type": "code",
   "execution_count": 164,
   "id": "2cae6c45-1a39-4394-8ab5-1fcfc9192a26",
   "metadata": {},
   "outputs": [
    {
     "name": "stdout",
     "output_type": "stream",
     "text": [
      "{2, 4, 6, 8, 10}\n"
     ]
    }
   ],
   "source": [
    "'''7. Create a set of even numbers from 1 to 10.'''\n",
    "\n",
    "S1 = set()\n",
    "\n",
    "for n in range(1,11):\n",
    "    if n % 2 == 0:\n",
    "        S1.add(n)\n",
    "print(S1)"
   ]
  },
  {
   "cell_type": "code",
   "execution_count": 165,
   "id": "b813e56e-e4fe-4cd2-b055-8f70b3a1fe51",
   "metadata": {},
   "outputs": [
    {
     "name": "stdout",
     "output_type": "stream",
     "text": [
      "{1, 3, 5, 7, 9}\n"
     ]
    }
   ],
   "source": [
    "'''8. Create a set of odd numbers from 1 to 10.'''\n",
    "\n",
    "S1 = set()\n",
    "\n",
    "for n in range(1,11):\n",
    "    if n % 2 == 1:\n",
    "        S1.add(n)\n",
    "print(S1)"
   ]
  },
  {
   "cell_type": "code",
   "execution_count": 166,
   "id": "024b5f33-f6c8-4620-a7b7-89b8a89ab40f",
   "metadata": {},
   "outputs": [
    {
     "name": "stdout",
     "output_type": "stream",
     "text": [
      "{1, 2, 3, 4, 5, 6, 7, 8, 9}\n"
     ]
    }
   ],
   "source": [
    "'''9. Find the union of two sets.'''\n",
    "\n",
    "s1 = {1,2,3,5,7,9}\n",
    "s2 = {3,4,6,7,8}\n",
    "\n",
    "Union = s1.union(s2)\n",
    "\n",
    "print(Union)"
   ]
  },
  {
   "cell_type": "code",
   "execution_count": 167,
   "id": "6c4dda69-ccfc-4e68-8267-f7dfbe1c7cc9",
   "metadata": {},
   "outputs": [
    {
     "name": "stdout",
     "output_type": "stream",
     "text": [
      "{3, 7}\n"
     ]
    }
   ],
   "source": [
    "'''10. Find the intersection of two sets.'''\n",
    "\n",
    "s1 = {1,2,3,5,7,9}\n",
    "s2 = {3,4,6,7,8}\n",
    "\n",
    "intersection = s1.intersection(s2)\n",
    "\n",
    "print(intersection)"
   ]
  },
  {
   "cell_type": "code",
   "execution_count": 168,
   "id": "fbf25402-172e-458a-9ec8-99c3cb52ab9b",
   "metadata": {},
   "outputs": [
    {
     "name": "stdout",
     "output_type": "stream",
     "text": [
      "{1, 2, 3, 5, 7, 9}\n",
      "{3, 4, 6, 7, 8}\n",
      "difference between two set: {1, 2, 5, 9}\n"
     ]
    }
   ],
   "source": [
    "'''11. Find the difference between two sets.'''\n",
    "\n",
    "s1 = {1,2,3,5,7,9}\n",
    "s2 = {3,4,6,7,8}\n",
    "\n",
    "difference = s1.difference(s2)\n",
    "\n",
    "print(s1)\n",
    "print(s2)\n",
    "print(\"difference between two set:\",difference)"
   ]
  },
  {
   "cell_type": "code",
   "execution_count": 169,
   "id": "6a759b56-fceb-429f-814b-a16b779ffe22",
   "metadata": {},
   "outputs": [
    {
     "name": "stdout",
     "output_type": "stream",
     "text": [
      "set s2 is subset of set s1: True\n"
     ]
    }
   ],
   "source": [
    "'''12. Check if a set is a subset of another set.'''\n",
    "\n",
    "s1 = {1,2,3,5,7,9}\n",
    "s2 = {3,5,7}\n",
    "\n",
    "subset = s2.issubset(s1)\n",
    "\n",
    "print(\"set s2 is subset of set s1:\",subset)"
   ]
  },
  {
   "cell_type": "code",
   "execution_count": 170,
   "id": "cc491d65-52d5-4fa3-bc6d-adaffa7650df",
   "metadata": {},
   "outputs": [
    {
     "name": "stdout",
     "output_type": "stream",
     "text": [
      "set s1 is superset of set s2: True\n"
     ]
    }
   ],
   "source": [
    "'''13. Check if a set is a superset of another set.'''\n",
    "\n",
    "s1 = {1,2,3,4,5,6}\n",
    "s2 = {1,2,3}\n",
    "\n",
    "superset = s1.issuperset(s2)\n",
    "\n",
    "print(\"set s1 is superset of set s2:\",superset)"
   ]
  },
  {
   "cell_type": "code",
   "execution_count": 171,
   "id": "d3faeba6-426b-42e7-ba7e-66b1091be6e8",
   "metadata": {},
   "outputs": [
    {
     "name": "stdout",
     "output_type": "stream",
     "text": [
      "{1, 2, 3, 4, 5, 6}\n"
     ]
    }
   ],
   "source": [
    "'''14. Create a set from a list.'''\n",
    "\n",
    "l1 = [1,2,3,4,5]\n",
    "\n",
    "S1 = set(l1)\n",
    "\n",
    "print(s1)"
   ]
  },
  {
   "cell_type": "code",
   "execution_count": 5,
   "id": "da52110e-83ec-42d4-9db5-07424640777d",
   "metadata": {},
   "outputs": [
    {
     "name": "stdout",
     "output_type": "stream",
     "text": [
      "[1, 2, 3, 4, 5]\n"
     ]
    }
   ],
   "source": [
    "'''15. Convert a set to a list.'''\n",
    "\n",
    "s1 = {1,2,3,4,5}\n",
    "\n",
    "l1 = list(s1)\n",
    "\n",
    "print(l1)"
   ]
  },
  {
   "cell_type": "code",
   "execution_count": 4,
   "id": "823d57c9-90ba-4786-bbc9-b33d52f80bb4",
   "metadata": {},
   "outputs": [
    {
     "name": "stdout",
     "output_type": "stream",
     "text": [
      "Random element: 1\n",
      "{2, 3, 4}\n"
     ]
    }
   ],
   "source": [
    "'''16. Remove a random element from a set.'''\n",
    "\n",
    "import random\n",
    "\n",
    "S1 = {1,2,3,4}\n",
    "\n",
    "element = random.choice(list(S1))\n",
    "\n",
    "S1.remove(element)\n",
    "\n",
    "print(\"Random element:\",element)\n",
    "print(S1)"
   ]
  },
  {
   "cell_type": "code",
   "execution_count": 180,
   "id": "9661ff4e-8012-46f4-a9d8-b43e15201319",
   "metadata": {},
   "outputs": [
    {
     "name": "stdout",
     "output_type": "stream",
     "text": [
      "1\n",
      "{2, 3, 4, 5}\n"
     ]
    }
   ],
   "source": [
    "'''17. Pop an element from a set.'''\n",
    "\n",
    "S1 = {1,2,3,4,5}\n",
    "\n",
    "Pop_element = S1.pop()\n",
    "\n",
    "print(Pop_element)\n",
    "print(S1)"
   ]
  },
  {
   "cell_type": "code",
   "execution_count": 184,
   "id": "8ecdcd61-1ccc-4591-9e98-360514eb1cb7",
   "metadata": {},
   "outputs": [
    {
     "name": "stdout",
     "output_type": "stream",
     "text": [
      "Two sets have no common elements.\n"
     ]
    }
   ],
   "source": [
    "'''18. Check if two sets have no elements in common.'''\n",
    "\n",
    "S1 = {1,2,3,4,5}\n",
    "S2 = {6,7,8,9}\n",
    "\n",
    "common = S1.intersection(S2)\n",
    "\n",
    "if not common:\n",
    "    print(\"Two sets have no common elements.\")\n",
    "else:\n",
    "    print(\"Two sets have no common elements.\")"
   ]
  },
  {
   "cell_type": "code",
   "execution_count": 185,
   "id": "6fce92cb-6516-4a75-b4b0-5dc4508fb278",
   "metadata": {},
   "outputs": [
    {
     "name": "stdout",
     "output_type": "stream",
     "text": [
      "{1, 2, 3, 6, 7, 8, 9}\n"
     ]
    }
   ],
   "source": [
    "'''19. Find the symmetric difference between two sets.'''\n",
    "\n",
    "S1 = {1,2,3,4,5}\n",
    "S2 = {4,5,6,7,8,9}\n",
    "\n",
    "symmetric = S1 ^ S2\n",
    "\n",
    "print(symmetric)"
   ]
  },
  {
   "cell_type": "code",
   "execution_count": 187,
   "id": "8159e9cd-d4cd-400a-a159-4f4065d470b9",
   "metadata": {},
   "outputs": [
    {
     "name": "stdout",
     "output_type": "stream",
     "text": [
      "{1, 2, 3}\n",
      "{4, 5, 6, 7}\n",
      "{1, 2, 3, 4, 5, 6, 7}\n"
     ]
    }
   ],
   "source": [
    "'''20. Update a set with elements from another set.'''\n",
    "\n",
    "s1 = {1,2,3}\n",
    "print(s1)\n",
    "\n",
    "s2 = {4,5,6,7}\n",
    "print(s2)\n",
    "\n",
    "s1.update(s2)\n",
    "\n",
    "print(s1)"
   ]
  },
  {
   "cell_type": "code",
   "execution_count": 24,
   "id": "72d6bb98-8f73-499c-ab4a-1b6c82a5e7f4",
   "metadata": {},
   "outputs": [
    {
     "name": "stdout",
     "output_type": "stream",
     "text": [
      "{2, 3, 5, 7, 11}\n"
     ]
    }
   ],
   "source": [
    "'''21. Create a set of the first 5 prime numbers.'''\n",
    "\n",
    "def prime(n):\n",
    "    if n <= 1:\n",
    "        return False\n",
    "    for i in range(2,int(n ** 0.5)+1):\n",
    "        if n % i == 0:\n",
    "            return False\n",
    "    return True\n",
    "\n",
    "prime_list = [n for n in range(2,100) if prime(n)][:5]\n",
    "prime_set = set(prime_list)\n",
    "print(prime_set)"
   ]
  },
  {
   "cell_type": "code",
   "execution_count": 25,
   "id": "7a58b721-eb62-4d67-8c51-a2b5b3c6fac1",
   "metadata": {},
   "outputs": [
    {
     "name": "stdout",
     "output_type": "stream",
     "text": [
      "Sets are identical\n"
     ]
    }
   ],
   "source": [
    "'''22. Check if two sets are identical.'''\n",
    "\n",
    "S1 = {1,2,3,4,5}\n",
    "S2 = {2,5,3,1,4}\n",
    "\n",
    "if S1 == S2:\n",
    "    print(\"Sets are identical\")\n",
    "else:\n",
    "    print(\"Sets are not identical\")"
   ]
  },
  {
   "cell_type": "code",
   "execution_count": 28,
   "id": "beeca1dc-5210-464f-b46a-05cc18f143b2",
   "metadata": {},
   "outputs": [
    {
     "name": "stdout",
     "output_type": "stream",
     "text": [
      "frozenset({1, 2, 3, 4, 5})\n"
     ]
    }
   ],
   "source": [
    "'''23. Create a frozen set.'''\n",
    "\n",
    "S1 = [1,2,3,4,5]\n",
    "\n",
    "frozen_set =  frozenset(S1)\n",
    "\n",
    "print(frozen_set)"
   ]
  },
  {
   "cell_type": "code",
   "execution_count": 29,
   "id": "0fb4ef55-155b-4da6-b796-44b1e31ea0e8",
   "metadata": {},
   "outputs": [
    {
     "name": "stdout",
     "output_type": "stream",
     "text": [
      "Are the sets disjoint? True\n"
     ]
    }
   ],
   "source": [
    "'''24. Check if a set is disjoint with another set.'''\n",
    "\n",
    "S1 = {1,2,3,4,5}\n",
    "S2 = {6,7,8,9}\n",
    "\n",
    "disjoint_set = S1.isdisjoint(S2)\n",
    "\n",
    "print(\"Are the sets disjoint?\",disjoint_set)\n"
   ]
  },
  {
   "cell_type": "code",
   "execution_count": 30,
   "id": "c7e413c7-c951-41f1-bbae-8c14b22f06b2",
   "metadata": {},
   "outputs": [
    {
     "name": "stdout",
     "output_type": "stream",
     "text": [
      "{1, 4, 9, 16, 25}\n"
     ]
    }
   ],
   "source": [
    "'''25. Create a set of squares of numbers from 1 to 5.'''\n",
    "\n",
    "s1 = set()\n",
    "\n",
    "for n in range(1,6):\n",
    "    square =  n ** 2\n",
    "    s1.add(square)\n",
    "print(s1)"
   ]
  },
  {
   "cell_type": "code",
   "execution_count": 33,
   "id": "bbe3069d-53f2-42b4-9eb3-ab8f3571f525",
   "metadata": {},
   "outputs": [
    {
     "name": "stdout",
     "output_type": "stream",
     "text": [
      "even number {2, 4, 6}\n"
     ]
    }
   ],
   "source": [
    "'''26. Filter out all even numbers from a set.'''\n",
    "\n",
    "s1 = {1,2,3,4,5,6,7}\n",
    "\n",
    "even_set = set()\n",
    "\n",
    "for i in s1:\n",
    "    if i % 2 == 0:\n",
    "        even_set.add(i)\n",
    "print(\"even number\",even_set)"
   ]
  },
  {
   "cell_type": "code",
   "execution_count": 37,
   "id": "79b6a0eb-8fb8-4ca5-9334-d0d5cdf40143",
   "metadata": {},
   "outputs": [
    {
     "name": "stdout",
     "output_type": "stream",
     "text": [
      "{2, 4, 6, 8, 10}\n"
     ]
    }
   ],
   "source": [
    "'''27. Multiply all elements in a set by 2.'''\n",
    "\n",
    "S1 = {1,2,3,4,5}\n",
    "S2 = set()\n",
    "for i in S1:\n",
    "    S3 = i * 2\n",
    "    S2.add(S3)\n",
    "print(S2)"
   ]
  },
  {
   "cell_type": "code",
   "execution_count": 38,
   "id": "ea2d7b25-2890-4f3d-8c41-5e7fc9327402",
   "metadata": {},
   "outputs": [
    {
     "name": "stdout",
     "output_type": "stream",
     "text": [
      "{97, 36, 40, 13, 94}\n"
     ]
    }
   ],
   "source": [
    "'''28. Create a set of random numbers.'''\n",
    "\n",
    "import random\n",
    "num = 5\n",
    "\n",
    "random_set = set()\n",
    "\n",
    "for i in range(num):\n",
    "    random_num = random.randint(1,100)\n",
    "    random_set.add(random_num)\n",
    "print(random_set)    "
   ]
  },
  {
   "cell_type": "code",
   "execution_count": 40,
   "id": "8a1b2921-d8d8-4503-b625-c8d32238c4a5",
   "metadata": {},
   "outputs": [
    {
     "name": "stdout",
     "output_type": "stream",
     "text": [
      "Set is empty.\n"
     ]
    }
   ],
   "source": [
    "'''29. Check if a set is empty.'''\n",
    "\n",
    "my_set = set()\n",
    "\n",
    "if not my_set:\n",
    "    print(\"Set is empty.\")\n",
    "else:\n",
    "    print(\"Set is not empty.\")"
   ]
  },
  {
   "cell_type": "code",
   "execution_count": 41,
   "id": "31af0afc-c836-4214-a17f-6d6693a30543",
   "metadata": {},
   "outputs": [
    {
     "name": "stdout",
     "output_type": "stream",
     "text": [
      "(frozenset({1, 2, 3, 4}), frozenset({8, 5, 6, 7}))\n"
     ]
    }
   ],
   "source": [
    "'''30. Create a nested set (hint: use frozenset).'''\n",
    "\n",
    "S1 = {1,2,3,4}\n",
    "S2 = {5,6,7,8}\n",
    "\n",
    "frozenset_s1 = frozenset(S1)\n",
    "frozenset_s2 = frozenset(S2)\n",
    "\n",
    "nested_set = (frozenset_s1,frozenset_s2)\n",
    "\n",
    "print(nested_set)"
   ]
  },
  {
   "cell_type": "code",
   "execution_count": 45,
   "id": "54656f9d-407e-4388-b081-54c08a7eace5",
   "metadata": {},
   "outputs": [
    {
     "name": "stdout",
     "output_type": "stream",
     "text": [
      "{1, 2, 4, 5, 6}\n"
     ]
    }
   ],
   "source": [
    "'''31. Remove an element from a set using the discard method.'''\n",
    "\n",
    "S1 = {1,2,3,4,5,6}\n",
    "\n",
    "S1.discard(3)\n",
    "\n",
    "print(S1)"
   ]
  },
  {
   "cell_type": "code",
   "execution_count": 49,
   "id": "8501e928-a4ea-4d00-85c0-a24fe9f24a55",
   "metadata": {},
   "outputs": [
    {
     "name": "stdout",
     "output_type": "stream",
     "text": [
      "Set 1: {1, 2, 3, 4, 5}\n",
      "Set 2: {4, 5, 6, 7, 8}\n",
      "subset: False\n",
      "superset: False\n",
      "intersection: {4, 5}\n",
      "union: {1, 2, 3, 4, 5, 6, 7, 8}\n",
      "difference1: {1, 2, 3}\n",
      "difference2: {8, 6, 7}\n"
     ]
    }
   ],
   "source": [
    "'''32. Compare two sets.'''\n",
    "\n",
    "S1 = {1,2,3,4,5}\n",
    "S2 = {4,5,6,7,8}\n",
    "\n",
    "subset = S1.issubset(S2)\n",
    "superset = S1.issuperset(S2)\n",
    "intersection = S1.intersection(S2)\n",
    "union = S1.union(S2)\n",
    "difference1 = S1.difference(S2)\n",
    "difference2 = S2.difference(S1)\n",
    "print(\"Set 1:\",S1)\n",
    "print(\"Set 2:\",S2)\n",
    "print(\"subset:\",subset)\n",
    "print(\"superset:\",superset)\n",
    "print(\"intersection:\",intersection)\n",
    "print(\"union:\",union)\n",
    "print(\"difference1:\",difference1)\n",
    "print(\"difference2:\",difference2)"
   ]
  },
  {
   "cell_type": "code",
   "execution_count": 50,
   "id": "ce666d16-db3a-4b9f-8275-960612fd7c1c",
   "metadata": {},
   "outputs": [
    {
     "name": "stdout",
     "output_type": "stream",
     "text": [
      "{'u', 'k', ' ', 'c', 's', 'w', 'h', 'o', 'r', 'p', 'l', 'i', 'e', 'T', '.'}\n"
     ]
    }
   ],
   "source": [
    "'''33. Create a set from a string.'''\n",
    "\n",
    "string = \"This is pwskill course.\"\n",
    "\n",
    "my_set = set(string)\n",
    "\n",
    "print(my_set)"
   ]
  },
  {
   "cell_type": "code",
   "execution_count": 52,
   "id": "bed13a94-2692-4a42-8d45-a867b9fd046c",
   "metadata": {},
   "outputs": [
    {
     "name": "stdout",
     "output_type": "stream",
     "text": [
      "String set {'123', '45', '12'}\n",
      "integer set {123, 12, 45}\n"
     ]
    }
   ],
   "source": [
    "'''34. Convert a set of strings to a set of integers.'''\n",
    "\n",
    "string_set = {\"12\",\"123\",\"45\"}\n",
    "\n",
    "int_set = set()\n",
    "\n",
    "for i in string_set:\n",
    "    int_value = int(i)\n",
    "    int_set.add(int_value)\n",
    "print(\"String set\",string_set)\n",
    "print(\"integer set\",int_set)"
   ]
  },
  {
   "cell_type": "code",
   "execution_count": 53,
   "id": "dedceb0c-5ad9-4e9e-8197-0398f3884e9f",
   "metadata": {},
   "outputs": [
    {
     "name": "stdout",
     "output_type": "stream",
     "text": [
      "integer set {123, 12, 45}\n",
      "String set {'123', '45', '12'}\n"
     ]
    }
   ],
   "source": [
    "'''35. Convert a set of integers to a set of strings.'''\n",
    "\n",
    "int_set = {123, 12, 45}\n",
    "\n",
    "string_set = set()\n",
    "\n",
    "for i in int_set:\n",
    "    string_value = str(i)\n",
    "    string_set.add(string_value)\n",
    "print(\"integer set\",int_set)\n",
    "print(\"String set\",string_set)"
   ]
  },
  {
   "cell_type": "code",
   "execution_count": 54,
   "id": "9e15b9c4-a6f9-44a5-8349-909217397841",
   "metadata": {},
   "outputs": [
    {
     "name": "stdout",
     "output_type": "stream",
     "text": [
      "{1, 2, 3, 4, 5}\n"
     ]
    }
   ],
   "source": [
    "'''36. Create a set from a tuple.'''\n",
    "\n",
    "t1 = (1,2,3,4,5)\n",
    "\n",
    "s1 = set(t1)\n",
    "print(s1)"
   ]
  },
  {
   "cell_type": "code",
   "execution_count": 55,
   "id": "8deae333-1bae-4f10-a89d-0e38e35cbf75",
   "metadata": {},
   "outputs": [
    {
     "name": "stdout",
     "output_type": "stream",
     "text": [
      "(1, 2, 3, 4, 5)\n"
     ]
    }
   ],
   "source": [
    "'''37. Convert a set to a tuple.'''\n",
    "\n",
    "s1 = {1, 2, 3, 4, 5}\n",
    "\n",
    "t1 = tuple(s1)\n",
    "print(t1)"
   ]
  },
  {
   "cell_type": "code",
   "execution_count": 5,
   "id": "f6c09544-3602-490e-acc5-7d0cb5182be2",
   "metadata": {},
   "outputs": [
    {
     "name": "stdout",
     "output_type": "stream",
     "text": [
      "89\n"
     ]
    }
   ],
   "source": [
    "'''38. Find the maximum value in a set.'''\n",
    "\n",
    "s1 = {12,67,23,5,34,89,26}\n",
    "\n",
    "max_value = None\n",
    "\n",
    "for i in s1:\n",
    "    if max_value is None or i > max_value:\n",
    "        max_value = i\n",
    "\n",
    "print(max_value)"
   ]
  },
  {
   "cell_type": "code",
   "execution_count": 6,
   "id": "786c2f7f-959a-4aed-abb7-41bd3ceeb3d5",
   "metadata": {},
   "outputs": [
    {
     "name": "stdout",
     "output_type": "stream",
     "text": [
      "5\n"
     ]
    }
   ],
   "source": [
    "'''39. Find the minimum value in a set.'''\n",
    "\n",
    "s1 = {12,67,23,5,34,89,26}\n",
    "\n",
    "min_value = None\n",
    "\n",
    "for i in s1:\n",
    "    if min_value is None or i < min_value:\n",
    "        min_value = i\n",
    "\n",
    "print(min_value)"
   ]
  },
  {
   "cell_type": "code",
   "execution_count": 9,
   "id": "f570f8ca-3f69-40f0-9e0c-b07893960b1f",
   "metadata": {},
   "outputs": [
    {
     "name": "stdin",
     "output_type": "stream",
     "text": [
      "Enter string pw,skills,done\n"
     ]
    },
    {
     "name": "stdout",
     "output_type": "stream",
     "text": [
      "{'done', 'pw', 'skills'}\n"
     ]
    }
   ],
   "source": [
    "'''40. Create a set from user input.'''\n",
    "\n",
    "string = input(\"Enter string\")\n",
    "\n",
    "l1 = string.split(',')\n",
    "\n",
    "S1 = set(l1)\n",
    "\n",
    "print(S1)"
   ]
  },
  {
   "cell_type": "code",
   "execution_count": 10,
   "id": "1608b3e1-4d6e-4505-8d05-e3ce69c42635",
   "metadata": {},
   "outputs": [
    {
     "name": "stdout",
     "output_type": "stream",
     "text": [
      "The intersection of two sets is not empty.\n"
     ]
    }
   ],
   "source": [
    "'''41. Check if the intersection of two sets is empty.'''\n",
    "\n",
    "S1 = {1,2,3,4,5}\n",
    "S2 = {4,5,6,7,8}\n",
    "\n",
    "intersection = S1.intersection(S2)\n",
    "\n",
    "if not intersection:\n",
    "    print(\"The intersection of two sets is empty.\")\n",
    "else:\n",
    "    print(\"The intersection of two sets is not empty.\")"
   ]
  },
  {
   "cell_type": "code",
   "execution_count": 13,
   "id": "5fe81f16-eea1-4c4f-af1a-0757144758a3",
   "metadata": {},
   "outputs": [
    {
     "name": "stdin",
     "output_type": "stream",
     "text": [
      "Enter number 5\n"
     ]
    },
    {
     "name": "stdout",
     "output_type": "stream",
     "text": [
      "{0, 1, 2, 3, 5}\n"
     ]
    }
   ],
   "source": [
    "'''42. Create a set of the first 5 Fibonacci numbers.'''\n",
    "\n",
    "my_set = set()\n",
    "a,b = 0,1\n",
    "n = int(input(\"Enter number\"))\n",
    "counter = 0\n",
    "while counter <= n :\n",
    "    my_set.add(a)\n",
    "    c = a+b\n",
    "    a = b\n",
    "    b = c\n",
    "    counter = counter + 1\n",
    "print(my_set)"
   ]
  },
  {
   "cell_type": "code",
   "execution_count": 15,
   "id": "4dd7e5af-8f6a-44d4-8161-cd97085e10d9",
   "metadata": {},
   "outputs": [
    {
     "name": "stdout",
     "output_type": "stream",
     "text": [
      "{1, 2, 3, 4, 5, 6}\n"
     ]
    }
   ],
   "source": [
    "'''43. Remove duplicates from a list using sets.'''\n",
    "\n",
    "l1 = [1,2,3,1,4,2,5,6,3]\n",
    "\n",
    "s1 = set(l1)\n",
    "print(s1)"
   ]
  },
  {
   "cell_type": "code",
   "execution_count": 16,
   "id": "401032be-4d7f-44ed-99f4-9faf25d2dd3c",
   "metadata": {},
   "outputs": [
    {
     "name": "stdout",
     "output_type": "stream",
     "text": [
      "The sets have the same elements.\n"
     ]
    }
   ],
   "source": [
    "'''44. Check if two sets have the same elements, regardless of their count.'''\n",
    "\n",
    "def same_element(s1,s2):\n",
    "    sorted_l1 = sorted(list(s1))\n",
    "    sorted_l2 = sorted(list(s2))\n",
    "    \n",
    "    return sorted_l1 == sorted_l2\n",
    "\n",
    "s1 = {1,2,3,4,2,1}\n",
    "s2 = {1,2,3,4}\n",
    "\n",
    "result = same_element(s1,s2)\n",
    "\n",
    "if result:\n",
    "    print(\"The sets have the same elements.\")\n",
    "else:\n",
    "    print(\"The sets do not have the same elements\")"
   ]
  },
  {
   "cell_type": "code",
   "execution_count": 17,
   "id": "237895d4-aaf1-4f04-a504-ea449af49b9c",
   "metadata": {},
   "outputs": [
    {
     "name": "stdout",
     "output_type": "stream",
     "text": [
      "{1, 2, 4, 8, 16}\n"
     ]
    }
   ],
   "source": [
    "'''45. Create a set of the first `n` powers of 2.'''\n",
    "\n",
    "s1 = set(2 ** i for i in range(5))\n",
    "\n",
    "print(s1)"
   ]
  },
  {
   "cell_type": "code",
   "execution_count": 18,
   "id": "3a775ec1-eed9-4e57-9b64-b1601b34539e",
   "metadata": {},
   "outputs": [
    {
     "name": "stdout",
     "output_type": "stream",
     "text": [
      "common elements: [3, 5, 6]\n"
     ]
    }
   ],
   "source": [
    "'''46. Find the common elements between a set and a list.'''\n",
    "\n",
    "s1 = {1,2,3,4,5,6}\n",
    "l1 = [3,5,6]\n",
    "\n",
    "list_to_set = set(l1)\n",
    "\n",
    "common = []\n",
    "\n",
    "for i in s1:\n",
    "    if i in list_to_set:\n",
    "        common.append(i)\n",
    "print(\"common elements:\",common)"
   ]
  },
  {
   "cell_type": "code",
   "execution_count": 19,
   "id": "10fe5270-407d-4ddc-8e87-40aef5823f0b",
   "metadata": {},
   "outputs": [
    {
     "name": "stdout",
     "output_type": "stream",
     "text": [
      "{1, 3, 6, 10, 15}\n"
     ]
    }
   ],
   "source": [
    "'''47. Create a set of the first `n` triangular numbers.'''\n",
    "\n",
    "n = 5\n",
    "\n",
    "s = set((i*(i+1)) // 2 for i in range(1,n+1))\n",
    "\n",
    "print(s)"
   ]
  },
  {
   "cell_type": "code",
   "execution_count": 20,
   "id": "4db19f85-3532-45bd-aef2-94fef04c0d70",
   "metadata": {},
   "outputs": [
    {
     "name": "stdout",
     "output_type": "stream",
     "text": [
      "set s2 is subset of set s1: True\n"
     ]
    }
   ],
   "source": [
    "'''48. Check if a set contains another set as a subset.'''\n",
    "\n",
    "s1 = {1,2,3,5,7,9}\n",
    "s2 = {3,5,7}\n",
    "\n",
    "subset = s2.issubset(s1)\n",
    "\n",
    "print(\"set s2 is subset of set s1:\",subset)"
   ]
  },
  {
   "cell_type": "code",
   "execution_count": 21,
   "id": "3488a1c7-aba0-4a01-bd89-525fa5865551",
   "metadata": {},
   "outputs": [
    {
     "name": "stdout",
     "output_type": "stream",
     "text": [
      "{0, 1}\n"
     ]
    }
   ],
   "source": [
    "'''49. Create a set of alternating 1s and 0s of length `n`.'''\n",
    "\n",
    "n = 10\n",
    "\n",
    "s = set(i % 2 for i in range(n))\n",
    "\n",
    "print(s)"
   ]
  },
  {
   "cell_type": "code",
   "execution_count": 23,
   "id": "542590f4-2fcb-4f1e-ac7a-398bcb328897",
   "metadata": {},
   "outputs": [
    {
     "name": "stdout",
     "output_type": "stream",
     "text": [
      "{1, 2, 3, 4, 5, 6, 7, 8, 9, 10, 11, 12, 13}\n"
     ]
    }
   ],
   "source": [
    "'''50. Merge multiple sets into one.'''\n",
    "\n",
    "s1 = {1,2,3,5,7,9}\n",
    "s2 = {3,4,6,7,8,10}\n",
    "s3 = {1,5,6,8,11,12,13}\n",
    "\n",
    "Union = s1.union(s2,s3)\n",
    "\n",
    "print(Union)\n"
   ]
  }
 ],
 "metadata": {
  "kernelspec": {
   "display_name": "Python 3 (ipykernel)",
   "language": "python",
   "name": "python3"
  },
  "language_info": {
   "codemirror_mode": {
    "name": "ipython",
    "version": 3
   },
   "file_extension": ".py",
   "mimetype": "text/x-python",
   "name": "python",
   "nbconvert_exporter": "python",
   "pygments_lexer": "ipython3",
   "version": "3.10.8"
  }
 },
 "nbformat": 4,
 "nbformat_minor": 5
}
