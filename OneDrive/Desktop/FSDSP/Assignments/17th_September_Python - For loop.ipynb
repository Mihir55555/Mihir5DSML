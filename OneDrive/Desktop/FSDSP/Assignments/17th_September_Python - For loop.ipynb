{
 "cells": [
  {
   "cell_type": "code",
   "execution_count": null,
   "id": "169738ea-efcb-4d8d-80e1-b9a061b724f2",
   "metadata": {},
   "outputs": [],
   "source": [
    "#For Loop :-"
   ]
  },
  {
   "cell_type": "code",
   "execution_count": 54,
   "id": "975577b6-b83e-4e58-ba19-62281e70bdce",
   "metadata": {},
   "outputs": [
    {
     "name": "stdout",
     "output_type": "stream",
     "text": [
      "1\n",
      "2\n",
      "3\n",
      "4\n",
      "5\n",
      "6\n",
      "7\n",
      "8\n",
      "9\n",
      "10\n"
     ]
    }
   ],
   "source": [
    "'''1.Write a Python program to print numbers from 1 to 10 using a for loop.'''\n",
    "\n",
    "for i in range(1,11):\n",
    "    print(i)"
   ]
  },
  {
   "cell_type": "code",
   "execution_count": null,
   "id": "3f3eabbe-27e3-4152-b46f-ac05ead918d8",
   "metadata": {},
   "outputs": [],
   "source": [
    "2.Explain the difference between a for loop and a while loop in Python.\n",
    "\n",
    "for loop: -\n",
    "\n",
    "for loop is used to iterating over the sequence.\n",
    "for loop is used when the number of iteration is known.\n",
    "\n",
    "syntax :-\n",
    "\n",
    "for i in range(5):\n",
    "\n",
    "    print(i)\n",
    "    \n",
    "While Loop :-\n",
    "\n",
    "while loop is used iterating over the sequence when condition true. \n",
    "while loop is used when the number of iteration is already unknown.\n",
    "\n",
    "syntax :\n",
    "\n",
    "i =0\n",
    "\n",
    "while i != 5:\n",
    "\n",
    "print(i)\n",
    "\n",
    "i +=1"
   ]
  },
  {
   "cell_type": "code",
   "execution_count": 5,
   "id": "a2fa4ecf-8b35-406d-b8bf-2e1c47dbb460",
   "metadata": {},
   "outputs": [
    {
     "name": "stdout",
     "output_type": "stream",
     "text": [
      "5050\n"
     ]
    }
   ],
   "source": [
    "'''3.Write a Python program to calculate the sum of all numbers from 1 to 100 using a for loop.'''\n",
    "\n",
    "sum = 0\n",
    "for i in range(1,101):\n",
    "    sum = sum+i\n",
    "print(sum)"
   ]
  },
  {
   "cell_type": "code",
   "execution_count": 3,
   "id": "6b9fd393-c641-4420-9d0f-fae463454a3f",
   "metadata": {},
   "outputs": [
    {
     "name": "stdout",
     "output_type": "stream",
     "text": [
      "1 2 3 4 5 6 7 ABC CDE 37 54 "
     ]
    }
   ],
   "source": [
    "'''4.How do you iterate through a list using a for loop in Python?'''\n",
    "#here is example:\n",
    "\n",
    "lst =[1,2,3,4,5,6,7,'ABC','CDE',37,54]\n",
    "\n",
    "for i in lst:\n",
    "    print(i,end= ' ')"
   ]
  },
  {
   "cell_type": "code",
   "execution_count": 9,
   "id": "8751a0fe-b315-434f-b2c6-8890d028be4f",
   "metadata": {},
   "outputs": [
    {
     "name": "stdout",
     "output_type": "stream",
     "text": [
      "720\n"
     ]
    }
   ],
   "source": [
    "'''5.Write a Python program to find the product of all elements in a list using a for loop.'''\n",
    "\n",
    "l1 = [2,3,4,5,6]\n",
    "product = 1\n",
    "for i in l1:\n",
    "    product = product * i\n",
    "print(product)"
   ]
  },
  {
   "cell_type": "code",
   "execution_count": 10,
   "id": "66482484-71d2-4030-835a-941a7b507659",
   "metadata": {},
   "outputs": [
    {
     "name": "stdout",
     "output_type": "stream",
     "text": [
      "2\n",
      "4\n",
      "6\n",
      "8\n",
      "10\n",
      "12\n",
      "14\n",
      "16\n",
      "18\n",
      "20\n"
     ]
    }
   ],
   "source": [
    "'''6.Create a Python program that prints all even numbers from 1 to 20 using a for loop.'''\n",
    "\n",
    "for i in range(1,21):\n",
    "    if i % 2 == 0:\n",
    "        print(i)"
   ]
  },
  {
   "cell_type": "code",
   "execution_count": 11,
   "id": "a0c4b447-c5f4-4699-b2cc-2ad3d17f6063",
   "metadata": {},
   "outputs": [
    {
     "name": "stdout",
     "output_type": "stream",
     "text": [
      "120\n"
     ]
    }
   ],
   "source": [
    "'''7.Write a Python program that calculates the factorial of a number using a for loop.'''\n",
    "\n",
    "n = 5\n",
    "factorial = 1\n",
    "for i in range(n):\n",
    "    factorial = n * factorial\n",
    "    n = n - 1\n",
    "print(factorial)"
   ]
  },
  {
   "cell_type": "code",
   "execution_count": 4,
   "id": "be0b177b-a167-4b9f-9de8-e58d12cc6128",
   "metadata": {},
   "outputs": [
    {
     "name": "stdout",
     "output_type": "stream",
     "text": [
      "p w s k i l l s "
     ]
    }
   ],
   "source": [
    "'''8.How can you iterate through the characters of a string using a for loop in Python?'''\n",
    "#here is example:\n",
    "\n",
    "string ='pwskills'\n",
    "\n",
    "for i in string :\n",
    "    print(i,end=' ')"
   ]
  },
  {
   "cell_type": "code",
   "execution_count": 28,
   "id": "d22d602d-4368-45e4-a6ef-d8f2fe3089b6",
   "metadata": {},
   "outputs": [
    {
     "name": "stdout",
     "output_type": "stream",
     "text": [
      "98\n"
     ]
    }
   ],
   "source": [
    "'''9.Write a Python program to find the largest number in a list using a for loop.'''\n",
    "\n",
    "l1 = [22,33,14,5,98,56]\n",
    "largest = l1[0]\n",
    "for i in l1:\n",
    "    if i > largest:\n",
    "        largest = i\n",
    "print(largest)"
   ]
  },
  {
   "cell_type": "code",
   "execution_count": 29,
   "id": "1c301115-ca82-480d-b081-297ecc649bd2",
   "metadata": {},
   "outputs": [
    {
     "name": "stdout",
     "output_type": "stream",
     "text": [
      "0\n",
      "1\n",
      "1\n",
      "2\n",
      "3\n",
      "5\n",
      "8\n",
      "13\n",
      "21\n",
      "34\n"
     ]
    }
   ],
   "source": [
    "'''10.Create a Python program that prints the Fibonacci sequence up to a specified limit using a for loop.'''\n",
    "\n",
    "a,b = 0,1\n",
    "for i in range(1,11):\n",
    "    print(a)\n",
    "    c = a+b\n",
    "    a = b\n",
    "    b = c"
   ]
  },
  {
   "cell_type": "code",
   "execution_count": 40,
   "id": "4411405f-0d07-4d67-97b4-52a50dbe2855",
   "metadata": {},
   "outputs": [
    {
     "name": "stdout",
     "output_type": "stream",
     "text": [
      "5\n"
     ]
    }
   ],
   "source": [
    "'''11.Write a Python program to count the number of vowels in a given string using a for loop.'''\n",
    "\n",
    "v = ['a', 'e', 'i', 'o', 'u','A', 'E', 'I', 'O', 'U']\n",
    "\n",
    "l1 = \"Hello India\"\n",
    "count = 0\n",
    "for i in l1:\n",
    "    if i in v:\n",
    "        count=count + 1\n",
    "        \n",
    "print(count)"
   ]
  },
  {
   "cell_type": "code",
   "execution_count": 41,
   "id": "5cbdca84-3718-427b-b89b-0619b99b476d",
   "metadata": {},
   "outputs": [
    {
     "name": "stdout",
     "output_type": "stream",
     "text": [
      "5 * 1 = 5\n",
      "5 * 2 = 10\n",
      "5 * 3 = 15\n",
      "5 * 4 = 20\n",
      "5 * 5 = 25\n",
      "5 * 6 = 30\n",
      "5 * 7 = 35\n",
      "5 * 8 = 40\n",
      "5 * 9 = 45\n",
      "5 * 10 = 50\n"
     ]
    }
   ],
   "source": [
    "'''12.Create a Python program that generates a multiplication table for a given number using a for loop.'''\n",
    "\n",
    "n = 5\n",
    "i = 1\n",
    "for i in range(1,11):\n",
    "    result = n * i\n",
    "    print(n,\"*\",i,\"=\",result)"
   ]
  },
  {
   "cell_type": "code",
   "execution_count": 5,
   "id": "3e5736cf-8b28-4392-805f-7d63c5f3117f",
   "metadata": {},
   "outputs": [
    {
     "name": "stdout",
     "output_type": "stream",
     "text": [
      "[5, 4, 3, 2, 1]\n"
     ]
    }
   ],
   "source": [
    "'''13.Write a Python program to reverse a list using a for loop.'''\n",
    "\n",
    "L1 = [1,2,3,4,5]\n",
    "L2 = []\n",
    "for i in L1:\n",
    "    L2 = [i] + L2\n",
    "print(L2)"
   ]
  },
  {
   "cell_type": "code",
   "execution_count": 6,
   "id": "f30f2914-f77a-4687-ba7c-470466e9ea5d",
   "metadata": {},
   "outputs": [
    {
     "name": "stdout",
     "output_type": "stream",
     "text": [
      "[4, 5, 6]\n"
     ]
    }
   ],
   "source": [
    "'''14.Write a Python program to find the common elements between two lists using a for loop.'''\n",
    "\n",
    "l1 = [1,2,3,4,5,6]\n",
    "l2 = [4,5,6,7,8]\n",
    "\n",
    "def common(l1,l2): \n",
    "    c = [i for i in l1 if i in l2]\n",
    "    return c\n",
    "        \n",
    "result = common(l1,l2)\n",
    "print(result)"
   ]
  },
  {
   "cell_type": "code",
   "execution_count": 8,
   "id": "38f72139-0619-4b07-8616-2c63510fed3b",
   "metadata": {},
   "outputs": [],
   "source": [
    "'''15.Explain how to use a for loop to iterate through the keys and values of a dictionary in Python.'''\n",
    "#here is example:\n",
    "\n",
    "dict1 ={1 :\"ABC\",2:\"DEFG\",3:\"Pwskills\"}"
   ]
  },
  {
   "cell_type": "code",
   "execution_count": 9,
   "id": "acfad8a3-a20b-42c3-b4d6-b522ae750c32",
   "metadata": {},
   "outputs": [
    {
     "name": "stdout",
     "output_type": "stream",
     "text": [
      "1\n",
      "2\n",
      "3\n"
     ]
    }
   ],
   "source": [
    "for i in dict1.keys():\n",
    "    print(i)"
   ]
  },
  {
   "cell_type": "code",
   "execution_count": 10,
   "id": "d7c0aa05-a0da-48eb-a27c-4985f2033948",
   "metadata": {},
   "outputs": [
    {
     "name": "stdout",
     "output_type": "stream",
     "text": [
      "ABC\n",
      "DEFG\n",
      "Pwskills\n"
     ]
    }
   ],
   "source": [
    "for i in dict1.values():\n",
    "    print(i)"
   ]
  },
  {
   "cell_type": "code",
   "execution_count": 7,
   "id": "9661b302-0fb7-4b1d-8bd9-53d05fa52776",
   "metadata": {},
   "outputs": [
    {
     "name": "stdout",
     "output_type": "stream",
     "text": [
      "GCD of 100 and 150 is: 50\n"
     ]
    }
   ],
   "source": [
    "'''16.Write a Python program to find the GCD (Greatest Common Divisor) of two numbers using a for loop.'''\n",
    "\n",
    "x = 150\n",
    "y = 100\n",
    "if x > y:\n",
    "    x, y = y, x\n",
    "for i in range(1,x+1):\n",
    "    if x%i == 0 and y%i == 0:\n",
    "        gcd = i\n",
    "\n",
    "print(\"GCD of\", x, \"and\", y, \"is:\", gcd)"
   ]
  },
  {
   "cell_type": "code",
   "execution_count": 11,
   "id": "dba03766-5a5b-41d9-9bdc-4f66f1d8809f",
   "metadata": {},
   "outputs": [
    {
     "name": "stdin",
     "output_type": "stream",
     "text": [
      "Enter String :  AABBAA\n"
     ]
    },
    {
     "name": "stdout",
     "output_type": "stream",
     "text": [
      "Reverse Order :   AABBAA\n",
      "This is a Palindrome String\n"
     ]
    }
   ],
   "source": [
    "'''17.Create a Python program that checks if a string is a palindrome using a for loop.'''\n",
    "\n",
    "L1 = input(\"Enter String : \")\n",
    "str1 = \"\"\n",
    "\n",
    "for i in L1:\n",
    "    str1 = i + str1  \n",
    "print(\"Reverse Order :  \", str1)\n",
    "\n",
    "if(L1 == str1):\n",
    "    print(\"This is a Palindrome String\")\n",
    "else:\n",
    "    print(\"This is not Palindrome String\")"
   ]
  },
  {
   "cell_type": "code",
   "execution_count": 13,
   "id": "e9258d70-e8c1-4a5f-bf4c-5525b604ef71",
   "metadata": {},
   "outputs": [
    {
     "name": "stdout",
     "output_type": "stream",
     "text": [
      "[2, 4, 10, 20, 5]\n"
     ]
    }
   ],
   "source": [
    "'''18.Write a Python program to remove duplicates from a list using a for loop.'''\n",
    "\n",
    "list1 = [2, 4, 10, 20, 5, 2, 20, 4]\n",
    "list2 = []\n",
    "for i in list1:\n",
    "    if i not in list2:\n",
    "        list2.append(i)\n",
    "print(list2)\n"
   ]
  },
  {
   "cell_type": "code",
   "execution_count": 15,
   "id": "65a03795-13c5-4f7e-9dcb-9038d403c323",
   "metadata": {},
   "outputs": [
    {
     "name": "stdout",
     "output_type": "stream",
     "text": [
      "5\n"
     ]
    }
   ],
   "source": [
    "'''19.Create a Python program that counts the number of words in a sentence using a for loop.'''\n",
    "\n",
    "s1 = \"The pwskill is good course.\"\n",
    "l1 = s1.split()\n",
    "\n",
    "count = 0\n",
    "for i in l1:\n",
    "    count=count + 1\n",
    "print(count)"
   ]
  },
  {
   "cell_type": "code",
   "execution_count": 17,
   "id": "dcaeb480-6495-4c38-8550-af01e5802a6a",
   "metadata": {},
   "outputs": [
    {
     "name": "stdout",
     "output_type": "stream",
     "text": [
      "625\n"
     ]
    }
   ],
   "source": [
    "'''20.Write a Python program to find the sum of all odd numbers from 1 to 50 using a for loop.'''\n",
    "\n",
    "sum = 0\n",
    "for i in range(1,50):\n",
    "    if i % 2 == 1:\n",
    "        sum = sum + i\n",
    "print(sum)"
   ]
  },
  {
   "cell_type": "code",
   "execution_count": 3,
   "id": "88d8429c-efb7-47d9-8673-1849d867658a",
   "metadata": {},
   "outputs": [
    {
     "name": "stdout",
     "output_type": "stream",
     "text": [
      "2004 is a leap year\n",
      "2005 is not a leap year\n",
      "2010 is not a leap year\n",
      "2012 is a leap year\n",
      "2020 is a leap year\n"
     ]
    }
   ],
   "source": [
    "'''21.Write a Python program that checks if a given year is a leap year using a for loop.'''\n",
    "\n",
    "l = [2004,2005,2010,2012,2020]\n",
    "for i in l:\n",
    "    if (i % 400 == 0) or (i % 4 == 0 and i % 100 != 0):\n",
    "        print(i,\"is a leap year\")\n",
    "    else:\n",
    "        print(i,\"is not a leap year\")"
   ]
  },
  {
   "cell_type": "code",
   "execution_count": 50,
   "id": "a9183384-84ca-4d89-9321-244abc268271",
   "metadata": {},
   "outputs": [
    {
     "name": "stdout",
     "output_type": "stream",
     "text": [
      "[1, 2, 4, 8, 16]\n"
     ]
    }
   ],
   "source": [
    "'''22.Create a Python program that calculates the square root of a number using a for loop.'''\n",
    "\n",
    "n = 5\n",
    "power_list = [ 2 ** i for i in range(n)]\n",
    "print(power_list)"
   ]
  },
  {
   "cell_type": "code",
   "execution_count": 53,
   "id": "9a8d5ad0-a5cf-4674-9750-408220c999ed",
   "metadata": {},
   "outputs": [
    {
     "name": "stdout",
     "output_type": "stream",
     "text": [
      "LCM of 20 and 25 is: 100.0\n"
     ]
    }
   ],
   "source": [
    "'''23.Write a Python program to find the LCM (Least Common Multiple) of two numbers using a for loop.'''\n",
    "\n",
    "x = 20\n",
    "y = 25\n",
    "if x > y:\n",
    "    x, y = y, x\n",
    "for i in range(1,x+1):\n",
    "    if x%i == 0 and y%i == 0:\n",
    "        gcd = i\n",
    "    \n",
    "lcm = (x*y)/gcd\n",
    "\n",
    "print(\"LCM of\", x, \"and\", y, \"is:\", lcm)"
   ]
  },
  {
   "cell_type": "code",
   "execution_count": null,
   "id": "1a4bb4cf-3403-4f8f-8d8b-417cc80a1172",
   "metadata": {},
   "outputs": [],
   "source": [
    "# If else :"
   ]
  },
  {
   "cell_type": "code",
   "execution_count": 5,
   "id": "4e806d57-7b98-489f-a8ac-95b3f8562acc",
   "metadata": {},
   "outputs": [
    {
     "name": "stdin",
     "output_type": "stream",
     "text": [
      "Enter n1 0\n",
      "Enter n2 -12\n",
      "Enter n3 25\n"
     ]
    },
    {
     "name": "stdout",
     "output_type": "stream",
     "text": [
      "0 It is zero\n",
      "-12 is negative number\n",
      "25 is positive number\n"
     ]
    }
   ],
   "source": [
    "'''1.Write a Python program to check if a number is positive, negative, or zero using an if-else statement.'''\n",
    "\n",
    "def check_num(n):\n",
    "    if n > 0:\n",
    "        print(n,\"is positive number\")\n",
    "    elif n == 0:\n",
    "        print(n,\"It is zero\")\n",
    "    else:\n",
    "        print(n,\"is negative number\")\n",
    "\n",
    "n1 = int(input(\"Enter n1\"))\n",
    "n2 = int(input(\"Enter n2\"))\n",
    "n3 = int(input(\"Enter n3\"))\n",
    "\n",
    "result1 = check_num(n1)\n",
    "result2 = check_num(n2)\n",
    "result3 = check_num(n3)"
   ]
  },
  {
   "cell_type": "code",
   "execution_count": 9,
   "id": "8f316b12-7541-4998-b626-f003d3967a98",
   "metadata": {},
   "outputs": [
    {
     "name": "stdin",
     "output_type": "stream",
     "text": [
      "Enter n1 4\n",
      "Enter n2 7\n"
     ]
    },
    {
     "name": "stdout",
     "output_type": "stream",
     "text": [
      "4 is even number\n",
      "7 is odd number\n"
     ]
    }
   ],
   "source": [
    "'''2.Create a Python program that checks if a given number is even or odd using an if-else statement.'''\n",
    "\n",
    "def check_num(n):\n",
    "    if n % 2 == 0:\n",
    "        print(n,\"is even number\")\n",
    "    else:\n",
    "        print(n,\"is odd number\")\n",
    "        \n",
    "n1 = int(input(\"Enter n1\"))\n",
    "n2 = int(input(\"Enter n2\"))\n",
    "\n",
    "\n",
    "result1 = check_num(n1)\n",
    "result2 = check_num(n2)"
   ]
  },
  {
   "cell_type": "code",
   "execution_count": 12,
   "id": "6b725ad0-cb28-415a-bb57-0ec0da16ab65",
   "metadata": {},
   "outputs": [
    {
     "name": "stdin",
     "output_type": "stream",
     "text": [
      "Enter n1 23\n",
      "Enter n2 -12\n",
      "Enter n3 0\n"
     ]
    },
    {
     "name": "stdout",
     "output_type": "stream",
     "text": [
      "23 is positive number\n",
      "-12 is negative number\n",
      "0 It is zero\n"
     ]
    }
   ],
   "source": [
    "'''3.How can you use nested if-else statements in Python, and provide an example?'''\n",
    "#Ans :-The nested if statements in Python are the nesting of an if statement inside another if statement with or without an else statement.\n",
    "\n",
    "\"Example of nested if-else statements\"\n",
    "\n",
    "def check_num(n):\n",
    "    if n >= 0:\n",
    "        if n == 0:\n",
    "            print(n,\"It is zero\")\n",
    "        else:\n",
    "            print(n,\"is positive number\")\n",
    "    else:\n",
    "        print(n,\"is negative number\")\n",
    "        \n",
    "n1 = int(input(\"Enter n1\"))\n",
    "n2 = int(input(\"Enter n2\"))\n",
    "n3 = int(input(\"Enter n3\"))\n",
    "\n",
    "result1 = check_num(n1)\n",
    "result2 = check_num(n2)\n",
    "result3 = check_num(n3)"
   ]
  },
  {
   "cell_type": "code",
   "execution_count": 13,
   "id": "8f166b1b-16b0-4186-94c0-eff42e311628",
   "metadata": {},
   "outputs": [
    {
     "name": "stdin",
     "output_type": "stream",
     "text": [
      "Enter n1 12\n",
      "Enter n2 23\n",
      "Enter n3 1\n"
     ]
    },
    {
     "name": "stdout",
     "output_type": "stream",
     "text": [
      "Largest number is 23\n"
     ]
    }
   ],
   "source": [
    "'''4.Write a Python program to determine the largest of three numbers using if-else.'''\n",
    "\n",
    "n1 = int(input(\"Enter n1\"))\n",
    "n2 = int(input(\"Enter n2\"))\n",
    "n3 = int(input(\"Enter n3\"))\n",
    "\n",
    "if (n1 > n2) and (n1 > n3):\n",
    "    largest = n1\n",
    "elif (n2 > n1) & (n2 > n3):\n",
    "    largest = n2\n",
    "else:\n",
    "    largest = n3\n",
    "\n",
    "print(\"Largest number is\",largest)"
   ]
  },
  {
   "cell_type": "code",
   "execution_count": 2,
   "id": "daadb9dc-76e6-419e-89a3-902ae1e14662",
   "metadata": {},
   "outputs": [
    {
     "name": "stdin",
     "output_type": "stream",
     "text": [
      "Enter number -12\n"
     ]
    },
    {
     "name": "stdout",
     "output_type": "stream",
     "text": [
      "absolute value of number -12.0 is 12.0\n"
     ]
    }
   ],
   "source": [
    "'''5.Write a Python program that calculates the absolute value of a number using if-else.'''\n",
    "\n",
    "n = float(input(\"Enter number\"))\n",
    "\n",
    "if ( n < 0 ):\n",
    "    print(\"absolute value of number\", n ,\"is\",abs(n))\n",
    "else:\n",
    "    print(\"Number is\",n)\n"
   ]
  },
  {
   "cell_type": "code",
   "execution_count": 12,
   "id": "6c451fe6-d192-43ed-ba30-74a1afcd6e17",
   "metadata": {},
   "outputs": [
    {
     "name": "stdin",
     "output_type": "stream",
     "text": [
      "enter character:  c\n"
     ]
    },
    {
     "name": "stdout",
     "output_type": "stream",
     "text": [
      "c character is a consonant\n"
     ]
    }
   ],
   "source": [
    "'''6.Create a Python program that checks if a given character is a vowel or consonant using if-else.'''\n",
    "\n",
    "v = ['a', 'e', 'i', 'o', 'u', 'A' , 'E', 'I', 'O', 'U']\n",
    "\n",
    "C = input(\"enter character: \")\n",
    "if C in v:\n",
    "    print(C,\"character is a vowel\")\n",
    "else:\n",
    "    print(C,\"character is a consonant\")"
   ]
  },
  {
   "cell_type": "code",
   "execution_count": 1,
   "id": "aed76c34-d307-44fb-900c-f42270d46c16",
   "metadata": {},
   "outputs": [
    {
     "name": "stdin",
     "output_type": "stream",
     "text": [
      "enter age:  23\n"
     ]
    },
    {
     "name": "stdout",
     "output_type": "stream",
     "text": [
      "person is eligible to vote\n"
     ]
    }
   ],
   "source": [
    "'''7.Write a Python program to determine if a user is eligible to vote based on their age using if-else.'''\n",
    "\n",
    "age = int(input(\"enter age: \"))\n",
    "if age >= 18:\n",
    "    print(\"person is eligible to vote\")\n",
    "else:\n",
    "    print(\"person is not eligible to vote\")"
   ]
  },
  {
   "cell_type": "code",
   "execution_count": 17,
   "id": "bed53610-3a3b-49d1-b3ec-55c98a459d7f",
   "metadata": {},
   "outputs": [
    {
     "name": "stdin",
     "output_type": "stream",
     "text": [
      "Enter purchase Amount:  12000\n"
     ]
    },
    {
     "name": "stdout",
     "output_type": "stream",
     "text": [
      "Discount :  1200.0\n",
      "After Discount amount to pay :  10800.0\n"
     ]
    }
   ],
   "source": [
    "'''Create a Python program that calculates the discount amount based on the purchase amount using if-else.'''\n",
    "\n",
    "amt = int(input(\"Enter purchase Amount: \"))\n",
    "\n",
    "if(amt>0):\n",
    "    if amt<=5000:\n",
    "        disc = amt*0.05\n",
    "    elif amt<=15000:\n",
    "        disc=amt*0.1\n",
    "    elif amt<=25000:\n",
    "        disc=0.2 * amt\n",
    "    else:\n",
    "         disc=0.3 * amt\n",
    "    print(\"Discount : \",disc)\n",
    "    print(\"After Discount amount to pay : \",amt - disc)\n",
    "else:\n",
    "    print(\"Invalid Amount\")"
   ]
  },
  {
   "cell_type": "code",
   "execution_count": 24,
   "id": "44bad01f-f682-4913-882d-9e1669afed7e",
   "metadata": {},
   "outputs": [
    {
     "name": "stdin",
     "output_type": "stream",
     "text": [
      "Enter a number :  3\n"
     ]
    },
    {
     "name": "stdout",
     "output_type": "stream",
     "text": [
      "3 is not present in the range.\n"
     ]
    }
   ],
   "source": [
    "'''9.Write a Python program to check if a number is within a specified range using if-else.'''\n",
    "\n",
    "ran = range(2,25,2)\n",
    "n = int(input('Enter a number : '))\n",
    " \n",
    "if n in ran:\n",
    "    print(n,'is present in the range.')\n",
    "else :\n",
    "    print(n,'is not present in the range.')"
   ]
  },
  {
   "cell_type": "code",
   "execution_count": 28,
   "id": "8905738b-9be9-4833-875b-932cac267ecf",
   "metadata": {},
   "outputs": [
    {
     "name": "stdout",
     "output_type": "stream",
     "text": [
      "Enter Marks Obtained in 3 Subjects: \n"
     ]
    },
    {
     "name": "stdin",
     "output_type": "stream",
     "text": [
      " 95\n",
      " 79\n",
      " 86\n"
     ]
    },
    {
     "name": "stdout",
     "output_type": "stream",
     "text": [
      "Average marks is: 86.66666666666667\n",
      "Your Grade is A2\n"
     ]
    }
   ],
   "source": [
    "'''10.Create a Python program that determines the grade of a student based on their score using if-else.'''\n",
    "\n",
    "print(\"Enter Marks Obtained in 3 Subjects: \")\n",
    "mark1 = int(input())\n",
    "mark2 = int(input())\n",
    "mark3 = int(input())\n",
    "\n",
    "tot = mark1+mark2+mark3\n",
    "avg = tot/3\n",
    "print(\"Average marks is:\",avg)\n",
    "\n",
    "if avg>=91 and avg<=100:\n",
    "    print(\"Your Grade is A1\")\n",
    "elif avg>=81 and avg<91:\n",
    "    print(\"Your Grade is A2\")\n",
    "elif avg>=71 and avg<81:\n",
    "    print(\"Your Grade is B1\")\n",
    "elif avg>=61 and avg<71:\n",
    "    print(\"Your Grade is B2\")\n",
    "elif avg>=51 and avg<61:\n",
    "    print(\"Your Grade is C1\")\n",
    "elif avg>=41 and avg<51:\n",
    "    print(\"Your Grade is C2\")\n",
    "elif avg>=33 and avg<41:\n",
    "    print(\"Your Grade is D\")\n",
    "elif avg>=21 and avg<33:\n",
    "    print(\"Your Grade is E1\")\n",
    "elif avg>=0 and avg<21:\n",
    "    print(\"Your Grade is E2\")\n",
    "else:\n",
    "    print(\"Invalid Input!\")"
   ]
  },
  {
   "cell_type": "code",
   "execution_count": 30,
   "id": "e494a4af-b3fd-4d20-b669-f4e3f5ae5b5a",
   "metadata": {},
   "outputs": [
    {
     "name": "stdout",
     "output_type": "stream",
     "text": [
      "String is not empty\n"
     ]
    }
   ],
   "source": [
    "'''11.Write a Python program to check if a string is empty or not using if-else.'''\n",
    "\n",
    "string = \"ABCDEFG\"\n",
    "\n",
    "if string == \"\":\n",
    "    print(\"String is empty\")\n",
    "else:\n",
    "    print(\"String is not empty\")"
   ]
  },
  {
   "cell_type": "code",
   "execution_count": 1,
   "id": "e676530f-d0d4-4534-8e6a-536b0f4179b3",
   "metadata": {},
   "outputs": [
    {
     "name": "stdout",
     "output_type": "stream",
     "text": [
      "Input lengths of the triangle sides: \n"
     ]
    },
    {
     "name": "stdin",
     "output_type": "stream",
     "text": [
      "x:  3\n",
      "y:  4\n",
      "z:  6\n"
     ]
    },
    {
     "name": "stdout",
     "output_type": "stream",
     "text": [
      "Scalene triangle\n"
     ]
    }
   ],
   "source": [
    "'''12.Create a Python program that identifies the type of a triangle (e.g., equilateral, isosceles, or scalene) based on input values using if-else.'''\n",
    "\n",
    "print(\"Input lengths of the triangle sides: \")\n",
    "x = int(input(\"x: \"))\n",
    "y = int(input(\"y: \"))\n",
    "z = int(input(\"z: \"))\n",
    "\n",
    "if x == y == z:\n",
    "    if x==y or y==z or z==x:\n",
    "\t    print(\"isosceles triangle\")\n",
    "    else:\n",
    "        print(\"Equilateral triangle\")\n",
    "else:\n",
    "\tprint(\"Scalene triangle\")"
   ]
  },
  {
   "cell_type": "code",
   "execution_count": 2,
   "id": "734f84dd-cc96-4d8b-98d4-9816c3800379",
   "metadata": {},
   "outputs": [
    {
     "name": "stdin",
     "output_type": "stream",
     "text": [
      "Enter a number from 1 to 7:  5\n"
     ]
    },
    {
     "name": "stdout",
     "output_type": "stream",
     "text": [
      "5 is Thursday\n"
     ]
    }
   ],
   "source": [
    "'''13.Write a Python program to determine the day of the week based on a user-provided number using if-else.'''\n",
    "\n",
    "day = int(input(\"Enter a number from 1 to 7: \"))\n",
    "\n",
    "if day == 1:\n",
    "    print(day, \"is Sunday\")\n",
    "elif day == 2:\n",
    "    print(day, \"is Monday\")\n",
    "elif day == 3:\n",
    "    print(day, \"is Tuesday\")\n",
    "elif day == 4:\n",
    "    print(day, \"is Wednesday\")\n",
    "elif day == 5:\n",
    "    print(day, \"is Thursday\")\n",
    "elif day == 6:\n",
    "    print(day, \"is Friday\")\n",
    "elif day == 7:\n",
    "    print(day, \"is Saturday\")\n",
    "else:\n",
    "    print(\"Wrong input!\")"
   ]
  },
  {
   "cell_type": "code",
   "execution_count": 12,
   "id": "bcd49d33-ff19-4aa9-8154-02d2eed5a424",
   "metadata": {},
   "outputs": [
    {
     "name": "stdin",
     "output_type": "stream",
     "text": [
      "Enter a year: 2004\n",
      "Enter a year: 2010\n"
     ]
    },
    {
     "name": "stdout",
     "output_type": "stream",
     "text": [
      "2004 is a leap year\n",
      "2010 is not a leap year\n"
     ]
    }
   ],
   "source": [
    "'''14.Create a Python program that checks if a given year is a leap year using both if-else and a function.'''\n",
    "\n",
    "def leap_year(year):\n",
    "    if (year % 400 == 0) or (year % 4 == 0 and year % 100 != 0):\n",
    "        print(year,\"is a leap year\")\n",
    "    else:\n",
    "        print(year,\"is not a leap year\")\n",
    "    \n",
    "year1 = int(input(\"Enter a year:\"))\n",
    "year2 = int(input(\"Enter a year:\"))\n",
    "\n",
    "result1 = leap_year(year1)\n",
    "result2 = leap_year(year2)"
   ]
  },
  {
   "cell_type": "code",
   "execution_count": null,
   "id": "7f46ef2c-3a17-451e-97d0-f4587b0e9980",
   "metadata": {},
   "outputs": [],
   "source": [
    "'''15.How do you use the \"assert\" statement in Python to add debugging checks within if-else blocks?'''\n",
    "\n",
    "Ans :-This statement takes as input a boolean condition, which when returns true doesn’t do anything and continues the normal flow of execution, but if it is computed to be false, then it raises an AssertionError along with the optional message provided."
   ]
  },
  {
   "cell_type": "code",
   "execution_count": 7,
   "id": "85770d6d-e5fd-4634-9e30-5adbae77d14d",
   "metadata": {},
   "outputs": [
    {
     "name": "stdin",
     "output_type": "stream",
     "text": [
      "Enter your age:  61\n"
     ]
    },
    {
     "name": "stdout",
     "output_type": "stream",
     "text": [
      "Person is eligibile for a senior citizen discount\n"
     ]
    }
   ],
   "source": [
    "'''16.Create a Python program that determines the eligibility of a person for a senior citizen discount based on age using if-else.'''\n",
    "\n",
    "age = int(input(\"Enter your age: \"))\n",
    "if age >= 60:\n",
    "    print(\"Person is eligibile for a senior citizen discount\")\n",
    "else:\n",
    "    print(\"Person is not eligibile for a senior citizen discount\")"
   ]
  },
  {
   "cell_type": "code",
   "execution_count": 9,
   "id": "c14c95e4-4742-42ce-8d6c-c3acd042dd47",
   "metadata": {},
   "outputs": [
    {
     "name": "stdout",
     "output_type": "stream",
     "text": [
      "A is an UpperCase character\n",
      "b is an LowerCase character\n",
      "0 is not an alphabetic character\n"
     ]
    }
   ],
   "source": [
    "'''17.Write a Python program to categorize a given character as uppercase, lowercase, or neither using if-else.'''\n",
    "\n",
    "def check(ch):\n",
    " \n",
    "    if (ch >= 'A' and ch <= 'Z'):\n",
    "        print(ch,\"is an UpperCase character\");\n",
    " \n",
    "    elif (ch >= 'a' and ch <= 'z'):\n",
    "        print(ch,\"is an LowerCase character\");\n",
    "    else:\n",
    "        print(ch,\"is not an alphabetic character\");\n",
    "\n",
    "ch = 'A';\n",
    "check(ch);\n",
    "ch = 'b';\n",
    "check(ch);\n",
    "ch = '0';\n",
    "check(ch);\n",
    " "
   ]
  },
  {
   "cell_type": "code",
   "execution_count": 18,
   "id": "16d6aea0-55b9-46f3-9fb8-3b54cb2e9d3f",
   "metadata": {},
   "outputs": [
    {
     "name": "stdin",
     "output_type": "stream",
     "text": [
      "Enter the a Number : 2\n",
      "Enter the b Number : 5\n",
      "Enter the c Number : 3\n"
     ]
    },
    {
     "name": "stdout",
     "output_type": "stream",
     "text": [
      "There are Two Roots:  -1.0 and -1.5\n"
     ]
    }
   ],
   "source": [
    "'''18.Write a Python program to determine the roots of a quadratic equation using if-else.'''\n",
    "from math import sqrt\n",
    "\n",
    "a = float(input(\"Enter the a Number :\"))\n",
    "b = float(input(\"Enter the b Number :\"))\n",
    "c = float(input(\"Enter the c Number :\"))\n",
    " \n",
    "d = b**2 - 4*a*c\n",
    " \n",
    "if( d > 0):\n",
    "    num_roots = 2\n",
    "    x1 = (((-b) + sqrt(d))/(2*a))     \n",
    "    x2 = (((-b) - sqrt(d))/(2*a))\n",
    "    print(\"There are Two Roots: \",x1, \"and\",x2)\n",
    "elif(d == 0):\n",
    "    num_roots = 1\n",
    "    x = (-b) / 2*a\n",
    "    print(\"There is one Root: \", x)\n",
    "else:\n",
    "    num_roots = 0\n",
    "    print(\"No roots\")"
   ]
  },
  {
   "cell_type": "code",
   "execution_count": 20,
   "id": "d63390af-5235-40b5-80da-65457278168d",
   "metadata": {},
   "outputs": [
    {
     "name": "stdin",
     "output_type": "stream",
     "text": [
      "Enter a year: 2004\n",
      "Enter a year: 1900\n"
     ]
    },
    {
     "name": "stdout",
     "output_type": "stream",
     "text": [
      "2004 is not a century year\n",
      "1900 is a century year\n"
     ]
    }
   ],
   "source": [
    "'''19.Create a Python program that checks if a given year is a century year or not using if-else.'''\n",
    "\n",
    "def century_year(year):\n",
    "    if (year % 100 == 0):\n",
    "        print(year,\"is a century year\")\n",
    "    else:\n",
    "        print(year,\"is not a century year\")\n",
    "    \n",
    "year1 = int(input(\"Enter a year:\"))\n",
    "year2 = int(input(\"Enter a year:\"))\n",
    "\n",
    "result1 = century_year(year1)\n",
    "result2 = century_year(year2)"
   ]
  },
  {
   "cell_type": "code",
   "execution_count": 24,
   "id": "73c2696c-e0ad-4ff4-95a8-cca5e48d8033",
   "metadata": {},
   "outputs": [
    {
     "name": "stdout",
     "output_type": "stream",
     "text": [
      "The number is a perfect square\n"
     ]
    }
   ],
   "source": [
    "'''20.Write a Python program to determine if a given number is a perfect square using if-else.'''\n",
    "\n",
    "import math\n",
    "\n",
    "n = 25  \n",
    "sqrt_num = math.sqrt(n)  \n",
    "if sqrt_num.is_integer():  \n",
    "    print(\"The number is a perfect square\")  \n",
    "else:  \n",
    "    print(\"The number is not a perfect square\")"
   ]
  },
  {
   "cell_type": "code",
   "execution_count": null,
   "id": "b630e4ad-4d63-4c37-a01f-0fca484d9f14",
   "metadata": {},
   "outputs": [],
   "source": [
    "'''21.Explain the purpose of the \"continue\" and \"break\" statements within if-else loops.'''\n",
    "\n",
    "Continue:\n",
    "\n",
    "continue statement is used to skip the current operation when given condition is true.\n",
    "\n",
    "Break:\n",
    "    \n",
    "break statement is used to break the loop when given condition is true."
   ]
  },
  {
   "cell_type": "code",
   "execution_count": 28,
   "id": "f2ac8878-74f6-463d-a860-c9b96b0fe4a5",
   "metadata": {},
   "outputs": [
    {
     "name": "stdin",
     "output_type": "stream",
     "text": [
      "Enter your height in cm:  160\n",
      "Enter your weight in kg:  55\n"
     ]
    },
    {
     "name": "stdout",
     "output_type": "stream",
     "text": [
      "Your BMI is:  21.484374999999996\n",
      "Your weight is normal.\n"
     ]
    }
   ],
   "source": [
    "'''22.Create a Python program that calculates the BMI (Body Mass Index) of a person based on their weight and height using if-else.'''\n",
    "\n",
    "h = float(input(\"Enter your height in cm: \"))\n",
    "w = float(input(\"Enter your weight in kg: \"))\n",
    "bmi = w/(h/100)**2  \n",
    "\n",
    "print(\"Your BMI is: \", bmi)\n",
    "\n",
    "\n",
    "if bmi <= 18.5:\n",
    "    print(\"You are underweight.\")\n",
    "elif 18.5 < bmi <= 24.9:\n",
    "    print(\"Your weight is normal.\")\n",
    "elif 25 < bmi <= 29.29:\n",
    "    print(\"You are overweight.\")\n",
    "else:\n",
    "    print(\"You are obese.\")"
   ]
  },
  {
   "cell_type": "code",
   "execution_count": 15,
   "id": "6974be4e-0445-435c-94ca-c4966f650dab",
   "metadata": {},
   "outputs": [
    {
     "name": "stdout",
     "output_type": "stream",
     "text": [
      "[2, 4, 6]\n"
     ]
    }
   ],
   "source": [
    "'''23.How can you use the \"filter()\" function with if-else statements to filter elements from a list?'''\n",
    "\n",
    "def is_even(x):\n",
    "    return x % 2 == 0\n",
    "\n",
    "my_list = [1, 2, 3, 4, 5, 6, 7]\n",
    "result = filter(is_even, my_list)\n",
    "new_list = list(result)\n",
    "print(new_list)\n"
   ]
  },
  {
   "cell_type": "code",
   "execution_count": 30,
   "id": "38f74ca9-ac39-4382-862c-ab595f09dc7a",
   "metadata": {},
   "outputs": [
    {
     "name": "stdout",
     "output_type": "stream",
     "text": [
      "11 is a prime number\n"
     ]
    }
   ],
   "source": [
    "'''24.Write a Python program to determine if a given number is prime or not using if-else.'''\n",
    "\n",
    "n = 11\n",
    "\n",
    "if n > 1:\n",
    "    for i in range(2, int(n/2)+1):\n",
    "        if (n % i) == 0:\n",
    "            print(n, \"is not a prime number\")\n",
    "            break\n",
    "    else:\n",
    "        print(n, \"is a prime number\")\n",
    "else:\n",
    "    print(n, \"is not a prime number\")"
   ]
  },
  {
   "cell_type": "code",
   "execution_count": null,
   "id": "bce87e67-6a8b-4799-b5a9-d1692900ab19",
   "metadata": {},
   "outputs": [],
   "source": [
    "# Map :-"
   ]
  },
  {
   "cell_type": "code",
   "execution_count": 1,
   "id": "69b8e744-36e1-4b4e-8310-073efbbff1a7",
   "metadata": {},
   "outputs": [
    {
     "name": "stdout",
     "output_type": "stream",
     "text": [
      "[2, 4, 6, 8]\n"
     ]
    }
   ],
   "source": [
    "'''1. Explain the purpose of the `map()` function in Python and provide an example of how it can be used to apply a function to each element of an iterable.\n",
    "\n",
    "Ans: Map in Python is a function that works as an iterator to return a result after applying a function to every item of an iterable (tuple, lists, etc.). It is used when you want to apply a single transformation function to all the iterable elements. The iterable and function are passed as arguments to the map in Python.'''\n",
    "\n",
    "# Example\n",
    "\n",
    "def addition(n):\n",
    "    return n + n\n",
    "\n",
    "numbers = (1, 2, 3, 4)\n",
    "result = map(addition, numbers)\n",
    "print(list(result))"
   ]
  },
  {
   "cell_type": "code",
   "execution_count": 2,
   "id": "7212cc6e-de41-4c62-9528-58006f87e09e",
   "metadata": {},
   "outputs": [
    {
     "name": "stdout",
     "output_type": "stream",
     "text": [
      "[1, 4, 9, 16, 25, 36, 49, 64]\n"
     ]
    }
   ],
   "source": [
    "'''2.Write a Python program that uses the `map()` function to square each element of a list of numbers.'''\n",
    "\n",
    "def square(n):\n",
    "    return pow(n,2)\n",
    "\n",
    "l1 =[1,2,3,4,5,6,7,8]\n",
    "result =map(square,l1)\n",
    "print(list(result))"
   ]
  },
  {
   "cell_type": "code",
   "execution_count": null,
   "id": "3585fbe1-b6c3-4e7d-a2ec-9d3041ec33ae",
   "metadata": {},
   "outputs": [],
   "source": [
    "'''3. How does the `map()` function differ from a list comprehension in Python, and when would you choose one over the other?'''\n",
    "\n",
    "Ans: Map:\n",
    "\n",
    "This is where map() function plays its role ! map() function returns a map object(which is an iterator) of the results after applying the given function to each item of a given iterable (list, tuple etc.)\n",
    "\n",
    "list comprension:\n",
    "\n",
    "List Comprehension is a substitute for the lambda function, map(), filter() and reduce(). It follows the form of the mathematical set-builder notation. It provide a concise way to create lists."
   ]
  },
  {
   "cell_type": "code",
   "execution_count": 6,
   "id": "f58443b7-d7ce-40e2-a38b-5fd48a4d075e",
   "metadata": {},
   "outputs": [
    {
     "name": "stdout",
     "output_type": "stream",
     "text": [
      "['PQRST', 'COURSE', 'PWSKILLS']\n"
     ]
    }
   ],
   "source": [
    "'''4. Create a Python program that uses the `map()` function to convert a list of names to uppercase.'''\n",
    "\n",
    "def uppper_case(n):\n",
    "    return n.upper()\n",
    "\n",
    "l2 =[\"pqrst\",\"course\",\"pwskills\"]\n",
    "upper_caseletter =map(uppper_case,l2)\n",
    "print(list(upper_caseletter))"
   ]
  },
  {
   "cell_type": "code",
   "execution_count": 7,
   "id": "9d970637-12d1-4cac-8a4f-973f60165f35",
   "metadata": {},
   "outputs": [
    {
     "name": "stdout",
     "output_type": "stream",
     "text": [
      "[5, 6, 8]\n"
     ]
    }
   ],
   "source": [
    "'''5.Write a Python program that uses the `map()` function to calculate the length of each word in a list of strings.'''\n",
    "\n",
    "def find_len(n):\n",
    "    return len(n)\n",
    "\n",
    "l3 =[\"pqrst\",\"course\",\"pwskills\"]\n",
    "length_word =map(find_len,l3)\n",
    "print(list(length_word))"
   ]
  },
  {
   "cell_type": "code",
   "execution_count": 10,
   "id": "02ea0e2a-04cd-4275-b876-eb19ca7c8f4e",
   "metadata": {},
   "outputs": [
    {
     "name": "stdout",
     "output_type": "stream",
     "text": [
      "[9, 4, 1, 0, 1, 4, 9]\n"
     ]
    }
   ],
   "source": [
    "'''6.How can you use the `map()` function to apply a custom function to elements of multiple lists simultaneously in Python?'''\n",
    "\n",
    "#here's example:\n",
    "\n",
    "l = [-3, -2, -1, 0, 1, 2, 3]\n",
    "print(list(map(lambda x: x**2, l)))"
   ]
  },
  {
   "cell_type": "code",
   "execution_count": 12,
   "id": "3475ce91-1c41-47dc-8cc2-1d243bd189d5",
   "metadata": {},
   "outputs": [
    {
     "data": {
      "text/plain": [
       "[89.6, 73.4, 131.36, 96.8, 102.92]"
      ]
     },
     "execution_count": 12,
     "metadata": {},
     "output_type": "execute_result"
    }
   ],
   "source": [
    "'''7.Create a Python program that uses `map()` to convert a list of temperatures from Celsius to Fahrenheit.'''\n",
    "\n",
    "def temp(n):\n",
    "    return (9/5)*n+32\n",
    "\n",
    "l2= [32,23,55.2,36,39.40]\n",
    "convert =map(temp,l2)\n",
    "list(convert)"
   ]
  },
  {
   "cell_type": "code",
   "execution_count": 13,
   "id": "6d9a946f-b145-416a-97a2-309b64046f3a",
   "metadata": {},
   "outputs": [
    {
     "data": {
      "text/plain": [
       "[12, 25, 34, 36, 47, 60]"
      ]
     },
     "execution_count": 13,
     "metadata": {},
     "output_type": "execute_result"
    }
   ],
   "source": [
    "'''8.Write a Python program that uses the `map()` function to round each element of a list of floating-point numbers to the nearest integer.'''\n",
    "\n",
    "def round_off(n):\n",
    "    return round(n)\n",
    "\n",
    "l1= [12.12,25.36,34.4323,36.232,46.69,59.60]\n",
    "round_f =map(round_off,l1)\n",
    "list(round_f)\n"
   ]
  },
  {
   "cell_type": "code",
   "execution_count": 14,
   "id": "951af587-73c0-4d67-9457-ae3356bb615d",
   "metadata": {},
   "outputs": [],
   "source": [
    "#Reduce :-"
   ]
  },
  {
   "cell_type": "code",
   "execution_count": 2,
   "id": "05597ef6-057c-4d35-bbc2-45a67841cb97",
   "metadata": {},
   "outputs": [
    {
     "name": "stdout",
     "output_type": "stream",
     "text": [
      "10\n"
     ]
    }
   ],
   "source": [
    "'''1. What is the `reduce()` function in Python, and what module should you import to use it? Provide an example of its basic usage.\n",
    "\n",
    "ANS: The reduce(fun,seq) function is used to apply a particular function passed in \n",
    "its argument to all of the list elements mentioned in the sequence passed along.\n",
    "This function is defined in “functools” module.\n",
    "\n",
    "Module:\n",
    "\n",
    "from functools import reduce these module we install for reduce func.  '''\n",
    "\n",
    "from functools import reduce \n",
    "\n",
    "nums = [1, 2, 3, 4]\n",
    "ans = reduce(lambda x, y: x + y, nums)\n",
    "print(ans) "
   ]
  },
  {
   "cell_type": "code",
   "execution_count": 4,
   "id": "a02a5199-c52e-46fc-8ce7-704bf8e3ffbe",
   "metadata": {},
   "outputs": [
    {
     "name": "stdout",
     "output_type": "stream",
     "text": [
      "21\n"
     ]
    }
   ],
   "source": [
    "'''2. Write a Python program that uses the `reduce()` function to find the product of all elements in a list.'''\n",
    "\n",
    "from functools import reduce\n",
    "l1 =[1,2,3,4,5,6]\n",
    "\n",
    "product =reduce(lambda x ,y :x+y, l1)\n",
    "print(product)"
   ]
  },
  {
   "cell_type": "code",
   "execution_count": 7,
   "id": "291d6464-5d23-4066-ba5b-1e12d5b92179",
   "metadata": {},
   "outputs": [
    {
     "name": "stdout",
     "output_type": "stream",
     "text": [
      "76\n"
     ]
    }
   ],
   "source": [
    "'''3.Create a Python program that uses `reduce()` to find the maximum element in a list of numbers.'''\n",
    "\n",
    "from functools import reduce\n",
    "\n",
    "l2 =[43,53,76,63,74,10,24]\n",
    "max_element =reduce(lambda x,y :x if x>y else y,l2)\n",
    "print(max_element)"
   ]
  },
  {
   "cell_type": "code",
   "execution_count": 11,
   "id": "d51073f8-e4de-41db-958d-9c0376b9525c",
   "metadata": {},
   "outputs": [
    {
     "data": {
      "text/plain": [
       "'fullstackdatascience'"
      ]
     },
     "execution_count": 11,
     "metadata": {},
     "output_type": "execute_result"
    }
   ],
   "source": [
    "'''4.How can you use the `reduce()` function to concatenate a list of strings into a single string?'''\n",
    "#example1\n",
    "\n",
    "def conc(n,m):\n",
    "    return n+m\n",
    "\n",
    "l3 =['full','stack','data','science']\n",
    "reduce(conc, l3)"
   ]
  },
  {
   "cell_type": "code",
   "execution_count": 16,
   "id": "2c171a70-b032-4410-924b-60cad517bee3",
   "metadata": {},
   "outputs": [
    {
     "name": "stdout",
     "output_type": "stream",
     "text": [
      "fullstackdatascience\n"
     ]
    }
   ],
   "source": [
    "#example2\n",
    "\n",
    "from functools import reduce\n",
    "\n",
    "l4 =['full','stack','data','science']\n",
    "concat =reduce(lambda x,y :x+y,l4)\n",
    "print(concat)"
   ]
  },
  {
   "cell_type": "code",
   "execution_count": 17,
   "id": "9e9401fa-02bc-42f6-ba49-973c76055bfb",
   "metadata": {},
   "outputs": [
    {
     "name": "stdin",
     "output_type": "stream",
     "text": [
      "Enter number:  5\n"
     ]
    },
    {
     "name": "stdout",
     "output_type": "stream",
     "text": [
      "120\n"
     ]
    }
   ],
   "source": [
    "'''5. Write a Python program that calculates the factorial of a number using the `reduce()` function.'''\n",
    "\n",
    "number = int(input('Enter number: '))\n",
    "factorial = reduce(lambda x, y: x * y, range(1, number+1))\n",
    "print(factorial)"
   ]
  },
  {
   "cell_type": "code",
   "execution_count": 20,
   "id": "1e3b7458-cfe9-44a6-90d2-fa12bed35975",
   "metadata": {},
   "outputs": [
    {
     "data": {
      "text/plain": [
       "6"
      ]
     },
     "execution_count": 20,
     "metadata": {},
     "output_type": "execute_result"
    }
   ],
   "source": [
    "'''6.Create a Python program that uses `reduce()` to find the GCD (Greatest Common Divisor) of a list of numbers.'''\n",
    "\n",
    "def compute_gcd(x, y):\n",
    "    if x > y:\n",
    "        smaller = y\n",
    "    else:\n",
    "        smaller = x\n",
    "    for i in range(1, smaller+1):\n",
    "        if((x % i == 0) and (y % i == 0)):\n",
    "            gcd = i \n",
    "    return gcd\n",
    "reduce(compute_gcd ,[54,24])"
   ]
  },
  {
   "cell_type": "code",
   "execution_count": 22,
   "id": "38315744-c66c-4035-9494-146c9c8a7483",
   "metadata": {},
   "outputs": [
    {
     "data": {
      "text/plain": [
       "45"
      ]
     },
     "execution_count": 22,
     "metadata": {},
     "output_type": "execute_result"
    }
   ],
   "source": [
    "'''7.Write a Python program that uses the `reduce()` function to find the sum of the digits of a given number.'''\n",
    "\n",
    "def get_sum(n):\n",
    "    sum_of =0\n",
    "    for digit in str(n):\n",
    "        sum_of =sum_of +int(digit)\n",
    "    return sum_of\n",
    "\n",
    "get_sum(123456789)"
   ]
  },
  {
   "cell_type": "code",
   "execution_count": 23,
   "id": "c46df05b-2111-4156-8187-ec6df9406037",
   "metadata": {},
   "outputs": [],
   "source": [
    "#Filter :-"
   ]
  },
  {
   "cell_type": "code",
   "execution_count": 1,
   "id": "43ba972c-8756-48cf-a5d7-25e77f7b6b0e",
   "metadata": {},
   "outputs": [
    {
     "data": {
      "text/plain": [
       "[1, 3, 5, 13]"
      ]
     },
     "execution_count": 1,
     "metadata": {},
     "output_type": "execute_result"
    }
   ],
   "source": [
    "'''1.Explain the purpose of the `filter()` function in Python and provide an example of how it can be used to filter elements from an iterable.\n",
    "\n",
    "Ans:\n",
    "\n",
    "Filter() is a built-in function in Python. \n",
    "The filter function can be applied to an iterable such as a list or a dictionary and create a new iterator. \n",
    "This new iterator can filter out certain specific elements based on the condition that you provide very efficiently.\n",
    "\n",
    "'''\n",
    "\n",
    "#example:\n",
    "\n",
    "l1 = [0, 1, 2, 3, 5, 8, 13]\n",
    "\n",
    "odd_filter =filter(lambda x : x%2!=0,l1)\n",
    "list(odd_filter)\n"
   ]
  },
  {
   "cell_type": "code",
   "execution_count": 4,
   "id": "62cc57af-468d-48e9-9acf-4dc62a282a26",
   "metadata": {},
   "outputs": [
    {
     "data": {
      "text/plain": [
       "[0, 2, 8, 12, 14, 16, 18, 20]"
      ]
     },
     "execution_count": 4,
     "metadata": {},
     "output_type": "execute_result"
    }
   ],
   "source": [
    "'''2.Write a Python program that uses the `filter()` function to select even numbers from a list of integers.'''\n",
    "\n",
    "l1 = [0, 1, 2, 3, 5, 8,9,11,12,13,14,15,16,17,18,19,20]\n",
    "\n",
    "odd_filter =filter(lambda x : x%2==0,l1)\n",
    "list(odd_filter)"
   ]
  },
  {
   "cell_type": "code",
   "execution_count": 32,
   "id": "dca5cbc0-2bbb-4330-a0f2-4956adf83347",
   "metadata": {},
   "outputs": [],
   "source": [
    "'''3.Create a Python program that uses the `filter()` function to select names that start with a specific letter from a list of strings.'''\n",
    "\n",
    "def specific(l2):\n",
    "    l1 =[]\n",
    "    for i in range(len(l2)):\n",
    "        if l2[0]==\"s\": \n",
    "            l1.append(l2[i])\n",
    "    return l1"
   ]
  },
  {
   "cell_type": "code",
   "execution_count": 33,
   "id": "ca865fdf-845e-4de9-babd-62c0cc5e4bb0",
   "metadata": {},
   "outputs": [
    {
     "name": "stdout",
     "output_type": "stream",
     "text": [
      "science\n",
      "school\n",
      "sudh\n"
     ]
    }
   ],
   "source": [
    "l2 =[\"science\",\"pro\",\"school\",\"pwskill\",\"sudh\",\"krish\"]\n",
    "spcific_word =filter(specific,l2)\n",
    "for i in spcific_word:\n",
    "    print(i)"
   ]
  },
  {
   "cell_type": "code",
   "execution_count": 24,
   "id": "348fd9e4-3b39-4901-af65-3cfa965c5873",
   "metadata": {},
   "outputs": [
    {
     "name": "stdout",
     "output_type": "stream",
     "text": [
      "[2, 3, 5, 7, 11, 13]\n"
     ]
    }
   ],
   "source": [
    "'''4.Write a Python program that uses the `filter()` function to select prime numbers from a list of integers.'''\n",
    "\n",
    "def is_prime(n):\n",
    "    if n <= 1:\n",
    "        return False\n",
    "    for i in range(2, int(n ** 0.5) + 1):\n",
    "        if n % i == 0:\n",
    "            return False\n",
    "    return True\n",
    "\n",
    "l2 = [1, 2, 3, 4, 5, 6, 7, 8, 9, 10, 11, 12, 13, 14, 15]\n",
    "\n",
    "prime_numbers = list(filter(is_prime, l2))\n",
    "print(prime_numbers)"
   ]
  },
  {
   "cell_type": "code",
   "execution_count": 6,
   "id": "1b4dae19-32b0-429b-9aee-95744019bd4d",
   "metadata": {},
   "outputs": [
    {
     "name": "stdout",
     "output_type": "stream",
     "text": [
      "[1, 2, 3, 4]\n"
     ]
    }
   ],
   "source": [
    "'''5.How can you use the `filter()` function to remove None values from a list in Python?'''\n",
    "\n",
    "my_list = [1, None, 2, None, 3, None, 4, None]\n",
    "new_list =list(filter(lambda x :x is not None,my_list))\n",
    "print(new_list)\n"
   ]
  },
  {
   "cell_type": "code",
   "execution_count": 50,
   "id": "4ae6f020-1cdf-43fc-a575-648d47375483",
   "metadata": {},
   "outputs": [
    {
     "name": "stdout",
     "output_type": "stream",
     "text": [
      "['Science', 'krish', 'pwskill', 'abcdef', 'stack']\n"
     ]
    }
   ],
   "source": [
    "'''6.Create a Python program that uses `filter()` to select words longer than a certain length from a list of strings.'''\n",
    "\n",
    "l4= ['Science','pro','krish','data','pwskill','abcdef','stack']\n",
    "\n",
    "longer_word =list(filter(lambda x :len(x)>4,l4))\n",
    "print(longer_word)"
   ]
  },
  {
   "cell_type": "code",
   "execution_count": 51,
   "id": "ed73bc1e-389e-4ece-aa6f-e541f4946688",
   "metadata": {},
   "outputs": [
    {
     "name": "stdout",
     "output_type": "stream",
     "text": [
      "['Science', 'krish', 'pwskill', 'abcdef', 'stack']\n"
     ]
    }
   ],
   "source": [
    "'''7.Write a Python program that uses the `filter()` function to select elements greater than a specified threshold from a list of values.'''\n",
    "\n",
    "l4= ['Science','pro','krish','data','pwskill','abcdef','stack']\n",
    "\n",
    "longer_word =list(filter(lambda x :len(x)>4,l4))\n",
    "print(longer_word)"
   ]
  },
  {
   "cell_type": "code",
   "execution_count": 52,
   "id": "8fcee57f-9465-4690-9aed-b3196702a905",
   "metadata": {},
   "outputs": [],
   "source": [
    "#Recursion:-"
   ]
  },
  {
   "cell_type": "code",
   "execution_count": null,
   "id": "f7297042-9344-4dcc-893a-39d242ede31c",
   "metadata": {},
   "outputs": [],
   "source": [
    "'''1.Explain the concept of recursion in Python. How does it differ from iteration?\n",
    "\n",
    "Ans :\n",
    "\n",
    "Recursion is when a function calls itself within its code, thus repeatedly executing the instructions present inside it. Iteration is when a loop repeatedly executes the set of instructions like \"for\" loops and \"while\" loops.\n",
    "\n",
    "it differ from itreation:\n",
    "\n",
    "The basic difference between recursion and iteration is that recursion is a process always applied to a function and iteration is applied to the set of instructions which we want to be executed repeatedly.\n",
    "\n",
    "'''\n"
   ]
  },
  {
   "cell_type": "code",
   "execution_count": 21,
   "id": "d13b9e77-bcfa-4308-ba0e-4fb34eb825d5",
   "metadata": {},
   "outputs": [
    {
     "data": {
      "text/plain": [
       "24"
      ]
     },
     "execution_count": 21,
     "metadata": {},
     "output_type": "execute_result"
    }
   ],
   "source": [
    "'''2.Write a Python program to calculate the factorial of a number using recursion.'''\n",
    "\n",
    "def facts(n):\n",
    "    if n == 1:\n",
    "        return 1\n",
    "    else:\n",
    "        return n*facts(n-1)\n",
    "\n",
    "facts(4)"
   ]
  },
  {
   "cell_type": "code",
   "execution_count": 22,
   "id": "d136f253-f41b-45f4-b9ad-becf9ba8ef33",
   "metadata": {},
   "outputs": [
    {
     "data": {
      "text/plain": [
       "34"
      ]
     },
     "execution_count": 22,
     "metadata": {},
     "output_type": "execute_result"
    }
   ],
   "source": [
    "'''3.Create a recursive Python function to find the nth Fibonacci number.'''\n",
    "\n",
    "def fibonacci(n):\n",
    "    if n<=0:\n",
    "        return 'Incorrect input'\n",
    "    elif n == 1 :\n",
    "        return 0\n",
    "    elif n == 2 :\n",
    "        return 1\n",
    "    else:\n",
    "        return fibonacci(n-1)+fibonacci(n-2)\n",
    "\n",
    "fibonacci(10)"
   ]
  },
  {
   "cell_type": "code",
   "execution_count": 23,
   "id": "f7de3a8e-e03e-4e94-945d-8fc3645cc2e5",
   "metadata": {},
   "outputs": [
    {
     "name": "stdout",
     "output_type": "stream",
     "text": [
      "28\n"
     ]
    }
   ],
   "source": [
    "'''4.Write a recursive Python function to calculate the sum of all elements in a list.'''\n",
    "\n",
    "myList=[1,4,2,6,7,3,5]\n",
    "def sumoflist(myList,nsum):\n",
    "    if len(myList):\n",
    "        return sumoflist(myList[1:] ,nsum +myList[0])\n",
    "    else:\n",
    "        return nsum\n",
    "    \n",
    "print(sumoflist(myList , 0))"
   ]
  },
  {
   "cell_type": "code",
   "execution_count": null,
   "id": "b5fd99be-6f1b-449a-8c3b-d2ea7b9f226c",
   "metadata": {},
   "outputs": [],
   "source": [
    "'''5.How can you prevent a recursive function from running indefinitely, causing a stack overflow error?\n",
    "\n",
    "Ans :\n",
    "\n",
    "if you runtime system has a stack smaller than defined , the overflow will occur. So, to prevent stackover flow in recursive functions, you should define a depth of recursion to fit your runtime max stack depth. It will vary between different systems.\n",
    "\n",
    "'''"
   ]
  },
  {
   "cell_type": "code",
   "execution_count": 26,
   "id": "aa27e1e7-1140-4a74-8834-38a1b53df91e",
   "metadata": {},
   "outputs": [
    {
     "data": {
      "text/plain": [
       "9"
      ]
     },
     "execution_count": 26,
     "metadata": {},
     "output_type": "execute_result"
    }
   ],
   "source": [
    "'''6.Create a recursive Python function to find the greatest common divisor (GCD) of two numbers using the Euclidean algorithm.'''\n",
    "\n",
    "def gcd(a,b):\n",
    "    if a==b:\n",
    "        return a\n",
    "    elif a<b:\n",
    "        return gcd(b,a)\n",
    "    else:\n",
    "        return gcd(b,a - b)\n",
    "    \n",
    "gcd(36,45)"
   ]
  },
  {
   "cell_type": "code",
   "execution_count": 27,
   "id": "e4879e68-ac50-4275-8f24-c1eacdb172d7",
   "metadata": {},
   "outputs": [
    {
     "data": {
      "text/plain": [
       "'sllikswp'"
      ]
     },
     "execution_count": 27,
     "metadata": {},
     "output_type": "execute_result"
    }
   ],
   "source": [
    "'''7.Write a recursive Python function to reverse a string.'''\n",
    "\n",
    "def reverse(s):\n",
    "    if len(s) == 0:\n",
    "        return s\n",
    "    else:\n",
    "        return reverse(s[1:]) + s[0]\n",
    "reverse(\"pwskills\")"
   ]
  },
  {
   "cell_type": "code",
   "execution_count": 28,
   "id": "a775a80c-d85b-4859-950b-1296eef21c52",
   "metadata": {},
   "outputs": [
    {
     "data": {
      "text/plain": [
       "81"
      ]
     },
     "execution_count": 28,
     "metadata": {},
     "output_type": "execute_result"
    }
   ],
   "source": [
    "'''8.Create a recursive Python function to calculate the power of a number (x^n).'''\n",
    "\n",
    "def power(n,p):\n",
    "    if p ==0:\n",
    "        return 1\n",
    "    else:\n",
    "        return n*power(n,p-1)\n",
    "\n",
    "power(3,4)"
   ]
  },
  {
   "cell_type": "code",
   "execution_count": 30,
   "id": "cc459f57-1319-45df-a24b-1ce0cc861567",
   "metadata": {},
   "outputs": [
    {
     "data": {
      "text/plain": [
       "['abc', 'acb', 'bac', 'bca', 'cab', 'cba']"
      ]
     },
     "execution_count": 30,
     "metadata": {},
     "output_type": "execute_result"
    }
   ],
   "source": [
    "'''9.Write a recursive Python function to find all permutations of a given string.'''\n",
    "\n",
    "def find_permutations(s):\n",
    "    if len(s) == 1:\n",
    "        return [s]\n",
    "    else:\n",
    "        perms = []\n",
    "        for i, c in enumerate(s):\n",
    "            for perm in find_permutations(s[:i] + s[i+1:]):\n",
    "                perms.append(c + perm)\n",
    "        return perms\n",
    "\n",
    "find_permutations(\"abc\")"
   ]
  },
  {
   "cell_type": "code",
   "execution_count": 31,
   "id": "48d924bc-01ae-4b82-95db-4438a6dca831",
   "metadata": {},
   "outputs": [
    {
     "name": "stdin",
     "output_type": "stream",
     "text": [
      "Enter your string:  abcba\n"
     ]
    },
    {
     "name": "stdout",
     "output_type": "stream",
     "text": [
      "abcba is palindrome\n"
     ]
    }
   ],
   "source": [
    "'''10.Write a recursive Python function to check if a string is a palindrome.'''\n",
    "\n",
    "def is_palindrome(l,r,S):\n",
    "    if l>=r:\n",
    "        return True\n",
    "    if S[l] != S[r]:\n",
    "        return False\n",
    "    return is_palindrome(l+1,r-1,S)\n",
    "\n",
    "my_string = input('Enter your string: ')\n",
    "l = 0\n",
    "r = len(my_string)-1\n",
    "\n",
    "check = is_palindrome(l,r,my_string)\n",
    "\n",
    "if check:\n",
    "    print(f\"{my_string} is palindrome\")\n",
    "else:\n",
    "    print(f\"{my_string} is not palindrome\")"
   ]
  },
  {
   "cell_type": "code",
   "execution_count": 32,
   "id": "102cd274-8a3e-443e-9f36-1a4bb2febc23",
   "metadata": {},
   "outputs": [
    {
     "name": "stdout",
     "output_type": "stream",
     "text": [
      "[[], [1], [2], [1, 2], [3], [1, 3], [2, 3], [1, 2, 3], [4], [1, 4], [2, 4], [1, 2, 4], [3, 4], [1, 3, 4], [2, 3, 4], [1, 2, 3, 4]]\n"
     ]
    }
   ],
   "source": [
    "'''11.Create a recursive Python function to generate all possible combinations of a list of elements.'''\n",
    "\n",
    "def combinations(l):\n",
    "    if l:\n",
    "        result = combinations(l[:-1])\n",
    "        return result + [c + [l[-1]] for c in result]\n",
    "    else:\n",
    "        return [[]]\n",
    "print(combinations([1, 2, 3, 4]))"
   ]
  },
  {
   "cell_type": "code",
   "execution_count": 33,
   "id": "81f18b4b-5a2c-49fd-a075-b04c3788a743",
   "metadata": {},
   "outputs": [],
   "source": [
    "#Basics of Functions:"
   ]
  },
  {
   "cell_type": "code",
   "execution_count": null,
   "id": "91e546cd-0665-4018-97dc-49a919e19bbf",
   "metadata": {},
   "outputs": [],
   "source": [
    "'''1.What is a function in Python, and why is it used?\n",
    "\n",
    "Ans: \n",
    "\n",
    "unction is block of code which only run when it is called. we can pass data known as parameter A function can return data as result.\n",
    "\n",
    "Why function is used ?:\n",
    "\n",
    "Beacuse it provide the reusablility of code. it is better for memory management in python.'''"
   ]
  },
  {
   "cell_type": "code",
   "execution_count": 1,
   "id": "7af13916-9fc4-4b23-bd15-866da946d501",
   "metadata": {},
   "outputs": [
    {
     "name": "stdout",
     "output_type": "stream",
     "text": [
      "Hello Pwskills\n"
     ]
    }
   ],
   "source": [
    "'''2.How do you define a function in Python? Provide an example.\n",
    "Ans:\n",
    "    def func():\n",
    "        function Body \n",
    "        \n",
    "'''        \n",
    "        \n",
    "def func():\n",
    "    print(\"Hello Pwskills\")\n",
    "func()"
   ]
  },
  {
   "cell_type": "code",
   "execution_count": null,
   "id": "f9a98ae0-9c3a-465e-90c5-b7b234cf6e74",
   "metadata": {},
   "outputs": [],
   "source": [
    "'''3.Explain the difference between a function definition and a function call.\n",
    "\n",
    "Ans:\n",
    "Function defination :\n",
    "\n",
    "A function is block of code that perform the specific task.\n",
    "\n",
    "Function call :\n",
    "\n",
    "A fuction call is expresssion that invoke function and execute the code in the fuction.\n",
    "\n",
    "'''\n"
   ]
  },
  {
   "cell_type": "code",
   "execution_count": 3,
   "id": "4a534b7f-45ed-47eb-835b-fee4d9fce50d",
   "metadata": {},
   "outputs": [
    {
     "data": {
      "text/plain": [
       "50"
      ]
     },
     "execution_count": 3,
     "metadata": {},
     "output_type": "execute_result"
    }
   ],
   "source": [
    "'''4.Write a Python program that defines a function to calculate the sum of two numbers and then calls the function.'''\n",
    "\n",
    "def summation(n,m):\n",
    "    sum_two = n+m\n",
    "    return sum_two\n",
    "\n",
    "summation(34,16)"
   ]
  },
  {
   "cell_type": "code",
   "execution_count": null,
   "id": "96df4a37-a3ba-4e6e-b8c4-7d38c6473d2f",
   "metadata": {},
   "outputs": [],
   "source": [
    "'''5.What is a function signature, and what information does it typically include?\n",
    "\n",
    "Ans:\n",
    "\n",
    "In Python, a function signature provides crucial information about the types of parameters that a function can accept and the type of data it returns. The signature() function from the inspect module is used to determine the function signature, helping developers to ensure they are passing the correct types of arguments to their functions. This function can be particularly useful in large programs where a small mistake can lead to significant issues.\n",
    "\n",
    "'''"
   ]
  },
  {
   "cell_type": "code",
   "execution_count": 4,
   "id": "4ee87fca-82ad-481e-b533-8e7cb2aa00d7",
   "metadata": {},
   "outputs": [
    {
     "data": {
      "text/plain": [
       "18"
      ]
     },
     "execution_count": 4,
     "metadata": {},
     "output_type": "execute_result"
    }
   ],
   "source": [
    "'''6.Create a Python function that takes two arguments and returns their product.'''\n",
    "\n",
    "def products(a,b):\n",
    "    return a*b\n",
    "\n",
    "products(6,3)\n"
   ]
  },
  {
   "cell_type": "code",
   "execution_count": 5,
   "id": "8232e644-a1dd-428c-804a-a742eb6b3f81",
   "metadata": {},
   "outputs": [],
   "source": [
    "#Function Parameters and Arguments:"
   ]
  },
  {
   "cell_type": "code",
   "execution_count": null,
   "id": "f0b67dd9-d527-4fcd-903d-4ed212b7a809",
   "metadata": {},
   "outputs": [],
   "source": [
    "'''1.Explain the concepts of formal parameters and actual arguments in Python functions.\n",
    "\n",
    "Ans:\n",
    "\n",
    "Actual Parameters vary from Formal Parameters in that Actual Parameters are values supplied to the function when it is invoked, whereas Formal Parameters are variables declared by the function that get values when the function is called.\n",
    "\n",
    "'''\n"
   ]
  },
  {
   "cell_type": "code",
   "execution_count": 7,
   "id": "2079a12b-8f06-4433-9cab-5efc6e68b91a",
   "metadata": {},
   "outputs": [
    {
     "name": "stdout",
     "output_type": "stream",
     "text": [
      "a is :12 and b is :10\n"
     ]
    }
   ],
   "source": [
    "'''2.Write a Python program that defines a function with default argument values.'''\n",
    "\n",
    "def function(a =12,b=10):\n",
    "    print(f\"a is :{a} and b is :{b}\")\n",
    "function()"
   ]
  },
  {
   "cell_type": "code",
   "execution_count": 8,
   "id": "70c6788d-1335-4a21-a359-0b91746ab488",
   "metadata": {},
   "outputs": [
    {
     "name": "stdout",
     "output_type": "stream",
     "text": [
      "Abcd is working on an Pwskills\n"
     ]
    }
   ],
   "source": [
    "'''3.How do you use keyword arguments in Python function calls? Provide an example.\n",
    "\n",
    "Ans:\n",
    "\n",
    "Keyword arguments (or named arguments) are values that, when passed into a function, are identifiable by specific parameter names. A keyword argument is preceded by a parameter and the assignment operator = .\n",
    "\n",
    "'''\n",
    "\n",
    "def team(name, project):\n",
    "    print(name, \"is working on an\", project)\n",
    "team(project = \"Pwskills\", name = 'Abcd')"
   ]
  },
  {
   "cell_type": "code",
   "execution_count": 9,
   "id": "1f9a5771-94ff-4e47-b18c-63ff77a25a00",
   "metadata": {},
   "outputs": [
    {
     "data": {
      "text/plain": [
       "55"
      ]
     },
     "execution_count": 9,
     "metadata": {},
     "output_type": "execute_result"
    }
   ],
   "source": [
    "'''4.Create a Python function that accepts a variable number of arguments and calculates their sum.'''\n",
    "\n",
    "def func(*args):\n",
    "    return sum(args)\n",
    "func(1,2,3,4,5,6,7,8,9,10)"
   ]
  },
  {
   "cell_type": "code",
   "execution_count": 10,
   "id": "c491a6d6-a823-46c8-97ee-7dae65296e33",
   "metadata": {},
   "outputs": [
    {
     "data": {
      "text/plain": [
       "254"
      ]
     },
     "execution_count": 10,
     "metadata": {},
     "output_type": "execute_result"
    }
   ],
   "source": [
    "'''5.What is the purpose of the `*args` and `**kwargs` syntax in function parameter lists?\n",
    "\n",
    "Ans:\n",
    "\n",
    "*args:\n",
    "\n",
    "Python has *args which allow us to pass the variable number of non keyword arguments to function.In the function, we should use an asterisk * before the parameter name to pass variable length arguments.The arguments are passed as a tuple and these passed arguments make tuple inside the function with same name as the parameter excluding asterisk\n",
    "\n",
    "'''\n",
    "\n",
    "# Example\n",
    "def adder(*num):\n",
    "    sum_num =0\n",
    "    for i in num:\n",
    "        sum_num =sum_num +i\n",
    "    return sum_num\n",
    "adder(54,65,6,86,43)"
   ]
  },
  {
   "cell_type": "code",
   "execution_count": 11,
   "id": "5818fea3-b718-4209-bd50-ad724116acf9",
   "metadata": {},
   "outputs": [
    {
     "name": "stdout",
     "output_type": "stream",
     "text": [
      "\n",
      "Data type of argument: <class 'dict'>\n",
      "Firstname is abc\n",
      "Lastname is xyz\n",
      "Age is 30\n",
      "Phone is 1234567890\n",
      "\n",
      "Data type of argument: <class 'dict'>\n",
      "Firstname is efg\n",
      "Lastname is pqr\n",
      "Email is abcd@gmail.com\n",
      "Country is india\n",
      "Age is 23\n",
      "Phone is 9876543210\n"
     ]
    }
   ],
   "source": [
    "'''\n",
    "\n",
    "**kwargs :\n",
    "\n",
    "Python passes variable length non keyword argument to function using *args but we cannot use this to pass keyword argument. For this problem Python has got a solution called **kwargs, it allows us to pass the variable length of keyword arguments to the function.\n",
    "\n",
    "'''\n",
    "\n",
    "#Example:\n",
    "\n",
    "def intro(**data):\n",
    "    print(\"\\nData type of argument:\",type(data))\n",
    "\n",
    "    for key, value in data.items():\n",
    "        print(\"{} is {}\".format(key,value))\n",
    "        \n",
    "intro(Firstname=\"abc\", Lastname=\"xyz\", Age=30, Phone=1234567890)\n",
    "intro(Firstname=\"efg\", Lastname=\"pqr\", Email=\"abcd@gmail.com\", Country=\"india\", Age=23, Phone=9876543210)"
   ]
  },
  {
   "cell_type": "code",
   "execution_count": 13,
   "id": "012fc348-9aef-45dc-860d-785647a819ed",
   "metadata": {},
   "outputs": [],
   "source": [
    "#Return Values and Scoping:"
   ]
  },
  {
   "cell_type": "code",
   "execution_count": 15,
   "id": "bd3335d5-e1df-4f96-8edf-2de18040eb2f",
   "metadata": {},
   "outputs": [
    {
     "data": {
      "text/plain": [
       "27"
      ]
     },
     "execution_count": 15,
     "metadata": {},
     "output_type": "execute_result"
    }
   ],
   "source": [
    "'''1.Describe the role of the `return` statement in Python functions and provide examples.\n",
    "\n",
    "Ans:\n",
    "\n",
    "A return statement is used to end the execution of the function call and “returns” the result (value of the expression following the return keyword) to the caller. The statements after the return statements are not executed. If the return statement is without any expression, then the special value None is returned. A return statement is overall used to invoke a function so that the passed statements can be executed.\n",
    "\n",
    "'''\n",
    "\n",
    "#Example\n",
    "\n",
    "def cube(x):\n",
    "    r =x**3\n",
    "    return r\n",
    "cube(3)"
   ]
  },
  {
   "cell_type": "code",
   "execution_count": null,
   "id": "41876afa-ea68-4ec2-af11-b6f8db114129",
   "metadata": {},
   "outputs": [],
   "source": [
    "'''2.Explain the concept of variable scope in Python, including local and global variables.\n",
    "\n",
    "Global Variable :\n",
    "\n",
    "Global variable are those which are not define outside the function which has global scope .\n",
    "local Variable :\n",
    "\n",
    "loacal variable are those which are define inside the function which has local scope.\n",
    "\n",
    "'''\n"
   ]
  },
  {
   "cell_type": "code",
   "execution_count": 16,
   "id": "3808e938-652c-4323-963b-657484b8393f",
   "metadata": {},
   "outputs": [
    {
     "name": "stdout",
     "output_type": "stream",
     "text": [
      "Python is fantastic\n"
     ]
    }
   ],
   "source": [
    "'''3.Write a Python program that demonstrates the use of global variables within functions.\n",
    "\n",
    "Ans:\n",
    "\n",
    "Variables that are created outside of a function (as in all of the examples above) are known as global variables.\n",
    "\n",
    "'''\n",
    "x = \"awesome\"\n",
    "\n",
    "def myfunc():\n",
    "    x = \"fantastic\"\n",
    "    print(\"Python is \" + x)\n",
    "myfunc() # local variable work only inside the function"
   ]
  },
  {
   "cell_type": "code",
   "execution_count": 17,
   "id": "1514e9cb-75f3-42c7-ba1f-ce986cb5c63c",
   "metadata": {},
   "outputs": [
    {
     "name": "stdout",
     "output_type": "stream",
     "text": [
      "Python is awesome\n"
     ]
    }
   ],
   "source": [
    "print(\"Python is \" + x) # global variable work outside the function"
   ]
  },
  {
   "cell_type": "code",
   "execution_count": 19,
   "id": "d59b7692-8616-464b-a2f6-02da46844cef",
   "metadata": {},
   "outputs": [
    {
     "data": {
      "text/plain": [
       "5040"
      ]
     },
     "execution_count": 19,
     "metadata": {},
     "output_type": "execute_result"
    }
   ],
   "source": [
    "'''4.Create a Python function that calculates the factorial of a number and returns it.'''\n",
    "\n",
    "def factorial(n):\n",
    "    facts =1\n",
    "    for i in range(1,n+1):\n",
    "        facts =facts *i\n",
    "    return facts\n",
    "factorial(7)"
   ]
  },
  {
   "cell_type": "code",
   "execution_count": 20,
   "id": "cb35d3df-7186-49ce-bbe6-85a2b44f1f5f",
   "metadata": {},
   "outputs": [
    {
     "name": "stdout",
     "output_type": "stream",
     "text": [
      "I learn from pwskills\n"
     ]
    }
   ],
   "source": [
    "'''5.How can you access variables defined outside a function from within the function?'''\n",
    "\n",
    "x ='pwskills'\n",
    "def funct():\n",
    "    print(f\"I learn from {x}\")\n",
    "funct()"
   ]
  },
  {
   "cell_type": "code",
   "execution_count": 21,
   "id": "2d5bcd80-c8f3-4994-9e10-ea7bf01ee880",
   "metadata": {},
   "outputs": [],
   "source": [
    "#Lambda Functions and Higher-Order Functions:"
   ]
  },
  {
   "cell_type": "code",
   "execution_count": null,
   "id": "4bbca908-f41b-45d4-83f8-08966ebcc127",
   "metadata": {},
   "outputs": [],
   "source": [
    "'''1.What are lambda functions in Python, and when are they typically used?\n",
    "\n",
    "Ans:\n",
    "\n",
    "Lambda function is anomyous function which can take number of arguments but only in single expression.\n",
    "syntax :\n",
    "\n",
    "lambda x : expression\n",
    "\n",
    "You should use the lambda function to create simple expressions. For example, expressions that do not include complex structures such as if-else, for-loops, and so on. So, for example, if you want to create a function with a for-loop, you should use a user-defined function.\n",
    "\n",
    "'''"
   ]
  },
  {
   "cell_type": "code",
   "execution_count": 28,
   "id": "6a0d1998-95a3-462f-b3b1-c1492d495962",
   "metadata": {},
   "outputs": [
    {
     "name": "stdout",
     "output_type": "stream",
     "text": [
      "[20, 1, 12, 63, 23, 44, 34, 56, 76, 67, 99]\n"
     ]
    }
   ],
   "source": [
    "'''2.Write a Python program that uses lambda functions to sort a list of tuples based on the second element.'''\n",
    "\n",
    "l1 =[20,63,44,67,34,1,23,12,56,76,99]\n",
    "sort_base =sorted(l1,key= lambda x:x %10)\n",
    "print(sort_base)"
   ]
  },
  {
   "cell_type": "code",
   "execution_count": 29,
   "id": "db6082eb-fe1e-4d08-a5a8-664687cf7be6",
   "metadata": {},
   "outputs": [
    {
     "name": "stdout",
     "output_type": "stream",
     "text": [
      "Hi, I am myfun\n"
     ]
    }
   ],
   "source": [
    "'''3.Explain the concept of higher-order functions in Python, and provide an example.\n",
    "\n",
    "Ans :\n",
    "\n",
    "Higher-order functions are functions that take a function as a parameter and/or return a function as an output.A few useful higher-order functions are map() , filter() , and reduce() . map() and filter() are built-in functions, whereas reduce() is contained in functools() module \n",
    "\n",
    "'''\n",
    "\n",
    "def myfun():\n",
    "    print(\"Hi, I am myfun\")\n",
    "\n",
    "# accepting function as argument\n",
    "def fun(f):\n",
    "    # calling the passes function\n",
    "    f()\n",
    "\n",
    "# # driver code\n",
    "# ref = myfun # creating reference\n",
    "# # passing function as argument\n",
    "# fun(ref)\n",
    "# # OR\n",
    "# fun(myfun)  # Direct passing\n",
    "ref=myfun()"
   ]
  },
  {
   "cell_type": "code",
   "execution_count": 30,
   "id": "98b1324f-3815-4744-953d-f85f31f27fcc",
   "metadata": {},
   "outputs": [
    {
     "name": "stdout",
     "output_type": "stream",
     "text": [
      "Hi, I am myfun\n"
     ]
    }
   ],
   "source": [
    "fun(myfun)"
   ]
  },
  {
   "cell_type": "code",
   "execution_count": 32,
   "id": "3bac2b58-6b88-4cce-85c8-8c6ab9e219d3",
   "metadata": {},
   "outputs": [
    {
     "name": "stdout",
     "output_type": "stream",
     "text": [
      "[1, 4, 9, 16, 25, 36, 49, 64, 81]\n"
     ]
    }
   ],
   "source": [
    "'''4.Create a Python function that takes a list of numbers and a function as arguments, applying the function to each element in the list.'''\n",
    "\n",
    "l2 =[1,2,3,4,5,6,7,8,9]\n",
    "each_elements  =list(map(lambda x: pow(x,2),l2))\n",
    "print(each_elements)"
   ]
  },
  {
   "cell_type": "code",
   "execution_count": 34,
   "id": "722214e6-0631-46b4-8c97-25a5df7f528e",
   "metadata": {},
   "outputs": [
    {
     "name": "stdout",
     "output_type": "stream",
     "text": [
      "[1, 4, 9, 16, 25, 36, 49, 64, 81]\n"
     ]
    }
   ],
   "source": [
    "def square(args):\n",
    "    return args**2\n",
    "each_ele =list(map(square, l2))\n",
    "print(each_ele)"
   ]
  },
  {
   "cell_type": "code",
   "execution_count": 35,
   "id": "30dcec06-f6e1-4515-b620-bd82ab70b3c6",
   "metadata": {},
   "outputs": [],
   "source": [
    "#Built-in Functions:"
   ]
  },
  {
   "cell_type": "code",
   "execution_count": null,
   "id": "5c13f9ea-ce36-4164-be19-d38b7b068bc3",
   "metadata": {},
   "outputs": [],
   "source": [
    "'''1.Describe the role of built-in functions like `len()`, `max()`, and `min()` in Python.\n",
    "\n",
    "Ans :\n",
    "\n",
    "Len():\n",
    "\n",
    "len() function is use to return the number of item in container.\n",
    "\n",
    "Max():\n",
    "\n",
    "max() function is used to return the max element from container.\n",
    "\n",
    "Min():\n",
    "\n",
    "min() function is used to return the min element from container.\n",
    "\n",
    "'''\n"
   ]
  },
  {
   "cell_type": "code",
   "execution_count": 37,
   "id": "650e589f-79a1-4dde-8558-f6403922c66f",
   "metadata": {},
   "outputs": [
    {
     "name": "stdout",
     "output_type": "stream",
     "text": [
      "[11, 12, 13, 14, 15, 16, 17, 18, 19, 20]\n"
     ]
    }
   ],
   "source": [
    "'''2.Write a Python program that uses the `map()` function to apply a function to each element of a list.'''\n",
    "\n",
    "l1=[1,2,3,4,5,6,7,8,9,10]\n",
    "\n",
    "add = list(map(lambda x : x+10, l1))\n",
    "print(add)"
   ]
  },
  {
   "cell_type": "code",
   "execution_count": null,
   "id": "ba89ae16-0884-473e-9e5a-d986aed25964",
   "metadata": {},
   "outputs": [],
   "source": [
    "'''3.How does the `filter()` function work in Python, and when would you use it?\n",
    "\n",
    "Ans:\n",
    "\n",
    "Filter() is a built-in function in Python. The filter function can be applied to an iterable such as a list or a dictionary and create a new iterator. This new iterator can filter out certain specific elements based on the condition that you provide very efficiently.\n",
    "\n",
    "'''\n"
   ]
  },
  {
   "cell_type": "code",
   "execution_count": 39,
   "id": "5db25549-d610-4b9c-a0e9-aee93a02b323",
   "metadata": {},
   "outputs": [
    {
     "name": "stdout",
     "output_type": "stream",
     "text": [
      "720\n"
     ]
    }
   ],
   "source": [
    "'''4.Create a Python program that uses the `reduce()` function to find the product of all elements in a list.'''\n",
    "\n",
    "from functools import reduce\n",
    "l5 =[1,2,3,4,5,6]\n",
    "\n",
    "reduced =reduce(lambda x,y : x*y ,l5)\n",
    "print(reduced)"
   ]
  },
  {
   "cell_type": "code",
   "execution_count": 40,
   "id": "894cd860-35a4-4671-9733-1b6eadf5f6b3",
   "metadata": {},
   "outputs": [],
   "source": [
    "#Function Documentation and Best Practices:"
   ]
  },
  {
   "cell_type": "code",
   "execution_count": 41,
   "id": "73c6bbf1-948e-4b54-b629-8fe8b3c08db1",
   "metadata": {},
   "outputs": [
    {
     "data": {
      "text/plain": [
       "5"
      ]
     },
     "execution_count": 41,
     "metadata": {},
     "output_type": "execute_result"
    }
   ],
   "source": [
    "'''1.Explain the purpose of docstrings in Python functions and how to write them.\n",
    "\n",
    "docstrings :\n",
    "\n",
    "docstring is also called as multiline string.docstring is used to document a specific segment of code.\n",
    "\n",
    "'''\n",
    "\n",
    "def func(a,b):\n",
    "    \"\"\"In these function we take two parameter.which help to\n",
    "    giving input to the function. the function return the addition \n",
    "    operation\"\"\"\n",
    "    return a+b\n",
    "\n",
    "func(2,3)\n"
   ]
  },
  {
   "cell_type": "code",
   "execution_count": null,
   "id": "c9bd2103-daa1-468b-8e5b-d044bf39bf7c",
   "metadata": {},
   "outputs": [],
   "source": [
    "'''2. Describe some best practices for naming functions and variables in Python, including naming conventions and guidelines.\n",
    "ANS:\n",
    "\n",
    "Here are our best practices for naming variables in Python:\n",
    "\n",
    "1. use discriptive and meaningful name.\n",
    "2. follow the consistent naming and convention.\n",
    "3. Avoid reserved keyword .\n",
    "4. Dont use abbrivation .\n",
    "5. be mindful of variable scope.\n",
    "\n",
    "'''"
   ]
  }
 ],
 "metadata": {
  "kernelspec": {
   "display_name": "Python 3 (ipykernel)",
   "language": "python",
   "name": "python3"
  },
  "language_info": {
   "codemirror_mode": {
    "name": "ipython",
    "version": 3
   },
   "file_extension": ".py",
   "mimetype": "text/x-python",
   "name": "python",
   "nbconvert_exporter": "python",
   "pygments_lexer": "ipython3",
   "version": "3.10.8"
  }
 },
 "nbformat": 4,
 "nbformat_minor": 5
}
