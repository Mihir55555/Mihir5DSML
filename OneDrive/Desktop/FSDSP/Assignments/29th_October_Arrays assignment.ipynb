{
 "cells": [
  {
   "cell_type": "code",
   "execution_count": null,
   "id": "4d256b6b-4c16-447a-bddb-c59a3890ce51",
   "metadata": {},
   "outputs": [],
   "source": [
    "#Arrays assignment"
   ]
  },
  {
   "cell_type": "code",
   "execution_count": 1,
   "id": "0319f72c-f8c1-4e91-a04e-6dd45da32bb7",
   "metadata": {},
   "outputs": [],
   "source": [
    "'''1. Given an array, check if it contains any duplicates or not.\n",
    "arr = [1, 2, 4, 2, 5, 9]\n",
    "Output = True'''\n",
    "\n",
    "# Time Complexity  - O(n)\n",
    "# Space Complexity - O(1)\n",
    "\n",
    "def check_duplicates(arr):\n",
    "    for i in range(len(arr)):\n",
    "        if arr[i] == arr[i]:\n",
    "            dup = arr[i]\n",
    "        return True"
   ]
  },
  {
   "cell_type": "code",
   "execution_count": 2,
   "id": "f932d543-3831-487a-a4a7-a0c08f4b53ff",
   "metadata": {},
   "outputs": [
    {
     "name": "stdout",
     "output_type": "stream",
     "text": [
      "True\n"
     ]
    }
   ],
   "source": [
    "arr =[1, 2, 4, 2, 5, 9]\n",
    "duplicates = check_duplicates(arr)\n",
    "print(duplicates)"
   ]
  },
  {
   "cell_type": "code",
   "execution_count": 4,
   "id": "9a9ac0af-3ded-46b2-9851-27f08050712c",
   "metadata": {},
   "outputs": [
    {
     "name": "stdout",
     "output_type": "stream",
     "text": [
      "[5, 6, 7, 1, 2, 3, 4]\n"
     ]
    }
   ],
   "source": [
    "'''2. Given an array and an integer k, rotate the array to the right by k steps.\n",
    "arr = [1, 2, 3, 4, 5, 6, 7] k = 3\n",
    "Output = [5, 6, 7, 1, 2, 3, 4] '''\n",
    "\n",
    "# Time Complexity  - O(n^2)\n",
    "# Space Complexity - O(1)\n",
    "\n",
    "def rotation_arr(nums, k):\n",
    "    n = len(nums)\n",
    "    k = k % n\n",
    "    rotated_nums = [0] * n\n",
    "\n",
    "    for i in range(n):\n",
    "        new_index = (i + k) % n\n",
    "        rotated_nums[new_index] = nums[i]\n",
    "        \n",
    "    for i in range(n):\n",
    "        nums[i] = rotated_nums[i]\n",
    "\n",
    "arr = [1, 2, 3, 4, 5, 6, 7]\n",
    "k = 3\n",
    "rotation_arr(arr, k)\n",
    "print(arr) \n"
   ]
  },
  {
   "cell_type": "code",
   "execution_count": 7,
   "id": "cd7408a0-fbba-43fd-8bbb-691edff599ba",
   "metadata": {},
   "outputs": [
    {
     "name": "stdout",
     "output_type": "stream",
     "text": [
      "12 9 7 5 4 2 "
     ]
    }
   ],
   "source": [
    "'''3. Reverse the given array in-place, means without using any extra data structure.\n",
    "arr = [2, 4, 5, 7, 9, 12]\n",
    "Output = [12, 9, 7, 5, 4, 2] '''\n",
    "\n",
    "# Time Complexity  - O(n)\n",
    "# Space Complexity - O(1)\n",
    "\n",
    "def reverse(arr):\n",
    "    for i in reversed(arr):\n",
    "        print(i,end=\" \")      \n",
    "        \n",
    "arr =[2, 4, 5, 7, 9, 12]\n",
    "reverse(arr)"
   ]
  },
  {
   "cell_type": "code",
   "execution_count": 8,
   "id": "7ec10734-152d-48bf-81e0-88f5ab7bdda9",
   "metadata": {},
   "outputs": [
    {
     "data": {
      "text/plain": [
       "20"
      ]
     },
     "execution_count": 8,
     "metadata": {},
     "output_type": "execute_result"
    }
   ],
   "source": [
    "''' 4. Given an array of integers, find the maximum element in an array\n",
    "arr = [10, 5, 20, 8, 15]\n",
    "Output = 20 '''\n",
    "\n",
    "# Time Complexity  - O(n)\n",
    "# Space Complexity - O(1)\n",
    "\n",
    "def Max_element(arr):\n",
    "    max_ele = arr[0]\n",
    "\n",
    "    for i in range(len(arr)):\n",
    "        if arr[i] > max_ele:\n",
    "            max_ele =arr[i]\n",
    "    return max_ele\n",
    "            \n",
    "arr =[10,5,20,8,15]\n",
    "Max_element(arr)"
   ]
  },
  {
   "cell_type": "code",
   "execution_count": 9,
   "id": "c5bc354a-ff45-434a-b10f-8e6b972f72d7",
   "metadata": {},
   "outputs": [
    {
     "name": "stdout",
     "output_type": "stream",
     "text": [
      "[1, 2, 3, 4, 5]\n"
     ]
    }
   ],
   "source": [
    "'''5. Given a sorted array, remove the duplicate element without using any extra data structure.\n",
    "arr = [1, 1, 2, 2, 2, 3, 3, 4, 4, 4, 5, 5]\n",
    "Output = [1, 2, 3, 4, 5] '''\n",
    "\n",
    "#Time Complexity  - O(1)\n",
    "# Space Complexity - O(1)\n",
    "\n",
    "def sorting_array(arr):\n",
    "    array =list(set(arr))\n",
    "    return array\n",
    "\n",
    "arr =[1, 1, 2, 2, 2, 3, 3, 4, 4, 4, 5, 5]\n",
    "sort_arr =sorting_array(arr)\n",
    "print(sort_arr)"
   ]
  },
  {
   "cell_type": "code",
   "execution_count": null,
   "id": "6cbc7713-6f60-4a83-b518-77dda1d3120e",
   "metadata": {},
   "outputs": [],
   "source": []
  }
 ],
 "metadata": {
  "kernelspec": {
   "display_name": "Python 3 (ipykernel)",
   "language": "python",
   "name": "python3"
  },
  "language_info": {
   "codemirror_mode": {
    "name": "ipython",
    "version": 3
   },
   "file_extension": ".py",
   "mimetype": "text/x-python",
   "name": "python",
   "nbconvert_exporter": "python",
   "pygments_lexer": "ipython3",
   "version": "3.10.8"
  }
 },
 "nbformat": 4,
 "nbformat_minor": 5
}
