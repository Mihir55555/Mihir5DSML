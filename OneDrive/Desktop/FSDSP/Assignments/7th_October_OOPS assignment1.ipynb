{
 "cells": [
  {
   "cell_type": "code",
   "execution_count": 11,
   "id": "7c22d9c3-4ab6-48b1-a2db-0316f71d1e2d",
   "metadata": {},
   "outputs": [],
   "source": [
    "'''Problem 1: Bank Account Create a class representing a bank account with attributes like account number, account holder name, and balance. Implement methods to deposit and withdraw money from the account.'''\n",
    "\n",
    "class bank_account:\n",
    "    \n",
    "    def __init__(self,account_number,account_holdername,balance):\n",
    "        self.account_number = account_number\n",
    "        self.account_holdername = account_holdername\n",
    "        self.balance = balance\n",
    "    \n",
    "    def deposit_amount(self,deposit_amt):\n",
    "        print(\"current balance:\",self.balance)\n",
    "        self.balance = self.balance + deposit_amt\n",
    "        print(\"You are Deposited amount in bank is :\",self.balance)\n",
    "        \n",
    "    def withdraw_amount(self,withdraw_amt):\n",
    "        print(\"current balance:\",self.balance)\n",
    "        self.balance = self.balance - withdraw_amt\n",
    "        print(\"You are withdraw amount fro bank is :\",self.balance)    "
   ]
  },
  {
   "cell_type": "code",
   "execution_count": 12,
   "id": "2c245cf0-39c6-4dbc-beb1-5146dfce06ad",
   "metadata": {},
   "outputs": [],
   "source": [
    "odj_bank_account = bank_account(\"564789321\",\"Abcd\",5000)"
   ]
  },
  {
   "cell_type": "code",
   "execution_count": 13,
   "id": "b208431b-8868-49e0-8c69-d2d8349233e7",
   "metadata": {},
   "outputs": [
    {
     "data": {
      "text/plain": [
       "'564789321'"
      ]
     },
     "execution_count": 13,
     "metadata": {},
     "output_type": "execute_result"
    }
   ],
   "source": [
    "odj_bank_account.account_number"
   ]
  },
  {
   "cell_type": "code",
   "execution_count": 14,
   "id": "62187e15-3973-4609-bca7-02587f7e42c3",
   "metadata": {},
   "outputs": [
    {
     "data": {
      "text/plain": [
       "'Abcd'"
      ]
     },
     "execution_count": 14,
     "metadata": {},
     "output_type": "execute_result"
    }
   ],
   "source": [
    "odj_bank_account.account_holdername"
   ]
  },
  {
   "cell_type": "code",
   "execution_count": 15,
   "id": "15bba124-fe7e-402c-bf82-b4a7fae56dd2",
   "metadata": {},
   "outputs": [
    {
     "data": {
      "text/plain": [
       "5000"
      ]
     },
     "execution_count": 15,
     "metadata": {},
     "output_type": "execute_result"
    }
   ],
   "source": [
    "odj_bank_account.balance"
   ]
  },
  {
   "cell_type": "code",
   "execution_count": 16,
   "id": "ddd6cdf6-760d-4ac9-9476-5cc4572a9503",
   "metadata": {},
   "outputs": [
    {
     "name": "stdout",
     "output_type": "stream",
     "text": [
      "current balance: 5000\n",
      "You are Deposited amount in bank is : 10000\n"
     ]
    }
   ],
   "source": [
    "odj_bank_account.deposit_amount(5000)"
   ]
  },
  {
   "cell_type": "code",
   "execution_count": 17,
   "id": "bd3a963e-12b6-48db-acb4-64603d64b341",
   "metadata": {},
   "outputs": [
    {
     "name": "stdout",
     "output_type": "stream",
     "text": [
      "current balance: 10000\n",
      "You are withdraw amount fro bank is : 7500\n"
     ]
    }
   ],
   "source": [
    "odj_bank_account.withdraw_amount(2500)"
   ]
  },
  {
   "cell_type": "code",
   "execution_count": 18,
   "id": "007a681c-f8a1-45f5-b7f1-bb8666263c1a",
   "metadata": {},
   "outputs": [],
   "source": [
    "'''Problem 2: Employee Management Create a class representing an employee with attributes like employee ID, name, and salary. Implement methods to calculate the yearly bonus and display employee details.'''\n",
    "\n",
    "class employee_management:\n",
    "    def __init__(self,employee_id,employee_name,employee_salary):\n",
    "        self.employee_id = employee_id\n",
    "        self.employee_name = employee_name\n",
    "        self.employee_salary = employee_salary\n",
    "        \n",
    "    def employee_details(self):\n",
    "        return self.employee_id,self.employee_name,self.employee_salary\n",
    "    \n",
    "    def salary_bonus(self):\n",
    "        yearly_bonus = self.employee_salary/2\n",
    "        print(\"Yearly bonus of employee is :\",yearly_bonus)"
   ]
  },
  {
   "cell_type": "code",
   "execution_count": 19,
   "id": "4fc226f5-f986-4ae2-8b61-0e2904714806",
   "metadata": {},
   "outputs": [],
   "source": [
    "employee = employee_management(23,\"ABCD\",30000)"
   ]
  },
  {
   "cell_type": "code",
   "execution_count": 23,
   "id": "6aa02cf1-ef37-4f33-b3f9-2365067fcc6d",
   "metadata": {},
   "outputs": [
    {
     "data": {
      "text/plain": [
       "23"
      ]
     },
     "execution_count": 23,
     "metadata": {},
     "output_type": "execute_result"
    }
   ],
   "source": [
    "employee.employee_id"
   ]
  },
  {
   "cell_type": "code",
   "execution_count": 24,
   "id": "09aa2374-4dbe-4241-b8a5-0d85598379dc",
   "metadata": {},
   "outputs": [
    {
     "data": {
      "text/plain": [
       "'ABCD'"
      ]
     },
     "execution_count": 24,
     "metadata": {},
     "output_type": "execute_result"
    }
   ],
   "source": [
    "employee.employee_name"
   ]
  },
  {
   "cell_type": "code",
   "execution_count": 25,
   "id": "8148f2d7-a30a-47ca-bd09-ee87939e4ad6",
   "metadata": {},
   "outputs": [
    {
     "data": {
      "text/plain": [
       "30000"
      ]
     },
     "execution_count": 25,
     "metadata": {},
     "output_type": "execute_result"
    }
   ],
   "source": [
    "employee.employee_salary"
   ]
  },
  {
   "cell_type": "code",
   "execution_count": 26,
   "id": "9d429a38-9efe-4592-b303-f6b1c58d65af",
   "metadata": {},
   "outputs": [
    {
     "data": {
      "text/plain": [
       "(23, 'ABCD', 30000)"
      ]
     },
     "execution_count": 26,
     "metadata": {},
     "output_type": "execute_result"
    }
   ],
   "source": [
    "employee.employee_details()"
   ]
  },
  {
   "cell_type": "code",
   "execution_count": 27,
   "id": "87c58b49-7b56-419a-9d38-c05bcf4f7a9f",
   "metadata": {},
   "outputs": [
    {
     "name": "stdout",
     "output_type": "stream",
     "text": [
      "Yearly bonus of employee is : 15000.0\n"
     ]
    }
   ],
   "source": [
    "employee.salary_bonus()"
   ]
  },
  {
   "cell_type": "code",
   "execution_count": 28,
   "id": "ab9f2d02-b6c6-47c4-8f2a-ff6903fb5627",
   "metadata": {},
   "outputs": [],
   "source": [
    "'''Problem 3: Vehicle Rental Create a class representing a vehicle rental system. Implement methods to rent a vehicle, return a vehicle, and display available vehicles.'''\n",
    "\n",
    "class rental_vehicle:\n",
    "    \n",
    "    def __init__(self,*available_vehicles):\n",
    "        self.available_vehicles = list(available_vehicles) \n",
    "        \n",
    "    def rent_vehicle(self,vehicle_name,vehicle_rent):\n",
    "        self.vehicle_name = vehicle_name\n",
    "        self.vehicle_rent = vehicle_rent\n",
    "        print(f\"You have taken {vehicle_name} on rent. rent is {vehicle_rent}\")\n",
    "        \n",
    "    def return_vehicle(self):\n",
    "        return self.vehicle_name,self.vehicle_rent\n",
    "    \n",
    "    def display_available_vehicles(self):\n",
    "        return self.available_vehicles"
   ]
  },
  {
   "cell_type": "code",
   "execution_count": 31,
   "id": "c4e205e5-01f8-449f-8f7a-5f5b4a55f1c9",
   "metadata": {},
   "outputs": [],
   "source": [
    "rent_on_Vehicle = rental_vehicle(\"Bicycle\",\"Bike\",\"Car\",\"Sport\",\"Tractor\",\"Truck\")"
   ]
  },
  {
   "cell_type": "code",
   "execution_count": 32,
   "id": "c76bca71-7661-4f9a-bdd3-cb17a21d7d31",
   "metadata": {},
   "outputs": [
    {
     "data": {
      "text/plain": [
       "['Bicycle', 'Bike', 'Car', 'Sport', 'Tractor', 'Truck']"
      ]
     },
     "execution_count": 32,
     "metadata": {},
     "output_type": "execute_result"
    }
   ],
   "source": [
    "rent_on_Vehicle.display_available_vehicles()"
   ]
  },
  {
   "cell_type": "code",
   "execution_count": 33,
   "id": "4f9cd723-dc19-4bd4-9843-8f7a926fbc9a",
   "metadata": {},
   "outputs": [
    {
     "name": "stdout",
     "output_type": "stream",
     "text": [
      "You have taken Bike on rent. rent is 700\n"
     ]
    }
   ],
   "source": [
    "rent_on_Vehicle.rent_vehicle(\"Bike\",700)"
   ]
  },
  {
   "cell_type": "code",
   "execution_count": 34,
   "id": "3395b45b-f845-4c9b-8717-9084d71131bd",
   "metadata": {},
   "outputs": [
    {
     "data": {
      "text/plain": [
       "('Bike', 700)"
      ]
     },
     "execution_count": 34,
     "metadata": {},
     "output_type": "execute_result"
    }
   ],
   "source": [
    "rent_on_Vehicle.return_vehicle()"
   ]
  },
  {
   "cell_type": "code",
   "execution_count": 20,
   "id": "90abed73-9202-45a5-a456-84f51ff414d9",
   "metadata": {},
   "outputs": [],
   "source": [
    "'''Problem 4: Library Catalog Create classes representing a library and a book. Implement methods to add books to the library, borrow books, and display available books.'''\n",
    "\n",
    "# Example 1\n",
    "\n",
    "class library :\n",
    "    \n",
    "    def display_available_book(self, *args):\n",
    "        return args\n",
    "    \n",
    "class book(library) :\n",
    "    \n",
    "    def add_book_library(self ,add_book_name):\n",
    "        print(f\"You have added {add_book_name} book in library \")\n",
    "        \n",
    "    def borrow_book_library(self ,borrow_book_name) :\n",
    "        print(f\"You have borrow {borrow_book_name} book from library\")"
   ]
  },
  {
   "cell_type": "code",
   "execution_count": 22,
   "id": "f7245f38-b39c-41c1-95ad-67536bce2360",
   "metadata": {},
   "outputs": [],
   "source": [
    "PQR = book()"
   ]
  },
  {
   "cell_type": "code",
   "execution_count": 23,
   "id": "7c4b4b74-9479-4efc-89c2-c4d18b311ac8",
   "metadata": {},
   "outputs": [
    {
     "name": "stdout",
     "output_type": "stream",
     "text": [
      "You have added C++ book in library \n"
     ]
    }
   ],
   "source": [
    "PQR.add_book_library(\"C++\")"
   ]
  },
  {
   "cell_type": "code",
   "execution_count": 24,
   "id": "578f99b8-be55-4acb-b01f-8a6394b5da7f",
   "metadata": {},
   "outputs": [
    {
     "name": "stdout",
     "output_type": "stream",
     "text": [
      "You have borrow DBA book from library\n"
     ]
    }
   ],
   "source": [
    "PQR.borrow_book_library(\"DBA\")"
   ]
  },
  {
   "cell_type": "code",
   "execution_count": 25,
   "id": "cda4946c-9b8d-4f16-a9e1-db574493a26d",
   "metadata": {},
   "outputs": [
    {
     "data": {
      "text/plain": [
       "('Python', 'DSA', 'JAVA', 'ML', 'AI')"
      ]
     },
     "execution_count": 25,
     "metadata": {},
     "output_type": "execute_result"
    }
   ],
   "source": [
    "PQR.display_available_book(\"Python\",\"DSA\",\"JAVA\",\"ML\",\"AI\")"
   ]
  },
  {
   "cell_type": "code",
   "execution_count": 26,
   "id": "44351973-a25f-406e-bb13-f0c6f3148a8d",
   "metadata": {},
   "outputs": [],
   "source": [
    "# Example 2\n",
    "\n",
    "class library_book:\n",
    "    \n",
    "    def add_book(self ,add_book_name) :\n",
    "        print(f\"You have added {add_book_name} book in library \")\n",
    "    \n",
    "    def borrow_book(self ,borrow_book_name) :\n",
    "        print(f\"You have borrow {borrow_book_name} book from library\")\n",
    "        \n",
    "    def display_available_book(self ,*args) :\n",
    "        print(f\"Availabe book in library are {args}\")"
   ]
  },
  {
   "cell_type": "code",
   "execution_count": 27,
   "id": "41909835-d8d1-4308-9f87-859dfe047462",
   "metadata": {},
   "outputs": [],
   "source": [
    "abc = library_book()"
   ]
  },
  {
   "cell_type": "code",
   "execution_count": 28,
   "id": "2eea2cc4-4d30-4d8f-a94d-279c0caaefb2",
   "metadata": {},
   "outputs": [
    {
     "name": "stdout",
     "output_type": "stream",
     "text": [
      "You have added C++ book in library \n"
     ]
    }
   ],
   "source": [
    "abc.add_book(\"C++\")"
   ]
  },
  {
   "cell_type": "code",
   "execution_count": 29,
   "id": "b688ba8f-7951-48cc-9397-345e3395fc37",
   "metadata": {},
   "outputs": [
    {
     "name": "stdout",
     "output_type": "stream",
     "text": [
      "You have borrow DBA book from library\n"
     ]
    }
   ],
   "source": [
    "abc.borrow_book(\"DBA\")"
   ]
  },
  {
   "cell_type": "code",
   "execution_count": 30,
   "id": "89fe47a5-90cd-4557-abaf-a4a2f87cf8f6",
   "metadata": {},
   "outputs": [
    {
     "name": "stdout",
     "output_type": "stream",
     "text": [
      "Availabe book in library are ('Python', 'DSA', 'JAVA', 'ML', 'AI')\n"
     ]
    }
   ],
   "source": [
    "abc.display_available_book(\"Python\",\"DSA\",\"JAVA\",\"ML\",\"AI\")"
   ]
  },
  {
   "cell_type": "code",
   "execution_count": 32,
   "id": "fdf0dc63-1d41-4ed7-8514-07b34433f8df",
   "metadata": {},
   "outputs": [],
   "source": [
    "'''Problem 5: Product Inventory Create classes representing a product and an inventory system. Implement methods to add products to the inventory, update product quantity, and display available products.'''\n",
    "\n",
    "class inventory :\n",
    "    \n",
    "    def __init__(self ,product ,product_quantity, *Available_product):\n",
    "        self.product = product\n",
    "        self.product_quantity = product_quantity\n",
    "        self.Available_product = Available_product\n",
    "\n",
    "class product(inventory):\n",
    "    \n",
    "    def add_product_inventory(self ,addProduct):\n",
    "        print(\"Product has been added to inventroty :\",self.product + addProduct)\n",
    "    \n",
    "    def update_product_quantity(self ,updateProduct):\n",
    "        print(\"Product has been updated :\",self.product_quantity + updateProduct)\n",
    "        \n",
    "    def display_available_product(self):\n",
    "        return self.Available_product"
   ]
  },
  {
   "cell_type": "code",
   "execution_count": 36,
   "id": "1f86112e-47e5-493f-ad35-d08e7d4d0ade",
   "metadata": {},
   "outputs": [],
   "source": [
    "Obj_product = product(1500,650,\"oil\",'sugar',\"Box\",\"Pot\")"
   ]
  },
  {
   "cell_type": "code",
   "execution_count": 37,
   "id": "add35010-19fe-4a18-9362-bffb0131a923",
   "metadata": {},
   "outputs": [
    {
     "data": {
      "text/plain": [
       "('oil', 'sugar', 'Box', 'Pot')"
      ]
     },
     "execution_count": 37,
     "metadata": {},
     "output_type": "execute_result"
    }
   ],
   "source": [
    "Obj_product.display_available_product()"
   ]
  },
  {
   "cell_type": "code",
   "execution_count": 38,
   "id": "8129e77b-9680-46ce-ae7f-b9b606461824",
   "metadata": {},
   "outputs": [
    {
     "name": "stdout",
     "output_type": "stream",
     "text": [
      "Product has been added to inventroty : 1505\n"
     ]
    }
   ],
   "source": [
    "Obj_product.add_product_inventory(5)"
   ]
  },
  {
   "cell_type": "code",
   "execution_count": 39,
   "id": "2a0c21bf-f5f5-4036-afc6-70952ff3a9ff",
   "metadata": {},
   "outputs": [
    {
     "name": "stdout",
     "output_type": "stream",
     "text": [
      "Product has been updated : 1000\n"
     ]
    }
   ],
   "source": [
    "Obj_product.update_product_quantity(350)"
   ]
  },
  {
   "cell_type": "code",
   "execution_count": 57,
   "id": "a02caeae-412f-46e8-bce5-a79fb38711c0",
   "metadata": {},
   "outputs": [],
   "source": [
    "'''Problem 6: Shape Calculation Create a class representing a shape with attributes like length, width, and height. Implement methods to calculate the area and perimeter of the shape.'''\n",
    "\n",
    "class shape_calculation:\n",
    "    \n",
    "    def __init__(self ,length ,width, height):\n",
    "        self.length = length \n",
    "        self.width = width\n",
    "        self.height = height\n",
    "        \n",
    "    def calculate_area(self):\n",
    "        return 1/2 * self.length * self.width *self.height\n",
    "        \n",
    "    def calculate_perimeter(self,side1,side2,side3):\n",
    "        return side1 + side2 + side3"
   ]
  },
  {
   "cell_type": "code",
   "execution_count": 58,
   "id": "8fe4854a-747c-4666-9b90-4c798f9edd1e",
   "metadata": {},
   "outputs": [],
   "source": [
    "Triangle = shape_calculation(10,4,20)"
   ]
  },
  {
   "cell_type": "code",
   "execution_count": 59,
   "id": "b5d579aa-4063-421f-bf46-213002b5ad76",
   "metadata": {},
   "outputs": [
    {
     "data": {
      "text/plain": [
       "10"
      ]
     },
     "execution_count": 59,
     "metadata": {},
     "output_type": "execute_result"
    }
   ],
   "source": [
    "Triangle.length"
   ]
  },
  {
   "cell_type": "code",
   "execution_count": 60,
   "id": "f1da074c-6a8e-4939-9b0a-1a8f4712899b",
   "metadata": {},
   "outputs": [
    {
     "data": {
      "text/plain": [
       "4"
      ]
     },
     "execution_count": 60,
     "metadata": {},
     "output_type": "execute_result"
    }
   ],
   "source": [
    "Triangle.width"
   ]
  },
  {
   "cell_type": "code",
   "execution_count": 61,
   "id": "d4ac0707-5352-4a19-8181-48e8521c824b",
   "metadata": {},
   "outputs": [
    {
     "data": {
      "text/plain": [
       "20"
      ]
     },
     "execution_count": 61,
     "metadata": {},
     "output_type": "execute_result"
    }
   ],
   "source": [
    "Triangle.height"
   ]
  },
  {
   "cell_type": "code",
   "execution_count": 62,
   "id": "b4e8b3e6-25ac-45bf-b071-cb186bc84c0e",
   "metadata": {},
   "outputs": [
    {
     "data": {
      "text/plain": [
       "400.0"
      ]
     },
     "execution_count": 62,
     "metadata": {},
     "output_type": "execute_result"
    }
   ],
   "source": [
    "Triangle.calculate_area()"
   ]
  },
  {
   "cell_type": "code",
   "execution_count": 64,
   "id": "e55a4dc2-fbbe-46a4-8f03-37f4dee4b2db",
   "metadata": {},
   "outputs": [
    {
     "data": {
      "text/plain": [
       "15"
      ]
     },
     "execution_count": 64,
     "metadata": {},
     "output_type": "execute_result"
    }
   ],
   "source": [
    "Triangle.calculate_perimeter(4,5,6)"
   ]
  },
  {
   "cell_type": "code",
   "execution_count": 66,
   "id": "dc4b11f5-4365-4dac-b246-ea093dbeded2",
   "metadata": {},
   "outputs": [],
   "source": [
    "'''Problem 7: Student Management Create a class representing a student with attributes like student ID, name, and grades. Implement methods to calculate the average grade and display student details.'''\n",
    "\n",
    "class student :\n",
    "    \n",
    "    def __init__(self ,studentID ,name ,grade):\n",
    "        self.studentID = studentID\n",
    "        self.name = name\n",
    "        self.grade = grade\n",
    "        \n",
    "    def cal_avg_grade(self):\n",
    "        avg = self.grade / 2\n",
    "        return avg\n",
    "\n",
    "    def display_student(self):\n",
    "        return self.studentID , self.name ,self.grade"
   ]
  },
  {
   "cell_type": "code",
   "execution_count": 72,
   "id": "4af40f77-8d55-40a3-9523-8ccd680e9176",
   "metadata": {},
   "outputs": [],
   "source": [
    "student1 = student(1,\"abcd\",6)"
   ]
  },
  {
   "cell_type": "code",
   "execution_count": 73,
   "id": "ffba1996-58f1-4c5a-b5cf-0c1a532569f1",
   "metadata": {},
   "outputs": [
    {
     "data": {
      "text/plain": [
       "3.0"
      ]
     },
     "execution_count": 73,
     "metadata": {},
     "output_type": "execute_result"
    }
   ],
   "source": [
    "student1.cal_avg_grade()"
   ]
  },
  {
   "cell_type": "code",
   "execution_count": 74,
   "id": "6796130f-4de0-4b46-b2a4-75b88ae8eb74",
   "metadata": {},
   "outputs": [
    {
     "data": {
      "text/plain": [
       "(1, 'abcd', 6)"
      ]
     },
     "execution_count": 74,
     "metadata": {},
     "output_type": "execute_result"
    }
   ],
   "source": [
    "student1.display_student()"
   ]
  },
  {
   "cell_type": "code",
   "execution_count": 75,
   "id": "b47d9069-fd30-4b12-acf9-a3b4455f9e8e",
   "metadata": {},
   "outputs": [
    {
     "data": {
      "text/plain": [
       "6"
      ]
     },
     "execution_count": 75,
     "metadata": {},
     "output_type": "execute_result"
    }
   ],
   "source": [
    "student1.grade"
   ]
  },
  {
   "cell_type": "code",
   "execution_count": 76,
   "id": "4d464179-c6b5-4bff-ab4f-87490e962994",
   "metadata": {},
   "outputs": [
    {
     "data": {
      "text/plain": [
       "'abcd'"
      ]
     },
     "execution_count": 76,
     "metadata": {},
     "output_type": "execute_result"
    }
   ],
   "source": [
    "student1.name"
   ]
  },
  {
   "cell_type": "code",
   "execution_count": 104,
   "id": "64cec73c-4e8a-4b5f-8b5e-bcc912e5f66c",
   "metadata": {},
   "outputs": [],
   "source": [
    "'''Problem 8: Email Management Create a class representing an email with attributes like sender, recipient, and subject. Implement methods to send an email and display email details.'''\n",
    "\n",
    "class email_management:\n",
    "    \n",
    "    def __init__(self, sender ,recipient ,subject):\n",
    "        self.sender = sender\n",
    "        self.recipient = recipient\n",
    "        self.subject = subject\n",
    "        \n",
    "    def send_email(self,Sent_mail):\n",
    "        if Sent_mail == \"yes\" or \"YES\" or \"Yes\":\n",
    "            print(\"your email has been successfully sent\")\n",
    "        else:\n",
    "            print(\"your have discarded sending email\")\n",
    "        \n",
    "    def display_email_details(self):\n",
    "        return self.sender ,self.recipient ,self.subject"
   ]
  },
  {
   "cell_type": "code",
   "execution_count": 105,
   "id": "61ab3e1b-0c47-4db8-9f34-86cbd54e8625",
   "metadata": {},
   "outputs": [],
   "source": [
    "email1 = email_management(\"abcd@gmail.com\",\"pqr@gmail.com\",\"Dear sir, I am student of full stack data science pro batch.\")"
   ]
  },
  {
   "cell_type": "code",
   "execution_count": 106,
   "id": "c57094dc-22f7-4c5f-b007-e77f1dc67a32",
   "metadata": {},
   "outputs": [
    {
     "data": {
      "text/plain": [
       "'abcd@gmail.com'"
      ]
     },
     "execution_count": 106,
     "metadata": {},
     "output_type": "execute_result"
    }
   ],
   "source": [
    "email1.sender"
   ]
  },
  {
   "cell_type": "code",
   "execution_count": 107,
   "id": "bcbac8a6-cdbe-4753-ba35-e74c5c3855fe",
   "metadata": {},
   "outputs": [
    {
     "data": {
      "text/plain": [
       "'pqr@gmail.com'"
      ]
     },
     "execution_count": 107,
     "metadata": {},
     "output_type": "execute_result"
    }
   ],
   "source": [
    "email1.recipient"
   ]
  },
  {
   "cell_type": "code",
   "execution_count": 108,
   "id": "cd3c4667-ce75-43f4-b253-301abf511cf7",
   "metadata": {},
   "outputs": [
    {
     "data": {
      "text/plain": [
       "'Dear sir, I am student of full stack data science pro batch.'"
      ]
     },
     "execution_count": 108,
     "metadata": {},
     "output_type": "execute_result"
    }
   ],
   "source": [
    "email1.subject"
   ]
  },
  {
   "cell_type": "code",
   "execution_count": 109,
   "id": "3f2df983-8bcd-4433-b2a6-e0cfc8d29f10",
   "metadata": {},
   "outputs": [
    {
     "name": "stdout",
     "output_type": "stream",
     "text": [
      "your email has been successfully sent\n"
     ]
    }
   ],
   "source": [
    "email1.send_email(\"abcd\")"
   ]
  },
  {
   "cell_type": "code",
   "execution_count": 110,
   "id": "0f5f6534-f7f9-4b44-b272-5bb3e0c6c089",
   "metadata": {},
   "outputs": [],
   "source": [
    "'''Problem 9: Social Media Profile Create a class representing a social media profile with attributes like username and posts. Implement methods to add posts, display posts, and search for posts by keyword.'''\n",
    "\n",
    "class social_media_profile:\n",
    "    \n",
    "    def __init__(self ,username ,post):\n",
    "        self.username = username\n",
    "        self.post = post\n",
    "        \n",
    "    def addPost(self, add_post):\n",
    "        print(\"your post has been sent on timeline :\",add_post)\n",
    "        \n",
    "    def searchPost(self, search_post):\n",
    "        print(\"you are serching post on timeline :\",search_post)"
   ]
  },
  {
   "cell_type": "code",
   "execution_count": 111,
   "id": "678a098c-fbfc-4cef-9921-8b31948ee04e",
   "metadata": {},
   "outputs": [],
   "source": [
    "profile1 = social_media_profile(\"abcd123\" ,\"add your post\")"
   ]
  },
  {
   "cell_type": "code",
   "execution_count": 112,
   "id": "10d8190c-8189-4982-a7cf-51a07a20fc54",
   "metadata": {},
   "outputs": [
    {
     "data": {
      "text/plain": [
       "'abcd123'"
      ]
     },
     "execution_count": 112,
     "metadata": {},
     "output_type": "execute_result"
    }
   ],
   "source": [
    "profile1.username"
   ]
  },
  {
   "cell_type": "code",
   "execution_count": 113,
   "id": "2cb3294c-2166-4746-81bb-5cf6efacbef4",
   "metadata": {},
   "outputs": [
    {
     "data": {
      "text/plain": [
       "'add your post'"
      ]
     },
     "execution_count": 113,
     "metadata": {},
     "output_type": "execute_result"
    }
   ],
   "source": [
    "profile1.post"
   ]
  },
  {
   "cell_type": "code",
   "execution_count": 114,
   "id": "21b2a9f3-be21-4f21-beda-637688ac14b8",
   "metadata": {},
   "outputs": [
    {
     "name": "stdout",
     "output_type": "stream",
     "text": [
      "your post has been sent on timeline : Your post is good.\n"
     ]
    }
   ],
   "source": [
    "profile1.addPost(\"Your post is good.\")"
   ]
  },
  {
   "cell_type": "code",
   "execution_count": 115,
   "id": "9fb460e7-b5a9-4b16-859a-15899f252e19",
   "metadata": {},
   "outputs": [
    {
     "name": "stdout",
     "output_type": "stream",
     "text": [
      "you are serching post on timeline : Your post is good.\n"
     ]
    }
   ],
   "source": [
    "profile1.searchPost(\"Your post is good.\")"
   ]
  },
  {
   "cell_type": "code",
   "execution_count": 130,
   "id": "de87a638-02a0-48e3-8932-662e6eeea874",
   "metadata": {},
   "outputs": [],
   "source": [
    "'''Problem 10: ToDo List Create a class representing a ToDo list with attributes like tasks and due dates. Implement methods to add tasks, mark tasks as completed, and display pending tasks.'''\n",
    "\n",
    "class Todo_List:\n",
    "    \n",
    "    def __init__(self,tasks,Due_dates):\n",
    "        self.tasks = tasks \n",
    "        self.Due_dates = Due_dates\n",
    "        \n",
    "    def addTasks(self,add_task):\n",
    "        print(\"You have added task :\",add_task)\n",
    "        \n",
    "    def mark_as_completed(self):\n",
    "        mark_Completed = input(\"Enter the user entry as mark completed :\")\n",
    "        if mark_Completed == \"Yes\":\n",
    "            print(\"Your task is completed\")\n",
    "        else:\n",
    "            print(\"Your task is not Completed\")\n",
    "        \n",
    "    def display_pending_task(self ,pending_task):\n",
    "        print(\"show pending task :\",pending_task)"
   ]
  },
  {
   "cell_type": "code",
   "execution_count": 131,
   "id": "0f221e7a-6761-4d6a-a87a-f1e796f73e64",
   "metadata": {},
   "outputs": [],
   "source": [
    "list1 =Todo_List(\"Oops concept practice\",'30-10-2023')"
   ]
  },
  {
   "cell_type": "code",
   "execution_count": 132,
   "id": "fff40fce-834c-4bf0-9a09-53d00daaaecd",
   "metadata": {},
   "outputs": [
    {
     "name": "stdout",
     "output_type": "stream",
     "text": [
      "You have added task : DSA practice\n"
     ]
    }
   ],
   "source": [
    "list1.addTasks(\"DSA practice\")"
   ]
  },
  {
   "cell_type": "code",
   "execution_count": 133,
   "id": "6dbf0daf-c684-4b88-bee9-d4f0c72a6d9c",
   "metadata": {},
   "outputs": [
    {
     "name": "stdin",
     "output_type": "stream",
     "text": [
      "Enter the user entry as mark completed : Yes\n"
     ]
    },
    {
     "name": "stdout",
     "output_type": "stream",
     "text": [
      "Your task is completed\n"
     ]
    }
   ],
   "source": [
    "list1.mark_as_completed()"
   ]
  },
  {
   "cell_type": "code",
   "execution_count": 134,
   "id": "31d77964-cccd-4709-9cc9-adc73ac4787e",
   "metadata": {},
   "outputs": [
    {
     "name": "stdout",
     "output_type": "stream",
     "text": [
      "show pending task : DSA practice\n"
     ]
    }
   ],
   "source": [
    "list1.display_pending_task(\"DSA practice\")"
   ]
  },
  {
   "cell_type": "code",
   "execution_count": null,
   "id": "0e4e7486-4151-4c9e-9b0f-7ab387f36416",
   "metadata": {},
   "outputs": [],
   "source": []
  }
 ],
 "metadata": {
  "kernelspec": {
   "display_name": "Python 3 (ipykernel)",
   "language": "python",
   "name": "python3"
  },
  "language_info": {
   "codemirror_mode": {
    "name": "ipython",
    "version": 3
   },
   "file_extension": ".py",
   "mimetype": "text/x-python",
   "name": "python",
   "nbconvert_exporter": "python",
   "pygments_lexer": "ipython3",
   "version": "3.10.8"
  }
 },
 "nbformat": 4,
 "nbformat_minor": 5
}
