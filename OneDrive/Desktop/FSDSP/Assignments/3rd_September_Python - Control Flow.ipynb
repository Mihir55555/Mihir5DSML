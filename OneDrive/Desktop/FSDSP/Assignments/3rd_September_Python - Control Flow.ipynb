{
 "cells": [
  {
   "cell_type": "code",
   "execution_count": null,
   "id": "b7a60064-da7d-47dc-b005-2cc1780395f7",
   "metadata": {},
   "outputs": [],
   "source": [
    "#Basic If-Else Statements:"
   ]
  },
  {
   "cell_type": "code",
   "execution_count": 1,
   "id": "eb432115-f487-4d1d-8d12-56b200c845f7",
   "metadata": {},
   "outputs": [
    {
     "name": "stdin",
     "output_type": "stream",
     "text": [
      "Enter n1 23\n",
      "Enter n2 0\n",
      "Enter n3 -12\n"
     ]
    },
    {
     "name": "stdout",
     "output_type": "stream",
     "text": [
      "23 is positive number\n",
      "0 It is zero\n",
      "-12 is negative number\n"
     ]
    }
   ],
   "source": [
    "'''1. Write a Python program to check if a given number is positive or negative.'''\n",
    "\n",
    "def check_num(n):\n",
    "    if n > 0:\n",
    "        print(n,\"is positive number\")\n",
    "    elif n == 0:\n",
    "        print(n,\"It is zero\")\n",
    "    else:\n",
    "        print(n,\"is negative number\")\n",
    "\n",
    "n1 = int(input(\"Enter n1\"))\n",
    "n2 = int(input(\"Enter n2\"))\n",
    "n3 = int(input(\"Enter n3\"))\n",
    "\n",
    "result1 = check_num(n1)\n",
    "result2 = check_num(n2)\n",
    "result3 = check_num(n3)\n"
   ]
  },
  {
   "cell_type": "code",
   "execution_count": 3,
   "id": "e217834f-fd62-4243-8f41-fbde2c03e07a",
   "metadata": {},
   "outputs": [
    {
     "name": "stdin",
     "output_type": "stream",
     "text": [
      "enter age:  15\n"
     ]
    },
    {
     "name": "stdout",
     "output_type": "stream",
     "text": [
      "person is not eligible to vote\n"
     ]
    }
   ],
   "source": [
    "'''2. Create a program that determines if a person is eligible to vote based on their age.'''\n",
    "\n",
    "age = int(input(\"enter age: \"))\n",
    "if age >= 18:\n",
    "    print(\"person is eligible to vote\")\n",
    "else:\n",
    "    print(\"person is not eligible to vote\")"
   ]
  },
  {
   "cell_type": "code",
   "execution_count": 4,
   "id": "4d2f659e-ce4b-478f-9086-a0653ced650a",
   "metadata": {},
   "outputs": [
    {
     "name": "stdin",
     "output_type": "stream",
     "text": [
      "Enter n1 23\n",
      "Enter n2 12\n"
     ]
    },
    {
     "name": "stdout",
     "output_type": "stream",
     "text": [
      "Largest number is 23\n"
     ]
    }
   ],
   "source": [
    "'''3. Develop a program to find the maximum of two numbers using if-else statements.'''\n",
    "\n",
    "n1 = int(input(\"Enter n1\"))\n",
    "n2 = int(input(\"Enter n2\"))\n",
    "\n",
    "if (n1 > n2):\n",
    "    largest = n1\n",
    "else:\n",
    "    largest = n2\n",
    "\n",
    "print(\"Largest number is\",largest)"
   ]
  },
  {
   "cell_type": "code",
   "execution_count": 5,
   "id": "a44bac55-0bb9-453e-aaa2-f3fa5fb1092c",
   "metadata": {},
   "outputs": [
    {
     "name": "stdin",
     "output_type": "stream",
     "text": [
      "Enter a year: 2010\n",
      "Enter a year: 2020\n"
     ]
    },
    {
     "name": "stdout",
     "output_type": "stream",
     "text": [
      "2010 is not a leap year\n",
      "2020 is a leap year\n"
     ]
    }
   ],
   "source": [
    "'''4. Write a Python script to classify a given year as a leap year or not.'''\n",
    "\n",
    "def leap_year(year):\n",
    "    if (year % 400 == 0) or (year % 4 == 0 and year % 100 != 0):\n",
    "        print(year,\"is a leap year\")\n",
    "    else:\n",
    "        print(year,\"is not a leap year\")\n",
    "    \n",
    "year1 = int(input(\"Enter a year:\"))\n",
    "year2 = int(input(\"Enter a year:\"))\n",
    "\n",
    "result1 = leap_year(year1)\n",
    "result2 = leap_year(year2)"
   ]
  },
  {
   "cell_type": "code",
   "execution_count": 6,
   "id": "ccee0ce4-2af9-45ef-b723-43b4c3816d38",
   "metadata": {},
   "outputs": [
    {
     "name": "stdin",
     "output_type": "stream",
     "text": [
      "enter character:  A\n"
     ]
    },
    {
     "name": "stdout",
     "output_type": "stream",
     "text": [
      "A character is a vowel\n"
     ]
    }
   ],
   "source": [
    "'''5. Create a program that checks whether a character is a vowel or a consonant.'''\n",
    "\n",
    "v = ['a', 'e', 'i', 'o', 'u', 'A' , 'E', 'I', 'O', 'U']\n",
    "\n",
    "C = input(\"enter character: \")\n",
    "if C in v:\n",
    "    print(C,\"character is a vowel\")\n",
    "else:\n",
    "    print(C,\"character is a consonant\")"
   ]
  },
  {
   "cell_type": "code",
   "execution_count": 7,
   "id": "85fec3c9-f7bd-445d-8d48-64eb8c631f25",
   "metadata": {},
   "outputs": [
    {
     "name": "stdin",
     "output_type": "stream",
     "text": [
      "Enter n1 23\n",
      "Enter n2 222\n"
     ]
    },
    {
     "name": "stdout",
     "output_type": "stream",
     "text": [
      "23 is odd number\n",
      "222 is even number\n"
     ]
    }
   ],
   "source": [
    "'''6. Implement a program to determine whether a given number is even or odd.'''\n",
    "\n",
    "def check_num(n):\n",
    "    if n % 2 == 0:\n",
    "        print(n,\"is even number\")\n",
    "    else:\n",
    "        print(n,\"is odd number\")\n",
    "        \n",
    "n1 = int(input(\"Enter n1\"))\n",
    "n2 = int(input(\"Enter n2\"))\n",
    "\n",
    "\n",
    "result1 = check_num(n1)\n",
    "result2 = check_num(n2)"
   ]
  },
  {
   "cell_type": "code",
   "execution_count": 13,
   "id": "1d5660f2-b4a1-413f-9bbe-f191d46b2666",
   "metadata": {},
   "outputs": [
    {
     "name": "stdin",
     "output_type": "stream",
     "text": [
      "Enter number -12\n",
      "Enter number 12\n"
     ]
    },
    {
     "name": "stdout",
     "output_type": "stream",
     "text": [
      "absolute value of number -12.0 is 12.0\n",
      "absolute value of number 12.0 is 12.0\n"
     ]
    }
   ],
   "source": [
    "'''7. Write a Python function to calculate the absolute value of a number without using the `abs()` function.'''\n",
    "\n",
    "def absolute_value(n):\n",
    "    if ( n < 0 ):\n",
    "        print(\"absolute value of number\", n ,\"is\",-(n))\n",
    "    else:\n",
    "        print(\"absolute value of number\",n,\"is\",n)\n",
    "    \n",
    "n1 = float(input(\"Enter number\"))\n",
    "n2 = float(input(\"Enter number\"))\n",
    "\n",
    "result1 = absolute_value(n1)\n",
    "result2 = absolute_value(n2)"
   ]
  },
  {
   "cell_type": "code",
   "execution_count": 14,
   "id": "5eb743d2-feb4-4a80-bab4-df38f431524b",
   "metadata": {},
   "outputs": [
    {
     "name": "stdin",
     "output_type": "stream",
     "text": [
      "Enter n1 25\n",
      "Enter n2 58\n",
      "Enter n3 3\n"
     ]
    },
    {
     "name": "stdout",
     "output_type": "stream",
     "text": [
      "Largest number is 58\n"
     ]
    }
   ],
   "source": [
    "'''8. Develop a program that determines the largest of three given numbers using if-else statements.'''\n",
    "\n",
    "n1 = int(input(\"Enter n1\"))\n",
    "n2 = int(input(\"Enter n2\"))\n",
    "n3 = int(input(\"Enter n3\"))\n",
    "\n",
    "if (n1 > n2) and (n1 > n3):\n",
    "    largest = n1\n",
    "elif (n2 > n1) & (n2 > n3):\n",
    "    largest = n2\n",
    "else:\n",
    "    largest = n3\n",
    "\n",
    "print(\"Largest number is\",largest)"
   ]
  },
  {
   "cell_type": "code",
   "execution_count": 11,
   "id": "7499a229-ebfc-42de-995f-2262057a3618",
   "metadata": {},
   "outputs": [
    {
     "name": "stdin",
     "output_type": "stream",
     "text": [
      "Enter String :  ABCCBA\n"
     ]
    },
    {
     "name": "stdout",
     "output_type": "stream",
     "text": [
      "Reverse Order :   ABCCBA\n",
      "This is a Palindrome String\n"
     ]
    }
   ],
   "source": [
    "'''9. Create a program that checks if a given string is a palindrome.'''\n",
    "\n",
    "L1 = input(\"Enter String : \")\n",
    "str1 = \"\"\n",
    "\n",
    "for i in L1:\n",
    "    str1 = i + str1  \n",
    "print(\"Reverse Order :  \", str1)\n",
    "\n",
    "if(L1 == str1):\n",
    "    print(\"This is a Palindrome String\")\n",
    "else:\n",
    "    print(\"This is not Palindrome String\")"
   ]
  },
  {
   "cell_type": "code",
   "execution_count": 17,
   "id": "0abd05a2-28c6-401e-b1a2-0c5698c454bc",
   "metadata": {},
   "outputs": [
    {
     "name": "stdout",
     "output_type": "stream",
     "text": [
      "Enter Marks Obtained in 3 Subjects: \n"
     ]
    },
    {
     "name": "stdin",
     "output_type": "stream",
     "text": [
      " 99\n",
      " 95\n",
      " 82\n"
     ]
    },
    {
     "name": "stdout",
     "output_type": "stream",
     "text": [
      "Average marks is: 92.0\n",
      "Your Grade is A1\n"
     ]
    }
   ],
   "source": [
    "'''10. Write a Python program to calculate the grade based on a student's score.'''\n",
    "\n",
    "print(\"Enter Marks Obtained in 3 Subjects: \")\n",
    "mark1 = int(input())\n",
    "mark2 = int(input())\n",
    "mark3 = int(input())\n",
    "\n",
    "tot = mark1+mark2+mark3\n",
    "avg = tot/3\n",
    "print(\"Average marks is:\",avg)\n",
    "\n",
    "if avg>=91 and avg<=100:\n",
    "    print(\"Your Grade is A1\")\n",
    "elif avg>=81 and avg<91:\n",
    "    print(\"Your Grade is A2\")\n",
    "elif avg>=71 and avg<81:\n",
    "    print(\"Your Grade is B1\")\n",
    "elif avg>=61 and avg<71:\n",
    "    print(\"Your Grade is B2\")\n",
    "elif avg>=51 and avg<61:\n",
    "    print(\"Your Grade is C1\")\n",
    "elif avg>=41 and avg<51:\n",
    "    print(\"Your Grade is C2\")\n",
    "elif avg>=33 and avg<41:\n",
    "    print(\"Your Grade is D\")\n",
    "elif avg>=21 and avg<33:\n",
    "    print(\"Your Grade is E1\")\n",
    "elif avg>=0 and avg<21:\n",
    "    print(\"Your Grade is E2\")\n",
    "else:\n",
    "    print(\"Invalid Input!\")"
   ]
  },
  {
   "cell_type": "code",
   "execution_count": null,
   "id": "c9ca18d2-a229-4b44-83c7-51667c8fc911",
   "metadata": {},
   "outputs": [],
   "source": [
    "#Nested If-Else Statements:"
   ]
  },
  {
   "cell_type": "code",
   "execution_count": 19,
   "id": "c8b5eef8-b7ef-45a9-8133-7ad0642ddd93",
   "metadata": {},
   "outputs": [
    {
     "name": "stdin",
     "output_type": "stream",
     "text": [
      "Enter n1 23\n",
      "Enter n2 36\n",
      "Enter n3 52\n"
     ]
    },
    {
     "name": "stdout",
     "output_type": "stream",
     "text": [
      "Largest number is 52\n"
     ]
    }
   ],
   "source": [
    "'''11. Write a program to find the largest among three numbers using nested if-else statements.'''\n",
    "\n",
    "n1 = int(input(\"Enter n1\"))\n",
    "n2 = int(input(\"Enter n2\"))\n",
    "n3 = int(input(\"Enter n3\"))\n",
    "\n",
    "if n1 > n2:\n",
    "    if n2 > n3:\n",
    "        largest = n1\n",
    "    else:\n",
    "        if n3 > n1:\n",
    "            largest = n3\n",
    "        else:\n",
    "            largest = n1\n",
    "else:\n",
    "    if n2 > n3:\n",
    "        largest = n2\n",
    "    else:\n",
    "        largest = n3\n",
    "        \n",
    "print(\"Largest number is\",largest)"
   ]
  },
  {
   "cell_type": "code",
   "execution_count": 6,
   "id": "62e7366b-6c57-4cfd-b4a5-57aaadfccce5",
   "metadata": {},
   "outputs": [
    {
     "name": "stdout",
     "output_type": "stream",
     "text": [
      "Input lengths of the triangle sides: \n"
     ]
    },
    {
     "name": "stdin",
     "output_type": "stream",
     "text": [
      "x:  2\n",
      "y:  2\n",
      "z:  5\n"
     ]
    },
    {
     "name": "stdout",
     "output_type": "stream",
     "text": [
      "Isosceles triangle\n"
     ]
    }
   ],
   "source": [
    "'''12. Implement a program to determine if a triangle is equilateral, isosceles, or scalene.'''\n",
    "\n",
    "print(\"Input lengths of the triangle sides: \")\n",
    "x = int(input(\"x: \"))\n",
    "y = int(input(\"y: \"))\n",
    "z = int(input(\"z: \"))\n",
    "\n",
    "if x==y or y==z or z==x:\n",
    "    if x == y == z:\n",
    "\t    print(\"Equilateral triangle\")\n",
    "    else:\n",
    "        print(\"Isosceles triangle\")   \n",
    "else:\n",
    "\tprint(\"Scalene triangle\")"
   ]
  },
  {
   "cell_type": "code",
   "execution_count": 7,
   "id": "3c47c73f-928c-4f1f-b5a0-97a0cf7d91ce",
   "metadata": {},
   "outputs": [
    {
     "name": "stdin",
     "output_type": "stream",
     "text": [
      "Enter a year: 2004\n",
      "Enter a year: 2000\n",
      "Enter a year: 2003\n"
     ]
    },
    {
     "name": "stdout",
     "output_type": "stream",
     "text": [
      "2004 is only leap year\n",
      "2000 is a century leap year\n",
      "2003 is not a leap year\n"
     ]
    }
   ],
   "source": [
    "'''13. Develop a program that checks if a year is a leap year and also if it is a century year.'''\n",
    "\n",
    "def leap_year(year):\n",
    "    if (year % 400 == 0) or (year % 4 == 0 and year % 100 != 0):\n",
    "        if (year % 100 == 0):\n",
    "            print(year,\"is a century leap year\")\n",
    "        else:\n",
    "            print(year,\"is only leap year\")\n",
    "    else:\n",
    "        print(year,\"is not a leap year\")\n",
    "        \n",
    "year1 = int(input(\"Enter a year:\"))\n",
    "year2 = int(input(\"Enter a year:\"))\n",
    "year3 = int(input(\"Enter a year:\"))\n",
    "\n",
    "result1 = leap_year(year1)\n",
    "result2 = leap_year(year2)\n",
    "result3 = leap_year(year3)"
   ]
  },
  {
   "cell_type": "code",
   "execution_count": 1,
   "id": "0a91af96-1c9f-4375-b4d0-f3fe93a5ca6d",
   "metadata": {},
   "outputs": [
    {
     "name": "stdin",
     "output_type": "stream",
     "text": [
      "Enter n1 23\n",
      "Enter n2 12\n",
      "Enter n3 6\n"
     ]
    },
    {
     "name": "stdout",
     "output_type": "stream",
     "text": [
      "Largest number is 23\n"
     ]
    }
   ],
   "source": [
    "'''14. Write a Python script to determine if a number is positive, negative, or zero.'''\n",
    "\n",
    "n1 = int(input(\"Enter n1\"))\n",
    "n2 = int(input(\"Enter n2\"))\n",
    "n3 = int(input(\"Enter n3\"))\n",
    "\n",
    "if n1 > n2:\n",
    "    if n2 > n3:\n",
    "        largest = n1\n",
    "    else:\n",
    "        if n3 > n1:\n",
    "            largest = n3\n",
    "        else:\n",
    "            largest = n1\n",
    "else:\n",
    "    if n2 > n3:\n",
    "        largest = n2\n",
    "    else:\n",
    "        largest = n3\n",
    "        \n",
    "print(\"Largest number is\",largest)"
   ]
  },
  {
   "cell_type": "code",
   "execution_count": 2,
   "id": "a78f86ea-1db7-4f8f-ada1-a4e754d17ade",
   "metadata": {},
   "outputs": [
    {
     "name": "stdin",
     "output_type": "stream",
     "text": [
      "enter age:  15\n"
     ]
    },
    {
     "name": "stdout",
     "output_type": "stream",
     "text": [
      "person is teenager\n"
     ]
    }
   ],
   "source": [
    "'''15. Create a program to check if a person is a teenager (between 13 and 19 years old).'''\n",
    "\n",
    "age = int(input(\"enter age: \"))\n",
    "if age >= 13:\n",
    "    if age <= 19:\n",
    "        print(\"person is teenager\")\n",
    "    else:\n",
    "        print(\"person is not teenager\")\n",
    "else:\n",
    "    print(\"person age is grater than 19\")"
   ]
  },
  {
   "cell_type": "code",
   "execution_count": 5,
   "id": "e6071bd5-64ee-46f3-9d05-97a9d322176e",
   "metadata": {},
   "outputs": [
    {
     "name": "stdin",
     "output_type": "stream",
     "text": [
      "Enter the angle measure in degrees:  75\n"
     ]
    },
    {
     "name": "stdout",
     "output_type": "stream",
     "text": [
      "The angle with measure 75.0 degrees is a Acute angle.\n"
     ]
    }
   ],
   "source": [
    "'''16. Develop a program that determines the type of angle based on its measure (acute, obtuse, or right).'''\n",
    "\n",
    "angle_measure = float(input(\"Enter the angle measure in degrees: \"))\n",
    "\n",
    "if angle_measure <= 90:\n",
    "    if angle_measure == 90:\n",
    "        angle_type = \"Right\"\n",
    "    else:\n",
    "        angle_type = \"Acute\"\n",
    "else:\n",
    "    angle_type = \"Obtuse\"\n",
    "\n",
    "print(f\"The angle with measure {angle_measure} degrees is a {angle_type} angle.\")"
   ]
  },
  {
   "cell_type": "code",
   "execution_count": 7,
   "id": "a56a1204-8aa8-44ff-9fb9-0c27d04bf366",
   "metadata": {},
   "outputs": [
    {
     "name": "stdin",
     "output_type": "stream",
     "text": [
      "enter value of a 1\n",
      "enter value of b 2\n",
      "enter value of c 2\n"
     ]
    },
    {
     "name": "stdout",
     "output_type": "stream",
     "text": [
      "Roots are complex\n",
      "-1.0  + i 1.0\n",
      "-1.0  - i 1.0\n",
      "None\n"
     ]
    }
   ],
   "source": [
    "'''17. Write a Python program to calculate the roots of a quadratic equation.'''\n",
    "\n",
    "import math\n",
    "\n",
    "def findRoots(a, b, c):\n",
    "    if a == 0:\n",
    "        print(\"Invalid\")\n",
    "        return -1\n",
    "    d = b * b - 4 * a * c\n",
    "    sqrt_val = math.sqrt(abs(d))\n",
    "    if d >= 0:\n",
    "        if d == 0:\n",
    "            print(\"Roots are real and same\")\n",
    "            print(-b / (2*a))\n",
    "        else:\n",
    "            print(\"Roots are real and different \")\n",
    "            print((-b + sqrt_val)/(2 * a))\n",
    "            print((-b - sqrt_val)/(2 * a))\n",
    "    else:  \n",
    "        print(\"Roots are complex\")\n",
    "        print(- b / (2*a), \" + i\", sqrt_val / (2 * a))\n",
    "        print(- b / (2*a), \" - i\", sqrt_val / (2 * a))\n",
    "    \n",
    "a = int(input(\"enter value of a\")) \n",
    "b = int(input(\"enter value of b\"))\n",
    "c = int(input(\"enter value of c\")) \n",
    "\n",
    "result = findRoots(a, b, c)\n",
    "print(result)"
   ]
  },
  {
   "cell_type": "code",
   "execution_count": null,
   "id": "e486950d-29eb-40dc-a2de-300e2e0cfc16",
   "metadata": {},
   "outputs": [
    {
     "name": "stdin",
     "output_type": "stream",
     "text": [
      "Enter a number from 1 to 7:  5\n"
     ]
    },
    {
     "name": "stdout",
     "output_type": "stream",
     "text": [
      "5 is Thursday\n"
     ]
    }
   ],
   "source": [
    "'''18. Implement a program to determine the day of the week based on a user-provided number (1 for Monday, 2\n",
    "for Tuesday, etc.).'''\n",
    "\n",
    "day = int(input(\"Enter a number from 1 to 7: \"))\n",
    "\n",
    "if day <= 7:\n",
    "    if day <= 6:\n",
    "        if day <= 5:\n",
    "            if day <= 4:\n",
    "                if day <= 3:\n",
    "                    if day <= 2:\n",
    "                        if day == 1:\n",
    "                            print(day, \"is Sunday\")\n",
    "                        else:\n",
    "                            print(day, \"is Monday\")\n",
    "                    else:\n",
    "                        print(day, \"is Tuesday\")\n",
    "                else:\n",
    "                    print(day, \"is Wednesday\")\n",
    "            else:\n",
    "                print(day, \"is Thursday\")\n",
    "        else:\n",
    "            print(day, \"is Friday\")\n",
    "    else:\n",
    "        print(day, \"is Saturday\")\n",
    "else:\n",
    "    print(\"Wrong input!\")"
   ]
  },
  {
   "cell_type": "code",
   "execution_count": 4,
   "id": "0e493052-7033-422b-af78-a2e56a2b152c",
   "metadata": {},
   "outputs": [
    {
     "name": "stdin",
     "output_type": "stream",
     "text": [
      "Enter a year: 2010\n",
      "Enter a year: 2000\n",
      "Enter a year: 2016\n"
     ]
    },
    {
     "name": "stdout",
     "output_type": "stream",
     "text": [
      "2010 is not a leap year\n",
      "2000 is a leap year and divisible by 400\n",
      "2016 is only leap year\n"
     ]
    }
   ],
   "source": [
    "'''19. Create a program that determines if a year is a leap year and also if it is evenly divisible by 400.'''\n",
    "\n",
    "def check_year(year):\n",
    "    if (year % 400 == 0) or (year % 4 == 0 and year % 100 != 0):\n",
    "        if (year % 400 == 0):\n",
    "            print(year,\"is a leap year and divisible by 400\")\n",
    "        else:\n",
    "            print(year,\"is only leap year\")\n",
    "    else:\n",
    "        print(year,\"is not a leap year\")\n",
    "        \n",
    "year1 = int(input(\"Enter a year:\"))\n",
    "year2 = int(input(\"Enter a year:\"))\n",
    "year3 = int(input(\"Enter a year:\"))\n",
    "\n",
    "result1 = check_year(year1)\n",
    "result2 = check_year(year2)\n",
    "result3 = check_year(year3)"
   ]
  },
  {
   "cell_type": "code",
   "execution_count": 20,
   "id": "1f1df9ee-efeb-47d4-8c28-e38dd54da7e3",
   "metadata": {},
   "outputs": [
    {
     "name": "stdin",
     "output_type": "stream",
     "text": [
      "Enter any number:  5\n"
     ]
    },
    {
     "name": "stdout",
     "output_type": "stream",
     "text": [
      "5 is a prime number\n"
     ]
    }
   ],
   "source": [
    "'''20. Develop a program that checks if a given number is prime or not using nested if-else statements.'''\n",
    "\n",
    "n = int(input(\"Enter any number: \"))\n",
    "\n",
    "if n > 1:\n",
    "    for i in range(2, n):\n",
    "        if (n % i) == 0:\n",
    "            print(n, \"is not a prime number\")\n",
    "            break\n",
    "    else:\n",
    "        print(n, \"is a prime number\")\n",
    "\n",
    "else:\n",
    "    print(n, \"is not a prime number\")"
   ]
  },
  {
   "cell_type": "code",
   "execution_count": 6,
   "id": "102b46f2-b1b2-404e-9d88-ccac338e9437",
   "metadata": {},
   "outputs": [],
   "source": [
    "#Elif Statements:"
   ]
  },
  {
   "cell_type": "code",
   "execution_count": 7,
   "id": "f37537bf-9106-465c-b9cd-3c543db49e6f",
   "metadata": {},
   "outputs": [
    {
     "name": "stdout",
     "output_type": "stream",
     "text": [
      "Enter Marks Obtained in 3 Subjects: \n"
     ]
    },
    {
     "name": "stdin",
     "output_type": "stream",
     "text": [
      " 56\n",
      " 91\n",
      " 75\n"
     ]
    },
    {
     "name": "stdout",
     "output_type": "stream",
     "text": [
      "Average marks is: 74.0\n",
      "Your Grade is B1\n"
     ]
    }
   ],
   "source": [
    "'''21. Write a Python program to assign grades based on different ranges of scores using elif statements.'''\n",
    "\n",
    "print(\"Enter Marks Obtained in 3 Subjects: \")\n",
    "mark1 = int(input())\n",
    "mark2 = int(input())\n",
    "mark3 = int(input())\n",
    "\n",
    "tot = mark1+mark2+mark3\n",
    "avg = tot/3\n",
    "print(\"Average marks is:\",avg)\n",
    "\n",
    "if avg>=91 and avg<=100:\n",
    "    print(\"Your Grade is A1\")\n",
    "elif avg>=81 and avg<91:\n",
    "    print(\"Your Grade is A2\")\n",
    "elif avg>=71 and avg<81:\n",
    "    print(\"Your Grade is B1\")\n",
    "elif avg>=61 and avg<71:\n",
    "    print(\"Your Grade is B2\")\n",
    "elif avg>=51 and avg<61:\n",
    "    print(\"Your Grade is C1\")\n",
    "elif avg>=41 and avg<51:\n",
    "    print(\"Your Grade is C2\")\n",
    "elif avg>=33 and avg<41:\n",
    "    print(\"Your Grade is D\")\n",
    "elif avg>=21 and avg<33:\n",
    "    print(\"Your Grade is E1\")\n",
    "elif avg>=0 and avg<21:\n",
    "    print(\"Your Grade is E2\")\n",
    "else:\n",
    "    print(\"Invalid Input!\")"
   ]
  },
  {
   "cell_type": "code",
   "execution_count": 1,
   "id": "9b4d0853-98ad-423e-9ea5-78e92514c952",
   "metadata": {},
   "outputs": [
    {
     "name": "stdin",
     "output_type": "stream",
     "text": [
      "Enter first angle: 45\n",
      "Enter second angle: 35\n",
      "Enter third angle: 100\n"
     ]
    },
    {
     "name": "stdout",
     "output_type": "stream",
     "text": [
      "Scalen triangle\n"
     ]
    }
   ],
   "source": [
    "'''22. Implement a program to determine the type of a triangle based on its angles.'''\n",
    "\n",
    "a=int(input(\"Enter first angle:\"))\n",
    "b=int(input(\"Enter second angle:\"))\n",
    "c=int(input(\"Enter third angle:\"))\n",
    "\n",
    "if a+b+c==180:\n",
    "    if a==b and b==c and c==a:\n",
    "        print('Equilateral traingle')\n",
    "    elif a==b or b==c or c==a:\n",
    "        print('Isosceles traingle')\n",
    "    else:\n",
    "        print('Scalen triangle')\n",
    "else:\n",
    "    print('Invalid input')"
   ]
  },
  {
   "cell_type": "code",
   "execution_count": 9,
   "id": "3e5fc616-4e54-42b3-9328-97ec06f7276e",
   "metadata": {},
   "outputs": [
    {
     "name": "stdin",
     "output_type": "stream",
     "text": [
      "Enter your height in cm:  160\n",
      "Enter your weight in kg:  55\n"
     ]
    },
    {
     "name": "stdout",
     "output_type": "stream",
     "text": [
      "Your BMI is:  21.484374999999996\n",
      "Your weight is normal.\n"
     ]
    }
   ],
   "source": [
    "'''23. Develop a program to categorize a given person's BMI into underweight, normal, overweight, or obese using\n",
    "elif statements.'''\n",
    "\n",
    "\n",
    "h = float(input(\"Enter your height in cm: \"))\n",
    "w = float(input(\"Enter your weight in kg: \"))\n",
    "bmi = w/(h/100)**2  \n",
    "\n",
    "print(\"Your BMI is: \", bmi)\n",
    "\n",
    "\n",
    "if bmi <= 18.5:\n",
    "    print(\"You are underweight.\")\n",
    "elif 18.5 < bmi <= 24.9:\n",
    "    print(\"Your weight is normal.\")\n",
    "elif 25 < bmi <= 29.29:\n",
    "    print(\"You are overweight.\")\n",
    "else:\n",
    "    print(\"You are obese.\")"
   ]
  },
  {
   "cell_type": "code",
   "execution_count": 11,
   "id": "febf1882-9a89-4854-910a-9cfa3e577d7b",
   "metadata": {},
   "outputs": [
    {
     "name": "stdin",
     "output_type": "stream",
     "text": [
      "Enter n1 0\n",
      "Enter n2 56\n",
      "Enter n3 -90\n"
     ]
    },
    {
     "name": "stdout",
     "output_type": "stream",
     "text": [
      "0 It is zero\n",
      "56 is positive number\n",
      "-90 is negative number\n"
     ]
    }
   ],
   "source": [
    "'''24. Create a program that determines whether a given number is positive, negative, or zero using elif\n",
    "statements.'''\n",
    "\n",
    "def check_num(n):\n",
    "    if n > 0:\n",
    "        print(n,\"is positive number\")\n",
    "    elif n == 0:\n",
    "        print(n,\"It is zero\")\n",
    "    else:\n",
    "        print(n,\"is negative number\")\n",
    "\n",
    "n1 = int(input(\"Enter n1\"))\n",
    "n2 = int(input(\"Enter n2\"))\n",
    "n3 = int(input(\"Enter n3\"))\n",
    "\n",
    "result1 = check_num(n1)\n",
    "result2 = check_num(n2)\n",
    "result3 = check_num(n3)"
   ]
  },
  {
   "cell_type": "code",
   "execution_count": 14,
   "id": "f1a7e40a-e940-4f2d-a4d9-f69a842b684b",
   "metadata": {},
   "outputs": [
    {
     "name": "stdout",
     "output_type": "stream",
     "text": [
      "A is an UpperCase character.\n",
      "a is an LowerCase character.\n",
      "# is a Special charcter.\n"
     ]
    }
   ],
   "source": [
    "'''25. Write a Python script to determine the type of a character (uppercase, lowercase, or special) using elif\n",
    "statements.'''\n",
    "\n",
    "def check(ch):\n",
    " \n",
    "    if (ch >= 'A' and ch <= 'Z'):\n",
    "        print(ch,\"is an UpperCase character.\");\n",
    " \n",
    "    elif (ch >= 'a' and ch <= 'z'):\n",
    "        print(ch,\"is an LowerCase character.\");\n",
    "    else:\n",
    "        print(ch,\"is a Special charcter.\");\n",
    "\n",
    "ch = 'A';\n",
    "check(ch);\n",
    "ch = 'a';\n",
    "check(ch);\n",
    "ch = '#';\n",
    "check(ch);"
   ]
  },
  {
   "cell_type": "code",
   "execution_count": 16,
   "id": "464c442c-cdc7-4342-a004-acdb15961ad7",
   "metadata": {},
   "outputs": [
    {
     "name": "stdin",
     "output_type": "stream",
     "text": [
      "Enter Sale Amount:  12000\n"
     ]
    },
    {
     "name": "stdout",
     "output_type": "stream",
     "text": [
      "Discount :  1440.0\n",
      "Net Pay  :  10560.0\n"
     ]
    }
   ],
   "source": [
    "'''26. Implement a program to calculate the discounted price based on different purchase amounts using elif\n",
    "statements.'''\n",
    "\n",
    "amount = int(input(\"Enter Sale Amount: \"))\n",
    "\n",
    "if(amount>0):\n",
    "    if amount<=5000:\n",
    "        disc = amount*0.05\n",
    "    elif amount<=15000:\n",
    "        disc=amount*0.12\n",
    "    elif amount<=25000:\n",
    "        disc=0.2 * amount\n",
    "    else:\n",
    "        disc=0.3 * amount\n",
    "\n",
    "    print(\"Discount : \",disc)\n",
    "    print(\"Net Pay  : \",amount - disc)\n",
    "else:\n",
    "    print(\"Invalid Amount\")"
   ]
  },
  {
   "cell_type": "code",
   "execution_count": 1,
   "id": "20be73e5-d699-42b9-81da-3ca6f1a64ea5",
   "metadata": {},
   "outputs": [
    {
     "name": "stdin",
     "output_type": "stream",
     "text": [
      "Enter total number of units which is used 200\n"
     ]
    },
    {
     "name": "stdout",
     "output_type": "stream",
     "text": [
      "2500\n"
     ]
    }
   ],
   "source": [
    "'''27. Develop a program to calculate the electricity bill based on different consumption slabs using elif\n",
    "statements.'''\n",
    "\n",
    "def calculateBill(units):\n",
    "    if (units <= 100):\n",
    "        return units * 10; \n",
    "    elif (units <= 200):\n",
    "        return ((100 * 10) + (units - 100) * 15); \n",
    "    elif (units <= 300):\n",
    "        return ((100 * 10) + (100 * 15) + (units - 200) * 20); \n",
    "    elif (units > 300):\n",
    "        return ((100 * 10) + (100 * 15) + (100 * 20) + (units - 300) * 25); \n",
    "    return 0; \n",
    " \n",
    "units = int(input(\"Enter total number of units which is used\")); \n",
    "print(calculateBill(units)); "
   ]
  },
  {
   "cell_type": "code",
   "execution_count": 12,
   "id": "956ad9f9-758f-49d3-a904-36af102445ff",
   "metadata": {},
   "outputs": [
    {
     "name": "stdin",
     "output_type": "stream",
     "text": [
      "Enter first angle: 90\n",
      "Enter second angle: 90\n",
      "Enter third angle: 90\n",
      "Enter fourth angle: 90\n",
      "Enter first side: 1\n",
      "Enter second side: 2\n",
      "Enter third side: 1\n",
      "Enter fourth side: 2\n"
     ]
    },
    {
     "name": "stdout",
     "output_type": "stream",
     "text": [
      "Your shape is a rectangle!\n"
     ]
    }
   ],
   "source": [
    "'''28.Create a program to determine the type of quadrilateral based on its angles and sides using elif\n",
    "statements.'''\n",
    "\n",
    "angle_one = int(input(\"Enter first angle:\"))\n",
    "angle_two = int(input(\"Enter second angle:\"))\n",
    "angle_three = int(input(\"Enter third angle:\"))\n",
    "angle_four = int(input(\"Enter fourth angle:\"))\n",
    "\n",
    "side_one = int(input(\"Enter first side:\"))\n",
    "side_two =int(input(\"Enter second side:\"))\n",
    "side_three = int(input(\"Enter third side:\"))\n",
    "side_four = int(input(\"Enter fourth side:\"))\n",
    "\n",
    "if ((angle_one & angle_two & angle_three == angle_four) & (side_one & side_two & side_three == side_four)):\n",
    "    print(\"Your shape is square!\")\n",
    "\n",
    "elif ((angle_one & angle_two & angle_three == angle_four) & (side_one == side_three or side_two == side_four)):\n",
    "    print(\"Your shape is a rectangle!\")\n",
    "    \n",
    "elif ((angle_one < 90 or angle_two < 90) & (side_one & side_two == side_three)):\n",
    "    print(\"Your shape is a rhombus!\")\n",
    "\n",
    "else:\n",
    "    print(\"Invalid input\")"
   ]
  },
  {
   "cell_type": "code",
   "execution_count": 3,
   "id": "e3a251c5-14c4-4116-b865-563e57554e27",
   "metadata": {},
   "outputs": [
    {
     "name": "stdin",
     "output_type": "stream",
     "text": [
      "Input the month March\n"
     ]
    },
    {
     "name": "stdout",
     "output_type": "stream",
     "text": [
      "Season is summer\n"
     ]
    }
   ],
   "source": [
    "'''29. Write a Python script to determine the season based on a user-provided month using elif statements.'''\n",
    "\n",
    "month = input(\"Input the month\")\n",
    "\n",
    "if month in ('November', 'December', 'January', 'February'):\n",
    "\tseason = 'winter'\n",
    "elif month in ('March', 'April', 'May', 'June',):\n",
    "\tseason = 'summer'\n",
    "elif month in ('July', 'August', 'September', 'October'):\n",
    "\tseason = 'monsoon'\n",
    "else:\n",
    "\tprint(\"invalid name\")\n",
    "\n",
    "print(\"Season is\",season)\n"
   ]
  },
  {
   "cell_type": "code",
   "execution_count": 7,
   "id": "806542d0-449e-49bc-927e-ea7180c354cd",
   "metadata": {},
   "outputs": [
    {
     "name": "stdin",
     "output_type": "stream",
     "text": [
      "type a year:  2021\n",
      "type a month:  march\n"
     ]
    },
    {
     "name": "stdout",
     "output_type": "stream",
     "text": [
      "this month has 31 days\n",
      "is not a leap year\n"
     ]
    }
   ],
   "source": [
    "'''30. Implement a program to determine the type of a year (leap or common) and month (30 or 31 days) using\n",
    "elif statements.'''\n",
    "\n",
    "def cal(month):\n",
    "    if month in ['january', 'march','may','july','august','october','december']:\n",
    "        print (\"this month has 31 days\")\n",
    "    elif month in ['april','june','september','november']:\n",
    "        print (\"this month has 30 days\")\n",
    "    elif month == 'february' and leap(year)== True:\n",
    "        print (\"this month has 29 days\")\n",
    "    elif month == 'february' and leap(year) == False:\n",
    "        print (\"this month has 28 days\")\n",
    "    else:\n",
    "        print (\"invalid input\")   \n",
    "\n",
    "\n",
    "def leap(year):\n",
    "    if (year % 4== 0) or (year % 400 == 0):\n",
    "        print (\"its a leap year!\")\n",
    "    else: \n",
    "        print (\"is not a leap year\")\n",
    "\n",
    "year = int(input('type a year: '))\n",
    "month = str(input('type a month: '))\n",
    "\n",
    "cal(month)\n",
    "leap(year) "
   ]
  },
  {
   "cell_type": "code",
   "execution_count": 8,
   "id": "e47e0302-77ec-4011-bc93-c8d6be485c54",
   "metadata": {},
   "outputs": [],
   "source": [
    "# Basic Level:"
   ]
  },
  {
   "cell_type": "code",
   "execution_count": 3,
   "id": "7930f104-1874-4fe1-aa40-90d6cf91871f",
   "metadata": {},
   "outputs": [
    {
     "name": "stdin",
     "output_type": "stream",
     "text": [
      "Enter n1 -2\n",
      "Enter n2 23\n",
      "Enter n3 0\n"
     ]
    },
    {
     "name": "stdout",
     "output_type": "stream",
     "text": [
      "-2 is negative number\n",
      "23 is positive number\n",
      "0 It is zero\n"
     ]
    }
   ],
   "source": [
    "'''1. Write a Python program that checks if a given number is positive, negative, or zero.'''\n",
    "\n",
    "def check_num(n):\n",
    "    if n > 0:\n",
    "        print(n,\"is positive number\")\n",
    "    elif n == 0:\n",
    "        print(n,\"It is zero\")\n",
    "    else:\n",
    "        print(n,\"is negative number\")\n",
    "\n",
    "n1 = int(input(\"Enter n1\"))\n",
    "n2 = int(input(\"Enter n2\"))\n",
    "n3 = int(input(\"Enter n3\"))\n",
    "\n",
    "result1 = check_num(n1)\n",
    "result2 = check_num(n2)\n",
    "result3 = check_num(n3)"
   ]
  },
  {
   "cell_type": "code",
   "execution_count": 4,
   "id": "31ef476c-7515-4d3d-a6d4-dd62036c216f",
   "metadata": {},
   "outputs": [
    {
     "name": "stdin",
     "output_type": "stream",
     "text": [
      "enter age:  23\n"
     ]
    },
    {
     "name": "stdout",
     "output_type": "stream",
     "text": [
      "person is eligible to vote\n"
     ]
    }
   ],
   "source": [
    "'''2. Create a program to determine if a person is eligible to vote based on their age.'''\n",
    "\n",
    "age = int(input(\"enter age: \"))\n",
    "if age >= 18:\n",
    "    print(\"person is eligible to vote\")\n",
    "else:\n",
    "    print(\"person is not eligible to vote\")"
   ]
  },
  {
   "cell_type": "code",
   "execution_count": 5,
   "id": "a4826db8-fbce-4915-ad27-a878014a3b6f",
   "metadata": {},
   "outputs": [
    {
     "name": "stdin",
     "output_type": "stream",
     "text": [
      "Enter n1 12\n",
      "Enter n2 6\n"
     ]
    },
    {
     "name": "stdout",
     "output_type": "stream",
     "text": [
      "Largest number is 12\n"
     ]
    }
   ],
   "source": [
    "'''3. Write a program to find the maximum of two given numbers using conditional statements.'''\n",
    "\n",
    "n1 = int(input(\"Enter n1\"))\n",
    "n2 = int(input(\"Enter n2\"))\n",
    "\n",
    "if (n1 > n2):\n",
    "    largest = n1\n",
    "else:\n",
    "    largest = n2\n",
    "\n",
    "print(\"Largest number is\",largest)"
   ]
  },
  {
   "cell_type": "code",
   "execution_count": 6,
   "id": "e8228beb-edfe-4ea1-b6b5-dc15eda8b2d8",
   "metadata": {},
   "outputs": [
    {
     "name": "stdout",
     "output_type": "stream",
     "text": [
      "Enter Marks Obtained in 3 Subjects: \n"
     ]
    },
    {
     "name": "stdin",
     "output_type": "stream",
     "text": [
      " 89\n",
      " 69\n",
      " 96\n"
     ]
    },
    {
     "name": "stdout",
     "output_type": "stream",
     "text": [
      "Average marks is: 84.66666666666667\n",
      "Your Grade is A2\n"
     ]
    }
   ],
   "source": [
    "'''4. Develop a program that calculates the grade of a student based on their exam score.'''\n",
    "\n",
    "print(\"Enter Marks Obtained in 3 Subjects: \")\n",
    "mark1 = int(input())\n",
    "mark2 = int(input())\n",
    "mark3 = int(input())\n",
    "\n",
    "tot = mark1+mark2+mark3\n",
    "avg = tot/3\n",
    "print(\"Average marks is:\",avg)\n",
    "\n",
    "if avg>=91 and avg<=100:\n",
    "    print(\"Your Grade is A1\")\n",
    "elif avg>=81 and avg<91:\n",
    "    print(\"Your Grade is A2\")\n",
    "elif avg>=71 and avg<81:\n",
    "    print(\"Your Grade is B1\")\n",
    "elif avg>=61 and avg<71:\n",
    "    print(\"Your Grade is B2\")\n",
    "elif avg>=51 and avg<61:\n",
    "    print(\"Your Grade is C1\")\n",
    "elif avg>=41 and avg<51:\n",
    "    print(\"Your Grade is C2\")\n",
    "elif avg>=33 and avg<41:\n",
    "    print(\"Your Grade is D\")\n",
    "elif avg>=21 and avg<33:\n",
    "    print(\"Your Grade is E1\")\n",
    "elif avg>=0 and avg<21:\n",
    "    print(\"Your Grade is E2\")\n",
    "else:\n",
    "    print(\"Invalid Input!\")"
   ]
  },
  {
   "cell_type": "code",
   "execution_count": 8,
   "id": "d890a351-4e64-45c2-be34-4393e36712fe",
   "metadata": {},
   "outputs": [
    {
     "name": "stdin",
     "output_type": "stream",
     "text": [
      "Enter a year: 2023\n",
      "Enter a year: 2024\n"
     ]
    },
    {
     "name": "stdout",
     "output_type": "stream",
     "text": [
      "2023 is not a leap year\n",
      "2024 is a leap year\n"
     ]
    }
   ],
   "source": [
    "'''5. Create a program that checks if a year is a leap year or not.'''\n",
    "\n",
    "def leap_year(year):\n",
    "    if (year % 400 == 0) or (year % 4 == 0 and year % 100 != 0):\n",
    "        print(year,\"is a leap year\")\n",
    "    else:\n",
    "        print(year,\"is not a leap year\")\n",
    "    \n",
    "year1 = int(input(\"Enter a year:\"))\n",
    "year2 = int(input(\"Enter a year:\"))\n",
    "\n",
    "result1 = leap_year(year1)\n",
    "result2 = leap_year(year2)"
   ]
  },
  {
   "cell_type": "code",
   "execution_count": 10,
   "id": "0fdef766-b0d3-4ca8-92e8-5016c43bfdbd",
   "metadata": {},
   "outputs": [
    {
     "name": "stdout",
     "output_type": "stream",
     "text": [
      "Input lengths of the triangle sides: \n"
     ]
    },
    {
     "name": "stdin",
     "output_type": "stream",
     "text": [
      "x:  3\n",
      "y:  4\n",
      "z:  5\n"
     ]
    },
    {
     "name": "stdout",
     "output_type": "stream",
     "text": [
      "Scalene triangle\n"
     ]
    }
   ],
   "source": [
    "'''6. Write a program to classify a triangle based on its sides' lengths.'''\n",
    "\n",
    "print(\"Input lengths of the triangle sides: \")\n",
    "x = int(input(\"x: \"))\n",
    "y = int(input(\"y: \"))\n",
    "z = int(input(\"z: \"))\n",
    "\n",
    "if x==y or y==z or z==x:\n",
    "    if x == y == z:\n",
    "\t    print(\"Equilateral triangle\")\n",
    "    else:\n",
    "        print(\"Isosceles triangle\")   \n",
    "else:\n",
    "\tprint(\"Scalene triangle\")"
   ]
  },
  {
   "cell_type": "code",
   "execution_count": 18,
   "id": "cd62fc74-d2fc-4aaa-869c-55f1baf3a754",
   "metadata": {},
   "outputs": [
    {
     "name": "stdin",
     "output_type": "stream",
     "text": [
      "Enter n1 12\n",
      "Enter n2 36\n",
      "Enter n3 21\n"
     ]
    },
    {
     "name": "stdout",
     "output_type": "stream",
     "text": [
      "Largest number is 36\n"
     ]
    }
   ],
   "source": [
    "'''7. Build a program that determines the largest of three given numbers.'''\n",
    "\n",
    "n1 = int(input(\"Enter n1\"))\n",
    "n2 = int(input(\"Enter n2\"))\n",
    "n3 = int(input(\"Enter n3\"))\n",
    "\n",
    "if (n1 > n2) and (n1 > n3):\n",
    "    largest = n1\n",
    "elif (n2 > n1) & (n2 > n3):\n",
    "    largest = n2\n",
    "else:\n",
    "    largest = n3\n",
    "\n",
    "print(\"Largest number is\",largest)"
   ]
  },
  {
   "cell_type": "code",
   "execution_count": 19,
   "id": "31407ffa-2523-4f75-9962-f4fdb8c8a440",
   "metadata": {},
   "outputs": [
    {
     "name": "stdin",
     "output_type": "stream",
     "text": [
      "enter character:  v\n"
     ]
    },
    {
     "name": "stdout",
     "output_type": "stream",
     "text": [
      "v character is a consonant\n"
     ]
    }
   ],
   "source": [
    "'''8. Develop a program that checks whether a character is a vowel or a consonant.'''\n",
    "\n",
    "v = ['a', 'e', 'i', 'o', 'u', 'A' , 'E', 'I', 'O', 'U']\n",
    "\n",
    "C = input(\"enter character: \")\n",
    "if C in v:\n",
    "    print(C,\"character is a vowel\")\n",
    "else:\n",
    "    print(C,\"character is a consonant\")"
   ]
  },
  {
   "cell_type": "code",
   "execution_count": 20,
   "id": "b9e3ee08-e6c2-41fa-9b23-463220450ce4",
   "metadata": {},
   "outputs": [
    {
     "name": "stdin",
     "output_type": "stream",
     "text": [
      "Enter Sale Amount:  25000\n"
     ]
    },
    {
     "name": "stdout",
     "output_type": "stream",
     "text": [
      "Discount :  5000.0\n",
      "Net Pay  :  20000.0\n"
     ]
    }
   ],
   "source": [
    "'''9. Create a program to calculate the total cost of a shopping cart based on discounts.'''\n",
    "\n",
    "amount = int(input(\"Enter Sale Amount: \"))\n",
    "\n",
    "if(amount>0):\n",
    "    if amount<=5000:\n",
    "        disc = amount*0.05\n",
    "    elif amount<=15000:\n",
    "        disc=amount*0.12\n",
    "    elif amount<=25000:\n",
    "        disc=0.2 * amount\n",
    "    else:\n",
    "        disc=0.3 * amount\n",
    "\n",
    "    print(\"Discount : \",disc)\n",
    "    print(\"Net Pay  : \",amount - disc)\n",
    "else:\n",
    "    print(\"Invalid Amount\")"
   ]
  },
  {
   "cell_type": "code",
   "execution_count": 1,
   "id": "4170c0e9-c7b1-41b4-ba34-88ae40bd1719",
   "metadata": {},
   "outputs": [
    {
     "name": "stdin",
     "output_type": "stream",
     "text": [
      "Enter n1 23\n",
      "Enter n2 12\n"
     ]
    },
    {
     "name": "stdout",
     "output_type": "stream",
     "text": [
      "23 is odd number\n",
      "12 is even number\n"
     ]
    }
   ],
   "source": [
    "'''10. Write a program that checks if a given number is even or odd.'''\n",
    "\n",
    "def check_num(n):\n",
    "    if n % 2 == 0:\n",
    "        print(n,\"is even number\")\n",
    "    else:\n",
    "        print(n,\"is odd number\")\n",
    "        \n",
    "n1 = int(input(\"Enter n1\"))\n",
    "n2 = int(input(\"Enter n2\"))\n",
    "\n",
    "\n",
    "result1 = check_num(n1)\n",
    "result2 = check_num(n2)"
   ]
  },
  {
   "cell_type": "code",
   "execution_count": null,
   "id": "f7ded572-0d47-434b-bd4c-95c6296ca5ec",
   "metadata": {},
   "outputs": [],
   "source": [
    "# Intermediate Level:"
   ]
  },
  {
   "cell_type": "code",
   "execution_count": 2,
   "id": "ab725dd5-ff3d-45f7-a6d9-e26031b5a62f",
   "metadata": {},
   "outputs": [
    {
     "name": "stdin",
     "output_type": "stream",
     "text": [
      "enter value of a 1\n",
      "enter value of b 2\n",
      "enter value of c 2\n"
     ]
    },
    {
     "name": "stdout",
     "output_type": "stream",
     "text": [
      "Roots are complex\n",
      "-1.0  + i 1.0\n",
      "-1.0  - i 1.0\n",
      "None\n"
     ]
    }
   ],
   "source": [
    "'''11. Write a program that calculates the roots of a quadratic equation.'''\n",
    "\n",
    "import math\n",
    "\n",
    "def findRoots(a, b, c):\n",
    " \n",
    "    if a == 0:\n",
    "        print(\"Invalid\")\n",
    "        return -1\n",
    "    d = b * b - 4 * a * c\n",
    "    sqrt_val = math.sqrt(abs(d))\n",
    "    if d >= 0:\n",
    "        if d == 0:\n",
    "            print(\"Roots are real and same\")\n",
    "            print(-b / (2*a))\n",
    "        else:\n",
    "            print(\"Roots are real and different \")\n",
    "            print((-b + sqrt_val)/(2 * a))\n",
    "            print((-b - sqrt_val)/(2 * a))\n",
    "    else:  \n",
    "        print(\"Roots are complex\")\n",
    "        print(- b / (2*a), \" + i\", sqrt_val / (2 * a))\n",
    "        print(- b / (2*a), \" - i\", sqrt_val / (2 * a))\n",
    "\n",
    "a = int(input(\"enter value of a\")) \n",
    "b = int(input(\"enter value of b\"))\n",
    "c = int(input(\"enter value of c\")) \n",
    "\n",
    "result = findRoots(a, b, c)\n",
    "print(result)"
   ]
  },
  {
   "cell_type": "code",
   "execution_count": 8,
   "id": "cd3b7878-9b5c-4146-b77a-3ac46e1a5b6a",
   "metadata": {},
   "outputs": [
    {
     "name": "stdin",
     "output_type": "stream",
     "text": [
      "Enter a number from 1 to 7:  1\n"
     ]
    },
    {
     "name": "stdout",
     "output_type": "stream",
     "text": [
      "1 is Sunday\n"
     ]
    }
   ],
   "source": [
    "'''12. Create a program that determines the day of the week based on the day number (1-7).'''\n",
    "\n",
    "day = int(input(\"Enter a number from 1 to 7: \"))\n",
    "\n",
    "if day == 1:\n",
    "    print(day, \"is Sunday\")\n",
    "elif day == 2:\n",
    "    print(day, \"is Monday\")\n",
    "elif day == 3:\n",
    "    print(day, \"is Tuesday\")\n",
    "elif day == 4:\n",
    "    print(day, \"is Wednesday\")\n",
    "elif day == 5:\n",
    "    print(day, \"is Thursday\")\n",
    "elif day == 6:\n",
    "    print(day, \"is Friday\")\n",
    "elif day == 7:\n",
    "    print(day, \"is Saturday\")\n",
    "else:\n",
    "    print(\"Wrong input!\")"
   ]
  },
  {
   "cell_type": "code",
   "execution_count": 9,
   "id": "c637962a-efa6-45ff-a97a-18d21ccb8911",
   "metadata": {},
   "outputs": [
    {
     "name": "stdout",
     "output_type": "stream",
     "text": [
      "120\n"
     ]
    }
   ],
   "source": [
    "'''13. Develop a program that calculates the factorial of a given number using recursion.'''\n",
    "\n",
    "def factorial(n):\n",
    "    if n == 0 or n == 1:\n",
    "        return 1\n",
    "    else:\n",
    "        return n * factorial(n - 1)\n",
    "\n",
    "print(factorial(5)) \n"
   ]
  },
  {
   "cell_type": "code",
   "execution_count": 10,
   "id": "e1a69778-a76c-4b48-abfa-b7742b02f0b0",
   "metadata": {},
   "outputs": [
    {
     "name": "stdin",
     "output_type": "stream",
     "text": [
      "Enter n1 23\n",
      "Enter n2 36\n",
      "Enter n3 12\n"
     ]
    },
    {
     "name": "stdout",
     "output_type": "stream",
     "text": [
      "Largest number is 36\n"
     ]
    }
   ],
   "source": [
    "'''14. Write a program to find the largest among three numbers without using the `max()` function.'''\n",
    "\n",
    "n1 = int(input(\"Enter n1\"))\n",
    "n2 = int(input(\"Enter n2\"))\n",
    "n3 = int(input(\"Enter n3\"))\n",
    "\n",
    "if (n1 > n2) and (n1 > n3):\n",
    "    largest = n1\n",
    "elif (n2 > n1) & (n2 > n3):\n",
    "    largest = n2\n",
    "else:\n",
    "    largest = n3\n",
    "\n",
    "print(\"Largest number is\",largest)"
   ]
  },
  {
   "cell_type": "code",
   "execution_count": 7,
   "id": "cbbc43a2-140a-424a-be73-6908912b73b1",
   "metadata": {},
   "outputs": [
    {
     "name": "stdout",
     "output_type": "stream",
     "text": [
      "Welcome to bank of India\n"
     ]
    },
    {
     "name": "stdin",
     "output_type": "stream",
     "text": [
      "Enter your 4 digit pin number:  1234\n"
     ]
    },
    {
     "name": "stdout",
     "output_type": "stream",
     "text": [
      "You enterd correct pin\n",
      "1-Withdraw\n",
      "2-Balance Enquiry\n",
      "3-Fast Cash\n"
     ]
    },
    {
     "name": "stdin",
     "output_type": "stream",
     "text": [
      "Please choose transactions:  3\n"
     ]
    },
    {
     "name": "stdout",
     "output_type": "stream",
     "text": [
      "1->5,000\n",
      "2->10,000\n",
      "3->15,000\n",
      "4->20,000\n"
     ]
    },
    {
     "name": "stdin",
     "output_type": "stream",
     "text": [
      "Enter fast cash option:  3\n"
     ]
    },
    {
     "name": "stdout",
     "output_type": "stream",
     "text": [
      "please take cash 15000\n"
     ]
    }
   ],
   "source": [
    "'''15.Create a program that simulates a basic ATM transaction menu.'''\n",
    "\n",
    "print(\"Welcome to bank of India\")\n",
    "trials = 3\n",
    "balance = 25000\n",
    "\n",
    "while trials >= 0:\n",
    "    pin_number = int(input(\"Enter your 4 digit pin number: \"))\n",
    "    if (pin_number == 1234):\n",
    "        print(\"You enterd correct pin\")\n",
    "        print(\"1-Withdraw\")\n",
    "        print(\"2-Balance Enquiry\")\n",
    "        print(\"3-Fast Cash\")\n",
    "        c = int(input(\"Please choose transactions: \"))\n",
    "        if (c == 1):\n",
    "            w=int(input(\"Enter withdraw amount: \"))\n",
    "            if (w < balance and w % 100 == 0):\n",
    "                print(\"Please take your amount:\", w)\n",
    "                break\n",
    "            else:\n",
    "                print(\"Invalid cash\")\n",
    "                break\n",
    "        elif(c==2):\n",
    "            print(\"Your available amount : \",balance)\n",
    "            break\n",
    "        elif (c == 3):\n",
    "            print(\"1->5,000\")\n",
    "            print(\"2->10,000\")\n",
    "            print(\"3->15,000\")\n",
    "            print(\"4->20,000\")\n",
    "            f = int(input(\"Enter fast cash option: \"))\n",
    "    \n",
    "            if (f == 1 and 5000 < balance):\n",
    "                print(\"please take cash 5000\")\n",
    "                break\n",
    "            elif (f == 2 and 10000 < balance):\n",
    "                print(\"please take cash 10000\")\n",
    "                break\n",
    "            elif (f == 3 and 15000 < balance):\n",
    "                print(\"please take cash 15000\")\n",
    "                break\n",
    "            elif (f == 4 and 20000 < balance):\n",
    "                print(\"please take cash 20000\")\n",
    "                break\n",
    "            else:\n",
    "                print(\"Invalid fast cash option\")\n",
    "                break\n",
    "    elif pin_number != (\"1234\"):\n",
    "        print(\"incorrect pin\")\n",
    "        trials = trials - 1\n",
    "        if trials == 0:\n",
    "            print(\"No more tries\")\n",
    "            break"
   ]
  },
  {
   "cell_type": "code",
   "execution_count": 8,
   "id": "d6d9d4e3-8c83-4368-8f35-746d9ab1f8bf",
   "metadata": {},
   "outputs": [
    {
     "name": "stdin",
     "output_type": "stream",
     "text": [
      "Enter String :  ABBA\n"
     ]
    },
    {
     "name": "stdout",
     "output_type": "stream",
     "text": [
      "Reverse Order :   ABBA\n",
      "This is a Palindrome String\n"
     ]
    }
   ],
   "source": [
    "'''16. Build a program that checks if a given string is a palindrome or not.'''\n",
    "\n",
    "L1 = input(\"Enter String : \")\n",
    "str1 = \"\"\n",
    "\n",
    "for i in L1:\n",
    "    str1 = i + str1  \n",
    "print(\"Reverse Order :  \", str1)\n",
    "\n",
    "if(L1 == str1):\n",
    "    print(\"This is a Palindrome String\")\n",
    "else:\n",
    "    print(\"This is not Palindrome String\")"
   ]
  },
  {
   "cell_type": "code",
   "execution_count": 12,
   "id": "ad4e207d-ce12-43bb-8cc9-1ea859dfe972",
   "metadata": {},
   "outputs": [
    {
     "name": "stdout",
     "output_type": "stream",
     "text": [
      "Minimum number 1\n",
      "Maximum number 9\n",
      "New list [2, 3, 4, 5, 6, 7, 8]\n",
      "average of a list 5.0\n"
     ]
    }
   ],
   "source": [
    "'''17. Write a program that calculates the average of a list of numbers, excluding the smallest and largest values.'''\n",
    "\n",
    "l1 = [1,2,3,4,5,6,7,8,9]\n",
    "\n",
    "min_number = min(l1)\n",
    "max_number = max(l1)\n",
    "\n",
    "print(\"Minimum number\",min_number)\n",
    "print(\"Maximum number\",max_number)\n",
    "l1.remove(min_number)\n",
    "l1.remove(max_number)\n",
    "print(\"New list\",l1)\n",
    "\n",
    "sum_of_list = sum(l1)\n",
    "avg_of_list = sum_of_list/len(l1)\n",
    "print(\"average of a list\",avg_of_list)\n"
   ]
  },
  {
   "cell_type": "code",
   "execution_count": 1,
   "id": "37a63b52-6df9-47c7-807a-42d895607492",
   "metadata": {},
   "outputs": [
    {
     "name": "stdin",
     "output_type": "stream",
     "text": [
      "Enter temperature in Celsius:  32\n"
     ]
    },
    {
     "data": {
      "text/plain": [
       "89.6"
      ]
     },
     "execution_count": 1,
     "metadata": {},
     "output_type": "execute_result"
    }
   ],
   "source": [
    "'''18. Develop a program that converts a given temperature from Celsius to Fahrenheit.'''\n",
    "\n",
    "Celsius = float(input(\"Enter temperature in Celsius: \"))\n",
    "Fahrenheit = Celsius*(9/5)+32\n",
    "Fahrenheit"
   ]
  },
  {
   "cell_type": "code",
   "execution_count": 13,
   "id": "b7473f3f-199b-40cf-bd92-efa8cfe06220",
   "metadata": {},
   "outputs": [
    {
     "name": "stdout",
     "output_type": "stream",
     "text": [
      "Please select operation -\n",
      "1. Add\n",
      "2. Subtract\n",
      "3. Multiply\n",
      "4. Divide\n",
      "\n"
     ]
    },
    {
     "name": "stdin",
     "output_type": "stream",
     "text": [
      "Select operations 2\n",
      "Enter first number:  36\n",
      "Enter second number:  23\n"
     ]
    },
    {
     "name": "stdout",
     "output_type": "stream",
     "text": [
      "36 - 23 = 13\n"
     ]
    }
   ],
   "source": [
    "'''19. Create a program that simulates a basic calculator for addition, subtraction, multiplication, and division.'''\n",
    "\n",
    "def add(num1, num2):\n",
    "    return num1 + num2\n",
    "\n",
    "def subtract(num1, num2):\n",
    "    return num1 - num2\n",
    "\n",
    "def multiply(num1, num2):\n",
    "    return num1 * num2\n",
    " \n",
    "def divide(num1, num2):\n",
    "    return num1 / num2\n",
    " \n",
    "print(\"Please select operation -\\n\" \\\n",
    "        \"1. Add\\n\" \\\n",
    "        \"2. Subtract\\n\" \\\n",
    "        \"3. Multiply\\n\" \\\n",
    "        \"4. Divide\\n\")\n",
    "\n",
    "select = int(input(\"Select operations\"))\n",
    " \n",
    "number_1 = int(input(\"Enter first number: \"))\n",
    "number_2 = int(input(\"Enter second number: \"))\n",
    " \n",
    "if select == 1:\n",
    "    print(number_1, \"+\", number_2, \"=\",\n",
    "                    add(number_1, number_2))\n",
    "elif select == 2:\n",
    "    print(number_1, \"-\", number_2, \"=\",\n",
    "                    subtract(number_1, number_2))\n",
    "elif select == 3:\n",
    "    print(number_1, \"*\", number_2, \"=\",\n",
    "                    multiply(number_1, number_2)) \n",
    "elif select == 4:\n",
    "    print(number_1, \"/\", number_2, \"=\",\n",
    "                    divide(number_1, number_2))\n",
    "else:\n",
    "    print(\"Invalid input\")"
   ]
  },
  {
   "cell_type": "code",
   "execution_count": 1,
   "id": "6a1817be-7933-4688-a684-c908a2c095e9",
   "metadata": {},
   "outputs": [
    {
     "name": "stdout",
     "output_type": "stream",
     "text": [
      "Roots: ((1.475686517795721+2.555964024866582j), (-0.7378432588978605-1.277982012433291j), (-0.7378432588978605-1.277982012433291j))\n"
     ]
    }
   ],
   "source": [
    "'''20.Write a program that determines the roots of a cubic equation using the Cardano formula.'''\n",
    "\n",
    "import math\n",
    "\n",
    "def solve_cubic(a, b, c, d):\n",
    "    p = c / a - (b ** 2) / (3 * a ** 2)\n",
    "    q = (2 * b ** 3) / (27 * a ** 3) - (b * c) / (3 * a ** 2) + d / a\n",
    "\n",
    "    discriminant = (q ** 2) / 4 + (p ** 3) / 27\n",
    "\n",
    "    if discriminant > 0:\n",
    "        u = (-q / 2 + math.sqrt(discriminant)) ** (1 / 3)\n",
    "        v = (-q / 2 - math.sqrt(discriminant)) ** (1 / 3)\n",
    "        real_root = -(b / (3 * a))\n",
    "        root1 = real_root + u + v\n",
    "        root2 = real_root - (u + v) / 2\n",
    "        root3 = real_root - (u + v) / 2\n",
    "    elif discriminant == 0:\n",
    "        u = (-q / 2) ** (1 / 3)\n",
    "        v = (-q / 2) ** (1 / 3)\n",
    "        real_root = -(b / (3 * a))\n",
    "        root1 = real_root + u + v\n",
    "        root2 = real_root - (u + v) / 2\n",
    "        root3 = real_root - (u + v) / 2\n",
    "    else:\n",
    "        r = math.sqrt((-(p ** 3) / 27))\n",
    "        theta = math.acos(-q / (2 * r))\n",
    "        root1 = -2 * math.copysign(1, q) * math.sqrt(-p / 3) * math.cos(theta / 3) - (b / (3 * a))\n",
    "        root2 = -2 * math.copysign(1, q) * math.sqrt(-p / 3) * math.cos((theta + 2 * math.pi) / 3) - (b / (3 * a))\n",
    "        root3 = -2 * math.copysign(1, q) * math.sqrt(-p / 3) * math.cos((theta + 4 * math.pi) / 3) - (b / (3 * a))\n",
    "\n",
    "    return root1, root2, root3\n",
    "\n",
    "a = 1\n",
    "b = 0\n",
    "c = -6\n",
    "d = 8\n",
    "\n",
    "roots = solve_cubic(a, b, c, d)\n",
    "print(\"Roots:\", roots)"
   ]
  },
  {
   "cell_type": "code",
   "execution_count": 1,
   "id": "d8967469-11d4-4350-acf4-e6b1a4fb467a",
   "metadata": {},
   "outputs": [],
   "source": [
    "#Advanced Level:"
   ]
  },
  {
   "cell_type": "code",
   "execution_count": 1,
   "id": "cdcb14d3-7ac7-48cc-8f4f-d8ba81900d16",
   "metadata": {},
   "outputs": [
    {
     "name": "stdin",
     "output_type": "stream",
     "text": [
      "Enter your taxable income: 250000\n"
     ]
    },
    {
     "name": "stdout",
     "output_type": "stream",
     "text": [
      "your payable tax is 0 rupees\n"
     ]
    }
   ],
   "source": [
    "'''21. Create a program that calculates the income tax based on the user's income and tax brackets.'''\n",
    "\n",
    "income = int(input(\"Enter your taxable income:\"))\n",
    "\n",
    "if income <= 250000:\n",
    "    tax = 0\n",
    "elif income <= 500000:\n",
    "    tax = (income - 250000) * 0.05\n",
    "elif income <= 750000:\n",
    "    tax = (income - 500000) * 0.10 + 12500\n",
    "elif income <= 1000000:\n",
    "    tax = (income - 750000) * 0.15 + 37500\n",
    "elif income <= 1250000:\n",
    "    tax = (income - 1000000) * 0.20 + 75000\n",
    "elif income <= 1500000:\n",
    "    tax = (income - 1250000) * 0.25 + 125000\n",
    "else:\n",
    "    tax = (income - 1500000) * 0.30 + 187500\n",
    "print(\"your payable tax is\", tax , \"rupees\")"
   ]
  },
  {
   "cell_type": "code",
   "execution_count": 3,
   "id": "e65f574f-e485-4319-a094-a4bf8e5c879c",
   "metadata": {},
   "outputs": [
    {
     "name": "stdout",
     "output_type": "stream",
     "text": [
      "welcome to rock-paper-scissors game\n"
     ]
    },
    {
     "name": "stdin",
     "output_type": "stream",
     "text": [
      "Enter the input rock\n"
     ]
    },
    {
     "name": "stdout",
     "output_type": "stream",
     "text": [
      "Random choice is: paper\n",
      "rock = paper ! you win!\n"
     ]
    }
   ],
   "source": [
    "'''22. Write a program that simulates a rock-paper-scissors game against the computer.'''\n",
    "\n",
    "import random\n",
    "print(\"welcome to rock-paper-scissors game\")\n",
    "random_list = [\"rock\",\"paper\",\"scissors\"]\n",
    "first_player = input(\"Enter the input\")\n",
    "computer= random.choice(random_list)\n",
    "print(\"Random choice is:\",computer)\n",
    "\n",
    "if((first_player == \"rock\") and (computer == \"rock\")):\n",
    "    print(f\"{first_player} = {computer} ! Match tied!\")\n",
    "elif((first_player == \"rock\") and (computer == \"paper\")):\n",
    "    print(f\"{first_player} = {computer} ! you win!\")\n",
    "elif((first_player == \"rock\") and (computer == \"scissors\")):\n",
    "    print(f\"{first_player} = {computer} ! you win!\")\n",
    "elif((first_player == \"paper\") and (computer == \"paper\")):\n",
    "    print(f\"{first_player} = {computer} ! Match tied!\")\n",
    "elif((first_player == \"paper\") and (computer == \"rock\")):\n",
    "    print(f\"{first_player} = {computer} ! you lose!\")\n",
    "elif((first_player == \"paper\") and (computer == \"scissors\")):\n",
    "    print(f\"{first_player} = {computer} ! you lose!\")\n",
    "elif((first_player == \"scissors\") and (computer == \"scissors\")):\n",
    "    print(f\"{first_player} = {computer} ! Match tied!\")\n",
    "elif((first_player == \"scissors\") and (computer == \"rock\")):\n",
    "    print(f\"{first_player} = {computer} ! you lose!\")\n",
    "elif((first_player == \"scissors\") and (computer == \"paper\")):\n",
    "    print(f\"{first_player} = {computer} ! you win!\")\n",
    "else:\n",
    "    print(\"Invalid condition\")"
   ]
  },
  {
   "cell_type": "code",
   "execution_count": 6,
   "id": "442a6ce0-8205-4350-ae46-2e811870d97e",
   "metadata": {},
   "outputs": [
    {
     "name": "stdin",
     "output_type": "stream",
     "text": [
      "Enter the length of password: 10\n"
     ]
    },
    {
     "name": "stdout",
     "output_type": "stream",
     "text": [
      "Generated password: %1Fu6i%wqh\n"
     ]
    }
   ],
   "source": [
    "'''23. Develop a program that generates a random password based on user preferences (length, complexity)'''\n",
    "\n",
    "import random\n",
    "length = int(input(\"Enter the length of password:\"))\n",
    "list_of_char = \"ABCDEFGHIJKLMNOPQRSTUVWXYZabcdefghijklmnopqrstuvwxyz1234567890@#$%&*\"\n",
    "pass_str = \"\"\n",
    "for i in range(length):\n",
    "    pass_str = pass_str + random.choice(list_of_char)\n",
    "print(\"Generated password:\",pass_str)\n",
    "    "
   ]
  },
  {
   "cell_type": "code",
   "execution_count": 2,
   "id": "9f17b03b-7fe1-4bfb-9c57-e1aea26c564b",
   "metadata": {},
   "outputs": [
    {
     "name": "stdout",
     "output_type": "stream",
     "text": [
      "\n",
      "WELCOME! LET'S START THE ADVENTURE\n",
      "\n",
      "You are standing outside of your house and you see a man running towards you and asking for urgent shelter.\n",
      "\n",
      "Will you provide shelter to him. (Yes / No)\n",
      "\n"
     ]
    },
    {
     "name": "stdin",
     "output_type": "stream",
     "text": [
      ">> No\n"
     ]
    },
    {
     "name": "stdout",
     "output_type": "stream",
     "text": [
      "\n",
      "Now, he is trying to kill you. Will, you knock him down? (Yes / No)\n",
      "\n"
     ]
    },
    {
     "name": "stdin",
     "output_type": "stream",
     "text": [
      ">> yes\n"
     ]
    },
    {
     "name": "stdout",
     "output_type": "stream",
     "text": [
      "\n",
      "Congrats! He was a thief & You helped the police to catch him with your bravery.\n"
     ]
    }
   ],
   "source": [
    "'''24. Create a program that implements a simple text-based adventure game with branching scenarios.'''\n",
    "\n",
    "answer_yes = [\"Yes\", \"Y\", \"yes\", \"y\"]\n",
    "answer_no = [\"No\", \"N\", \"no\", \"n\"]\n",
    "\n",
    "print(\"\"\"\n",
    "WELCOME! LET'S START THE ADVENTURE\n",
    "\n",
    "You are standing outside of your house and you see a man running towards you and asking for urgent shelter.\n",
    "\n",
    "Will you provide shelter to him. (Yes / No)\n",
    "\"\"\")\n",
    "\n",
    "ans1 = input(\">>\")\n",
    "\n",
    "if ans1 in answer_yes:\n",
    "    print(\"\\nAfter 2 minutes, the Police came to your house, and ask you that whether the thief is in your house or not. Will you say (Yes / No)\\n\")\n",
    "\n",
    "    ans2 = input(\">>\")\n",
    "\n",
    "    if ans2 in answer_yes:\n",
    "        print(\"\\nYou are an honest person. He was a thief & You won the Game\")\n",
    "\n",
    "    elif ans2 in answer_no:\n",
    "        print(\"\\nYou helped a thief. Now, go to Jail. GAME OVER\")\n",
    "\n",
    "    else:\n",
    "        print(\"\\nYou typed the wrong input. GOODBYE!\")\n",
    "\n",
    "elif ans1 in answer_no:\n",
    "    print(\"\\nNow, he is trying to kill you. Will, you knock him down? (Yes / No)\\n\")\n",
    "\n",
    "    ans3 = input(\">>\")\n",
    "\n",
    "    if ans3 in answer_yes:\n",
    "        print(\"\\nCongrats! He was a thief & You helped the police to catch him with your bravery.\")\n",
    "\n",
    "    elif ans3 in answer_no:\n",
    "        print(\"\\nSorry! You are dead. He was a thief & He killed you. GAME OVER\")\n",
    "\n",
    "    else:\n",
    "        print(\"\\nYou typed the wrong input. GOODBYE!\")\n",
    "\n",
    "else:\n",
    "    print(\"\\nYou typed the wrong input. GOODBYE!\")"
   ]
  },
  {
   "cell_type": "code",
   "execution_count": 9,
   "id": "a76279b8-a07b-4a57-baf8-bc0104097dff",
   "metadata": {},
   "outputs": [
    {
     "name": "stdout",
     "output_type": "stream",
     "text": [
      "enter the coefficient of a , b and c:\n"
     ]
    },
    {
     "name": "stdin",
     "output_type": "stream",
     "text": [
      "Enter a: 3\n",
      "Enter b: 4\n",
      "Enter c: 5\n"
     ]
    },
    {
     "name": "stdout",
     "output_type": "stream",
     "text": [
      "The equation has one solutions:-1.6666666666666667\n"
     ]
    }
   ],
   "source": [
    "'''25. Build a program that solves a linear equation for x, considering different cases.'''\n",
    "\n",
    "def linear_equation(a,b,c):\n",
    "    if a == 0:\n",
    "        if b == 0:\n",
    "            print(\"The equation has no solutions.\")\n",
    "        else:\n",
    "            print(\"The equation has one solutions.\")\n",
    "    else:\n",
    "        x = -c / a\n",
    "        print(\"The equation has one solutions:\" + str(x))\n",
    "\n",
    "print(\"enter the coefficient of a , b and c:\")\n",
    "a = float(input(\"Enter a:\"))\n",
    "b = float(input(\"Enter b:\"))\n",
    "c = float(input(\"Enter c:\"))\n",
    "\n",
    "linear_equation(a,b,c)"
   ]
  },
  {
   "cell_type": "code",
   "execution_count": 1,
   "id": "c42ae8bd-d1f1-4195-abe8-51452b7da7f9",
   "metadata": {},
   "outputs": [
    {
     "name": "stdout",
     "output_type": "stream",
     "text": [
      "Wellcome to quiz game !!\n",
      "NOTE: if your spelling is incorrect then it is considered as wrong answer\n"
     ]
    },
    {
     "name": "stdin",
     "output_type": "stream",
     "text": [
      "Do you want to play ?  yes\n",
      "\n",
      "1. what does CPU stand for?  central processing unit\n"
     ]
    },
    {
     "name": "stdout",
     "output_type": "stream",
     "text": [
      "correct! you got 1 point\n"
     ]
    },
    {
     "name": "stdin",
     "output_type": "stream",
     "text": [
      "\n",
      "2. what does GPU stand for?  graphics processing unit\n"
     ]
    },
    {
     "name": "stdout",
     "output_type": "stream",
     "text": [
      "correct! you got 1 point\n"
     ]
    },
    {
     "name": "stdin",
     "output_type": "stream",
     "text": [
      "\n",
      "3. what does RAM stand for?  random access memory\n"
     ]
    },
    {
     "name": "stdout",
     "output_type": "stream",
     "text": [
      "correct! you got 1 point\n"
     ]
    },
    {
     "name": "stdin",
     "output_type": "stream",
     "text": [
      "\n",
      "4. what does PSU stand for?  power supply unit\n"
     ]
    },
    {
     "name": "stdout",
     "output_type": "stream",
     "text": [
      "correct! you got 1 point\n"
     ]
    },
    {
     "name": "stdin",
     "output_type": "stream",
     "text": [
      "\n",
      "5. what does ROM stand for?  read on memory\n"
     ]
    },
    {
     "name": "stdout",
     "output_type": "stream",
     "text": [
      "Incorrect!\n",
      "current answer is --> read only memory\n",
      "\n",
      " number of question is 5\n",
      "your score is 4\n",
      "80.0% questions are correct.\n"
     ]
    }
   ],
   "source": [
    "'''26. Write a program that simulates a basic quiz game with multiple-choice questions and scoring.'''\n",
    "\n",
    "print(\"Wellcome to quiz game !!\")\n",
    "print('NOTE: if your spelling is incorrect then it is considered as wrong answer')\n",
    "score = 0\n",
    "question_no = 0\n",
    "playing = input('Do you want to play ? ').lower()\n",
    "if playing == 'yes':\n",
    "    question_no += 1\n",
    "    ques = input(f'\\n{question_no}. what does CPU stand for? ').lower()\n",
    "    if ques == 'central processing unit':\n",
    "        score +=1\n",
    "        print('correct! you got 1 point')\n",
    "        \n",
    "    else:\n",
    "        print('Incorrect!')\n",
    "        print(f'current answer is --> central processing unit')\n",
    "\n",
    "    question_no += 1\n",
    "    ques = input(f'\\n{question_no}. what does GPU stand for? ').lower()\n",
    "    \n",
    "    if ques == 'graphics processing unit':\n",
    "        score +=1\n",
    "        print('correct! you got 1 point')\n",
    "        \n",
    "    else:\n",
    "        print('Incorrect!')\n",
    "        print(f'current answer is --> graphics processing unit')\n",
    "\n",
    "    question_no += 1\n",
    "    ques = input(f'\\n{question_no}. what does RAM stand for? ').lower()\n",
    "    \n",
    "    if ques == 'random access memory':\n",
    "        score +=1\n",
    "        print('correct! you got 1 point')\n",
    "        \n",
    "    else:\n",
    "        print('Incorrect!')\n",
    "        print(f'current answer is --> random access memory')\n",
    "\n",
    "    question_no += 1\n",
    "    ques = input(f'\\n{question_no}. what does PSU stand for? ').lower()\n",
    "    \n",
    "    if ques == 'power supply unit':\n",
    "        score +=1\n",
    "        print('correct! you got 1 point')\n",
    "        \n",
    "    else:\n",
    "        print('Incorrect!')\n",
    "        print(f'current answer is --> power supply unit')\n",
    "\n",
    "\n",
    "    question_no += 1\n",
    "    ques = input(f'\\n{question_no}. what does ROM stand for? ').lower()\n",
    "    \n",
    "    if ques == 'read only memory':\n",
    "        score +=1\n",
    "        print('correct! you got 1 point')\n",
    "        \n",
    "    else:\n",
    "        print('Incorrect!')\n",
    "        print(f'current answer is --> read only memory')\n",
    "\n",
    "else:\n",
    "    print('thankyou you are out of a game.')\n",
    "    quit()\n",
    "\n",
    "print(f'\\n number of question is {question_no}')\n",
    "print(f'your score is {score}')\n",
    "try:\n",
    "    percentage = (score *100)/question_no\n",
    "except ZeroDivisionError:\n",
    "    print('0% quetions are correct')\n",
    "\n",
    "print(f'{percentage}% questions are correct.')"
   ]
  },
  {
   "cell_type": "code",
   "execution_count": 14,
   "id": "ce206ea8-7665-451c-a433-611cdad711e8",
   "metadata": {},
   "outputs": [
    {
     "name": "stdin",
     "output_type": "stream",
     "text": [
      "Enter year: 2023\n"
     ]
    },
    {
     "name": "stdout",
     "output_type": "stream",
     "text": [
      "2023 Year is not prime number.\n"
     ]
    }
   ],
   "source": [
    "'''27. Develop a program that determines whether a given year is a prime number or not.'''\n",
    "\n",
    "year = int(input(\"Enter year:\"))\n",
    "\n",
    "if year>2:\n",
    "    for i in range(2,int(year/2)+1):\n",
    "        if (year % i == 0):\n",
    "            print(year,\"Year is not prime number.\")\n",
    "            break\n",
    "    else:\n",
    "        print(year,\"Year is prime number.\")\n",
    "else:\n",
    "    print(year,\"Year is not prime number.\")"
   ]
  },
  {
   "cell_type": "code",
   "execution_count": 17,
   "id": "0401e51d-191f-45a9-8c27-5c26d37e6e77",
   "metadata": {},
   "outputs": [
    {
     "name": "stdin",
     "output_type": "stream",
     "text": [
      "Enter a: 21\n",
      "Enter b: 15\n",
      "Enter c: 17\n"
     ]
    },
    {
     "name": "stdout",
     "output_type": "stream",
     "text": [
      "ascending order is: 15.0 , 17.0 , 21.0\n"
     ]
    }
   ],
   "source": [
    "'''28. Create a program that sorts three numbers in ascending order using conditional statements.'''\n",
    "\n",
    "a = float(input(\"Enter a:\"))\n",
    "b = float(input(\"Enter b:\"))\n",
    "c = float(input(\"Enter c:\"))\n",
    "\n",
    "if a > b:\n",
    "    a,b = b,a\n",
    "if a > c:\n",
    "    a,c = c,a\n",
    "if b > c:\n",
    "    b,c = c,b\n",
    "    \n",
    "print(f\"ascending order is: {a} , {b} , {c}\")"
   ]
  },
  {
   "cell_type": "code",
   "execution_count": 7,
   "id": "760ecfaf-1906-438d-97f3-fdc33b119375",
   "metadata": {},
   "outputs": [
    {
     "name": "stdout",
     "output_type": "stream",
     "text": [
      "Approximate root: 0.38184057286253836\n"
     ]
    }
   ],
   "source": [
    "'''29.Build a program that determines the roots of a quartic equation using numerical methods.'''\n",
    "\n",
    "import numpy as np\n",
    "import sympy as sp\n",
    "\n",
    "def quartic_equation(x, a, b, c, d, e):\n",
    "    return a * x**4 + b * x**3 + c * x**2 + d * x + e\n",
    "\n",
    "def quartic_derivative(x, a, b, c, d, e):\n",
    "    return 4 * a * x**3 + 3 * b * x**2 + 2 * c * x + d\n",
    "\n",
    "def newton_raphson_quartic(a, b, c, d, e, initial_guess, tolerance=1e-6, max_iterations=100):\n",
    "    x = initial_guess\n",
    "    for _ in range(max_iterations):\n",
    "        f_x = quartic_equation(x, a, b, c, d, e)\n",
    "        f_prime_x = quartic_derivative(x, a, b, c, d, e)\n",
    "        x -= f_x / f_prime_x\n",
    "\n",
    "        if abs(f_x) < tolerance:\n",
    "            return x\n",
    "    \n",
    "    raise Exception(\"Newton-Raphson method did not converge.\")\n",
    "\n",
    "if __name__ == \"__main__\":\n",
    "    # Coefficients of the quartic equation ax^4 + bx^3 + cx^2 + dx + e = 0\n",
    "    a = 1\n",
    "    b = -6\n",
    "    c = 11\n",
    "    d = -6\n",
    "    e = 1\n",
    "    \n",
    "    initial_guess = 0\n",
    "\n",
    "    root = newton_raphson_quartic(a, b, c, d, e, initial_guess)\n",
    "    print(f\"Approximate root: {root}\")"
   ]
  },
  {
   "cell_type": "code",
   "execution_count": 1,
   "id": "69db1677-901f-4d8c-9117-0b272c3641c1",
   "metadata": {},
   "outputs": [
    {
     "name": "stdin",
     "output_type": "stream",
     "text": [
      "Enter your height in cm:  154\n",
      "Enter your weight in kg:  60\n"
     ]
    },
    {
     "name": "stdout",
     "output_type": "stream",
     "text": [
      "Your BMI is:  25.2993759487266\n",
      "You are overweight.\n"
     ]
    }
   ],
   "source": [
    "'''30. Write a program that calculates the BMI (Body Mass Index) and provides health recommendations based\n",
    "on the user's input.'''\n",
    "\n",
    "h = float(input(\"Enter your height in cm: \"))\n",
    "w = float(input(\"Enter your weight in kg: \"))\n",
    "bmi = w/(h/100)**2  \n",
    "\n",
    "print(\"Your BMI is: \", bmi)\n",
    "\n",
    "if bmi <= 18.5:\n",
    "    print(\"You are underweight.\")\n",
    "elif 18.5 < bmi <= 24.9:\n",
    "    print(\"Your weight is normal.\")\n",
    "elif 25 < bmi <= 29.29:\n",
    "    print(\"You are overweight.\")\n",
    "else:\n",
    "    print(\"You are obese.\")"
   ]
  },
  {
   "cell_type": "code",
   "execution_count": 3,
   "id": "e06d5dbd-498e-4cb0-ad30-71d0314239a2",
   "metadata": {},
   "outputs": [],
   "source": [
    "#Challenge Level:"
   ]
  },
  {
   "cell_type": "code",
   "execution_count": 9,
   "id": "4c452ff2-028a-4f00-b629-bd1101e2e0f5",
   "metadata": {},
   "outputs": [
    {
     "name": "stdin",
     "output_type": "stream",
     "text": [
      "Enter your password Abcd@123Fg\n"
     ]
    },
    {
     "name": "stdout",
     "output_type": "stream",
     "text": [
      "valid password\n"
     ]
    }
   ],
   "source": [
    "'''31.Create a program that validates a password based on complexity rules (length, characters, etc.).'''\n",
    "\n",
    "import re\n",
    "pwd = input(\"Enter your password\")\n",
    "x = True\n",
    "while x:\n",
    "    if len(pwd) < 6 or len(pwd) >12:\n",
    "        break\n",
    "    elif not re.search(\"[a-z]\",pwd):\n",
    "        break\n",
    "    elif not re.search(\"[0-9]\",pwd):\n",
    "        break\n",
    "    elif not re.search(\"[A-Z]\",pwd):\n",
    "        break\n",
    "    elif not re.search(\"[!@#$%]\",pwd):\n",
    "        break\n",
    "    elif re.search(\"\\s\",pwd):\n",
    "        break\n",
    "    else:\n",
    "        print(\"valid password\")\n",
    "        x = False\n",
    "        break\n",
    "if x:\n",
    "    print(\"Invalid password\")\n",
    "        "
   ]
  },
  {
   "cell_type": "code",
   "execution_count": 14,
   "id": "25bdb8b3-4da4-4cac-a9ce-feddcf074ea3",
   "metadata": {},
   "outputs": [
    {
     "name": "stdin",
     "output_type": "stream",
     "text": [
      "Enter Number of rows for m1:  3\n",
      "Enter row:  1 2 3\n",
      "Enter row:  4 5 6\n",
      "Enter row:  7 8 9\n",
      "Enter Number of rows for m2: 3\n",
      "Enter row:  9 8 7\n",
      "Enter row:  6 5 4\n",
      "Enter row:  3 2 1\n"
     ]
    },
    {
     "name": "stdout",
     "output_type": "stream",
     "text": [
      "Add Matrix:\n",
      "[[10, 10, 10], [10, 10, 10], [10, 10, 10]]\n",
      "Subtract Matrix:\n",
      "[[-8, -6, -4], [-2, 0, 2], [4, 6, 8]]\n"
     ]
    }
   ],
   "source": [
    "'''32. Develop a program that performs matrix addition and subtraction based on user input.'''\n",
    "\n",
    "m1 = [list(map(int, input(\"Enter row: \").split(\" \")))\n",
    "      for i in range(int(input(\"Enter Number of rows for m1: \")))]\n",
    "\n",
    "m2 = [list(map(int, input(\"Enter row: \").split(\" \")))\n",
    "      for i in range(int(input(\"Enter Number of rows for m2:\")))]\n",
    "\n",
    "print(\"Add Matrix:\")\n",
    "r = [[m1[i][j] + m2[i][j]\n",
    "      for j in range(len(m1[0]))] for i in range(len(m1))]\n",
    "print(r)\n",
    "\n",
    "print(\"Subtract Matrix:\")\n",
    "r = [[m1[i][j] - m2[i][j]\n",
    "      for j in range(len(m1[0]))] for i in range(len(m1))]\n",
    "print(r)"
   ]
  },
  {
   "cell_type": "code",
   "execution_count": 6,
   "id": "81692684-acde-46e2-952f-69ef4a745bbb",
   "metadata": {},
   "outputs": [],
   "source": [
    "'''33. Write a program that calculates the greatest common divisor (GCD) of two numbers using the Euclidean\n",
    "algorithm.'''\n",
    "\n",
    "def gcd(a,b):\n",
    "    while b:\n",
    "        a,b=b,a%b\n",
    "    return a\n",
    "\n",
    "    gcd_value = gcd(a,b)\n",
    "    print(\"GCD of two number {} and {} is {}\".format(a,b,gcd_value))"
   ]
  },
  {
   "cell_type": "code",
   "execution_count": 7,
   "id": "5c6c67fe-13ee-49ca-ba0a-951b765ced35",
   "metadata": {},
   "outputs": [
    {
     "data": {
      "text/plain": [
       "9"
      ]
     },
     "execution_count": 7,
     "metadata": {},
     "output_type": "execute_result"
    }
   ],
   "source": [
    "gcd(45,54)"
   ]
  },
  {
   "cell_type": "code",
   "execution_count": 10,
   "id": "9f38f4f2-6954-4563-9d4e-f298b77aaddc",
   "metadata": {},
   "outputs": [
    {
     "name": "stdout",
     "output_type": "stream",
     "text": [
      "[[44, 61, 78], [54, 75, 96], [64, 89, 114]]\n",
      "[[64, 70], [154, 169]]\n"
     ]
    }
   ],
   "source": [
    "'''34. Build a program that performs matrix multiplication using nested loops and conditional statements.'''\n",
    "\n",
    "def matrix_multiplication(A,B):\n",
    "    n = len(A)\n",
    "    m = len(A[0])\n",
    "    p = len(B[0])\n",
    "    c = [[0 for i in range(p)] for j in range(n)]\n",
    "    for i in range(n):\n",
    "        for j in range(p):\n",
    "            for k in range (m):\n",
    "                c[i][j] += A[i][k] * B[k][j]\n",
    "    return c\n",
    "\n",
    "A = [[1,2,3],[4,5,6]]\n",
    "B = [[8,9],[10,11],[12,13]]\n",
    "c = matrix_multiplication(B,A)\n",
    "d = matrix_multiplication(A,B)\n",
    "print(c)\n",
    "print(d)"
   ]
  },
  {
   "cell_type": "code",
   "execution_count": 6,
   "id": "95e02a2a-18ab-48af-a11a-d17a8e918468",
   "metadata": {},
   "outputs": [
    {
     "name": "stdout",
     "output_type": "stream",
     "text": [
      "Welcome to Tic-Tac-Toe!\n",
      "  |   |  \n",
      "---------\n",
      "  |   |  \n",
      "---------\n",
      "  |   |  \n",
      "---------\n"
     ]
    },
    {
     "name": "stdin",
     "output_type": "stream",
     "text": [
      "Enter your move (1-9):  1\n"
     ]
    },
    {
     "name": "stdout",
     "output_type": "stream",
     "text": [
      "X |   |  \n",
      "---------\n",
      "  |   |  \n",
      "---------\n",
      "  |   |  \n",
      "---------\n",
      "Computer's turn:\n",
      "X |   |  \n",
      "---------\n",
      "  |   | O\n",
      "---------\n",
      "  |   |  \n",
      "---------\n"
     ]
    },
    {
     "name": "stdin",
     "output_type": "stream",
     "text": [
      "Enter your move (1-9):  2\n"
     ]
    },
    {
     "name": "stdout",
     "output_type": "stream",
     "text": [
      "X | X |  \n",
      "---------\n",
      "  |   | O\n",
      "---------\n",
      "  |   |  \n",
      "---------\n",
      "Computer's turn:\n",
      "X | X |  \n",
      "---------\n",
      "O |   | O\n",
      "---------\n",
      "  |   |  \n",
      "---------\n"
     ]
    },
    {
     "name": "stdin",
     "output_type": "stream",
     "text": [
      "Enter your move (1-9):  3\n"
     ]
    },
    {
     "name": "stdout",
     "output_type": "stream",
     "text": [
      "X | X | X\n",
      "---------\n",
      "O |   | O\n",
      "---------\n",
      "  |   |  \n",
      "---------\n",
      "X wins!\n"
     ]
    }
   ],
   "source": [
    "'''35. Create a program that simulates a basic text-based tic-tac-toe game against the computer.'''\n",
    "\n",
    "import random\n",
    "\n",
    "def print_board(board):\n",
    "    for row in board:\n",
    "        print(\" | \".join(row))\n",
    "        print(\"-\" * 9)\n",
    "\n",
    "def check_win(board, player):\n",
    "    for row in board:\n",
    "        if all(cell == player for cell in row):\n",
    "            return True\n",
    "\n",
    "    for col in range(3):\n",
    "        if all(board[row][col] == player for row in range(3)):\n",
    "            return True\n",
    "\n",
    "    if all(board[i][i] == player for i in range(3)) or all(board[i][2 - i] == player for i in range(3)):\n",
    "        return True\n",
    "\n",
    "    return False\n",
    "\n",
    "def is_board_full(board):\n",
    "    return all(cell != \" \" for row in board for cell in row)\n",
    "\n",
    "def get_player_move(board):\n",
    "    while True:\n",
    "        try:\n",
    "            move = int(input(\"Enter your move (1-9): \")) - 1\n",
    "            row, col = divmod(move, 3)\n",
    "            if 0 <= move <= 8 and board[row][col] == \" \":\n",
    "                return row, col\n",
    "            else:\n",
    "                print(\"Invalid move. Try again.\")\n",
    "        except (ValueError, IndexError):\n",
    "            print(\"Invalid input. Enter a number between 1 and 9.\")\n",
    "\n",
    "def get_computer_move(board):\n",
    "    empty_cells = [(row, col) for row in range(3) for col in range(3) if board[row][col] == \" \"]\n",
    "    return random.choice(empty_cells)\n",
    "\n",
    "def main():\n",
    "    board = [[\" \" for _ in range(3)] for _ in range(3)]\n",
    "    player = \"X\"\n",
    "    computer = \"O\"\n",
    "\n",
    "    print(\"Welcome to Tic-Tac-Toe!\")\n",
    "    print_board(board)\n",
    "\n",
    "    while True:\n",
    "        if player == \"X\":\n",
    "            row, col = get_player_move(board)\n",
    "        else:\n",
    "            print(\"Computer's turn:\")\n",
    "            row, col = get_computer_move(board)\n",
    "\n",
    "        board[row][col] = player\n",
    "        print_board(board)\n",
    "\n",
    "        if check_win(board, player):\n",
    "            print(f\"{player} wins!\")\n",
    "            break\n",
    "        elif is_board_full(board):\n",
    "            print(\"It's a tie!\")\n",
    "            break\n",
    "\n",
    "        player = \"X\" if player == \"O\" else \"O\"\n",
    "\n",
    "if __name__ == \"__main__\":\n",
    "    main()"
   ]
  },
  {
   "cell_type": "code",
   "execution_count": 12,
   "id": "ce907fec-d2a4-4927-b1c8-4a08513e05ba",
   "metadata": {},
   "outputs": [
    {
     "name": "stdin",
     "output_type": "stream",
     "text": [
      "Enter the range of fibonacci: 13\n"
     ]
    },
    {
     "name": "stdout",
     "output_type": "stream",
     "text": [
      "0 1 1 2 3 5 8 13 21 34 55 89 144 "
     ]
    }
   ],
   "source": [
    "'''36. Write a program that generates Fibonacci numbers up to a specified term using iterative methods.'''\n",
    "\n",
    "def test(n):\n",
    "    a,b = 0,1\n",
    "    for i in range(n):\n",
    "        yield a\n",
    "        a,b = b,a+b\n",
    "        \n",
    "n = int(input(\"Enter the range of fibonacci:\"))\n",
    "for i in test(n):\n",
    "    print(i,end=\" \")"
   ]
  },
  {
   "cell_type": "code",
   "execution_count": 15,
   "id": "90f045e8-0793-43a1-a385-fa4f33cc0932",
   "metadata": {},
   "outputs": [
    {
     "name": "stdout",
     "output_type": "stream",
     "text": [
      "144\n"
     ]
    }
   ],
   "source": [
    "'''37. Develop a program that calculates the nth term of the Fibonacci sequence using memoization.'''\n",
    "\n",
    "def Fibonacci(n):\n",
    "    if n<=0:\n",
    "        print(\"Incorrect number\")\n",
    "    elif n == 1:\n",
    "        return 0\n",
    "    elif n == 2:\n",
    "        return 1\n",
    "    else:\n",
    "        return Fibonacci(n-1)+Fibonacci(n-2)\n",
    "print(Fibonacci(13))"
   ]
  },
  {
   "cell_type": "code",
   "execution_count": 18,
   "id": "afc1d802-3fb3-4a89-8dad-a78e6b36586c",
   "metadata": {},
   "outputs": [
    {
     "name": "stdin",
     "output_type": "stream",
     "text": [
      "Enter a year: 1999\n",
      "Enter a month(1-12): 3\n"
     ]
    },
    {
     "name": "stdout",
     "output_type": "stream",
     "text": [
      "     March 1999\n",
      "Mo Tu We Th Fr Sa Su\n",
      " 1  2  3  4  5  6  7\n",
      " 8  9 10 11 12 13 14\n",
      "15 16 17 18 19 20 21\n",
      "22 23 24 25 26 27 28\n",
      "29 30 31\n",
      "\n"
     ]
    }
   ],
   "source": [
    "'''38. Create a program that generates a calendar for a given month and year using conditional statements.'''\n",
    "\n",
    "import calendar\n",
    "year = int(input(\"Enter a year:\"))\n",
    "month = int(input(\"Enter a month(1-12):\"))\n",
    "if year > 1950 and month <= 12 and month >=1:\n",
    "    cal = calendar.month(year,month)\n",
    "    print(cal)\n",
    "else:\n",
    "    print(\"Invalid year or month\")"
   ]
  },
  {
   "cell_type": "code",
   "execution_count": 4,
   "id": "211dd08c-0779-45a8-a2f4-91d6edddf51f",
   "metadata": {},
   "outputs": [
    {
     "name": "stdout",
     "output_type": "stream",
     "text": [
      "Your hand: [7, 10] (score: 17 )\n",
      "Hit (h) or stand (s)?\n"
     ]
    },
    {
     "name": "stdin",
     "output_type": "stream",
     "text": [
      " h\n"
     ]
    },
    {
     "name": "stdout",
     "output_type": "stream",
     "text": [
      "Your hand: [7, 10, 10] (score: 27 )\n",
      "Hit (h) or stand (s)?\n"
     ]
    },
    {
     "name": "stdin",
     "output_type": "stream",
     "text": [
      " s\n"
     ]
    },
    {
     "name": "stdout",
     "output_type": "stream",
     "text": [
      "You lose!\n"
     ]
    }
   ],
   "source": [
    "'''39. Build a program that simulates a basic text-based blackjack game against the computer.'''\n",
    "\n",
    "import random\n",
    "\n",
    "def deal_card():\n",
    "    card_value = random.randint(1, 13)\n",
    "    if card_value <= 10:\n",
    "        return card_value\n",
    "    else:\n",
    "        return 10\n",
    "\n",
    "def calculate_score(hand):\n",
    "    score = 0\n",
    "    for card in hand:\n",
    "        if card == 1:\n",
    "            score += 11\n",
    "        else:\n",
    "            score += card\n",
    "\n",
    "    if score <= 21 and 1 in hand:\n",
    "        score += 10\n",
    "    return score\n",
    "\n",
    "def play_blackjack():\n",
    "    player_hand = []\n",
    "    dealer_hand = []\n",
    "\n",
    "\n",
    "    for _ in range(2):\n",
    "        player_hand.append(deal_card())\n",
    "        dealer_hand.append(deal_card())\n",
    "\n",
    "    while True:\n",
    "        print(\"Your hand:\", player_hand, \"(score:\", calculate_score(player_hand), \")\")\n",
    "        print(\"Hit (h) or stand (s)?\")\n",
    "        action = input()\n",
    "        if action == \"h\":\n",
    "            player_hand.append(deal_card())\n",
    "        else:\n",
    "            break\n",
    "\n",
    "    while calculate_score(dealer_hand) < 17:\n",
    "        dealer_hand.append(deal_card())\n",
    "\n",
    "    if calculate_score(player_hand) > 21:\n",
    "        return \"You lose!\"\n",
    "    elif calculate_score(dealer_hand) > 21:\n",
    "        return \"Dealer lose!\"\n",
    "    elif calculate_score(player_hand) > calculate_score(dealer_hand):\n",
    "        return \"You win!\"\n",
    "    else:\n",
    "        return \"Dealer wins!\"\n",
    "\n",
    "if __name__ == \"__main__\":\n",
    "    print(play_blackjack())"
   ]
  },
  {
   "cell_type": "code",
   "execution_count": 27,
   "id": "d8213d31-bd90-4352-ad75-8ffdfefca7c9",
   "metadata": {},
   "outputs": [
    {
     "name": "stdout",
     "output_type": "stream",
     "text": [
      "5\n"
     ]
    }
   ],
   "source": [
    "'''40. Write a program that generates the prime factors of a given number using trial division.'''\n",
    "\n",
    "def largest_prime_factor(n):  \n",
    "    i = 2  \n",
    "    while i * i <= n:  \n",
    "        if n % i:  \n",
    "            i += 1  \n",
    "        else:  \n",
    "            n //= i  \n",
    "    return n  \n",
    "  \n",
    "print(largest_prime_factor(45))"
   ]
  }
 ],
 "metadata": {
  "kernelspec": {
   "display_name": "Python 3 (ipykernel)",
   "language": "python",
   "name": "python3"
  },
  "language_info": {
   "codemirror_mode": {
    "name": "ipython",
    "version": 3
   },
   "file_extension": ".py",
   "mimetype": "text/x-python",
   "name": "python",
   "nbconvert_exporter": "python",
   "pygments_lexer": "ipython3",
   "version": "3.10.8"
  }
 },
 "nbformat": 4,
 "nbformat_minor": 5
}
