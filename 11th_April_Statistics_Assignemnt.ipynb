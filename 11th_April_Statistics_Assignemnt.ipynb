{
 "cells": [
  {
   "cell_type": "code",
   "execution_count": 1,
   "id": "09e868db-3975-4b07-936e-a454f3468939",
   "metadata": {},
   "outputs": [],
   "source": [
    "import numpy as np\n",
    "import pandas as pd\n",
    "import scipy as stats\n",
    "import statistics\n",
    "import matplotlib.pyplot as plt\n",
    "import seaborn as sns\n",
    "import warnings\n",
    "warnings.filterwarnings(\"ignore\")"
   ]
  },
  {
   "cell_type": "markdown",
   "id": "d3086f29-be92-4653-926a-94086f7eef0e",
   "metadata": {},
   "source": [
    "1. Generate a list of 100 integers containing values between 90 to 130 and store it in the variable int_list. After generating the list, find the following:\n",
    "\n",
    "(i) Write a Python function to calculate the mean of a given list of numbers.\n",
    "\n",
    "Create a function to find the median of a list of numbers.\n",
    "\n",
    "(ii) Develop a program to compute the mode of a list of integers.\n",
    "\n",
    "(iii) Implement a function to calculate the weighted mean of a list of values and their corresponding weights.\n",
    "\n",
    "(iv) Write a Python function to find the geometric mean of a list of positive numbers.\n",
    "\n",
    "(v) Create a program to calculate the harmonic mean of a list of values.\n",
    "\n",
    "(vi) Build a function to determine the midrange of a list of numbers (average of the minimum and maximum).\n",
    "\n",
    "(vii) Implement a Python program to find the trimmed mean of a list, excluding a certain percentage of outliers"
   ]
  },
  {
   "cell_type": "code",
   "execution_count": 2,
   "id": "16d18e71-0675-4c5d-95fc-b9df835fa53d",
   "metadata": {},
   "outputs": [
    {
     "data": {
      "text/plain": [
       "array([121, 113,  95, 100,  91, 128,  95, 103, 126, 125, 102, 112,  96,\n",
       "       126, 112, 125, 103, 119, 124,  96, 116,  99, 101, 101,  94, 116,\n",
       "       103, 103, 116,  91, 124,  93, 113,  91, 114, 108, 112, 112, 106,\n",
       "        90,  94, 113, 129,  91,  99, 119,  90, 127, 121, 102,  98, 123,\n",
       "       124, 104, 129, 100, 118, 128, 127, 120, 127,  96, 104,  94, 115,\n",
       "       117, 118, 126, 116, 113, 126,  96, 117, 108, 107,  97, 119,  99,\n",
       "       118,  92, 129, 111,  98, 103, 129, 100, 118, 105, 125, 112, 106,\n",
       "        97, 123, 101, 119, 106, 127, 120, 104, 101])"
      ]
     },
     "execution_count": 2,
     "metadata": {},
     "output_type": "execute_result"
    }
   ],
   "source": [
    "int_list =np.random.randint(90,130,100)\n",
    "int_list"
   ]
  },
  {
   "cell_type": "markdown",
   "id": "5b2875c4-2d88-4a21-b021-3fb995a7bb37",
   "metadata": {},
   "source": [
    "(i) Write a Python function to calculate the mean of a given list of numbers.Create a function to find the median of a list of numbers."
   ]
  },
  {
   "cell_type": "code",
   "execution_count": 4,
   "id": "2b6880f4-77d5-4360-ae29-7637fb2c342d",
   "metadata": {},
   "outputs": [
    {
     "data": {
      "text/plain": [
       "110.1"
      ]
     },
     "execution_count": 4,
     "metadata": {},
     "output_type": "execute_result"
    }
   ],
   "source": [
    "#Mean of Given List\n",
    "int_list_mean = np.mean(int_list)\n",
    "int_list_mean"
   ]
  },
  {
   "cell_type": "code",
   "execution_count": 5,
   "id": "e7d93f56-89d0-42dc-aef3-20fd40995b3b",
   "metadata": {},
   "outputs": [
    {
     "data": {
      "text/plain": [
       "112.0"
      ]
     },
     "execution_count": 5,
     "metadata": {},
     "output_type": "execute_result"
    }
   ],
   "source": [
    "#Median Of given list\n",
    "int_list_median =np.median(int_list)\n",
    "int_list_median"
   ]
  },
  {
   "cell_type": "markdown",
   "id": "f4fc6823-e433-43fd-a4c9-a403286cfb65",
   "metadata": {},
   "source": [
    "(ii) Develop a program to compute the mode of a list of integers."
   ]
  },
  {
   "cell_type": "code",
   "execution_count": 8,
   "id": "6608d943-6440-4569-8ca6-bdbdee148ef8",
   "metadata": {},
   "outputs": [
    {
     "data": {
      "text/plain": [
       "103"
      ]
     },
     "execution_count": 8,
     "metadata": {},
     "output_type": "execute_result"
    }
   ],
   "source": [
    "int_list_median = statistics.mode(int_list)\n",
    "int_list_median"
   ]
  },
  {
   "cell_type": "markdown",
   "id": "14f05c8d-a052-4c65-bee8-cda8b3572839",
   "metadata": {},
   "source": [
    "(iii) Implement a function to calculate the weighted mean of a list of values and their corresponding weights."
   ]
  },
  {
   "cell_type": "code",
   "execution_count": 9,
   "id": "23e8e5d4-e9cb-40ac-ab4c-c7226c7838dc",
   "metadata": {},
   "outputs": [
    {
     "data": {
      "text/plain": [
       "array([121, 113,  95, 100,  91, 128,  95, 103, 126, 125, 102, 112,  96,\n",
       "       126, 112, 125, 103, 119, 124,  96, 116,  99, 101, 101,  94, 116,\n",
       "       103, 103, 116,  91, 124,  93, 113,  91, 114, 108, 112, 112, 106,\n",
       "        90,  94, 113, 129,  91,  99, 119,  90, 127, 121, 102,  98, 123,\n",
       "       124, 104, 129, 100, 118, 128, 127, 120, 127,  96, 104,  94, 115,\n",
       "       117, 118, 126, 116, 113, 126,  96, 117, 108, 107,  97, 119,  99,\n",
       "       118,  92, 129, 111,  98, 103, 129, 100, 118, 105, 125, 112, 106,\n",
       "        97, 123, 101, 119, 106, 127, 120, 104, 101])"
      ]
     },
     "execution_count": 9,
     "metadata": {},
     "output_type": "execute_result"
    }
   ],
   "source": [
    "int_list"
   ]
  },
  {
   "cell_type": "code",
   "execution_count": 10,
   "id": "168c3224-3a14-4acf-95cc-f022a30e6115",
   "metadata": {},
   "outputs": [],
   "source": [
    "weight_values =np.arange(1,100+1)"
   ]
  },
  {
   "cell_type": "code",
   "execution_count": 11,
   "id": "6e5ed0f2-2beb-42e5-bf4f-b7e58097a2bf",
   "metadata": {},
   "outputs": [
    {
     "data": {
      "text/plain": [
       "110.77821782178218"
      ]
     },
     "execution_count": 11,
     "metadata": {},
     "output_type": "execute_result"
    }
   ],
   "source": [
    "# Calculated weighted mean \n",
    "weighted_mean =np.average(int_list ,weights=weight_values)\n",
    "weighted_mean"
   ]
  },
  {
   "cell_type": "code",
   "execution_count": 12,
   "id": "e487958c-19ce-4e85-9c66-9230aac2ffaa",
   "metadata": {},
   "outputs": [
    {
     "data": {
      "text/plain": [
       "110.77821782178218"
      ]
     },
     "execution_count": 12,
     "metadata": {},
     "output_type": "execute_result"
    }
   ],
   "source": [
    "## avg =sum(a *weight)/sum(weight)\n",
    "\n",
    "Weighted_mean_value =sum(int_list*weight_values)/sum(weight_values)\n",
    "Weighted_mean_value"
   ]
  },
  {
   "cell_type": "markdown",
   "id": "bbb12b0d-0f96-4c2c-86c5-c49cc74528ed",
   "metadata": {},
   "source": [
    "(iv) Write a Python function to find the geometric mean of a list of positive numbers."
   ]
  },
  {
   "cell_type": "code",
   "execution_count": 13,
   "id": "4e4ecdbf-2f9c-42e9-bfc0-31335d50aec3",
   "metadata": {},
   "outputs": [
    {
     "data": {
      "text/plain": [
       "1.0975337226652349"
      ]
     },
     "execution_count": 13,
     "metadata": {},
     "output_type": "execute_result"
    }
   ],
   "source": [
    "# Geometric mean = (x1 * x2 * x3 * . . . * xn)1/n \n",
    "\n",
    "geometric_mean =sum(int_list)**(1/len(int_list))\n",
    "geometric_mean"
   ]
  },
  {
   "cell_type": "code",
   "execution_count": 14,
   "id": "94e1744a-1d4c-4b96-b6da-2ed4b3e4bc19",
   "metadata": {},
   "outputs": [
    {
     "data": {
      "text/plain": [
       "109.44681290752621"
      ]
     },
     "execution_count": 14,
     "metadata": {},
     "output_type": "execute_result"
    }
   ],
   "source": [
    "from statistics import geometric_mean\n",
    "geometric_mean(int_list)"
   ]
  },
  {
   "cell_type": "code",
   "execution_count": 15,
   "id": "ae7555ee-5d72-48a2-8a03-824550da5cec",
   "metadata": {},
   "outputs": [
    {
     "name": "stdout",
     "output_type": "stream",
     "text": [
      "109.44681290752621\n"
     ]
    }
   ],
   "source": [
    "from scipy import stats\n",
    "print(stats.gmean(int_list))"
   ]
  },
  {
   "cell_type": "markdown",
   "id": "70e5972f-e050-4208-8c3a-ea450958000d",
   "metadata": {},
   "source": [
    "(v) Create a program to calculate the harmonic mean of a list of values."
   ]
  },
  {
   "cell_type": "code",
   "execution_count": 16,
   "id": "da9deb93-0177-48a5-addf-8e300f374f6c",
   "metadata": {},
   "outputs": [
    {
     "data": {
      "text/plain": [
       "108.79185349953887"
      ]
     },
     "execution_count": 16,
     "metadata": {},
     "output_type": "execute_result"
    }
   ],
   "source": [
    "# Formula = n / (1/a +1/b +1/c +....1/c)\n",
    "\n",
    "import statistics\n",
    "harmonic_mean =statistics.harmonic_mean(int_list)\n",
    "harmonic_mean"
   ]
  },
  {
   "cell_type": "markdown",
   "id": "f4fd0ca7-c5fc-425c-b0fb-040372d34cd2",
   "metadata": {},
   "source": [
    "(vi) Build a function to determine the midrange of a list of numbers (average of the minimum and maximum)."
   ]
  },
  {
   "cell_type": "code",
   "execution_count": 17,
   "id": "76511570-9d75-4b99-baaf-004f632d5262",
   "metadata": {},
   "outputs": [
    {
     "name": "stdout",
     "output_type": "stream",
     "text": [
      "109.5\n"
     ]
    }
   ],
   "source": [
    "def MinMax_value(lst):\n",
    "    # Find min and max values \n",
    "    min_value =min(lst)\n",
    "    max_value =max(lst)\n",
    "    avarage =(min_value +max_value)/2\n",
    "    \n",
    "    return avarage\n",
    "\n",
    "print(MinMax_value(int_list))"
   ]
  },
  {
   "cell_type": "markdown",
   "id": "df9166a2-2ba1-4031-aef3-8c22641b3bde",
   "metadata": {},
   "source": [
    "(vii) Implement a Python program to find the trimmed mean of a list, excluding a certain percentage of outliers."
   ]
  },
  {
   "cell_type": "code",
   "execution_count": 18,
   "id": "fe0e4fb7-d850-4959-9f1d-22d370f8f8da",
   "metadata": {},
   "outputs": [
    {
     "data": {
      "text/plain": [
       "110.1625"
      ]
     },
     "execution_count": 18,
     "metadata": {},
     "output_type": "execute_result"
    }
   ],
   "source": [
    "from scipy import stats\n",
    "\n",
    "trim_mean =stats.trim_mean(int_list,proportiontocut=0.1)\n",
    "trim_mean"
   ]
  },
  {
   "cell_type": "markdown",
   "id": "2134e31d-0809-4bd4-bb93-9c0faf739995",
   "metadata": {},
   "source": [
    "2. Generate a list of 500 integers containing values between 200 to 300 and store it in the variable int_list2. After generating the list, find the following:\n",
    "\n",
    " (i) Compare the given list of visualization for the given data:\n",
    "\n",
    "    1. Frequency & Gaussian distribution\n",
    "\n",
    "    2. Frequency smoothened KDE plot\n",
    "\n",
    "    3. Gaussian distribution & smoothened KDE plot\n",
    "\n",
    "\n",
    "  (ii) Write a Python function to calculate the range of a given list of numbers.\n",
    "\n",
    "\n",
    "  (iii) Create a program to find the variance and standard deviation of a list of numbers.\n",
    "\n",
    "\n",
    "  (iv) Implement a function to compute the interquartile range (IQR) of a list of values.\n",
    "\n",
    "\n",
    "  (v) Build a program to calculate the coefficient of variation for a dataset.\n",
    "\n",
    "  \n",
    "\n",
    "  (vi) Write a Python function to find the mean absolute deviation (MAD) of a list of numbers.\n",
    "\n",
    "\n",
    "  (vii) Create a program to calculate the quartile deviation of a list of values.\n",
    "\n",
    "  \n",
    "\n",
    "  (viii) Implement a function to find the range-based coefficient of dispersion for a dataset."
   ]
  },
  {
   "cell_type": "code",
   "execution_count": 19,
   "id": "23fc8f7e-17f4-4f90-a730-066229ae4eba",
   "metadata": {},
   "outputs": [
    {
     "data": {
      "text/plain": [
       "array([225, 249, 248, 266, 294, 256, 278, 246, 230, 243, 240, 211, 298,\n",
       "       203, 212, 284, 276, 294, 276, 260, 259, 293, 219, 256, 203, 259,\n",
       "       280, 264, 296, 204, 217, 273, 221, 271, 260, 282, 209, 230, 287,\n",
       "       225, 245, 277, 263, 296, 210, 291, 268, 204, 222, 294, 226, 218,\n",
       "       229, 257, 233, 278, 219, 272, 228, 290, 209, 245, 220, 224, 244,\n",
       "       262, 285, 227, 217, 216, 231, 290, 225, 249, 257, 228, 290, 212,\n",
       "       222, 220, 286, 286, 268, 238, 208, 205, 288, 281, 264, 293, 239,\n",
       "       260, 246, 209, 230, 207, 241, 246, 264, 226, 261, 229, 252, 238,\n",
       "       292, 230, 263, 232, 249, 200, 243, 282, 225, 244, 211, 212, 257,\n",
       "       234, 297, 299, 209, 217, 228, 217, 252, 295, 211, 231, 211, 235,\n",
       "       292, 231, 241, 218, 202, 259, 255, 264, 219, 292, 222, 224, 221,\n",
       "       238, 281, 259, 282, 228, 282, 227, 299, 214, 258, 280, 214, 263,\n",
       "       236, 297, 235, 251, 245, 267, 238, 204, 246, 226, 292, 221, 298,\n",
       "       247, 275, 212, 208, 240, 243, 260, 296, 283, 258, 281, 256, 236,\n",
       "       290, 283, 220, 266, 259, 226, 255, 236, 229, 299, 221, 265, 250,\n",
       "       286, 235, 268, 240, 299, 226, 261, 231, 282, 234, 232, 239, 248,\n",
       "       257, 258, 298, 231, 212, 277, 236, 244, 207, 205, 267, 203, 220,\n",
       "       212, 227, 268, 285, 211, 284, 205, 222, 217, 218, 220, 296, 252,\n",
       "       232, 282, 265, 222, 242, 224, 220, 230, 224, 209, 243, 228, 238,\n",
       "       291, 279, 232, 207, 289, 296, 285, 282, 246, 200, 244, 234, 286,\n",
       "       262, 250, 225, 268, 267, 233, 263, 253, 263, 218, 246, 287, 210,\n",
       "       274, 238, 276, 270, 236, 225, 222, 255, 202, 225, 287, 242, 230,\n",
       "       244, 233, 299, 297, 254, 205, 250, 267, 211, 282, 216, 223, 258,\n",
       "       274, 266, 239, 273, 209, 272, 214, 272, 223, 220, 295, 279, 231,\n",
       "       294, 232, 236, 245, 207, 295, 294, 298, 228, 277, 263, 258, 230,\n",
       "       214, 268, 267, 226, 200, 272, 298, 262, 224, 244, 208, 296, 292,\n",
       "       291, 204, 231, 251, 262, 256, 274, 290, 282, 260, 226, 287, 222,\n",
       "       299, 230, 203, 239, 262, 260, 217, 272, 214, 205, 249, 255, 232,\n",
       "       217, 203, 251, 217, 282, 245, 243, 217, 277, 296, 277, 234, 285,\n",
       "       217, 280, 289, 242, 298, 211, 262, 281, 224, 255, 245, 298, 274,\n",
       "       256, 218, 295, 268, 247, 237, 294, 286, 294, 256, 233, 279, 214,\n",
       "       288, 283, 206, 231, 221, 248, 272, 285, 225, 278, 247, 231, 222,\n",
       "       278, 231, 265, 291, 223, 229, 245, 219, 214, 233, 293, 237, 232,\n",
       "       210, 266, 280, 244, 204, 218, 268, 230, 284, 220, 227, 255, 239,\n",
       "       234, 290, 290, 288, 266, 222, 282, 207, 217, 271, 218, 274, 205,\n",
       "       236, 257, 294, 208, 262, 280, 244, 237, 284, 276, 297, 205, 290,\n",
       "       246, 243, 261, 240, 214, 287, 289, 277, 225, 286, 282, 271, 224,\n",
       "       276, 219, 234, 284, 277, 284, 258, 299, 203, 208, 239, 210, 283,\n",
       "       242, 284, 281, 243, 248, 283])"
      ]
     },
     "execution_count": 19,
     "metadata": {},
     "output_type": "execute_result"
    }
   ],
   "source": [
    "int_list2 =np.random.randint(200,300,size=500)\n",
    "int_list2"
   ]
  },
  {
   "cell_type": "markdown",
   "id": "ef443c4a-e4a4-4d4e-9871-1163312da11f",
   "metadata": {},
   "source": [
    "(i) Compare the given list of visualization for the given data:\n",
    "\n",
    "1. Frequency & Gaussian distribution\n",
    "\n",
    "2. Frequency smoothened KDE plot\n",
    "\n",
    "3. Gaussian distribution & smoothened KDE plot"
   ]
  },
  {
   "cell_type": "markdown",
   "id": "1e00a31d-19c4-4b27-b1bd-09e34e8d3d68",
   "metadata": {},
   "source": [
    "1. Frequency & Gaussian distribution"
   ]
  },
  {
   "cell_type": "code",
   "execution_count": 22,
   "id": "47a2f330-1229-4cfa-9554-d8b5cc75e6f2",
   "metadata": {},
   "outputs": [
    {
     "data": {
      "image/png": "[encoded data removed]",
      "text/plain": [
       "<Figure size 640x480 with 1 Axes>"
      ]
     },
     "metadata": {},
     "output_type": "display_data"
    }
   ],
   "source": [
    "mean_list =statistics.mean(int_list2)\n",
    "std_dev =statistics.stdev(int_list2)\n",
    "\n",
    "g =np.random.normal(mean_list ,std_dev ,size=1000)\n",
    "\n",
    "sns.histplot(g,stat=\"frequency\",kde=True)\n",
    "plt.show()"
   ]
  },
  {
   "cell_type": "markdown",
   "id": "773e8c16-2404-4ca7-84cc-6383359c7c82",
   "metadata": {},
   "source": [
    "2. Frequency smoothened KDE plot."
   ]
  },
  {
   "cell_type": "code",
   "execution_count": 23,
   "id": "046377f0-df57-46f6-a660-b443c8fdf195",
   "metadata": {},
   "outputs": [
    {
     "data": {
      "image/png": "[encoded data removed]",
      "text/plain": [
       "<Figure size 640x480 with 1 Axes>"
      ]
     },
     "metadata": {},
     "output_type": "display_data"
    }
   ],
   "source": [
    "sns.kdeplot(int_list2)\n",
    "plt.show()"
   ]
  },
  {
   "cell_type": "markdown",
   "id": "079b36c3-cc31-46e9-80fd-2553943eae8f",
   "metadata": {},
   "source": [
    "3. Gaussian distribution & smoothened KDE plot."
   ]
  },
  {
   "cell_type": "code",
   "execution_count": 24,
   "id": "0637500c-11b2-48ce-a69b-b15630a2bd48",
   "metadata": {},
   "outputs": [
    {
     "data": {
      "image/png": "[encoded data removed]",
      "text/plain": [
       "<Figure size 640x480 with 1 Axes>"
      ]
     },
     "metadata": {},
     "output_type": "display_data"
    }
   ],
   "source": [
    "sns.kdeplot(g)\n",
    "plt.show()"
   ]
  },
  {
   "cell_type": "markdown",
   "id": "6ae46540-f826-4b31-985a-f5bf7eb4c43d",
   "metadata": {},
   "source": [
    "(ii) Write a Python function to calculate the range of a given list of numbers."
   ]
  },
  {
   "cell_type": "code",
   "execution_count": 25,
   "id": "19e2b042-cbf8-45c3-ada2-d9d5c00982f2",
   "metadata": {},
   "outputs": [
    {
     "name": "stdout",
     "output_type": "stream",
     "text": [
      "99\n"
     ]
    }
   ],
   "source": [
    "def RangeOfList(n):\n",
    "    max_list =max(n)\n",
    "    min_list =min(n)\n",
    "    \n",
    "    rangelist =(max_list - min_list)\n",
    "    return rangelist\n",
    "\n",
    "print(RangeOfList(int_list2))"
   ]
  },
  {
   "cell_type": "markdown",
   "id": "82d20243-bbd1-4fd8-97b0-96af993e6d33",
   "metadata": {},
   "source": [
    "(iii) Create a program to find the variance and standard deviation of a list of numbers."
   ]
  },
  {
   "cell_type": "code",
   "execution_count": 27,
   "id": "2692828c-6e80-4838-b67c-b1e027ae93c8",
   "metadata": {},
   "outputs": [
    {
     "data": {
      "text/plain": [
       "833"
      ]
     },
     "execution_count": 27,
     "metadata": {},
     "output_type": "execute_result"
    }
   ],
   "source": [
    "# Variance \n",
    "import statistics\n",
    "variance =statistics.variance(int_list2)\n",
    "variance"
   ]
  },
  {
   "cell_type": "code",
   "execution_count": 28,
   "id": "e9450d92-ce61-4f4f-bdcd-fa1ae0d114aa",
   "metadata": {},
   "outputs": [
    {
     "data": {
      "text/plain": [
       "28.861739379323623"
      ]
     },
     "execution_count": 28,
     "metadata": {},
     "output_type": "execute_result"
    }
   ],
   "source": [
    "# standard deviation\n",
    "std_dev =statistics.stdev(int_list2)\n",
    "std_dev"
   ]
  },
  {
   "cell_type": "markdown",
   "id": "12b6c907-9856-4f39-9416-61211aa2bb29",
   "metadata": {},
   "source": [
    "(iv) Implement a function to compute the interquartile range (IQR) of a list of values."
   ]
  },
  {
   "cell_type": "code",
   "execution_count": 30,
   "id": "52edbcea-9c86-4b59-85df-3b166d77b90c",
   "metadata": {},
   "outputs": [
    {
     "name": "stdout",
     "output_type": "stream",
     "text": [
      "225.0  ,  277.0\n"
     ]
    }
   ],
   "source": [
    "q1 = np.percentile(int_list2,25)\n",
    "q3 =np.percentile(int_list2,75)\n",
    "print(q1,\" , \",q3)"
   ]
  },
  {
   "cell_type": "code",
   "execution_count": 31,
   "id": "154beb61-24a2-4e64-9915-5e0620569e14",
   "metadata": {},
   "outputs": [
    {
     "data": {
      "text/plain": [
       "52.0"
      ]
     },
     "execution_count": 31,
     "metadata": {},
     "output_type": "execute_result"
    }
   ],
   "source": [
    "IQR = q3-q1\n",
    "IQR"
   ]
  },
  {
   "cell_type": "markdown",
   "id": "51251a76-76de-4ead-87d0-0b29da10cee9",
   "metadata": {},
   "source": [
    "(v) Build a program to calculate the coefficient of variation for a dataset."
   ]
  },
  {
   "cell_type": "code",
   "execution_count": 32,
   "id": "6a814331-1fe9-4b83-9eb2-3c6c4bd14a2c",
   "metadata": {},
   "outputs": [
    {
     "name": "stdout",
     "output_type": "stream",
     "text": [
      "11.55467255165809\n"
     ]
    }
   ],
   "source": [
    "def CoeffVar(n):\n",
    "    \n",
    "    mean =np.mean(n)\n",
    "    std_dev =np.std(n)\n",
    "    \n",
    "    coeficient_ofVaritions = std_dev /mean*100\n",
    "    return coeficient_ofVaritions\n",
    "\n",
    "print(CoeffVar(int_list2))"
   ]
  },
  {
   "cell_type": "markdown",
   "id": "f6436c93-8d44-451e-848b-a572de459150",
   "metadata": {},
   "source": [
    "(vi) Write a Python function to find the mean absolute deviation (MAD) of a list of numbers."
   ]
  },
  {
   "cell_type": "code",
   "execution_count": 33,
   "id": "65ab8624-6445-4f6f-8755-3d0d37ac67ff",
   "metadata": {},
   "outputs": [
    {
     "data": {
      "text/plain": [
       "0    25.296512\n",
       "dtype: float64"
      ]
     },
     "execution_count": 33,
     "metadata": {},
     "output_type": "execute_result"
    }
   ],
   "source": [
    "Mean_absolute_dev =pd.DataFrame(int_list2)\n",
    "Mean_absolute_dev.mad()"
   ]
  },
  {
   "cell_type": "markdown",
   "id": "0e4ed25f-86f3-41b2-81ca-c7279bc6b46e",
   "metadata": {},
   "source": [
    "(vii) Create a program to calculate the quartile deviation of a list of values."
   ]
  },
  {
   "cell_type": "code",
   "execution_count": 34,
   "id": "6fd09c96-1f42-42ab-8be7-fe9a6dfdd12c",
   "metadata": {},
   "outputs": [
    {
     "data": {
      "text/plain": [
       "26.0"
      ]
     },
     "execution_count": 34,
     "metadata": {},
     "output_type": "execute_result"
    }
   ],
   "source": [
    "def Quartile_dev(value):\n",
    "    value.sort()\n",
    "    \n",
    "    q1 =np.percentile(value ,25)\n",
    "    q3 =np.percentile(value ,75)\n",
    "    \n",
    "    qd =(q3-q1)/2\n",
    "    \n",
    "    return qd\n",
    "\n",
    "Quartile_dev(int_list2)"
   ]
  },
  {
   "cell_type": "markdown",
   "id": "746f9c83-50f5-4330-a2d4-c292dc47b04b",
   "metadata": {},
   "source": [
    "(viii) Implement a function to find the range-based coefficient of dispersion for a dataset."
   ]
  },
  {
   "cell_type": "code",
   "execution_count": 35,
   "id": "e8ef3cba-58f2-45b5-99cd-bc737cf69235",
   "metadata": {},
   "outputs": [
    {
     "data": {
      "text/plain": [
       "0.3965520003845353"
      ]
     },
     "execution_count": 35,
     "metadata": {},
     "output_type": "execute_result"
    }
   ],
   "source": [
    "def coefficient_of_dispersion(data):\n",
    "    if len(data) == 0:\n",
    "        raise ValueError(\"Dataset is empty\")\n",
    "\n",
    "    range_value = max(data) - min(data)\n",
    "    mean_value = sum(data) / len(data)\n",
    "\n",
    "    return range_value / mean_value\n",
    "\n",
    "coefficient_of_dispersion(int_list2)\n"
   ]
  },
  {
   "cell_type": "markdown",
   "id": "d58a1b07-0dbb-4b8e-878a-0132b2baab43",
   "metadata": {},
   "source": [
    "3. Write a Python class representing a discrete random variable with methods to calculate its expected value and variance."
   ]
  },
  {
   "cell_type": "code",
   "execution_count": 36,
   "id": "b65730f1-ce60-4a7b-b30a-f49baaafdd38",
   "metadata": {},
   "outputs": [
    {
     "name": "stdout",
     "output_type": "stream",
     "text": [
      "Expected Values is==> 3.0\n",
      "Variance is ==> 2.0\n"
     ]
    }
   ],
   "source": [
    "class DiscreateRandomVariable :\n",
    "    \n",
    "    def __init__(self,outcomes,probabilities):\n",
    "        self.outcomes =outcomes\n",
    "        self.probabilities =probabilities\n",
    "        if(len(outcomes) != len(probabilities)):\n",
    "            print(\"No of outcomes and probabilties are not equal\")\n",
    "            \n",
    "    def Expected_value(self):\n",
    "        return sum(outcome * prob for outcome,prob in zip(self.outcomes ,self.probabilities))\n",
    "    \n",
    "    def Variance(self):\n",
    "        Expected_value =self.Expected_value()\n",
    "        return sum(prob *(outcome -Expected_value)**2 for outcome ,prob in zip(self.outcomes,self.probabilities))\n",
    "    \n",
    "outcomes =[1,2,3,4,5]\n",
    "probabilities =[1/5,1/5,1/5,1/5,1/5]\n",
    "\n",
    "RandomVar =DiscreateRandomVariable(outcomes,probabilities)\n",
    "\n",
    "print(\"Expected Values is==>\",RandomVar.Expected_value())\n",
    "print(\"Variance is ==>\",RandomVar.Variance())"
   ]
  },
  {
   "cell_type": "markdown",
   "id": "f2061238-fd49-4be2-a1f5-8fa8cba4a7cc",
   "metadata": {},
   "source": [
    "4. Implement a program to simulate the rolling of a fair six-sided die and calculate the expected value and variance o6 the outcomes."
   ]
  },
  {
   "cell_type": "code",
   "execution_count": 37,
   "id": "7ed05ad6-47e7-4fe1-8856-afa53a7bddaa",
   "metadata": {},
   "outputs": [
    {
     "name": "stdout",
     "output_type": "stream",
     "text": [
      "expected value is :--> 3.5015\n",
      "Variance is :--> 2.921597750000012\n"
     ]
    }
   ],
   "source": [
    "import random\n",
    "\n",
    "def roll_die():\n",
    "    return random.randint(1,6)\n",
    "\n",
    "def simulate_rolls(num_roll):\n",
    "    rolls =[roll_die() for i in range(num_roll)]\n",
    "    return rolls\n",
    "\n",
    "def calculate_expected_value(rolls):\n",
    "    return sum(rolls)/len(rolls)\n",
    "\n",
    "def calculate_variance(rolls,expected_value):\n",
    "    return sum((x- expected_value)**2 for x in rolls)/len(rolls)\n",
    "\n",
    "num_rolls = 10000\n",
    "rolls = simulate_rolls(num_rolls)\n",
    "# print(rolls)\n",
    "\n",
    "expected_value =calculate_expected_value(rolls)\n",
    "print(\"expected value is :-->\",expected_value)\n",
    "\n",
    "Variance =calculate_variance(rolls,expected_value)\n",
    "print(\"Variance is :-->\",Variance)"
   ]
  },
  {
   "cell_type": "markdown",
   "id": "142742fe-c2cb-4279-a2a3-da2ede6c5977",
   "metadata": {},
   "source": [
    "5. Create a Python function to generate random samples from a given probabilit distribution (e.g., binomial, Poisson) and calculate their mean and variance."
   ]
  },
  {
   "cell_type": "code",
   "execution_count": 38,
   "id": "8c956b2b-001f-429e-9423-0c604ac72a0e",
   "metadata": {},
   "outputs": [
    {
     "data": {
      "image/png": "[encoded data removed]",
      "text/plain": [
       "<Figure size 640x480 with 1 Axes>"
      ]
     },
     "metadata": {},
     "output_type": "display_data"
    }
   ],
   "source": [
    "ProbDist_binomial =np.random.binomial(n=1, p=0.5, size=1000)\n",
    "plt.hist(ProbDist_binomial)\n",
    "plt.show()"
   ]
  },
  {
   "cell_type": "code",
   "execution_count": 39,
   "id": "80a48fc2-acfa-49dc-bc83-c5fdf1b0659b",
   "metadata": {},
   "outputs": [
    {
     "data": {
      "image/png": "[encoded data removed]",
      "text/plain": [
       "<Figure size 640x480 with 1 Axes>"
      ]
     },
     "metadata": {},
     "output_type": "display_data"
    }
   ],
   "source": [
    "ProbDist_poisson = np.random.poisson(lam=1.0, size=1000)\n",
    "plt.hist(ProbDist_poisson)\n",
    "plt.show()"
   ]
  },
  {
   "cell_type": "code",
   "execution_count": 40,
   "id": "744c7c31-738a-4917-b12a-78ec8c9cf470",
   "metadata": {},
   "outputs": [
    {
     "name": "stdout",
     "output_type": "stream",
     "text": [
      "Mean ==> 0.534\n"
     ]
    }
   ],
   "source": [
    "Mean_of_Binonial =np.mean(ProbDist_binomial)\n",
    "print(\"Mean ==>\",Mean_of_Binonial)"
   ]
  },
  {
   "cell_type": "code",
   "execution_count": 41,
   "id": "de34df7c-57ae-490d-875f-2ca2a4d58f13",
   "metadata": {},
   "outputs": [
    {
     "name": "stdout",
     "output_type": "stream",
     "text": [
      "Variance ==> 0.24884400000000004\n"
     ]
    }
   ],
   "source": [
    "Variance_of_Binonial =np.var(ProbDist_binomial)\n",
    "print(\"Variance ==>\",Variance_of_Binonial)"
   ]
  },
  {
   "cell_type": "markdown",
   "id": "4235ac8c-439c-472f-9c4c-e73b5409642f",
   "metadata": {},
   "source": [
    "6. Write a Python script to generate random numbers from a Gaussian (normal) distribution and compute the mean, variance, and standard deviation of the samples."
   ]
  },
  {
   "cell_type": "code",
   "execution_count": 42,
   "id": "db2b8d4b-3487-414d-8377-d0ae263c3759",
   "metadata": {},
   "outputs": [
    {
     "data": {
      "image/png": "[encoded data removed]",
      "text/plain": [
       "<Figure size 640x480 with 1 Axes>"
      ]
     },
     "metadata": {},
     "output_type": "display_data"
    }
   ],
   "source": [
    "normal_distrubution = np.random.normal(loc=0.0, scale=0.1, size=1000)\n",
    "plt.hist(normal_distrubution)\n",
    "plt.show()"
   ]
  },
  {
   "cell_type": "code",
   "execution_count": 43,
   "id": "bc7b98fd-b3ab-49e1-9ab7-bcea2aef65b6",
   "metadata": {},
   "outputs": [
    {
     "name": "stdout",
     "output_type": "stream",
     "text": [
      "Mean ==> 0.00024171248216686104\n"
     ]
    }
   ],
   "source": [
    "mean_normalDist =np.mean(normal_distrubution)\n",
    "print(\"Mean ==>\",mean_normalDist)"
   ]
  },
  {
   "cell_type": "code",
   "execution_count": 44,
   "id": "36b9d2d2-fd09-4e47-8102-4b1a44eca95e",
   "metadata": {},
   "outputs": [
    {
     "name": "stdout",
     "output_type": "stream",
     "text": [
      "Variance ==> 0.00024171248216686104\n"
     ]
    }
   ],
   "source": [
    "Variance_normalDist =np.mean(normal_distrubution)\n",
    "print(\"Variance ==>\",Variance_normalDist)"
   ]
  },
  {
   "cell_type": "code",
   "execution_count": 45,
   "id": "325d4ea7-5577-4e2a-bc53-2428beb37f67",
   "metadata": {},
   "outputs": [
    {
     "name": "stdout",
     "output_type": "stream",
     "text": [
      "std dev ==> 0.09911979923999448\n"
     ]
    }
   ],
   "source": [
    "stdev_normalDist =np.std(normal_distrubution)\n",
    "print(\"std dev ==>\",stdev_normalDist)"
   ]
  },
  {
   "cell_type": "markdown",
   "id": "6a17d5d9-1a98-40c8-80c2-3c0c744ee4f5",
   "metadata": {},
   "source": [
    "7. Use seaborn library to load tips dataset. Find the following from the dataset 6or the columns total_bill and tip."
   ]
  },
  {
   "cell_type": "code",
   "execution_count": 47,
   "id": "57e7e79b-ab62-4d59-93eb-fc5b34f111c0",
   "metadata": {},
   "outputs": [
    {
     "data": {
      "text/html": [
       "<div>\n",
       "<style scoped>\n",
       "    .dataframe tbody tr th:only-of-type {\n",
       "        vertical-align: middle;\n",
       "    }\n",
       "\n",
       "    .dataframe tbody tr th {\n",
       "        vertical-align: top;\n",
       "    }\n",
       "\n",
       "    .dataframe thead th {\n",
       "        text-align: right;\n",
       "    }\n",
       "</style>\n",
       "<table border=\"1\" class=\"dataframe\">\n",
       "  <thead>\n",
       "    <tr style=\"text-align: right;\">\n",
       "      <th></th>\n",
       "      <th>total_bill</th>\n",
       "      <th>tip</th>\n",
       "      <th>sex</th>\n",
       "      <th>smoker</th>\n",
       "      <th>day</th>\n",
       "      <th>time</th>\n",
       "      <th>size</th>\n",
       "    </tr>\n",
       "  </thead>\n",
       "  <tbody>\n",
       "    <tr>\n",
       "      <th>0</th>\n",
       "      <td>16.99</td>\n",
       "      <td>1.01</td>\n",
       "      <td>Female</td>\n",
       "      <td>No</td>\n",
       "      <td>Sun</td>\n",
       "      <td>Dinner</td>\n",
       "      <td>2</td>\n",
       "    </tr>\n",
       "    <tr>\n",
       "      <th>1</th>\n",
       "      <td>10.34</td>\n",
       "      <td>1.66</td>\n",
       "      <td>Male</td>\n",
       "      <td>No</td>\n",
       "      <td>Sun</td>\n",
       "      <td>Dinner</td>\n",
       "      <td>3</td>\n",
       "    </tr>\n",
       "    <tr>\n",
       "      <th>2</th>\n",
       "      <td>21.01</td>\n",
       "      <td>3.50</td>\n",
       "      <td>Male</td>\n",
       "      <td>No</td>\n",
       "      <td>Sun</td>\n",
       "      <td>Dinner</td>\n",
       "      <td>3</td>\n",
       "    </tr>\n",
       "    <tr>\n",
       "      <th>3</th>\n",
       "      <td>23.68</td>\n",
       "      <td>3.31</td>\n",
       "      <td>Male</td>\n",
       "      <td>No</td>\n",
       "      <td>Sun</td>\n",
       "      <td>Dinner</td>\n",
       "      <td>2</td>\n",
       "    </tr>\n",
       "    <tr>\n",
       "      <th>4</th>\n",
       "      <td>24.59</td>\n",
       "      <td>3.61</td>\n",
       "      <td>Female</td>\n",
       "      <td>No</td>\n",
       "      <td>Sun</td>\n",
       "      <td>Dinner</td>\n",
       "      <td>4</td>\n",
       "    </tr>\n",
       "  </tbody>\n",
       "</table>\n",
       "</div>"
      ],
      "text/plain": [
       "   total_bill   tip     sex smoker  day    time  size\n",
       "0       16.99  1.01  Female     No  Sun  Dinner     2\n",
       "1       10.34  1.66    Male     No  Sun  Dinner     3\n",
       "2       21.01  3.50    Male     No  Sun  Dinner     3\n",
       "3       23.68  3.31    Male     No  Sun  Dinner     2\n",
       "4       24.59  3.61  Female     No  Sun  Dinner     4"
      ]
     },
     "execution_count": 47,
     "metadata": {},
     "output_type": "execute_result"
    }
   ],
   "source": [
    "df =sns.load_dataset(\"tips\")\n",
    "df.head()"
   ]
  },
  {
   "cell_type": "markdown",
   "id": "17267938-47ba-4a71-bd31-2fc50dd88e6e",
   "metadata": {},
   "source": [
    "(i) Write a Python function that calculates their skewness"
   ]
  },
  {
   "cell_type": "code",
   "execution_count": 48,
   "id": "a31db938-8472-4144-b05d-aaf2d17ddf01",
   "metadata": {},
   "outputs": [
    {
     "name": "stdout",
     "output_type": "stream",
     "text": [
      "total_bill skewness is :>>  1.1262346334818638\n",
      "tip skewness is :>>  1.4564266884221506\n"
     ]
    }
   ],
   "source": [
    "two_columns =df[[\"total_bill\",\"tip\"]]\n",
    "\n",
    "for sk in two_columns :\n",
    "    skewness =stats.skew(df[sk])\n",
    "    print(f\"{sk} skewness is :>>  {skewness}\")"
   ]
  },
  {
   "cell_type": "markdown",
   "id": "383d167e-53c5-4d7c-b289-52bf30ee15ae",
   "metadata": {},
   "source": [
    "(ii) Create a program that determines whether the columns exhibit positive skewness, negative skewness, or is approximately symmetric."
   ]
  },
  {
   "cell_type": "code",
   "execution_count": 49,
   "id": "c4dd89a4-0536-4ee6-89af-9ac2d10d733e",
   "metadata": {},
   "outputs": [
    {
     "data": {
      "image/png": "[encoded data removed]",
      "text/plain": [
       "<Figure size 500x500 with 1 Axes>"
      ]
     },
     "metadata": {},
     "output_type": "display_data"
    }
   ],
   "source": [
    "sns.displot(df[\"total_bill\"],kind=\"kde\")\n",
    "plt.show()"
   ]
  },
  {
   "cell_type": "markdown",
   "id": "1032a7f4-6a55-49d1-acb4-5b04c73fd06c",
   "metadata": {},
   "source": [
    "Observation and Insight\n",
    "\n",
    "1. Total bill columns data has right skewed it means these belong to positive skewness\n",
    "2. it is approximately symmetric."
   ]
  },
  {
   "cell_type": "code",
   "execution_count": 50,
   "id": "112e8dc3-6d02-46e0-bc66-7aa959bd6e66",
   "metadata": {},
   "outputs": [
    {
     "data": {
      "image/png": "[encoded data removed]",
      "text/plain": [
       "<Figure size 500x500 with 1 Axes>"
      ]
     },
     "metadata": {},
     "output_type": "display_data"
    }
   ],
   "source": [
    "sns.displot(df[\"tip\"],kind=\"kde\")\n",
    "plt.show()"
   ]
  },
  {
   "cell_type": "markdown",
   "id": "5557fbcf-8f04-4ca1-993d-94946030f5aa",
   "metadata": {},
   "source": [
    "Observation and Insight\n",
    "\n",
    "1. Tip columns data has right skewed it means these belong to positive skewness.\n",
    "2. It is approximately symmetric."
   ]
  },
  {
   "cell_type": "markdown",
   "id": "2171aa45-fa94-4d03-8401-d4f6df375777",
   "metadata": {},
   "source": [
    "(iii) Write a function that calculates the covariance between two columns."
   ]
  },
  {
   "cell_type": "code",
   "execution_count": 52,
   "id": "b97443c7-6d16-489e-b066-a2d41d9d540b",
   "metadata": {},
   "outputs": [
    {
     "data": {
      "text/html": [
       "<div>\n",
       "<style scoped>\n",
       "    .dataframe tbody tr th:only-of-type {\n",
       "        vertical-align: middle;\n",
       "    }\n",
       "\n",
       "    .dataframe tbody tr th {\n",
       "        vertical-align: top;\n",
       "    }\n",
       "\n",
       "    .dataframe thead th {\n",
       "        text-align: right;\n",
       "    }\n",
       "</style>\n",
       "<table border=\"1\" class=\"dataframe\">\n",
       "  <thead>\n",
       "    <tr style=\"text-align: right;\">\n",
       "      <th></th>\n",
       "      <th>total_bill</th>\n",
       "      <th>tip</th>\n",
       "    </tr>\n",
       "  </thead>\n",
       "  <tbody>\n",
       "    <tr>\n",
       "      <th>total_bill</th>\n",
       "      <td>79.252939</td>\n",
       "      <td>8.323502</td>\n",
       "    </tr>\n",
       "    <tr>\n",
       "      <th>tip</th>\n",
       "      <td>8.323502</td>\n",
       "      <td>1.914455</td>\n",
       "    </tr>\n",
       "  </tbody>\n",
       "</table>\n",
       "</div>"
      ],
      "text/plain": [
       "            total_bill       tip\n",
       "total_bill   79.252939  8.323502\n",
       "tip           8.323502  1.914455"
      ]
     },
     "execution_count": 52,
     "metadata": {},
     "output_type": "execute_result"
    }
   ],
   "source": [
    "df[[\"total_bill\",\"tip\"]].cov()"
   ]
  },
  {
   "cell_type": "code",
   "execution_count": 53,
   "id": "1da53047-3201-47e3-8eef-f6a68b66fc70",
   "metadata": {},
   "outputs": [
    {
     "data": {
      "text/plain": [
       "8.323501629224854"
      ]
     },
     "execution_count": 53,
     "metadata": {},
     "output_type": "execute_result"
    }
   ],
   "source": [
    "df[\"total_bill\"].cov(df[\"tip\"])"
   ]
  },
  {
   "cell_type": "code",
   "execution_count": 54,
   "id": "35c8f567-cb20-47e7-bcb4-baa76198b0b3",
   "metadata": {},
   "outputs": [
    {
     "data": {
      "text/plain": [
       "8.323501629224854"
      ]
     },
     "execution_count": 54,
     "metadata": {},
     "output_type": "execute_result"
    }
   ],
   "source": [
    "df[\"tip\"].cov(df[\"total_bill\"])"
   ]
  },
  {
   "cell_type": "markdown",
   "id": "3289550f-7b72-4550-b9dd-75a0b3381d1d",
   "metadata": {},
   "source": [
    "Observation and Insight\n",
    "\n",
    "1. As per observation if total bill is increase tip tends to move in positive direction."
   ]
  },
  {
   "cell_type": "markdown",
   "id": "95a257a5-1cba-42a1-b14b-d54c73e615d1",
   "metadata": {},
   "source": [
    "(iv) Implement a Python program that calculates the Pearson correlation coefficient between two columns."
   ]
  },
  {
   "cell_type": "code",
   "execution_count": 56,
   "id": "9d445038-f252-4e3b-b040-77b81530e44d",
   "metadata": {},
   "outputs": [
    {
     "data": {
      "text/html": [
       "<div>\n",
       "<style scoped>\n",
       "    .dataframe tbody tr th:only-of-type {\n",
       "        vertical-align: middle;\n",
       "    }\n",
       "\n",
       "    .dataframe tbody tr th {\n",
       "        vertical-align: top;\n",
       "    }\n",
       "\n",
       "    .dataframe thead th {\n",
       "        text-align: right;\n",
       "    }\n",
       "</style>\n",
       "<table border=\"1\" class=\"dataframe\">\n",
       "  <thead>\n",
       "    <tr style=\"text-align: right;\">\n",
       "      <th></th>\n",
       "      <th>total_bill</th>\n",
       "      <th>tip</th>\n",
       "    </tr>\n",
       "  </thead>\n",
       "  <tbody>\n",
       "    <tr>\n",
       "      <th>total_bill</th>\n",
       "      <td>1.000000</td>\n",
       "      <td>0.675734</td>\n",
       "    </tr>\n",
       "    <tr>\n",
       "      <th>tip</th>\n",
       "      <td>0.675734</td>\n",
       "      <td>1.000000</td>\n",
       "    </tr>\n",
       "  </tbody>\n",
       "</table>\n",
       "</div>"
      ],
      "text/plain": [
       "            total_bill       tip\n",
       "total_bill    1.000000  0.675734\n",
       "tip           0.675734  1.000000"
      ]
     },
     "execution_count": 56,
     "metadata": {},
     "output_type": "execute_result"
    }
   ],
   "source": [
    "two_columns.corr()"
   ]
  },
  {
   "cell_type": "markdown",
   "id": "a53bce9d-077b-4e52-b33c-e262dc298abf",
   "metadata": {},
   "source": [
    "Observation And Insight\n",
    "\n",
    "1. if there is change in total bill so there is 67% chance to increase in tip."
   ]
  },
  {
   "cell_type": "markdown",
   "id": "fd36cf43-0168-46b8-84ae-242b1f88773f",
   "metadata": {},
   "source": [
    "(v) Write a script to visualize the correlation between two specific columns in a Pandas DataFrame using scatter plots."
   ]
  },
  {
   "cell_type": "code",
   "execution_count": 57,
   "id": "4a861b45-cb3a-497e-8f8e-b041c2bb3092",
   "metadata": {},
   "outputs": [
    {
     "data": {
      "image/png": "[encoded data removed]",
      "text/plain": [
       "<Figure size 640x480 with 1 Axes>"
      ]
     },
     "metadata": {},
     "output_type": "display_data"
    }
   ],
   "source": [
    "sns.scatterplot(x=\"total_bill\",y=\"tip\",data=df,c=\"blue\")\n",
    "plt.xlabel(\"Total bill\")\n",
    "plt.ylabel(\"tip\")\n",
    "plt.show()"
   ]
  },
  {
   "cell_type": "markdown",
   "id": "b6be779f-5ce8-4037-9e25-4de457e5318e",
   "metadata": {},
   "source": [
    "Observation And Insight\n",
    "\n",
    "1. if there is change in total bill so there is much chance to increase in tip."
   ]
  },
  {
   "cell_type": "markdown",
   "id": "1924801f-6a11-49c1-89ff-3f5637096d6b",
   "metadata": {},
   "source": [
    "8. Write a Python function to calculate the probability density function (PDF) of a continuous random variable for a given normal distribution."
   ]
  },
  {
   "cell_type": "code",
   "execution_count": 58,
   "id": "b799739d-e300-4bdf-b87c-318943e406f6",
   "metadata": {},
   "outputs": [
    {
     "name": "stdout",
     "output_type": "stream",
     "text": [
      "Pdf at i=-2: 0.05399096651318806\n",
      "Pdf at i=-1: 0.24197072451914337\n",
      "Pdf at i=0: 0.3989422804014327\n",
      "Pdf at i=1: 0.24197072451914337\n",
      "Pdf at i=2: 0.05399096651318806\n"
     ]
    }
   ],
   "source": [
    "import scipy.stats as stats\n",
    "def Pdf(x ,mu,sigma):\n",
    "    return stats.norm(mu,sigma).pdf(x)\n",
    "\n",
    "mu =0\n",
    "sigma =1\n",
    "x_values = [-2, -1, 0, 1, 2]\n",
    "\n",
    "for i in x_values :\n",
    "    pdf_values =Pdf(i,mu ,sigma)\n",
    "    print(f\"Pdf at i={i}: {pdf_values}\")"
   ]
  },
  {
   "cell_type": "markdown",
   "id": "5c379b7b-2806-4387-b865-58a2796722d7",
   "metadata": {},
   "source": [
    "9. Create a program to calculate the cumulative distribution function (CDF) of exponential distribution."
   ]
  },
  {
   "cell_type": "code",
   "execution_count": 59,
   "id": "9c763f8e-efc2-4f1f-bdb3-eee9301aa57a",
   "metadata": {},
   "outputs": [
    {
     "name": "stdout",
     "output_type": "stream",
     "text": [
      "CDF at x=1: 0.3934693402873666\n",
      "CDF at x=2: 0.6321205588285577\n",
      "CDF at x=3: 0.7768698398515702\n",
      "CDF at x=4: 0.8646647167633873\n",
      "CDF at x=5: 0.9179150013761012\n"
     ]
    }
   ],
   "source": [
    "import math\n",
    "\n",
    "def exponential_cdf(x, rate_parameter):\n",
    "    return 1 - math.exp(-rate_parameter * x)\n",
    "\n",
    "# Example usage\n",
    "rate_parameter = 0.5  # lambda\n",
    "x_values = [1, 2, 3, 4, 5]\n",
    "\n",
    "for x in x_values:\n",
    "    cdf_value = exponential_cdf(x, rate_parameter)\n",
    "    print(f\"CDF at x={x}: {cdf_value}\")"
   ]
  },
  {
   "cell_type": "markdown",
   "id": "f4cb14dd-3275-484a-9426-ee4ce1a749c1",
   "metadata": {},
   "source": [
    "10. Write a Python function to calculate the probability mass function (PMF) of Poisson distribution."
   ]
  },
  {
   "cell_type": "code",
   "execution_count": 60,
   "id": "f3b0b443-aab4-4b77-ad42-dc73d9880ae8",
   "metadata": {},
   "outputs": [
    {
     "name": "stdout",
     "output_type": "stream",
     "text": [
      "PMF at k=0: 0.0820849986238988\n",
      "PMF at k=1: 0.205212496559747\n",
      "PMF at k=2: 0.25651562069968376\n",
      "PMF at k=3: 0.21376301724973645\n",
      "PMF at k=4: 0.13360188578108528\n"
     ]
    }
   ],
   "source": [
    "import math\n",
    "\n",
    "def poisson_pmf(k, rate_parameter):\n",
    "    return math.exp(-rate_parameter) * (rate_parameter ** k) / math.factorial(k)\n",
    "\n",
    "# Example usage\n",
    "rate_parameter = 2.5  # lambda\n",
    "k_values = [0, 1, 2, 3, 4]\n",
    "\n",
    "for k in k_values:\n",
    "    pmf_value = poisson_pmf(k, rate_parameter)\n",
    "    print(f\"PMF at k={k}: {pmf_value}\")"
   ]
  },
  {
   "cell_type": "markdown",
   "id": "2c9c3d22-73ce-4481-a319-177227b2242d",
   "metadata": {},
   "source": [
    "11. A company wants to test iN a new website layout leads to a higher conversion rate (percentage oN visitors who make a purchase). They collect data Nrom the old and new layouts to compare.\n",
    "\n",
    "To generate the data use the following command:"
   ]
  },
  {
   "cell_type": "code",
   "execution_count": 62,
   "id": "74c32ff9-2c2e-43d8-9f77-0800729b4049",
   "metadata": {},
   "outputs": [],
   "source": [
    "import numpy as np\n",
    "\n",
    "#50 purchases out of 1000 visitors\n",
    "\n",
    "old_layout = np.array([1] * 50 + [0] * 950)\n",
    "\n",
    "#70 purchases out of 1000 visitors  \n",
    "\n",
    "new_layout = np.array([1] * 70 + [0] * 930)"
   ]
  },
  {
   "cell_type": "markdown",
   "id": "ab4d8f51-6dc3-4a92-a288-4f1a9ee6eac1",
   "metadata": {},
   "source": [
    "Apply z-test to find which layout is successful."
   ]
  },
  {
   "cell_type": "code",
   "execution_count": 63,
   "id": "774f247a-2feb-45ba-b91d-5264ecd51a8b",
   "metadata": {},
   "outputs": [
    {
     "name": "stdout",
     "output_type": "stream",
     "text": [
      "zstats -1.883108942886774 and pval 0.059685605532426224\n",
      "There is no significant difference in conversion rates between the old and new layouts.\n"
     ]
    }
   ],
   "source": [
    "from statsmodels.stats.proportion import proportions_ztest\n",
    "\n",
    "# 50 Purchase out of 1000\n",
    "old_layout = np.array([1] * 50 + [0] * 950)\n",
    "# 70 Purchase out of 1000\n",
    "new_layout = np.array([1] * 70 + [0] * 930)\n",
    "\n",
    "## Success and Trial is \n",
    "sucess =np.array([sum(old_layout),sum(new_layout)])\n",
    "trail  =np.array([len(old_layout),len(new_layout)])\n",
    "\n",
    "## Apply ztest for differance in praportion\n",
    "zstat ,pvalue =proportions_ztest(sucess ,trail,alternative=\"two-sided\")\n",
    "print(\"zstats {} and pval {}\".format(zstat,pvalue))\n",
    "# print(zstat, pvalue)\n",
    "alpha =0.05\n",
    "if pvalue < alpha :\n",
    "    print(\"The new layout leads to a significantly higher conversion rate.\")\n",
    "    \n",
    "else:\n",
    "    print(\"There is no significant difference in conversion rates between the old and new layouts.\")"
   ]
  },
  {
   "cell_type": "markdown",
   "id": "a8200e08-aeb4-4561-a275-3af3b46adf6a",
   "metadata": {},
   "source": [
    "12. A tutoring service claims that its program improves students' exam scores. A sample oN students who participated in the program was taken, and their scores beNore and aNter the program were recorded.\n",
    "\n",
    "Use the below code to genrate samples of respective arrays of marks:"
   ]
  },
  {
   "cell_type": "code",
   "execution_count": 64,
   "id": "b8259085-bbe6-46f0-8c84-353e6562ebf0",
   "metadata": {},
   "outputs": [],
   "source": [
    "before_program = np.array([75, 80, 85, 70, 90, 78, 92, 88, 82, 87])\n",
    "\n",
    "after_program = np.array([80, 85, 90, 80, 92, 80, 95, 90, 85, 88])\n"
   ]
  },
  {
   "cell_type": "markdown",
   "id": "86dcc01a-5edc-423a-b16d-30c381c5df83",
   "metadata": {},
   "source": [
    "Use z-test to find if the claims made by tutor are true or false"
   ]
  },
  {
   "cell_type": "code",
   "execution_count": 65,
   "id": "4229c10f-e171-43b3-991d-fa3fb5417236",
   "metadata": {},
   "outputs": [
    {
     "name": "stdout",
     "output_type": "stream",
     "text": [
      "z-score -1.3600371723457605 and p value 0.17381816101827674\n",
      "==========================================\n",
      "Tuter has claimed False ==>Failed to reject H0\n"
     ]
    }
   ],
   "source": [
    "from statsmodels.stats.weightstats import ztest\n",
    "# Sample score before and after program\n",
    "before_program =np.array([75, 80, 85, 70, 90, 78, 92, 88, 82, 87])\n",
    "after_program = np.array([80, 85, 90, 80, 92, 80, 95, 90, 85, 88])\n",
    "alpha =0.05 \n",
    "\n",
    "z_score ,pvalue =ztest(before_program,after_program)\n",
    "\n",
    "print(\"z-score {} and p value {}\".format(z_score,pvalue))\n",
    "print(\"==========================================\")\n",
    "\n",
    "if(pvalue < alpha):\n",
    "    print(\"Tuter has claimed True ==> Reject H0\")\n",
    "    \n",
    "else:\n",
    "    print(\"Tuter has claimed False ==>Failed to reject H0\")"
   ]
  },
  {
   "cell_type": "markdown",
   "id": "e8173ccb-c287-4596-a14d-c76f554ce948",
   "metadata": {},
   "source": [
    "13. A pharmaceutical company wants to determine if a new drug is effective in reducing blood pressure. They conduct a study and record blood pressure measurements before and after administering the drug."
   ]
  },
  {
   "cell_type": "code",
   "execution_count": 66,
   "id": "87351be5-1010-4212-9cf7-f8de1d881570",
   "metadata": {},
   "outputs": [],
   "source": [
    "##Use the below code to generate samples of respective arrays of blood pressure:\n",
    "\n",
    "before_drug = np.array([145, 150, 140, 135, 155, 160, 152, 148, 130, 138])\n",
    "\n",
    "after_drug = np.array([130, 140, 132, 128, 145, 148, 138, 136, 125, 130])\n",
    "\n",
    "##Implement z-test to find if the drug really works or not."
   ]
  },
  {
   "cell_type": "code",
   "execution_count": 67,
   "id": "1fcda502-0e5c-4db4-a5b1-789c8ce8822c",
   "metadata": {},
   "outputs": [
    {
     "name": "stdout",
     "output_type": "stream",
     "text": [
      "2.639577121919447 0.008300953387191556\n",
      "=====================================\n",
      "Drugs are really work reject H0\n"
     ]
    }
   ],
   "source": [
    "from statsmodels.stats.weightstats import ztest\n",
    "\n",
    "## Before drug and after drug data\n",
    "before_drug = np.array([145, 150, 140, 135, 155, 160, 152, 148, 130, 138])\n",
    "\n",
    "after_drug = np.array([130, 140, 132, 128, 145, 148, 138, 136, 125, 130])\n",
    "\n",
    "## two sample calculation\n",
    "zstats, pvalue = ztest(before_drug,after_drug)\n",
    "print(zstats ,pvalue)\n",
    "print(\"=====================================\")\n",
    "\n",
    "if(pvalue < 0.05) :\n",
    "    print(\"Drugs are really work reject H0\")\n",
    "else:\n",
    "    print(\"Drugs are not really work fail to reject H0\")"
   ]
  },
  {
   "cell_type": "markdown",
   "id": "607eeae6-5dcd-41c7-97f3-931a7e622a84",
   "metadata": {},
   "source": [
    "14. A customer service department claims that their average response time is less than 5 minutes.A sample of recent customer interactions was taken, and the response times were recorded."
   ]
  },
  {
   "cell_type": "code",
   "execution_count": 68,
   "id": "77cc92a9-bc38-4e3e-9103-32bb4658287b",
   "metadata": {},
   "outputs": [],
   "source": [
    "#Implement the below code to generate the array of response time:\n",
    "\n",
    "response_times = np.array([4.3, 3.8, 5.1, 4.9, 4.7, 4.2, 5.2, 4.5, 4.6, 4.4])\n",
    "\n",
    "#Implement z-test to fnnd the claims made by customer service department are true or false."
   ]
  },
  {
   "cell_type": "code",
   "execution_count": 69,
   "id": "29c9b696-094a-42d1-b288-9664e9036551",
   "metadata": {},
   "outputs": [
    {
     "name": "stdout",
     "output_type": "stream",
     "text": [
      "zscore is 33.47382944584698 and pvalue is 1.0\n",
      "====================================================\n",
      "The claim made by customer service dept is False ==>Fail to reject H0\n"
     ]
    }
   ],
   "source": [
    "from statsmodels.stats.weightstats import ztest\n",
    "## Response time \n",
    "response_times = np.array([4.3, 3.8, 5.1, 4.9, 4.7, 4.2, 5.2, 4.5, 4.6, 4.4])\n",
    "# H0 < \n",
    "zscore,pval =ztest(response_times ,value=0.05,alternative=\"smaller\")\n",
    "print(\"zscore is {} and pvalue is {}\".format(zscore,pval))\n",
    "print(\"====================================================\")\n",
    "\n",
    "if(pval <0.05):\n",
    "    print(\"The claim made by customer service dept is True ==>Reject H0 hypo\")\n",
    "else:\n",
    "    print(\"The claim made by customer service dept is False ==>Fail to reject H0\")"
   ]
  },
  {
   "cell_type": "markdown",
   "id": "9af4c9a7-375c-42bd-a15c-901fd450a303",
   "metadata": {},
   "source": [
    "15. A company is testing two different website layouts to see which one leads to higher click-through rates Write a Python function to perform an A/B test analysis, including calculating the t-statistic, degrees of freedom, and p-value."
   ]
  },
  {
   "cell_type": "code",
   "execution_count": 70,
   "id": "afe3a1ba-b42a-4290-ad85-4e6aa70b5f51",
   "metadata": {},
   "outputs": [],
   "source": [
    "#Use the following data:\n",
    "\n",
    "layout_a_clicks = [28, 32, 33, 29, 31, 34, 30, 35, 36, 37]\n",
    "\n",
    "layout_b_clicks = [40, 41, 38, 42, 39, 44, 43, 41, 45, 47]"
   ]
  },
  {
   "cell_type": "code",
   "execution_count": 71,
   "id": "6dc2221a-e197-4914-85e1-bca2bed02f54",
   "metadata": {},
   "outputs": [
    {
     "data": {
      "text/plain": [
       "(32.5, 42.0)"
      ]
     },
     "execution_count": 71,
     "metadata": {},
     "output_type": "execute_result"
    }
   ],
   "source": [
    "# Layout Data are giving to calcualte tstats ,pvalue, dof\n",
    "layout_a_clicks = [28, 32, 33, 29, 31, 34, 30, 35, 36, 37]\n",
    "layout_b_clicks = [40, 41, 38, 42, 39, 44, 43, 41, 45, 47]\n",
    "np.mean(layout_a_clicks) ,np.mean(layout_b_clicks)"
   ]
  },
  {
   "cell_type": "code",
   "execution_count": 72,
   "id": "47d02353-8427-4905-aab5-328e55d18533",
   "metadata": {},
   "outputs": [
    {
     "data": {
      "text/plain": [
       "-7.298102156175071"
      ]
     },
     "execution_count": 72,
     "metadata": {},
     "output_type": "execute_result"
    }
   ],
   "source": [
    "# Import scipy library\n",
    "from scipy import stats\n",
    "t_stats,p_value=stats.ttest_ind(layout_a_clicks ,layout_b_clicks)\n",
    "\n",
    "t_stats"
   ]
  },
  {
   "cell_type": "code",
   "execution_count": 73,
   "id": "d92e4530-bc3a-4023-83b7-40daa5f8d030",
   "metadata": {},
   "outputs": [
    {
     "data": {
      "text/plain": [
       "8.833437608301987e-07"
      ]
     },
     "execution_count": 73,
     "metadata": {},
     "output_type": "execute_result"
    }
   ],
   "source": [
    "p_value"
   ]
  },
  {
   "cell_type": "code",
   "execution_count": 74,
   "id": "73e716e8-a90b-42ba-a00a-3ec058beef21",
   "metadata": {},
   "outputs": [
    {
     "name": "stdout",
     "output_type": "stream",
     "text": [
      "9\n"
     ]
    }
   ],
   "source": [
    "dof =len(layout_b_clicks)-1\n",
    "print(dof)"
   ]
  },
  {
   "cell_type": "code",
   "execution_count": 75,
   "id": "0e4817fb-f129-40c3-9b77-f58dafd611f4",
   "metadata": {},
   "outputs": [
    {
     "name": "stdout",
     "output_type": "stream",
     "text": [
      "Reject H0\n"
     ]
    }
   ],
   "source": [
    "if(p_value < 0.05):\n",
    "    print(\"Reject H0\")\n",
    "else:\n",
    "    print(\"Fail to Reject H0 \")"
   ]
  },
  {
   "cell_type": "markdown",
   "id": "9c658cc3-bc4a-4b34-923a-63a219b5829e",
   "metadata": {},
   "source": [
    "16 .A pharmaceutical company wants to determine if a new drug is more effective than an existing drug in reducing cholesterol levels Create a program to analyze the clinical trial data and calculate the t-statistic and p-value for the treatment effect."
   ]
  },
  {
   "cell_type": "raw",
   "id": "06921d56-d841-4fa9-bedf-9be4c622d047",
   "metadata": {},
   "source": [
    "Use the following data of cholestrol level:\n",
    "\n",
    "existing_drug_levels = [180, 182, 175, 185, 178, 176, 172, 184, 179, 183]\n",
    "\n",
    "new_drug_levels = [170, 172, 165, 168, 175, 173, 170, 178, 172, 176]"
   ]
  },
  {
   "cell_type": "code",
   "execution_count": 76,
   "id": "0c40c619-7b92-4c18-bd47-52d8f14f37da",
   "metadata": {},
   "outputs": [],
   "source": [
    "#  Existing Drug Level sample\n",
    "existing_drug_levels = [180, 182, 175, 185, 178, 176, 172, 184, 179, 183]\n",
    "#  New Drug Level sample\n",
    "new_drug_levels = [170, 172, 165, 168, 175, 173, 170, 178, 172, 176]"
   ]
  },
  {
   "cell_type": "code",
   "execution_count": 77,
   "id": "126156ee-f9ed-4896-8daa-2c2e51beb0f7",
   "metadata": {},
   "outputs": [
    {
     "name": "stdout",
     "output_type": "stream",
     "text": [
      "T statistics :==>5.266851623825876\n",
      "Pvalue :==>0.0005160202180080982\n"
     ]
    }
   ],
   "source": [
    "# this data comes from same population had two sample\n",
    "from scipy import stats\n",
    "t_statistics ,pValue =stats.ttest_rel(existing_drug_levels ,new_drug_levels)\n",
    "print(\"T statistics :==>{}\\nPvalue :==>{}\".format(t_statistics,pValue))"
   ]
  },
  {
   "cell_type": "code",
   "execution_count": 78,
   "id": "7be36f01-7ee0-49d9-a3cb-111004319b54",
   "metadata": {},
   "outputs": [
    {
     "name": "stdout",
     "output_type": "stream",
     "text": [
      "A new drug is more effective ==> Reject H0\n"
     ]
    }
   ],
   "source": [
    "if(pValue < 0.05):\n",
    "    print(\"A new drug is more effective ==> Reject H0\")\n",
    "else:\n",
    "    print(\"A new drug is not more effective ==> Fail to Reject H0 \")"
   ]
  },
  {
   "cell_type": "markdown",
   "id": "e96c7c3a-3647-47e0-b315-19c14fd97f2c",
   "metadata": {},
   "source": [
    "17. A school district introduces an educational intervention program to improve math scores Write a Python function to analyze pre- and post-intervention test scores, calculating the t-statistic and p-value to determine if the intervention had a significant impact.\n"
   ]
  },
  {
   "cell_type": "raw",
   "id": "40674ec7-4a6d-43c8-a4b9-f007a2f26479",
   "metadata": {},
   "source": [
    "Use the following data of test score:\n",
    "\n",
    "pre_intervention_scores = [80, 85, 90, 75, 88, 82, 92, 78, 85, 87]\n",
    "\n",
    "post_intervention_scores = [90, 92, 88, 92, 95, 91, 96, 93, 89, 93]\n"
   ]
  },
  {
   "cell_type": "code",
   "execution_count": 79,
   "id": "77e82374-d974-4d43-8796-286d08dc8670",
   "metadata": {},
   "outputs": [],
   "source": [
    "# Pre and Post intervention score\n",
    "pre_intervention_scores = [80, 85, 90, 75, 88, 82, 92, 78, 85, 87]\n",
    "\n",
    "post_intervention_scores = [90, 92, 88, 92, 95, 91, 96, 93, 89, 93]\n"
   ]
  },
  {
   "cell_type": "code",
   "execution_count": 80,
   "id": "1ae21c75-ecf5-4706-b744-167759da81ea",
   "metadata": {},
   "outputs": [
    {
     "name": "stdout",
     "output_type": "stream",
     "text": [
      "T statistics :==>-4.42840883965761\n",
      "Pvalue :==>0.0016509548165795493\n"
     ]
    }
   ],
   "source": [
    "## This two sample comes from same population thats why we have decide to use ttest_rel\n",
    "from scipy import stats\n",
    "t_stats ,Pvalue =stats.ttest_rel(pre_intervention_scores ,post_intervention_scores)\n",
    "print(f\"T statistics :==>{t_stats}\\nPvalue :==>{Pvalue}\")"
   ]
  },
  {
   "cell_type": "code",
   "execution_count": 81,
   "id": "51c76d18-4d10-471a-a077-5ecc8c8a769a",
   "metadata": {},
   "outputs": [
    {
     "name": "stdout",
     "output_type": "stream",
     "text": [
      "Intervention had significant impact ==> Reject H0\n"
     ]
    }
   ],
   "source": [
    "if(Pvalue < 0.05):\n",
    "    print(\"Intervention had significant impact ==> Reject H0\")\n",
    "else:\n",
    "    print(\"Intervention had not significant impact ==> Fail to Reject H0\")"
   ]
  },
  {
   "cell_type": "markdown",
   "id": "8d94cef2-4c6e-4fd5-af2e-308c2fb5afe2",
   "metadata": {},
   "source": [
    "18. An HR department wants to investigate if there's a gender-based salary gap within the company. Develop a program to analyze salary data, calculate the t-statistic, and determine if there's a statistically significant difference between the average salaries of male and female employees."
   ]
  },
  {
   "cell_type": "raw",
   "id": "76308889-ca5b-4b98-a761-305772ebcbd0",
   "metadata": {},
   "source": [
    "Use the below code to generate synthetic data\n",
    "\n",
    "Generate synthetic salary data for male and female employees\n",
    "\n",
    "np.random.seed(0)  # For reproducibility\n",
    "\n",
    "male_salaries = np.random.normal(loc=50000, scale=10000, size=20)\n",
    "\n",
    "female_salaries = np.random.normal(loc=55000, scale=9000, size=20)"
   ]
  },
  {
   "cell_type": "code",
   "execution_count": 83,
   "id": "fd3526f5-1452-4642-89c2-4e9b5d9fab10",
   "metadata": {},
   "outputs": [],
   "source": [
    "np.random.seed(0)\n",
    "male_salaries =np.random.normal(loc =50000 ,scale =10000,size=20)\n",
    "female_salaries =np.random.normal(loc =55000 ,scale =9000,size=20)"
   ]
  },
  {
   "cell_type": "code",
   "execution_count": 84,
   "id": "c436fa0a-f5c0-40f0-8a4b-ea5ea564a596",
   "metadata": {},
   "outputs": [
    {
     "data": {
      "text/plain": [
       "array([67640.52345968, 54001.57208367, 59787.37984106, 72408.93199201,\n",
       "       68675.5799015 , 40227.22120124, 59500.88417526, 48486.42791702,\n",
       "       48967.81148206, 54105.98501938, 51440.43571161, 64542.73506963,\n",
       "       57610.37725147, 51216.75016493, 54438.63232745, 53336.74327374,\n",
       "       64940.79073158, 47948.41736234, 53130.67701651, 41459.04260698])"
      ]
     },
     "execution_count": 84,
     "metadata": {},
     "output_type": "execute_result"
    }
   ],
   "source": [
    "male_salaries"
   ]
  },
  {
   "cell_type": "code",
   "execution_count": 85,
   "id": "3a36622c-6c3e-40ad-b657-a68244455237",
   "metadata": {},
   "outputs": [
    {
     "data": {
      "text/plain": [
       "array([32023.09165749, 60882.56735896, 62779.92578974, 48320.51481634,\n",
       "       75427.79161589, 41910.70892861, 55411.82665571, 53315.34534977,\n",
       "       68795.01292923, 68224.2289291 , 56394.52683127, 58403.46267642,\n",
       "       47009.92827133, 37172.83178598, 51868.79065606, 56407.14072194,\n",
       "       66072.61612655, 65821.41863906, 51514.05864333, 52279.27524482])"
      ]
     },
     "execution_count": 85,
     "metadata": {},
     "output_type": "execute_result"
    }
   ],
   "source": [
    "female_salaries"
   ]
  },
  {
   "cell_type": "code",
   "execution_count": 86,
   "id": "a8696860-15c2-4c9c-b99f-701bdb0c61bf",
   "metadata": {},
   "outputs": [
    {
     "name": "stdout",
     "output_type": "stream",
     "text": [
      "T statistics is 0.06392396780224036\n",
      "P values is 0.949698517843135\n"
     ]
    }
   ],
   "source": [
    "## this data comes from same population sample so use ttest_rel\n",
    "from scipy import stats\n",
    "\n",
    "t_statistics,Pvalue = stats.ttest_rel(male_salaries ,female_salaries)\n",
    "print(f\"T statistics is {t_statistics}\\nP values is {Pvalue}\")"
   ]
  },
  {
   "cell_type": "code",
   "execution_count": 87,
   "id": "50f3f7c3-05d7-422e-941e-4046e852029b",
   "metadata": {},
   "outputs": [
    {
     "name": "stdout",
     "output_type": "stream",
     "text": [
      "there is not a statistically significant between male & female salary ==>Failed to reject H0\n"
     ]
    }
   ],
   "source": [
    "if(Pvalue < 0.05 ):\n",
    "    print(\"there is a statistically significant between male & female salary ==>Reject H0\")\n",
    "    \n",
    "else:\n",
    "    print(\"there is not a statistically significant between male & female salary ==>Failed to reject H0\")"
   ]
  },
  {
   "cell_type": "markdown",
   "id": "309e5212-8882-4bd6-b7a8-8b076b88afc0",
   "metadata": {},
   "source": [
    "19 A manufacturer produces two different versions of a product and wants to compare their quality scores. Create a Python function to analyze quality assessment data, calculate the t-statistic, and decide whether there's a significant difference in quality between the two versions."
   ]
  },
  {
   "cell_type": "raw",
   "id": "0d8e18cf-4387-4f64-a07f-575858ca6e3d",
   "metadata": {},
   "source": [
    "Use the following data:\n",
    "\n",
    "version1_scores = [85, 88, 82, 89, 87, 84, 90, 88, 85, 86, 91, 83, 87, 84, 89, 86, 84, 88, 85, 86, 89, 90, 87, 88, 85]\n",
    "\n",
    "version2_scores = [80, 78, 83, 81, 79, 82, 76, 80, 78, 81, 77, 82, 80, 79, 82, 79, 80, 81, 79, 82, 79, 78, 80, 81, 82]"
   ]
  },
  {
   "cell_type": "code",
   "execution_count": 88,
   "id": "874253ad-d3b9-4f72-a3c0-65c8aa57a6f3",
   "metadata": {},
   "outputs": [],
   "source": [
    "# There are two differant version gruop data \n",
    "version1_scores = [85, 88, 82, 89, 87, 84, 90, 88, 85, 86, 91, 83, 87, 84, 89, 86, 84, 88, 85, 86, 89, 90, 87, 88, 85]\n",
    "\n",
    "version2_scores = [80, 78, 83, 81, 79, 82, 76, 80, 78, 81, 77, 82, 80, 79, 82, 79, 80, 81, 79, 82, 79, 78, 80, 81, 82]\n"
   ]
  },
  {
   "cell_type": "code",
   "execution_count": 89,
   "id": "ae52e7a4-5716-404c-a0ab-c837b642c16f",
   "metadata": {},
   "outputs": [
    {
     "name": "stdout",
     "output_type": "stream",
     "text": [
      "11.325830417646698 3.6824250702873965e-15\n"
     ]
    }
   ],
   "source": [
    "## Here we have got two differant sample data use ttest_ind\n",
    "from scipy import stats\n",
    "\n",
    "t_stats ,Pvalue =stats.ttest_ind(version1_scores,version2_scores)\n",
    "print(t_stats,Pvalue)\n"
   ]
  },
  {
   "cell_type": "code",
   "execution_count": 91,
   "id": "6cffedb3-4d34-4342-a67e-03cfa2ecfea9",
   "metadata": {},
   "outputs": [
    {
     "name": "stdout",
     "output_type": "stream",
     "text": [
      "there is a significant difference in quality between the two versions ==> Reject H0\n"
     ]
    }
   ],
   "source": [
    "if(Pvalue < 0.05 ):\n",
    "    print(\"there is a significant difference in quality between the two versions ==> Reject H0\")\n",
    "    \n",
    "else:\n",
    "    print(\"there is not a significant difference in quality between the two versions9Failed to reject H0\")"
   ]
  },
  {
   "cell_type": "markdown",
   "id": "a2bb563a-bf03-468b-9155-7ede3abea3a9",
   "metadata": {},
   "source": [
    "20. A restaurant chain collects customer satisfaction scores for two different branches. Write a program to analyze the scores, calculate the t-statistic, and determine if there's a statistically significant difference in customer satisfaction between the branches.\n",
    "\n",
    "Use the below data of scores:\n",
    "\n",
    "branch_a_scores = [4, 5, 3, 4, 5, 4, 5, 3, 4, 4, 5, 4, 4, 3, 4, 5, 5, 4, 3, 4, 5, 4, 3, 5, 4, 4, 5, 3, 4, 5, 4]\n",
    "\n",
    "branch_b_scores = [3, 4, 2, 3, 4, 3, 4, 2, 3, 3, 4, 3, 3, 2, 3, 4, 4, 3, 2, 3, 4, 3, 2, 4, 3, 3, 4, 2, 3, 4, 3]"
   ]
  },
  {
   "cell_type": "code",
   "execution_count": 93,
   "id": "6ff5b5c4-cbd9-4a7e-b1ab-89b36dcd6c10",
   "metadata": {},
   "outputs": [
    {
     "name": "stdout",
     "output_type": "stream",
     "text": [
      "T_stats 5.480077554195743\n",
      "Pvalue 8.895290509945655e-07\n",
      "========================================================\n",
      "there is statistically significant difference in customer satisfaction between the branches ==>Reject H0\n"
     ]
    }
   ],
   "source": [
    "# Data is from differant branch and its scores\n",
    "branch_a_scores = [4, 5, 3, 4, 5, 4, 5, 3, 4, 4, 5, 4, 4, 3, 4, 5, 5, 4, 3, 4, 5, 4, 3, 5, 4, 4, 5, 3, 4, 5, 4]\n",
    "\n",
    "branch_b_scores = [3, 4, 2, 3, 4, 3, 4, 2, 3, 3, 4, 3, 3, 2, 3, 4, 4, 3, 2, 3, 4, 3, 2, 4, 3, 3, 4, 2, 3, 4, 3]\n",
    "## Here we will use ttest_ind\n",
    "from scipy import stats\n",
    "T_stats ,Pvalue =stats.ttest_ind(branch_a_scores,branch_b_scores)\n",
    "print(\"T_stats\",T_stats)\n",
    "print(\"Pvalue\",Pvalue)\n",
    "print(\"========================================================\")\n",
    "\n",
    "if(Pvalue < 0.05):\n",
    "    print(\"there is statistically significant difference in customer satisfaction between the branches ==>Reject H0\")\n",
    "    \n",
    "else:\n",
    "    print(\"there's not a statistically significant difference in customer satisfaction between the branches ==>Failed to Reject H0\")"
   ]
  },
  {
   "cell_type": "markdown",
   "id": "913a2e5c-3bc4-4392-88c4-b6fa4f28cb7e",
   "metadata": {},
   "source": [
    "21. A political analyst wants to determine if there is a significant association between age groups and voter preferences (Candidate A or Candidate B). They collect data from a sample of 500 voters and classify them into different age groups and candidate preferences. Perform a Chi-Square test to determine if there is a significant association between age groups and voter preferences.\n",
    "\n",
    "Use the below code to generate data:\n",
    "\n",
    "np.random.seed(0)\n",
    "\n",
    "age_groups = np.random.choice([ 18 30 , 31 50 , 51+', 51+'], size=30)\n",
    "\n",
    "voter_preferences = np.random.choice(['Candidate A', 'Candidate B'], size=30)"
   ]
  },
  {
   "cell_type": "code",
   "execution_count": 94,
   "id": "ab5110d4-8dfa-47d9-826e-08d8877d0878",
   "metadata": {},
   "outputs": [
    {
     "data": {
      "text/html": [
       "<div>\n",
       "<style scoped>\n",
       "    .dataframe tbody tr th:only-of-type {\n",
       "        vertical-align: middle;\n",
       "    }\n",
       "\n",
       "    .dataframe tbody tr th {\n",
       "        vertical-align: top;\n",
       "    }\n",
       "\n",
       "    .dataframe thead th {\n",
       "        text-align: right;\n",
       "    }\n",
       "</style>\n",
       "<table border=\"1\" class=\"dataframe\">\n",
       "  <thead>\n",
       "    <tr style=\"text-align: right;\">\n",
       "      <th></th>\n",
       "      <th>Age Group</th>\n",
       "      <th>Voter Preference</th>\n",
       "    </tr>\n",
       "  </thead>\n",
       "  <tbody>\n",
       "    <tr>\n",
       "      <th>0</th>\n",
       "      <td>18-30</td>\n",
       "      <td>Candidate B</td>\n",
       "    </tr>\n",
       "    <tr>\n",
       "      <th>1</th>\n",
       "      <td>51+</td>\n",
       "      <td>Candidate A</td>\n",
       "    </tr>\n",
       "    <tr>\n",
       "      <th>2</th>\n",
       "      <td>31-50</td>\n",
       "      <td>Candidate B</td>\n",
       "    </tr>\n",
       "    <tr>\n",
       "      <th>3</th>\n",
       "      <td>18-30</td>\n",
       "      <td>Candidate A</td>\n",
       "    </tr>\n",
       "    <tr>\n",
       "      <th>4</th>\n",
       "      <td>51+</td>\n",
       "      <td>Candidate B</td>\n",
       "    </tr>\n",
       "  </tbody>\n",
       "</table>\n",
       "</div>"
      ],
      "text/plain": [
       "  Age Group Voter Preference\n",
       "0     18-30      Candidate B\n",
       "1       51+      Candidate A\n",
       "2     31-50      Candidate B\n",
       "3     18-30      Candidate A\n",
       "4       51+      Candidate B"
      ]
     },
     "execution_count": 94,
     "metadata": {},
     "output_type": "execute_result"
    }
   ],
   "source": [
    "np.random.seed(0)\n",
    "\n",
    "age_groups = np.random.choice(['18-30' , '31-50' , '51+', '51+'], size=30)\n",
    "\n",
    "voter_preferences = np.random.choice(['Candidate A', 'Candidate B'], size=30)\n",
    "\n",
    "data =pd.DataFrame({'Age Group': age_groups, 'Voter Preference': voter_preferences})\n",
    "data.head()"
   ]
  },
  {
   "cell_type": "code",
   "execution_count": 95,
   "id": "8d9ade1d-d054-403d-804c-254833ce976b",
   "metadata": {},
   "outputs": [],
   "source": [
    "data_table  =pd.crosstab(data[\"Age Group\"],data[\"Voter Preference\"])\n",
    "Observed_values=data_table.values"
   ]
  },
  {
   "cell_type": "code",
   "execution_count": 96,
   "id": "88c60fb0-0c66-4b4b-8ee6-cf2bbc4607dc",
   "metadata": {},
   "outputs": [
    {
     "name": "stdout",
     "output_type": "stream",
     "text": [
      "Chi2 square 1.086807928913192\n",
      "Pvalue is 0.5807679703526951\n",
      "deegree of freedom 2\n",
      "expected values [[2.93333333 5.06666667]\n",
      " [2.93333333 5.06666667]\n",
      " [5.13333333 8.86666667]]\n"
     ]
    }
   ],
   "source": [
    "from scipy.stats import chi2_contingency\n",
    "chi2, p, dof, expected =chi2_contingency(Observed_values)\n",
    "print(\"Chi2 square\",chi2)\n",
    "print(\"Pvalue is\",p)\n",
    "print(\"deegree of freedom\",dof)\n",
    "print(\"expected values\",expected)"
   ]
  },
  {
   "cell_type": "code",
   "execution_count": 97,
   "id": "d041cc77-2bd9-465b-b94f-509b0ae0a903",
   "metadata": {},
   "outputs": [
    {
     "data": {
      "text/plain": [
       "array([[2.93333333, 5.06666667],\n",
       "       [2.93333333, 5.06666667],\n",
       "       [5.13333333, 8.86666667]])"
      ]
     },
     "execution_count": 97,
     "metadata": {},
     "output_type": "execute_result"
    }
   ],
   "source": [
    "expected"
   ]
  },
  {
   "cell_type": "code",
   "execution_count": 98,
   "id": "86f545af-4e45-4dbd-a967-1c8004a039a8",
   "metadata": {},
   "outputs": [
    {
     "name": "stdout",
     "output_type": "stream",
     "text": [
      "(array([2, 6]), array([2.93333333, 5.06666667]))\n",
      "(array([4, 4]), array([2.93333333, 5.06666667]))\n",
      "(array([5, 9]), array([5.13333333, 8.86666667]))\n"
     ]
    }
   ],
   "source": [
    "for i in zip(Observed_values ,expected):\n",
    "    print(i)"
   ]
  },
  {
   "cell_type": "code",
   "execution_count": 99,
   "id": "83484c27-ab63-4ad7-bd29-77d3b66974f5",
   "metadata": {},
   "outputs": [
    {
     "data": {
      "text/plain": [
       "1.0868079289131922"
      ]
     },
     "execution_count": 99,
     "metadata": {},
     "output_type": "execute_result"
    }
   ],
   "source": [
    "chi2_test =sum([(o-e)**2/e for o,e in zip(Observed_values ,expected)])\n",
    "\n",
    "chi2_stat =chi2_test[0] +chi2_test[1]\n",
    "chi2_stat"
   ]
  },
  {
   "cell_type": "code",
   "execution_count": 100,
   "id": "18997827-572a-4aca-a885-d2f293a00495",
   "metadata": {},
   "outputs": [
    {
     "data": {
      "text/plain": [
       "2"
      ]
     },
     "execution_count": 100,
     "metadata": {},
     "output_type": "execute_result"
    }
   ],
   "source": [
    "apha =0.05\n",
    "dof"
   ]
  },
  {
   "cell_type": "code",
   "execution_count": 101,
   "id": "b5786688-c32e-45f8-b9de-739b6d2d4428",
   "metadata": {},
   "outputs": [
    {
     "data": {
      "text/plain": [
       "5.991464547107979"
      ]
     },
     "execution_count": 101,
     "metadata": {},
     "output_type": "execute_result"
    }
   ],
   "source": [
    "chi2_critical =stats.chi2.ppf(1-apha,df =dof)\n",
    "chi2_critical"
   ]
  },
  {
   "cell_type": "code",
   "execution_count": 102,
   "id": "af6f4855-3e57-422a-b92f-983b0d9dc434",
   "metadata": {},
   "outputs": [
    {
     "name": "stdout",
     "output_type": "stream",
     "text": [
      "Failed to reject H0\n"
     ]
    }
   ],
   "source": [
    "if chi2_stat >chi2_critical :\n",
    "    print(\"Reject the H0\")\n",
    "    \n",
    "else:\n",
    "    print(\"Failed to reject H0\")"
   ]
  },
  {
   "cell_type": "markdown",
   "id": "1e37e4c5-5e16-43c7-96c8-bc7ee8775ac6",
   "metadata": {},
   "source": [
    "22. A company conducted a customer satisfaction survey to determine if there is a significant relationship between product satisfaction levels (Satisfied, Neutral, Dissatisfied) and the region where customers are located (East, West, North, South). The survey data is summarized in a contingency table. Conduct a Chi-Square test to determine if there is a significant relationship between product satisfaction levels and customer regions.\n",
    "\n",
    "Sample data:\n",
    "\n",
    "#Sample data: Product satisfaction levels (rows) vs. Customer regions (columns)\n",
    "\n",
    "data = np.array([[50, 30, 40, 20], [30, 40, 30, 50], [20, 30, 40, 30]])"
   ]
  },
  {
   "cell_type": "code",
   "execution_count": 103,
   "id": "533280ea-3bdc-479c-b9f0-cd668d9f8f91",
   "metadata": {},
   "outputs": [
    {
     "data": {
      "text/html": [
       "<div>\n",
       "<style scoped>\n",
       "    .dataframe tbody tr th:only-of-type {\n",
       "        vertical-align: middle;\n",
       "    }\n",
       "\n",
       "    .dataframe tbody tr th {\n",
       "        vertical-align: top;\n",
       "    }\n",
       "\n",
       "    .dataframe thead th {\n",
       "        text-align: right;\n",
       "    }\n",
       "</style>\n",
       "<table border=\"1\" class=\"dataframe\">\n",
       "  <thead>\n",
       "    <tr style=\"text-align: right;\">\n",
       "      <th></th>\n",
       "      <th>East</th>\n",
       "      <th>West</th>\n",
       "      <th>North</th>\n",
       "      <th>South</th>\n",
       "    </tr>\n",
       "  </thead>\n",
       "  <tbody>\n",
       "    <tr>\n",
       "      <th>Satisfied</th>\n",
       "      <td>50</td>\n",
       "      <td>30</td>\n",
       "      <td>40</td>\n",
       "      <td>20</td>\n",
       "    </tr>\n",
       "    <tr>\n",
       "      <th>Neutral</th>\n",
       "      <td>30</td>\n",
       "      <td>40</td>\n",
       "      <td>30</td>\n",
       "      <td>50</td>\n",
       "    </tr>\n",
       "    <tr>\n",
       "      <th>Dissatisfied</th>\n",
       "      <td>20</td>\n",
       "      <td>30</td>\n",
       "      <td>40</td>\n",
       "      <td>30</td>\n",
       "    </tr>\n",
       "  </tbody>\n",
       "</table>\n",
       "</div>"
      ],
      "text/plain": [
       "              East  West  North  South\n",
       "Satisfied       50    30     40     20\n",
       "Neutral         30    40     30     50\n",
       "Dissatisfied    20    30     40     30"
      ]
     },
     "execution_count": 103,
     "metadata": {},
     "output_type": "execute_result"
    }
   ],
   "source": [
    "data = np.array([[50, 30, 40, 20], [30, 40, 30, 50], [20, 30, 40, 30]])\n",
    "data_value =pd.DataFrame(data,index=['Satisfied', 'Neutral', 'Dissatisfied'],columns= ['East', 'West', 'North', 'South'])\n",
    "data_value"
   ]
  },
  {
   "cell_type": "code",
   "execution_count": 104,
   "id": "5df00d8a-8134-453d-851f-5d79ff739df1",
   "metadata": {},
   "outputs": [
    {
     "name": "stdout",
     "output_type": "stream",
     "text": [
      "chi2 Statistics ==>27.777056277056275\n",
      "Pvalue ==>0.00010349448486004387\n",
      "Deegree of freedom ==>6\n",
      "Expected value ==>[[34.14634146 34.14634146 37.56097561 34.14634146]\n",
      " [36.58536585 36.58536585 40.24390244 36.58536585]\n",
      " [29.26829268 29.26829268 32.19512195 29.26829268]]\n"
     ]
    }
   ],
   "source": [
    "chi2, pval, degrees_of_freedom, expected_counts =stats.chi2_contingency(data)\n",
    "\n",
    "print(f\"chi2 Statistics ==>{chi2}\\nPvalue ==>{pval}\\nDeegree of freedom ==>{degrees_of_freedom}\\nExpected value ==>{expected_counts}\")"
   ]
  },
  {
   "cell_type": "code",
   "execution_count": 105,
   "id": "076657ed-658d-4f29-b0a1-d5382cf1a733",
   "metadata": {},
   "outputs": [
    {
     "name": "stdout",
     "output_type": "stream",
     "text": [
      "There is a statistically significant relationship between product satisfaction levels and customer regions.\n"
     ]
    }
   ],
   "source": [
    "if(pval <0.05):\n",
    "    print(\"There is a statistically significant relationship between product satisfaction levels and customer regions.\")\n",
    "else:\n",
    "    print(\"There is not enough evidence to conclude a statistically significant relationship between product satisfaction levels and customer regions.\")"
   ]
  },
  {
   "cell_type": "markdown",
   "id": "37634683-6af3-4265-abde-dacf9df7ec42",
   "metadata": {},
   "source": [
    "23. A company implemented an employee training program to improve job performance (Effective, Neutral, Ineffective). After the training, they collected data from a sample of employees and classified them based on their job performance before and after the training. Perform a Chi-Square test to determine if there is a significant difference between job performance levels before and after the training.\n",
    "\n",
    "Sample data:\n",
    "\n",
    "Sample data: Job performance levels before (rows) and after (columns) training\n",
    "\n",
    "data = np.array([[50, 30, 20], [30, 40, 30], [20, 30, 40]])"
   ]
  },
  {
   "cell_type": "code",
   "execution_count": 106,
   "id": "7ec08276-136b-470b-9b08-9c5369542f35",
   "metadata": {},
   "outputs": [
    {
     "data": {
      "text/plain": [
       "array([[50, 30, 20],\n",
       "       [30, 40, 30],\n",
       "       [20, 30, 40]])"
      ]
     },
     "execution_count": 106,
     "metadata": {},
     "output_type": "execute_result"
    }
   ],
   "source": [
    "data =np.array([[50, 30, 20], [30, 40, 30], [20, 30, 40]])\n",
    "data"
   ]
  },
  {
   "cell_type": "code",
   "execution_count": 107,
   "id": "9008c601-73b2-4651-aea2-9a9a58676dcc",
   "metadata": {},
   "outputs": [
    {
     "name": "stdout",
     "output_type": "stream",
     "text": [
      "chi2 stats 22.161728395061726\n",
      "P-value 0.00018609719479882557\n",
      "deegree of freedom 4\n",
      "expected value [[34.48275862 34.48275862 31.03448276]\n",
      " [34.48275862 34.48275862 31.03448276]\n",
      " [31.03448276 31.03448276 27.93103448]]\n"
     ]
    }
   ],
   "source": [
    "chi2 ,pval ,dof ,expected =stats.chi2_contingency(data)\n",
    "print(f\"chi2 stats {chi2}\\nP-value {pval}\\ndeegree of freedom {dof}\\nexpected value {expected}\")"
   ]
  },
  {
   "cell_type": "code",
   "execution_count": 108,
   "id": "465e1dda-db05-4fda-abd2-a21f42aedf25",
   "metadata": {},
   "outputs": [
    {
     "name": "stdout",
     "output_type": "stream",
     "text": [
      "if there is a significant difference between job performance levels before and after the training\n",
      "==> Reject H0\n"
     ]
    }
   ],
   "source": [
    "try :\n",
    "    \n",
    "    if(pval < 0.05):\n",
    "        print(\"if there is a significant difference between job performance levels before and after the training\\n==> Reject H0\")\n",
    "    else:\n",
    "        print(\"if there is not a significant difference between job performance levels before and after the training\\n==>Failed to reject H0\")\n",
    "except :\n",
    "    print(\"Some internal Error\")"
   ]
  },
  {
   "cell_type": "markdown",
   "id": "1777f2be-371f-4136-b153-7e6dac965011",
   "metadata": {},
   "source": [
    "24. A company produces three different versions of a product: Standard, Premium, and Deluxe. The company wants to determine if there is a significant difference in customer satisfaction scores among the three product versions. They conducted a survey and collected customer satisfaction scores for each version from a random sample of customers. Perform an ANOVA test to determine if there is a significant difference in customer satisfaction scores.\n",
    "\n",
    "Use the following data:\n",
    "\n",
    "Sample data: Customer satisfaction scores for each product version\n",
    "\n",
    "standard_scores = [80, 85, 90, 78, 88, 82, 92, 78, 85, 87]\n",
    "\n",
    "premium_scores = [90, 92, 88, 92, 95, 91, 96, 93, 89, 93]\n",
    "\n",
    "deluxe_scores = [95, 98, 92, 97, 96, 94, 98, 97, 92, 99]"
   ]
  },
  {
   "cell_type": "code",
   "execution_count": 109,
   "id": "c393209a-7d63-40df-a816-b3eeba126b66",
   "metadata": {},
   "outputs": [
    {
     "name": "stdout",
     "output_type": "stream",
     "text": [
      "F_statistics is 27.03556231003039\n",
      "P-value is 3.5786328857349003e-07\n"
     ]
    }
   ],
   "source": [
    "from scipy.stats import f_oneway\n",
    "# Sample data == customer satisfication score of each product version\n",
    "standard_scores = [80, 85, 90, 78, 88, 82, 92, 78, 85, 87]\n",
    "premium_scores = [90, 92, 88, 92, 95, 91, 96, 93, 89, 93]\n",
    "deluxe_scores = [95, 98, 92, 97, 96, 94, 98, 97, 92, 99]\n",
    "\n",
    "# Perform Anova Test\n",
    "F_statistics ,p_value =f_oneway(standard_scores,premium_scores,deluxe_scores)\n",
    "print(f\"F_statistics is {F_statistics}\\nP-value is {p_value}\")"
   ]
  },
  {
   "cell_type": "code",
   "execution_count": null,
   "id": "1fd74f8b-a94d-47e8-bd89-8ad55035a08e",
   "metadata": {},
   "outputs": [],
   "source": []
  }
 ],
 "metadata": {
  "kernelspec": {
   "display_name": "Python 3 (ipykernel)",
   "language": "python",
   "name": "python3"
  },
  "language_info": {
   "codemirror_mode": {
    "name": "ipython",
    "version": 3
   },
   "file_extension": ".py",
   "mimetype": "text/x-python",
   "name": "python",
   "nbconvert_exporter": "python",
   "pygments_lexer": "ipython3",
   "version": "3.10.8"
  }
 },
 "nbformat": 4,
 "nbformat_minor": 5
}
