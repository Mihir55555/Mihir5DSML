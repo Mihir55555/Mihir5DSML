{
 "cells": [
  {
   "cell_type": "markdown",
   "id": "47707747-f1de-47b7-95a0-14dea437d942",
   "metadata": {},
   "source": [
    "Problem 1: Reverse a singly linked list.\n",
    "\n",
    "Input: 1 -> 2 -> 3 -> 4 -> 5\n",
    "\n",
    "Output: 5 -> 4 -> 3 -> 2 -> 1"
   ]
  },
  {
   "cell_type": "code",
   "execution_count": 1,
   "id": "c2aa0f54-9f84-4e1b-b49c-eee83bd88afc",
   "metadata": {},
   "outputs": [],
   "source": [
    "class Node :\n",
    "    \n",
    "    def __init__(self,Data=None,Next=None):\n",
    "        self.Data = Data\n",
    "        self.Next = Next\n",
    "        \n",
    "    #Method to set the data value\n",
    "    \n",
    "    def setData(self,Data):\n",
    "        self.Data = Data\n",
    "    \n",
    "    #Method to get the data value\n",
    "    \n",
    "    def getData(self):\n",
    "        return self.Data\n",
    "    \n",
    "    #Method to set the next value\n",
    "    \n",
    "    def setNext(self,Next):\n",
    "        self.Next = Next\n",
    "   \n",
    "    #Method to get the next value\n",
    "    \n",
    "    def getNext(self):\n",
    "        return self.Next"
   ]
  },
  {
   "cell_type": "markdown",
   "id": "093a9ed3-00c9-4d38-8a49-fa7d8846bc79",
   "metadata": {},
   "source": [
    "Create a linked list -> collection of list nodes"
   ]
  },
  {
   "cell_type": "code",
   "execution_count": 2,
   "id": "3930c18c-61d1-4030-bbd7-91a1daf97cd7",
   "metadata": {},
   "outputs": [],
   "source": [
    "head = Node(1)\n",
    "node2 = Node(2)\n",
    "node3 = Node(3)\n",
    "node4 = Node(4)\n",
    "node5 = Node(5)\n",
    "    \n",
    "head.setNext(node2)\n",
    "node2.setNext(node3)\n",
    "node3.setNext(node4)\n",
    "node4.setNext(node5)"
   ]
  },
  {
   "cell_type": "markdown",
   "id": "4912908f-efe6-4012-82e6-630fd7a6afea",
   "metadata": {},
   "source": [
    "Traverse Entire linked list"
   ]
  },
  {
   "cell_type": "code",
   "execution_count": 3,
   "id": "20428de3-eab7-4d7c-adb6-633c7076a08a",
   "metadata": {},
   "outputs": [
    {
     "name": "stdout",
     "output_type": "stream",
     "text": [
      "1-->2-->3-->4-->5-->"
     ]
    }
   ],
   "source": [
    "def traverse(head):\n",
    "    temp=head\n",
    "    while(temp):\n",
    "        print(temp.getData(), end=\"-->\")\n",
    "        temp = temp.getNext() #jump to the next node\n",
    "\n",
    "traverse(head)"
   ]
  },
  {
   "cell_type": "markdown",
   "id": "1eeff46b-3dee-4523-9c02-8792f847e2b7",
   "metadata": {},
   "source": [
    "#Find the length/size of linkedList... Input head"
   ]
  },
  {
   "cell_type": "code",
   "execution_count": 4,
   "id": "ee502de0-99f9-4966-8f30-1364115a7380",
   "metadata": {},
   "outputs": [
    {
     "data": {
      "text/plain": [
       "5"
      ]
     },
     "execution_count": 4,
     "metadata": {},
     "output_type": "execute_result"
    }
   ],
   "source": [
    "def length(head):\n",
    "    leng = 0\n",
    "    while(head):\n",
    "        leng +=1\n",
    "        head = head.getNext()\n",
    "    return leng\n",
    "\n",
    "length(head)"
   ]
  },
  {
   "cell_type": "markdown",
   "id": "610fd1ae-67e6-4fb0-a8ec-ef29a58fcfef",
   "metadata": {},
   "source": [
    "Reverse a singly linked list"
   ]
  },
  {
   "cell_type": "code",
   "execution_count": 5,
   "id": "f669f69e-76d8-43eb-b6b4-cb309f8d9fd1",
   "metadata": {},
   "outputs": [
    {
     "name": "stdout",
     "output_type": "stream",
     "text": [
      "5-->4-->3-->2-->1-->"
     ]
    }
   ],
   "source": [
    "def reverse_linklist(head):\n",
    "    prev = None\n",
    "    curr = head\n",
    "    while(curr):\n",
    "        next_node = curr.getNext()\n",
    "        curr.setNext(prev)\n",
    "        prev = curr\n",
    "        curr = next_node\n",
    "    return prev\n",
    "\n",
    "head = Node(1)\n",
    "node2 = Node(2)\n",
    "node3 = Node(3)\n",
    "node4 = Node(4)\n",
    "node5 = Node(5)\n",
    "    \n",
    "head.setNext(node2)\n",
    "node2.setNext(node3)\n",
    "node3.setNext(node4)\n",
    "node4.setNext(node5)\n",
    "\n",
    "# Reverse the list\n",
    "reversed_head = reverse_linklist(head)\n",
    "\n",
    "# Print the reversed list\n",
    "while reversed_head:\n",
    "    print(reversed_head.getData(),end=\"-->\")\n",
    "    reversed_head = reversed_head.getNext()"
   ]
  },
  {
   "cell_type": "markdown",
   "id": "361246a1-1664-4691-9f1e-14d3018a42bb",
   "metadata": {},
   "source": [
    "Problem 2: Merge two sorted linked lists into one sorted linked list.\n",
    "\n",
    "Input: List 1: 1 -> 3 -> 5, List 2: 2 -> 4 -> 6\n",
    "\n",
    "Output: 1 -> 2 -> 3 -> 4 -> 5 -> 6"
   ]
  },
  {
   "cell_type": "code",
   "execution_count": 6,
   "id": "db39f89f-a04a-4f17-9b67-307f313060ac",
   "metadata": {},
   "outputs": [
    {
     "name": "stdout",
     "output_type": "stream",
     "text": [
      "1-->2-->3-->4-->5-->6-->"
     ]
    }
   ],
   "source": [
    "def merge_list(head1,head2):\n",
    "    dummy_head = Node()\n",
    "    tail = dummy_head\n",
    "    \n",
    "    while head1 and head2:\n",
    "        if head1.getData() <= head2.getData(): \n",
    "            tail.setNext(head1)\n",
    "            head1 = head1.getNext()\n",
    "            \n",
    "        else:\n",
    "            tail.setNext(head2)\n",
    "            head2 = head2.getNext()\n",
    "        tail = tail.getNext()\n",
    "            \n",
    "    tail.setNext(head1 or head2)\n",
    "    return dummy_head.getNext()\n",
    "\n",
    "# Linked List 1\n",
    "head1 = Node(1)\n",
    "node3 = Node(3)\n",
    "node5 = Node(5)\n",
    "\n",
    "head1.setNext(node3)\n",
    "node3.setNext(node5)\n",
    "\n",
    "# Linked list 2\n",
    "head2 = Node(2)\n",
    "node4 = Node(4)\n",
    "node6 = Node(6)\n",
    "\n",
    "head2.setNext(node4)\n",
    "node4.setNext(node6)\n",
    "\n",
    "merge_lists = merge_list(head1,head2)\n",
    "while merge_lists:\n",
    "    print(merge_lists.getData(),end='-->')\n",
    "    merge_lists = merge_lists.getNext()"
   ]
  },
  {
   "cell_type": "markdown",
   "id": "fc7d80b2-2bc8-4745-9722-5fbb76823cba",
   "metadata": {},
   "source": [
    "Problem 3: Remove the nth node from the end of a linked list.\n",
    "\n",
    "Input: 1 -> 2 -> 3 -> 4 -> 5, n = 2\n",
    "\n",
    "Output: 1 -> 2 -> 3 -> 5"
   ]
  },
  {
   "cell_type": "code",
   "execution_count": 7,
   "id": "8676f356-6adc-42c9-b074-0f8e413ac9ef",
   "metadata": {},
   "outputs": [
    {
     "name": "stdout",
     "output_type": "stream",
     "text": [
      "original linked list\n",
      "1-->2-->3-->4-->5-->\n",
      "after removing nth node\n",
      "1-->2-->4-->5-->"
     ]
    }
   ],
   "source": [
    "def remove(head,n):\n",
    "    # k is valid or not\n",
    "    if(n<0 or n>=length(head) or not head):\n",
    "        return head\n",
    "    \n",
    "    # removing first element\n",
    "    if(n==0):\n",
    "        head=head.getNext()\n",
    "    \n",
    "    # removing nyh position element\n",
    "    else:\n",
    "        i=0\n",
    "        temp = head\n",
    "        while(i<n-1):\n",
    "            temp = temp.getNext()\n",
    "            i+=1\n",
    "            \n",
    "        temp.setNext(temp.getNext().getNext())\n",
    "        \n",
    "    return head   \n",
    "\n",
    "head = Node(1)\n",
    "node2 = Node(2)\n",
    "node3 = Node(3)\n",
    "node4 = Node(4)\n",
    "node5 = Node(5)\n",
    "    \n",
    "head.setNext(node2)\n",
    "node2.setNext(node3)\n",
    "node3.setNext(node4)\n",
    "node4.setNext(node5)\n",
    "print(\"original linked list\")\n",
    "traverse(head)\n",
    "print()\n",
    "remove_nth_node = remove(head,2)\n",
    "print(\"after removing nth node\")\n",
    "while remove_nth_node :\n",
    "    print(remove_nth_node.getData(),end=\"-->\")\n",
    "    remove_nth_node =remove_nth_node.getNext()"
   ]
  },
  {
   "cell_type": "markdown",
   "id": "2acb8108-9f00-4723-a62f-460ef48dc522",
   "metadata": {},
   "source": [
    "Problem 4: Find the intersection point of two linked lists.\n",
    "\n",
    "Input: List 1: 1 -> 2 -> 3 -> 4, List 2: 9 -> 8 -> 3 -> 4  \n",
    "Output: Node with value 3"
   ]
  },
  {
   "cell_type": "code",
   "execution_count": 8,
   "id": "c846ed37-a137-40eb-8cd0-27228c9eaad2",
   "metadata": {},
   "outputs": [
    {
     "name": "stdout",
     "output_type": "stream",
     "text": [
      "Output: 3\n"
     ]
    }
   ],
   "source": [
    "#List-1 \n",
    "head1 =Node(1)\n",
    "node2 =Node(2)\n",
    "node3 =Node(3)\n",
    "node4 =Node(4)\n",
    "#Linkage of node\n",
    "head1.setNext(node2)\n",
    "node2.setNext(node3)\n",
    "node3.setNext(node4)\n",
    "\n",
    "#list-2 \n",
    "head2 =Node(9)\n",
    "node8 =Node(8)\n",
    "node3 =Node(3)\n",
    "node4 =Node(4)\n",
    "#linkage of nodes\n",
    "head2.setNext(node8)\n",
    "node8.setNext(node3)\n",
    "node3.setNext(node4)\n",
    "\n",
    "def IntersectPoint(head1 ,head2):\n",
    "    temp1 = head1\n",
    "    temp2 = head2\n",
    "    \n",
    "    while(temp1 and temp2):\n",
    "        if(temp1.getData() == temp2.getData()):\n",
    "            return temp1.getData()\n",
    "        temp1 =temp1.getNext()\n",
    "        temp2 =temp2.getNext()\n",
    "\n",
    "        \n",
    "print(\"Output:\",IntersectPoint(head1 ,head2))"
   ]
  },
  {
   "cell_type": "markdown",
   "id": "e99628dd-fe33-49bf-a473-ed2b3e00e4d2",
   "metadata": {},
   "source": [
    "Problem 5: Remove duplicates from a sorted linked list.\n",
    "\n",
    "Input: 1 -> 1 -> 2 -> 3 -> 3  \n",
    "Output: 1 -> 2 -> 3"
   ]
  },
  {
   "cell_type": "code",
   "execution_count": 9,
   "id": "b5ff7d73-3055-45ea-91f1-cf1711ecc5d0",
   "metadata": {},
   "outputs": [
    {
     "name": "stdout",
     "output_type": "stream",
     "text": [
      "1-->1-->2-->3-->3-->\n",
      "1-->2-->3-->"
     ]
    }
   ],
   "source": [
    "head =Node(1)\n",
    "node1 =Node(1)\n",
    "node2 =Node(2)\n",
    "node3 =Node(3)\n",
    "node4 =Node(3)\n",
    "\n",
    "head.setNext(node1)\n",
    "node1.setNext(node2)\n",
    "node2.setNext(node3)\n",
    "node3.setNext(node4)\n",
    "traverse(head)\n",
    "print()\n",
    "\n",
    "def remove_dups(head):\n",
    "    # Current = head \n",
    "    curent = head\n",
    "    # check current value and current of next value\n",
    "    while(curent != None and curent.getNext() != None):\n",
    "        # check the condition \n",
    "        if(curent.getData() == curent.getNext().getData()):\n",
    "            curent.setNext(curent.getNext().getNext()) \n",
    "        else:\n",
    "            curent= curent.getNext()       \n",
    "    return head\n",
    "\n",
    "duplicates_remove =remove_dups(head)\n",
    "while duplicates_remove :\n",
    "    print(duplicates_remove.getData(),end=\"-->\")\n",
    "    duplicates_remove =duplicates_remove.getNext()"
   ]
  },
  {
   "cell_type": "markdown",
   "id": "6681bdd6-043c-41fd-870f-ce1c80de2757",
   "metadata": {},
   "source": [
    "Problem 6: Add two numbers represented by linked lists (where each node contains a single digit).   \n",
    "    Input: List 1: 2 -> 4 -> 3, List 2: 5 -> 6 -> 4 (represents 342 + 465)   \n",
    "    Output: 7 -> 0 -> 8 (represents 807)"
   ]
  },
  {
   "cell_type": "code",
   "execution_count": 10,
   "id": "f0a5711b-cf1a-49b7-9a1b-20f68a52a7a4",
   "metadata": {},
   "outputs": [
    {
     "name": "stdout",
     "output_type": "stream",
     "text": [
      "7-->0-->8-->"
     ]
    }
   ],
   "source": [
    "head1 =Node(2)\n",
    "node4 =Node(4)\n",
    "node3 =Node(3)\n",
    "head1.setNext(node4)\n",
    "node4.setNext(node3)\n",
    "\n",
    "head2 =Node(5)\n",
    "node6= Node(6)\n",
    "node4 =Node(4)\n",
    "head2.setNext(node6)\n",
    "node6.setNext(node4)\n",
    "\n",
    "def add_linked_list_numbers(head1, head2):\n",
    "    l1 = head1\n",
    "    l2 =head2\n",
    "    if not l1:\n",
    "        return l2\n",
    "    if not l2:\n",
    "        return l1\n",
    "\n",
    "    # Create a dummy head node \n",
    "    dummy_head = Node(0)\n",
    "    curr = dummy_head\n",
    "    carry = 0\n",
    "\n",
    "    while l1 or l2 or carry:\n",
    "        val1 = l1.getData() \n",
    "        val2 = l2.getData() \n",
    "        sum_val = val1 + val2 + carry\n",
    "        data = sum_val % 10\n",
    "\n",
    "        # Create a new node for the digit and update carry\n",
    "        curr.setNext(Node(data))\n",
    "        carry = sum_val // 10\n",
    "\n",
    "        # Move to the next nodes in the lists\n",
    "        curr = curr.getNext()\n",
    "        l1 = l1.getNext() \n",
    "        l2 = l2.getNext() \n",
    "\n",
    "    return dummy_head.getNext()\n",
    "\n",
    "get_data =add_linked_list_numbers(head1,head2)\n",
    "while get_data :\n",
    "    print(get_data.getData(),end=\"-->\")\n",
    "    get_data =get_data.getNext()"
   ]
  },
  {
   "cell_type": "markdown",
   "id": "f093a6f0-23f9-4351-baed-bbb0e4b0c385",
   "metadata": {},
   "source": [
    "Problem 7: Swap nodes in pairs in a linked list.   \n",
    " Input: 1 -> 2 -> 3 -> 4   \n",
    " Output: 2 -> 1 -> 4 -> 3"
   ]
  },
  {
   "cell_type": "code",
   "execution_count": 11,
   "id": "25bc1285-f527-4ade-9bd3-ad0dd5b76c0f",
   "metadata": {},
   "outputs": [
    {
     "name": "stdout",
     "output_type": "stream",
     "text": [
      "1-->2-->3-->4-->"
     ]
    }
   ],
   "source": [
    "head  =Node(1)\n",
    "node2 =Node(2)\n",
    "node3 =Node(3)\n",
    "node4 =Node(4)\n",
    "# Create Linkage\n",
    "head.setNext(node2)\n",
    "node2.setNext(node3)\n",
    "node3.setNext(node4)\n",
    "traverse(head)"
   ]
  },
  {
   "cell_type": "code",
   "execution_count": 12,
   "id": "d8dc3ab7-83d6-4630-85d6-997e15351075",
   "metadata": {},
   "outputs": [
    {
     "name": "stdout",
     "output_type": "stream",
     "text": [
      "2-->1-->4-->3-->"
     ]
    }
   ],
   "source": [
    "def swapNodes(head):\n",
    "    prev =dummyNode =Node(None)\n",
    "   \n",
    "    while(head and head.getNext()):\n",
    "        firstNode =head\n",
    "        secondNode=head.getNext()\n",
    "        \n",
    "        prev.setNext(secondNode)\n",
    "        firstNode.setNext(secondNode.getNext())\n",
    "        secondNode.setNext(firstNode)\n",
    "        \n",
    "        prev =firstNode\n",
    "        head =firstNode.getNext()\n",
    "    return dummyNode.getNext()\n",
    "\n",
    "swap =swapNodes(head)\n",
    "while swap :\n",
    "    print(swap.getData(),end =\"-->\")\n",
    "    swap =swap.getNext()"
   ]
  },
  {
   "cell_type": "markdown",
   "id": "73feca8d-f078-4004-a7c9-ab79c51bda35",
   "metadata": {},
   "source": [
    "Problem 8: Reverse nodes in a linked list in groups of k.   \n",
    "Input: 1 -> 2 -> 3 -> 4 -> 5, k = 3   \n",
    "Output: 3 -> 2 -> 1 -> 4 -> 5"
   ]
  },
  {
   "cell_type": "code",
   "execution_count": 13,
   "id": "156acd0d-160e-43f1-b2be-21e5b6b25863",
   "metadata": {},
   "outputs": [
    {
     "name": "stdout",
     "output_type": "stream",
     "text": [
      "3-->2-->1-->4-->5-->"
     ]
    }
   ],
   "source": [
    "head =Node(1)\n",
    "Node2=Node(2)\n",
    "Node3=Node(3)\n",
    "Node4=Node(4)\n",
    "Node5=Node(5)\n",
    "\n",
    "# create a linkage of linked list\n",
    "head.setNext(Node2)\n",
    "Node2.setNext(Node3)\n",
    "Node3.setNext(Node4)\n",
    "Node4.setNext(Node5)\n",
    "\n",
    "\n",
    "def reversedK(head ,K):\n",
    "    prev = None\n",
    "    current = head\n",
    "    temp = head\n",
    "    \n",
    "    if(K==1 or K > 5 or head == None):\n",
    "        return head\n",
    "    \n",
    "    while(current):\n",
    "        if(current.getData() >= K+1):\n",
    "            temp.setNext(nxtNode)\n",
    "            break\n",
    "            \n",
    "        nxtNode =current.getNext()\n",
    "        current.setNext(prev)\n",
    "        prev =current\n",
    "        current =nxtNode\n",
    "        \n",
    "            \n",
    "    return prev\n",
    "\n",
    "reverse_Node = reversedK(head,3)\n",
    "while reverse_Node :\n",
    "    print(reverse_Node.getData(),end=\"-->\")\n",
    "    reverse_Node =reverse_Node.getNext()"
   ]
  },
  {
   "cell_type": "markdown",
   "id": "7034cfc8-7360-4893-99fc-e8b8982977a4",
   "metadata": {},
   "source": [
    "Problem 9: Determine if a linked list is a palindrome.  \n",
    "Input: 1 -> 2 -> 2 -> 1   \n",
    "Output: True"
   ]
  },
  {
   "cell_type": "code",
   "execution_count": 14,
   "id": "f81cbb20-32b3-4818-a885-1a4672bdc81a",
   "metadata": {},
   "outputs": [
    {
     "name": "stdout",
     "output_type": "stream",
     "text": [
      "1-->2-->3-->1-->1-->"
     ]
    }
   ],
   "source": [
    "head =Node(1)\n",
    "node2 =Node(2)\n",
    "node3 =Node(3)\n",
    "node4 =Node(1)\n",
    "node5 =Node(1)\n",
    "\n",
    "head.setNext(node2)\n",
    "node2.setNext(node3)\n",
    "node3.setNext(node4)\n",
    "node4.setNext(node5)\n",
    "traverse(head)"
   ]
  },
  {
   "cell_type": "code",
   "execution_count": 15,
   "id": "7b2dccd0-cdcf-4797-b3f7-89e8b4170a9c",
   "metadata": {},
   "outputs": [
    {
     "name": "stdout",
     "output_type": "stream",
     "text": [
      "Given Linked List is Palindrome Or Not ==> False\n"
     ]
    }
   ],
   "source": [
    "def FindMid(head):\n",
    "    slow =head\n",
    "    fast =head\n",
    "    while(fast and fast.getNext()):\n",
    "        slow =slow.getNext()\n",
    "        fast =fast.getNext().getNext()\n",
    "    return slow\n",
    "\n",
    "# Reverse LL from its mid\n",
    "def reverseList(head):\n",
    "    prev =None\n",
    "    curr =head\n",
    "    while(curr):\n",
    "        nxt_node =curr.getNext()\n",
    "        curr.setNext(prev)\n",
    "        prev =curr\n",
    "        curr =nxt_node\n",
    "    return prev\n",
    "\n",
    "# Check Palindrome of LL\n",
    "def checkPalindrome(head):\n",
    "    temp = head\n",
    "    if(temp == None):\n",
    "        return head\n",
    "    \n",
    "    mid =FindMid(head)\n",
    "    last =reverseList(mid.getNext())\n",
    "    \n",
    "    while(last != None):\n",
    "        if(last.getData() != temp.getData()):\n",
    "            return False\n",
    "        last =last.getNext()\n",
    "        temp =temp.getNext()\n",
    "    return True\n",
    "\n",
    "print(\"Given Linked List is Palindrome Or Not ==>\",checkPalindrome(head))"
   ]
  },
  {
   "cell_type": "markdown",
   "id": "5554afdd-2e71-473f-b14a-eb69c7c0d53c",
   "metadata": {},
   "source": [
    "Problem 10: Rotate a linked list to the right by k places.  \n",
    "Input: 1 -> 2 -> 3 -> 4 -> 5, k = 2  \n",
    "Output: 4 -> 5 -> 1 -> 2 -> 3"
   ]
  },
  {
   "cell_type": "code",
   "execution_count": 16,
   "id": "c274edaf-7791-4f40-b27d-7c25d5ea2e13",
   "metadata": {},
   "outputs": [
    {
     "name": "stdout",
     "output_type": "stream",
     "text": [
      "4 --> 5 --> 1 --> 2 --> 3 --> "
     ]
    }
   ],
   "source": [
    "head =Node(1)\n",
    "node2 =Node(2)\n",
    "node3 =Node(3)\n",
    "node4 =Node(4)\n",
    "node5 =Node(5)\n",
    "\n",
    "head.setNext(node2)\n",
    "node2.setNext(node3)\n",
    "node3.setNext(node4)\n",
    "node4.setNext(node5)\n",
    "\n",
    "def length(head):\n",
    "    temp =head\n",
    "    leng =0\n",
    "    while(temp):\n",
    "        leng +=1\n",
    "        temp =temp.getNext()\n",
    "    return leng\n",
    "\n",
    "def rotateLL(head ,k):\n",
    "    cur =head\n",
    "    tail =head\n",
    "    k = k % length(head)\n",
    "    if k == 0 :\n",
    "        return head\n",
    "    \n",
    "    for i in range(length(head)-k -1):\n",
    "        cur =cur.getNext()\n",
    "    newhead =cur.getNext()\n",
    "    cur.setNext(None)\n",
    "    \n",
    "    temp = newhead\n",
    "    while(temp.getNext() != None):\n",
    "        temp =temp.getNext()\n",
    "    temp.setNext(head)\n",
    "    return newhead\n",
    "        \n",
    "rot= rotateLL(head,2)\n",
    "while rot:\n",
    "    print(rot.getData(),end=\" --> \")\n",
    "    rot =rot.getNext()"
   ]
  },
  {
   "cell_type": "markdown",
   "id": "28a5127f-767e-4494-a822-89587d1efed6",
   "metadata": {},
   "source": [
    "Problem 11: Flatten a multilevel doubly linked list.   \n",
    "Input: 1 <-> 2 <-> 3 <-> 7 <-> 8 <-> 11 -> 12, 4 <-> 5 -> 9 -> 10, 6 -> 13  \n",
    "Output: 1 <-> 2 <-> 3 <-> 4 <-> 5 <-> 6 <-> 7 <-> 8 <-> 9 <-> 10 <-> 11 <-> 12 <-> 13"
   ]
  },
  {
   "cell_type": "code",
   "execution_count": 17,
   "id": "2a05829f-486b-440f-aee4-99ebd9aa76e5",
   "metadata": {},
   "outputs": [
    {
     "name": "stdout",
     "output_type": "stream",
     "text": [
      "1 --> 2 --> 3 --> 4 --> 5 --> 6 --> 7 --> 8 --> 9 --> 10 --> 11 --> 12 --> 13 --> \n"
     ]
    }
   ],
   "source": [
    "class DoublyLinkedListNode:\n",
    "    def __init__(self, data, next = None, prev = None, child = None) -> None:\n",
    "        self.data = data\n",
    "        self.next = next\n",
    "        self.prev = prev\n",
    "        self.child = child\n",
    "\n",
    "def print_linked_list(head):\n",
    "    while head:\n",
    "        print(head.data, end=' --> ')\n",
    "        head = head.next\n",
    "    \n",
    "    print()\n",
    "\n",
    "# Flatten the node and return the tail\n",
    "def flattenDoublyLinkedList(node: DoublyLinkedListNode):\n",
    "    if not node or (not node.next and not node.child):\n",
    "        return node\n",
    "    \n",
    "    current_node = node\n",
    "    next_node = current_node.next\n",
    "\n",
    "    if current_node.child:\n",
    "        flatten_node_tail = flattenDoublyLinkedList(current_node.child)\n",
    "        current_node.next = current_node.child \n",
    "        current_node = flatten_node_tail\n",
    "    \n",
    "    current_node.next = next_node\n",
    "    \n",
    "    return flattenDoublyLinkedList(next_node)\n",
    "node1 = DoublyLinkedListNode(1)\n",
    "node2 = DoublyLinkedListNode(2, prev=node1)\n",
    "node3 = DoublyLinkedListNode(3, prev=node2)\n",
    "node4 = DoublyLinkedListNode(4)\n",
    "node5 = DoublyLinkedListNode(5, prev=node4)\n",
    "node6 = DoublyLinkedListNode(6, prev=node5)\n",
    "node3.child = node4\n",
    "\n",
    "node7 = DoublyLinkedListNode(7, prev=node3)\n",
    "node8 = DoublyLinkedListNode(8, prev=node7)\n",
    "node9 = DoublyLinkedListNode(9)\n",
    "node10 = DoublyLinkedListNode(10, prev=node9)\n",
    "node8.child = node9\n",
    "\n",
    "node11 = DoublyLinkedListNode(11, prev=node8)\n",
    "node12 = DoublyLinkedListNode(12, prev=node11)\n",
    "node13 = DoublyLinkedListNode(13, prev=node12)\n",
    "\n",
    "node1.next = node2\n",
    "node2.next = node3\n",
    "node3.next = node7\n",
    "node4.next = node5\n",
    "node5.next = node6\n",
    "node7.next = node8\n",
    "node8.next = node11\n",
    "node9.next = node10\n",
    "node11.next = node12\n",
    "node12.next = node13\n",
    "\n",
    "flattenDoublyLinkedList(node1)\n",
    "\n",
    "print_linked_list(node1)"
   ]
  },
  {
   "cell_type": "markdown",
   "id": "88f58277-d373-4a82-ae83-97c4c4622ab3",
   "metadata": {},
   "source": [
    "Problem 12: Rearrange a linked list such that all even positioned nodes are placed at the end.   \n",
    "Input: 1 -> 2 -> 3 -> 4 -> 5   \n",
    "Output: 1 -> 3 -> 5 -> 2 -> 4"
   ]
  },
  {
   "cell_type": "code",
   "execution_count": 18,
   "id": "d7a09047-6ece-4be9-a900-87df335e2330",
   "metadata": {},
   "outputs": [
    {
     "name": "stdout",
     "output_type": "stream",
     "text": [
      "1 --> 3 --> 5 --> 2 --> 4 --> "
     ]
    }
   ],
   "source": [
    "head =Node(1)\n",
    "node2 =Node(2)\n",
    "node3 =Node(3)\n",
    "node4 =Node(4)\n",
    "node5 =Node(5)\n",
    "# Create Linkage LL\n",
    "head.setNext(node2)\n",
    "node2.setNext(node3)\n",
    "node3.setNext(node4)\n",
    "node4.setNext(node5)\n",
    "# traverse(head)\n",
    "\n",
    "def RearrangeLL(head):\n",
    "    if(head == None and head.getNext() == None):\n",
    "        return head\n",
    "    \n",
    "    odd =head\n",
    "    even =head.getNext()\n",
    "    evenHead =even\n",
    "    \n",
    "    while(odd and odd.getNext()):\n",
    "        odd.setNext(odd.getNext().getNext())\n",
    "        even.setNext(even.getNext().getNext())\n",
    "        odd =odd.getNext()\n",
    "        even =even.getNext()\n",
    "        \n",
    "    odd.setNext(evenHead)\n",
    "    return head \n",
    "\n",
    "\n",
    "rearrange=RearrangeLL(head)\n",
    "while rearrange :\n",
    "    print(rearrange.getData(),end=\" --> \")\n",
    "    rearrange =rearrange.getNext()"
   ]
  },
  {
   "cell_type": "markdown",
   "id": "f3bfb6d0-2095-41ee-a674-2f68edacc40f",
   "metadata": {},
   "source": [
    "Problem 13: Given a non-negative number represented as a linked list, add one to it.  \n",
    "Input: 1 -> 2 -> 3 (represents the number 123)  \n",
    "Output: 1 -> 2 -> 4 (represents the number 124)"
   ]
  },
  {
   "cell_type": "code",
   "execution_count": 19,
   "id": "ed8f0af4-7a49-46f6-abaa-8eb47a79408a",
   "metadata": {},
   "outputs": [
    {
     "name": "stdout",
     "output_type": "stream",
     "text": [
      "1 --> 2 --> 4 --> "
     ]
    }
   ],
   "source": [
    "head =Node(1)\n",
    "node2 =Node(2)\n",
    "node3 =Node(3)\n",
    "# Create linkage \n",
    "head.setNext(node2)\n",
    "node2.setNext(node3)\n",
    "# traverse(head)\n",
    "\n",
    "def length(head):\n",
    "    temp = head\n",
    "    countLength= 0\n",
    "    while(temp):\n",
    "        countLength +=1\n",
    "        temp =temp.getNext()\n",
    "    return countLength \n",
    "\n",
    "def NonNegative(head):\n",
    "    if(head ==None and head.getNext() == None):\n",
    "        return \n",
    "    \n",
    "    temp = head\n",
    "    i =1\n",
    "    while(i < length(head)):\n",
    "        temp =temp.getNext()\n",
    "        i +=1\n",
    "    \n",
    "    curVal = temp.getData()\n",
    "    temp.setData(curVal+1)\n",
    "    return head\n",
    "\n",
    "num = NonNegative(head)\n",
    "while(num):\n",
    "    print(num.getData(),end=\" --> \")\n",
    "    num =num.getNext()\n"
   ]
  },
  {
   "cell_type": "markdown",
   "id": "659f7b8a-38ed-494f-9e34-78389f5a2976",
   "metadata": {},
   "source": [
    "Problem 14: Given a sorted array and a target value, return the index if the target is found. If not, return the index where it would be inserted.  \n",
    "Input: nums = [1, 3, 5, 6], target = 5   \n",
    "Output: 2"
   ]
  },
  {
   "cell_type": "code",
   "execution_count": 20,
   "id": "13a30b23-7fde-476e-9296-eed803a77356",
   "metadata": {},
   "outputs": [
    {
     "name": "stdout",
     "output_type": "stream",
     "text": [
      "The output is : 2\n"
     ]
    }
   ],
   "source": [
    "def SortedArray(arr ,target):\n",
    "    for i in range(len(arr)):\n",
    "        if(arr[i] == target):\n",
    "            return i\n",
    "        \n",
    "        elif(arr[i] > target):\n",
    "            return i\n",
    "    return -1\n",
    "\n",
    "arr =[1,3,5,6]\n",
    "print(\"The output is :\",SortedArray(arr,5))"
   ]
  },
  {
   "cell_type": "markdown",
   "id": "ddf06729-18a0-4cd9-86b1-dea776243ce6",
   "metadata": {},
   "source": [
    "Problem 15: Find the minimum element in a rotated sorted array.  \n",
    "Input: [4, 5, 6, 7, 0, 1, 2]  \n",
    "Output: 0\n"
   ]
  },
  {
   "cell_type": "code",
   "execution_count": 21,
   "id": "a0b7c757-9033-44bb-b652-73a040ddfd90",
   "metadata": {},
   "outputs": [
    {
     "data": {
      "text/plain": [
       "0"
      ]
     },
     "execution_count": 21,
     "metadata": {},
     "output_type": "execute_result"
    }
   ],
   "source": [
    "def FindMinElememt(arr):\n",
    "    mini =0\n",
    "    for i in range(len(arr)):\n",
    "       \n",
    "        if(arr[i] < arr[mini]):\n",
    "            mini = arr[i]\n",
    "        return mini\n",
    "\n",
    "arr =[4,5,6,7,0,1,2]\n",
    "FindMinElememt(arr)"
   ]
  },
  {
   "cell_type": "markdown",
   "id": "1bc4d4b9-3139-457c-91de-779f24f5a27f",
   "metadata": {},
   "source": [
    "Problem 16: Search for a target value in a rotated sorted array.   \n",
    "Input: nums = [4, 5, 6, 7, 0, 1, 2], target = 0   \n",
    "Output: 4"
   ]
  },
  {
   "cell_type": "code",
   "execution_count": 22,
   "id": "ee802eff-4686-4319-b73d-a16dda8f3f02",
   "metadata": {},
   "outputs": [
    {
     "name": "stdout",
     "output_type": "stream",
     "text": [
      "index of serch value is:  4\n"
     ]
    }
   ],
   "source": [
    "def SerachTargetValue(arr ,target):\n",
    "    for i in range(len(arr)):\n",
    "        if(arr[i] == target):\n",
    "            return i\n",
    "    else:\n",
    "        return -1\n",
    "arr =[4, 5, 6, 7, 0, 1, 2]\n",
    "print(\"index of serch value is: \",SerachTargetValue(arr ,0))"
   ]
  },
  {
   "cell_type": "markdown",
   "id": "a0d78685-e18e-451d-b6ae-a2db891d72eb",
   "metadata": {},
   "source": [
    "Problem 17: Find the peak element in an array. A peak element is greater than its neighbors.  \n",
    "Input: nums = [1, 2, 3, 1]   \n",
    "Output: 2 (index of peak element)"
   ]
  },
  {
   "cell_type": "code",
   "execution_count": 23,
   "id": "2e6f86e9-8e0f-4bd3-b145-b303ab1f32e6",
   "metadata": {},
   "outputs": [
    {
     "data": {
      "text/plain": [
       "2"
      ]
     },
     "execution_count": 23,
     "metadata": {},
     "output_type": "execute_result"
    }
   ],
   "source": [
    "def PeakElement(arr):\n",
    "    maxVal = 0\n",
    "    index = 0\n",
    "    for i in range(len(arr)):\n",
    "        if(arr[i] > arr[maxVal]):\n",
    "            maxVal = i\n",
    "    return maxVal\n",
    "\n",
    "# driver Code\n",
    "arr =[1, 2, 3, 1]\n",
    "PeakElement(arr)"
   ]
  },
  {
   "cell_type": "markdown",
   "id": "d3f0dfbb-8d1d-4a70-b37e-10de30e9d96d",
   "metadata": {},
   "source": [
    "Problem 18: Given a m x n matrix where each row and column is sorted in ascending order, count the number of negative numbers.\n",
    "\n",
    "Input: grid = [[4, 3, 2, -1], [3, 2, 1, -1], [1, 1, -1, -2], [-1, -1, -2, -3]]  \n",
    "Output: 8"
   ]
  },
  {
   "cell_type": "code",
   "execution_count": 24,
   "id": "01dbddef-ab39-4696-8e14-31b0bd867d58",
   "metadata": {},
   "outputs": [
    {
     "name": "stdout",
     "output_type": "stream",
     "text": [
      "Negative number counts are : 8\n"
     ]
    }
   ],
   "source": [
    "def count_Negative_Num(grid, m ,n):\n",
    "    count_Negative = 0\n",
    "    for i in range(m):\n",
    "        for j in range(n):\n",
    "            if(grid[i][j] < 0):\n",
    "                count_Negative +=1\n",
    "    return count_Negative\n",
    "\n",
    "grid =[[4, 3, 2, -1], \n",
    "        [3, 2, 1, -1], \n",
    "        [1, 1, -1, -2],\n",
    "        [-1, -1, -2, -3]]\n",
    "\n",
    "print(\"Negative number counts are :\",count_Negative_Num(grid ,4,4))"
   ]
  },
  {
   "cell_type": "markdown",
   "id": "7df3283e-c9db-4227-ab57-bbc039d1771a",
   "metadata": {},
   "source": [
    "Problem 19: Given a 2D matrix sorted in ascending order in each row, and the first integer of each row is greater than the last integer of the previous row, determine if a target value is present in the matrix.  \n",
    "Input: matrix = [[1, 3, 5, 7], [10, 11, 16, 20], [23, 30, 34, 60]], target = 3  \n",
    "Output: True  "
   ]
  },
  {
   "cell_type": "code",
   "execution_count": 25,
   "id": "31fd2e4d-75cb-490d-becb-6eb90abff0ee",
   "metadata": {},
   "outputs": [
    {
     "name": "stdout",
     "output_type": "stream",
     "text": [
      "1 3 5 7 10 11 16 20 23 30 34 60 "
     ]
    }
   ],
   "source": [
    "matrix = [[1, 3, 5, 7],\n",
    "          [10, 11, 16, 20],\n",
    "          [23, 30, 34, 60]]\n",
    "\n",
    "for i in range(len(matrix)):\n",
    "    for j in range(len(matrix[i])):\n",
    "        print(matrix[i][j],end=\" \")\n",
    "    "
   ]
  },
  {
   "cell_type": "code",
   "execution_count": 26,
   "id": "56e6a754-5e5b-43e8-b8c7-fcbc2e4f41bb",
   "metadata": {},
   "outputs": [
    {
     "data": {
      "text/plain": [
       "True"
      ]
     },
     "execution_count": 26,
     "metadata": {},
     "output_type": "execute_result"
    }
   ],
   "source": [
    "def FindValue(matrix ,target):\n",
    "    for i in range(len(matrix)):\n",
    "        for j in range(len(matrix[i])):\n",
    "            if(matrix[i][j] == target):\n",
    "                return True\n",
    "    return False\n",
    "\n",
    "matrix = [[1, 3, 5, 7],\n",
    "          [10, 11, 16, 20],\n",
    "          [23, 30, 34, 60]]\n",
    "\n",
    "FindValue(matrix ,3)"
   ]
  },
  {
   "cell_type": "markdown",
   "id": "ed195f74-53f6-4ea5-b0d6-e1e7ada379da",
   "metadata": {},
   "source": [
    "Problem 20: Find Median in Two Sorted Arrays  \n",
    "Problem: Given two sorted arrays, find the median of the combined sorted array.  \n",
    "Input: nums1 = [1, 3], nums2 = [2]  \n",
    "Output: 2.0  "
   ]
  },
  {
   "cell_type": "code",
   "execution_count": 27,
   "id": "7b023d30-d41e-44a0-a1cc-f13813c83ae6",
   "metadata": {},
   "outputs": [
    {
     "name": "stdout",
     "output_type": "stream",
     "text": [
      "2.0\n"
     ]
    }
   ],
   "source": [
    "def FindMedian(num1,num2):\n",
    "    num1.extend(num2)\n",
    "    sort =sorted(num1)\n",
    "    \n",
    "    sumCount = 0\n",
    "    for i in range(len(sort)):\n",
    "        sumCount =sumCount + sort[i]\n",
    "     \n",
    "    Median =sumCount /len(sort)\n",
    "    return Median\n",
    "num1 =[1,3]\n",
    "num2 =[2]\n",
    "print(FindMedian(num1,num2))"
   ]
  },
  {
   "cell_type": "markdown",
   "id": "9908f85f-e16a-4c01-b6ea-c90665eb631c",
   "metadata": {},
   "source": [
    "Problem 21: Given a sorted character array and a target letter, find the smallest letter in the array that is greater than the target.  \n",
    "Input: letters = ['c', 'f', 'j'], target = a  \n",
    "Output: 'c'"
   ]
  },
  {
   "cell_type": "code",
   "execution_count": 28,
   "id": "86e9e954-d5fd-4a0e-bc1d-4d0ba7efbd7d",
   "metadata": {},
   "outputs": [
    {
     "name": "stdout",
     "output_type": "stream",
     "text": [
      "c\n"
     ]
    }
   ],
   "source": [
    "def GreaterTraget(letters ,tyarget):\n",
    "    left = 0\n",
    "    right = len(letters)-1\n",
    "    \n",
    "    while(left <= right):\n",
    "        mid =(left + right)//2\n",
    "        if letters[mid] <= target :\n",
    "            left +=1\n",
    "            \n",
    "        else:\n",
    "            right =mid -1\n",
    "            \n",
    "    if left < len(letters) :\n",
    "        return letters[left]\n",
    "    else:\n",
    "        return letters[0]\n",
    "\n",
    "\n",
    "letters = ['c', 'f', 'j']\n",
    "target = \"a\"\n",
    "\n",
    "print(GreaterTraget(letters ,target))"
   ]
  },
  {
   "cell_type": "markdown",
   "id": "b97202cc-2367-4580-b72f-ebf75895c85e",
   "metadata": {},
   "source": [
    "Problem 22: Given an array with n objects colored red, white, or blue, sort them in-place so that objects of the same color are adjacent, with the colors in the order red, white, and blue.   \n",
    "Input: nums = [2, 0, 2, 1, 1, 0]  \n",
    "Output: [0, 0, 1, 1, 2, 2]  "
   ]
  },
  {
   "cell_type": "code",
   "execution_count": 29,
   "id": "ff37c238-5f08-4461-9023-2554e4d09577",
   "metadata": {},
   "outputs": [
    {
     "name": "stdout",
     "output_type": "stream",
     "text": [
      "[0, 0, 1, 1, 2, 2]\n"
     ]
    }
   ],
   "source": [
    "def AdjaceentColour(arr):\n",
    "    l = 0\n",
    "    n =len(arr)\n",
    "    r = n - 1\n",
    " \n",
    "    i = 0\n",
    "    while i < n and i <= r:\n",
    "        # current element is 0\n",
    "        if arr[i] == 0:\n",
    "            arr[l], arr[i] = arr[i], arr[l]\n",
    "            l += 1\n",
    "            i += 1\n",
    "        # current element is 2\n",
    "        elif arr[i] == 2:\n",
    "            arr[i], arr[r] = arr[r], arr[i]\n",
    "            r -= 1\n",
    "        # current element is 1\n",
    "        else:\n",
    "            i += 1\n",
    "    return arr    \n",
    "arr =[2, 0, 2, 1, 1, 0]\n",
    "print(AdjaceentColour(arr))"
   ]
  },
  {
   "cell_type": "markdown",
   "id": "c261e1db-8794-47c9-a5d3-d0687748c5a6",
   "metadata": {},
   "source": [
    "Problem 23: Find the kth largest element in an unsorted array.  \n",
    "Input: nums = [3, 2, 1, 5, 6, 4], k = 2   \n",
    "Output: 5"
   ]
  },
  {
   "cell_type": "code",
   "execution_count": 30,
   "id": "9a836a13-000b-4015-bd1c-42fe393692b2",
   "metadata": {},
   "outputs": [
    {
     "data": {
      "text/plain": [
       "5"
      ]
     },
     "execution_count": 30,
     "metadata": {},
     "output_type": "execute_result"
    }
   ],
   "source": [
    "def BubbleSort(arr):\n",
    "    for i in range(len(arr)-1,0,-1):\n",
    "        for j in range(i):\n",
    "            if(arr[j] > arr[j+1]):\n",
    "                arr[j],arr[j+1] = arr[j+1],arr[j]\n",
    "\n",
    "def kth_largestElement(arr,k):\n",
    "    BubbleSort(arr)\n",
    "    n =len(arr)\n",
    "    k = n-k\n",
    "    return arr[k]\n",
    "\n",
    "kth_largestElement([3, 2, 1, 5, 6, 4],2)"
   ]
  },
  {
   "cell_type": "markdown",
   "id": "fbeed1ac-79c8-4d82-abdd-6c99be06d7ac",
   "metadata": {},
   "source": [
    "Problem 24: Given an unsorted array, reorder it in-place such that nums[0] <= nums[1] >= nums[2] <= nums[3].      \n",
    "Input: nums = [3, 5, 2, 1, 6, 4]  \n",
    "Output: [3, 5, 1, 6, 2, 4]"
   ]
  },
  {
   "cell_type": "code",
   "execution_count": 31,
   "id": "32f2fa06-c9af-4986-8ed8-bc8acf32e750",
   "metadata": {},
   "outputs": [
    {
     "name": "stdout",
     "output_type": "stream",
     "text": [
      "[3, 5, 1, 6, 2, 4]\n"
     ]
    }
   ],
   "source": [
    "def Waves(arr):\n",
    "    for i in range(0,len(arr)-1 ,2):\n",
    "        if(i>0 and arr[i]>arr[i-1]):\n",
    "            arr[i],arr[i-1] =arr[i-1],arr[i]\n",
    "            \n",
    "        if(i< len(arr)-1 and arr[i] > arr[i+1]):\n",
    "            arr[i],arr[i+1] =arr[i+1],arr[i]\n",
    "    return arr\n",
    "            \n",
    "arr =[3, 5, 2, 1, 6, 4]\n",
    "print(Waves(arr))"
   ]
  },
  {
   "cell_type": "code",
   "execution_count": 32,
   "id": "d27b9e38-226e-4001-807e-62815e3baed0",
   "metadata": {},
   "outputs": [
    {
     "data": {
      "text/plain": [
       "[3, 5, 1, 6, 2, 4]"
      ]
     },
     "execution_count": 32,
     "metadata": {},
     "output_type": "execute_result"
    }
   ],
   "source": [
    "def SineWave(arr):\n",
    "    i = 0\n",
    "    while(i < len(arr)-1):\n",
    "        if(i>0 and arr[i] > arr[i-1]):\n",
    "            arr[i],arr[i-1] =arr[i-1],arr[i]\n",
    "        elif(i< len(arr)-1 and arr[i] > arr[i+1]):\n",
    "            arr[i],arr[i+1] =arr[i+1],arr[i]\n",
    "        i +=2\n",
    "    return arr\n",
    "arr =[3, 5, 2, 1, 6, 4]\n",
    "SineWave(arr)"
   ]
  },
  {
   "cell_type": "markdown",
   "id": "456f3c73-548b-4d43-bbdd-3f3f129ce9c6",
   "metadata": {},
   "source": [
    "Problem 25: Given an array of integers, calculate the sum of all its elements.  \n",
    "Input: [1, 2, 3, 4, 5]  \n",
    "Output: 15"
   ]
  },
  {
   "cell_type": "code",
   "execution_count": 33,
   "id": "5da3e1af-5f81-4f6d-817d-f3135eabd83d",
   "metadata": {},
   "outputs": [
    {
     "data": {
      "text/plain": [
       "15"
      ]
     },
     "execution_count": 33,
     "metadata": {},
     "output_type": "execute_result"
    }
   ],
   "source": [
    "def SumofArray(arr):\n",
    "    Sum_ele = 0\n",
    "    for i in range(len(arr)):\n",
    "        Sum_ele = Sum_ele +arr[i]\n",
    "    return Sum_ele\n",
    "arr =[1, 2, 3, 4, 5]\n",
    "SumofArray(arr)"
   ]
  },
  {
   "cell_type": "markdown",
   "id": "edbfd2f5-41c2-4457-8b02-4917bccf489f",
   "metadata": {},
   "source": [
    "Problem 26: Find the maximum element in an array of integers.  \n",
    "Input: [3, 7, 2, 9, 4, 1]  \n",
    "Output: 9  "
   ]
  },
  {
   "cell_type": "code",
   "execution_count": 34,
   "id": "24167dbb-e655-43a9-85e4-9f1039b95e49",
   "metadata": {},
   "outputs": [
    {
     "data": {
      "text/plain": [
       "9"
      ]
     },
     "execution_count": 34,
     "metadata": {},
     "output_type": "execute_result"
    }
   ],
   "source": [
    "def Maximum(arr):\n",
    "    max_ele = arr[0]\n",
    "    for i in range(1,len(arr)):\n",
    "        if(arr[i] > max_ele):\n",
    "            max_ele =arr[i]\n",
    "    return max_ele\n",
    "        \n",
    "arr =[3, 7, 2, 9, 4, 1]\n",
    "Maximum(arr)"
   ]
  },
  {
   "cell_type": "markdown",
   "id": "e64489f2-6f3b-48a6-bb5f-cc2f75c7ef1a",
   "metadata": {},
   "source": [
    "Problem 27: Implement linear search to find the index of a target element in an array.   \n",
    "Input: [5, 3, 8, 2, 7, 4], target = 8  \n",
    "Output: 2"
   ]
  },
  {
   "cell_type": "code",
   "execution_count": 35,
   "id": "56547496-3217-47bc-9dbb-7bdec48d3a69",
   "metadata": {},
   "outputs": [
    {
     "data": {
      "text/plain": [
       "2"
      ]
     },
     "execution_count": 35,
     "metadata": {},
     "output_type": "execute_result"
    }
   ],
   "source": [
    "def LinearSearch(arr,target):\n",
    "    for i in range(len(arr)):\n",
    "        if(arr[i] == target):\n",
    "            return i\n",
    "    return -1\n",
    "arr =[5, 3, 8, 2, 7, 4]\n",
    "LinearSearch(arr,8)"
   ]
  },
  {
   "cell_type": "markdown",
   "id": "103e519f-1ee9-4f37-bda3-24cc164fc3fd",
   "metadata": {},
   "source": [
    "Problem 28 Calculate the factorial of a given number.  \n",
    "Input: 5\n",
    "\n",
    "Output: 120 (as 5! = 5 * 4 * 3 * 2 * 1 = 120"
   ]
  },
  {
   "cell_type": "code",
   "execution_count": 36,
   "id": "cfe5a33b-d124-4e8e-9754-8eab74f9c4e1",
   "metadata": {},
   "outputs": [
    {
     "data": {
      "text/plain": [
       "120"
      ]
     },
     "execution_count": 36,
     "metadata": {},
     "output_type": "execute_result"
    }
   ],
   "source": [
    "def factorial(n):\n",
    "    if(n <= 0):\n",
    "        return 1\n",
    "    return (n*factorial(n-1))\n",
    "    \n",
    "factorial(5)"
   ]
  },
  {
   "cell_type": "markdown",
   "id": "9d9c3444-58e1-4d77-ac8f-6b60d723b53f",
   "metadata": {},
   "source": [
    "Problem 29: Check if a given number is a prime number.  \n",
    "Input: 7  \n",
    "Output: True"
   ]
  },
  {
   "cell_type": "code",
   "execution_count": 37,
   "id": "5d4734a9-0576-4c5b-9d8b-7de26e353ebb",
   "metadata": {},
   "outputs": [
    {
     "data": {
      "text/plain": [
       "True"
      ]
     },
     "execution_count": 37,
     "metadata": {},
     "output_type": "execute_result"
    }
   ],
   "source": [
    "def PrimeNum(num):\n",
    "    if(num == 1):\n",
    "        return 1\n",
    "    elif(num > 1):\n",
    "        flag= None\n",
    "        for i in range(2,num):\n",
    "            if(num % i == 0):\n",
    "                return False\n",
    "                break\n",
    "    return True\n",
    "\n",
    "PrimeNum(7)"
   ]
  },
  {
   "cell_type": "markdown",
   "id": "ad30e8c8-691f-46fd-8925-9f5a49573953",
   "metadata": {},
   "source": [
    "Problem 30: Generate the Fibonacci series up to a given number n.  \n",
    "Input: 8  \n",
    "Output: [0, 1, 1, 2, 3, 5, 8, 13]"
   ]
  },
  {
   "cell_type": "code",
   "execution_count": 38,
   "id": "989fea25-92e4-4237-aaf0-a9afa44df6da",
   "metadata": {},
   "outputs": [
    {
     "name": "stdout",
     "output_type": "stream",
     "text": [
      "0\n",
      "1\n",
      "1\n",
      "2\n",
      "3\n",
      "5\n",
      "8\n",
      "13\n"
     ]
    }
   ],
   "source": [
    "def fibonacci_series(n):\n",
    "    prev,Next = 0,1\n",
    "    print(prev)\n",
    "    print(Next)\n",
    "    \n",
    "    for i in range(0,n-2):\n",
    "        res = prev + Next\n",
    "        print(res)\n",
    "        prev = Next\n",
    "        Next =res      \n",
    "fibonacci_series(8)     "
   ]
  },
  {
   "cell_type": "markdown",
   "id": "180a96c8-5d09-4aa5-b360-a42a280e59db",
   "metadata": {},
   "source": [
    "Problem 31: Calculate the power of a number using recursion.  \n",
    "Input: base = 3, exponent = 4  \n",
    "Output: 81 (as 3^4 = 3 * 3 * 3 * 3 = 81)"
   ]
  },
  {
   "cell_type": "code",
   "execution_count": 39,
   "id": "81f43124-bbbf-4164-838f-3905435596c9",
   "metadata": {},
   "outputs": [
    {
     "data": {
      "text/plain": [
       "81"
      ]
     },
     "execution_count": 39,
     "metadata": {},
     "output_type": "execute_result"
    }
   ],
   "source": [
    "def Power(base ,exp):\n",
    "    if(exp == 0):\n",
    "        return 1\n",
    "    elif(exp == 1):\n",
    "        return base\n",
    "    else :\n",
    "        return base *Power(base,exp-1)\n",
    "    \n",
    "Power(3,4)"
   ]
  },
  {
   "cell_type": "markdown",
   "id": "5d1c040b-8763-414d-913d-29e9908c6a77",
   "metadata": {},
   "source": [
    "Problem 32: Reverse a given string.  \n",
    "Input: \"hello\"  \n",
    "Output: \"olleh\""
   ]
  },
  {
   "cell_type": "code",
   "execution_count": 40,
   "id": "723ae554-2f2f-4e1b-915b-f5740437e2f8",
   "metadata": {},
   "outputs": [
    {
     "name": "stdout",
     "output_type": "stream",
     "text": [
      "olleh"
     ]
    }
   ],
   "source": [
    "def Reverse(string):\n",
    "    for i in string[::-1]:\n",
    "        print(i ,end=\"\")\n",
    "        \n",
    "        \n",
    "Input = \"hello\"        \n",
    "Reverse(Input)"
   ]
  },
  {
   "cell_type": "code",
   "execution_count": null,
   "id": "8cf08dd6-328f-485e-a04c-9e674dcbe19e",
   "metadata": {},
   "outputs": [],
   "source": []
  }
 ],
 "metadata": {
  "kernelspec": {
   "display_name": "Python 3 (ipykernel)",
   "language": "python",
   "name": "python3"
  },
  "language_info": {
   "codemirror_mode": {
    "name": "ipython",
    "version": 3
   },
   "file_extension": ".py",
   "mimetype": "text/x-python",
   "name": "python",
   "nbconvert_exporter": "python",
   "pygments_lexer": "ipython3",
   "version": "3.10.8"
  }
 },
 "nbformat": 4,
 "nbformat_minor": 5
}
